{
 "cells": [
  {
   "cell_type": "markdown",
   "metadata": {},
   "source": [
    "# မြန်မာကျောင်းသားများအတွက် <br>အခြေခံ linux command များ"
   ]
  },
  {
   "cell_type": "markdown",
   "metadata": {},
   "source": [
    "Linux command တွေကို ကောင်းကောင်းသုံးတတ်ရင် ကွန်ပျူတာနဲ့ အလုပ်လုပ်တဲ့အခါမှာ ပိုပြီးမြန်ဆန်လာပါလိမ့်မယ်။  \n",
    "ဒီ tutorial က မြန်မာကျောင်းသားတွေအားလုံးအတွက် ရည်ရွယ်ပါတယ်။  \n",
    "အထူးသဖြင့် ကွန်ပျူတာတက္ကသိုလ်တွေ၊ အင်ဂျင်နီယာတက္ကသိုလ်တွေက မဟာဘွဲ့၊ ဒေါက်တာဘွဲ့ ယူဖို့ ရည်ရွယ်ထားကြသူတွေ၊ သုတေသနကို လုပ်ချင်ကြတဲ့ ကျောင်းသားတွေက linux command တွေကို ကျွမ်းကျင်စွာ သုံးနိုင်ကြရမယ်။ ဘာ့ကြောင့်လဲ ဆိုတော့ ခင်ဗျားတို့ linux ကို မသုံးလို့ကို မဖြစ်လို့ပါ။  \n",
    "\n",
    "သုတေသနအတွက်၊ လက်ရှိရှိနေပြီးသား သုတေသနပရိုပိုဇယ်တွေမှာသုံးထားကြတဲ့ ပရိုဂရမ်တွေ၊ မှီငြမ်းလို့ ရနိုင်မဲ့ နမူနာ prototype system တွေ၊ open source အနေနဲ့ ရရှိနိုင်တဲ့ source code အများစုကလည်း linux OS ပေါ်မှာပဲ develop လုပ်ကြတာမို့လို့ပါ။ နောက်ပြီးတော့ linux/unix command (သို့) command line interface (CLI) ကို အသုံးပြုရခြင်းရဲ့ အားသာတဲ့ အချက်တွေကို သိထားသင့်ပါတယ်။ အထူးသဖြင့် ဖိုင်တွေအများကြီး၊ ဒေတာတွေ အများကြီးနဲ့ အလုပ်လုပ်တဲ့ အခါမှာ CLI မှာမှ အဆင်ပြေပါတယ်။  \n",
    "\n",
    "linux command တွေကိုလေ့လာခြင်းဖြင့် ရရှိလာမဲ့ နောက်ဆက်တွဲဗဟုသုတနဲ့ အကျိုးကျေးဇူးတွေက ပြောပြလို့မကုန်အောင်ကို အများကြီးမို့လို့ပါ။ \n",
    "\n",
    "သို့သော် linux/unix command တွေက လေ့လာလို့ မကုန်နိုင်လောက်အောင်ကို များလွန်းအားကြီးပါတယ်။ Linux OS အပေါ်မှာ လက်တွေ့ အလုပ်လုပ်ရင်းနဲ့မှ command တွေကို တဖြည်းဖြည်းမှတ်မိလာပြီး၊ ကိုယ်လုပ်ချင်တဲ့ အလုပ်တွေကို အဆင်ပြေပြေနဲ့ လုပ်ဆောင်နိုင်ပါတယ်။ အဲဒီအတွက်က အချိန်တော်တော်ကြာကြာယူရပြီး အပင်ပန်းခံလေ့လာရပါတယ်။ Linux နဲ့ပတ်သက်တဲ့ စာအုပ်ကောင်းတွေအများကြီး ရှိပေမဲ့ အင်္ဂလိပ်လို ဖြစ်တာကတစ်ကြောင်း၊ စာအုပ်အများစုက ပျမ်းမျှအားဖြင့် စာမျက်နှာ ၆၀၀/၇၀၀ လောက်ရှိပြီး တစ်အုပ်တည်းနဲ့လည်း မလုံလောက်ပါဘူး။ အဲဒါကြောင့် ပထမဆုံးအဆင့်အနေနဲ့ လက်တွေ့မှာ အသုံးဝင်မဲ့၊ မသိမဖြစ်သိသင့်တဲ့ command တွေကို အသုံးများတဲ့ option တွေကိုပဲ သုံးပြီး မြန်မာလို ကြိုးစားပြီး ရှင်းပြထားပါတယ်။ Command တွေကို လက်တွေ့ စမ်းရိုက်၊ မော်နီတာစကရင်မှာ မြင်ရတဲ့ output တွေကို လေ့လာကြည့်ရင်း၊ မြန်မြန်ဆန်ဆန် နားလည်ပြီး၊ ကိုယ်လုပ်ချင်တဲ့ သုတေသနအလုပ်တွေအတွက် စတင်အသုံးပြုနိုင်ဖို့ကို အဓိက ရည်ရွယ်ပါတယ်။ 　\n",
    "\n",
    "Jupyter notebook ကို အသုံးပြုထားတာကြောင့် ကိုယ်ရဲ့စက်ထဲမှာ Python, Jupyter notebook နဲ့ Jupyter notebook အတွက် bash kernel ကို install လုပ်ပြီးသွားရင်၊ ကျွန်တော်ပြင်ပေးထားတဲ့ ဒီ notebook ကို browser တစ်ခု အပေါ်မှာဖွင့်ကြည့်ပြီး လေ့လာလို့ ရပါပြီ။ command တစ်ခုချင်းစီကိုလည်း run ချင်ရင် shift+enter နှိပ်ပြီး run ကြည့်လို့ ရပါတယ်။ တစ်ခု သတိထားရမှာက ကျွန်တော်ပြင်ပေးထားတဲ့ \"linux-cmd/\" folder အထဲကို ဝင်ပြီး \"jupyter notebook\" command ကို run မှသာ ကျွန်တော် run ပြထားတဲ့ output တွေနဲ့ တူမှာ ဖြစ်ပါတယ်။ \n",
    "\n",
    "Linux command တွေကို ပထမဆုံးလေ့လာမယ့်သူဆိုရင်တော့ command တွေကို နံပါတ်အစီအစဉ်အတိုင်း လေ့လာသွားပါလို့ အကြံပေးချင်ပါတယ်။ \n",
    "ဒီ Jupyter notebook ကို လိုအပ်လာတဲ့အခါမှာ update တချို့လုပ်သွားမယ်ဆိုတဲ့ အချက်ကိုတော့ နားလည်ပေးပါ။  \n",
    "\n",
    "\n",
    "\n",
    "## 1. ls (list directory contents)\n",
    " လက်ရှိ ရောက်နေတဲ့ ဖိုလ်ဒါ မှာရှိတဲ့ ဖိုင်တွေ၊ ဖိုလ်ဒါတွေကို ကြည်ချင်ရင်"
   ]
  },
  {
   "cell_type": "code",
   "execution_count": 2,
   "metadata": {},
   "outputs": [
    {
     "name": "stdout",
     "output_type": "stream",
     "text": [
      "\u001b[0m\u001b[01;35mall-vi-info.jpg\u001b[0m      \u001b[01;34mfolder-athit\u001b[0m              myanmar-food.txt.bak\n",
      "all-vi-info.txt      \u001b[01;34mfolder-new\u001b[0m                newfile\n",
      "binary.gv            \u001b[01;34mfolderA\u001b[0m                   news\n",
      "city                 \u001b[01;34mfolderB\u001b[0m                   numbers.txt\n",
      "coin-flip.py         \u001b[01;35mfruit-orange.jpg\u001b[0m          otest\n",
      "commands-random.txt  fruit-orange.txt          otest.tag\n",
      "commands-sort.txt    \u001b[01;35mfruit.jpg\u001b[0m                 otest.word\n",
      "commands.txt         fruit.txt                 pos-tags-15.txt\n",
      "ctest2               hash.gv                   pos-tags.txt\n",
      "ctest2.tag           \u001b[01;35mhash.png\u001b[0m                  process.gv\n",
      "ctest2.word          item-list                 process.pdf\n",
      "\u001b[01;34mdata1\u001b[0m                linux-commands.aux        \u001b[01;35mprocess.png\u001b[0m\n",
      "\u001b[01;34mdata2\u001b[0m                linux-commands.ipynb      \u001b[01;35mrandom.jpg\u001b[0m\n",
      "\u001b[01;34mdata3\u001b[0m                linux-commands.ipynb.bak  random.txt\n",
      "\u001b[01;34mdata4\u001b[0m                linux-commands.log        rank.txt\n",
      "\u001b[01;34mdata5\u001b[0m                linux-commands.out        ranking.awk\n",
      "echo                 linux-commands.pdf        \u001b[01;34mscreen\u001b[0m\n",
      "empty-file.txt       linux-commands.tex        sed.check\n",
      "en-no.data           \u001b[01;32mloop.sh\u001b[0m                   sorted-names\n",
      "en-no2-random.data   ls.out                    test\n",
      "en-no2.data          \u001b[01;32mmk-wordtag.pl\u001b[0m             tmp\n",
      "fileA                my-news                   training.log\n",
      "\u001b[01;35mfileA.jpg\u001b[0m            my-no.data                \u001b[01;32mtxt2jpg.sh\u001b[0m\n",
      "fileB                \u001b[01;35mmyanmar-food.jpg\u001b[0m          \u001b[01;34mwildcard\u001b[0m\n",
      "fmt.out              myanmar-food.txt\n"
     ]
    }
   ],
   "source": [
    "ls"
   ]
  },
  {
   "cell_type": "markdown",
   "metadata": {},
   "source": [
    "လက်ရှိရောက်နေတဲ့ ဖိုလ်ဒါအောက်မှာ ရှိတာတွေကို ရိုက်ပြပါလိမ့်မယ်။  \n",
    "\n",
    "အဲဒီ နာမည်တွေက ဖိုင်တွေလည်းဖြစ်နိုင်သလို၊ ဖိုလ်ဒါတွေကော မဖြစ်နိုင်ဘူးလားလို့ မေးရင်၊ Linux OS မှာက ဖိုလ်ဒါဆိုရင် နာမည်နောက်က \"/\" (forward slash) လိုက်တယ်။\n",
    "ပုံမှန်အားဖြင့်က setting မလုပ်ထားရင် \"/\" ကိုတွဲမပြဘူး။ ဘာကြောင့်လဲ ဆိုတော့ တကယ်တမ်းက ဖိုင်နဲ့ ဖိုလ်ဒါနဲ့က အရောင်မတူဘူး။ အဲဒါကြောင့် အရောင်ကို ကြည့်ပြီး ဖိုင်လား၊ ဖိုလ်ဒါလားက သိသာလို့ပါ။    \n",
    "\n",
    "ဖိုလ်ဒါ အသစ် တစ်ခုဆောက်ချင်ရင် mkdir ဆိုတဲ့ command ကိုသုံးတယ်။"
   ]
  },
  {
   "cell_type": "code",
   "execution_count": 4,
   "metadata": {
    "collapsed": true
   },
   "outputs": [],
   "source": [
    "mkdir folder-athit"
   ]
  },
  {
   "cell_type": "markdown",
   "metadata": {},
   "source": [
    "ls command ကိုပြန်ရိုက်ကြည့်မယ်။ ဆောက်လိုက်တဲ့ ဖိုလ်ဒါအသစ် folder-athit ကိုမြင်ရလိမ့်မယ်။  \n",
    "\n",
    "ဖိုလ်ဒါတွေကို \"/\" နဲ့တွဲပြစေချင်ရင် ls command ကို option \"-p\" ထည့်ပြီး run ကြည့်ပါ။"
   ]
  },
  {
   "cell_type": "code",
   "execution_count": 5,
   "metadata": {},
   "outputs": [
    {
     "name": "stdout",
     "output_type": "stream",
     "text": [
      "\u001b[0m\u001b[01;35mall-vi-info.jpg\u001b[0m      \u001b[01;34mfolder-athit\u001b[0m/             myanmar-food.txt.bak\n",
      "all-vi-info.txt      \u001b[01;34mfolder-new\u001b[0m/               newfile\n",
      "binary.gv            \u001b[01;34mfolderA\u001b[0m/                  news\n",
      "city                 \u001b[01;34mfolderB\u001b[0m/                  numbers.txt\n",
      "coin-flip.py         \u001b[01;35mfruit-orange.jpg\u001b[0m          otest\n",
      "commands-random.txt  fruit-orange.txt          otest.tag\n",
      "commands-sort.txt    \u001b[01;35mfruit.jpg\u001b[0m                 otest.word\n",
      "commands.txt         fruit.txt                 pos-tags-15.txt\n",
      "ctest2               hash.gv                   pos-tags.txt\n",
      "ctest2.tag           \u001b[01;35mhash.png\u001b[0m                  process.gv\n",
      "ctest2.word          item-list                 process.pdf\n",
      "\u001b[01;34mdata1\u001b[0m/               linux-commands.aux        \u001b[01;35mprocess.png\u001b[0m\n",
      "\u001b[01;34mdata2\u001b[0m/               linux-commands.ipynb      \u001b[01;35mrandom.jpg\u001b[0m\n",
      "\u001b[01;34mdata3\u001b[0m/               linux-commands.ipynb.bak  random.txt\n",
      "\u001b[01;34mdata4\u001b[0m/               linux-commands.log        rank.txt\n",
      "\u001b[01;34mdata5\u001b[0m/               linux-commands.out        ranking.awk\n",
      "echo                 linux-commands.pdf        \u001b[01;34mscreen\u001b[0m/\n",
      "empty-file.txt       linux-commands.tex        sed.check\n",
      "en-no.data           \u001b[01;32mloop.sh\u001b[0m                   sorted-names\n",
      "en-no2-random.data   ls.out                    test\n",
      "en-no2.data          \u001b[01;32mmk-wordtag.pl\u001b[0m             tmp\n",
      "fileA                my-news                   training.log\n",
      "\u001b[01;35mfileA.jpg\u001b[0m            my-no.data                \u001b[01;32mtxt2jpg.sh\u001b[0m\n",
      "fileB                \u001b[01;35mmyanmar-food.jpg\u001b[0m          \u001b[01;34mwildcard\u001b[0m/\n",
      "fmt.out              myanmar-food.txt\n"
     ]
    }
   ],
   "source": [
    "ls -p"
   ]
  },
  {
   "cell_type": "markdown",
   "metadata": {},
   "source": [
    "ဖိုလ်ဒါ ဖြစ်တဲ့ folder-athit ရဲ့နောက်မှာ \"/\" ပါလာတာကို တွေ့ရလိမ့်မယ်။  \n",
    "\n",
    "ဖိုင်အမျိုးအစားတွေကို အသေးစိတ်ပြပေးစေချင်ရင် \"-F\" option ကိုသုံးပြီးကြည့်တယ်။"
   ]
  },
  {
   "cell_type": "code",
   "execution_count": 6,
   "metadata": {},
   "outputs": [
    {
     "name": "stdout",
     "output_type": "stream",
     "text": [
      "\u001b[0m\u001b[01;32m/usr/bin/rake\u001b[0m*              \u001b[01;36m/usr/bin/rmid\u001b[0m@\n",
      "\u001b[01;36m/usr/bin/ranlib\u001b[0m@            \u001b[01;36m/usr/bin/rmiregistry\u001b[0m@\n",
      "\u001b[01;32m/usr/bin/rasttopnm\u001b[0m*         \u001b[01;32m/usr/bin/rosdep\u001b[0m*\n",
      "\u001b[01;32m/usr/bin/rawtopgm\u001b[0m*          \u001b[01;32m/usr/bin/rosdep-source\u001b[0m*\n",
      "\u001b[01;32m/usr/bin/rawtoppm\u001b[0m*          \u001b[01;32m/usr/bin/rosdistro_build_cache\u001b[0m*\n",
      "\u001b[01;36m/usr/bin/rcc\u001b[0m@               \u001b[01;32m/usr/bin/rosdistro_freeze_source\u001b[0m*\n",
      "\u001b[01;36m/usr/bin/rcp\u001b[0m@               \u001b[01;32m/usr/bin/rosdistro_migrate_to_rep_141\u001b[0m*\n",
      "\u001b[01;32m/usr/bin/rctest\u001b[0m*            \u001b[01;32m/usr/bin/rosdistro_migrate_to_rep_143\u001b[0m*\n",
      "\u001b[01;36m/usr/bin/rdoc\u001b[0m@              \u001b[01;32m/usr/bin/rosdistro_reformat\u001b[0m*\n",
      "\u001b[01;32m/usr/bin/rdoc2.3\u001b[0m*           \u001b[01;32m/usr/bin/rosversion\u001b[0m*\n",
      "\u001b[01;36m/usr/bin/readelf\u001b[0m@           \u001b[01;32m/usr/bin/routef\u001b[0m*\n",
      "\u001b[01;32m/usr/bin/realpath\u001b[0m*          \u001b[01;32m/usr/bin/routel\u001b[0m*\n",
      "\u001b[01;36m/usr/bin/rec\u001b[0m@               \u001b[01;32m/usr/bin/rpcgen\u001b[0m*\n",
      "\u001b[01;32m/usr/bin/recode-sr-latin\u001b[0m*   \u001b[01;36m/usr/bin/rpdfcrop\u001b[0m@\n",
      "\u001b[01;32m/usr/bin/recountdiff\u001b[0m*       \u001b[01;36m/usr/bin/rsh\u001b[0m@\n",
      "\u001b[01;32m/usr/bin/rediff\u001b[0m*            \u001b[01;36m/usr/bin/rst-buildhtml\u001b[0m@\n",
      "\u001b[01;32m/usr/bin/remmina\u001b[0m*           \u001b[01;36m/usr/bin/rst2html\u001b[0m@\n",
      "\u001b[01;36m/usr/bin/rename\u001b[0m@            \u001b[01;36m/usr/bin/rst2latex\u001b[0m@\n",
      "\u001b[01;32m/usr/bin/rename.ul\u001b[0m*         \u001b[01;36m/usr/bin/rst2man\u001b[0m@\n",
      "\u001b[01;32m/usr/bin/rendercheck\u001b[0m*       \u001b[01;36m/usr/bin/rst2odt\u001b[0m@\n",
      "\u001b[01;32m/usr/bin/renice\u001b[0m*            \u001b[01;36m/usr/bin/rst2odt_prepstyles\u001b[0m@\n",
      "\u001b[01;36m/usr/bin/repstopdf\u001b[0m@         \u001b[01;36m/usr/bin/rst2pseudoxml\u001b[0m@\n",
      "\u001b[01;36m/usr/bin/reset\u001b[0m@             \u001b[01;36m/usr/bin/rst2s5\u001b[0m@\n",
      "\u001b[01;32m/usr/bin/resize\u001b[0m*            \u001b[01;36m/usr/bin/rst2xetex\u001b[0m@\n",
      "\u001b[01;32m/usr/bin/resizecons\u001b[0m*        \u001b[01;36m/usr/bin/rst2xml\u001b[0m@\n",
      "\u001b[01;32m/usr/bin/resizepart\u001b[0m*        \u001b[01;32m/usr/bin/rstart\u001b[0m*\n",
      "\u001b[01;32m/usr/bin/rev\u001b[0m*               \u001b[01;32m/usr/bin/rstartd\u001b[0m*\n",
      "\u001b[01;32m/usr/bin/rfcomm\u001b[0m*            \u001b[01;36m/usr/bin/rstpep2html\u001b[0m@\n",
      "\u001b[01;32m/usr/bin/rgb3toppm\u001b[0m*         \u001b[01;32m/usr/bin/rsync\u001b[0m*\n",
      "\u001b[01;32m/usr/bin/rgrep\u001b[0m*             \u001b[01;36m/usr/bin/rtstat\u001b[0m@\n",
      "\u001b[01;32m/usr/bin/rhythmbox\u001b[0m*         \u001b[01;36m/usr/bin/ruby\u001b[0m@\n",
      "\u001b[01;32m/usr/bin/rhythmbox-client\u001b[0m*  \u001b[01;32m/usr/bin/ruby2.3\u001b[0m*\n",
      "\u001b[01;36m/usr/bin/ri\u001b[0m@                \u001b[01;32m/usr/bin/run-mailcap\u001b[0m*\n",
      "\u001b[01;32m/usr/bin/ri2.3\u001b[0m*             \u001b[01;32m/usr/bin/run-with-aspell\u001b[0m*\n",
      "\u001b[01;36m/usr/bin/rimraf\u001b[0m@            \u001b[01;32m/usr/bin/runcon\u001b[0m*\n",
      "\u001b[01;32m/usr/bin/rletopnm\u001b[0m*          \u001b[01;36m/usr/bin/rview\u001b[0m@\n",
      "\u001b[01;36m/usr/bin/rlogin\u001b[0m@            \u001b[01;36m/usr/bin/rvim\u001b[0m@\n"
     ]
    }
   ],
   "source": [
    " ls -F /usr/bin/r*"
   ]
  },
  {
   "cell_type": "markdown",
   "metadata": {},
   "source": [
    "\"-F\" option နဲ့ /usr/bin/ ဖိုလ်ဒါအောက်မှာရှိတဲ့ \"r\" စာလုံးနဲ့စတဲ့ ဖိုင်တွေကို ပြခိုင်းတဲ့ အခါမှာ ဖိုင်နာမည်တွေရဲ့ နောက်မှာ @ နဲ့ \\* အမှတ်အသားတွေပါလာတာကို တွေ့ရပါ လိမ့်မယ်။ \\* အမှတ်အသားက executable လုပ်လို့ရတဲ့ဖိုင်၊ run လို့ရတဲ့ ဖိုင်ကို ဆိုလိုပြီး၊ @ အမှတ်အသားကတော့ symbolic link အနေနဲ့ ချိတ်ထားတဲ့ ဖိုင်လို့ ဆိုလိုတာပါ။  \n",
    "\n",
    "symbolic link ကိစ္စကိုတော့ နောက်ပိုင်းမှာ ln command ကို သင်တဲ့အခါ ရှင်းပါမယ်။ အခုလောလောဆယ်တော့ ls command ရဲ့ \"-F\" option နဲ့ပတ်သတ်တာကိုပဲ အာရုံစိုက်ကြရအောင်။  \n",
    "\n",
    "\"-F\" option က \\* နဲ့ @ အမှတ်အသားတွေ အပြင်၊ အောက်ပါ အမှတ်အသားတွေကိုလဲ ဖိုင်အမျိုးအစားပေါ်မူတည်ပြီး ပြပေးပါလိမ့်မယ်။  \n",
    "\n",
    "/ ဖိုလ်ဒါ  \n",
    "| named pipe ဖိုင်အမျိုးအစား။ FIFO (First In, First Out) ဖိုင်လို့လဲ ခေါ်တယ်။ နောက်ပိုင်းမှာ အသေးစိတ်ရှင်းပြမယ်။  \n",
    "= socket ဖိုင်  \n",
    "\\> door ဖိုင်အမျိုးအစားပါ။ Linux မှာ မသုံးပါဘူး။ Sun/Solaris Unix system မှာသုံးတယ်။  \n",
    "\n",
    "ဖွက်ထားတဲ့ ဖိုင်တွေကို ကြည့်ချင်ရင် ls command ရဲ့ option တခုဖြစ်တဲ့ \"-a\" သုံးတယ်။"
   ]
  },
  {
   "cell_type": "code",
   "execution_count": 7,
   "metadata": {},
   "outputs": [
    {
     "name": "stdout",
     "output_type": "stream",
     "text": [
      "\u001b[0m\u001b[01;34m.\u001b[0m                    \u001b[01;35mfileA.jpg\u001b[0m                 \u001b[01;35mmyanmar-food.jpg\u001b[0m\n",
      "\u001b[01;34m..\u001b[0m                   fileB                     myanmar-food.txt\n",
      ".fileC               fmt.out                   myanmar-food.txt.bak\n",
      "\u001b[01;34m.ipynb_checkpoints\u001b[0m   \u001b[01;34mfolder-athit\u001b[0m              newfile\n",
      "\u001b[01;35mall-vi-info.jpg\u001b[0m      \u001b[01;34mfolder-new\u001b[0m                news\n",
      "all-vi-info.txt      \u001b[01;34mfolderA\u001b[0m                   numbers.txt\n",
      "binary.gv            \u001b[01;34mfolderB\u001b[0m                   otest\n",
      "city                 \u001b[01;35mfruit-orange.jpg\u001b[0m          otest.tag\n",
      "coin-flip.py         fruit-orange.txt          otest.word\n",
      "commands-random.txt  \u001b[01;35mfruit.jpg\u001b[0m                 pos-tags-15.txt\n",
      "commands-sort.txt    fruit.txt                 pos-tags.txt\n",
      "commands.txt         hash.gv                   process.gv\n",
      "ctest2               \u001b[01;35mhash.png\u001b[0m                  process.pdf\n",
      "ctest2.tag           item-list                 \u001b[01;35mprocess.png\u001b[0m\n",
      "ctest2.word          linux-commands.aux        \u001b[01;35mrandom.jpg\u001b[0m\n",
      "\u001b[01;34mdata1\u001b[0m                linux-commands.ipynb      random.txt\n",
      "\u001b[01;34mdata2\u001b[0m                linux-commands.ipynb.bak  rank.txt\n",
      "\u001b[01;34mdata3\u001b[0m                linux-commands.log        ranking.awk\n",
      "\u001b[01;34mdata4\u001b[0m                linux-commands.out        \u001b[01;34mscreen\u001b[0m\n",
      "\u001b[01;34mdata5\u001b[0m                linux-commands.pdf        sed.check\n",
      "echo                 linux-commands.tex        sorted-names\n",
      "empty-file.txt       \u001b[01;32mloop.sh\u001b[0m                   test\n",
      "en-no.data           ls.out                    tmp\n",
      "en-no2-random.data   \u001b[01;32mmk-wordtag.pl\u001b[0m             training.log\n",
      "en-no2.data          my-news                   \u001b[01;32mtxt2jpg.sh\u001b[0m\n",
      "fileA                my-no.data                \u001b[01;34mwildcard\u001b[0m\n"
     ]
    }
   ],
   "source": [
    "ls -a"
   ]
  },
  {
   "cell_type": "markdown",
   "metadata": {},
   "source": [
    "အထက်မှာ မြင်ခဲ့ရတာနဲ့ မတူတာက \".\" ရယ်၊ \"..\" ရယ်၊ \".fileC\" ရယ် ဆိုတာကို သတိပြုမိလိမ့်မယ်။  \n",
    "\".\" က လက်ရှိရောက်နေတဲ့ path ကို ညွှန်းတဲ့ အခါမှာ သုံးတယ်။  \n",
    "\"..\" က လက်ရှိရောက်နေတဲ့ path ကနေ အထက်တဆင့်မှာရှိတဲ့  path ကိုညွှန်းတဲ့ အခါမှာ အသုံးပြုတယ်။ (နောက်ပိုင်းမှာ cd command နဲ့အတူရှင်းပြပါမယ်)  \n",
    "\n",
    "\".fileC\" နဲ့ \".ipynb_checkpoints\" ဖိုင်က ဖွက်ထားတဲ့ ဖိုင်ပါ။ အများသောအားဖြင့် ဖွက်ထားတဲ့ ဖိုင်တွေက application (သို့မဟုတ်) shell တို့ရဲ့ setting ဖိုင်တွေ ဖြစ်ကြပါတယ်။ Linux OS မှာက \".\" နဲ့စတဲ့ ဖိုင်နာမည်တွေဆိုရင် ls command က ပြမပေးပါဘူး။ မှားပြီး ဖျက်မိတာမျိုး၊ ဝင်ပြင်ရေးမိတဲ့ အမှားတွေကို လျော့နည်းစေဖို့ ရည်ရွယ်ပါတယ်။  \n",
    "\n",
    "ဖိုင်တွေ၊ ဖိုလ်ဒါတွေ ရဲ့ information ကိုအသေးစိတ်ပြပေးစေချင်ရင် ls command ကို \"-l\" option နဲ့တွဲရိုက်ကြည့်ပါ။"
   ]
  },
  {
   "cell_type": "code",
   "execution_count": 8,
   "metadata": {},
   "outputs": [
    {
     "name": "stdout",
     "output_type": "stream",
     "text": [
      "合計 6880\n",
      "-rw-rw-r-- 1 lar lar  339016  8月 27  2017 \u001b[0m\u001b[01;35mall-vi-info.jpg\u001b[0m\n",
      "-rw-rw-r-- 1 lar lar   16937  8月 11  2017 all-vi-info.txt\n",
      "-rw-rw-r-- 1 lar lar     141  8月 27  2017 binary.gv\n",
      "-rw-rw-r-- 1 lar lar     104  9月  3 13:07 city\n",
      "-rw-rw-r-- 1 lar lar    1855  1月  8 13:21 coin-flip.py\n",
      "-rw-rw-r-- 1 lar lar     116  9月  3 15:42 commands-random.txt\n",
      "-rw-rw-r-- 1 lar lar      65  9月  3 16:11 commands-sort.txt\n",
      "-rw-rw-r-- 1 lar lar      65  2月  1 09:31 commands.txt\n",
      "-rw-rw-r-- 1 lar lar   84001  9月  2 08:07 ctest2\n",
      "-rw-rw-r-- 1 lar lar   16401  9月  2 08:13 ctest2.tag\n",
      "-rw-rw-r-- 1 lar lar       0  9月  2 08:13 ctest2.word\n",
      "drwxrwxr-x 2 lar lar    4096  8月 11  2017 \u001b[01;34mdata1\u001b[0m\n",
      "drwxrwxr-x 2 lar lar    4096  8月 11  2017 \u001b[01;34mdata2\u001b[0m\n",
      "drwxrwxr-x 2 lar lar    4096  8月 11  2017 \u001b[01;34mdata3\u001b[0m\n",
      "drwxrwxr-x 2 lar lar    4096  8月 11  2017 \u001b[01;34mdata4\u001b[0m\n",
      "drwxrwxr-x 2 lar lar    4096  8月 11  2017 \u001b[01;34mdata5\u001b[0m\n",
      "-rw-rw-r-- 1 lar lar       0  8月 11  2017 echo\n",
      "-rw-rw-r-- 1 lar lar       0  9月  1 22:46 empty-file.txt\n",
      "-rw-rw-r-- 1 lar lar      48  9月  3 14:53 en-no.data\n",
      "-rw-rw-r-- 1 lar lar      48  9月  3 15:18 en-no2-random.data\n",
      "-rw-rw-r-- 1 lar lar      48  9月  3 15:00 en-no2.data\n",
      "-rw-rw-r-- 1 lar lar      67  9月  2 08:32 fileA\n",
      "-rw-rw-r-- 1 lar lar   16509  8月 27  2017 \u001b[01;35mfileA.jpg\u001b[0m\n",
      "-rw-rw-r-- 1 lar lar      61  8月 11  2017 fileB\n",
      "-rw-rw-r-- 1 lar lar    3117  8月 11  2017 fmt.out\n",
      "drwxrwxr-x 2 lar lar    4096  3月  2 15:08 \u001b[01;34mfolder-athit\u001b[0m\n",
      "drwxrwxr-x 3 lar lar    4096  8月 11  2017 \u001b[01;34mfolder-new\u001b[0m\n",
      "drwxrwxr-x 2 lar lar    4096  8月 11  2017 \u001b[01;34mfolderA\u001b[0m\n",
      "drwxrwxr-x 2 lar lar    4096  8月 11  2017 \u001b[01;34mfolderB\u001b[0m\n",
      "-rw-rw-r-- 1 lar lar   13494  8月 27  2017 \u001b[01;35mfruit-orange.jpg\u001b[0m\n",
      "-rw-rw-r-- 1 lar lar      51  9月  9 11:36 fruit-orange.txt\n",
      "-rw-rw-r-- 1 lar lar   12973  8月 27  2017 \u001b[01;35mfruit.jpg\u001b[0m\n",
      "-rw-rw-r-- 1 lar lar      47  8月 18  2017 fruit.txt\n",
      "-rw-rw-r-- 1 lar lar     607  8月 27  2017 hash.gv\n",
      "-rw-rw-r-- 1 lar lar   13136  8月 27  2017 \u001b[01;35mhash.png\u001b[0m\n",
      "-rw-rw-r-- 1 lar lar      51  9月  2 08:30 item-list\n",
      "-rw-rw-r-- 1 lar lar   14017  8月 27  2017 linux-commands.aux\n",
      "-rw-rw-r-- 1 lar lar  665091  3月  2 15:10 linux-commands.ipynb\n",
      "-rw-rw-r-- 1 lar lar  644048 12月 27 19:22 linux-commands.ipynb.bak\n",
      "-rw-rw-r-- 1 lar lar 2913744  8月 27  2017 linux-commands.log\n",
      "-rw-rw-r-- 1 lar lar    5096  8月 27  2017 linux-commands.out\n",
      "-rw------- 1 lar lar  771468  9月  1 23:28 linux-commands.pdf\n",
      "-rw-rw-r-- 1 lar lar  357670  8月 27  2017 linux-commands.tex\n",
      "-rwxrwxr-x 1 lar lar      69 12月 27 18:21 \u001b[01;32mloop.sh\u001b[0m\n",
      "-rw-rw-r-- 1 lar lar     177  8月 11  2017 ls.out\n",
      "-rwxrwxr-x 1 lar lar    3964  9月  2 08:12 \u001b[01;32mmk-wordtag.pl\u001b[0m\n",
      "-rw-rw-r-- 1 lar lar    3117  8月 11  2017 my-news\n",
      "-rw-rw-r-- 1 lar lar      90  9月  3 14:53 my-no.data\n",
      "-rw-rw-r-- 1 lar lar   11380  8月 27  2017 \u001b[01;35mmyanmar-food.jpg\u001b[0m\n",
      "-rw-rw-r-- 1 lar lar      38  9月  2 08:27 myanmar-food.txt\n",
      "-rw-rw-r-- 1 lar lar      32  9月  2 08:27 myanmar-food.txt.bak\n",
      "-rw-rw-r-- 1 lar lar       0  2月  3  2015 newfile\n",
      "-rw-rw-r-- 1 lar lar    4246  8月 11  2017 news\n",
      "-rw-rw-r-- 1 lar lar      52  8月 31  2017 numbers.txt\n",
      "-rw-r--r-- 1 lar lar  377269  8月 11  2017 otest\n",
      "-rw-r--r-- 1 lar lar   73420  8月 11  2017 otest.tag\n",
      "-rw-r--r-- 1 lar lar  303849  8月 11  2017 otest.word\n",
      "-rw-rw-r-- 1 lar lar      49  9月  3 18:15 pos-tags-15.txt\n",
      "-rw-rw-r-- 1 lar lar   73420  9月  3 18:12 pos-tags.txt\n",
      "-rw-rw-r-- 1 lar lar     365  8月 27  2017 process.gv\n",
      "-rw-rw-r-- 1 lar lar   14251  8月 27  2017 process.pdf\n",
      "-rw-rw-r-- 1 lar lar   38814  8月 27  2017 \u001b[01;35mprocess.png\u001b[0m\n",
      "-rw-rw-r-- 1 lar lar   16694  8月 27  2017 \u001b[01;35mrandom.jpg\u001b[0m\n",
      "-rw-rw-r-- 1 lar lar      67  8月 15  2017 random.txt\n",
      "-rw-rw-r-- 1 lar lar     812  9月  9 22:07 rank.txt\n",
      "-rw-rw-r-- 1 lar lar     162  9月  9 21:32 ranking.awk\n",
      "drwxrwxr-x 2 lar lar    4096  1月 23 15:05 \u001b[01;34mscreen\u001b[0m\n",
      "-rw-rw-r-- 1 lar lar      38  8月 28  2017 sed.check\n",
      "-rw-rw-r-- 1 lar lar      68  9月  3 12:35 sorted-names\n",
      "-rw-rw-r-- 1 lar lar      53  3月  1 13:52 test\n",
      "-rw-rw-r-- 1 lar lar      80  8月 27  2017 tmp\n",
      "-rw-rw-r-- 1 lar lar       0 10月 29 21:28 training.log\n",
      "-rwxrwxr-x 1 lar lar     222  8月 27  2017 \u001b[01;32mtxt2jpg.sh\u001b[0m\n",
      "drwxrwxr-x 2 lar lar    4096  9月  2 08:42 \u001b[01;34mwildcard\u001b[0m\n"
     ]
    }
   ],
   "source": [
    "ls -l"
   ]
  },
  {
   "cell_type": "markdown",
   "metadata": {},
   "source": [
    "ဘာတွေပြနေသလဲ ဆိုတော့  \n",
    "\n",
    "\"-rw-rw-r-- 1 lar lar     67  8月 11 11:14 fileA\" ဆိုတဲ့ စာကြောင်းမှာ  \n",
    "ပထမဆုံး စာလုံး \"-\" (dash) က ပုံမှန်ဖိုင် လို့ဆိုလိုတယ်။  \n",
    "အဲဒီနေရာမှာ \"d\" ဆိုရင် directory (or) folder လို့ဆိုလိုတယ်။  \n",
    "rw-rw-r-- (စာလုံး ၉လုံး) က ဖိုင်နဲ့ ပတ်သက်တဲ့ permission တွေကို ပြပေးတာ။  \n",
    "ဘယ်သူက၊ ဘယ်အုပ်စုက ဒီဖိုင်ကို ဖတ်လို့ရတယ် ဆိုတာကို \"r\" (read) နဲ့၊ ဝင်ပြင်လို့ရတယ် ဆိုတာကို \"w\" (write) နဲ့၊ ပရိုဂရမ်အနေနဲ့ execute (or) run လုပ်လို့ရတယ် ဆိုတာကို \"x\" သင်္ကေတနဲ့ ပြပေးလိမ့်မယ်။  \n",
    "1 ဆိုတာက link ဘယ်နှစ်ခုရှိနေသလဲ ဆိုတာကို ပြပေးတာ။  \n",
    "ပထမဆုံးတွေ့ရတဲ့ lar က ဖိုင်ရဲ့ ပိုင်ရှင်က ဘယ်သူလဲ (သို့) ဘယ် acount name လဲ ဆိုတာကို ပြပေးတာ။ ကျွန်တော်လက်ရှိသုံးနေတဲ့ ကွန်ပျူတာရဲ့ account name က lar (language acquisition researcher ရဲ့ အတိုကောက်) ဆိုတဲ့ နာမည်ကို ပေးထားလို့။   \n",
    "\n",
    "ဒုတိယတွေ့ရတဲ့ lar က ဘယ်အုပ်စု (group) နဲဆိုင်တယ် ဆိုတာကိုပြပေးတာ။  \n",
    "67 ဆိုတာက ဖိုင်ရဲ့ အရွယ်အစား (size) ကို bit နဲ့ပြပေးတာ။  \n",
    "ဥပမာ 1 KB = 1024 bits, 1 MB = 1024 KB။  \n",
    "\n",
    "\"8月 11 11:14\" ဆိုတာက ဖိုင်ကို နောက်ဆုံးပြင်ခဲ့တဲ့ လ၊ ရက်၊ နာရီကို ပြောနေတာ။  \n",
    "မပြောလဲ မြင်မှာပါ။  \"fileA\" ဆိုတာက ဖိုင်နာမည်ပါ။  \n"
   ]
  },
  {
   "cell_type": "markdown",
   "metadata": {},
   "source": [
    "size ကြီးတဲ့ အစီအစဉ်အတိုင်း ပြပေးစေချင်ရင် option \"-S\" ကိုသုံးတယ်။  \n",
    "ဖိုင် Size အကြီးဆုံးက ထိပ်ဆုံးမှာ ရှိပါလိမ့်မယ်။  "
   ]
  },
  {
   "cell_type": "code",
   "execution_count": 9,
   "metadata": {},
   "outputs": [
    {
     "name": "stdout",
     "output_type": "stream",
     "text": [
      "合計 6880\n",
      "-rw-rw-r-- 1 lar lar 2913744  8月 27  2017 linux-commands.log\n",
      "-rw------- 1 lar lar  771468  9月  1 23:28 linux-commands.pdf\n",
      "-rw-rw-r-- 1 lar lar  666903  3月  2 15:14 linux-commands.ipynb\n",
      "-rw-rw-r-- 1 lar lar  644048 12月 27 19:22 linux-commands.ipynb.bak\n",
      "-rw-r--r-- 1 lar lar  377269  8月 11  2017 otest\n",
      "-rw-rw-r-- 1 lar lar  357670  8月 27  2017 linux-commands.tex\n",
      "-rw-rw-r-- 1 lar lar  339016  8月 27  2017 \u001b[0m\u001b[01;35mall-vi-info.jpg\u001b[0m\n",
      "-rw-r--r-- 1 lar lar  303849  8月 11  2017 otest.word\n",
      "-rw-rw-r-- 1 lar lar   84001  9月  2 08:07 ctest2\n",
      "-rw-r--r-- 1 lar lar   73420  8月 11  2017 otest.tag\n",
      "-rw-rw-r-- 1 lar lar   73420  9月  3 18:12 pos-tags.txt\n",
      "-rw-rw-r-- 1 lar lar   38814  8月 27  2017 \u001b[01;35mprocess.png\u001b[0m\n",
      "-rw-rw-r-- 1 lar lar   16937  8月 11  2017 all-vi-info.txt\n",
      "-rw-rw-r-- 1 lar lar   16694  8月 27  2017 \u001b[01;35mrandom.jpg\u001b[0m\n",
      "-rw-rw-r-- 1 lar lar   16509  8月 27  2017 \u001b[01;35mfileA.jpg\u001b[0m\n",
      "-rw-rw-r-- 1 lar lar   16401  9月  2 08:13 ctest2.tag\n",
      "-rw-rw-r-- 1 lar lar   14251  8月 27  2017 process.pdf\n",
      "-rw-rw-r-- 1 lar lar   14017  8月 27  2017 linux-commands.aux\n",
      "-rw-rw-r-- 1 lar lar   13494  8月 27  2017 \u001b[01;35mfruit-orange.jpg\u001b[0m\n",
      "-rw-rw-r-- 1 lar lar   13136  8月 27  2017 \u001b[01;35mhash.png\u001b[0m\n",
      "-rw-rw-r-- 1 lar lar   12973  8月 27  2017 \u001b[01;35mfruit.jpg\u001b[0m\n",
      "-rw-rw-r-- 1 lar lar   11380  8月 27  2017 \u001b[01;35mmyanmar-food.jpg\u001b[0m\n",
      "-rw-rw-r-- 1 lar lar    5096  8月 27  2017 linux-commands.out\n",
      "-rw-rw-r-- 1 lar lar    4246  8月 11  2017 news\n",
      "drwxrwxr-x 2 lar lar    4096  8月 11  2017 \u001b[01;34mdata1\u001b[0m\n",
      "drwxrwxr-x 2 lar lar    4096  8月 11  2017 \u001b[01;34mdata2\u001b[0m\n",
      "drwxrwxr-x 2 lar lar    4096  8月 11  2017 \u001b[01;34mdata3\u001b[0m\n",
      "drwxrwxr-x 2 lar lar    4096  8月 11  2017 \u001b[01;34mdata4\u001b[0m\n",
      "drwxrwxr-x 2 lar lar    4096  8月 11  2017 \u001b[01;34mdata5\u001b[0m\n",
      "drwxrwxr-x 2 lar lar    4096  3月  2 15:08 \u001b[01;34mfolder-athit\u001b[0m\n",
      "drwxrwxr-x 3 lar lar    4096  8月 11  2017 \u001b[01;34mfolder-new\u001b[0m\n",
      "drwxrwxr-x 2 lar lar    4096  8月 11  2017 \u001b[01;34mfolderA\u001b[0m\n",
      "drwxrwxr-x 2 lar lar    4096  8月 11  2017 \u001b[01;34mfolderB\u001b[0m\n",
      "drwxrwxr-x 2 lar lar    4096  1月 23 15:05 \u001b[01;34mscreen\u001b[0m\n",
      "drwxrwxr-x 2 lar lar    4096  9月  2 08:42 \u001b[01;34mwildcard\u001b[0m\n",
      "-rwxrwxr-x 1 lar lar    3964  9月  2 08:12 \u001b[01;32mmk-wordtag.pl\u001b[0m\n",
      "-rw-rw-r-- 1 lar lar    3117  8月 11  2017 fmt.out\n",
      "-rw-rw-r-- 1 lar lar    3117  8月 11  2017 my-news\n",
      "-rw-rw-r-- 1 lar lar    1855  1月  8 13:21 coin-flip.py\n",
      "-rw-rw-r-- 1 lar lar     812  9月  9 22:07 rank.txt\n",
      "-rw-rw-r-- 1 lar lar     607  8月 27  2017 hash.gv\n",
      "-rw-rw-r-- 1 lar lar     365  8月 27  2017 process.gv\n",
      "-rwxrwxr-x 1 lar lar     222  8月 27  2017 \u001b[01;32mtxt2jpg.sh\u001b[0m\n",
      "-rw-rw-r-- 1 lar lar     177  8月 11  2017 ls.out\n",
      "-rw-rw-r-- 1 lar lar     162  9月  9 21:32 ranking.awk\n",
      "-rw-rw-r-- 1 lar lar     141  8月 27  2017 binary.gv\n",
      "-rw-rw-r-- 1 lar lar     116  9月  3 15:42 commands-random.txt\n",
      "-rw-rw-r-- 1 lar lar     104  9月  3 13:07 city\n",
      "-rw-rw-r-- 1 lar lar      90  9月  3 14:53 my-no.data\n",
      "-rw-rw-r-- 1 lar lar      80  8月 27  2017 tmp\n",
      "-rwxrwxr-x 1 lar lar      69 12月 27 18:21 \u001b[01;32mloop.sh\u001b[0m\n",
      "-rw-rw-r-- 1 lar lar      68  9月  3 12:35 sorted-names\n",
      "-rw-rw-r-- 1 lar lar      67  9月  2 08:32 fileA\n",
      "-rw-rw-r-- 1 lar lar      67  8月 15  2017 random.txt\n",
      "-rw-rw-r-- 1 lar lar      65  9月  3 16:11 commands-sort.txt\n",
      "-rw-rw-r-- 1 lar lar      65  2月  1 09:31 commands.txt\n",
      "-rw-rw-r-- 1 lar lar      61  8月 11  2017 fileB\n",
      "-rw-rw-r-- 1 lar lar      53  3月  1 13:52 test\n",
      "-rw-rw-r-- 1 lar lar      52  8月 31  2017 numbers.txt\n",
      "-rw-rw-r-- 1 lar lar      51  9月  9 11:36 fruit-orange.txt\n",
      "-rw-rw-r-- 1 lar lar      51  9月  2 08:30 item-list\n",
      "-rw-rw-r-- 1 lar lar      49  9月  3 18:15 pos-tags-15.txt\n",
      "-rw-rw-r-- 1 lar lar      48  9月  3 14:53 en-no.data\n",
      "-rw-rw-r-- 1 lar lar      48  9月  3 15:18 en-no2-random.data\n",
      "-rw-rw-r-- 1 lar lar      48  9月  3 15:00 en-no2.data\n",
      "-rw-rw-r-- 1 lar lar      47  8月 18  2017 fruit.txt\n",
      "-rw-rw-r-- 1 lar lar      38  9月  2 08:27 myanmar-food.txt\n",
      "-rw-rw-r-- 1 lar lar      38  8月 28  2017 sed.check\n",
      "-rw-rw-r-- 1 lar lar      32  9月  2 08:27 myanmar-food.txt.bak\n",
      "-rw-rw-r-- 1 lar lar       0  9月  2 08:13 ctest2.word\n",
      "-rw-rw-r-- 1 lar lar       0  8月 11  2017 echo\n",
      "-rw-rw-r-- 1 lar lar       0  9月  1 22:46 empty-file.txt\n",
      "-rw-rw-r-- 1 lar lar       0  2月  3  2015 newfile\n",
      "-rw-rw-r-- 1 lar lar       0 10月 29 21:28 training.log\n"
     ]
    }
   ],
   "source": [
    "ls -lS"
   ]
  },
  {
   "cell_type": "markdown",
   "metadata": {},
   "source": [
    "ဖိုင်ရဲ့ size ငယ်စဉ်ကြီးလိုက် အစီအစဉ်နဲ့ စီပြပေးစေချင်ရင် \"-r\" (reverse) ကို သုံးပါတယ်။ option အပြည့်အစုံကတော့ \"-lSr\" ပါ။    "
   ]
  },
  {
   "cell_type": "code",
   "execution_count": 10,
   "metadata": {},
   "outputs": [
    {
     "name": "stdout",
     "output_type": "stream",
     "text": [
      "合計 6880\n",
      "-rw-rw-r-- 1 lar lar       0 10月 29 21:28 training.log\n",
      "-rw-rw-r-- 1 lar lar       0  2月  3  2015 newfile\n",
      "-rw-rw-r-- 1 lar lar       0  9月  1 22:46 empty-file.txt\n",
      "-rw-rw-r-- 1 lar lar       0  8月 11  2017 echo\n",
      "-rw-rw-r-- 1 lar lar       0  9月  2 08:13 ctest2.word\n",
      "-rw-rw-r-- 1 lar lar      32  9月  2 08:27 myanmar-food.txt.bak\n",
      "-rw-rw-r-- 1 lar lar      38  8月 28  2017 sed.check\n",
      "-rw-rw-r-- 1 lar lar      38  9月  2 08:27 myanmar-food.txt\n",
      "-rw-rw-r-- 1 lar lar      47  8月 18  2017 fruit.txt\n",
      "-rw-rw-r-- 1 lar lar      48  9月  3 15:00 en-no2.data\n",
      "-rw-rw-r-- 1 lar lar      48  9月  3 15:18 en-no2-random.data\n",
      "-rw-rw-r-- 1 lar lar      48  9月  3 14:53 en-no.data\n",
      "-rw-rw-r-- 1 lar lar      49  9月  3 18:15 pos-tags-15.txt\n",
      "-rw-rw-r-- 1 lar lar      51  9月  2 08:30 item-list\n",
      "-rw-rw-r-- 1 lar lar      51  9月  9 11:36 fruit-orange.txt\n",
      "-rw-rw-r-- 1 lar lar      52  8月 31  2017 numbers.txt\n",
      "-rw-rw-r-- 1 lar lar      53  3月  1 13:52 test\n",
      "-rw-rw-r-- 1 lar lar      61  8月 11  2017 fileB\n",
      "-rw-rw-r-- 1 lar lar      65  2月  1 09:31 commands.txt\n",
      "-rw-rw-r-- 1 lar lar      65  9月  3 16:11 commands-sort.txt\n",
      "-rw-rw-r-- 1 lar lar      67  8月 15  2017 random.txt\n",
      "-rw-rw-r-- 1 lar lar      67  9月  2 08:32 fileA\n",
      "-rw-rw-r-- 1 lar lar      68  9月  3 12:35 sorted-names\n",
      "-rwxrwxr-x 1 lar lar      69 12月 27 18:21 \u001b[0m\u001b[01;32mloop.sh\u001b[0m\n",
      "-rw-rw-r-- 1 lar lar      80  8月 27  2017 tmp\n",
      "-rw-rw-r-- 1 lar lar      90  9月  3 14:53 my-no.data\n",
      "-rw-rw-r-- 1 lar lar     104  9月  3 13:07 city\n",
      "-rw-rw-r-- 1 lar lar     116  9月  3 15:42 commands-random.txt\n",
      "-rw-rw-r-- 1 lar lar     141  8月 27  2017 binary.gv\n",
      "-rw-rw-r-- 1 lar lar     162  9月  9 21:32 ranking.awk\n",
      "-rw-rw-r-- 1 lar lar     177  8月 11  2017 ls.out\n",
      "-rwxrwxr-x 1 lar lar     222  8月 27  2017 \u001b[01;32mtxt2jpg.sh\u001b[0m\n",
      "-rw-rw-r-- 1 lar lar     365  8月 27  2017 process.gv\n",
      "-rw-rw-r-- 1 lar lar     607  8月 27  2017 hash.gv\n",
      "-rw-rw-r-- 1 lar lar     812  9月  9 22:07 rank.txt\n",
      "-rw-rw-r-- 1 lar lar    1855  1月  8 13:21 coin-flip.py\n",
      "-rw-rw-r-- 1 lar lar    3117  8月 11  2017 my-news\n",
      "-rw-rw-r-- 1 lar lar    3117  8月 11  2017 fmt.out\n",
      "-rwxrwxr-x 1 lar lar    3964  9月  2 08:12 \u001b[01;32mmk-wordtag.pl\u001b[0m\n",
      "drwxrwxr-x 2 lar lar    4096  9月  2 08:42 \u001b[01;34mwildcard\u001b[0m\n",
      "drwxrwxr-x 2 lar lar    4096  1月 23 15:05 \u001b[01;34mscreen\u001b[0m\n",
      "drwxrwxr-x 2 lar lar    4096  8月 11  2017 \u001b[01;34mfolderB\u001b[0m\n",
      "drwxrwxr-x 2 lar lar    4096  8月 11  2017 \u001b[01;34mfolderA\u001b[0m\n",
      "drwxrwxr-x 3 lar lar    4096  8月 11  2017 \u001b[01;34mfolder-new\u001b[0m\n",
      "drwxrwxr-x 2 lar lar    4096  3月  2 15:08 \u001b[01;34mfolder-athit\u001b[0m\n",
      "drwxrwxr-x 2 lar lar    4096  8月 11  2017 \u001b[01;34mdata5\u001b[0m\n",
      "drwxrwxr-x 2 lar lar    4096  8月 11  2017 \u001b[01;34mdata4\u001b[0m\n",
      "drwxrwxr-x 2 lar lar    4096  8月 11  2017 \u001b[01;34mdata3\u001b[0m\n",
      "drwxrwxr-x 2 lar lar    4096  8月 11  2017 \u001b[01;34mdata2\u001b[0m\n",
      "drwxrwxr-x 2 lar lar    4096  8月 11  2017 \u001b[01;34mdata1\u001b[0m\n",
      "-rw-rw-r-- 1 lar lar    4246  8月 11  2017 news\n",
      "-rw-rw-r-- 1 lar lar    5096  8月 27  2017 linux-commands.out\n",
      "-rw-rw-r-- 1 lar lar   11380  8月 27  2017 \u001b[01;35mmyanmar-food.jpg\u001b[0m\n",
      "-rw-rw-r-- 1 lar lar   12973  8月 27  2017 \u001b[01;35mfruit.jpg\u001b[0m\n",
      "-rw-rw-r-- 1 lar lar   13136  8月 27  2017 \u001b[01;35mhash.png\u001b[0m\n",
      "-rw-rw-r-- 1 lar lar   13494  8月 27  2017 \u001b[01;35mfruit-orange.jpg\u001b[0m\n",
      "-rw-rw-r-- 1 lar lar   14017  8月 27  2017 linux-commands.aux\n",
      "-rw-rw-r-- 1 lar lar   14251  8月 27  2017 process.pdf\n",
      "-rw-rw-r-- 1 lar lar   16401  9月  2 08:13 ctest2.tag\n",
      "-rw-rw-r-- 1 lar lar   16509  8月 27  2017 \u001b[01;35mfileA.jpg\u001b[0m\n",
      "-rw-rw-r-- 1 lar lar   16694  8月 27  2017 \u001b[01;35mrandom.jpg\u001b[0m\n",
      "-rw-rw-r-- 1 lar lar   16937  8月 11  2017 all-vi-info.txt\n",
      "-rw-rw-r-- 1 lar lar   38814  8月 27  2017 \u001b[01;35mprocess.png\u001b[0m\n",
      "-rw-rw-r-- 1 lar lar   73420  9月  3 18:12 pos-tags.txt\n",
      "-rw-r--r-- 1 lar lar   73420  8月 11  2017 otest.tag\n",
      "-rw-rw-r-- 1 lar lar   84001  9月  2 08:07 ctest2\n",
      "-rw-r--r-- 1 lar lar  303849  8月 11  2017 otest.word\n",
      "-rw-rw-r-- 1 lar lar  339016  8月 27  2017 \u001b[01;35mall-vi-info.jpg\u001b[0m\n",
      "-rw-rw-r-- 1 lar lar  357670  8月 27  2017 linux-commands.tex\n",
      "-rw-r--r-- 1 lar lar  377269  8月 11  2017 otest\n",
      "-rw-rw-r-- 1 lar lar  644048 12月 27 19:22 linux-commands.ipynb.bak\n",
      "-rw-rw-r-- 1 lar lar  666903  3月  2 15:14 linux-commands.ipynb\n",
      "-rw------- 1 lar lar  771468  9月  1 23:28 linux-commands.pdf\n",
      "-rw-rw-r-- 1 lar lar 2913744  8月 27  2017 linux-commands.log\n"
     ]
    }
   ],
   "source": [
    "ls -lSr"
   ]
  },
  {
   "cell_type": "markdown",
   "metadata": {},
   "source": [
    "ဖိုင်ရဲ့ အရွယ်အစား (size) တွေကို လူကဖတ်လို့လွယ်တဲ့ format (ဥပမာ၊ KB, MB, GB, TB) နဲ့ ပြပေးစေချင်ရင် \"-h\" option ကိုသုံးပါ။"
   ]
  },
  {
   "cell_type": "code",
   "execution_count": 11,
   "metadata": {},
   "outputs": [
    {
     "name": "stdout",
     "output_type": "stream",
     "text": [
      "合計 6.8M\n",
      "-rw-rw-r-- 1 lar lar 332K  8月 27  2017 \u001b[0m\u001b[01;35mall-vi-info.jpg\u001b[0m\n",
      "-rw-rw-r-- 1 lar lar  17K  8月 11  2017 all-vi-info.txt\n",
      "-rw-rw-r-- 1 lar lar  141  8月 27  2017 binary.gv\n",
      "-rw-rw-r-- 1 lar lar  104  9月  3 13:07 city\n",
      "-rw-rw-r-- 1 lar lar 1.9K  1月  8 13:21 coin-flip.py\n",
      "-rw-rw-r-- 1 lar lar  116  9月  3 15:42 commands-random.txt\n",
      "-rw-rw-r-- 1 lar lar   65  9月  3 16:11 commands-sort.txt\n",
      "-rw-rw-r-- 1 lar lar   65  2月  1 09:31 commands.txt\n",
      "-rw-rw-r-- 1 lar lar  83K  9月  2 08:07 ctest2\n",
      "-rw-rw-r-- 1 lar lar  17K  9月  2 08:13 ctest2.tag\n",
      "-rw-rw-r-- 1 lar lar    0  9月  2 08:13 ctest2.word\n",
      "drwxrwxr-x 2 lar lar 4.0K  8月 11  2017 \u001b[01;34mdata1\u001b[0m\n",
      "drwxrwxr-x 2 lar lar 4.0K  8月 11  2017 \u001b[01;34mdata2\u001b[0m\n",
      "drwxrwxr-x 2 lar lar 4.0K  8月 11  2017 \u001b[01;34mdata3\u001b[0m\n",
      "drwxrwxr-x 2 lar lar 4.0K  8月 11  2017 \u001b[01;34mdata4\u001b[0m\n",
      "drwxrwxr-x 2 lar lar 4.0K  8月 11  2017 \u001b[01;34mdata5\u001b[0m\n",
      "-rw-rw-r-- 1 lar lar    0  8月 11  2017 echo\n",
      "-rw-rw-r-- 1 lar lar    0  9月  1 22:46 empty-file.txt\n",
      "-rw-rw-r-- 1 lar lar   48  9月  3 14:53 en-no.data\n",
      "-rw-rw-r-- 1 lar lar   48  9月  3 15:18 en-no2-random.data\n",
      "-rw-rw-r-- 1 lar lar   48  9月  3 15:00 en-no2.data\n",
      "-rw-rw-r-- 1 lar lar   67  9月  2 08:32 fileA\n",
      "-rw-rw-r-- 1 lar lar  17K  8月 27  2017 \u001b[01;35mfileA.jpg\u001b[0m\n",
      "-rw-rw-r-- 1 lar lar   61  8月 11  2017 fileB\n",
      "-rw-rw-r-- 1 lar lar 3.1K  8月 11  2017 fmt.out\n",
      "drwxrwxr-x 2 lar lar 4.0K  3月  2 15:08 \u001b[01;34mfolder-athit\u001b[0m\n",
      "drwxrwxr-x 3 lar lar 4.0K  8月 11  2017 \u001b[01;34mfolder-new\u001b[0m\n",
      "drwxrwxr-x 2 lar lar 4.0K  8月 11  2017 \u001b[01;34mfolderA\u001b[0m\n",
      "drwxrwxr-x 2 lar lar 4.0K  8月 11  2017 \u001b[01;34mfolderB\u001b[0m\n",
      "-rw-rw-r-- 1 lar lar  14K  8月 27  2017 \u001b[01;35mfruit-orange.jpg\u001b[0m\n",
      "-rw-rw-r-- 1 lar lar   51  9月  9 11:36 fruit-orange.txt\n",
      "-rw-rw-r-- 1 lar lar  13K  8月 27  2017 \u001b[01;35mfruit.jpg\u001b[0m\n",
      "-rw-rw-r-- 1 lar lar   47  8月 18  2017 fruit.txt\n",
      "-rw-rw-r-- 1 lar lar  607  8月 27  2017 hash.gv\n",
      "-rw-rw-r-- 1 lar lar  13K  8月 27  2017 \u001b[01;35mhash.png\u001b[0m\n",
      "-rw-rw-r-- 1 lar lar   51  9月  2 08:30 item-list\n",
      "-rw-rw-r-- 1 lar lar  14K  8月 27  2017 linux-commands.aux\n",
      "-rw-rw-r-- 1 lar lar 652K  3月  2 15:14 linux-commands.ipynb\n",
      "-rw-rw-r-- 1 lar lar 629K 12月 27 19:22 linux-commands.ipynb.bak\n",
      "-rw-rw-r-- 1 lar lar 2.8M  8月 27  2017 linux-commands.log\n",
      "-rw-rw-r-- 1 lar lar 5.0K  8月 27  2017 linux-commands.out\n",
      "-rw------- 1 lar lar 754K  9月  1 23:28 linux-commands.pdf\n",
      "-rw-rw-r-- 1 lar lar 350K  8月 27  2017 linux-commands.tex\n",
      "-rwxrwxr-x 1 lar lar   69 12月 27 18:21 \u001b[01;32mloop.sh\u001b[0m\n",
      "-rw-rw-r-- 1 lar lar  177  8月 11  2017 ls.out\n",
      "-rwxrwxr-x 1 lar lar 3.9K  9月  2 08:12 \u001b[01;32mmk-wordtag.pl\u001b[0m\n",
      "-rw-rw-r-- 1 lar lar 3.1K  8月 11  2017 my-news\n",
      "-rw-rw-r-- 1 lar lar   90  9月  3 14:53 my-no.data\n",
      "-rw-rw-r-- 1 lar lar  12K  8月 27  2017 \u001b[01;35mmyanmar-food.jpg\u001b[0m\n",
      "-rw-rw-r-- 1 lar lar   38  9月  2 08:27 myanmar-food.txt\n",
      "-rw-rw-r-- 1 lar lar   32  9月  2 08:27 myanmar-food.txt.bak\n",
      "-rw-rw-r-- 1 lar lar    0  2月  3  2015 newfile\n",
      "-rw-rw-r-- 1 lar lar 4.2K  8月 11  2017 news\n",
      "-rw-rw-r-- 1 lar lar   52  8月 31  2017 numbers.txt\n",
      "-rw-r--r-- 1 lar lar 369K  8月 11  2017 otest\n",
      "-rw-r--r-- 1 lar lar  72K  8月 11  2017 otest.tag\n",
      "-rw-r--r-- 1 lar lar 297K  8月 11  2017 otest.word\n",
      "-rw-rw-r-- 1 lar lar   49  9月  3 18:15 pos-tags-15.txt\n",
      "-rw-rw-r-- 1 lar lar  72K  9月  3 18:12 pos-tags.txt\n",
      "-rw-rw-r-- 1 lar lar  365  8月 27  2017 process.gv\n",
      "-rw-rw-r-- 1 lar lar  14K  8月 27  2017 process.pdf\n",
      "-rw-rw-r-- 1 lar lar  38K  8月 27  2017 \u001b[01;35mprocess.png\u001b[0m\n",
      "-rw-rw-r-- 1 lar lar  17K  8月 27  2017 \u001b[01;35mrandom.jpg\u001b[0m\n",
      "-rw-rw-r-- 1 lar lar   67  8月 15  2017 random.txt\n",
      "-rw-rw-r-- 1 lar lar  812  9月  9 22:07 rank.txt\n",
      "-rw-rw-r-- 1 lar lar  162  9月  9 21:32 ranking.awk\n",
      "drwxrwxr-x 2 lar lar 4.0K  1月 23 15:05 \u001b[01;34mscreen\u001b[0m\n",
      "-rw-rw-r-- 1 lar lar   38  8月 28  2017 sed.check\n",
      "-rw-rw-r-- 1 lar lar   68  9月  3 12:35 sorted-names\n",
      "-rw-rw-r-- 1 lar lar   53  3月  1 13:52 test\n",
      "-rw-rw-r-- 1 lar lar   80  8月 27  2017 tmp\n",
      "-rw-rw-r-- 1 lar lar    0 10月 29 21:28 training.log\n",
      "-rwxrwxr-x 1 lar lar  222  8月 27  2017 \u001b[01;32mtxt2jpg.sh\u001b[0m\n",
      "drwxrwxr-x 2 lar lar 4.0K  9月  2 08:42 \u001b[01;34mwildcard\u001b[0m\n"
     ]
    }
   ],
   "source": [
    "ls -lh"
   ]
  },
  {
   "cell_type": "markdown",
   "metadata": {},
   "source": [
    "\"-lt\" option နဲ့ ဖိုင်တွေ၊ ဖိုလ်ဒါတွေကို အချိန်နဲ့ စီခိုင်းလို့ရပါတယ်။  \n",
    "\"t\" option က နောက်ဆုံးပြင်ခဲ့၊ ရေးခဲ့တဲ့ဖိုင်ကို ထိပ်ဆုံးမှာထားပေးပြီး စီပေးပါလိမ့်မယ်။  \n",
    "အောက်ပါ command က ကိုယ်ဒေါင်းလုဒ် လုပ်ခဲ့တဲ့ ဖိုင်တွေကို အချိန်နဲ့ စီကြည့်တဲ့ ဥပမာပါ။  \n",
    "ပုံမှန်အားဖြင့် (default setting) က အင်တာနက်ကနေ ဒေါင်းလုဒ်လုပ်လိုက်တဲ့ ဖိုင်တွေက ဟုမ်းဖိုလ်ဒါအောက်က Downloads ဆိုတဲ့ ဖိုလ်ဒါအောက်မှာ သိမ်းပါတယ်။  \n",
    "(ဒီနေရာမှာ \"~\" က လက်ရှိ login ဝင်ထားတဲ့ account ရဲ့ home directory ကိုဆိုလိုပါတယ်။)"
   ]
  },
  {
   "cell_type": "code",
   "execution_count": 10,
   "metadata": {},
   "outputs": [
    {
     "name": "stdout",
     "output_type": "stream",
     "text": [
      "total 1578760\n",
      "drwxrwxr-x 10 lar lar      4096  9月  1 19:44 \u001b[0m\u001b[01;34mThe-Nature-of-Code-master\u001b[0m\n",
      "drwxrwxr-x  2 lar lar      4096  8月 31 19:01 \u001b[01;34midea\u001b[0m\n",
      "drwxrwxr-x 18 lar lar      4096  8月 30 07:36 \u001b[01;34mcaffe\u001b[0m\n",
      "-rw-rw-r--  1 lar lar   3124693  8月 28 23:10 \u001b[01;31msklearn_tutorial-master.zip\u001b[0m\n",
      "-rw-rw-r--  1 lar lar  50007062  8月 28 21:58 \u001b[01;31mThe-Nature-of-Code-master.zip\u001b[0m\n",
      "drwxrwxr-x  3 lar lar      4096  8月 28 21:37 \u001b[01;34mThe-Nature-of-Code-Examples-master\u001b[0m\n",
      "-rw-rw-r--  1 lar lar   2762771  8月 28 21:37 \u001b[01;31mThe-Nature-of-Code-Examples.zip\u001b[0m\n",
      "drwxrwxr-x  7 lar lar      4096  8月 28 20:54 \u001b[01;34mprocessing-3.3.5\u001b[0m\n",
      "-rw-rw-r--  1 lar lar 126094700  8月 28 20:51 \u001b[01;31mprocessing-3.3.5-linux64.tgz\u001b[0m\n",
      "-rw-rw-r--  1 lar lar   1494155  8月 25 23:58 \u001b[01;31mBag-of-Visual-Words-Python-master.zip\u001b[0m\n",
      "drwxrwxr-x  4 lar lar      4096  8月 25 00:16 \u001b[01;34msimpleCV\u001b[0m\n",
      "-rw-rw-r--  1 lar lar    216740  8月 24 22:23 \u001b[01;31mSimpleCV-1.3.deb\u001b[0m\n",
      "-rw-rw-r--  1 lar lar 235361912  8月 24 21:58 \u001b[01;31mImageTextRecognition-master.zip\u001b[0m\n",
      "-rw-rw-r--  1 lar lar      8385  8月 24 21:58 \u001b[01;31mText-Mark-up-master.zip\u001b[0m\n",
      "-rw-rw-r--  1 lar lar      3725  8月 23 23:41 \u001b[01;31mbrowser-map-reduce-master.zip\u001b[0m\n",
      "-rw-------  1 lar lar   1819523  8月 23 17:17 SCIKIT's Image Segmentation – MLVN – Machine Learning + Vision + Networks.pdf\n",
      "-rw-rw-r--  1 lar lar  81238502  8月 23 14:23 \u001b[01;31mopencv-3.3.0.tar.gz\u001b[0m\n",
      "-rw-rw-r--  1 lar lar  84900737  8月 23 14:15 \u001b[01;31mopencv-master.zip\u001b[0m\n",
      "-rw-rw-r--  1 lar lar   2613321  8月 23 13:25 jupyter.pdf\n",
      "-rw-rw-r--  1 lar lar  58398472  8月 23 10:01 \u001b[01;31mskimage-tutorials-master.zip\u001b[0m\n",
      "-rw-------  1 lar lar     68138  8月 20 20:05 sed.sourceforge.net_sed1line.pdf\n",
      "-rw-------  1 lar lar    722285  8月 20 20:05 sed-a-stream-editor.pdf\n",
      "-rw-rw-r--  1 lar lar   1082963  8月 20 13:38 mySLcorpus-pacling2017-edt-2.pdf\n",
      "-rw-rw-r--  1 lar lar    625785  8月 17 13:49 IMG_9452.JPG\n",
      "-rw-rw-r--  1 lar lar    634593  8月 17 13:49 IMG_9451.JPG\n",
      "-rw-rw-r--  1 lar lar    705997  8月 17 13:49 IMG_9450.JPG\n",
      "-rw-rw-r--  1 lar lar    597842  8月 17 13:48 IMG_9449.JPG\n",
      "-rw-rw-r--  1 lar lar    521740  8月 17 13:48 IMG_9448.JPG\n",
      "-rw-rw-r--  1 lar lar    681941  8月 17 13:48 IMG_9443.JPG\n",
      "-rw-rw-r--  1 lar lar    527515  8月 17 13:48 IMG_9447.JPG\n",
      "-rw-rw-r--  1 lar lar    658571  8月 17 13:48 IMG_9441.JPG\n",
      "-rw-rw-r--  1 lar lar    740728  8月 17 13:48 IMG_9440.JPG\n",
      "-rw-rw-r--  1 lar lar    876756  8月 17 13:47 IMG_9437.JPG\n",
      "-rw-rw-r--  1 lar lar    577050  8月 17 13:47 IMG_9438.JPG\n",
      "-rw-rw-r--  1 lar lar    521684  8月 17 13:47 IMG_9439.JPG\n",
      "-rw-rw-r--  1 lar lar    741428  8月 17 13:47 IMG_9436.JPG\n",
      "-rw-rw-r--  1 lar lar    691121  8月 17 13:46 IMG_9435.JPG\n",
      "-rw-rw-r--  1 lar lar    699316  8月 17 13:46 IMG_9434.JPG\n",
      "-rw-rw-r--  1 lar lar    778030  8月 17 13:46 IMG_9433.JPG\n",
      "-rw-rw-r--  1 lar lar    786481  8月 17 13:46 IMG_9432.JPG\n",
      "-rw-rw-r--  1 lar lar    916712  8月 17 13:45 IMG_9431.JPG\n",
      "-rw-rw-r--  1 lar lar    699639  8月 17 13:45 IMG_9430.JPG\n",
      "-rw-rw-r--  1 lar lar    724706  8月 17 13:45 IMG_9429.JPG\n",
      "-rw-rw-r--  1 lar lar    575428  8月 17 13:43 IMG_9427.JPG\n",
      "-rw-rw-r--  1 lar lar      6078  8月 16 03:04 distance-test-note.txt\n",
      "-rw-rw-r--  1 lar lar   6488666  8月 16 02:37 big.txt\n",
      "-rw-rw-r--  1 lar lar    386070  8月 15 01:31 \u001b[01;35mmyanmar-fb-2.png\u001b[0m\n",
      "-rw-rw-r--  1 lar lar    440365  8月 15 01:30 \u001b[01;35mmyanmar-fb-1.png\u001b[0m\n",
      "drwxrwxr-x  2 lar lar      4096  8月 13 14:13 \u001b[01;34mref-cmd\u001b[0m\n",
      "drwxrwxr-x  2 lar lar      4096  8月 12 12:23 \u001b[01;34mebook\u001b[0m\n",
      "-rw-rw-r--  1 lar lar      7370  8月 10 04:20 \u001b[01;31mbash_kernel-master (1).zip\u001b[0m\n",
      "drwxrwxr-x  7 lar lar      4096  8月 10 04:12 \u001b[01;34mjupyter-nodejs\u001b[0m\n",
      "-rwxrwxr-x  1 lar lar       222  8月 10 03:52 \u001b[01;32mjs-kernel-install.sh\u001b[0m\n",
      "-rw-rw-r--  1 lar lar     71197  8月 10 03:47 \u001b[01;31mjupyter-scala-master.zip\u001b[0m\n",
      "-rw-rw-r--  1 lar lar      7370  8月 10 03:43 \u001b[01;31mbash_kernel-master.zip\u001b[0m\n",
      "-rw-rw-r--  1 lar lar     85041  8月  8 17:49 kaigaikoutei-icdl2017.pdf\n",
      "drwxrwxr-x  6 lar lar      4096  8月  6 14:58 \u001b[01;34mocr-data\u001b[0m\n",
      "-rw-rw-r--  1 lar lar 141808408  8月  6 14:35 \u001b[01;31mocr-demo-site7.zip\u001b[0m\n",
      "-rw-rw-r--  1 lar lar   1104821  8月  6 14:35 \u001b[01;31mtrain-tif-box-original.zip\u001b[0m\n",
      "-rw-rw-r--  1 lar lar  23875368  8月  6 14:35 \u001b[01;31micu4c-52_1-src.tgz\u001b[0m\n",
      "-rw-rw-r--  1 lar lar   6126586  8月  6 14:35 \u001b[01;31mjTessBoxEditor-my-rule1.zip\u001b[0m\n",
      "drwxrwxr-x 31 lar lar      4096  8月  6 13:07 \u001b[01;34mtesseract-master\u001b[0m\n",
      "-rw-rw-r--  1 lar lar  43779562  8月  6 13:06 \u001b[01;31mopencv_python_examples-master.zip\u001b[0m\n",
      "drwxrwxr-x  8 lar lar      4096  8月  6 12:30 \u001b[01;34mleptonica-1.74.4\u001b[0m\n",
      "-rw-rw-r--  1 lar lar  12349877  8月  6 12:29 \u001b[01;31mleptonica-1.74.4.tar.gz\u001b[0m\n",
      "-rw-rw-r--  1 lar lar   4524383  8月  6 10:56 \u001b[01;31mtesseract-master.zip\u001b[0m\n",
      "drwxrwxr-x  4 lar lar      4096  8月  6 10:52 \u001b[01;34mtesseract-ocr.github.io-master\u001b[0m\n",
      "-rw-rw-r--  1 lar lar  43793679  8月  6 10:52 \u001b[01;31mtesseract-ocr.github.io-master.zip\u001b[0m\n",
      "drwxrwxr-x  3 lar lar      4096  8月  4 18:47 \u001b[01;34mbash_kernel-master\u001b[0m\n",
      "-rw-rw-r--  1 lar lar  40686466  8月  1 22:34 \u001b[01;31mintroduction_to_ml_with_python-master.zip\u001b[0m\n",
      "-rw-rw-r--  1 lar lar 523283080  8月  1 21:25 Anaconda3-4.4.0-Linux-x86_64.sh\n",
      "-rw-rw-r--  1 lar lar  51327604  7月 16 15:36 \u001b[01;31mskypeforlinux-64.deb\u001b[0m\n",
      "drwxrwxr-x 11 lar lar      4096  7月  5 04:11 \u001b[01;34mjupyter-scala-master\u001b[0m\n",
      "-rw-rw-r--  1 lar lar     67600  5月 21 21:42 ctest2.nopipe.word\n",
      "-rw-rw-r--  1 lar lar   3737012  4月 29 09:33 1505.00687.pdf\n",
      "-rw-rw-r--  1 lar lar    479931  4月 19 16:29 flexcrfs.pdf\n",
      "-rw-------  1 lar lar    194870  4月 19 16:25 Introduction to Conditional Random Fields.pdf\n",
      "-rw-rw-r--  1 lar lar  47321450  4月 19 14:14 \u001b[01;31mgoogle-chrome-stable_current_amd64.deb\u001b[0m\n",
      "-rw-rw-r--  1 lar lar     47389  4月 12 21:53 \u001b[01;31mmyanmar3.zip\u001b[0m\n",
      "drwxrwxr-x  3 lar lar      4096 11月 22  2016 \u001b[01;34msklearn_tutorial-master\u001b[0m\n",
      "drwx------  3 lar lar      4096 10月 31  2015 \u001b[01;34mjTessBoxEditor-1.4-src-edit-myanmar-rule1-only\u001b[0m\n"
     ]
    }
   ],
   "source": [
    "ls ~/Downloads -lt"
   ]
  },
  {
   "cell_type": "markdown",
   "metadata": {},
   "source": [
    "လက်ရှိ နေရာအောက်မှာရှိတဲ့ \"ဖိုလ်ဒါတွေကိုပဲ\" ပြပေးပါဆိုရင် \"-d\" option နဲ့ \"\\*/\" pattern ကို တွဲသုံးပါတယ်။"
   ]
  },
  {
   "cell_type": "code",
   "execution_count": 12,
   "metadata": {},
   "outputs": [
    {
     "name": "stdout",
     "output_type": "stream",
     "text": [
      "\u001b[0m\u001b[01;34mdata1/\u001b[0m  \u001b[01;34mdata3/\u001b[0m  \u001b[01;34mdata5/\u001b[0m         \u001b[01;34mfolder-new/\u001b[0m  \u001b[01;34mfolderB/\u001b[0m  \u001b[01;34mwildcard/\u001b[0m\n",
      "\u001b[01;34mdata2/\u001b[0m  \u001b[01;34mdata4/\u001b[0m  \u001b[01;34mfolder-athit/\u001b[0m  \u001b[01;34mfolderA/\u001b[0m     \u001b[01;34mscreen/\u001b[0m\n"
     ]
    }
   ],
   "source": [
    "ls -d */"
   ]
  },
  {
   "cell_type": "markdown",
   "metadata": {},
   "source": [
    "\"-R\" option နဲ့ ဖိုလ်ဒါရဲ့ အောက်မှာရှိနေတဲ့ ဖိုင်တွေ၊ ဖိုလ်ဒါ အဆင့်ဆင့်တွေအားလုံးကို ပြခိုင်းလို့ ရပါတယ်။  \n",
    "ဥပမာ ~/Pictures/ ရဲ့ အောက်မှာ ရှိသမျှ ဖိုင်တွေ၊ ဖိုလ်ဒါတွေကို ပြခိုင်းစေချင်ရင်\n",
    "\"ls -R ~/Pictures/\" ဆိုပြီး ရိုက်ကြည့်ပါ။  \n",
    "(ဒီနေရာမှာ \"~\" က လက်ရှိ login ဝင်ထားတဲ့ account ရဲ့ home directory ကိုဆိုလိုပါတယ်။) \n",
    "\n",
    "လက်ရှိ ကျွန်တော် သုံးနေတဲ့ ကွန်ပျူတာ ရဲ့ ဟုမ်းဖိုလ်ဒါအောက်က Pictures ဖိုလ်ဒါအောက်မှာ layout ဆိုတဲ့ ဖိုလ်ဒါကရှိနေတော့  \n",
    "အဲဒီအောက်မှာ ရှိတဲ့ ဖိုင်တွေကို ပြသပေးပါတယ်။  \n",
    "လောလောဆယ် လက်ရှိမှာရှိတဲ့ ဖိုင်နှစ်ဖိုင်ဖြစ်တဲ့ kkg-ver0.1.pdf ဖိုင်နဲ့ Selection_001.png ဖိုင်ကို ပြပေးပါလိမ့်မယ်။  \n",
    "တကယ်လို့ အဲဒီ layout ဆိုတဲ့ ဖိုလ်ဒါအောက်မှာ နောက်တစ်ဆင့် ဖိုလ်ဒါတွေသာရှိခဲ့ရင်၊ အဲဒီဖိုလ်ဒါအောက်မှာရှိတဲ့ ဖိုင်တွေ၊ ဖိုလ်ဒါတွေကို ဆင့်ကဲဆင့်ကဲ ပြသပေးမှာဖြစ်ပါတယ်။  "
   ]
  },
  {
   "cell_type": "code",
   "execution_count": 12,
   "metadata": {},
   "outputs": [
    {
     "name": "stdout",
     "output_type": "stream",
     "text": [
      "/home/lar/Pictures/:\n",
      "\u001b[0m\u001b[01;35mcaffee-ubuntu.png\u001b[0m                              \u001b[01;35mocr-screen.png\u001b[0m\n",
      "\u001b[01;35mcan-import-caffe.png\u001b[0m                           \u001b[01;35mrobo-LA.pdf_009.png\u001b[0m\n",
      "\u001b[01;35mChoose an input source_003.png\u001b[0m                 \u001b[01;35mrobo-LA.pdf_010.png\u001b[0m\n",
      "\u001b[01;35mChooseAnInputSource.jpg\u001b[0m                        \u001b[01;35mrun-test-passed.png\u001b[0m\n",
      "\u001b[01;35mcmd-shift.png\u001b[0m                                  \u001b[01;35mselecting-kkg-eg.jpg\u001b[0m\n",
      "\u001b[01;35mlar@lar-air: ~-Downloads-caffe_011.png\u001b[0m         \u001b[01;35mselecting-kkg-eg.png\u001b[0m\n",
      "\u001b[01;35mlar@lar-air: ~-Downloads-caffe_012.png\u001b[0m         \u001b[01;35mselecting-kkg.jpg\u001b[0m\n",
      "\u001b[01;35mlar@lar-air: ~-Downloads-caffe_013.png\u001b[0m         \u001b[01;35mselecting-kkg.png\u001b[0m\n",
      "\u001b[01;35mlar@lar-air: ~-Downloads-caffe_014.png\u001b[0m         \u001b[01;35mSelection_006.png\u001b[0m\n",
      "\u001b[01;35mlar@lar-air: ~-Downloads-caffe_015.png\u001b[0m         \u001b[01;35mSelection_007.png\u001b[0m\n",
      "\u001b[01;35mlar@lar-air: ~-Downloads-caffe-python_016.png\u001b[0m  \u001b[01;35mSelection_008.png\u001b[0m\n",
      "\u001b[01;34mlayout\u001b[0m                                         \u001b[01;35mSelection_017.png\u001b[0m\n",
      "\u001b[01;35mMenu_004.png\u001b[0m                                   \u001b[01;35mText Entry_002.png\u001b[0m\n",
      "\u001b[01;35mMenu_005.png\u001b[0m                                   \u001b[01;35mText-Entry-Dbox.jpg\u001b[0m\n",
      "\n",
      "/home/lar/Pictures/layout:\n",
      "kkg-ver0.1.pdf  \u001b[01;35mSelection_001.png\u001b[0m\n"
     ]
    }
   ],
   "source": [
    "ls -R ~/Pictures/"
   ]
  },
  {
   "cell_type": "markdown",
   "metadata": {},
   "source": [
    "## 2. pwd (print name of current/working directory)  \n",
    "လက်ရှိ ရောက်နေတဲ့ ဖိုလ်ဒါ (path လို့လဲ ခေါ်ပါတယ်) ကို သိချင်ရင်"
   ]
  },
  {
   "cell_type": "code",
   "execution_count": 13,
   "metadata": {},
   "outputs": [
    {
     "name": "stdout",
     "output_type": "stream",
     "text": [
      "/home/lar/linux-cmd\n"
     ]
    }
   ],
   "source": [
    "pwd"
   ]
  },
  {
   "cell_type": "markdown",
   "metadata": {},
   "source": [
    "Linux မှာ ဖိုလ်ဒါတခုနဲ့ တခုအကြားကို / (forward slash) နဲ့ ခွဲပြီးပြတယ်။  \n",
    "\n",
    "တစ်ခုသိထားစေချင်တာက linux command တွေမှာက အင်္ဂလိပ်စာလုံး အကြီး၊ အသေးကို ခွဲခြားပြီးသုံးတယ်။  \n",
    "အဲဒါကြောင့် pwd ကို ရိုက်တဲ့ အခါမှာ စာလုံးအားလုံးက အသေးဖြစ်ရမယ်။\n",
    "တကယ်လို့ အခုအချိန်ထိသင်ပေးခဲ့တဲ့ command နှစ်ခုဖြစ်တဲ့ \"ls\" နဲ့ \"pwd\" ကို LS, lS, PWD, pWd စသည်ဖြင့်ရိုက်ရင် အလုပ်မလုပ်ပါဘူး။  \n",
    "error message ပေးပါလိမ့်မယ်။"
   ]
  },
  {
   "cell_type": "markdown",
   "metadata": {},
   "source": [
    "## 3. cd (change the shell working directory)  \n",
    "ဖိုလ်ဒါ တခုကနေ နောက်ဖိုလ်ဒါ တခုကို ရွှေ့မယ်ဆိုရင် သုံးတဲ့ command ပါ။  \n",
    "ဥပမာ လက်ရှိရောက်နေတဲ့ နေရာအောက်မှာ ဖိုလ်ဒါနာမည် folderA ရှိတယ်။ အဲဒီ ဖိုလ်ဒါဆီကို ရွှေ့ပေးပါဆိုရင်။  "
   ]
  },
  {
   "cell_type": "code",
   "execution_count": 14,
   "metadata": {
    "collapsed": true
   },
   "outputs": [],
   "source": [
    "cd folderA"
   ]
  },
  {
   "cell_type": "markdown",
   "metadata": {},
   "source": [
    "လက်ရှိရောက်နေတဲ့ folder path ကနေ ကိုယ့်ရဲ့ home ဖိုလ်ဒါဆီ ကို ရွှေ့ချင်ရင် ~ (tilde) option ကို သုံးပါတယ်။ ဒါမှမဟုတ် cd အမိန့်ရဲ့နောက်မှာ ဘာမှမရိုက်ပဲ enter ခေါက်ရင်လည်း home ဖိုလ်ဒါဆီကို ရွှေ့ပေးပါလိမ့်မယ်။  "
   ]
  },
  {
   "cell_type": "code",
   "execution_count": 16,
   "metadata": {
    "collapsed": true
   },
   "outputs": [],
   "source": [
    "cd ~"
   ]
  },
  {
   "cell_type": "markdown",
   "metadata": {},
   "source": [
    "ပြီးတော့ လက်ရှိရောက်နေတဲ့ ဖိုလ်ဒါနေရာကို confirm လုပ်ဖို့အတွက်၊ အထက်မှာ ပြောခဲ့တဲ့ pwd command သုံးကြည့်မယ်။"
   ]
  },
  {
   "cell_type": "code",
   "execution_count": 17,
   "metadata": {},
   "outputs": [
    {
     "name": "stdout",
     "output_type": "stream",
     "text": [
      "/home/lar\n"
     ]
    }
   ],
   "source": [
    "pwd"
   ]
  },
  {
   "cell_type": "markdown",
   "metadata": {},
   "source": [
    "လက်ရှိရောက်နေတဲ့ \"/home/lar/ နေရာကနေ့ အထက်တဆင့် path ကိုတက်ချင်တဲ့ အခါမှာ .. ကို သုံးပြီးတက်နိုင်။"
   ]
  },
  {
   "cell_type": "code",
   "execution_count": 18,
   "metadata": {
    "collapsed": true
   },
   "outputs": [],
   "source": [
    "cd .."
   ]
  },
  {
   "cell_type": "markdown",
   "metadata": {},
   "source": [
    "အခု ဆိုရင် \"lar\" ဖိုလ်ဒါရဲ့ အထက်မှာ ရှိတဲ့ \"home\" ဆိုတဲ့ ဖိုလ်ဒါအောက်ကို ရောက်သွားပါပြီ။ ဒီ ဖိုလ်ဒါအောက်မှာတော့ ရှိနေတဲ့ user account အားလုံးရဲ့ home ဖိုလ်ဒါ တွေကို သိမ်းပေးထားပါတယ်။ စက်တိုင်းမှာ ပုံမှန်က အနည်းဆုံးတော့ guest နဲ့ Linux OS ကို installation လုပ်ထားတဲ့ user account ကတော့ ရှိပါတယ်။ လက်ရှိ ရောက်နေတဲ့ path ကို \"pwd\" command ကို သုံးပြီး ရိုက်ကြည့်ရင် အောက်ပါအတိုင်း home ဆိုတဲ့ ဖိုလ်ဒါအောက်ကို ရောက်နေတာကို တွေ့ကြရပါလိမ့်မယ်။    "
   ]
  },
  {
   "cell_type": "code",
   "execution_count": 19,
   "metadata": {},
   "outputs": [
    {
     "name": "stdout",
     "output_type": "stream",
     "text": [
      "/home\n"
     ]
    }
   ],
   "source": [
    "pwd"
   ]
  },
  {
   "cell_type": "markdown",
   "metadata": {},
   "source": [
    "\"cd\" command ရဲ့ \"\\-\" option ကို သုံးပြီး နောက်ဆုံးဝင်ခဲ့တဲ့ ဖိုလ်ဒါနေရာ (path) ဆီကို ပြန်ရွှေ့လို့ရပါတယ်။  \n",
    "\n",
    "အောက်ပါဥပမာက ပထမ လက်ရှိ ရှိနေရာတဲ့ နေရာကနေ ရှည်လျားတဲ့ ဖိုလ်ဒါ တခုအောက် (/usr/share/X11/xkb/geometry/) ကို ဝင်ပါတယ်။ အဲဒီမှာ ရှိတဲ့ ဖိုင်တွေကို \"ls\" နဲ့ list လုပ်ကြည့်ပါတယ်။ \n"
   ]
  },
  {
   "cell_type": "code",
   "execution_count": 27,
   "metadata": {
    "collapsed": true
   },
   "outputs": [],
   "source": [
    "cd /usr/share/X11/xkb/geometry/"
   ]
  },
  {
   "cell_type": "code",
   "execution_count": 28,
   "metadata": {},
   "outputs": [
    {
     "name": "stdout",
     "output_type": "stream",
     "text": [
      "README   dell          hhk        macintosh  northgate  sony      typematrix\n",
      "amiga    \u001b[0m\u001b[01;34mdigital_vndr\u001b[0m  hp         microsoft  pc         sun       winbook\n",
      "ataritt  everex        keytronic  nec        sanwa      teck\n",
      "chicony  fujitsu       kinesis    nokia      \u001b[01;34msgi_vndr\u001b[0m   thinkpad\n"
     ]
    }
   ],
   "source": [
    "ls"
   ]
  },
  {
   "cell_type": "markdown",
   "metadata": {},
   "source": [
    "ပြီးတော့ ကိုယ်ရဲ့ home folder အောက်ကို cd ~ နဲ့ သွားပါတယ်။ "
   ]
  },
  {
   "cell_type": "code",
   "execution_count": 29,
   "metadata": {
    "collapsed": true
   },
   "outputs": [],
   "source": [
    "cd ~"
   ]
  },
  {
   "cell_type": "markdown",
   "metadata": {},
   "source": [
    "မြင်သာအောင် \"pwd\" command နဲ့ home folder အောက်ကိုရောက်နေတာကို ရိုက်ပြထားတာပါ။  "
   ]
  },
  {
   "cell_type": "code",
   "execution_count": 30,
   "metadata": {},
   "outputs": [
    {
     "name": "stdout",
     "output_type": "stream",
     "text": [
      "/home/lar\n"
     ]
    }
   ],
   "source": [
    "pwd"
   ]
  },
  {
   "cell_type": "markdown",
   "metadata": {},
   "source": [
    "စိတ်ကူးပြောင်းသွားပြီး ခုနက နောက်ဆုံးရှိနေခဲ့တဲ့ဖိုလ်ဒါအောက်ဖြစ်တဲ့ \"/usr/share/X11/xkb/geometry/\" ဆီကို ပြန်ဝင်ချင်တဲ့ အခါမှာ ဖိုလ်ဒါနာမည်တွေကို ပြန်ရိုက်စရာမလိုပဲ \"\\-\" (dash option) ကိုသုံးလို့ရကြောင်းကို လုပ်ပြပါမယ်။ တကယ်တမ်း command တွေကို သုံးပြီးအလုပ်လုပ်တဲ့ အခါမှာ မြန်ဆန်ဖို့အတွက် ဒီ \"\\-\" option က အရမ်းကို အသုံးဝင်ပါတယ်။ အထူးသဖြင့် ရှည်လျားတဲ့ ဖိုလ်ဒါ path တွေ တစ်ခုကနေ တစ်ခုကို ရွှေ့ပြောင်းပြီး အလုပ်လုပ်တဲ့ အခါမျိုးမှာပါ။ မှတ်ထားသင့်ပါတယ်။  "
   ]
  },
  {
   "cell_type": "code",
   "execution_count": 31,
   "metadata": {},
   "outputs": [
    {
     "name": "stdout",
     "output_type": "stream",
     "text": [
      "/usr/share/X11/xkb/geometry\n"
     ]
    }
   ],
   "source": [
    "cd -"
   ]
  },
  {
   "cell_type": "markdown",
   "metadata": {},
   "source": [
    "အထက်မှာ မြင်ရတဲ့ အတိုင်း နောက်ဆုံးရှိနေခဲ့တဲ့ ဖိုလ်ဒါဖြစ်တဲ့ \"/usr/share/X11/xkb/geometry\" ကို  ပြန်ရွှေ့ပေးတာကို မြင်ရပါလိမ့်မယ်။  "
   ]
  },
  {
   "cell_type": "markdown",
   "metadata": {},
   "source": [
    "## 4. cat (concatenate files and print on the standard output)  \n",
    "cat command က ဖိုင်တဖိုင်ရဲ့ အထဲမှာ ရှိတဲ့ စာကြောင်းတွေ အားလုံးကို ရိုက်ထုတ်ပြဖို့ သုံးပါတယ်။  \n",
    "cat command ကို မသုံးခင်၊ အရင်ဆုံး linux command တွေကို သင်ကြားဖို့အတွက် ကျွန်တော်က ပြင်ဆင်ထားတဲ့ path ဆီကို ရွှေ့မယ်။"
   ]
  },
  {
   "cell_type": "code",
   "execution_count": 32,
   "metadata": {
    "collapsed": true
   },
   "outputs": [],
   "source": [
    "cd ~/linux-cmd"
   ]
  },
  {
   "cell_type": "code",
   "execution_count": 33,
   "metadata": {},
   "outputs": [
    {
     "name": "stdout",
     "output_type": "stream",
     "text": [
      "/home/lar/linux-cmd\n"
     ]
    }
   ],
   "source": [
    "pwd"
   ]
  },
  {
   "cell_type": "markdown",
   "metadata": {},
   "source": [
    "ဘာဖိုင်တွေ၊ ဘာဖိုလ်ဒါတွေ ရှိသလဲ ဆိုတာကို \"ls\" နဲ့အရင်ကြည့်မယ်။  \n",
    "ဒီတခါတော့ option ကို \"-1X\" ကိုသုံးကြည့်မယ်။  \n",
    "\"-1X\" နဲ့ဆိုရင် ရှိတဲ့ ဖိုင်နာမည်၊ ဖိုလ်ဒါနာမည်တွေကို တစ်ကြောင်းချင်းစီ ရိုက်ပြလိမ့်မယ်။ "
   ]
  },
  {
   "cell_type": "code",
   "execution_count": 34,
   "metadata": {},
   "outputs": [
    {
     "name": "stdout",
     "output_type": "stream",
     "text": [
      "city\n",
      "ctest2\n",
      "\u001b[0m\u001b[01;34mdata1\u001b[0m\n",
      "\u001b[01;34mdata2\u001b[0m\n",
      "\u001b[01;34mdata3\u001b[0m\n",
      "\u001b[01;34mdata4\u001b[0m\n",
      "\u001b[01;34mdata5\u001b[0m\n",
      "echo\n",
      "fileA\n",
      "fileB\n",
      "\u001b[01;34mfolder-athit\u001b[0m\n",
      "\u001b[01;34mfolder-new\u001b[0m\n",
      "\u001b[01;34mfolderA\u001b[0m\n",
      "\u001b[01;34mfolderB\u001b[0m\n",
      "item-list\n",
      "my-news\n",
      "newfile\n",
      "news\n",
      "otest\n",
      "\u001b[01;34mscreen\u001b[0m\n",
      "sorted-names\n",
      "test\n",
      "tmp\n",
      "\u001b[01;34mwildcard\u001b[0m\n",
      "linux-commands.aux\n",
      "ranking.awk\n",
      "linux-commands.ipynb.bak\n",
      "myanmar-food.txt.bak\n",
      "sed.check\n",
      "en-no.data\n",
      "en-no2-random.data\n",
      "en-no2.data\n",
      "my-no.data\n",
      "binary.gv\n",
      "hash.gv\n",
      "process.gv\n",
      "linux-commands.ipynb\n",
      "\u001b[01;35mall-vi-info.jpg\u001b[0m\n",
      "\u001b[01;35mfileA.jpg\u001b[0m\n",
      "\u001b[01;35mfruit-orange.jpg\u001b[0m\n",
      "\u001b[01;35mfruit.jpg\u001b[0m\n",
      "\u001b[01;35mmyanmar-food.jpg\u001b[0m\n",
      "\u001b[01;35mrandom.jpg\u001b[0m\n",
      "linux-commands.log\n",
      "training.log\n",
      "fmt.out\n",
      "linux-commands.out\n",
      "ls.out\n",
      "linux-commands.pdf\n",
      "process.pdf\n",
      "\u001b[01;32mmk-wordtag.pl\u001b[0m\n",
      "\u001b[01;35mhash.png\u001b[0m\n",
      "\u001b[01;35mprocess.png\u001b[0m\n",
      "coin-flip.py\n",
      "\u001b[01;32mloop.sh\u001b[0m\n",
      "\u001b[01;32mtxt2jpg.sh\u001b[0m\n",
      "ctest2.tag\n",
      "otest.tag\n",
      "linux-commands.tex\n",
      "all-vi-info.txt\n",
      "commands-random.txt\n",
      "commands-sort.txt\n",
      "commands.txt\n",
      "empty-file.txt\n",
      "fruit-orange.txt\n",
      "fruit.txt\n",
      "myanmar-food.txt\n",
      "numbers.txt\n",
      "pos-tags-15.txt\n",
      "pos-tags.txt\n",
      "random.txt\n",
      "rank.txt\n",
      "ctest2.word\n",
      "otest.word\n"
     ]
    }
   ],
   "source": [
    "ls -1X"
   ]
  },
  {
   "cell_type": "markdown",
   "metadata": {},
   "source": [
    "ဒီနေရာမှာ \"-1\" က စာကြောင်းတစ်ကြောင်းမှာ ဖိုင်တစ်ဖိုင်စီ ရိုက်ပြတဲ့အလုပ် (list one file per line) ကို လုပ်ပေးတဲ့ \"ls\" command ရဲ့ option ပါ။  \n",
    "\"-X\" (Capital X option) ကတော့ ဖိုင်တွေရဲ့ extension နဲ့ အက္ခရာစဉ်အလိုက်စီပေးပါတယ်။  \n",
    "\n",
    "Extension ဆိုတာက ဖိုင်နာမည်တွေရဲ့ နောက်ဆုံးမှာ ရှိနေတဲ့ dot နဲ့ခွဲပြီးရေးထားတဲ့ အပိုင်းတွေကို ဆိုလိုပါတယ်။  \n",
    "ဥပမာ ။။ PDF ဖိုင်ဆိုရင် \".pdf\" ပါ။ ပုံဖိုင်အမျိုးအစားတစ်မျိုးဖြစ်တဲ့ \".jpeg\" နဲ့ bash shell script ဖိုင်ဖြစ်တဲ့ \".sh\" စတာမျိုးတွေပါ။   "
   ]
  },
  {
   "cell_type": "markdown",
   "metadata": {},
   "source": [
    "cat command ကိုသုံးပြီး fileA ရဲ့အထဲမှာ ဘာတွေရေးထားလဲ ဆိုတာကို ရိုက်ထုတ်ကြည့်မယ်။  "
   ]
  },
  {
   "cell_type": "code",
   "execution_count": 35,
   "metadata": {},
   "outputs": [
    {
     "name": "stdout",
     "output_type": "stream",
     "text": [
      "Mingalar bar!\n",
      "I am fileA.\n",
      "I was born in April.\n",
      "My blood type is O.\n"
     ]
    }
   ],
   "source": [
    "cat fileA"
   ]
  },
  {
   "cell_type": "markdown",
   "metadata": {},
   "source": [
    "ဖိုင်ထဲမှာရှိတဲ့ စာကြောင်းတွေကို ရိုက်ပြတဲ့ အခါမှာ လိုင်းနံပါတ်တွေ တပ်ပြီးရိုက်ပြစေချင်ရင် \"-n\" option ကိုသုံးပါ။"
   ]
  },
  {
   "cell_type": "code",
   "execution_count": 36,
   "metadata": {},
   "outputs": [
    {
     "name": "stdout",
     "output_type": "stream",
     "text": [
      "     1\tMingalar bar!\n",
      "     2\tI am fileA.\n",
      "     3\tI was born in April.\n",
      "     4\tMy blood type is O.\n"
     ]
    }
   ],
   "source": [
    "cat -n fileA"
   ]
  },
  {
   "cell_type": "markdown",
   "metadata": {},
   "source": [
    "cat command ရဲ့ အသုံးဝင်တဲ့ option နှစ်ခုဖြစ်တဲ့ -T နဲ့ -E ကို သုံးပြဖို့အတွက် item-list ဆိုတဲ့ ဖိုင်အသစ်တစ်ဖိုင်ကို echo command ကို သုံးပြီး အောက်ပါအတိုင်းဆောက်ပါမယ်။ ဒီနေရာမှာ \"\\t\" က tab ကီး \"\\n\" က စာကြောင်းတစ်ကြောင်း အောက်ကိုဆင်းဖို့အတွက် သုံးတဲ့ escape စာလုံးတွေပါ။"
   ]
  },
  {
   "cell_type": "code",
   "execution_count": 37,
   "metadata": {
    "collapsed": true
   },
   "outputs": [],
   "source": [
    "echo -e \"No\\tItem\\tStock\\n1\\tpencil\\t10\\n2\\truler\\t1000\\n3\\teraser\\t42\" > item-list"
   ]
  },
  {
   "cell_type": "markdown",
   "metadata": {},
   "source": [
    "အခုဆောက်ခဲ့တဲ့ item-list ထဲမှာ ဘယ်လိုစာကြောင်းတွေရှိနေသလဲဆိုတာကို cat command နဲ့ ရိုက်ကြည့်ပါမယ်။  "
   ]
  },
  {
   "cell_type": "code",
   "execution_count": 38,
   "metadata": {},
   "outputs": [
    {
     "name": "stdout",
     "output_type": "stream",
     "text": [
      "No\tItem\tStock\n",
      "1\tpencil\t10\n",
      "2\truler\t1000\n",
      "3\teraser\t42\n"
     ]
    }
   ],
   "source": [
    "cat ./item-list"
   ]
  },
  {
   "cell_type": "markdown",
   "metadata": {},
   "source": [
    "အထက်ပါအတိုင်း No (နံပါတ်) ရယ်၊ Item ရယ်၊ Stock ရယ်ဆိုပြီး ကော်လံ သုံးခု ခွဲထားပြီး၊ ပစ္စည်း သုံးမျိုးဖြစ်တဲ့ pencil, ruler, eraser ရဲ့ ရှိနေတဲ့ အရေအတွက်ကို သိမ်းထားတာတွေ့ရပါလိမ့်မယ်။ \n",
    "လက်တွေ့ item-list လို text file တွေကို၊ ကိုယ်လုပ်မဲ့ အလုပ်ပေါ်မူတည်ပြီးတော့ ပုံမှန်အားဖြင့် မမြင်နိုင်တဲ့ tab ကီးတွေ၊ စာကြောင်း အဆုံးသင်္ကေတ တွေကို စစ်ဆေးကြည့်ဖို့၊ မြင်ရအောင် ရိုက်ထုတ်ချင်တဲ့အခါမှာ cat command နဲ့ တကွ \"-T\", \"-E\" option တွေကို အသုံးပြုပါတယ်။  \n",
    "\n",
    "\"-T\" က tab ကီးကိုမြင်ရဖို့၊ \"-E\" က စာကြောင်းအဆုံးသင်္ကေတကို မြင်ရဖို့သုံးပါတယ်။   "
   ]
  },
  {
   "cell_type": "code",
   "execution_count": 39,
   "metadata": {},
   "outputs": [
    {
     "name": "stdout",
     "output_type": "stream",
     "text": [
      "No^IItem^IStock$\n",
      "1^Ipencil^I10$\n",
      "2^Iruler^I1000$\n",
      "3^Ieraser^I42$\n"
     ]
    }
   ],
   "source": [
    "cat -TE ./item-list"
   ]
  },
  {
   "cell_type": "markdown",
   "metadata": {},
   "source": [
    "အထက်ပါ output မှာမြင်ရတဲ့အတိုင်း၊ ^I ဆိုတာက tab ကီးကို ကိုယ်စားပြုပါတယ်။  $ စာလုံးက စာကြောင်းအဆုံးကို ကိုယ်စားပြုပါတယ်။ ဒီသင်္ကေတတွေကို မျက်လုံးနဲ့ ဖိုင်တွေကိုစစ်ကြည့်ဖို့ တင်မကပဲ၊ ပရိုဂရမ်နဲ့ ဖိုင်ကိုဖတ်ပြီး စစ်ဆေးကြည့်တဲ့ အခါမှာလည်း အသုံးပြုပါတယ်။   "
   ]
  },
  {
   "cell_type": "markdown",
   "metadata": {},
   "source": [
    "## 5. file (determine file type)  \n",
    "ဖိုင်တဖိုင်က ဘာဖိုင်လဲ၊ ဘယ်လို ဖိုင်အမျိုးအစားလဲ ဆိုတာကို သိချင်ရင် \"file\" ဆိုတဲ့ command ကိုသုံးတယ်။  \n",
    "ဖိုင်ရဲ့ အမျိုးအစားဆိုတာက စာသားတွေအနေနဲ့ သိမ်းထားတဲ့ text file လား၊ အလုပ်လုပ်ခိုင်းလို့ရတဲ့ (အင်္ဂလိပ်လိုပြောရင် run/executable လုပ်လို့ရတဲ့) ပရိုဂရမ်ဖိုင်လား၊ ပရိုဂရမ်ဖိုင်ဆိုရင် အဲဒီပရိုဂရမ်ရဲ့ ဗားရှင်းနဲ့ ပတ်သက်တဲ့ အချက်အလက် စတာတွေကို file command ကိုသုံးပြီး ရယူနိုင်ပါတယ်။  "
   ]
  },
  {
   "cell_type": "code",
   "execution_count": 40,
   "metadata": {},
   "outputs": [
    {
     "name": "stdout",
     "output_type": "stream",
     "text": [
      "fileA: ASCII text\n"
     ]
    }
   ],
   "source": [
    "file fileA"
   ]
  },
  {
   "cell_type": "markdown",
   "metadata": {},
   "source": [
    "fileA က ASCII (American Standard Code for Information Interchange) text ဖိုင် အမျိုးအစားဖြစ်ကြောင်းကို သိရပါတယ်။  \n",
    "လက်ရှိကွန်ပျူတာမှာ ရှိတဲ့ ဖိုင်တချို့ကို သုံးပြီး file command ရဲ့ output တချို့ကို ဥပမာ အနေနဲ့ ပြပါမယ်။"
   ]
  },
  {
   "cell_type": "code",
   "execution_count": 41,
   "metadata": {},
   "outputs": [
    {
     "name": "stdout",
     "output_type": "stream",
     "text": [
      "/bin/cat: ELF 64-bit LSB executable, x86-64, version 1 (SYSV), dynamically linked, interpreter /lib64/ld-linux-x86-64.so.2, for GNU/Linux 2.6.32, BuildID[sha1]=2efc66e3f4cae30a989532b37b1d5dc81026be68, stripped\n"
     ]
    }
   ],
   "source": [
    "file /bin/cat"
   ]
  },
  {
   "cell_type": "code",
   "execution_count": 42,
   "metadata": {},
   "outputs": [
    {
     "name": "stdout",
     "output_type": "stream",
     "text": [
      "/etc/hostname: ASCII text\n"
     ]
    }
   ],
   "source": [
    "file /etc/hostname"
   ]
  },
  {
   "cell_type": "markdown",
   "metadata": {},
   "source": [
    "ဖိုလ်ဒါရဲ့ path ကိုပေးရင် file command က ဖိုလ်ဒါဖြစ်ကြောင်းကို directory ဆိုပြီး အောက်ပါအတိုင်း ဖော်ပြပေးပါလိမ့်မယ်။  "
   ]
  },
  {
   "cell_type": "code",
   "execution_count": 43,
   "metadata": {},
   "outputs": [
    {
     "name": "stdout",
     "output_type": "stream",
     "text": [
      "/home/: directory\n"
     ]
    }
   ],
   "source": [
    "file /home/"
   ]
  },
  {
   "cell_type": "markdown",
   "metadata": {},
   "source": [
    "နောက်ထပ် ဥပမာ တစ်ခုကတော့ မြန်မာစာကြောင်းတွေကို POS (part of speech) tag တွေနဲ့တွဲသိမ်းထားတဲ့ ဖိုင်ဖြစ်တဲ့ otest ဆိုတဲ့ဖိုင်ကို \"file\" command နဲ့ ရိုက်ကြည့်ရင် မြင်ရမယ့် output ကို ပြသထားတာ ဖြစ်ပါတယ်။ အဲဒီဖိုင်ထဲမှာက \"ကူညီ/v တာ/part ကျေးဇူးတင်/v ပါ/part တယ်/ppm ။/punc\" ဆိုတဲ့ စာကြောင်းတွေ အများကြီး သိမ်းထားပါတယ်။  "
   ]
  },
  {
   "cell_type": "code",
   "execution_count": 44,
   "metadata": {},
   "outputs": [
    {
     "name": "stdout",
     "output_type": "stream",
     "text": [
      "otest: UTF-8 Unicode text, with very long lines\n"
     ]
    }
   ],
   "source": [
    "file otest"
   ]
  },
  {
   "cell_type": "markdown",
   "metadata": {},
   "source": [
    "## 6. head (output the first part of files)  \n",
    "\"head\" command ကတော့ ဖိုင်တဖိုင်ထဲမှာရှိတဲ့ စာကြောင်းတွေကို ထိပ်ဆုံးအပိုင်းကနေ ရိုက်ထုတ်ပြပေးဖို့ သုံးတဲ့ command ဖြစ်ပါတယ်။  \n",
    "ဥပမာ ctest2 ဆိုတဲ့ဖိုင်ရဲ့ ထိပ်ဆုံး စာကြောင်း ၁၀ကြောင်းကို ရိုက်ပြခိုင်းချင်ရင်  "
   ]
  },
  {
   "cell_type": "code",
   "execution_count": 45,
   "metadata": {},
   "outputs": [
    {
     "name": "stdout",
     "output_type": "stream",
     "text": [
      "ခင်ဗျား/pron ကို/ppm တကယ်/adv ကျေးဇူးတင်/v တယ်/ppm ။/punc\n",
      "ဂူဂယ်/n ဆို/v တဲ့/part နာမည်/n ဖြစ်/v လာ/part ပုံ/n က/ppm တော့/part googol/fw အဓိပ္ပါယ်/n က/ppm 10pow/fw ဆို/v တဲ့/part စာလုံး/n ကို/ppm google/fw လို့/part မှား/v ပေါင်း/v ရာ/conj က/ppm စ/v လာ/part ခဲ့/part တာ/part ဖြစ်/v ပြီး/conj Merriam/fw Webster/fw Collegiate/fw Dictionary/fw နဲ့/conj Oxford/fw English/fw Dictionary/fw တွေ/part မှာ/ppm google/fw ရဲ့/ppm အဓိပ္ပါယ်/n ကို/ppm အင်တာနက်/n မှ/ppm အချက်အလက်/n များ/part ရယူ/v ရန်/conj ဂူဂယ်/n search/fw engine/fw ကို/ppm အသုံးပြု/v|ခြင်း/part လို့/part ၂၀၀၆/num မှ/ppm စတင်/v ပြီး/conj ထည့်သွင်း/v ပေး/part ခဲ့/part ပါ/part တယ်/ppm ။/punc\n",
      "ငှက်/n ငယ်/part တို့/part သည်/ppm အစာ/n ကို/ppm ပါးစပ်/n ထဲ/ppm သို့/ppm ထည့်/v ပေး/part ရုံ/part နှင့်/ppm မျိုမချ/v နိုင်/part ၊/punc မိဘ/n တို့/part က/ppm အာခေါင်အာရင်း/n သို့/ppm ရောက်/v အောင်/conj အစာ/n ကို/ppm သွင်း/v ပေး/part နိုင်/part မှ/ppm သာ/part လည်ချောင်း/n မှ/ppm ကြွက်သား/n များ/part လှုပ်ရှား/v|မှု/part ဖြင့်/ppm အစာ/n သည်/ppm ဝမ်း/n|တွင်း/n သို့/ppm လျှောဆင်း/v နိုင်/part သည်/ppm ။/punc\n",
      "ဆွီဒင်/n ပုံစံ/n က/ppm ဘယ်/pron လို/ppm မျိုး/n အနှိပ်/n ပါ/part လဲ/part ။/punc\n",
      "တက္ကသိုလ်/n|ဝင်/v|စာမေးပွဲ/n မ/part ဖြေဆို/v မီ/part အထက်တန်း/n|ကျောင်း/n ၌/ppm ယေဘုယျ/adv အားဖြင့်/ppm အနည်းဆုံး/adj အဆင့်/n ၃/num ဆင့်/n အောင်/v ရ/part သည်/ppm ။/punc\n",
      "တရားဝင်/adv မြန်မာ/n|အစိုးရ/n လက်ခံ/v|ထား/part|ချက်/part အရ/ppm သက္ကတစာ/n မှ/ppm ဆင်းသက်/v|လာ/part|ခြင်း/part ဟု/part ခံယူ/v ထား/part ပြီး/conj သက္ကတ/n ဗြဟ္မာ/n ဟူ/v သည့်/part ဝေါဟာရ/n မှ/ppm ဆင်းသက်/v သည်/ppm ဟု/part ခံယူ/v ထား/part သည်/ppm ။/punc\n",
      "ထို/adj ခြင်/n ကြောင့်/ppm ကျောက်ခေတ်/n မှ/ppm ယနေ့/n ခေတ်/n အထိ/ppm လူ/n ၁၀၀/num လျှင်/part အယောက်/n ၅၀/num ခန့်/part သည်/ppm ငှက်ဖျားရောဂါ/n ဖြင့်/ppm သေဆုံး/v နေ/part ရ/part သည်/ppm ။/punc\n",
      "ထို/adj အစည်းအရုံး/n သည်/ppm အမျိုးသား/n|ရေး/part|စိတ်ဓာတ်/n ပြင်းပြ/v ၍/conj နုပျို/adj တက်ကြွ/v သည့်/part အခြေခံ/n လက္ခဏာ/n ရှိ/v ပြီး/conj အစည်းအရုံး/n ခေါင်းဆောင်/n များ/part သည်/ppm သက်ကြီး/adj နိုင်ငံရေးသမား/n များ/part နှင့်/ppm မ/part တူ/v တမူထူးခြား/adv ကြ/part ပါ/part သည်/ppm ။/punc\n",
      "ထို့ပြင်/conj ၊/punc ပြင်သစ်/n|အမျိုးသား/n ကူးဗီယေ/n သည်/ppm လူ/n နှင့်/conj တိရစ္ဆာန်/n တို့/part ၏/ppm ကိုယ်ခန္ဓာ/n ဖွဲ့စည်းပုံ/n ကို/ppm လေ့လာ/v ၍/conj အနာတမီ/n|ပညာရပ်/n ကို/ppm စတင်/v ပြုစု/v ပေး/part ခဲ့/part လေ/part သည်/ppm ။/punc\n",
      "ထို့အပြင်/conj တိုင်းသူပြည်သား/n တို့/part လက်/n အတွင်း/n သို့/ppm အချုပ်အခြာ/n|အာဏာ/n ပြန်/v ၍/conj ရောက်/v နေ/part ရ/part ကား/part တိုင်းပြည်/n တွင်/ppm ဖြစ်ပေါ်/v သမျှ/part အနိဌာရုံ/n များ/part အတွက်/ppm နယ်ချဲ့/n|စနစ်/n ကို/ppm အပြစ်တင်/v|တိုက်ခိုက်/v|ခြင်း/part ဖြင့်/ppm အချိန်/n နှင့်/conj အင်အား/n တို့/part ကို/ppm အလဟဿ/adv မ/part ဖြုန်း/v ကြ/part ရန်/conj သတိပေး/v သွား/part ပါ/part သည်/ppm ။/punc\n"
     ]
    }
   ],
   "source": [
    "head ctest2"
   ]
  },
  {
   "cell_type": "markdown",
   "metadata": {},
   "source": [
    "ဒီ ctest2 ဖိုင်က မြန်မာစာ POS Tagging သုတေသန experiment လုပ်နေစဉ်မှာ၊ ကျွန်တော်ရဲ့ တပည့်တယောက်ဖြစ်တဲ့ မဝါဝါက ပြင်ဆင်ထားတဲ့ test ဖိုင်တဖိုင်ပါ။  \n",
    "\n",
    "\"head\" command က ဘာ option မှမပေးရင် ရိုက်ခိုင်းတဲ့ ဖိုင်ရဲ့ ထိပ်ဆုံးကနေ ၁၀ ကြောင်းကို ရိုက်ပြပါတယ်။  \n",
    "တကယ်လို့ သတ်မှတ်ထားတဲ့ စာကြောင်းရေ အရေအတွက်ကိုပဲ ဥပမာ ၁ ကြောင်း၊ ၃ ကြောင်း၊ အကြောင်း ၁၀၀ စသည်ဖြင့် ရိုက်ပြပေးစေချင် ရင် \"-n\" option နဲ့ ရိုက်ပေးစေချင်တဲ့ စာကြောင်းအရေအတွက် နံပါတ် ကိုပါ ညွှန်ကြားပြီး သုံးပါ။"
   ]
  },
  {
   "cell_type": "code",
   "execution_count": 46,
   "metadata": {
    "scrolled": true
   },
   "outputs": [
    {
     "name": "stdout",
     "output_type": "stream",
     "text": [
      "ခင်ဗျား/pron ကို/ppm တကယ်/adv ကျေးဇူးတင်/v တယ်/ppm ။/punc\n",
      "ဂူဂယ်/n ဆို/v တဲ့/part နာမည်/n ဖြစ်/v လာ/part ပုံ/n က/ppm တော့/part googol/fw အဓိပ္ပါယ်/n က/ppm 10pow/fw ဆို/v တဲ့/part စာလုံး/n ကို/ppm google/fw လို့/part မှား/v ပေါင်း/v ရာ/conj က/ppm စ/v လာ/part ခဲ့/part တာ/part ဖြစ်/v ပြီး/conj Merriam/fw Webster/fw Collegiate/fw Dictionary/fw နဲ့/conj Oxford/fw English/fw Dictionary/fw တွေ/part မှာ/ppm google/fw ရဲ့/ppm အဓိပ္ပါယ်/n ကို/ppm အင်တာနက်/n မှ/ppm အချက်အလက်/n များ/part ရယူ/v ရန်/conj ဂူဂယ်/n search/fw engine/fw ကို/ppm အသုံးပြု/v|ခြင်း/part လို့/part ၂၀၀၆/num မှ/ppm စတင်/v ပြီး/conj ထည့်သွင်း/v ပေး/part ခဲ့/part ပါ/part တယ်/ppm ။/punc\n",
      "ငှက်/n ငယ်/part တို့/part သည်/ppm အစာ/n ကို/ppm ပါးစပ်/n ထဲ/ppm သို့/ppm ထည့်/v ပေး/part ရုံ/part နှင့်/ppm မျိုမချ/v နိုင်/part ၊/punc မိဘ/n တို့/part က/ppm အာခေါင်အာရင်း/n သို့/ppm ရောက်/v အောင်/conj အစာ/n ကို/ppm သွင်း/v ပေး/part နိုင်/part မှ/ppm သာ/part လည်ချောင်း/n မှ/ppm ကြွက်သား/n များ/part လှုပ်ရှား/v|မှု/part ဖြင့်/ppm အစာ/n သည်/ppm ဝမ်း/n|တွင်း/n သို့/ppm လျှောဆင်း/v နိုင်/part သည်/ppm ။/punc\n"
     ]
    }
   ],
   "source": [
    "head -n 3 ctest2"
   ]
  },
  {
   "cell_type": "markdown",
   "metadata": {},
   "source": [
    "\"-n\" လို့ မရိုက်ပဲ \"-\" တခုတည်းလို သုံးပြီး၊ \"-\" အနောက်ကနေ ရိုက်ပြစေချင်တဲ့ စာကြောင်းရေအရေအတွက်နံပါတ်ကို ပေးပြီးလဲ သုံးနိုင်ပါတယ်။ ဥပမာ \"head -1\" ဆိုရင် ဖိုင်ထဲမှာ ရှိတဲ့ စာကြောင်းတွေထဲကနေ ထိပ်ဆုံး တစ်ကြောင်းကိုပဲ ရိုက်ပြပါလို့ ဆိုလိုပါတယ်။  "
   ]
  },
  {
   "cell_type": "code",
   "execution_count": 47,
   "metadata": {},
   "outputs": [
    {
     "name": "stdout",
     "output_type": "stream",
     "text": [
      "ခင်ဗျား/pron ကို/ppm တကယ်/adv ကျေးဇူးတင်/v တယ်/ppm ။/punc\n"
     ]
    }
   ],
   "source": [
    "head -1 ctest2"
   ]
  },
  {
   "cell_type": "markdown",
   "metadata": {},
   "source": [
    "## 7. tail (output the last part of files)\n",
    "\"tail\" command က အထက်မှာ ရှင်းပြခဲ့တဲ့ \"head\" command နဲ့ ပြောင်းပြန်ပါ။  \n",
    "ဖိုင်တဖိုင်ကို နောက်ဆုံး အပိုင်းကနေ အကြောင်းရေ အရေအတွက်နဲ့ ရိုက်ပြခိုင်းလို့ ရတဲ့ command ပါ။\n",
    "\n",
    "အကြောင်းအရေအတွက်ကို ဘာမှ မကန့်သတ်ပဲ run ရင် default အနေနဲ့ ဖိုင်ရဲ့နောက်ဆုံး ၁၀ ကြောင်းကို ရိုက်ပြပါလိမ့်မယ်။  "
   ]
  },
  {
   "cell_type": "code",
   "execution_count": 48,
   "metadata": {},
   "outputs": [
    {
     "name": "stdout",
     "output_type": "stream",
     "text": [
      "adj n ppm num n n num n ppm n n n n ppm n ppm adj part n part ppm v conj v part n ppm v v part ppm punc\n",
      "adj n ppm part conj pron part ppm n n ppm adj n ppm v part part ppm pron part ppm n ppm n n v conj v part part part ppm punc\n",
      "adj n n part v part ppm punc n n v n num ppm num n part ppm n conj n n part v conj tn n tn n part ppm n n n punc n punc n punc n n conj adj n part v part part ppm punc\n",
      "adv n tn part ppm v part adj ppm punc\n",
      "n ppm n n v part n n ppm v part n ppm n part n ppm v part ppm ppm v conj part n part pron n adj conj v part v ppm punc\n",
      "n adj ppm punc adj ppm punc adj ppm punc adj ppm punc adj ppm part n n ppm v conj part v part ppm punc\n",
      "n n ppm num part part n n v v part part conj num n n n ppm adj n n ppm n ppm n part part v part part part v v part ppm punc\n",
      "n ppm n n n n ppm v conj adv v part n v ppm punc\n",
      "n part v part punc\n",
      "n n n part ppm v ppm punc\n"
     ]
    }
   ],
   "source": [
    "tail ~/linux-cmd/ctest2.tag"
   ]
  },
  {
   "cell_type": "markdown",
   "metadata": {},
   "source": [
    "အထက်ပါ ဥပမာပေးတဲ့ ဖိုင်မှာရှိတဲ့ စာကြောင်းတွေက ရှည်လျားတဲ့ အတွက် တစ်ကြောင်းထက်မက မြင်ရပေမဲ့ အမှန်တကယ်က စုစုပေါင်း ၁၀ ကြောင်းကို ရိုက်ပြသွားတာပါ။  \n",
    "\n",
    "အကြောင်းအရေအတွက်ကို \"-n\" option နဲ့ ကန့်သတ်ပေးလို့ရပါတယ်။  \n",
    "ဥပမာ ဖိုင်ရဲ့ နောက်ဆုံးစာကြောင်း တစ်ကြောင်းကို ပဲ ရိုက်ပေးစေချင်ရင် အောက်ပါအတိုင်း \"-n 1\" ဆိုပြီး option ပေးပြီး run ခိုင်းလို့ရပါတယ်။"
   ]
  },
  {
   "cell_type": "code",
   "execution_count": 49,
   "metadata": {},
   "outputs": [
    {
     "name": "stdout",
     "output_type": "stream",
     "text": [
      "n n n part ppm v ppm punc\n"
     ]
    }
   ],
   "source": [
    "tail -n 1 ~/linux-cmd/ctest2.tag"
   ]
  },
  {
   "cell_type": "markdown",
   "metadata": {},
   "source": [
    "head command မှာတုန်းကပြခဲ့သလိုပါပဲ။ \"-n\" option မထည့်ပဲ စာကြောင်းအရေအတွက်ကိုပဲ ပြောပြီး အောက်ပါအတိုင်း run လို့လည်း ရပါတယ်။"
   ]
  },
  {
   "cell_type": "code",
   "execution_count": 50,
   "metadata": {},
   "outputs": [
    {
     "name": "stdout",
     "output_type": "stream",
     "text": [
      "n n n part ppm v ppm punc\n"
     ]
    }
   ],
   "source": [
    "tail -1 ~/linux-cmd/ctest2.tag"
   ]
  },
  {
   "cell_type": "markdown",
   "metadata": {},
   "source": [
    "## 8. cp (copy files and directories)  \n",
    "ဖိုင်တွေ၊ ဖိုလ်ဒါတွေကို ကော်ပီကူးဖို့ အတွက် သုံးတဲ့ command ပါ။  \n",
    "fileA ကို လက်ရှိဖိုလ်ဒါအောက်မှာပဲ fileZ အဖြစ် ကော်ပီကူးမယ်ဆိုရင်"
   ]
  },
  {
   "cell_type": "code",
   "execution_count": 43,
   "metadata": {
    "collapsed": true
   },
   "outputs": [],
   "source": [
    "cp fileA fileZ"
   ]
  },
  {
   "cell_type": "code",
   "execution_count": 44,
   "metadata": {},
   "outputs": [
    {
     "name": "stdout",
     "output_type": "stream",
     "text": [
      "-rw-rw-r-- 1 lar lar 67  8月 11 18:05 fileA\n",
      "-rw-rw-r-- 1 lar lar 67  9月  2 08:30 fileZ\n"
     ]
    }
   ],
   "source": [
    "ls fileA fileZ -la"
   ]
  },
  {
   "cell_type": "markdown",
   "metadata": {},
   "source": [
    "ဖိုင်နာမည်တွေကို ပေးရင်းနဲ့ ဘယ် ဖိုလ်ဒါ(path) ရဲ့အောက်က ဖိုင် ကို ဘယ် ဖိုလ်ဒါအောက် ကို ကေပီကူးပေးပါ ဆိုပြီး ဖိုလ်ဒါတွေရဲ့ လမ်းကြောင်းတွေကို အတိအကျ ညွှန်ကြားပြီးလဲ ခိုင်းနိုင်ပါတယ်။ ဥပမာ အနေနဲ့ ~/bk-dlbox/tool4all/ ဖိုလ်ဒါအောက်မှရှိတဲ့ 127-135.pdf ဖိုင်ကို ./ (လက်ရှိဖိုလ်ဒါအောက်) ဆီကို ကော်ပီကူးပေးပါ ဆိုပြီး အောက်ပါအတိုင်း command ပေးနိုင်ပါတယ်။"
   ]
  },
  {
   "cell_type": "code",
   "execution_count": 45,
   "metadata": {
    "collapsed": true
   },
   "outputs": [],
   "source": [
    "cp ~/bk-dlbox/tool4all/127-135.pdf ./folderA/"
   ]
  },
  {
   "cell_type": "markdown",
   "metadata": {},
   "source": [
    "မှတ်ချက်။ ။ Linux OS မှာ \"./\" ဆိုတာက လက်ရှိရောက်နေတဲ့ ဖိုလ်ဒါpath ကို ညွှန်ပြီး၊ \"../\" ဆိုတာက လက်ရှိရှိနေတဲ့ ဖိုလ်ဒါpath ရဲ့ အထက် တဆင့်ကို ညွှန်းပါတယ်။ လက်ရှိ ဖိုလ်ဒါကိုကူးတဲ့ အခါမှာ \"./\" ဆိုတာကို ပြောမနေတော့ပဲ ကိုယ်က ကော်ပီကူးပြီး သိမ်းချင်တဲ့ ဖိုင်နာမည်ကိုပဲ တန်းပြောလို့ဖြစ်ပါတယ်။  \n",
    "\n",
    "ဖိုလ်ဒါကို ကော်ပီကူးမယ် ဆိုရင် cp command ကို \"-r\" option နဲ့ တွဲသုံးရမယ်။  \n",
    "\n",
    "ဥပမာ folderA/ ကို folderA-Copy/ အဖြစ်နဲ့ ကော်ပီကူးမယ် ဆိုရင်"
   ]
  },
  {
   "cell_type": "code",
   "execution_count": 46,
   "metadata": {
    "collapsed": true
   },
   "outputs": [],
   "source": [
    "cp -r ./folderA ./folderA-Copy"
   ]
  },
  {
   "cell_type": "markdown",
   "metadata": {},
   "source": [
    "ဆိုပြီး command ပေးပြီး ကူးခိုင်းလို့ရပါတယ်။ ./folderA-Copy ဆိုတဲ့ ဖိုလ်ဒါအသစ်ကို အောက်ပါအတိုင်း တွေ့ရပါလိမ့်မယ်။  "
   ]
  },
  {
   "cell_type": "code",
   "execution_count": 47,
   "metadata": {},
   "outputs": [
    {
     "name": "stdout",
     "output_type": "stream",
     "text": [
      "\u001b[0m\u001b[01;35mall-vi-info.jpg\u001b[0m  fileB               linux-commands.ipynb      otest.tag\n",
      "all-vi-info.txt  fileZ               linux-commands.ipynb.bak  otest.word\n",
      "binary.gv        fmt.out             linux-commands.log        process.gv\n",
      "city             \u001b[01;34mfolderA\u001b[0m/            linux-commands.out        process.pdf\n",
      "ctest2           \u001b[01;34mfolderA-Copy\u001b[0m/       linux-commands.pdf        \u001b[01;35mprocess.png\u001b[0m\n",
      "ctest2.tag       \u001b[01;34mfolder-athit\u001b[0m/       linux-commands.tex        \u001b[01;35mrandom.jpg\u001b[0m\n",
      "ctest2.word      \u001b[01;34mfolderB\u001b[0m/            ls.out                    random.txt\n",
      "\u001b[01;34mdata1\u001b[0m/           \u001b[01;34mfolder-new\u001b[0m/         \u001b[01;32mmk-wordtag.pl\u001b[0m             \u001b[01;34mscreen\u001b[0m/\n",
      "\u001b[01;34mdata2\u001b[0m/           \u001b[01;35mfruit.jpg\u001b[0m           \u001b[01;35mmyanmar-food.jpg\u001b[0m          sed.check\n",
      "\u001b[01;34mdata3\u001b[0m/           \u001b[01;35mfruit-orange.jpg\u001b[0m    myanmar-food.txt          sorted-names\n",
      "\u001b[01;34mdata4\u001b[0m/           fruit-orange.txt    myanmar-food.txt.bak      tmp\n",
      "\u001b[01;34mdata5\u001b[0m/           fruit.txt           my-news                   \u001b[01;32mtxt2jpg.sh\u001b[0m\n",
      "echo             hash.gv             newfile                   \u001b[01;34mwildcard\u001b[0m/\n",
      "empty-file.txt   \u001b[01;35mhash.png\u001b[0m            news\n",
      "fileA            item-list           numbers.txt\n",
      "\u001b[01;35mfileA.jpg\u001b[0m        linux-commands.aux  otest\n"
     ]
    }
   ],
   "source": [
    "ls -p "
   ]
  },
  {
   "cell_type": "markdown",
   "metadata": {},
   "source": [
    "ဒီနေရာမှာ \"ls\" command ရဲ့ -p option က ဖိုလ်ဒါတွေကို indicator \"/\" နဲ့ တွဲပြခိုင်းတာပါ။ ဖိုင်နဲ့ ဖိုလ်ဒါကို ကွဲကွဲပြားပြားမြင်ရအောင်လုပ်တဲ့ option ပါ။  အထူးသဖြင့်တော့ ကာလာနဲ့ မပြအောင် setting လုပ်ထားတဲ့ terminal တွေမှာသုံးလေ့ရှိပါတယ်။  "
   ]
  },
  {
   "cell_type": "markdown",
   "metadata": {},
   "source": [
    "## 9. mv (move or rename file)  \n",
    "ဖိုင်တွေ ဖိုလ်ဒါတွေကို နာမည်ပြောင်းဖို့အတွက် (သို့) နေရာတခုကနေ တခြားနေရာတခုကို ပြောင်းရွှေ့ဖို့ ဆိုရင် mv command ကိုသုံးပါတယ်။  \n",
    "အရင်ဆုံး file ဆိုတဲ့နာမည်နဲ့စတဲ့ ဖိုင်တွေ ဘယ်နှစ်ဖိုင် ရှိသလဲဆိုတာကို list လုပ်ကြည့်ရအေင်။"
   ]
  },
  {
   "cell_type": "code",
   "execution_count": 48,
   "metadata": {},
   "outputs": [
    {
     "name": "stdout",
     "output_type": "stream",
     "text": [
      "fileA  \u001b[0m\u001b[01;35mfileA.jpg\u001b[0m  fileB  fileZ\n"
     ]
    }
   ],
   "source": [
    "ls file*"
   ]
  },
  {
   "cell_type": "markdown",
   "metadata": {},
   "source": [
    "fileZ ကို fileY အဖြစ် နာမည်ပြောင်းချင်ရင် အောက်ပါအတိုင်း command ပေးလို့ ရပါတယ်။"
   ]
  },
  {
   "cell_type": "code",
   "execution_count": 49,
   "metadata": {
    "collapsed": true
   },
   "outputs": [],
   "source": [
    "mv fileZ fileY"
   ]
  },
  {
   "cell_type": "markdown",
   "metadata": {},
   "source": [
    "အထက်ပါ \"mv\" command ကို run ပြီးသွားတဲ့ အခါမှာ fileZ က fileY အဖြစ် နာမည်ပြောင်းသွားပါလိမ့်မယ်။"
   ]
  },
  {
   "cell_type": "code",
   "execution_count": 50,
   "metadata": {},
   "outputs": [
    {
     "name": "stdout",
     "output_type": "stream",
     "text": [
      "fileA  \u001b[0m\u001b[01;35mfileA.jpg\u001b[0m  fileB  fileY\n"
     ]
    }
   ],
   "source": [
    "ls file*"
   ]
  },
  {
   "cell_type": "markdown",
   "metadata": {},
   "source": [
    "နဂိုက ရှိနေတဲ့ fileZ က fileY အဖြစ်ပြောင်းသွားတာကို ls command နဲ့ confirm လုပ်ကြည့်ရင် အထက်ပါအတိုင်း တွေ့ရလိမ့်မယ်။  \n",
    "\"mv\" command နဲ့ တွဲသုံးတဲ့ \"-f\" option ကိုလဲ သိထားသင့်တယ်။  \n",
    "\"-f\" option ကိုပါတွဲသုံးရင် နာမည်ပြောင်းတာတို့ ရွှေ့တာတို့လုပ်တဲ့ အခါမှာ တကယ်လို့ အရင်ရှိနေတဲ့ နာမည်တူ ဖိုင်၊ ဖိုလ်ဒါကို overwrite လုပ်ဖို့ လိုအပ်လာတဲ့ အခါမှာ ဘာမှ confirm လုပ်တာ၊ မေးတာ မလုပ်ပဲ နာမည်ပြောင်းချပေးသွားလိမ့်မယ်။ တနည်းအားဖြင့်ပြောရရင် အရင်ဖိုင် (သို့) ဖိုလ်ဒါရှိနေတာ ငါသိပြီးသား၊ လုပ်သာလုပ်ဆိုပြီး by force နဲ့ mv လုပ်ခိုင်းတာ။  \n",
    "\n",
    "ဥပမာ အနေနဲ့၊ ပရိုဂရမ်ထဲကနေ mv လုပ်ခိုင်းတာမျိုးမှာ အရင်ရှိပြီးသားဖိုင်တွေနဲ့ ပတ်သက်ပြီး တွေ့လာတိုင်း ဖြေနေစရာ မလိုအောင်လို့ \"-f\" option ကို သုံးတယ်။\n",
    "မသုံးခင်မှာ သေသေချာချာ စဉ်းစားပါ။  \n",
    "\n",
    "## 10. rm (remove files or directories)  \n",
    "ဖိုင်တွေ၊ ဖိုလ်ဒါတွေကို ဖျက်ဖို့အတွက် သုံးတဲ့ command ပါ။  \n",
    "ဥပမာ fileY ကို ဖျက်မယ်ဆိုရင်  "
   ]
  },
  {
   "cell_type": "code",
   "execution_count": 51,
   "metadata": {
    "collapsed": true
   },
   "outputs": [],
   "source": [
    "rm fileY"
   ]
  },
  {
   "cell_type": "markdown",
   "metadata": {},
   "source": [
    "ဖျက်ပြီး သွားပြီလား ဆိုတာကို ls command နဲ့ confirm လုပ်ကြည့်တဲ့ အခါမှာ၊ ဖျက်ပြီးသွားကြောင်း၊ fileY က မရှိတော့ကြောင်း တွေ့ရပါလိမ့်မယ်။  "
   ]
  },
  {
   "cell_type": "code",
   "execution_count": 52,
   "metadata": {},
   "outputs": [
    {
     "name": "stdout",
     "output_type": "stream",
     "text": [
      "fileA  \u001b[0m\u001b[01;35mfileA.jpg\u001b[0m  fileB\n"
     ]
    }
   ],
   "source": [
    "ls file*"
   ]
  },
  {
   "cell_type": "markdown",
   "metadata": {},
   "source": [
    "ဖိုလ်ဒါကို ဖျက်မယ်ဆိုရင် rm command ကို \"-r\" option နဲ့ တွဲသုံးတယ်။  \n",
    "အရင်ဆုံး လက်ရှိရောက်နေတဲ့ ဖိုလ်ဒါအောက်မှာ ဘာဖိုင်တွေ၊ ဘာဖိုလ်ဒါတွေ ရှိသလဲ ls command နဲ့ ရိုက်ပြခိုင်းမယ်။  "
   ]
  },
  {
   "cell_type": "code",
   "execution_count": 53,
   "metadata": {},
   "outputs": [
    {
     "name": "stdout",
     "output_type": "stream",
     "text": [
      "\u001b[0m\u001b[01;35mall-vi-info.jpg\u001b[0m  \u001b[01;35mfileA.jpg\u001b[0m         linux-commands.aux        numbers.txt\n",
      "all-vi-info.txt  fileB             linux-commands.ipynb      otest\n",
      "binary.gv        fmt.out           linux-commands.ipynb.bak  otest.tag\n",
      "city             \u001b[01;34mfolderA\u001b[0m/          linux-commands.log        otest.word\n",
      "ctest2           \u001b[01;34mfolderA-Copy\u001b[0m/     linux-commands.out        process.gv\n",
      "ctest2.tag       \u001b[01;34mfolder-athit\u001b[0m/     linux-commands.pdf        process.pdf\n",
      "ctest2.word      \u001b[01;34mfolderB\u001b[0m/          linux-commands.tex        \u001b[01;35mprocess.png\u001b[0m\n",
      "\u001b[01;34mdata1\u001b[0m/           \u001b[01;34mfolder-new\u001b[0m/       ls.out                    \u001b[01;35mrandom.jpg\u001b[0m\n",
      "\u001b[01;34mdata2\u001b[0m/           \u001b[01;35mfruit.jpg\u001b[0m         \u001b[01;32mmk-wordtag.pl\u001b[0m             random.txt\n",
      "\u001b[01;34mdata3\u001b[0m/           \u001b[01;35mfruit-orange.jpg\u001b[0m  \u001b[01;35mmyanmar-food.jpg\u001b[0m          \u001b[01;34mscreen\u001b[0m/\n",
      "\u001b[01;34mdata4\u001b[0m/           fruit-orange.txt  myanmar-food.txt          sed.check\n",
      "\u001b[01;34mdata5\u001b[0m/           fruit.txt         myanmar-food.txt.bak      sorted-names\n",
      "echo             hash.gv           my-news                   tmp\n",
      "empty-file.txt   \u001b[01;35mhash.png\u001b[0m          newfile                   \u001b[01;32mtxt2jpg.sh\u001b[0m\n",
      "fileA            item-list         news                      \u001b[01;34mwildcard\u001b[0m/\n"
     ]
    }
   ],
   "source": [
    "ls -p "
   ]
  },
  {
   "cell_type": "markdown",
   "metadata": {},
   "source": [
    "စောစောက ကော်ပီကူးထားခဲ့တဲ့ folderA-Copy ဆိုတာကို -r option မသုံးပဲ ဖျက်ကြည့်ရအောင်။  "
   ]
  },
  {
   "cell_type": "code",
   "execution_count": 54,
   "metadata": {},
   "outputs": [
    {
     "name": "stdout",
     "output_type": "stream",
     "text": [
      "rm: cannot remove 'folderA-Copy': Is a directory\n"
     ]
    },
    {
     "ename": "",
     "evalue": "1",
     "output_type": "error",
     "traceback": []
    }
   ],
   "source": [
    "rm folderA-Copy"
   ]
  },
  {
   "cell_type": "markdown",
   "metadata": {},
   "source": [
    "directory (သို့) ဖိုလ်ဒါ ဖြစ်နေလို့ \"rm\" command က ဖျက်လို့ မရကြောင်း error message ပေးပါလိမ့်မယ်။  \n",
    "\"-r\" option ကို သုံးပြီး ဖျက်ကြည့်မယ်။  "
   ]
  },
  {
   "cell_type": "code",
   "execution_count": 55,
   "metadata": {
    "collapsed": true
   },
   "outputs": [],
   "source": [
    "rm -r folderA-Copy"
   ]
  },
  {
   "cell_type": "code",
   "execution_count": 56,
   "metadata": {},
   "outputs": [
    {
     "name": "stdout",
     "output_type": "stream",
     "text": [
      "\u001b[0m\u001b[01;35mall-vi-info.jpg\u001b[0m  \u001b[01;35mfileA.jpg\u001b[0m           linux-commands.ipynb      otest\n",
      "all-vi-info.txt  fileB               linux-commands.ipynb.bak  otest.tag\n",
      "binary.gv        fmt.out             linux-commands.log        otest.word\n",
      "city             \u001b[01;34mfolderA\u001b[0m/            linux-commands.out        process.gv\n",
      "ctest2           \u001b[01;34mfolder-athit\u001b[0m/       linux-commands.pdf        process.pdf\n",
      "ctest2.tag       \u001b[01;34mfolderB\u001b[0m/            linux-commands.tex        \u001b[01;35mprocess.png\u001b[0m\n",
      "ctest2.word      \u001b[01;34mfolder-new\u001b[0m/         ls.out                    \u001b[01;35mrandom.jpg\u001b[0m\n",
      "\u001b[01;34mdata1\u001b[0m/           \u001b[01;35mfruit.jpg\u001b[0m           \u001b[01;32mmk-wordtag.pl\u001b[0m             random.txt\n",
      "\u001b[01;34mdata2\u001b[0m/           \u001b[01;35mfruit-orange.jpg\u001b[0m    \u001b[01;35mmyanmar-food.jpg\u001b[0m          \u001b[01;34mscreen\u001b[0m/\n",
      "\u001b[01;34mdata3\u001b[0m/           fruit-orange.txt    myanmar-food.txt          sed.check\n",
      "\u001b[01;34mdata4\u001b[0m/           fruit.txt           myanmar-food.txt.bak      sorted-names\n",
      "\u001b[01;34mdata5\u001b[0m/           hash.gv             my-news                   tmp\n",
      "echo             \u001b[01;35mhash.png\u001b[0m            newfile                   \u001b[01;32mtxt2jpg.sh\u001b[0m\n",
      "empty-file.txt   item-list           news                      \u001b[01;34mwildcard\u001b[0m/\n",
      "fileA            linux-commands.aux  numbers.txt\n"
     ]
    }
   ],
   "source": [
    "ls -p"
   ]
  },
  {
   "cell_type": "markdown",
   "metadata": {},
   "source": [
    "folder A-Copy/ ကပျက်သွား တာကို တွေ့ရမယ်။  \n",
    "<span style=\"color:red\">rm command က အရမ်း အန္တရာယ်ရှိတဲ့ command တခု ဖြစ်ပါတယ်။  \n",
    "နောက် Linux OS command-line မှာ မှားဖျက်လိုက်မိတဲ့ ဖိုင်ကို ပြန်ရဖို့ဆိုတာမျိုး သိပ်မမျှော်လင့်ပါနဲ့။  \n",
    "သတိထားပြီး သုံးပါ။</span>  \n",
    "\n",
    "## 11. alias (create simple names or abbreviations)  \n",
    "\"alias\" က အသုံးများတဲ့ command တွေကို ကိုယ်လိုချင်တဲ့ option တွေနဲ့ setting လုပ်ထားပြီး command နာမည်အသစ်အနေနဲ့ သိမ်းပေးနိုင်။  \n",
    "\n",
    "ဥပမာ ။။ ls -la (-l က long listing format, -a က all ဆိုတဲ့ option ဖွက်ထားတဲ့ ဖိုင်တွေလဲပြ) command ကို \"ll\" ဆိုတဲ့ နာမည်နဲ့ alias လုပ်ထား လို့ရပါတယ်။ အောက်ပါ အတိုင်း alias လုပ်ကြည့်ပြီး \"ll\" (double L) ကို run ကြည့်ပါ။"
   ]
  },
  {
   "cell_type": "code",
   "execution_count": 57,
   "metadata": {
    "collapsed": true
   },
   "outputs": [],
   "source": [
    "alias ll='ls -la'"
   ]
  },
  {
   "cell_type": "code",
   "execution_count": 58,
   "metadata": {},
   "outputs": [
    {
     "name": "stdout",
     "output_type": "stream",
     "text": [
      "total 6268\n",
      "drwxrwxr-x 14 lar lar    4096  9月  2 08:31 \u001b[0m\u001b[01;34m.\u001b[0m\n",
      "drwxr-xr-x 50 lar lar    4096  9月  1 23:27 \u001b[01;34m..\u001b[0m\n",
      "-rw-rw-r--  1 lar lar  339016  8月 27 20:02 \u001b[01;35mall-vi-info.jpg\u001b[0m\n",
      "-rw-rw-r--  1 lar lar   16937  8月 11 11:14 all-vi-info.txt\n",
      "-rw-rw-r--  1 lar lar     141  8月 27 16:21 binary.gv\n",
      "-rw-rw-r--  1 lar lar     104  8月 12 01:21 city\n",
      "-rw-rw-r--  1 lar lar   84001  9月  2 08:07 ctest2\n",
      "-rw-rw-r--  1 lar lar   16401  9月  2 08:13 ctest2.tag\n",
      "-rw-rw-r--  1 lar lar       0  9月  2 08:13 ctest2.word\n",
      "drwxrwxr-x  2 lar lar    4096  8月 11 11:14 \u001b[01;34mdata1\u001b[0m\n",
      "drwxrwxr-x  2 lar lar    4096  8月 11 11:14 \u001b[01;34mdata2\u001b[0m\n",
      "drwxrwxr-x  2 lar lar    4096  8月 11 11:14 \u001b[01;34mdata3\u001b[0m\n",
      "drwxrwxr-x  2 lar lar    4096  8月 11 11:14 \u001b[01;34mdata4\u001b[0m\n",
      "drwxrwxr-x  2 lar lar    4096  8月 11 11:14 \u001b[01;34mdata5\u001b[0m\n",
      "-rw-rw-r--  1 lar lar       0  8月 11 11:14 echo\n",
      "-rw-rw-r--  1 lar lar       0  9月  1 22:46 empty-file.txt\n",
      "-rw-rw-r--  1 lar lar      67  8月 11 18:05 fileA\n",
      "-rw-rw-r--  1 lar lar   16509  8月 27 19:52 \u001b[01;35mfileA.jpg\u001b[0m\n",
      "-rw-rw-r--  1 lar lar      61  8月 11 11:14 fileB\n",
      "-rw-rw-r--  1 lar lar       0  8月 11 11:14 .fileC\n",
      "-rw-rw-r--  1 lar lar    3117  8月 11 11:14 fmt.out\n",
      "drwxrwxr-x  2 lar lar    4096  8月 11 11:14 \u001b[01;34mfolderA\u001b[0m\n",
      "drwxrwxr-x  2 lar lar    4096  8月 11 18:04 \u001b[01;34mfolder-athit\u001b[0m\n",
      "drwxrwxr-x  2 lar lar    4096  8月 11 18:05 \u001b[01;34mfolderB\u001b[0m\n",
      "drwxrwxr-x  3 lar lar    4096  8月 11 19:35 \u001b[01;34mfolder-new\u001b[0m\n",
      "-rw-rw-r--  1 lar lar   12973  8月 27 20:02 \u001b[01;35mfruit.jpg\u001b[0m\n",
      "-rw-rw-r--  1 lar lar   13494  8月 27 20:02 \u001b[01;35mfruit-orange.jpg\u001b[0m\n",
      "-rw-rw-r--  1 lar lar      51  8月 18 13:07 fruit-orange.txt\n",
      "-rw-rw-r--  1 lar lar      47  8月 18 09:05 fruit.txt\n",
      "-rw-rw-r--  1 lar lar     607  8月 27 16:32 hash.gv\n",
      "-rw-rw-r--  1 lar lar   13136  8月 27 16:34 \u001b[01;35mhash.png\u001b[0m\n",
      "drwxr-xr-x  2 lar lar    4096  8月 11 11:14 \u001b[01;34m.ipynb_checkpoints\u001b[0m\n",
      "-rw-rw-r--  1 lar lar      51  9月  2 08:30 item-list\n",
      "-rw-rw-r--  1 lar lar   14017  8月 27 12:06 linux-commands.aux\n",
      "-rw-rw-r--  1 lar lar  374547  9月  2 08:31 linux-commands.ipynb\n",
      "-rw-rw-r--  1 lar lar  422576  9月  1 23:27 linux-commands.ipynb.bak\n",
      "-rw-rw-r--  1 lar lar 2913744  8月 27 12:06 linux-commands.log\n",
      "-rw-rw-r--  1 lar lar    5096  8月 27 12:06 linux-commands.out\n",
      "-rw-------  1 lar lar  771468  9月  1 23:28 linux-commands.pdf\n",
      "-rw-rw-r--  1 lar lar  357670  8月 27 12:00 linux-commands.tex\n",
      "-rw-rw-r--  1 lar lar     177  8月 11 11:14 ls.out\n",
      "-rwxrwxr-x  1 lar lar    3964  9月  2 08:12 \u001b[01;32mmk-wordtag.pl\u001b[0m\n",
      "-rw-rw-r--  1 lar lar   11380  8月 27 20:02 \u001b[01;35mmyanmar-food.jpg\u001b[0m\n",
      "-rw-rw-r--  1 lar lar      38  9月  2 08:27 myanmar-food.txt\n",
      "-rw-rw-r--  1 lar lar      32  9月  2 08:27 myanmar-food.txt.bak\n",
      "-rw-rw-r--  1 lar lar    3117  8月 11 11:14 my-news\n",
      "-rw-rw-r--  1 lar lar       0  2月  3  2015 newfile\n",
      "-rw-rw-r--  1 lar lar    4246  8月 11 11:14 news\n",
      "-rw-rw-r--  1 lar lar      52  8月 31 19:30 numbers.txt\n",
      "-rw-r--r--  1 lar lar  377269  8月 11 11:14 otest\n",
      "-rw-r--r--  1 lar lar   73420  8月 11 11:14 otest.tag\n",
      "-rw-r--r--  1 lar lar  303849  8月 11 11:14 otest.word\n",
      "-rw-rw-r--  1 lar lar     365  8月 27 16:24 process.gv\n",
      "-rw-rw-r--  1 lar lar   14251  8月 27 16:42 process.pdf\n",
      "-rw-rw-r--  1 lar lar   38814  8月 27 16:35 \u001b[01;35mprocess.png\u001b[0m\n",
      "-rw-rw-r--  1 lar lar   16694  8月 27 20:02 \u001b[01;35mrandom.jpg\u001b[0m\n",
      "-rw-rw-r--  1 lar lar      67  8月 15 17:35 random.txt\n",
      "drwxrwxr-x  2 lar lar    4096  8月 13 11:59 \u001b[01;34mscreen\u001b[0m\n",
      "-rw-rw-r--  1 lar lar      38  8月 28 15:33 sed.check\n",
      "-rw-rw-r--  1 lar lar      68  8月 11 11:14 sorted-names\n",
      "-rw-rw-r--  1 lar lar      80  8月 27 23:22 tmp\n",
      "-rwxrwxr-x  1 lar lar     222  8月 27 20:02 \u001b[01;32mtxt2jpg.sh\u001b[0m\n",
      "drwxrwxr-x  2 lar lar    4096  8月 12 00:43 \u001b[01;34mwildcard\u001b[0m\n"
     ]
    }
   ],
   "source": [
    "ll"
   ]
  },
  {
   "cell_type": "markdown",
   "metadata": {},
   "source": [
    "နောက်ထပ် ဥပမာ တစ်ခုအနေနဲ့ cd .., cd .., cd .. ကို သုံးခါရိုက်ပြီး လက်ရှိpath ကနေ အထက်သုံးဆင့်တက်တဲ့ ကိစ္စက နေ့စဉ်လိုလို သုံးရလို့ အောက်ပါအတိုင်း alias လုပ်ထားတော့ အဆင်ပြေတာပေါ့။  "
   ]
  },
  {
   "cell_type": "code",
   "execution_count": 59,
   "metadata": {
    "collapsed": true
   },
   "outputs": [],
   "source": [
    "alias ...='cd ../../'"
   ]
  },
  {
   "cell_type": "markdown",
   "metadata": {},
   "source": [
    "setting လုပ်ထားတဲ့ alias ကို သုံးပြဖို့အတွက်၊ လက်ရှိ ရောက်ရှိနေတဲ့path ကနေ /usr/share/calendar/အောက်ကို အရင်ရွှေ့မယ်။"
   ]
  },
  {
   "cell_type": "code",
   "execution_count": 60,
   "metadata": {
    "collapsed": true
   },
   "outputs": [],
   "source": [
    "cd /usr/share/calendar/"
   ]
  },
  {
   "cell_type": "markdown",
   "metadata": {},
   "source": [
    "မြင်သာအောင်၊ လက်ရှိရောက်နေတဲ့ path ကို pwd command နဲ့ print ထုတ်ခိုင်းမယ်။"
   ]
  },
  {
   "cell_type": "code",
   "execution_count": 61,
   "metadata": {},
   "outputs": [
    {
     "name": "stdout",
     "output_type": "stream",
     "text": [
      "/usr/share/calendar\n"
     ]
    }
   ],
   "source": [
    "pwd"
   ]
  },
  {
   "cell_type": "markdown",
   "metadata": {},
   "source": [
    "... command ကိုသုံးပြီး အထက် ၃ဆင့်မှာရှိတဲ့ folderကို ရွှေ့မယ်။"
   ]
  },
  {
   "cell_type": "code",
   "execution_count": 62,
   "metadata": {
    "collapsed": true
   },
   "outputs": [],
   "source": [
    "..."
   ]
  },
  {
   "cell_type": "markdown",
   "metadata": {},
   "source": [
    "လက်ရှိ ရောက်ရှိနေတဲ့ path ကို ပြန်စစ်ဆေးကြည့်ဖို့ အတွက် \"pwd\" command ကိုရိုက်ကြည့်ပါ။"
   ]
  },
  {
   "cell_type": "code",
   "execution_count": 63,
   "metadata": {},
   "outputs": [
    {
     "name": "stdout",
     "output_type": "stream",
     "text": [
      "/usr\n"
     ]
    }
   ],
   "source": [
    "pwd"
   ]
  },
  {
   "cell_type": "markdown",
   "metadata": {},
   "source": [
    "လက်ရှိ ကိုယ်သုံးနေတဲ့စက်မှာ ဘယ်လို alias တွေရှိနေသလဲ ဆိုတာကို သိချင်ရင်  "
   ]
  },
  {
   "cell_type": "code",
   "execution_count": 64,
   "metadata": {},
   "outputs": [
    {
     "name": "stdout",
     "output_type": "stream",
     "text": [
      "alias ...='cd ../../'\n",
      "alias alert='notify-send --urgency=low -i \"$([ $? = 0 ] && echo terminal || echo error)\" \"$(history|tail -n1|sed -e '\\''s/^\\s*[0-9]\\+\\s*//;s/[;&|]\\s*alert$//'\\'')\"'\n",
      "alias egrep='egrep --color=auto'\n",
      "alias fgrep='fgrep --color=auto'\n",
      "alias grep='grep --color=auto'\n",
      "alias l='ls -CF'\n",
      "alias la='ls -A'\n",
      "alias ll='ls -la'\n",
      "alias ls='ls --color=auto'\n"
     ]
    }
   ],
   "source": [
    "alias"
   ]
  },
  {
   "cell_type": "markdown",
   "metadata": {},
   "source": [
    "မှတ်ချက်။။ ကိုယ်ကသုံးနေတဲ့ စက်ရဲ့ အနေအထားပေါ်မှာ မူတည်ပြီး အထက်မှာမြင်ရတာနဲ့တော့ တူမှာမဟုတ်ပါဘူး။ "
   ]
  },
  {
   "cell_type": "markdown",
   "metadata": {},
   "source": [
    "## 12. touch (change file timestamps)  \n"
   ]
  },
  {
   "cell_type": "markdown",
   "metadata": {},
   "source": [
    "touch command က ဖိုင် တဖိုင်ရဲ့ timestamps (ဖိုင်ကို စဆောက် တဲ့အချိန်၊ ရေးတဲ့ အချိန်၊ ဖတ်တဲ့ အချိန်) တွေကို ပြင်တဲ့အခါသုံးလေ့ရှိပါတယ်။  \n",
    "\n",
    "ဥပမာ fileA ရဲ့ နောက်ဆုံး ပြင်ဆင်ခဲ့တဲ့ အချိန်ကို \"ls\" command ကို \"-l\" option ပေးပြီး ကြည့်နိုင်တယ်။  "
   ]
  },
  {
   "cell_type": "code",
   "execution_count": 65,
   "metadata": {},
   "outputs": [
    {
     "name": "stdout",
     "output_type": "stream",
     "text": [
      "-rw-rw-r-- 1 lar lar 67  8月 11 18:05 fileA\n"
     ]
    }
   ],
   "source": [
    "cd ~/linux-cmd/\n",
    "ls -l fileA"
   ]
  },
  {
   "cell_type": "markdown",
   "metadata": {},
   "source": [
    "\"touch fileA\" ဆိုတဲ့ အမိန့်နဲ့ fileA ရဲ့ timestamps ကို လက်ရှိအချိန်နဲ့ ပြင်မယ်။  \n",
    "ပြီးရင် \"ls -l fileA\"  ဆိုတဲ့ အမိန့်နဲ့ fileA ရဲ့ timestamps ကို ပြန်စစ်ကြည့်မယ်။"
   ]
  },
  {
   "cell_type": "code",
   "execution_count": 66,
   "metadata": {},
   "outputs": [
    {
     "name": "stdout",
     "output_type": "stream",
     "text": [
      "-rw-rw-r-- 1 lar lar 67  9月  2 08:32 fileA\n"
     ]
    }
   ],
   "source": [
    "touch fileA\n",
    "ls -l fileA"
   ]
  },
  {
   "cell_type": "markdown",
   "metadata": {},
   "source": [
    "\"月\" ဆိုတဲ့ စာလုံးက ဂျပန်စာမှာ လ ကိုပြောတာပါ။ ဥပမာ ၆လပိုင်းဆိုရင် \"6月\" ရေးပါတယ်။  \n",
    "နဂိုရှိနေတဲ့ fileA ရဲ့ လ၊ ရက် နဲ့ အချိန်တွေ ပြောင်းလဲသွားတာကို တွေ့ရပါလိမ့်မယ်။  \n",
    "\n",
    "Linux OS တွေမှာ POSIX standard သတ်မှတ်ချက်အရ၊ ဖိုင်တဖိုင်ရဲ့ ဒေတာတွေကို နောက်ဆုံး ဖတ်တဲ့အချိန် (last data access timestamp)၊ နောက်ဆုံး ဒေတာတွေကို ပြင်ဆင်ခဲ့တဲ့ အချိန် (last data modification timestamp) နဲ့ နောက်ဆုံး ဖိုင်ရဲ့ status တွေကို ပြင်ခဲ့တဲ့ အချိန် (last file status change timestamp) ဆိုပြီး timestamp ၃မျိုးရှိပါတယ်။ အတိုကောက်အနေနဲ့ last data access timestamp ကို \"atime\"၊ last data modification timestamp ကို \"mtime\"၊ last file status change timestamp ကို \"ctime\" ဆိုပြီးလဲခေါ်ကြပါတယ်။ ဖိုင်တဖိုင်ရဲ့ အဲဒီအချိန်တွေကို အသေးစိတ်သိချင်ရင် \"stat\" ဆိုတဲ့ command ကို သုံးပြီးကြည့်နိုင်ပါတယ်။"
   ]
  },
  {
   "cell_type": "code",
   "execution_count": 67,
   "metadata": {},
   "outputs": [
    {
     "name": "stdout",
     "output_type": "stream",
     "text": [
      "  File: 'fileA'\n",
      "  Size: 67        \tBlocks: 8          IO Block: 4096   regular file\n",
      "Device: 802h/2050d\tInode: 677359      Links: 1\n",
      "Access: (0664/-rw-rw-r--)  Uid: ( 1000/     lar)   Gid: ( 1000/     lar)\n",
      "Access: 2017-09-02 08:32:17.419491625 +0900\n",
      "Modify: 2017-09-02 08:32:17.419491625 +0900\n",
      "Change: 2017-09-02 08:32:17.419491625 +0900\n",
      " Birth: -\n"
     ]
    }
   ],
   "source": [
    "stat fileA"
   ]
  },
  {
   "cell_type": "markdown",
   "metadata": {},
   "source": [
    "\"touch\" command ရဲ့ \"-t\" option ကိုသုံးပြီး ဖိုင်ရဲ့ timestampကို ကိုယ်လိုချင်တဲ့ အချိန်အဖြစ် ပြောင်းခိုင်းလို့ရပါတယ်။ ဖိုင်အသစ်တခုကိုလည်း ကိုယ်လိုချင်တဲ့ timestampနဲ့ ပေးပြီး ဆောက်ခိုင်းလို့ရပါတယ်။ ဥပမာ ဖိုင်အသစ်တဖိုင်ကို -t 201502032030.10 option ပေးပြီး touch လုပ်ကြည့်ရအောင်။ ဒီနေရာမှာ အချိန်ကိုပေးရတဲ့ format က [[CC]YY]MMDDhhmm[.ss] ဆိုတဲ့ ပုံစံနဲ့ပါ။ ဒီနေရာမှာ CC ဆိုတာက ခုနှစ်တခုရဲ့ ပထမဆုံးစာလုံး၂လုံးကို ဆိုလိုပါတယ်။  "
   ]
  },
  {
   "cell_type": "code",
   "execution_count": 68,
   "metadata": {
    "collapsed": true
   },
   "outputs": [],
   "source": [
    "touch  -t 201502032030.10 newfile"
   ]
  },
  {
   "cell_type": "code",
   "execution_count": 69,
   "metadata": {},
   "outputs": [
    {
     "name": "stdout",
     "output_type": "stream",
     "text": [
      "  File: 'newfile'\n",
      "  Size: 0         \tBlocks: 0          IO Block: 4096   regular empty file\n",
      "Device: 802h/2050d\tInode: 677350      Links: 1\n",
      "Access: (0664/-rw-rw-r--)  Uid: ( 1000/     lar)   Gid: ( 1000/     lar)\n",
      "Access: 2015-02-03 20:30:10.000000000 +0900\n",
      "Modify: 2015-02-03 20:30:10.000000000 +0900\n",
      "Change: 2017-09-02 08:32:25.491023568 +0900\n",
      " Birth: -\n"
     ]
    }
   ],
   "source": [
    "stat newfile"
   ]
  },
  {
   "cell_type": "markdown",
   "metadata": {},
   "source": [
    "ကျွန်တော် အများဆုံး သုံးဖြစ်တဲ့ ပုံစံကတော့ blank file တခုကို အသစ်လုပ်ချင်ရင် \"touch filename\" ဆိုပြီး ဖိုင်အသစ်တခုကို ဆောက်တဲ့ ပုံစံပါ။"
   ]
  },
  {
   "cell_type": "markdown",
   "metadata": {},
   "source": [
    "## 13. diff (compare files line by line)  \n",
    "\n",
    "ဖိုင်နှစ်ခုကို တူမတူ စာကြောင်းတစ်ကြောင်းချင်းစီ တိုက်စစ်ချင်တဲ့ အခါမှာ သုံးပါတယ်။"
   ]
  },
  {
   "cell_type": "markdown",
   "metadata": {},
   "source": [
    "အရင်ဆုံး fileA ထဲမှာ ဘာတွေရှိသလဲ ဆိုတာကို cat command နဲ့ ရိုက်ကြည့်မယ်။  \n",
    "\"-n\" option ပေးပြီးတော့ လိုင်းနံပါတ်ကိုပါ ထိုးခိုင်းပါမယ်။ အောက်ပါအတိုင်းမြင်ရပါလိမ့်မယ်။  "
   ]
  },
  {
   "cell_type": "code",
   "execution_count": 70,
   "metadata": {},
   "outputs": [
    {
     "name": "stdout",
     "output_type": "stream",
     "text": [
      "     1\tMingalar bar!\n",
      "     2\tI am fileA.\n",
      "     3\tI was born in April.\n",
      "     4\tMy blood type is O.\n"
     ]
    }
   ],
   "source": [
    "cat -n fileA"
   ]
  },
  {
   "cell_type": "markdown",
   "metadata": {},
   "source": [
    "ပြီးတော့ fileB ထဲမှာ ဘာတွေရှိသလဲ ဆိုတာကိုလည်း cat command နဲ့ ရိုက်ကြည့်မယ်။  \n",
    "fileB မှာက ငါးကြောင်းမြောက်မှာ ဘာစာလုံးမှမရှိတဲ့ စာကြောင်းတစ်ကြောင်း ရှိနေကြောင်း တွေ့ရပါလိမ့်မယ်။  \n",
    "ဘာစာမှ မရိုက်ပဲ enter ကီးကို ခေါက်ထားတဲ့ အခါမျိုးမှာ ဒီလိုမျိုး ရှိနေတတ်ပါတယ်။  "
   ]
  },
  {
   "cell_type": "code",
   "execution_count": 71,
   "metadata": {},
   "outputs": [
    {
     "name": "stdout",
     "output_type": "stream",
     "text": [
      "     1\tHi!\n",
      "     2\tI am fileB.\n",
      "     3\tI was born in November.\n",
      "     4\tMy blood type is O.\n",
      "     5\t\n"
     ]
    }
   ],
   "source": [
    "cat -n fileB"
   ]
  },
  {
   "cell_type": "markdown",
   "metadata": {},
   "source": [
    "အထက်ပါ fileA နဲ့ fileB နှစ်ဖိုင်ကို diff command ကို သုံးပြီး နှိုင်းယှဉ်ကြည့်ရင် အောက်ပါအတိုင်း မြင်ရပါလိမ့်မယ်။  \n"
   ]
  },
  {
   "cell_type": "code",
   "execution_count": 72,
   "metadata": {},
   "outputs": [
    {
     "name": "stdout",
     "output_type": "stream",
     "text": [
      "1,3c1,3\n",
      "< Mingalar bar!\n",
      "< I am fileA.\n",
      "< I was born in April.\n",
      "---\n",
      "> Hi!\n",
      "> I am fileB.\n",
      "> I was born in November.\n",
      "4a5\n",
      "> \n"
     ]
    },
    {
     "ename": "",
     "evalue": "1",
     "output_type": "error",
     "traceback": []
    }
   ],
   "source": [
    "diff fileA fileB"
   ]
  },
  {
   "cell_type": "markdown",
   "metadata": {},
   "source": [
    "ဒီနေရာမှာ \"<\" နဲ့ ပြတာက fileA က စာကြောင်းတွေဖြစ်ပြီး၊ \">\" နဲ့ ပြတာက fileB က မတူတဲ့ စာကြောင်းတွေ ပါ။  \n",
    "diff command က command parameter အနေနဲ့ ပထမဆုံးပေးတဲ့ ဖိုင် fileA ကို ဒုတိယ command parameter ဖြစ်တဲ့ fileB နဲ့တူဖို့အတွက် ဘယ်စာကြောင်းတွေကို ပြင်ရမလဲ ဆိုတဲ့ ပုံစံမျိုးနဲ့ ပြပေးပါတယ်။  \n",
    "အသေးစိတ် ရှင်းပြရရင်၊ output လုပ်ပေးတဲ့ ပထမဆုံးစာကြောင်း \"1,3c1,3\" မှာ ပထမ 1,3 ဆိုတာက fileA ရဲ့ စာကြောင်းနံပါတ် 1 ကနေ စာကြောင်းနံပါတ် 3 အထိ ကို \"c\" (change) ပြင်ရမယ်။ ဒုတိယပြတဲ့ 1,3 ကတော့၊ အဲဒီ ပြင်ရမယ်ဆိုတာက fileB ရဲ့ စာကြောင်းနံပါတ် 1 ကနေ စာကြောင်းနံပါတ် 3 နဲ့တူဖို့အတွက်လို ဆိုလိုတာပါ။  \n",
    "\"---\" က fileA နဲ့ fileB ကို ခွဲခြားပေးထားတဲ့ လိုင်းပါ။  \n",
    "နောက်ဆုံး ပြတဲ့ 4a5 ဆိုတာက ပထမဆုံးဖိုင်က လေးကြောင်းမြောက်နေရာမှာ a (add) စာကြောင်းသစ်အနေနဲ့ ထည့်ရမယ်၊ ဒုတိယဖိုင် fileB က စာကြောင်းနံပါတ် ၅ ကိုလို့ ဆိုလိုပါတယ်။ ဒီနေရာမှာ fileB ရဲ့စာကြောင်း နံပါတ်၅က ဘာမှမရှိဘူးလို့မြင်နေရတဲ့ (Enter တခုပိုခေါက်ထားမိတဲ့) စာကြောင်းပါ။\n",
    "\n",
    "မှတ်ချက်။ ။ a, b, c ဆိုပြီး ဘယ်လို editing လုပ်ရမယ်ဆိုတာကို အတိုကောက်ပြပြီး အချက်အလက်အနေနဲ့ ဖော်ပြပါတယ်။  \n",
    "ဒီနေရာမှာ \"a\" for \"add\", \"c\" for \"change\", \"d\" for \"delete\" ဆိုပြီး မှတ်သားထားပါ။  \n",
    "\n",
    "\"diff\" command ကို \"-c\" option ကိုသုံးပြီး contextual mode အနေနဲ့ ပြခိုင်းလို့လဲ ရပါတယ်။"
   ]
  },
  {
   "cell_type": "code",
   "execution_count": 73,
   "metadata": {},
   "outputs": [
    {
     "name": "stdout",
     "output_type": "stream",
     "text": [
      "*** fileA\t2017-09-02 08:32:17.419491625 +0900\n",
      "--- fileB\t2017-08-11 11:14:36.068526803 +0900\n",
      "***************\n",
      "*** 1,4 ****\n",
      "! Mingalar bar!\n",
      "! I am fileA.\n",
      "! I was born in April.\n",
      "  My blood type is O.\n",
      "--- 1,5 ----\n",
      "! Hi!\n",
      "! I am fileB.\n",
      "! I was born in November.\n",
      "  My blood type is O.\n",
      "+ \n"
     ]
    },
    {
     "ename": "",
     "evalue": "1",
     "output_type": "error",
     "traceback": []
    }
   ],
   "source": [
    "diff fileA fileB -c"
   ]
  },
  {
   "cell_type": "markdown",
   "metadata": {},
   "source": [
    " အထက်မှာ မြင်ရတဲ့ ပထမဆုံးစာကြောင်း နှစ်ကြောင်းက နှိုင်းယှဉ်ကြည့်နေတဲ့ ဖိုင်နာမည် ၂ခု နဲ့ အဲဒီဖိုင်တွေကို နောက်ဆုံး ပြင်ခဲ့တဲ့ ရက်စွဲ၊ နာရီ ကိုပြသတာပါ။  \n",
    " +0900 ဆိုတာက GMT +9၊ ဂျပန် timezone ဖြစ်တဲ့ Greenwich Mean Time +9 ကိုပြောတာပါ။  \n",
    " ! အမှတ်အသားက ဖိုင်နှစ်ဖိုင်ကို တူဖို့အတွက် ပြင်ဖို့လိုအပ်တဲ့ စာကြောင်းတွေကို ပြတာပါ။  \n",
    " စာကြောင်းရဲ့ ရှေ့မှာ ဘာမှမပြရင် တူလို့ပါ (အထက်ကဥပမာ အရဆိုရင် My blood type is O. ဆိုတဲ့ စာကြောင်းပါ)။  \n",
    " \\+ အမှတ်အသားက နှိုင်းယှဉ်တဲ့ ဖိုင်နှစ်ဖိုင်အနက်က ဒုတိယဖိုင်မှာပဲ ရှိတဲ့စာကြောင်းဖြစ်ပြီး၊ fileA မှာ ဝင်ဖြည့်ရမယ့် စာကြောင်းကို ပြတာပါ။  \n",
    " \n",
    "\"diff\" command ကို \"-u\" option ကိုသုံးပြီး unify mode အနေနဲ့လဲ ပြခိုင်းလို့ ရပါတယ်။  "
   ]
  },
  {
   "cell_type": "code",
   "execution_count": 74,
   "metadata": {},
   "outputs": [
    {
     "name": "stdout",
     "output_type": "stream",
     "text": [
      "--- fileA\t2017-09-02 08:32:17.419491625 +0900\n",
      "+++ fileB\t2017-08-11 11:14:36.068526803 +0900\n",
      "@@ -1,4 +1,5 @@\n",
      "-Mingalar bar!\n",
      "-I am fileA.\n",
      "-I was born in April.\n",
      "+Hi!\n",
      "+I am fileB.\n",
      "+I was born in November.\n",
      " My blood type is O.\n",
      "+\n"
     ]
    },
    {
     "ename": "",
     "evalue": "1",
     "output_type": "error",
     "traceback": []
    }
   ],
   "source": [
    "diff fileA fileB -u"
   ]
  },
  {
   "cell_type": "markdown",
   "metadata": {},
   "source": [
    "\"-u\" option က အကြမ်းမျဉ်းအားဖြင့်တော့ context mode နဲ့ ဆင်တူပါတယ်။  \n",
    "တူတဲ့ စာကြောင်းတွေကို နှစ်ခါမပြတာ နဲ့ ဖိုင်နှစ်ဖိုင် အနေနဲ့ သပ်သပ်စီခွဲမပြတာပဲ၊ ပေါင်းပြီး ပြတာပဲ ကွာပါတယ်။  \n",
    "\n",
    "\"diff\" command ကို \"-y\" option ကိုသုံးပြီး ဖိုင်နှစ်ဖိုင်ကို စာကြောင်းတကြောင်းချင်းစီကို ဘေးချင်းယှဉ်ပြီး (သို့) ကော်လံ နှစ်ခု အနေနဲ့ ပြခိုင်းတာမျိုးလဲ လုပ်နိုင်ပါတယ်။  \n",
    "လူအနေနဲ့က ပုံမှန်အားဖြင့် စာကြောင်းနှစ်ကြောင်းကို ဘေးချင်းယှဉ်ပြီးကြည့်တာက ပိုအဆင်ပြေမယ်လို့ ထင်ပါတယ်။  "
   ]
  },
  {
   "cell_type": "code",
   "execution_count": 75,
   "metadata": {},
   "outputs": [
    {
     "name": "stdout",
     "output_type": "stream",
     "text": [
      "Mingalar bar!\t\t\t\t\t\t      |\tHi!\n",
      "I am fileA.\t\t\t\t\t\t      |\tI am fileB.\n",
      "I was born in April.\t\t\t\t\t      |\tI was born in November.\n",
      "My blood type is O.\t\t\t\t\t\tMy blood type is O.\n",
      "\t\t\t\t\t\t\t      >\n"
     ]
    },
    {
     "ename": "",
     "evalue": "1",
     "output_type": "error",
     "traceback": []
    }
   ],
   "source": [
    "diff fileA fileB -y"
   ]
  },
  {
   "cell_type": "markdown",
   "metadata": {},
   "source": [
    "ဒီနေရာမှာ သုံးထားတဲ့ သင်္ကေတတွေရဲ့ အဓိပ္ပါယ်တွေကတော့  \n",
    "\"|\" က ဖိုင်နှစ်ဖိုင်မှာ မတူတဲ့ စာကြောင်းတွေကို ပြတာပါ။  \n",
    "\">\" က ညာဖက်အခြမ်း (သို့) ဒုတိယဖိုင်ဖြစ်တဲ့ fileB ဘက်မှာပဲ ရှိတဲ့ စာကြောင်းကို ပြတာပါ။  \n",
    "ဒီနေရာမှာ မျက်လုံးနဲ့ မမြင်နိုင်တဲ့ Enter ခေါက်ထားလို့ပါ ကွက်လပ်အဖြစ်ရှိနေတာပါ။  \n",
    "ဘာ သင်္ကေတမှ မပြရင် စာကြောင်းနှစ်ကြောင်းက တူနေလို့ပါ။  \n",
    "အထက်က ဥပမာမှာ မဆိုင်လို့ မပြထားပေမဲ့၊ နောက်ထပ် သင်္ကေတတစ်ခု ကျန်ပါသေးတယ်။ အဲဒါက \"<\" သင်္ကေတပါ။\n",
    "\"<\" ကတော့ ဘယ်ဘက်အခြမ်းကဖိုင် (သို့) နှိုင်းယှဉ်ကြည့်နေတဲ့ အထဲက ပထမဖိုင်မှာပဲ ရှိတဲ့ စာကြောင်းမျိုးအတွက် သုံးပါတယ်။  \n",
    "\n",
    "မှတ်ချက်။ ။ အထက်က ဥပမာ \"diff fileA fileB -y\" ကို sdiff command ကိုသုံးပြီး \"sdiff fileA fileB\" ဆိုပြီးလည်း run နိုင်ပါတယ်။ \"sdiff\" command ကိုတော့ ကိုယ့်ဖာသာကိုယ် လေ့လာကြည့်ပါ။ \"diff\" command နဲ့ အလုပ်လုပ်ပုံဆင်တူမို့လို့ ဒီနေရာမှာ ထပ်ရှင်းမပြတော့ပါဘူး။ \n",
    "\n",
    "\"diff\" command ကို နောက်ဆုံး ဥပမာအနေနဲ့ ဖိုင်တွေကို နှိုင်းယှဉ်ကြည်တာတင် မကပဲ၊ ဖိုလ်ဒါ နှစ်ခုကိုလည်း နှိုင်းယှဉ်လို့ရကြောင်း သင်ပြပေးပါမယ်။ \n",
    "\n",
    "အရင်ဆုံး လက်ရှိ ဖိုလ်ဒါအောက်မှာက ဘာတွေရှိသလဲ ဆိုတာကို ls နဲ့ ကြည့်မယ်။  \n",
    "ပြီးရင် ဖိုလ်ဒါအသစ်တခုဆောက်ပြီး၊ ဖိုင်တချို့ကို ကူးထည့်ပါမယ်။  \n"
   ]
  },
  {
   "cell_type": "markdown",
   "metadata": {},
   "source": [
    "အရင်ဆုံး \"ls -F\" နဲ့ ရှိနေတဲ့ ဖိုင်၊ ဖိုလ်ဒါတွေကို list လုပ်ကြည့်ပါ။\n",
    "လောလောဆယ် လက်ရှိ path အောက်မှာ folderA/ ပဲရှိတယ်လို့ ဆိုကြပါစို့။\n",
    "အဲဒါကြောင့် \"mkdir\" command နဲ့ folderB/ အသစ်ကို ဆောက်မယ်။  "
   ]
  },
  {
   "cell_type": "markdown",
   "metadata": {},
   "source": [
    "\"mkdir folderB\" ဆိုတဲ့ အမိန့်ကို ပေးပြီး၊\n",
    "ဆောက်ထားတဲ့ folderB/ အောက်ကို ဖိုင်တချို့ ကော်ပီကူးထည့်မယ်။  "
   ]
  },
  {
   "cell_type": "code",
   "execution_count": 78,
   "metadata": {
    "collapsed": true
   },
   "outputs": [],
   "source": [
    "cp fileA ./folderB/"
   ]
  },
  {
   "cell_type": "code",
   "execution_count": 79,
   "metadata": {
    "collapsed": true
   },
   "outputs": [],
   "source": [
    "cp otest ./folderB/"
   ]
  },
  {
   "cell_type": "code",
   "execution_count": 80,
   "metadata": {
    "collapsed": true
   },
   "outputs": [],
   "source": [
    "cp ./folderA/127-135.pdf ./folderB/"
   ]
  },
  {
   "cell_type": "markdown",
   "metadata": {},
   "source": [
    "အထက်မှာ ပြခဲ့တဲ့အတိုင်း လက်ရှိ path အောက်မှာရှိနေတဲ့ fileA ဆိုတဲ့ ဖိုင်နဲ့ otest ဆိုတဲ့ဖိုင် ကို folderB/ အောက်ကို ကော်ပီကူးထည့်ခဲ့ပါတယ်။  \n",
    "အဲဒီနောက်မှာ လက်ရှိ path ရဲ့အောက်က folderA/ ဖိုလ်ဒါထဲမှာရှိတဲ့ 127-135.pdf ဆိုတဲ့ ဖိုင်ကိုလည်း folderB/ အောက်ကို ကော်ပီကူးထည့်ခဲ့ပါတယ်။  \n",
    "အဲဒါကြောင့် folderB/ အောက်မှာ ဖိုင် ၃ဖိုင် ရှိနေပါပြီ။  \n",
    "\"ls\" command နဲ့ folderB/ နဲ့ folderA/ အောက်မှာရှိတဲ့ ဖိုင်တွေကို ကြိုကြည့်ထားရအောင်။  "
   ]
  },
  {
   "cell_type": "code",
   "execution_count": 81,
   "metadata": {},
   "outputs": [
    {
     "name": "stdout",
     "output_type": "stream",
     "text": [
      "127-135.pdf  fileA  otest\n"
     ]
    }
   ],
   "source": [
    "ls ./folderB/"
   ]
  },
  {
   "cell_type": "code",
   "execution_count": 82,
   "metadata": {},
   "outputs": [
    {
     "name": "stdout",
     "output_type": "stream",
     "text": [
      "127-135.pdf\n"
     ]
    }
   ],
   "source": [
    "ls ./folderA/"
   ]
  },
  {
   "cell_type": "markdown",
   "metadata": {},
   "source": [
    "diff command ကိုသုံးပြီး folderA/ နဲ့ folderB/ ကိုနှိုင်းယှဉ်ကြည့်ရအောင်။  "
   ]
  },
  {
   "cell_type": "code",
   "execution_count": 83,
   "metadata": {},
   "outputs": [
    {
     "name": "stdout",
     "output_type": "stream",
     "text": [
      "Only in folderB/: fileA\n",
      "Only in folderB/: otest\n"
     ]
    },
    {
     "ename": "",
     "evalue": "1",
     "output_type": "error",
     "traceback": []
    }
   ],
   "source": [
    "diff folderA/ folderB/"
   ]
  },
  {
   "cell_type": "markdown",
   "metadata": {},
   "source": [
    "ဖိုလ်ဒါ နှစ်ခုကို နှိုင်းယှဉ်ကြည့်ရတာက၊ ဖိုင်နှစ်ခုကို နှိုင်းယှဉ်ကြည့်ရတာထက်စာရင် output ကပိုပြီး user friendly ဖြစ်ပါတယ်။  \n",
    "folderA/ ထဲမှာပဲ ရှိတဲ့ ဖိုင်တွေ၊ ဖိုလ်ဒါတွေကို Only in folderA/ ဆိုပြီး ပြပါတယ်။  \n",
    "ထိုနည်းလည်းကောင်းပဲ folderB/ ထဲမှာပဲ ရှိတဲ့ ဖိုင်တွေ၊ ဖိုလ်ဒါတွေကိုလည်း Only in folderB/ ဆိုပြီး ပြပေးပါတယ်။  "
   ]
  },
  {
   "cell_type": "markdown",
   "metadata": {},
   "source": [
    "## 14. less (opposite of more)  \n",
    "\n",
    "cat command နဲ့ ဖိုင်တွေကို ဖတ်ကြည့်လို့ရပေမဲ့၊ ဖိုင်ထဲမှာရှိတဲ့ စာကြောင်းအရေအတွက်က မော်နီတာစကရင် တခုစာထက်မက များနေတဲ့ အခါမျိုးမှာ less command ကို သုံးပါ။ text file တွေထဲမှာရှိတဲ့ စာကြောင်းတွေကို စာမျက်နှာ တစ်မျက်နှာချင်း အပေါ်တက်၊ အောက်ဆင်း (Page-Up, Page-Down) လုပ်ပြီး ကြည့်လို့ရအောင် လုပ်ပေးတဲ့ command ပါ။  \n",
    "\n",
    "သုံးပုံသုံးနည်းက အရမ်းလွယ်ပါတယ်။ less command ရဲ့နောက်မှာ ကိုယ်ကြည့်ချင်တဲ့ ဖိုင်နာမည်ကို ရိုက်ပေးလိုက်ယုံပါပဲ။  "
   ]
  },
  {
   "cell_type": "code",
   "execution_count": 84,
   "metadata": {},
   "outputs": [
    {
     "name": "stdout",
     "output_type": "stream",
     "text": [
      "\u001b[0m\u001b[01;35mall-vi-info.jpg\u001b[0m  \u001b[01;35mfileA.jpg\u001b[0m           linux-commands.ipynb      otest\n",
      "all-vi-info.txt  fileB               linux-commands.ipynb.bak  otest.tag\n",
      "binary.gv        fmt.out             linux-commands.log        otest.word\n",
      "city             \u001b[01;34mfolderA\u001b[0m             linux-commands.out        process.gv\n",
      "ctest2           \u001b[01;34mfolder-athit\u001b[0m        linux-commands.pdf        process.pdf\n",
      "ctest2.tag       \u001b[01;34mfolderB\u001b[0m             linux-commands.tex        \u001b[01;35mprocess.png\u001b[0m\n",
      "ctest2.word      \u001b[01;34mfolder-new\u001b[0m          ls.out                    \u001b[01;35mrandom.jpg\u001b[0m\n",
      "\u001b[01;34mdata1\u001b[0m            \u001b[01;35mfruit.jpg\u001b[0m           \u001b[01;32mmk-wordtag.pl\u001b[0m             random.txt\n",
      "\u001b[01;34mdata2\u001b[0m            \u001b[01;35mfruit-orange.jpg\u001b[0m    \u001b[01;35mmyanmar-food.jpg\u001b[0m          \u001b[01;34mscreen\u001b[0m\n",
      "\u001b[01;34mdata3\u001b[0m            fruit-orange.txt    myanmar-food.txt          sed.check\n",
      "\u001b[01;34mdata4\u001b[0m            fruit.txt           myanmar-food.txt.bak      sorted-names\n",
      "\u001b[01;34mdata5\u001b[0m            hash.gv             my-news                   tmp\n",
      "echo             \u001b[01;35mhash.png\u001b[0m            newfile                   \u001b[01;32mtxt2jpg.sh\u001b[0m\n",
      "empty-file.txt   item-list           news                      \u001b[01;34mwildcard\u001b[0m\n",
      "fileA            linux-commands.aux  numbers.txt\n"
     ]
    }
   ],
   "source": [
    "ls"
   ]
  },
  {
   "cell_type": "code",
   "execution_count": null,
   "metadata": {},
   "outputs": [
    {
     "name": "stdout",
     "output_type": "stream",
     "text": [
      "Mingalar bar!\u001b=\n",
      "I am fileA.\n",
      "I was born in April.\n",
      "My blood type is O.\n"
     ]
    }
   ],
   "source": [
    "less ./fileA"
   ]
  },
  {
   "cell_type": "markdown",
   "metadata": {},
   "source": [
    "Jupyter notebook ရဲ့ output error လို့ယူဆပါတယ်။ Mingalar bar! ဆိုတဲ့ စာကြောင်းရဲ့နောက်မှာ မရိုက်ထားတဲ့စာလုံးတွေကို ပြပေးနေလို့၊ ကွန်ပျူတာ မော်နီတာမှာမြင်ရမဲ့ text editor လိုမျိုး output ကို ပုံအနေနဲ့ ထည့်ပြထားပါတယ်။"
   ]
  },
  {
   "cell_type": "markdown",
   "metadata": {},
   "source": [
    "<img src=\"./screen/less-cmd-output.png\" alt=\"less command example output\">"
   ]
  },
  {
   "cell_type": "markdown",
   "metadata": {
    "collapsed": true
   },
   "source": [
    " ဒီနေရာမှာက ဥပမာအနေနဲ့ စာကြောင်းရေ လေးကြောင်းသာရှိတဲ့ fileA ကို less နဲ့ run ပြထားပေမဲ့၊ လက်တွေ့ စမ်းကြည့်တဲ့ အခါ စာကြောင်းရေ အများကြီးရှိတဲ့ ဖိုင်နဲ့ စမ်းသပ်ကြည့်ပါ။  စာကြောင်းရေ အများကြီးရှိတဲ့ ဖိုင်နဲ့ဆိုရင် စကရင်ရဲ့ အောက်ဆုံး ဘယ်ဘက်ထောင့်မှာ \":\" (colon) စာလုံးက ပေါ်နေပြီး၊ command အမျိုးမျိုးသုံးပြီး ဖိုင်ကို စာမျက်နှာတစ်ခုချင်း ရှေ့တိုး၊ နောက်ဆုတ် လုပ်တာ၊ ရှာချင်တဲ့ စာလုံးကို \"/\" (သို့) \"?\" ရိုက်ပြီး Regular Expression pattern တွေနဲ့ ရှာတာဖွေတာ စသည်ဖြင့် အလုပ်အများကြီးလုပ်ပေးလို့ \"less\" command က linux terminal မှာ text file တွေကို view လုပ်ကြည့်တဲ့ နေရာမမှာ မသိမဖြစ်နဲ့ သုံးသင့်တဲ့ command တစ်ခုဖြစ်ပါတယ်။ \"less\" command ကို run နေစဉ်မှာ ဘယ်လို command တွေကိုသုံးပြီး ရှေ့တိုး၊ နောက်ဆုတ်၊ ရှာဖွေ စတဲ့ အလုပ်တွေကို လုပ်လို့ရသလဲ ဆိုတာကို သိချင်ရင်၊ \"h\" ကို နှိပ်ပြီး Help Screen ကို ခေါ်ကြည့်နိုင်ပါတယ်။  \n",
    "\n",
    "\"less\" command နဲ့ ဖိုင်ကို ကြည့်နေရာကနေ ထွက်ချင်ရင် \"q\" ကီးကိုနှိပ်ပြီး ထွက်နိုင်ပါတယ်။  "
   ]
  },
  {
   "cell_type": "markdown",
   "metadata": {},
   "source": [
    "အသုံးများတဲ့ option တွေကတော့ အောက်ပါအတိုင်း ဖြစ်ပါတယ်။  \n",
    "\n",
    "less -N filename  \n",
    "-N က ဖိုင်ထဲက စာကြောင်း တစ်ကြောင်းချင်းစီကို လိုင်းနံပါတ် တပ်ပေးပြီး ပြစေချင်တဲ့ အခါ အသုံးပြု  \n",
    "\n",
    "less -N +100 filename  \n",
    "\\+ နဲ့ ကိုယ်စပြစေချင်တဲ့ စာကြောင်းနံပါတ်ကို ပေးလို့ရတယ်။  \n",
    "အထက်က ဥပမာက စာကြောင်းနံပါတ် 100 ကနေ စပြပေးပါလို့ command ပေးတာ။\n",
    "\n",
    "less +F experiment1.log  \n",
    "\n",
    "\"+F\" က log file လိုမျိုး အပြောင်းအလဲက စဉ်ဆက်မပြတ်ရှိနေတဲ့ ဖိုင်တွေရဲ့ နောက်ဆုံးစာမျက်နှာ (updated page) တွေကို စောင့်ကြည့်ချင်တဲ့ အခါမျိုးမှာ သုံးပါတယ်။  \n",
    "\n",
    "ဥပမာ ကျွန်တော်တို့က experiment1 ဆိုပြီး စမ်းသပ်မှုတစ်ခုလုပ်နေပြီး၊ အဲဒီကနေ ထွက်လာတဲ့ ရလဒ်တွေ၊ error တွေကို experiment1.log ဖိုင်မှာ ဝင်ပြီးရေးပေးနေတယ်ဆိုပါစို့။ အဲဒီ စမ်းသပ်မှုကနေ ဘယ်လို log တွေဝင်ရေးသလဲ ဆိုတာကို less +F ကို သုံးပြီး ကြည့်တာမျိုးလုပ်ပါတယ်။ experiment1 စမ်းသပ်မှုမှာပါဝင်တဲ့ ပရိုဂရမ်က experiment1.log ဖိုင်မှာ တခုခုဝင်ရေးတာ၊ ဖျက်တာကို လုပ်တာနဲ့ တပြိုင်နက်၊ အဲဒီအပြောင်းအလဲတွေကို ကြည့်နေတဲ့ less editor ရဲ့  စကရင်မှာ active ဖြစ်လို့ပါ။    \n",
    "\n",
    "ဒါအပြင်၊ လက်ရှိ F mode ကနေ \"Ctrl+c\" (\"Contrl\" ကီးနဲ့\"c\" ကီးကို တွဲနှိပ်) နဲ့ ခဏထွက်ပြီး ပုံမှန် less နဲ့ ကြည့်နေတဲ့ mode ဆီကို ပြောင်းပြီး ကိုယ်ရှာကြည့်ချင်တဲ့ စာလုံးကို ရှာ၊ စာကြောင်းဆီကို သွား စတာတွေလုပ်လို့ ရပါတယ်။ ပြီးရင် \"F\" ကို နှိပ်ပြီး၊ F mode ဆီကိုပြန်သွားပြီး log ဖိုင်ရဲ့ နောက်ဆုံးအပြောင်းအလဲ ကို ဆက်စောင့်ကြည့်နိုင်ပါတယ်။  \n",
    "\n",
    "မှတ်ချက်။ ။ ခေါင်းစဉ်မှာ opposite of more ဆိုပြီး ရေးထားတာက၊ less က \"more\" ဆိုတဲ့ command နဲ့ ဆန့်ကျင်ဘက်ပါ။ more command ထက် အလုပ်အများကြီး လုပ်ပေးနိုင်ပါတယ်လို့ ဆိုလိုပါတယ်။ man less ဆိုပြီး ရိုက်ကြည့်ရင် ရှင်းပြထားတာကို ဖတ်လို့ရပါတယ်။  "
   ]
  },
  {
   "cell_type": "markdown",
   "metadata": {},
   "source": [
    "## 15. type (display a command type)  \n",
    "type command က command တစ်ခုချင်းစီရဲ့ အမျိုးအစားကို သိချင်တဲ့ အခါမှာသုံးပါတယ်။ command တစ်ခုခုရဲ့ နာမည်ကို type ကိုသုံးပြီး အဲဒီ command က alias လုပ်ထားတာလား၊ shell ရဲ့ function လား၊ shell ရဲ့ builtin လား၊ disk ထဲမှာသိမ်းထားတဲ့ file လား၊ shell ရဲ့ reserved word လား ဆိုတာကို ရှာဖွေနိုင်ပါတယ်။  \n",
    "\n",
    "ဥပမာ type ls ဆိုပြီး ရိုက်ကြည့်ရင် အောက်ပါအတိုင်း ပြပေးပါလိမ့်မယ်။  \n",
    "\n",
    "ls is aliased to `ls --color=auto'\n",
    "\n",
    "\"ls\" command က \"ls --color=auto\" ဆိုတဲ့ command ကို alias လုပ်ထားတာဖြစ်ကြောင်းကို သိနိုင်ပါတယ်။  "
   ]
  },
  {
   "cell_type": "code",
   "execution_count": 1,
   "metadata": {},
   "outputs": [
    {
     "name": "stdout",
     "output_type": "stream",
     "text": [
      "cd is a shell builtin\n"
     ]
    }
   ],
   "source": [
    "type cd"
   ]
  },
  {
   "cell_type": "markdown",
   "metadata": {},
   "source": [
    "\"cd\" command က shell ရဲ့ builtin command ဖြစ်ကြောင်းကို ပြပေးပါတယ်။  \n",
    "\n",
    "\"-t\" option ပေးပြီး command တစ်ခုရဲ့ အမျိုးအစားကို စာလုံးတစ်လုံးနဲ့ တိုတိုပြခိုင်းလို့ ရပါတယ်။ alias လုပ်ထားတာဆိုရင် \"alias\"၊ shell ရဲ့ reserved word ဆိုရင် \"keyword\" ဆိုပြီး၊ shell ရဲ့ function ဆိုရင် \"function\" ဆိုပြီး၊ shell ရဲ့ builtin command ဆိုရင် \"builtin\"၊ disk မှာ သိမ်းထားတဲ့ ဖိုင်တစ်ဖိုင် ဆိုရင် \"file\" ဆိုပြီး အသီးသီးပြပေးပါလိမ့်မယ်။   \n",
    "\n",
    "အောက်ဖော်ပြပါ \"type\" command ဥပမာ တစ်ချို့ကို terminal မှာ ရိုက်စမ်းကြည့်ပါ။   "
   ]
  },
  {
   "cell_type": "code",
   "execution_count": 2,
   "metadata": {},
   "outputs": [
    {
     "name": "stdout",
     "output_type": "stream",
     "text": [
      "keyword\n"
     ]
    }
   ],
   "source": [
    "type -t if"
   ]
  },
  {
   "cell_type": "markdown",
   "metadata": {},
   "source": [
    "\"if\" ဆိုတာက bash shell ရဲ့ keyword ဖြစ်ကြောင်းကို ပြပေးပါလိမ့်မယ်။  "
   ]
  },
  {
   "cell_type": "code",
   "execution_count": 3,
   "metadata": {},
   "outputs": [
    {
     "name": "stdout",
     "output_type": "stream",
     "text": [
      "file\n"
     ]
    }
   ],
   "source": [
    "type -t rm"
   ]
  },
  {
   "cell_type": "markdown",
   "metadata": {},
   "source": [
    "\"rm\" command က file ဖြစ်ကြောင်း ပြသပေးပါလိမ့်မယ်။  "
   ]
  },
  {
   "cell_type": "code",
   "execution_count": 4,
   "metadata": {},
   "outputs": [
    {
     "name": "stdout",
     "output_type": "stream",
     "text": [
      "builtin\n"
     ]
    }
   ],
   "source": [
    "type -t pwd"
   ]
  },
  {
   "cell_type": "markdown",
   "metadata": {},
   "source": [
    "\"pwd\" command က shell interpreter ထဲမှာ ပါနေတဲ့ builtin command ပါဆိုပြီး ပြသပေးပါလိမ့်မယ်။  \n",
    "\n",
    "ပရိုဂရမ်မင်း ဘာသာစကားတွေမှာ ခဏခဏသုံးမယ့် အလုပ်တွေကို function တစ်ခုအနေနဲ့ ဆောက်ထားပြီး လိုအပ်တဲ့ အခါမှာ ခေါ်သုံးတဲ့ ပုံစံမျိုးကို command prompt မှာလဲ လုပ်လို့ရပါတယ်။ ဥပမာ အနေနဲ့ mcd ဆိုတဲ့ function တစ်ခုကို ဆောက်ပြပါမယ်။ mcd က mkdir နဲ့ ဖိုလ်ဒါအသစ်တစ်ခုကို ဆောက်ပြီးရင်၊ အဲဒီ ဆောက်လိုက်တဲ့ ဖိုလ်ဒါအသစ်ထဲကို တခါတည်းဝင်ပေးမဲ့ function ပါ။  "
   ]
  },
  {
   "cell_type": "code",
   "execution_count": 5,
   "metadata": {
    "collapsed": true
   },
   "outputs": [],
   "source": [
    "mcd () { mkdir -p $1; cd $1; }"
   ]
  },
  {
   "cell_type": "markdown",
   "metadata": {},
   "source": [
    "ဒီနေရာမှာ $1 ဆိုတာက mcd function ကိုခေါ်သုံးတဲ့ အခါ နောက်က ပေးမဲ့ ဖိုလ်ဒါနာမည် (သို့) command line parameter ကို ဆိုလိုပါတယ်။  \n",
    "\n",
    "ဆောက်ပြီးသွားရင် အောက်ပါအတိုင်း mcd function ကို folder-new ဆိုတဲ parameter နဲ့ run ခိုင်းပြီး၊ လက်ရှိရောက်နေတဲ့ path ကို pwd command နဲ့ ပြခိုင်းပါမယ်။  \n",
    "ဒီနေရာမှာ \";\" က command သုံးလေးခု ဆက်တိုက် ဆက်ရေးတဲ့ အခါမှာ၊ command တစ်ခုနဲ့ နောက် command တစ်ခုကြားမှာ ပိုင်းခြားပေးတဲ့ သင်္ကေတပါ။ ထပ်ဖြည့်ပြောရရင် command တစ်ခုပြီးဆုံးကြောင်းအတွက် သုံးတဲ့ symbol ပါ။  "
   ]
  },
  {
   "cell_type": "code",
   "execution_count": 6,
   "metadata": {},
   "outputs": [
    {
     "name": "stdout",
     "output_type": "stream",
     "text": [
      "/home/lar/linux-cmd/folder-new\n"
     ]
    }
   ],
   "source": [
    "mcd folder-new; pwd;"
   ]
  },
  {
   "cell_type": "markdown",
   "metadata": {},
   "source": [
    "\"/home/lar/linux-cmd/folder-new\" ဆိုပြီး ရိုက်ပြပေးတာက \"pwd\" command ရဲ့ output ဖြစ်တဲ့ လက်ရှိရောက်နေတဲ့ path ပါ။   \n",
    "\"mcd\" အမိန့်က တကယ် အလုပ်လုပ်ပြီးသွားသလား ဆိုတာကို သေချာအောင် ရိုက်ခိုင်းထားတာပါ။"
   ]
  },
  {
   "cell_type": "markdown",
   "metadata": {},
   "source": [
    "\"mcd\" ကို \"type\" command ရဲ့ \"-t\" option နဲ့ ရိုက်ကြည့်ရအောင်။  "
   ]
  },
  {
   "cell_type": "code",
   "execution_count": 7,
   "metadata": {},
   "outputs": [
    {
     "name": "stdout",
     "output_type": "stream",
     "text": [
      "function\n"
     ]
    }
   ],
   "source": [
    "type -t mcd"
   ]
  },
  {
   "cell_type": "markdown",
   "metadata": {},
   "source": [
    "အထက်ပါအတိုင်း mcd က function ဖြစ်ကြောင်းကို \"type\" command က ပြပေးနိုင်ပါတယ်။  \n",
    "command က path တစ်ခုရဲ့အောက်မှာထက်ပိုရှိလား သိချင်ရင် -a option နဲ့ ကြည့်နိုင်ပါတယ်။  "
   ]
  },
  {
   "cell_type": "code",
   "execution_count": 1,
   "metadata": {},
   "outputs": [
    {
     "name": "stdout",
     "output_type": "stream",
     "text": [
      "python is /home/lar/anaconda3/bin/python\n",
      "python is /home/lar/anaconda3/envs/py3.6.2/bin/python\n",
      "python is /home/lar/anaconda3/envs/py3.6.2/bin/python\n",
      "python is /home/lar/anaconda3/bin/python\n",
      "python is /usr/bin/python\n",
      "python is /home/lar/anaconda3/bin/python\n",
      "python is /home/lar/anaconda3/bin/python\n"
     ]
    }
   ],
   "source": [
    "type -a python"
   ]
  },
  {
   "cell_type": "markdown",
   "metadata": {},
   "source": [
    "\"-P\" option နဲ့ ပေးလိုက်တဲ့ command ရဲ့ path ကို ရှာခိုင်းလို့ရပါတယ်။  \n",
    "ဥပမာ \"touch\" command ရဲ့ပရိုဂရမ်ဖိုင်က ဘယ်မှာရှိသလဲဆိုတာကို သိချင်ရင် အောက်ပါအတိုင်း \"type -P touch\" ဆိုပြီး command ပေးပါ။"
   ]
  },
  {
   "cell_type": "code",
   "execution_count": 9,
   "metadata": {},
   "outputs": [
    {
     "name": "stdout",
     "output_type": "stream",
     "text": [
      "/usr/bin/touch\n"
     ]
    }
   ],
   "source": [
    "type -P touch"
   ]
  },
  {
   "cell_type": "markdown",
   "metadata": {},
   "source": [
    "\"cd\" command ရဲ့ path ကို \"-P\" option နဲ့ရှာခိုင်းရင်တော့ ဘာမှရိုက်ပြမှာ မဟုတ်ပါဘူး။   "
   ]
  },
  {
   "cell_type": "code",
   "execution_count": 10,
   "metadata": {},
   "outputs": [
    {
     "ename": "",
     "evalue": "1",
     "output_type": "error",
     "traceback": []
    }
   ],
   "source": [
    "type -P cd"
   ]
  },
  {
   "cell_type": "markdown",
   "metadata": {},
   "source": [
    "ဘာကြောင့်လဲ ဆိုတော့ \"cd\" command က shell ရဲ့ builtin command ဖြစ်နေလို့ပါ။ အထက်မှာသင်ပေးခဲ့သလို \"touch cd\" နဲ့ ရိုက်ကြည့်ရင် \"cd is a shell builtin\" ဖြစ်ကြောင်းရိုက်ပြပေးပါလိမ့်မယ်။ ဒီတခါတော့ \"-t\" option ကို သုံးပြီး စာလုံးတစ်လုံးထဲနဲ့ပဲ ရိုက်ပြခိုင်းပြီး confirm လုပ်ရအောင်။   "
   ]
  },
  {
   "cell_type": "code",
   "execution_count": 11,
   "metadata": {},
   "outputs": [
    {
     "name": "stdout",
     "output_type": "stream",
     "text": [
      "builtin\n"
     ]
    }
   ],
   "source": [
    "type -t cd"
   ]
  },
  {
   "cell_type": "markdown",
   "metadata": {},
   "source": [
    "command prompt မှာ အကြိမ်ပေါင်းများစွာ ရိုက်သုံးရတဲ့ \"ls\" ရဲ့ path ကိုလည်း ရှာကြည့်ရအောင်။   "
   ]
  },
  {
   "cell_type": "code",
   "execution_count": 12,
   "metadata": {},
   "outputs": [
    {
     "name": "stdout",
     "output_type": "stream",
     "text": [
      "/bin/ls\n"
     ]
    }
   ],
   "source": [
    "type -P ls"
   ]
  },
  {
   "cell_type": "markdown",
   "metadata": {},
   "source": [
    "## 16. which (locate a command)  \n",
    "which နဲ့ command တစ်ခုရဲ့ executable လုပ်မဲ့ path ကို ရှာကြည့်လို့ရပါတယ်။ command တစ်ခုက version တစ်ခုထက်မက ပိုရှိတဲ့ အခြေအနေမျိုးမှာဆိုရင်လည်း ဘယ် version (သို့) ဘယ် path အောက်က command ကို ခေါ် run မှာလဲဆိုတာကို သိချင်တဲ့ အခါမှာ အသုံးဝင်ပါတယ်။  \n",
    "\n",
    "ဥပမာ firefox ကို ဘယ် path ကနေ ခေါ် run မှာလဲ ဆိုတာကို which နဲ့ ကြည့်ရအောင်  \n"
   ]
  },
  {
   "cell_type": "code",
   "execution_count": 13,
   "metadata": {},
   "outputs": [
    {
     "name": "stdout",
     "output_type": "stream",
     "text": [
      "/usr/bin/firefox\n"
     ]
    }
   ],
   "source": [
    "which firefox"
   ]
  },
  {
   "cell_type": "markdown",
   "metadata": {},
   "source": [
    "တစ်ခုသိထားရမှာက which က shell ရဲ့ builtin command တွေနဲ့ alias တွေကို ပြပေးမှာ မဟုတ်ဘူးဆိုတာကိုပါ။"
   ]
  },
  {
   "cell_type": "code",
   "execution_count": 14,
   "metadata": {},
   "outputs": [
    {
     "ename": "",
     "evalue": "1",
     "output_type": "error",
     "traceback": []
    }
   ],
   "source": [
    "which cd"
   ]
  },
  {
   "cell_type": "markdown",
   "metadata": {},
   "source": [
    "အထက်မှာ ဥပမာပြထားခဲ့သလို shell ရဲ့ builtin command တစ်ခုဖြစ်တဲ့ cd ကို which နဲ့ ကြည့်ရင် ဘာမှပြပေးမှာ မဟုတ်ပါ။"
   ]
  },
  {
   "cell_type": "markdown",
   "metadata": {},
   "source": [
    "## 17. --help or -h (display usage information)  \n",
    "\n",
    "\"--help\" (သို့) \"-h\" က command တစ်ခုကို ဘယ်လို run ရမလဲဆိုတာ၊ ဘာ option တွေရှိသလဲ ဆိုတာကို သိချင်တဲ့ အခါမှာ သုံးပါတယ်။ ဘယ်လို command မျိုးမှာမဆို --help option ကပါဝင်ပြီး၊ command line interface (CLI) မှာတော့ သိကို သိထားရပါမယ်။  သုံးပုံသုံးနည်း ဥပမာတွေကတော့ အောက်ပါအတိုင်းပါပဲ။  \n",
    "\n",
    "mkdir command ရဲ့ help ကိုကြည့်ချင်တဲ့ အခါ"
   ]
  },
  {
   "cell_type": "code",
   "execution_count": 15,
   "metadata": {},
   "outputs": [
    {
     "name": "stdout",
     "output_type": "stream",
     "text": [
      "Usage: mkdir [OPTION]... DIRECTORY...\n",
      "Create the DIRECTORY(ies), if they do not already exist.\n",
      "\n",
      "Mandatory arguments to long options are mandatory for short options too.\n",
      "  -m, --mode=MODE   set file mode (as in chmod), not a=rwx - umask\n",
      "  -p, --parents     no error if existing, make parent directories as needed\n",
      "  -v, --verbose     print a message for each created directory\n",
      "  -Z                   set SELinux security context of each created directory\n",
      "                         to the default type\n",
      "      --context[=CTX]  like -Z, or if CTX is specified then set the SELinux\n",
      "                         or SMACK security context to CTX\n",
      "      --help     display this help and exit\n",
      "      --version  output version information and exit\n",
      "\n",
      "GNU coreutils online help: <http://www.gnu.org/software/coreutils/>\n",
      "Full documentation at: <http://www.gnu.org/software/coreutils/mkdir>\n",
      "or available locally via: info '(coreutils) mkdir invocation'\n"
     ]
    }
   ],
   "source": [
    " mkdir --help"
   ]
  },
  {
   "cell_type": "markdown",
   "metadata": {},
   "source": [
    "diff command ရဲ့ help ကို ကြည့်ချင်တဲ့ အခါမှာ"
   ]
  },
  {
   "cell_type": "code",
   "execution_count": 16,
   "metadata": {},
   "outputs": [
    {
     "name": "stdout",
     "output_type": "stream",
     "text": [
      "Usage: diff [OPTION]... FILES\n",
      "Compare FILES line by line.\n",
      "\n",
      "Mandatory arguments to long options are mandatory for short options too.\n",
      "      --normal                  output a normal diff (the default)\n",
      "  -q, --brief                   report only when files differ\n",
      "  -s, --report-identical-files  report when two files are the same\n",
      "  -c, -C NUM, --context[=NUM]   output NUM (default 3) lines of copied context\n",
      "  -u, -U NUM, --unified[=NUM]   output NUM (default 3) lines of unified context\n",
      "  -e, --ed                      output an ed script\n",
      "  -n, --rcs                     output an RCS format diff\n",
      "  -y, --side-by-side            output in two columns\n",
      "  -W, --width=NUM               output at most NUM (default 130) print columns\n",
      "      --left-column             output only the left column of common lines\n",
      "      --suppress-common-lines   do not output common lines\n",
      "\n",
      "  -p, --show-c-function         show which C function each change is in\n",
      "  -F, --show-function-line=RE   show the most recent line matching RE\n",
      "      --label LABEL             use LABEL instead of file name\n",
      "                                  (can be repeated)\n",
      "\n",
      "  -t, --expand-tabs             expand tabs to spaces in output\n",
      "  -T, --initial-tab             make tabs line up by prepending a tab\n",
      "      --tabsize=NUM             tab stops every NUM (default 8) print columns\n",
      "      --suppress-blank-empty    suppress space or tab before empty output lines\n",
      "  -l, --paginate                pass output through 'pr' to paginate it\n",
      "\n",
      "  -r, --recursive                 recursively compare any subdirectories found\n",
      "      --no-dereference            don't follow symbolic links\n",
      "  -N, --new-file                  treat absent files as empty\n",
      "      --unidirectional-new-file   treat absent first files as empty\n",
      "      --ignore-file-name-case     ignore case when comparing file names\n",
      "      --no-ignore-file-name-case  consider case when comparing file names\n",
      "  -x, --exclude=PAT               exclude files that match PAT\n",
      "  -X, --exclude-from=FILE         exclude files that match any pattern in FILE\n",
      "  -S, --starting-file=FILE        start with FILE when comparing directories\n",
      "      --from-file=FILE1           compare FILE1 to all operands;\n",
      "                                    FILE1 can be a directory\n",
      "      --to-file=FILE2             compare all operands to FILE2;\n",
      "                                    FILE2 can be a directory\n",
      "\n",
      "  -i, --ignore-case               ignore case differences in file contents\n",
      "  -E, --ignore-tab-expansion      ignore changes due to tab expansion\n",
      "  -Z, --ignore-trailing-space     ignore white space at line end\n",
      "  -b, --ignore-space-change       ignore changes in the amount of white space\n",
      "  -w, --ignore-all-space          ignore all white space\n",
      "  -B, --ignore-blank-lines        ignore changes where lines are all blank\n",
      "  -I, --ignore-matching-lines=RE  ignore changes where all lines match RE\n",
      "\n",
      "  -a, --text                      treat all files as text\n",
      "      --strip-trailing-cr         strip trailing carriage return on input\n",
      "\n",
      "  -D, --ifdef=NAME                output merged file with '#ifdef NAME' diffs\n",
      "      --GTYPE-group-format=GFMT   format GTYPE input groups with GFMT\n",
      "      --line-format=LFMT          format all input lines with LFMT\n",
      "      --LTYPE-line-format=LFMT    format LTYPE input lines with LFMT\n",
      "    These format options provide fine-grained control over the output\n",
      "      of diff, generalizing -D/--ifdef.\n",
      "    LTYPE is 'old', 'new', or 'unchanged'.  GTYPE is LTYPE or 'changed'.\n",
      "    GFMT (only) may contain:\n",
      "      %<  lines from FILE1\n",
      "      %>  lines from FILE2\n",
      "      %=  lines common to FILE1 and FILE2\n",
      "      %[-][WIDTH][.[PREC]]{doxX}LETTER  printf-style spec for LETTER\n",
      "        LETTERs are as follows for new group, lower case for old group:\n",
      "          F  first line number\n",
      "          L  last line number\n",
      "          N  number of lines = L-F+1\n",
      "          E  F-1\n",
      "          M  L+1\n",
      "      %(A=B?T:E)  if A equals B then T else E\n",
      "    LFMT (only) may contain:\n",
      "      %L  contents of line\n",
      "      %l  contents of line, excluding any trailing newline\n",
      "      %[-][WIDTH][.[PREC]]{doxX}n  printf-style spec for input line number\n",
      "    Both GFMT and LFMT may contain:\n",
      "      %%  %\n",
      "      %c'C'  the single character C\n",
      "      %c'\\OOO'  the character with octal code OOO\n",
      "      C    the character C (other characters represent themselves)\n",
      "\n",
      "  -d, --minimal            try hard to find a smaller set of changes\n",
      "      --horizon-lines=NUM  keep NUM lines of the common prefix and suffix\n",
      "      --speed-large-files  assume large files and many scattered small changes\n",
      "\n",
      "      --help               display this help and exit\n",
      "  -v, --version            output version information and exit\n",
      "\n",
      "FILES are 'FILE1 FILE2' or 'DIR1 DIR2' or 'DIR FILE...' or 'FILE... DIR'.\n",
      "If --from-file or --to-file is given, there are no restrictions on FILE(s).\n",
      "If a FILE is '-', read standard input.\n",
      "Exit status is 0 if inputs are the same, 1 if different, 2 if trouble.\n",
      "\n",
      "Report bugs to: bug-diffutils@gnu.org\n",
      "GNU diffutils home page: <http://www.gnu.org/software/diffutils/>\n",
      "General help using GNU software: <http://www.gnu.org/gethelp/>\n"
     ]
    }
   ],
   "source": [
    "diff --help"
   ]
  },
  {
   "cell_type": "markdown",
   "metadata": {},
   "source": [
    "## 18. man (system's manual pager)  \n",
    "\n",
    "\"man\" command က executable ပရိုဂရမ်တွေ ရဲ့ သုံးပုံသုံးနည်း အသေးစိတ်ကို ရှာဖွေကြည့်ချင်တဲ့ အခါမှာ သုံးပါတယ်။ command တွေရဲ့ reference manual ပါပဲ။  \n",
    "\n",
    "--help နဲ့ ကြည့်တာထက် ပိုပြီးပြည့်စုံပါတယ်။ သုံးပုံသုံးနည်းက man program-name ဆိုတဲ့ပုံစံပါ။  \n",
    "ဥပမာ ls command ရဲ့ man page ကို ဖတ်ချင်တယ်ဆိုရင်  \n",
    "\n",
    "man ls\n",
    "\n",
    "Linux system အများစုမှာ man စာမျက်နှာတွေကို less နဲ့ ပြပေးပါတယ်။  အဲဒါကြောင့် less command မှာ ကြည့်ရင်းနဲ့ သုံးတဲ့ command တွေ (ဥပမာ \"f\" နဲ့ စာမျက်နှာတစ်မျက်နှာစာ ရှေ့တိုးတာ၊ \"b\" နဲ့ စာမျက်နှာ တစ်မျက်နှာစာ နောက်ဆုတ်တာ၊ \"!\" နဲ့ less ထဲကနေ မထွက်ပဲ command တွေကို run တာမျိုး) အားလုံးကို အသုံးပြုနိုင်ပါတယ်။  \n",
    "\n",
    "help ကြည့်ချင်တဲ့ command ရဲ့ နာမည်ကို သေသေချာချာ မသိတဲ့ အခါ၊ နောက်ပြီး ရိုက်ထည့်လိုက်တဲ့ စာလုံးပါတဲ့ (သို့) ဆက်စပ်မှုရှိတဲ့ man စာမျက်နှာတွေကို ရှာကြည့်ချင်တဲ့ အခါမှာ \"-k\" option ကိုသုံးပါတယ်။  ဥပမာ python ဆိုတဲ့စာလုံးပါတဲ့ man စာမျက်နှာတွေအားလုံးကို အောက်ပါအတိုင်း ရှာကြည့်နိုင်ပါတယ်။  \n"
   ]
  },
  {
   "cell_type": "code",
   "execution_count": 17,
   "metadata": {},
   "outputs": [
    {
     "name": "stdout",
     "output_type": "stream",
     "text": [
      "2to3 (1)             - Python2 to Python3 converter\n",
      "2to3-2.7 (1)         - Python2 to Python3 converter\n",
      "2to3-3.5 (1)         - Python2 to Python3 converter\n",
      "dh_numpy (1)         - adds Numpy depends to python:Depends substvar\n",
      "dh_pysupport (1)     - use the python-support framework to handle Python modules\n",
      "dh_python2 (1)       - calculates Python dependencies, adds maintainer script...\n",
      "dh_python3 (1)       - calculates Python dependencies, adds maintainer script...\n",
      "f2py (1)             - Fortran to Python interface generator\n",
      "f2py2.7 (1)          - Fortran to Python interface generator\n",
      "ipcluster (1)        - start a cluster for IPython parallel computing\n",
      "ipcontroller (1)     - start a controller for IPython parallel computing\n",
      "ipengine (1)         - IPython parallel computing engine\n",
      "ipython (1)          - Tools for Interactive Computing in Python.\n",
      "jwt3 (1)             - Python implementation of JSON Web Token\n",
      "pdb (1)              - the Python debugger\n",
      "pdb2.7 (1)           - the Python debugger\n",
      "pdb3 (1)             - the Python debugger\n",
      "pdb3.5 (1)           - the Python debugger\n",
      "pip (1)              - A tool for installing and managing Python packages\n",
      "pip2 (1)             - A tool for installing and managing Python packages\n",
      "pip3 (1)             - A tool for installing and managing Python packages\n",
      "py3compile (1)       - byte compile Python 3 source files\n",
      "py3versions (1)      - print python3 version information\n",
      "pybuild (1)          - invokes various build systems for requested Python ver...\n",
      "pycompile (1)        - byte compile Python source files\n",
      "pydoc (1)            - the Python documentation tool\n",
      "pydoc2.7 (1)         - the Python documentation tool\n",
      "pydoc3 (1)           - the Python documentation tool\n",
      "pydoc3.5 (1)         - the Python documentation tool\n",
      "pygettext (1)        - Python equivalent of xgettext(1)\n",
      "pygettext2.7 (1)     - Python equivalent of xgettext(1)\n",
      "pygettext3 (1)       - Python equivalent of xgettext(1)\n",
      "pygettext3.5 (1)     - Python equivalent of xgettext(1)\n",
      "pyste (1)            - Boost.Python code generator\n",
      "python (1)           - an interpreted, interactive, object-oriented programmi...\n",
      "python-config (1)    - output build options for python C/C++ extensions or em...\n",
      "python2 (1)          - an interpreted, interactive, object-oriented programmi...\n",
      "python2-config (1)   - output build options for python C/C++ extensions or em...\n",
      "python2.7 (1)        - an interpreted, interactive, object-oriented programmi...\n",
      "python2.7-config (1) - output build options for python C/C++ extensions or em...\n",
      "python3 (1)          - an interpreted, interactive, object-oriented programmi...\n",
      "python3-config (1)   - output build options for python C/C++ extensions or em...\n",
      "python3.5 (1)        - an interpreted, interactive, object-oriented programmi...\n",
      "python3.5-config (1) - output build options for python C/C++ extensions or em...\n",
      "python3.5m (1)       - an interpreted, interactive, object-oriented programmi...\n",
      "python3.5m-config (1) - output build options for python C/C++ extensions or e...\n",
      "python3m (1)         - an interpreted, interactive, object-oriented programmi...\n",
      "python3m-config (1)  - output build options for python C/C++ extensions or em...\n",
      "pyversions (1)       - print python version information\n",
      "update-python-modules (8) - byte-compile python modules\n",
      "x86_64-linux-gnu-python-config (1) - output build options for python C/C++ ex...\n",
      "x86_64-linux-gnu-python2.7-config (1) - output build options for python C/C++...\n",
      "x86_64-linux-gnu-python3-config (1) - output build options for python C/C++ e...\n",
      "x86_64-linux-gnu-python3.5-config (1) - output build options for python C/C++...\n",
      "x86_64-linux-gnu-python3.5m-config (1) - output build options for python C/C+...\n",
      "x86_64-linux-gnu-python3m-config (1) - output build options for python C/C++ ...\n"
     ]
    }
   ],
   "source": [
    "man -k python"
   ]
  },
  {
   "cell_type": "markdown",
   "metadata": {},
   "source": [
    "man help စာမျက်နှာတွေက command အမျိုးအစားပေါ်မူတည်ပြီး၊ သက်ဆိုင်ရာ section တွေ ခွဲပြီးရှင်းပြထားတာတွေရှိပါတယ်။  \n",
    "section တွေကို အောက်ပါအတိုင်း နံပါတ်တွေခွဲထားပါတယ်။  \n",
    "\n",
    " 1. Executable programs or shell commands  \n",
    " 2. System calls (functions provided by the kernel)  \n",
    " 3. Library calls (functions within program libraries)  \n",
    " 4. Special files (usually found in /dev)  \n",
    " 5. File formats and conventions eg /etc/passwd  \n",
    " 6. Games  \n",
    " 7. Miscellaneous (including macro packages and conventions), e.g. man(7), groff(7)  \n",
    " 8. System administration commands (usually only for root)  \n",
    " 9. Kernel routines [Non standard]  \n",
    " \n",
    " command တစ်ခု ရဲ့ man help စာမျက်နှာတွေ အများကြီးထဲကမှ၊ ကိုယ်ကြည့်ချင်တဲ့ section ကို နံပါတ်နဲ့ option ပေးပြီး ကြည့်လို့ရပါတယ်။  \n",
    " ဥပမာ /etc/passwd ရဲ့ ဖိုင်က ဘယ်လို format လဲဆိုတာကို သိချင်ရင် အောက်ပါအတိုင်း ရိုက်ကြည့်ပါ။  \n"
   ]
  },
  {
   "cell_type": "code",
   "execution_count": 18,
   "metadata": {},
   "outputs": [
    {
     "name": "stdout",
     "output_type": "stream",
     "text": [
      "PASSWD(5)                File Formats and Conversions                PASSWD(5)\n",
      "\n",
      "NAME\n",
      "       passwd - the password file\n",
      "\n",
      "DESCRIPTION\n",
      "       /etc/passwd contains one line for each user account, with seven fields\n",
      "       delimited by colons (“:”). These fields are:\n",
      "\n",
      "       ·   login name\n",
      "\n",
      "       ·   optional encrypted password\n",
      "\n",
      "       ·   numerical user ID\n",
      "\n",
      "       ·   numerical group ID\n",
      "\n",
      "       ·   user name or comment field\n",
      "\n",
      "       ·   user home directory\n",
      "\n",
      "       ·   optional user command interpreter\n",
      "\n",
      "       The encrypted password field may be blank, in which case no password is\n",
      "       required to authenticate as the specified login name. However, some\n",
      "       applications which read the /etc/passwd file may decide not to permit\n",
      "       any access at all if the password field is blank. If the password field\n",
      "       is a lower-case “x”, then the encrypted password is actually stored in\n",
      "       the shadow(5) file instead; there must be a corresponding line in the\n",
      "       /etc/shadow file, or else the user account is invalid. If the password\n",
      "       field is any other string, then it will be treated as an encrypted\n",
      "       password, as specified by crypt(3).\n",
      "\n",
      "       The comment field is used by various system utilities, such as\n",
      "       finger(1).\n",
      "\n",
      "       The home directory field provides the name of the initial working\n",
      "       directory. The login program uses this information to set the value of\n",
      "       the $HOME environmental variable.\n",
      "\n",
      "       The command interpreter field provides the name of the user's command\n",
      "       language interpreter, or the name of the initial program to execute.\n",
      "       The login program uses this information to set the value of the $SHELL\n",
      "       environmental variable. If this field is empty, it defaults to the\n",
      "       value /bin/sh.\n",
      "\n",
      "FILES\n",
      "       /etc/passwd\n",
      "           User account information.\n",
      "\n",
      "       /etc/shadow\n",
      "           optional encrypted password file\n",
      "\n",
      "       /etc/passwd-\n",
      "           Backup file for /etc/passwd.\n",
      "\n",
      "           Note that this file is used by the tools of the shadow toolsuite,\n",
      "           but not by all user and password management tools.\n",
      "\n",
      "SEE ALSO\n",
      "       crypt(3), getent(1), getpwnam(3), login(1), passwd(1), pwck(8),\n",
      "       pwconv(8), pwunconv(8), shadow(5), su(1), sulogin(8).\n",
      "\n",
      "shadow-utils 4.2                  05/16/2017                         PASSWD(5)\n"
     ]
    }
   ],
   "source": [
    "man 5 passwd"
   ]
  },
  {
   "cell_type": "markdown",
   "metadata": {},
   "source": [
    "man အကြောင်းကို အသေးစိတ်သိချင်ရင်၊ အောက်ပါအတိုင်း command line terminal မှာ \"man man\" ကို ရိုက်ကြည့်ပြီး လေ့လာပါ။"
   ]
  },
  {
   "cell_type": "code",
   "execution_count": 150,
   "metadata": {},
   "outputs": [
    {
     "name": "stdout",
     "output_type": "stream",
     "text": [
      "MAN(1)                        Manual pager utils                        MAN(1)\n",
      "\n",
      "NAME\n",
      "       man - an interface to the on-line reference manuals\n",
      "\n",
      "SYNOPSIS\n",
      "       man  [-C  file]  [-d]  [-D]  [--warnings[=warnings]]  [-R encoding] [-L\n",
      "       locale] [-m system[,...]] [-M path] [-S list]  [-e  extension]  [-i|-I]\n",
      "       [--regex|--wildcard]   [--names-only]  [-a]  [-u]  [--no-subpages]  [-P\n",
      "       pager] [-r prompt] [-7] [-E encoding] [--no-hyphenation] [--no-justifi‐\n",
      "       cation]  [-p  string]  [-t]  [-T[device]]  [-H[browser]] [-X[dpi]] [-Z]\n",
      "       [[section] page ...] ...\n",
      "       man -k [apropos options] regexp ...\n",
      "       man -K [-w|-W] [-S list] [-i|-I] [--regex] [section] term ...\n",
      "       man -f [whatis options] page ...\n",
      "       man -l [-C file] [-d] [-D] [--warnings[=warnings]]  [-R  encoding]  [-L\n",
      "       locale]  [-P  pager]  [-r  prompt]  [-7] [-E encoding] [-p string] [-t]\n",
      "       [-T[device]] [-H[browser]] [-X[dpi]] [-Z] file ...\n",
      "       man -w|-W [-C file] [-d] [-D] page ...\n",
      "       man -c [-C file] [-d] [-D] page ...\n",
      "       man [-?V]\n",
      "\n",
      "DESCRIPTION\n",
      "       man is the system's manual pager.  Each page argument given to  man  is\n",
      "       normally  the  name of a program, utility or function.  The manual page\n",
      "       associated with each of these arguments is then found and displayed.  A\n",
      "       section,  if  provided, will direct man to look only in that section of\n",
      "       the manual.  The default action is to search in all  of  the  available\n",
      "       sections following a pre-defined order (\"1 n l 8 3 2 3posix 3pm 3perl 5\n",
      "       4 9 6 7\" by default, unless overridden  by  the  SECTION  directive  in\n",
      "       /etc/manpath.config),  and  to  show only the first page found, even if\n",
      "       page exists in several sections.\n",
      "\n",
      "       The table below shows the section numbers of the manual followed by the\n",
      "       types of pages they contain.\n",
      "\n",
      "       1   Executable programs or shell commands\n",
      "       2   System calls (functions provided by the kernel)\n",
      "       3   Library calls (functions within program libraries)\n",
      "       4   Special files (usually found in /dev)\n",
      "       5   File formats and conventions eg /etc/passwd\n",
      "       6   Games\n",
      "       7   Miscellaneous  (including  macro  packages  and  conventions), e.g.\n",
      "           man(7), groff(7)\n",
      "       8   System administration commands (usually only for root)\n",
      "       9   Kernel routines [Non standard]\n",
      "\n",
      "       A manual page consists of several sections.\n",
      "\n",
      "       Conventional  section  names  include  NAME,  SYNOPSIS,  CONFIGURATION,\n",
      "       DESCRIPTION,  OPTIONS,  EXIT STATUS, RETURN VALUE, ERRORS, ENVIRONMENT,\n",
      "       FILES, VERSIONS, CONFORMING TO,  NOTES,  BUGS,  EXAMPLE,  AUTHORS,  and\n",
      "       SEE ALSO.\n",
      "\n",
      "       The following conventions apply to the SYNOPSIS section and can be used\n",
      "       as a guide in other sections.\n",
      "\n",
      "       bold text          type exactly as shown.\n",
      "       italic text        replace with appropriate argument.\n",
      "       [-abc]             any or all arguments within [ ] are optional.\n",
      "       -a|-b              options delimited by | cannot be used together.\n",
      "\n",
      "       argument ...       argument is repeatable.\n",
      "       [expression] ...   entire expression within [ ] is repeatable.\n",
      "\n",
      "       Exact rendering may vary depending on the output device.  For instance,\n",
      "       man will usually not be able to render italics when running in a termi‐\n",
      "       nal, and will typically use underlined or coloured text instead.\n",
      "\n",
      "       The command or function illustration is a pattern that should match all\n",
      "       possible invocations.  In some cases it is advisable to illustrate sev‐\n",
      "       eral exclusive invocations as is shown in the SYNOPSIS section of  this\n",
      "       manual page.\n",
      "\n",
      "EXAMPLES\n",
      "       man ls\n",
      "           Display the manual page for the item (program) ls.\n",
      "\n",
      "       man -a intro\n",
      "           Display,  in  succession,  all  of the available intro manual pages\n",
      "           contained within the manual.  It is possible to quit  between  suc‐\n",
      "           cessive displays or skip any of them.\n",
      "\n",
      "       man -t alias | lpr -Pps\n",
      "           Format  the manual page referenced by `alias', usually a shell man‐\n",
      "           ual page, into the default troff or groff format and pipe it to the\n",
      "           printer  named  ps.   The default output for groff is usually Post‐\n",
      "           Script.  man --help should advise as to which processor is bound to\n",
      "           the -t option.\n",
      "\n",
      "       man -l -Tdvi ./foo.1x.gz > ./foo.1x.dvi\n",
      "           This  command  will  decompress  and format the nroff source manual\n",
      "           page ./foo.1x.gz into a device independent (dvi) file.   The  redi‐\n",
      "           rection is necessary as the -T flag causes output to be directed to\n",
      "           stdout with no pager.  The output could be viewed  with  a  program\n",
      "           such  as  xdvi or further processed into PostScript using a program\n",
      "           such as dvips.\n",
      "\n",
      "       man -k printf\n",
      "           Search the short descriptions and manual page names for the keyword\n",
      "           printf  as  regular expression.  Print out any matches.  Equivalent\n",
      "           to apropos printf.\n",
      "\n",
      "       man -f smail\n",
      "           Lookup the manual pages referenced by smail and print out the short\n",
      "           descriptions of any found.  Equivalent to whatis smail.\n",
      "\n",
      "OVERVIEW\n",
      "       Many  options are available to man in order to give as much flexibility\n",
      "       as possible to the user.  Changes can be made to the search path,  sec‐\n",
      "       tion  order,  output  processor,  and  other  behaviours and operations\n",
      "       detailed below.\n",
      "\n",
      "       If set, various environment variables are interrogated to determine the\n",
      "       operation  of  man.   It  is  possible  to set the `catch all' variable\n",
      "       $MANOPT to any string in command line format with  the  exception  that\n",
      "       any  spaces  used as part of an option's argument must be escaped (pre‐\n",
      "       ceded by a backslash).  man will parse $MANOPT prior to parsing its own\n",
      "       command  line.   Those options requiring an argument will be overridden\n",
      "       by the same options found on the command line.  To  reset  all  of  the\n",
      "       options set in $MANOPT, -D can be specified as the initial command line\n",
      "       option.  This will allow man to `forget' about the options specified in\n",
      "       $MANOPT although they must still have been valid.\n",
      "\n",
      "       The  manual  pager  utilities  packaged as man-db make extensive use of\n",
      "       index database caches.  These caches contain information such as  where\n",
      "       each  manual  page  can  be found on the filesystem and what its whatis\n",
      "       (short one line description of the man page) contains, and allow man to\n",
      "       run  faster  than  if it had to search the filesystem each time to find\n",
      "       the appropriate manual page.  If requested using  the  -u  option,  man\n",
      "       will  ensure  that  the caches remain consistent, which can obviate the\n",
      "       need to manually run software to update traditional whatis  text  data‐\n",
      "       bases.\n",
      "\n",
      "       If  man  cannot  find a mandb initiated index database for a particular\n",
      "       manual page hierarchy, it will still search for  the  requested  manual\n",
      "       pages,  although  file globbing will be necessary to search within that\n",
      "       hierarchy.  If whatis or apropos fails to find an index it will try  to\n",
      "       extract information from a traditional whatis database instead.\n",
      "\n",
      "       These  utilities  support  compressed  source  nroff  files  having, by\n",
      "       default, the extensions of .Z, .z and .gz.  It is possible to deal with\n",
      "       any  compression  extension, but this information must be known at com‐\n",
      "       pile time.  Also, by default, any cat  pages  produced  are  compressed\n",
      "       using gzip.  Each `global' manual page hierarchy such as /usr/share/man\n",
      "       or /usr/X11R6/man may have any directory as  its  cat  page  hierarchy.\n",
      "       Traditionally  the cat pages are stored under the same hierarchy as the\n",
      "       man pages, but for reasons such as those specified in the File  Hierar‐\n",
      "       chy  Standard  (FHS),  it  may  be better to store them elsewhere.  For\n",
      "       details on how to do this, please read manpath(5).  For details on  why\n",
      "       to do this, read the standard.\n",
      "\n",
      "       International  support is available with this package.  Native language\n",
      "       manual pages are accessible (if available on your system)  via  use  of\n"
     ]
    },
    {
     "name": "stdout",
     "output_type": "stream",
     "text": [
      "       locale  functions.   To  activate  such support, it is necessary to set\n",
      "       either $LC_MESSAGES, $LANG  or  another  system  dependent  environment\n",
      "       variable to your language locale, usually specified in the POSIX 1003.1\n",
      "       based format:\n",
      "\n",
      "       <language>[_<territory>[.<character-set>[,<version>]]]\n",
      "\n",
      "       If the desired page is available in your locale, it will  be  displayed\n",
      "       in lieu of the standard (usually American English) page.\n",
      "\n",
      "       Support  for  international message catalogues is also featured in this\n",
      "       package and can be activated in the same way, again if  available.   If\n",
      "       you  find  that  the  manual pages and message catalogues supplied with\n",
      "       this package are not available in your native language  and  you  would\n",
      "       like  to supply them, please contact the maintainer who will be coordi‐\n",
      "       nating such activity.\n",
      "\n",
      "       For information regarding other features and extensions available  with\n",
      "       this manual pager, please read the documents supplied with the package.\n",
      "\n",
      "DEFAULTS\n",
      "       man  will search for the desired manual pages within the index database\n",
      "       caches. If the -u option is given, a cache consistency  check  is  per‐\n",
      "       formed  to  ensure the databases accurately reflect the filesystem.  If\n",
      "       this option is always given, it is not generally necessary to run mandb\n",
      "       after the caches are initially created, unless a cache becomes corrupt.\n",
      "       However, the cache consistency check can be slow on systems  with  many\n",
      "       manual  pages  installed, so it is not performed by default, and system\n",
      "       administrators may wish to run mandb every week or so to keep the data‐\n",
      "       base  caches  fresh.   To forestall problems caused by outdated caches,\n",
      "       man will fall back to file globbing if a cache lookup fails, just as it\n",
      "       would if no cache was present.\n",
      "\n",
      "       Once  a  manual page has been located, a check is performed to find out\n",
      "       if a relative preformatted `cat' file already exists and is newer  than\n",
      "       the nroff file.  If it does and is, this preformatted file is (usually)\n",
      "       decompressed and then displayed, via use of a pager.  The pager can  be\n",
      "       specified  in  a number of ways, or else will fall back to a default is\n",
      "       used (see option -P for details).  If no cat is found or is older  than\n",
      "       the  nroff  file, the nroff is filtered through various programs and is\n",
      "       shown immediately.\n",
      "\n",
      "       If a cat file can be produced (a relative cat directory exists and  has\n",
      "       appropriate  permissions),  man will compress and store the cat file in\n",
      "       the background.\n",
      "\n",
      "       The filters are deciphered by a number of means.  Firstly, the  command\n",
      "       line option -p or the environment variable $MANROFFSEQ is interrogated.\n",
      "       If -p was not used and the environment variable was not set,  the  ini‐\n",
      "       tial  line  of  the nroff file is parsed for a preprocessor string.  To\n",
      "       contain a valid preprocessor string, the first line must resemble\n",
      "\n",
      "       '\\\" <string>\n",
      "\n",
      "       where string can be any combination of letters described by  option  -p\n",
      "       below.\n",
      "\n",
      "       If  none of the above methods provide any filter information, a default\n",
      "       set is used.\n",
      "\n",
      "       A formatting pipeline is formed from the filters and the  primary  for‐\n",
      "       matter  (nroff or [tg]roff with -t) and executed.  Alternatively, if an\n",
      "       executable program mandb_nfmt (or mandb_tfmt with -t) exists in the man\n",
      "       tree  root,  it  is executed instead.  It gets passed the manual source\n",
      "       file, the preprocessor string, and optionally the device specified with\n",
      "       -T or -E as arguments.\n",
      "\n",
      "OPTIONS\n",
      "       Non argument options that are duplicated either on the command line, in\n",
      "       $MANOPT, or both, are not harmful.  For options that require  an  argu‐\n",
      "       ment, each duplication will override the previous argument value.\n",
      "\n",
      "   General options\n",
      "       -C file, --config-file=file\n",
      "              Use  this  user  configuration  file  rather than the default of\n",
      "              ~/.manpath.\n",
      "\n",
      "       -d, --debug\n",
      "              Print debugging information.\n",
      "\n",
      "       -D, --default\n",
      "              This option is normally issued as  the  very  first  option  and\n",
      "              resets  man's  behaviour  to  its  default.  Its use is to reset\n",
      "              those options that may have been set in  $MANOPT.   Any  options\n",
      "              that follow -D will have their usual effect.\n",
      "\n",
      "       --warnings[=warnings]\n",
      "              Enable  warnings from groff.  This may be used to perform sanity\n",
      "              checks on the source text of manual pages.  warnings is a comma-\n",
      "              separated  list  of  warning  names;  if it is not supplied, the\n",
      "              default is \"mac\".  See the “Warnings” node in info groff  for  a\n",
      "              list of available warning names.\n",
      "\n",
      "   Main modes of operation\n",
      "       -f, --whatis\n",
      "              Equivalent to whatis.  Display a short description from the man‐\n",
      "              ual page, if available.  See whatis(1) for details.\n",
      "\n",
      "       -k, --apropos\n",
      "              Equivalent to apropos.  Search the short  manual  page  descrip‐\n",
      "              tions  for keywords and display any matches.  See apropos(1) for\n",
      "              details.\n",
      "\n",
      "       -K, --global-apropos\n",
      "              Search for text in all manual  pages.   This  is  a  brute-force\n",
      "              search,  and is likely to take some time; if you can, you should\n",
      "              specify a section to reduce the number of pages that need to  be\n",
      "              searched.   Search terms may be simple strings (the default), or\n",
      "              regular expressions if the --regex option is used.\n",
      "\n",
      "       -l, --local-file\n",
      "              Activate `local' mode.  Format and display  local  manual  files\n",
      "              instead  of  searching  through  the system's manual collection.\n",
      "              Each manual page argument will be interpreted as an nroff source\n",
      "              file in the correct format.  No cat file is produced.  If '-' is\n",
      "              listed as one of the arguments, input will be taken from  stdin.\n",
      "              When  this  option  is  not used, and man fails to find the page\n",
      "              required, before displaying the error message,  it  attempts  to\n",
      "              act as if this option was supplied, using the name as a filename\n",
      "              and looking for an exact match.\n",
      "\n",
      "       -w, --where, --path, --location\n",
      "              Don't actually display the manual pages, but do print the  loca‐\n",
      "              tion(s) of the source nroff files that would be formatted.\n",
      "\n",
      "       -W, --where-cat, --location-cat\n",
      "              Don't  actually display the manual pages, but do print the loca‐\n",
      "              tion(s) of the cat files that would be displayed.  If -w and  -W\n",
      "              are both specified, print both separated by a space.\n",
      "\n",
      "       -c, --catman\n",
      "              This  option  is  not for general use and should only be used by\n",
      "              the catman program.\n",
      "\n",
      "       -R encoding, --recode=encoding\n",
      "              Instead of formatting the manual page in the usual  way,  output\n",
      "              its  source converted to the specified encoding.  If you already\n",
      "              know the encoding of the source file,  you  can  also  use  man‐\n",
      "              conv(1)  directly.   However,  this option allows you to convert\n",
      "              several manual pages to a  single  encoding  without  having  to\n",
      "              explicitly  state  the encoding of each, provided that they were\n",
      "              already installed in a structure similar to a manual page  hier‐\n",
      "              archy.\n",
      "\n",
      "   Finding manual pages\n",
      "       -L locale, --locale=locale\n",
      "              man will normally determine your current locale by a call to the\n",
      "              C function setlocale(3) which interrogates  various  environment\n",
      "              variables, possibly including $LC_MESSAGES and $LANG.  To tempo‐\n",
      "              rarily override the determined value, use this option to  supply\n",
      "              a  locale  string  directly  to man.  Note that it will not take\n",
      "              effect until the search for pages actually begins.  Output  such\n",
      "              as  the  help  message will always be displayed in the initially\n",
      "              determined locale.\n"
     ]
    },
    {
     "name": "stdout",
     "output_type": "stream",
     "text": [
      "\n",
      "       -m system[,...], --systems=system[,...]\n",
      "              If this system has access to  other  operating  system's  manual\n",
      "              pages,  they can be accessed using this option.  To search for a\n",
      "              manual page from NewOS's manual page collection, use the  option\n",
      "              -m NewOS.\n",
      "\n",
      "              The  system  specified  can  be a combination of comma delimited\n",
      "              operating system names.  To include a search of the native oper‐\n",
      "              ating  system's manual pages, include the system name man in the\n",
      "              argument string.  This option will override the $SYSTEM environ‐\n",
      "              ment variable.\n",
      "\n",
      "       -M path, --manpath=path\n",
      "              Specify  an alternate manpath to use.  By default, man uses man‐\n",
      "              path derived code to determine the path to search.  This  option\n",
      "              overrides the $MANPATH environment variable and causes option -m\n",
      "              to be ignored.\n",
      "\n",
      "              A path specified as a manpath must be the root of a manual  page\n",
      "              hierarchy  structured  into  sections as described in the man-db\n",
      "              manual (under \"The manual page system\").  To view  manual  pages\n",
      "              outside such hierarchies, see the -l option.\n",
      "\n",
      "       -S list, -s list, --sections=list\n",
      "              List  is  a  colon-  or comma-separated list of `order specific'\n",
      "              manual sections to search.  This option overrides  the  $MANSECT\n",
      "              environment  variable.   (The  -s  spelling is for compatibility\n",
      "              with System V.)\n",
      "\n",
      "       -e sub-extension, --extension=sub-extension\n",
      "              Some systems incorporate large packages of manual pages, such as\n",
      "              those  that accompany the Tcl package, into the main manual page\n",
      "              hierarchy.  To get around the problem of having two manual pages\n",
      "              with  the  same name such as exit(3), the Tcl pages were usually\n",
      "              all assigned to section l.  As this is unfortunate,  it  is  now\n",
      "              possible  to put the pages in the correct section, and to assign\n",
      "              a specific `extension' to them, in this case, exit(3tcl).  Under\n",
      "              normal  operation,  man  will  display  exit(3) in preference to\n",
      "              exit(3tcl).  To negotiate this situation and to avoid having  to\n",
      "              know  which  section  the page you require resides in, it is now\n",
      "              possible to give man a  sub-extension  string  indicating  which\n",
      "              package  the page must belong to.  Using the above example, sup‐\n",
      "              plying the option -e tcl to man  will  restrict  the  search  to\n",
      "              pages having an extension of *tcl.\n",
      "\n",
      "       -i, --ignore-case\n",
      "              Ignore  case  when  searching  for  manual  pages.   This is the\n",
      "              default.\n",
      "\n",
      "       -I, --match-case\n",
      "              Search for manual pages case-sensitively.\n",
      "\n",
      "       --regex\n",
      "              Show all pages with any part of  either  their  names  or  their\n",
      "              descriptions  matching  each  page argument as a regular expres‐\n",
      "              sion, as with apropos(1).  Since there is usually no  reasonable\n",
      "              way  to  pick a \"best\" page when searching for a regular expres‐\n",
      "              sion, this option implies -a.\n",
      "\n",
      "       --wildcard\n",
      "              Show all pages with any part of  either  their  names  or  their\n",
      "              descriptions matching each page argument using shell-style wild‐\n",
      "              cards, as with apropos(1) --wildcard.  The  page  argument  must\n",
      "              match  the  entire  name or description, or match on word bound‐\n",
      "              aries in the description.  Since there is usually no  reasonable\n",
      "              way  to  pick  a \"best\" page when searching for a wildcard, this\n",
      "              option implies -a.\n",
      "\n",
      "       --names-only\n",
      "              If the --regex or --wildcard option is  used,  match  only  page\n",
      "              names,  not page descriptions, as with whatis(1).  Otherwise, no\n",
      "              effect.\n",
      "\n",
      "       -a, --all\n",
      "              By default, man will exit after  displaying  the  most  suitable\n",
      "              manual  page  it finds.  Using this option forces man to display\n",
      "              all the manual pages with names that match the search criteria.\n",
      "\n",
      "       -u, --update\n",
      "              This option causes man to perform an `inode  level'  consistency\n",
      "              check on its database caches to ensure that they are an accurate\n",
      "              representation of the filesystem.  It will only  have  a  useful\n",
      "              effect if man is installed with the setuid bit set.\n",
      "\n",
      "       --no-subpages\n",
      "              By default, man will try to interpret pairs of manual page names\n",
      "              given on the command line as equivalent to a single manual  page\n",
      "              name  containing  a  hyphen or an underscore.  This supports the\n",
      "              common pattern of programs that implement a  number  of  subcom‐\n",
      "              mands,  allowing  them to provide manual pages for each that can\n",
      "              be accessed using similar syntax as would be used to invoke  the\n",
      "              subcommands themselves.  For example:\n",
      "\n",
      "                $ man -aw git diff\n",
      "                /usr/share/man/man1/git-diff.1.gz\n",
      "\n",
      "              To disable this behaviour, use the --no-subpages option.\n",
      "\n",
      "                $ man -aw --no-subpages git diff\n",
      "                /usr/share/man/man1/git.1.gz\n",
      "                /usr/share/man/man3/Git.3pm.gz\n",
      "                /usr/share/man/man1/diff.1.gz\n",
      "\n",
      "   Controlling formatted output\n",
      "       -P pager, --pager=pager\n",
      "              Specify  which output pager to use.  By default, man uses pager.\n",
      "              This option overrides the $MANPAGER environment variable,  which\n",
      "              in  turn  overrides  the $PAGER environment variable.  It is not\n",
      "              used in conjunction with -f or -k.\n",
      "\n",
      "              The value may be a simple command name or a command  with  argu‐\n",
      "              ments, and may use shell quoting (backslashes, single quotes, or\n",
      "              double quotes).  It may not use pipes to connect  multiple  com‐\n",
      "              mands;  if  you  need that, use a wrapper script, which may take\n",
      "              the file to display either as an argument or on standard input.\n",
      "\n",
      "       -r prompt, --prompt=prompt\n",
      "              If a recent version of less is  used  as  the  pager,  man  will\n",
      "              attempt  to  set  its  prompt  and  some  sensible options.  The\n",
      "              default prompt looks like\n",
      "\n",
      "               Manual page name(sec) line x\n",
      "\n",
      "              where name denotes the manual page name, sec denotes the section\n",
      "              it  was  found  under  and  x  the current line number.  This is\n",
      "              achieved by using the $LESS environment variable.\n",
      "\n",
      "              Supplying -r with a string  will  override  this  default.   The\n",
      "              string  may  contain  the text $MAN_PN which will be expanded to\n",
      "              the name of the current manual page and its  section  name  sur‐\n",
      "              rounded  by `(' and `)'.  The string used to produce the default\n",
      "              could be expressed as\n",
      "\n",
      "              \\ Manual\\ page\\ \\$MAN_PN\\ ?ltline\\ %lt?L/%L.:\n",
      "              byte\\ %bB?s/%s..?\\ (END):?pB\\ %pB\\\\%..\n",
      "              (press h for help or q to quit)\n",
      "\n",
      "              It is broken into three lines here for the sake  of  readability\n",
      "              only.   For its meaning see the less(1) manual page.  The prompt\n",
      "              string is first evaluated by  the  shell.   All  double  quotes,\n",
      "              back-quotes  and  backslashes in the prompt must be escaped by a\n",
      "              preceding backslash.  The prompt string may end in an escaped  $\n",
      "              which  may  be followed by further options for less.  By default\n",
      "              man sets the -ix8 options.\n",
      "\n",
      "              The $MANLESS environment variable described below may be used to\n",
      "              set  a  default prompt string if none is supplied on the command\n",
      "              line.\n",
      "\n",
      "       -7, --ascii\n",
      "              When viewing a pure ascii(7) manual page on a 7 bit terminal  or\n",
      "              terminal  emulator,  some  characters  may not display correctly\n",
      "              when using the latin1(7)  device  description  with  GNU  nroff.\n",
      "              This  option  allows  pure ascii manual pages to be displayed in\n"
     ]
    },
    {
     "name": "stdout",
     "output_type": "stream",
     "text": [
      "              ascii with the latin1 device.  It will not translate any  latin1\n",
      "              text.   The  following  table  shows the translations performed:\n",
      "              some parts of it may only be displayed properly when  using  GNU\n",
      "              nroff's latin1(7) device.\n",
      "\n",
      "              Description      Octal   latin1   ascii\n",
      "              ────────────────────────────────────────\n",
      "              continuation      255      ‐        -\n",
      "              hyphen\n",
      "              bullet (middle    267      ·        o\n",
      "              dot)\n",
      "              acute accent      264      ´        '\n",
      "              multiplication    327      ×        x\n",
      "              sign\n",
      "\n",
      "              If the latin1 column displays correctly, your  terminal  may  be\n",
      "              set  up  for latin1 characters and this option is not necessary.\n",
      "              If the latin1 and ascii columns are identical, you  are  reading\n",
      "              this  page  using  this  option  or man did not format this page\n",
      "              using the latin1 device description.  If the  latin1  column  is\n",
      "              missing  or corrupt, you may need to view manual pages with this\n",
      "              option.\n",
      "\n",
      "              This option is ignored when using options -t, -H, -T, or -Z  and\n",
      "              may be useless for nroff other than GNU's.\n",
      "\n",
      "       -E encoding, --encoding=encoding\n",
      "              Generate output for a character encoding other than the default.\n",
      "              For backward compatibility, encoding may be an nroff device such\n",
      "              as  ascii,  latin1, or utf8 as well as a true character encoding\n",
      "              such as UTF-8.\n",
      "\n",
      "       --no-hyphenation, --nh\n",
      "              Normally, nroff will automatically hyphenate text at line breaks\n",
      "              even in words that do not contain hyphens, if it is necessary to\n",
      "              do so to lay out words on  a  line  without  excessive  spacing.\n",
      "              This  option  disables automatic hyphenation, so words will only\n",
      "              be hyphenated if they already contain hyphens.\n",
      "\n",
      "              If you are writing a manual page  and  simply  want  to  prevent\n",
      "              nroff  from hyphenating a word at an inappropriate point, do not\n",
      "              use this option, but consult the  nroff  documentation  instead;\n",
      "              for instance, you can put \"\\%\" inside a word to indicate that it\n",
      "              may be hyphenated at that point, or put \"\\%\" at the start  of  a\n",
      "              word to prevent it from being hyphenated.\n",
      "\n",
      "       --no-justification, --nj\n",
      "              Normally, nroff will automatically justify text to both margins.\n",
      "              This option disables full justification, leaving justified  only\n",
      "              to the left margin, sometimes called \"ragged-right\" text.\n",
      "\n",
      "              If  you  are  writing  a  manual page and simply want to prevent\n",
      "              nroff from  justifying  certain  paragraphs,  do  not  use  this\n",
      "              option,   but  consult  the  nroff  documentation  instead;  for\n",
      "              instance, you  can  use  the  \".na\",  \".nf\",  \".fi\",  and  \".ad\"\n",
      "              requests to temporarily disable adjusting and filling.\n",
      "\n",
      "       -p string, --preprocessor=string\n",
      "              Specify  the  sequence  of  preprocessors to run before nroff or\n",
      "              troff/groff.  Not all installations will have a full set of pre‐\n",
      "              processors.   Some  of the preprocessors and the letters used to\n",
      "              designate them are: eqn (e), grap (g), pic (p), tbl (t),  vgrind\n",
      "              (v),  refer (r).  This option overrides the $MANROFFSEQ environ‐\n",
      "              ment variable.  zsoelim is always run as  the  very  first  pre‐\n",
      "              processor.\n",
      "\n",
      "       -t, --troff\n",
      "              Use  groff  -mandoc  to  format the manual page to stdout.  This\n",
      "              option is not required in conjunction with -H, -T, or -Z.\n",
      "\n",
      "       -T[device], --troff-device[=device]\n",
      "              This option is used to change groff (or possibly troff's) output\n",
      "              to  be suitable for a device other than the default.  It implies\n",
      "              -t.  Examples (provided with Groff-1.17)  include  dvi,  latin1,\n",
      "              ps, utf8, X75 and X100.\n",
      "\n",
      "       -H[browser], --html[=browser]\n",
      "              This  option  will  cause groff to produce HTML output, and will\n",
      "              display that output in a web browser.  The choice of browser  is\n",
      "              determined  by the optional browser argument if one is provided,\n",
      "              by the $BROWSER  environment  variable,  or  by  a  compile-time\n",
      "              default  if  that  is unset (usually lynx).  This option implies\n",
      "              -t, and will only work with GNU troff.\n",
      "\n",
      "       -X[dpi], --gxditview[=dpi]\n",
      "              This option displays the output of groff in a  graphical  window\n",
      "              using the gxditview program.  The dpi (dots per inch) may be 75,\n",
      "              75-12, 100, or 100-12, defaulting to 75; the -12 variants use  a\n",
      "              12-point  base  font.   This  option  implies  -T  with the X75,\n",
      "              X75-12, X100, or X100-12 device respectively.\n",
      "\n",
      "       -Z, --ditroff\n",
      "              groff will run troff and then use an appropriate  post-processor\n",
      "              to  produce  output  suitable  for  the chosen device.  If groff\n",
      "              -mandoc is groff, this option is passed to groff and  will  sup‐\n",
      "              press the use of a post-processor.  It implies -t.\n",
      "\n",
      "   Getting help\n",
      "       -?, --help\n",
      "              Print a help message and exit.\n",
      "\n",
      "       --usage\n",
      "              Print a short usage message and exit.\n",
      "\n",
      "       -V, --version\n",
      "              Display version information.\n",
      "\n",
      "EXIT STATUS\n",
      "       0      Successful program execution.\n",
      "\n",
      "       1      Usage, syntax or configuration file error.\n",
      "\n",
      "       2      Operational error.\n",
      "\n",
      "       3      A child process returned a non-zero exit status.\n",
      "\n",
      "       16     At  least one of the pages/files/keywords didn't exist or wasn't\n",
      "              matched.\n",
      "\n",
      "ENVIRONMENT\n",
      "       MANPATH\n",
      "              If $MANPATH is set, its value is used as the path to search  for\n",
      "              manual pages.\n",
      "\n",
      "       MANROFFOPT\n",
      "              The  contents of $MANROFFOPT are added to the command line every\n",
      "              time man invokes the formatter (nroff, troff, or groff).\n",
      "\n",
      "       MANROFFSEQ\n",
      "              If $MANROFFSEQ is set, its value is used to determine the set of\n",
      "              preprocessors  to  pass  each  manual page through.  The default\n",
      "              preprocessor list is system dependent.\n",
      "\n",
      "       MANSECT\n",
      "              If $MANSECT is set, its value is a colon-delimited list of  sec‐\n",
      "              tions  and  it  is  used  to  determine which manual sections to\n",
      "              search and in what order.  The default is \"1 n l 8  3  2  3posix\n",
      "              3pm 3perl 5 4 9 6 7\", unless overridden by the SECTION directive\n",
      "              in /etc/manpath.config.\n",
      "\n",
      "       MANPAGER, PAGER\n",
      "              If $MANPAGER or $PAGER is set ($MANPAGER is used in preference),\n",
      "              its value is used as the name of the program used to display the\n",
      "              manual page.  By default, pager is used.\n",
      "\n",
      "              The value may be a simple command name or a command  with  argu‐\n",
      "              ments, and may use shell quoting (backslashes, single quotes, or\n",
      "              double quotes).  It may not use pipes to connect  multiple  com‐\n",
      "              mands;  if  you  need that, use a wrapper script, which may take\n",
      "              the file to display either as an argument or on standard input.\n",
      "\n",
      "       MANLESS\n",
      "              If $MANLESS is set, its value will be used as the default prompt\n",
      "              string for the less pager, as if it had been passed using the -r\n",
      "              option (so any occurrences of the text $MAN_PN will be  expanded\n",
      "              in  the  same  way).  For example, if you want to set the prompt\n",
      "              string unconditionally to “my prompt string”,  set  $MANLESS  to\n",
      "              ‘-Psmy prompt string’.  Using the -r option overrides this envi‐\n",
      "              ronment variable.\n",
      "\n",
      "       BROWSER\n",
      "              If $BROWSER is set, its value is a colon-delimited list of  com‐\n",
      "              mands,  each  of  which  in  turn  is used to try to start a web\n",
      "              browser for man --html.  In each command, %s is  replaced  by  a\n"
     ]
    },
    {
     "name": "stdout",
     "output_type": "stream",
     "text": [
      "              filename  containing  the HTML output from groff, %% is replaced\n",
      "              by a single percent sign (%), and %c is replaced by a colon (:).\n",
      "\n",
      "       SYSTEM If $SYSTEM is set, it will have the same effect  as  if  it  had\n",
      "              been specified as the argument to the -m option.\n",
      "\n",
      "       MANOPT If $MANOPT is set, it will be parsed prior to man's command line\n",
      "              and is expected to be in a similar format.  As all of the  other\n",
      "              man  specific  environment variables can be expressed as command\n",
      "              line options, and are thus  candidates  for  being  included  in\n",
      "              $MANOPT  it  is  expected  that they will become obsolete.  N.B.\n",
      "              All spaces that should be interpreted as  part  of  an  option's\n",
      "              argument must be escaped.\n",
      "\n",
      "       MANWIDTH\n",
      "              If  $MANWIDTH  is  set, its value is used as the line length for\n",
      "              which manual pages should be formatted.  If it is not set,  man‐\n",
      "              ual  pages  will  be formatted with a line length appropriate to\n",
      "              the current terminal (using the value of $COLUMNS,  an  ioctl(2)\n",
      "              if  available,  or  falling  back to 80 characters if neither is\n",
      "              available).  Cat pages will only be saved when the default  for‐\n",
      "              matting  can  be  used, that is when the terminal line length is\n",
      "              between 66 and 80 characters.\n",
      "\n",
      "       MAN_KEEP_FORMATTING\n",
      "              Normally, when output is not being directed to a terminal  (such\n",
      "              as  to a file or a pipe), formatting characters are discarded to\n",
      "              make it easier to read the result without special  tools.   How‐\n",
      "              ever,  if  $MAN_KEEP_FORMATTING  is  set to any non-empty value,\n",
      "              these formatting characters are retained.  This  may  be  useful\n",
      "              for  wrappers  around  man that can interpret formatting charac‐\n",
      "              ters.\n",
      "\n",
      "       MAN_KEEP_STDERR\n",
      "              Normally, when output is being directed to a  terminal  (usually\n",
      "              to  a  pager), any error output from the command used to produce\n",
      "              formatted versions of manual pages is discarded to avoid  inter‐\n",
      "              fering  with  the pager's display.  Programs such as groff often\n",
      "              produce relatively  minor  error  messages  about  typographical\n",
      "              problems  such as poor alignment, which are unsightly and gener‐\n",
      "              ally confusing when displayed along with the manual page.   How‐\n",
      "              ever,   some   users   want   to   see   them   anyway,  so,  if\n",
      "              $MAN_KEEP_STDERR is set to any  non-empty  value,  error  output\n",
      "              will be displayed as usual.\n",
      "\n",
      "       LANG, LC_MESSAGES\n",
      "              Depending  on system and implementation, either or both of $LANG\n",
      "              and $LC_MESSAGES will be interrogated for  the  current  message\n",
      "              locale.  man will display its messages in that locale (if avail‐\n",
      "              able).  See setlocale(3) for precise details.\n",
      "\n",
      "FILES\n",
      "       /etc/manpath.config\n",
      "              man-db configuration file.\n",
      "\n",
      "       /usr/share/man\n",
      "              A global manual page hierarchy.\n",
      "\n",
      "       /usr/share/man/index.(bt|db|dir|pag)\n",
      "              A traditional global index database cache.\n",
      "\n",
      "       /var/cache/man/index.(bt|db|dir|pag)\n",
      "              An FHS compliant global index database cache.\n",
      "\n",
      "SEE ALSO\n",
      "       apropos(1),  groff(1),   less(1),   manpath(1),   nroff(1),   troff(1),\n",
      "       whatis(1),  zsoelim(1),  setlocale(3), manpath(5), ascii(7), latin1(7),\n",
      "       man(7), catman(8), mandb(8), the man-db package manual, FSSTND\n",
      "\n",
      "HISTORY\n",
      "       1990, 1991 – Originally written by John W. Eaton (jwe@che.utexas.edu).\n",
      "\n",
      "       Dec 23 1992: Rik Faith (faith@cs.unc.edu) applied bug fixes supplied by\n",
      "       Willem Kasdorp (wkasdo@nikhefk.nikef.nl).\n",
      "\n",
      "       30th April 1994 – 23rd February 2000: Wilf. (G.Wilford@ee.surrey.ac.uk)\n",
      "       has been developing and maintaining this package with the help of a few\n",
      "       dedicated people.\n",
      "\n",
      "       30th   October   1996   –  30th  March  2001:  Fabrizio  Polacco  <fpo‐\n",
      "       lacco@debian.org> maintained and enhanced this package for  the  Debian\n",
      "       project, with the help of all the community.\n",
      "\n",
      "       31st  March  2001  – present day: Colin Watson <cjwatson@debian.org> is\n",
      "       now developing and maintaining man-db.\n",
      "\n",
      "2.7.5                             2015-11-06                            MAN(1)\n"
     ]
    }
   ],
   "source": [
    "man man"
   ]
  },
  {
   "cell_type": "markdown",
   "metadata": {},
   "source": [
    "## 19. whatis (display one-line manual page descriptions)  \n",
    "\n",
    "command တစ်ခုက ဘာလုပ်ဖို့အတွက်သုံးတာလဲ ဆိုတာကို စာကြောင်းတို တစ်ကြောင်းနဲ့ ရှင်းပြထားတာကို ကြည့်ဖို့အတွက်ဆိုရင် whatis ကို သုံးပါတယ်။ တခါတလေ မှာ command တစ်ခုရဲ့ help စာမျက်နှာတွေကို အသေးစိတ် မဖတ်ချင်ဘူး။ ဘာလုပ်တဲ့ command ဆိုတာကိုပဲ confirm လုပ်ချင်တဲ့ အခါမျိုးမှာ အသုံးများပါတယ်။  \n",
    "\n",
    "ဥပမာ ping ဆိုတဲ့ command က ဘာလုပ်တာလဲ ဆိုတာကို သိချင်တဲ့ အခါ\n"
   ]
  },
  {
   "cell_type": "code",
   "execution_count": 19,
   "metadata": {},
   "outputs": [
    {
     "name": "stdout",
     "output_type": "stream",
     "text": [
      "ping (8)             - send ICMP ECHO_REQUEST to network hosts\n"
     ]
    }
   ],
   "source": [
    "whatis ping"
   ]
  },
  {
   "cell_type": "markdown",
   "metadata": {},
   "source": [
    "နောက်ထပ် ဥပမာ တစ်ခုအနေနဲ့ ssh command က ဘာလုပ်ဖို့အတွက်သုံးတာလဲ ဆိုတာကို သိချင်တဲ့ အခါ"
   ]
  },
  {
   "cell_type": "code",
   "execution_count": 20,
   "metadata": {},
   "outputs": [
    {
     "name": "stdout",
     "output_type": "stream",
     "text": [
      "ssh (1)              - OpenSSH SSH client (remote login program)\n"
     ]
    }
   ],
   "source": [
    "whatis ssh"
   ]
  },
  {
   "cell_type": "markdown",
   "metadata": {},
   "source": [
    "ကြည့်တဲ့ command အပေါ်မူတည်ပြီး section တစ်ခုထက်မက ပိုရှိရင်၊ ရှိတဲ့ section အားလုံးကို ပြပေးပါလိမ့်မယ်။    \n",
    "ဥပမာ passwd ကို whatis နဲ့ကြည့်မယ်ဆိုရင်"
   ]
  },
  {
   "cell_type": "code",
   "execution_count": 21,
   "metadata": {},
   "outputs": [
    {
     "name": "stdout",
     "output_type": "stream",
     "text": [
      "passwd (1)           - change user password\n",
      "passwd (1ssl)        - compute password hashes\n",
      "passwd (5)           - the password file\n"
     ]
    }
   ],
   "source": [
    "whatis passwd"
   ]
  },
  {
   "cell_type": "markdown",
   "metadata": {},
   "source": [
    "## 20. info (read Info documents)  \n",
    "\n",
    "info က man လိုမျိုး help (သို့) manual စာမျက်နှာကိုပြပေးတဲ့ နောက်ထပ် command တစ်ခုပါ။  \n",
    "\n",
    "ဘာကြောင့် man နဲ့ info ဆိုပြီးနှစ်မျိုးရှိနေရတာလဲ၊ man နဲ့ info က ဘာကွာသလဲဆိုတာကို အတိုရှင်းပြပါမယ်။ man က Unix လက်ထက်ကတည်းက သုံးခဲ့တဲ့ traditional ပုံစံပါ။ လက်ရှိ ဒီနေ့ခေတ်အထိ command line မှာ help ကြည့်ဖို့အတွက်က အရမ်းကို အသုံးဝင်ပါသေးတယ်။ သို့သော် အထက်မှာ သုံးပြခဲ့တဲ့ အတိုင်း man မှာက section တွေခွဲပြီး ဖိုင်တွေကိုလည်း သပ်သပ်စီခွဲသိမ်းထားပါတယ်။ ဥပမာ passwd ရဲ့ man page section 1 နဲ့ ဆိုင်တဲ့ဖိုင်ကို /usr/share/man/man1/passwd.1.gz မှာ section 5 နဲ့ ဆိုင်တဲ့ဖိုင်ကို /usr/share/man/man5/passwd.5.gz မှာ သိမ်းထားပါတယ်။ အဲဒါကြောင့် အားလုံးကို ပေါင်းပြီး ပရင့်ထုတ်တာမျိုးလုပ်ချင်တယ် ဆိုရင် သိပ်ပြီးတော့ အဆင်မပြေခဲ့ပါ။ \n",
    "\n",
    "၁၉၉၀ လောက်မှာ GNU (ဂနု လို့အသံထွက်တယ်) ပရောဂျက်အဖွဲ့က man တွေကို အစားထိုးဖို့ info ဆိုတာကို စတင် လုပ်ဆောင်ခဲ့ရာက info help documents တွေပေါ်ပေါက်လာတာပါ။ info က markup language ကို သုံးထားပါတယ်။ အဲဒါကြောင့် hyperlink တွေပါရှိပြီး၊ အကြောင်းအရာ တစ်ခုကနေ နောက်အကြောင်းအရာ တစ်ခုစီကို ခုန်ကူးပြီး ကြည့်လို့ရပါတယ်။  \n",
    "\n",
    "အမှန်တကယ်က Linux မှာ help ကြည့်ဖို့အတွက်က man နဲ့ info နှစ်မျိုးထဲမဟုတ်ပါဘူး။ တခြား ပရောဂျက် အကွဲတွေဖြစ်တဲ့ GNOME, KDE တို့မှာလည်း HTML ကို အခြေခံထားတဲ့ help documentation တွေရှိကြပါသေးတယ်။ အဲဒါကြောင့် ကိုယ်သုံးတဲ့ Linux system ပေါ်မူတည်ပြီး help (သို့) manual တွေရဲ့ ပုံစံက ကွဲပြားနိုင်ပါတယ်။  \n",
    "\n",
    "info ကိုသုံးပြီး command တချို့ရဲ့ help screen ကြည့်ပုံကို နမူနာအနေနဲ့ သုံးပြပါမယ်။  \n",
    "ဥပမာ vi text editor ကို info နဲ့ ကြည့်မယ်ဆိုရင်  \n",
    "\n",
    "info vi  \n",
    "\n",
    "vi ရဲ့ options တွေကို သိချင်တယ်ဆိုရင်  \n",
    "\n",
    "info --show-options vi  \n",
    "\n",
    "info ကို ဘာ option မှ မပေးပဲ အောက်ပါအတိုင်းရိုက်ရင်၊ info ကို သုံးထားတဲ့ application အားလုံးကို မာတိကာပုံစံနဲ့ တွေ့ရပါလိမ့်မယ်။  \n"
   ]
  },
  {
   "cell_type": "code",
   "execution_count": null,
   "metadata": {
    "collapsed": true
   },
   "outputs": [],
   "source": [
    "info"
   ]
  },
  {
   "cell_type": "markdown",
   "metadata": {},
   "source": [
    "ဘယ်လို ပုံစံနဲ့ မြင်ရသလဲဆိုတာကို idea ရအောင် screen ရဲ့တစိတ်တပိုင်းကိုပဲ အောက်ပါအတိုင်း ဖော်ပြပါမယ်။\n",
    "\n",
    "<u>\\*base32</u>: (coreutils)base32 invocation.         Base32 encode/decode data.  \n",
    "<u>\\*base64:</u> (coreutils)base64 invocation.         Base64 encode/decode data.  \n",
    "<u>\\*basename:</u> (coreutils)basename invocation.     Strip directory and suffix.  \n",
    "<u>\\*bibtex:</u> (web2c)bibtex invocation.             Maintaining bibliographies.  \n",
    "<u>\\*cat:</u> (coreutils)cat invocation.               Concatenate and write files.  \n",
    "<u>\\*chcon:</u> (coreutils)chcon invocation.           Change SELinux CTX of files.  \n",
    "<u>\\*chgrp:</u> (coreutils)chgrp invocation.           Change file groups.  \n",
    "<u>\\*chmod:</u> (coreutils)chmod invocation.           Change access permissions.  \n",
    "<u>\\*chown:</u> (coreutils)chown invocation.           Change file owners and groups.  \n",
    "<u>\\*chroot:</u> (coreutils)chroot invocation.         Specify the root directory.  \n",
    "<u>\\*cksum:</u> (coreutils)cksum invocation.           Print POSIX CRC checksum.  \n",
    "<u>\\*cmp:</u> (diffutils)Invoking cmp.                 Compare 2 files byte by byte.  \n",
    "<u>\\*comm:</u> (coreutils)comm invocation.             Compare sorted files by line.  \n",
    "<u>\\*cp:</u> (coreutils)cp invocation.                 Copy files.  \n",
    "<u>\\*csplit:</u> (coreutils)csplit invocation.         Split by context.  \n",
    "<u>\\*cut:</u> (coreutils)cut invocation.               Print selected parts of lines.  \n",
    "<u>\\*date:</u> (coreutils)date invocation.             Print/set system date and time.  \n",
    "<u>\\*dd:</u> (coreutils)dd invocation.                 Copy and convert a file.  \n",
    "<u>\\*df:</u> (coreutils)df invocation.                 Report file system disk usage.  \n",
    "<u>\\*diff:</u> (diffutils)Invoking diff.               Compare 2 files line by line.  \n",
    "<u>\\*diff3:</u> (diffutils)Invoking diff3.             Compare 3 files line by line.  \n",
    "<u>\\*dir:</u> (coreutils)dir invocation.               List directories briefly.  \n",
    "<u>\\*dircolors:</u> (coreutils)dircolors invocation.   Color setup for ls.  \n",
    "<u>\\*dirname:</u> (coreutils)dirname invocation.       Strip last file name component.  \n",
    "<u>\\*du:</u> (coreutils)du invocation.                 Report on disk usage.  \n",
    "<u>\\*dvicopy:</u> (web2c)dvicopy invocation.           Virtual font expansion  \n",
    "<u>\\*dvitomp:</u> (web2c)dvitomp invocation.           DVI to MPX (MetaPost pictures).  \n",
    "<u>\\*dvitype:</u> (web2c)dvitype invocation.           DVI to human-readable text.  \n",
    "<u>\\*echo:</u> (coreutils)echo invocation.             Print a line of text.  \n",
    "<u>\\*env:</u> (coreutils)env invocation.               Modify the environment.  \n",
    "<u>\\*expand:</u> (coreutils)expand invocation.         Convert tabs to spaces.  \n",
    "<u>\\*expr:</u> (coreutils)expr invocation.             Evaluate expressions.  \n",
    "<u>\\*factor:</u> (coreutils)factor invocation.         Print prime factors  "
   ]
  },
  {
   "cell_type": "markdown",
   "metadata": {},
   "source": [
    "## 21.  Escape Sequences  \n",
    "\n",
    "Escape sequence (backslash escape character လို့လည်းခေါ်) က ပရိုဂရမ်မင်းဘာသာစကားတွေဖြစ်တဲ့ C, Java, Perl တို့မှာသုံးသလိုပါပဲ။ Escaping လုပ်ချင်တဲ့ စာလုံးကို \"\\\" (backslash) ခံပြီးရိုက်ပါတယ်။ bash က \"\\\" နောက်က စာလုံးကို interpret လုပ်တဲ့အခါမှာ သတ်မှတ်ထားတဲ့ escape sequence တွေအတိုင်း အလုပ်လုပ်ပေးပါတယ်။  \n",
    "\n",
    "Bash shell မှာသုံးတဲ့ escape sequences တွေက အများကြီးရှိပါတယ်။ အဲဒီအထဲက အသုံးများတဲ့ escape sequence တချို့နဲ့ သူတို့ရဲ့ အလုပ်လုပ်ပုံကတော့ အောက်ပါဇယားအတိုင်း ဖြစ်ပါတယ်။  \n",
    "\n",
    "| <p align=\"left\"> Escape sequence | <p align=\"left\"> အလုပ်လုပ်ပုံ |\n",
    "| --- | --- |\n",
    "| <p align=\"left\"> \\a | <p align=\"left\"> သတိပေးချင်တဲ့ အခါ၊ စပီကာကနေ bell အသံပေးချင်တဲ့အခါ သုံးတယ်။ ASCII bell character လို့လည်းခေါ်တယ်။ |\n",
    "| <p align=\"left\"> \\b | <p align=\"left\"> Backspace ကီးကို ရိုက်ချင်တဲ့အခါ သုံးတယ်။ |\n",
    "| <p align=\"left\"> \\c | <p align=\"left\"> သူ့နောက်က စာလုံးတွေကို ရိုက်မပေးတော့ဘူး။ နောက်ပြီး စာကြောင်းအသစ်တစ်ကြောင်းအနေနဲ့လည်း ခွဲမပေးပါဘူး|\n",
    "| <p align=\"left\"> \\f | <p align=\"left\"> form feed (စာမျက်နှာ အသစ်ခွဲ) အလုပ်ကို လုပ်ပေးတယ်။ |\n",
    "| <p align=\"left\"> \\n | <p align=\"left\"> လက်ရှိ ရောက်ရှိနေတဲ့နေရာကနေ စာကြောင်းအသစ်ရဲ့ ဘယ်ဘက် အကျဆုံးနေရာကို ရွှေ့ပေးလိမ့်မယ်။ |\n",
    "| <p align=\"left\"> \\r | <p align=\"left\"> Carriage return သင်္ကေတပါ။ လက်ရှိစာကြောင်းရဲ့ ဘယ်ဘက်ထိပ်ဆုံး နေရာကို ရွှေ့ချင်တဲ့အခါ အသုံးပြုတယ်။ |\n",
    "| <p align=\"left\"> \\t | <p align=\"left\"> Horizontal Tab ကီးကို ရိုက်ဖို့အတွက် သုံးတယ်။ |\n",
    "| <p align=\"left\"> \\v | <p align=\"left\"> Vertical Tab ကီးကို ရိုက်ဖို့အတွက် သုံးတယ်။ |\n",
    "| <p align=\"left\"> \\\\&zwnj;[ | <p align=\"left\"> စကရင်မှာ ရိုက်ပြဖို့မဟုတ်ပဲ၊ တစ်ခြား အလုပ်လုပ်ဖို့ သတ်မှတ်ထားသောစာလုံး (non-printing character) တွေရဲ့ ကွင်းစ |\n",
    "| <p align=\"left\"> \\\\&zwnj;] | <p align=\"left\"> စကရင်မှာ ရိုက်ပြဖို့မဟုတ်ပဲ၊ တစ်ခြား အလုပ်လုပ်ဖို့ သတ်မှတ်ထားသောစာလုံး (non-printing character) တွေရဲ့ ကွင်းပိတ် |\n",
    "| <p align=\"left\"> \\\\' | <p align=\"left\"> single quote ကို ရိုက်ဖို့အတွက်သုံးတယ်။ |\n",
    "| <p align=\"left\"> \\\\\" | <p align=\"left\"> double quote ကို ရိုက်ဖို့အတွက်သုံးတယ်။ |\n",
    "| <p align=\"left\"> \\\\nnn | <p align=\"left\"> eight-bit စာလုံးတွေကို　octal value နဲ့ ရိုက်ဖို့အတွက်သုံးတယ်။  |\n",
    "| <p align=\"left\"> \\\\xHH | <p align=\"left\"> eight-bit စာလုံးတွေကို hexadecimal value နဲ့ ရိုက်ဖို့အတွက်သုံးတယ်။  |\n",
    "| <p align=\"left\"> \\uHHHH | <p align=\"left\"> Unicode (ISO/IEC 10646) စာလုံးတွေကို hexadecimal value နဲ့ ရိုက်ဖို့သုံးပါတယ်။ (hexadecimal ဂဏန်း 4 လုံးအထိ) |\n",
    "| <p align=\"left\"> \\UHHHHHHHH | <p align=\"left\"> Unicode (ISO/IEC 10646) စာလုံးတွေကို hexadecimal value နဲ့ ရိုက်ဖို့သုံးပါတယ်။ (hexadecimal ဂဏန်း ၈ လုံးအထိ) |\n",
    "| <p align=\"left\"> \\cx | <p align=\"left\"> control ကီးနဲ့ တခြားကီးတစ်ခုခုကို တွဲရိုက်ဖို့ (control-x) အတွက် သုံးပါတယ်။ |\n",
    "\n",
    "bash command တွေနဲ့ escape sequence သုံးပုံတချို့ကို ဥပမာပေးပါမယ်။  \n",
    "\n",
    "က၊ ခ၊ ဂ ရဲ့ Unicode code နံပါတ်တွေက u1000, u1001 နဲ့ u1002 အသီးသီး ဖြစ်ကြပါတယ်။  \n",
    "echo command နဲ့ က ခ ဂ ကို ရိုက်ပြချင်တဲ့အခါ၊ အောက်ပါအတိုင်း escape sequence \\u ကိုသုံးပြီး ရိုက်ခိုင်းလို့ ရပါတယ်။  "
   ]
  },
  {
   "cell_type": "code",
   "execution_count": 1,
   "metadata": {},
   "outputs": [
    {
     "name": "stdout",
     "output_type": "stream",
     "text": [
      "က ခ ဂ\n"
     ]
    }
   ],
   "source": [
    "echo -e \"\\u1000 \\u1001 \\u1002\""
   ]
  },
  {
   "cell_type": "markdown",
   "metadata": {},
   "source": [
    "jupyter notebook ရဲ့ bash kernel က တစ်ခါတလေမှာ မြန်မာစာလုံးတွေကို သေသေချာချာမပြပေးနိုင်လို့ အောက်ပါ screen capture လုပ်ထားတဲ့ ပုံကို ပါထည့်ပေးထားပါတယ်။    "
   ]
  },
  {
   "cell_type": "markdown",
   "metadata": {},
   "source": [
    "<img src=\"./screen/KaKhaGa-output.png\" alt=\"Ka Kha Ga picture\">"
   ]
  },
  {
   "cell_type": "markdown",
   "metadata": {},
   "source": [
    "ဒီနေရာ မှာ သိထားရမှာက echo command ရဲ့ -e option ကိုပါတွဲသုံးရတယ်ဆိုရတာကိုပါ။  \n",
    "-e option မပါရင် စာလုံးတွေကို ဒီအတိုင်းပဲ ပြန်ရိုက်ပေး (literally print) လုပ်ပေးပါလိမ့်မယ်။  "
   ]
  },
  {
   "cell_type": "code",
   "execution_count": 1,
   "metadata": {},
   "outputs": [
    {
     "name": "stdout",
     "output_type": "stream",
     "text": [
      "\\u1000 \\u1001 \\u1002\n"
     ]
    }
   ],
   "source": [
    "echo \"\\u1000 \\u1001 \\u1002\""
   ]
  },
  {
   "cell_type": "markdown",
   "metadata": {},
   "source": [
    "ကွန်ပျူတာရဲ့ စပီကာကနေ သတိပေးတဲ့အနေနဲ့ bell အသံထုတ်ပေးချင်တဲ့အခါ၊ အထက်ပါ ဇယားမှာ ရှင်းပြခဲ့တဲ့ အတိုင်း \"\\a\" escape sequence ကိုသုံးပြီး လုပ်ခိုင်းလို့ရပါတယ်။  "
   ]
  },
  {
   "cell_type": "code",
   "execution_count": 2,
   "metadata": {},
   "outputs": [
    {
     "name": "stdout",
     "output_type": "stream",
     "text": [
      "\u0007 \u0007 \u0007\n"
     ]
    }
   ],
   "source": [
    "echo -e \"\\a \\a \\a\""
   ]
  },
  {
   "cell_type": "markdown",
   "metadata": {},
   "source": [
    "ဒီနေရာမှာ တယ်လီဖုန်းပုံ (သို့) လေးထောင့်ကွက်အနေနဲ့ ရိုက်ပြတာက၊ jupyter notebook ကိုသုံးထားလို့၊ output ကိုမြင်သာအောင် ပုံအနေနဲ့ jupyter notebook ကထုတ်ပေးတာ သာဖြစ်ပါတယ်။ တကယ်တမ်း linux ရဲ့ bash shell မှာ run ရင် မြင်ရမှာ မဟုတ်ပါဘူး။  \n",
    "\n",
    "အသုံးများတဲ့ escape sequence တွေက သိထားသင့်ပါတယ်။ တကယ်တမ်းက escape sequence တွေကို စကရင်မှာ ရိုက်ထုတ်တဲ့ ကိစ္စတင် မကပဲ၊ ဖိုင်ထဲကစာသားတွေ၊ user ကရိုက်ထည့်လိုက်လို့ ဝင်လာတဲ့ စာသားတွေမှာ ရှာဖွေတဲ့ ကိစ္စ၊ ဝင်ပြင်တဲ့ ကိစ္စတွေမှာလည်း သုံးနိုင်ပါတယ်။  \n",
    "\n",
    "အောက်ပါ ဥပမာက နဂို fileA မှာရှိတဲ့ space နေရာတွေမှာ \\t ကိုသုံးပြီး အစားထိုးတာပါ။  \n",
    "fileA မှာဘာစာကြောင်းတွေရှိသလဲ ဆိုတာကို cat နဲ့ ရိုက်ထုတ်ကြည့်မယ်။  "
   ]
  },
  {
   "cell_type": "code",
   "execution_count": 3,
   "metadata": {},
   "outputs": [
    {
     "name": "stdout",
     "output_type": "stream",
     "text": [
      "Mingalar bar!\n",
      "I am fileA.\n",
      "I was born in April.\n",
      "My blood type is O.\n"
     ]
    }
   ],
   "source": [
    "cat fileA"
   ]
  },
  {
   "cell_type": "markdown",
   "metadata": {},
   "source": [
    "space (\\s) ကို tab (\\t) နဲ့ အစားထိုးတာကို sed command နဲ့ လုပ်ကြည့်မယ်။  "
   ]
  },
  {
   "cell_type": "code",
   "execution_count": 4,
   "metadata": {},
   "outputs": [
    {
     "name": "stdout",
     "output_type": "stream",
     "text": [
      "Mingalar\tbar!\n",
      "I\tam\tfileA.\n",
      "I\twas\tborn\tin\tApril.\n",
      "My\tblood\ttype\tis\tO.\n"
     ]
    }
   ],
   "source": [
    "cat ./fileA | sed 's/\\s/\\t/g' "
   ]
  },
  {
   "cell_type": "markdown",
   "metadata": {},
   "source": [
    "ဒီနေရာမှာ s/\\s/\\t/g က Regular Expression ပါ။   \n",
    "ပထမဆုံး \"s\" က စာလုံးတွေ၊ စာကြောင်းတွေကို အစားထိုးချင်တဲ့အခါ သုံးတဲ့ \"substitute လုပ်ပေးပါ\" ဆိုတဲ့ အဓိပ္ပါယ်ပါ။  \n",
    "\"\\s\" က space ကို ဆိုလိုပါတယ်။  \"\\t\" က tab ကိုဆိုလိုပါတယ်။\n",
    "နောက်ဆုံးက \"g\" ကတော့ global အနေနဲ့ အလုပ်လုပ်ပေးပါလို့ ဆိုလိုပါတယ်။  \"g\" ကို နောက်ဆုံးမှာ မထည့်ရင် စာကြောင်းတစ်ကြောင်းမှာ ပထမဆုံးတွေ့တဲ့ space ကိုပဲ tab နဲ့ အစားထိုးပေးပါလိမ့်မယ်။  \n",
    "\n",
    "အောက်ပါ ဥပမာက \"g\" မပါပဲ run တဲ့ အခါတွေ့ရမဲ့ output ပါ။  "
   ]
  },
  {
   "cell_type": "code",
   "execution_count": 5,
   "metadata": {},
   "outputs": [
    {
     "name": "stdout",
     "output_type": "stream",
     "text": [
      "Mingalar\tbar!\n",
      "I\tam fileA.\n",
      "I\twas born in April.\n",
      "My\tblood type is O.\n"
     ]
    }
   ],
   "source": [
    "cat ./fileA | sed 's/\\s/\\t/' "
   ]
  },
  {
   "cell_type": "markdown",
   "metadata": {},
   "source": [
    "sed command ရဲ့ သုံးပုံသုံးနည်းနဲ့ Regular Expression ရဲ့သုံးပုံသုံးနည်းကို နောက်ပိုင်းမှာ ထပ်ရှင်းပြပါမယ်။  "
   ]
  },
  {
   "cell_type": "markdown",
   "metadata": {},
   "source": [
    "## 22. echo (display a line of text)\n",
    "\n",
    "echo က စာကြောင်းကို မော်နီတာ စကရင်မှာ ရိုက်ပေးတဲ့ command ပါ။  \n",
    "Operating System (OS) တိုင်းလိုလိုမှာ အခြေခံကျတဲ့　command တစ်ခုအနေနဲ့ ပါဝင်ပြီး၊　ပရိုဂရမ်မင်း　ဘာသာစကားတွေမှာပါတဲ့　print, printf, cout, writeln, puts တို့နဲ့　တူပါတယ်။　　\n",
    "\n",
    "echo command ရဲ့ syntax ကတော့ အောက်ပါအတိုင်းဖြစ်ပါတယ်။  \n",
    "echo \\[option(s)\\] \\[string(s)\\]  \n",
    "\n",
    "အသုံးပြုပုံ　ဥပမာတချို့ကတော့　အောက်ပါအတိုင်း　ဖြစ်ပါတယ်။"
   ]
  },
  {
   "cell_type": "code",
   "execution_count": 1,
   "metadata": {},
   "outputs": [
    {
     "name": "stdout",
     "output_type": "stream",
     "text": [
      "Hello Alien!\n"
     ]
    }
   ],
   "source": [
    "echo Hello Alien!"
   ]
  },
  {
   "cell_type": "code",
   "execution_count": 7,
   "metadata": {},
   "outputs": [
    {
     "name": "stdout",
     "output_type": "stream",
     "text": [
      "X is 88 and Y is 91.\n"
     ]
    }
   ],
   "source": [
    "X=88; Y=91;\n",
    "echo X is $X and Y is $Y."
   ]
  },
  {
   "cell_type": "code",
   "execution_count": 8,
   "metadata": {},
   "outputs": [
    {
     "name": "stdout",
     "output_type": "stream",
     "text": [
      "Who\n",
      "are\n",
      "you\n",
      "?\n"
     ]
    }
   ],
   "source": [
    "echo -e \"Who\\nare\\nyou\\n?\""
   ]
  },
  {
   "cell_type": "markdown",
   "metadata": {},
   "source": [
    "Escape sequences တွေကိုပါ စာရိုက်ခိုင်းတဲ့အခါမှာသုံးချင်ရင် အထက်မှာ ပြထားတဲ့ အတိုင်း \"-e\" option ကို သုံးရပါတယ်။  \n",
    "နောက်ထပ် ဥပမာ တစ်ခုထပ်ပေးရင်၊ \"\\t\" က TAB ကီးကို ကိုယ်စားပြုပါတယ်။  "
   ]
  },
  {
   "cell_type": "code",
   "execution_count": 9,
   "metadata": {},
   "outputs": [
    {
     "name": "stdout",
     "output_type": "stream",
     "text": [
      "Who\tare\tyou\t?\n"
     ]
    }
   ],
   "source": [
    "echo -e \"Who\\tare\\tyou\\t?\""
   ]
  },
  {
   "cell_type": "code",
   "execution_count": 10,
   "metadata": {},
   "outputs": [
    {
     "name": "stdout",
     "output_type": "stream",
     "text": [
      "I am a \\ (backslash).\n",
      "Nice to see you!\n"
     ]
    }
   ],
   "source": [
    "echo -e \"I am a \\\\ (backslash).\\nNice to see you!\""
   ]
  },
  {
   "cell_type": "markdown",
   "metadata": {},
   "source": [
    "တကယ်လို့ ကျွန်တော်တို့ echo နဲ့ရိုက်ခိုင်းမဲ့ စာကြောင်းက ရှည်နေလို့ မော်နီတာစကရင်မှာ ကြည့်ရတာအဆင်ပြေအောင် နောက်လိုင်းတကြောင်းဆင်းပြီးတော့ ရိုက်ပြပေးစေချင်ရင် \"\\\" (backslash) ရိုက်ပြီး enter ကီးနှိပ်ရင် နောက်တကြောင်းကို ဆင်းပေးပါလိမ့်မယ်။   \n",
    "\n",
    "ဒီနေရာမှာ သတိထားရမှာက \"\\\" နောက်မှာ space ကီး စတဲ့ တခြားစာလုံးတွေကို မရိုက်မိစေပဲ၊ \"\\\" ကိုရိုက်ပြီးတာနဲ့ enter ကီးကို ခေါက်ပေးဖို့လိုအပ်ပါတယ်။"
   ]
  },
  {
   "cell_type": "code",
   "execution_count": 11,
   "metadata": {},
   "outputs": [
    {
     "name": "stdout",
     "output_type": "stream",
     "text": [
      "This is, this is, this is, this is, this is, this is on two lines\n"
     ]
    }
   ],
   "source": [
    "echo \"This is, this is, this is, this is, this is, this is \\\n",
    "on two lines\""
   ]
  },
  {
   "cell_type": "markdown",
   "metadata": {},
   "source": [
    "shell (သို့) command prompt မှာ \"\\`\" (backtick) ကို သုံးပြီး command တစ်ခုကို run ခိုင်းပြီးတော့ ရလာတဲ့ ရလဒ် (output) ကို ယူသုံးလို့ရပါတယ်။ ကိုယ်က run စေချင်တဲ့ command နဲ့ သူနဲ့ ဆိုင်တဲ့ option, parameter စတာတွေကို backtick နှစ်ခုကြားမှာ ထည့်ပြီး run ခိုင်းတဲ့ ပုံစံပါ။  \n",
    "\n",
    "shell က main command ကို execute မလုပ်ခင်မှာ backtick နှစ်ခုအတွင်းမှာရှိတဲ့ command ကို အရင်ဆုံး evaluate လုပ်တယ်။ ပြီးတော့မှ ရလာတဲ့ ရလဒ်ကို main command ရဲ့ အစိတ်အပိုင်းတခုအဖြစ် ရိုက်ထုတ်ပြီး၊ main command ကို run ပါတယ်။    \n",
    "\n",
    "အောက်ပါ ဥပမာက backtick နှစ်ခုကြားမှာ ရှိတဲ့ \"date\" command ကို အရင် run ပြီးမှ ရလာတဲ့ ရက်စွဲကို echo က ရိုက်ထုတ်ပြတာကို လုပ်ပြတာပါ။  "
   ]
  },
  {
   "cell_type": "code",
   "execution_count": 12,
   "metadata": {},
   "outputs": [
    {
     "name": "stdout",
     "output_type": "stream",
     "text": [
      "the date is 2017年 9月 2日 土曜日 08:39:28 JST\n"
     ]
    }
   ],
   "source": [
    " echo the date is `date`"
   ]
  },
  {
   "cell_type": "markdown",
   "metadata": {},
   "source": [
    "backtick ကို မသုံးပဲ $(command) ဆိုတဲ့ ပုံစံလည်းရှိပါတယ်။  \n",
    "အောက်ပါ command ကို run ကြည့်ရင် backtick ကို သုံးခဲ့သလိုပဲ အတူတူ အလုပ်လုပ်ပေးတာကို တွေ့ရပါလိမ့်မယ်။  "
   ]
  },
  {
   "cell_type": "code",
   "execution_count": 13,
   "metadata": {},
   "outputs": [
    {
     "name": "stdout",
     "output_type": "stream",
     "text": [
      "the date is 2017年 9月 2日 土曜日 08:39:29 JST\n"
     ]
    }
   ],
   "source": [
    "echo the date is $(date)"
   ]
  },
  {
   "cell_type": "markdown",
   "metadata": {},
   "source": [
    "echo command ကို video text terminal တွေရဲ့ format, color, cursor movement စတာတွေအတွက် သတ်မှတ်ထားတဲ့ ANSI (American National Standard Institute) escape code တွေနဲ့ စာကြောင်းထဲမှာ တွဲသုံးပြီးတော့ ရိုက်ပေးမဲ့ စာလုံးတွေရဲ့ အရောင်၊ နောက်ခံအရောင်တွေကိုလည်း ပြောင်းလို့ရပါတယ်။   "
   ]
  },
  {
   "cell_type": "code",
   "execution_count": 14,
   "metadata": {},
   "outputs": [
    {
     "name": "stdout",
     "output_type": "stream",
     "text": [
      "\u001b[32;1m Now GREEN text! \u001b[0m Right? \n"
     ]
    }
   ],
   "source": [
    "echo -e \"\\u001b[32;1m Now GREEN text! \\u001b[0m Right? \""
   ]
  },
  {
   "cell_type": "code",
   "execution_count": 15,
   "metadata": {},
   "outputs": [
    {
     "name": "stdout",
     "output_type": "stream",
     "text": [
      "\u001b[44;1m Nyein \u001b[41;1m Aye \u001b[47;1m Thu \u001b[42;1m is \u001b[46;1m a \u001b[43;2m girl.\u001b[0m \n"
     ]
    }
   ],
   "source": [
    "echo -e \"\\u001b[44;1m Nyein \\u001b[41;1m Aye \\u001b[47;1m Thu \\u001b[42;1m is \\u001b[46;1m a \\u001b[43;2m girl.\\u001b[0m \""
   ]
  },
  {
   "cell_type": "markdown",
   "metadata": {},
   "source": [
    "အထက်မှာ သုံးပြခဲ့တဲ့ echo command တွေမှာ ပါတဲ့ \\u001b ဆိုတာက Escape အတွက် သတ်မှတ်ထားတဲ့ Unicode Code နံပါတ်ဖြစ်ပါတယ်။  \n",
    "Unicode နံပါတ်တွေကို အမျိုးမျိုး သုံးပြီး echo နဲ့ terminal မှာ ရိုက်ပြလို့ရပါတယ်။  \n",
    "\n",
    "မြန်မာဗျည်း ကကြီးကို echo command နဲ့ unicode escape sequence \\u1000 ကို သုံးပြီး terminal မှာ ရိုက်ကြည့်ရအောင်။  "
   ]
  },
  {
   "cell_type": "code",
   "execution_count": 16,
   "metadata": {},
   "outputs": [
    {
     "name": "stdout",
     "output_type": "stream",
     "text": [
      "Unicode number U+1000 is \"က\" (a Myanmar consonant Ka Gyi).\n"
     ]
    }
   ],
   "source": [
    "echo -e \"Unicode number U+1000 is \\\"\\U1000\\\" (a Myanmar consonant Ka Gyi).\""
   ]
  },
  {
   "cell_type": "markdown",
   "metadata": {},
   "source": [
    "Jupyter notebook ရဲ့ bash command output အနေနဲ့ မပြပေးနိုင်လို့ ပုံအနေနဲ့ ထည့်ပေးထားတာပါ။ terminal မှာ run ကြည့်ရင်အောက်ပါအတိုင်း မြင်ရပါလိမ့်မယ်။  "
   ]
  },
  {
   "cell_type": "markdown",
   "metadata": {},
   "source": [
    "<img src=\"./screen/echo-kagyi.png\" alt=\"echo-kagyi picture\">"
   ]
  },
  {
   "cell_type": "markdown",
   "metadata": {},
   "source": [
    "Bayes' theorem ကို linux terminal မှာ အောက်ပါအတိုင်း echo command နဲ့ Unicode နံပါတ်တချို့ကို သုံးပြီး ရိုက်ကြည့်ပါ။  \n",
    "echo -e \"\\u2119(A\\u007CB)=(\\u2119(B\\u007CA)\\u2119(A))\\u2215\\u2119(B)\"  \n",
    "ဒီနေရာမှာ \\u2119 က Probability mesure \"P\" ရဲ့ unicode ပါ။  \n",
    "\\u007C က conditional probability \"|\" သင်္ကေတရဲ့ unicode နံပါတ်ပါ။  \n",
    "အောက်ပါအတိုင်းမြင်ရပါလိမ့်မယ်။ "
   ]
  },
  {
   "cell_type": "markdown",
   "metadata": {},
   "source": [
    "<img src=\"./screen/bayesian-formula.png\" alt=\"Bayesian Formula\">"
   ]
  },
  {
   "cell_type": "markdown",
   "metadata": {},
   "source": [
    "ဒီနေရာကနေစပြီး linux command တွေကို သုံးတဲ့ နေရာမှာတင်မက၊ programmering လုပ်တဲ့အခါ၊ networking အလုပ်တွေ လုပ်တဲ့ အခါ၊ နေရာတိုင်းမှာ ပုံစံအမျိုးမျိုးနဲ့သုံးကြတဲ့ wild card, brace expansion, redirection, regular expression (RE) တွေကို concept ရအောင်၊ အကြမ်းမျဉ်းရှင်းပြပါမယ်။  "
   ]
  },
  {
   "cell_type": "markdown",
   "metadata": {},
   "source": [
    "## 23. Wildcard (\\*?) and Brace Expansion [...], {...}  \n",
    "\n",
    "Linux/Unix မှာ ဖိုင်တွေအမြောက်အမြားနဲ့ အလုပ်လုပ်နိုင်ဖို့အတွက် wild card နဲ့ brace expansion ဆိုတာကို သုံးပါတယ်။\n",
    "\n",
    "### Wildcard\n",
    "\n",
    "   * Question Mark Wildcard (\"?\") က စာလုံး တစ်လုံးကို ကိုယ်စားပြုပါတယ်။ ဖိုင်စနစ်က အသိအမှတ်ပြုထားတဲ့ ကြိုက်တဲ့ စာလုံးဖြစ်လို့ရပါတယ်။  \n",
    "   \n",
    "   \n",
    "   * Star wildcard (\"\\*\") က စာလုံး အရေအတွက် သုည ကနေ အရေအတွက် အကန့်အသတ်မရှိတဲ့အထိ ကိုယ်စားပြုပါတယ်။  \n",
    "   ကြိုက်တဲ့ စာလုံးဖြစ်လို့ ရပါတယ်။  \n",
    "    တနည်းအားဖြင့် \"\\*\" က တခြား wildcard တွေအားလုံးကိုပါ ကိုယ်စားပြုတယ်လို့ ပြောလို့ရပါတယ်။  \n",
    "    \n",
    "   \n",
    "### Brace Expansion\n",
    "\n",
    " * Brace expansion [...] က လေးထောင့်ကွင်း အဖွင့် \"[\" သင်္ကေတ နဲ့ အပိတ်ဖြစ်တဲ့ \"]\" သင်္ကေတ နှစ်ခုအကြားမှာ ရှာဖွေချင်တဲ့ စာလုံးအတွဲလိုက်၊ ဘယ်စာလုံးကနေ ဘယ်စာလုံးအထိ ဆိုတာမျိုး ကို သတ်မှတ်ပြီး ရှာခိုင်းလို့ရပါတယ်။ ဘယ်စာလုံးကနေ ဘယ်စာလုံးရဲ့ အတွင်းမှာ ဆိုတာကိုတော့ \"-\" dash စာလုံးနဲ့ ပိုင်းခြားပေးရပါတယ်။ ဥပမာ [a-z] ဆိုတာက a ကနေ z အတွင်းမှာရှိတဲ့ အင်္ဂလိပ်စာလုံး တစ်လုံးလို့ ဆိုလိုတာပါ။ စာလုံးတွဲတွေကို တခုထက်မက လေးထောင့်ကွင်းအတွင်းမှာ ထည့်ပြီး ညွှန်းလို့ရပါတယ်။ ဥပမာ [A-Da-d0-5] ဆိုတာက [ABCDabcd012345] နဲ့ သွားညီပါလိမ့်မယ်။ ဒါအပြင် လေးထောင့်ကွင်း အဖွင့် \"[\" နဲ့ အပိတ်ဖြစ်တဲ့ \"]\" အကြားမှာ ဒီစာလုံး (သို့) ဒီစာလုံး ကို ရှာဖွေပေးပါဆိုတဲ့ ပုံစံမျိုးလဲ သုံးနိုင်ပါတယ်။  ဥပမာ [137] ဆိုတဲ့ brace expansion က အင်္ဂလိပ်နံပါတ် 1 (သို့) 3 (သို့) 7 တစ်ခုခု လို့ ညွှန်းတာဖြစ်ပါတယ်။\n",
    "   \n",
    "   \n",
    " * Brace expansion {...} က တွန့်ကွင်း အဖွင့် \"{\" သင်္ကေတနဲ့ အပိတ်သင်္ကေတ \"}\" နှစ်ခုအကြားမှာ ပေးလိုက်တဲ့ သတ်မှတ်ချက်ကို အခြေခံပြီး၊ စာလုံးတွေကို command line (သို့) shell script ရဲ့အတွင်းမှာ ထုတ်လုပ်ပေးနိုင်၊ အင်္ဂလိပ်လိုဆိုရင် generate လုပ်ပေးနိုင်ပါတယ်။ တကယ်တမ်း အသုံးပြုတဲ့အခါမှာ brace expansion ရဲ့ ရှေ့မှာရှိတဲ့ စာလုံး (prefix) နဲ့ brace expansion ရဲ့ နောက်မှာရှိတဲ့ စာလုံး (suffix) တွေနဲ့ ပေါင်းစပ်ပြီး ရိုက်ထုတ်ပေးလို့ အရမ်းအသုံးဝင်ပါတယ်။ ဘယ်စာလုံးကနေ ဘယ်စာလုံးအထိ ဆိုတာကို \"..\" နဲ့ ရေးပါတယ်။ ဥပမာ {0..5} လို့ရေးရင် 0 1 2 3 4 5 ဆိုပြီး generate လုပ်ပေးပါလိမ့်မယ်။ တကယ်လို့ A{0..3}B လို့ရေးရင် A0B, A1B, A2B နဲ့ A3B ကို generate လုပ်ပေးပါလိမ့်မယ်။ ဘယ်စာလုံးကနေ ဘယ်စာလုံးအထိ ဆိုတာမျိုး မဟုတ်ပဲ၊ စာလုံး တစ်လုံးချင်းစီ သပ်သပ် ဆိုရင်တော့ ကော်မာ \",\" နဲ့ ခြားပြီး ပေးပါတယ်။ ဥပမာ {dog, flower, wine} လို့ရေးပါတယ်။\n",
    "\n",
    " တစ်ခု သိထားရမှာက လေးထောင့်ကွင်း၊ တွန့်ကွင်းတွေရဲ့ အတွင်းမှာ \"?\" နဲ့ \"\\*\" wildcard တွေကို ထည့်သုံးလို့　မရပါ။ bash shell က interpret လုပ်ပေးနိုင်မှာ မဟုတ်ပါဘူး။  \n",
    "\n",
    "အထက်ပါရှင်းပြခဲ့တဲ့ wildcard တွေကို အောက်ပါအတိုင်း terminal မှာ စမ်းရိုက်ကြည့်ပါ။  "
   ]
  },
  {
   "cell_type": "markdown",
   "metadata": {},
   "source": [
    "wildcard တွေကို မသုံးခင်၊ အရင်ဆုံး လက်ရှိရောက်နေတဲ့ path မှာရှိတဲ့ ဖိုင်တွေကို list လုပ်ကြည့်ရအောင်။  "
   ]
  },
  {
   "cell_type": "code",
   "execution_count": 17,
   "metadata": {},
   "outputs": [
    {
     "name": "stdout",
     "output_type": "stream",
     "text": [
      "\u001b[0m\u001b[01;35mall-vi-info.jpg\u001b[0m  \u001b[01;35mfileA.jpg\u001b[0m           linux-commands.ipynb      otest\n",
      "all-vi-info.txt  fileB               linux-commands.ipynb.bak  otest.tag\n",
      "binary.gv        fmt.out             linux-commands.log        otest.word\n",
      "city             \u001b[01;34mfolderA\u001b[0m             linux-commands.out        process.gv\n",
      "ctest2           \u001b[01;34mfolder-athit\u001b[0m        linux-commands.pdf        process.pdf\n",
      "ctest2.tag       \u001b[01;34mfolderB\u001b[0m             linux-commands.tex        \u001b[01;35mprocess.png\u001b[0m\n",
      "ctest2.word      \u001b[01;34mfolder-new\u001b[0m          ls.out                    \u001b[01;35mrandom.jpg\u001b[0m\n",
      "\u001b[01;34mdata1\u001b[0m            \u001b[01;35mfruit.jpg\u001b[0m           \u001b[01;32mmk-wordtag.pl\u001b[0m             random.txt\n",
      "\u001b[01;34mdata2\u001b[0m            \u001b[01;35mfruit-orange.jpg\u001b[0m    \u001b[01;35mmyanmar-food.jpg\u001b[0m          \u001b[01;34mscreen\u001b[0m\n",
      "\u001b[01;34mdata3\u001b[0m            fruit-orange.txt    myanmar-food.txt          sed.check\n",
      "\u001b[01;34mdata4\u001b[0m            fruit.txt           myanmar-food.txt.bak      sorted-names\n",
      "\u001b[01;34mdata5\u001b[0m            hash.gv             my-news                   tmp\n",
      "echo             \u001b[01;35mhash.png\u001b[0m            newfile                   \u001b[01;32mtxt2jpg.sh\u001b[0m\n",
      "empty-file.txt   item-list           news                      \u001b[01;34mwildcard\u001b[0m\n",
      "fileA            linux-commands.aux  numbers.txt\n"
     ]
    }
   ],
   "source": [
    "ls"
   ]
  },
  {
   "cell_type": "markdown",
   "metadata": {},
   "source": [
    "Wild card \"?\" ကို စသုံးကြည့်မယ်။  "
   ]
  },
  {
   "cell_type": "code",
   "execution_count": 18,
   "metadata": {},
   "outputs": [
    {
     "name": "stdout",
     "output_type": "stream",
     "text": [
      "fileA  fileB\n"
     ]
    }
   ],
   "source": [
    "ls file?"
   ]
  },
  {
   "cell_type": "markdown",
   "metadata": {},
   "source": [
    "နောက်ပုံစံတစ်မျိုး သုံးကြည့်မယ်။  "
   ]
  },
  {
   "cell_type": "code",
   "execution_count": 19,
   "metadata": {},
   "outputs": [
    {
     "name": "stdout",
     "output_type": "stream",
     "text": [
      "city  echo  news\n"
     ]
    }
   ],
   "source": [
    "ls ????"
   ]
  },
  {
   "cell_type": "markdown",
   "metadata": {},
   "source": [
    "? လေးခုပေးခဲ့တာဖြစ်လို့ စာလုံးလေးလုံးရှိတဲ့ ဖိုင်နာမည် news ကို ရိုက်ထုတ်ပြပါတယ်။ "
   ]
  },
  {
   "cell_type": "markdown",
   "metadata": {},
   "source": [
    "Wild card \"\\*\" ကို သုံးကြည့်ရအောင်။  "
   ]
  },
  {
   "cell_type": "code",
   "execution_count": 20,
   "metadata": {},
   "outputs": [
    {
     "name": "stdout",
     "output_type": "stream",
     "text": [
      "fileA  \u001b[0m\u001b[01;35mfileA.jpg\u001b[0m  fileB\n"
     ]
    }
   ],
   "source": [
    "ls file*"
   ]
  },
  {
   "cell_type": "code",
   "execution_count": 21,
   "metadata": {},
   "outputs": [
    {
     "name": "stdout",
     "output_type": "stream",
     "text": [
      "fileA      fileB    \u001b[0m\u001b[01;35mfruit.jpg\u001b[0m         fruit-orange.txt\n",
      "\u001b[01;35mfileA.jpg\u001b[0m  fmt.out  \u001b[01;35mfruit-orange.jpg\u001b[0m  fruit.txt\n",
      "\n",
      "folderA:\n",
      "127-135.pdf\n",
      "\n",
      "folder-athit:\n",
      "\n",
      "folderB:\n",
      "127-135.pdf  fileA  otest\n",
      "\n",
      "folder-new:\n",
      "\u001b[01;34mfolder-new\u001b[0m\n"
     ]
    }
   ],
   "source": [
    "ls f*"
   ]
  },
  {
   "cell_type": "markdown",
   "metadata": {},
   "source": [
    "f\\* ဖြစ်တဲ့ အတွက်ကြောင့်၊ \"f\" နဲ့စတဲ့ဖိုင်၊ ဖိုလ်ဒါတွေကို ရိုက်ထုတ်ပေးပါလိမ့်မယ်။ ဖိုလ်ဒါဆိုရင်တော့ အဲဒီဖိုလ်ဒါအတွင်းမှာရှိတဲ့ ဖိုင်တွေကိုပါ ရိုက်ထုတ်ပြပါလိမ့်မယ်။  "
   ]
  },
  {
   "cell_type": "code",
   "execution_count": 22,
   "metadata": {
    "collapsed": true
   },
   "outputs": [],
   "source": [
    "cd wildcard"
   ]
  },
  {
   "cell_type": "code",
   "execution_count": 23,
   "metadata": {},
   "outputs": [
    {
     "name": "stdout",
     "output_type": "stream",
     "text": [
      "acknowledgements.txt  m  maik-khe.food.txt  matrix  mba.note.txt  superman\n"
     ]
    }
   ],
   "source": [
    "ls *m*"
   ]
  },
  {
   "cell_type": "markdown",
   "metadata": {},
   "source": [
    "အထက်ပါ အမိန့် \"\\*m\\*\" က လက်ရှိဖိုလ်ဒါအောက်ရှေ့ကစချင်တာနဲ့ စ၊ \"m\" စာလုံးပါပြီး နောက်မှာလည်း ဆုံးချင်တာနဲ့ ဆုံးတဲ့ ဖိုင်ကို ပြပေးပါလို့ ဆိုလိုပါတယ်။ ဒီနေရာမှာ သိထားရမှာက wild card \\* က ရှေ့မှာ ရှင်းပြခဲ့သလို စာလုံးအရေအတွက် သုညကနေ အရေအတွက် အကန့်အသတ်မရှိတဲ့အထိ ကိုယ်စားပြု တာမို့၊ m ရဲ့ ရှေ့မှာ ဘာစာလုံးမှမရှိတာ၊ m ရဲ့ နောက်မှာ ဘာစာလုံးမှမရှိတာလဲ ပါဝင်ပါတယ်။ အဲဒါကြောင့် ဖိုင်နာမည် m လိုဖိုင်မျိုးကိုပါ ရိုက်ထုတ်ပြတာပါ။  \n",
    "\n",
    "Wild card \"\\*\" ကို echo command နဲ့ သုံးကြည့်ရအောင်။  \n",
    "echo * command နဲ့ လက်ရှိရှိနေတဲ့ ဖိုလ်ဒါအောက်က ဖိုင်တွေ၊ ဖိုလ်ဒါတွေအားလုံးကို ရိုက်ခိုင်းလို့ရပါတယ်။  \n",
    "ls command လိုပဲ အလုပ်လုပ်ပေးပါတယ်။  "
   ]
  },
  {
   "cell_type": "code",
   "execution_count": 24,
   "metadata": {},
   "outputs": [
    {
     "name": "stdout",
     "output_type": "stream",
     "text": [
      "abstract.txt acknowledgements.txt city conclusion.txt graph1 Graph1 graph2 Graph2 graph3 Graph3 graph4 Graph4 graph5 hello.txt ls.out m maik-khe.food.txt matrix mba.note.txt superman\n"
     ]
    }
   ],
   "source": [
    "echo *"
   ]
  },
  {
   "cell_type": "markdown",
   "metadata": {},
   "source": [
    "echo g\\* နဲ့ \"g\" နဲ့စတဲ့ ဖိုင်၊ ဖိုလ်ဒါတွေကို ရှာကြည့်လို့ရပါတယ်။ လက်ရှိ ဖိုလ်ဒါpath မှာက \"g\" နဲ့စတဲ့ ဖိုလ်ဒါတွေပဲ ရှိလို့၊ ဖိုလ်ဒါတွေကိုပဲ ရိုက်ထုတ်ပြပါလိမ့်မယ်။  "
   ]
  },
  {
   "cell_type": "code",
   "execution_count": 25,
   "metadata": {},
   "outputs": [
    {
     "name": "stdout",
     "output_type": "stream",
     "text": [
      "graph1 graph2 graph3 graph4 graph5\n"
     ]
    }
   ],
   "source": [
    "echo g*"
   ]
  },
  {
   "cell_type": "markdown",
   "metadata": {},
   "source": [
    "echo ရဲ့ အဓိကအလုပ်က input လုပ်တဲ့ စာကြောင်းတွေ ကို ရိုက်ထုတ်ပြတာမို့လို့ ls command လို ဖိုင်တွေ၊ ဖိုလ်ဒါတွေရဲ့ အသေးစိတ်အချက်အလက်တွေကို ပေးမှာမဟုတ်ပါဘူး။  \n",
    "\n",
    "Wild card ? နဲ့ \\* နှစ်ခုကို ပေါင်းပြီး သုံးတဲ့ ဥပမာတချို့ကတော့ အောက်ပါအတိုင်းပါ။  "
   ]
  },
  {
   "cell_type": "code",
   "execution_count": 26,
   "metadata": {},
   "outputs": [
    {
     "name": "stdout",
     "output_type": "stream",
     "text": [
      "../otest.tag\n"
     ]
    }
   ],
   "source": [
    "ls ../o*.???"
   ]
  },
  {
   "cell_type": "markdown",
   "metadata": {},
   "source": [
    "အထက်ပါ \"ls o\\*.???\" က အင်္ဂလိပ်စာလုံး o (small o) နဲ့ စပြီး၊ ဖိုင်တွေရဲ့ အမျိုးအစားတွေကို ခွဲတဲ့နေရာမှာ သုံးလေ့ရှိကြတဲ့ \".\" (dot) လဲပါပြီး၊ အဲဒီ \".\" (dot) ရဲ့ နောက်မှာတော့ စာလုံးသုံးလုံးနဲ့ ဆုံးတဲ့ ဖိုင်၊ ဖိုလ်ဒါတွေ ကို လက်ရှိဖိုလ်ဒါအောက်မှာ ရှာပေးပါလို့ ခိုင်းတဲ့ အမိန့်ပါ။  \n",
    "\n",
    "လက်ရှိဖိုလ်ဒါအောက်မှာရှိတဲ့ ဖိုင်တွေ၊ ဖိုလ်ဒါတွေရဲ့ နာမည်တွေအားလုံးအထဲမှာမှ ပေးလိုက် တဲ့ သတ်မှတ်ချက်ဖြစ်တဲ့ \"o\\*.???\"နဲ့ ကိုက်ညီတဲ့ \"otest.tag\" ဖိုင်ကို ရိုက်ထုတ်ပြတာပါ။  "
   ]
  },
  {
   "cell_type": "code",
   "execution_count": 27,
   "metadata": {},
   "outputs": [
    {
     "name": "stdout",
     "output_type": "stream",
     "text": [
      "-rw------- 1 guest guest  21  8月 11 20:20 /home/guest/.bash_history\n",
      "-rw------- 1 lar   lar   45K  9月  2 08:38 /home/lar/.bash_history\n"
     ]
    }
   ],
   "source": [
    "ls -lh /home/*/.bash_history"
   ]
  },
  {
   "cell_type": "markdown",
   "metadata": {},
   "source": [
    "အထက်ပါ /home/\\*/ က home ဖိုလ်ဒါအောက်မှာ ရှိတဲ့ username နဲ့သိမ်းထားတဲ့ ဖိုလ်ဒါအားလုံးကို ညွှန်းတာပါ။ /.bash_history က ပုံမှန်အားဖြင်မမြင်ရတဲ့ ဖွက်ထားတဲ့ဖိုင် (hidden file) ဖြစ်တဲ့ bash_history (ရိုက်ခဲ့သမျှ bash command တွေကိုသိမ်းထားတဲ့ ဖိုင်) ကို ပြောတာပါ။   \n",
    "\n",
    "Brace expansion တွေကို စမ်းသုံးကြည့်ကြရအောင်။  "
   ]
  },
  {
   "cell_type": "code",
   "execution_count": 28,
   "metadata": {},
   "outputs": [
    {
     "name": "stdout",
     "output_type": "stream",
     "text": [
      "graph1  graph2  graph3  graph4  graph5\n"
     ]
    }
   ],
   "source": [
    "ls graph[1-5]"
   ]
  },
  {
   "cell_type": "markdown",
   "metadata": {},
   "source": [
    "အထက်ပါ command က ဖိုင်နာမည် graph1 ကနေ graph5 အထိကို ls နဲ့ ပြခိုင်းကြည့်တာပါ။  \n",
    "လက်ရှိဖိုလ်ဒါအောက်မှာ ရှိရင် ပြပေးပါလိမ့်မယ်။  "
   ]
  },
  {
   "cell_type": "code",
   "execution_count": 29,
   "metadata": {},
   "outputs": [
    {
     "name": "stdout",
     "output_type": "stream",
     "text": [
      "maik-khe.food.txt  matrix  mba.note.txt\n"
     ]
    }
   ],
   "source": [
    "ls m[ab]*"
   ]
  },
  {
   "cell_type": "markdown",
   "metadata": {},
   "source": [
    "အထက်ပါ command မှာ ပါတဲ့ \"m[ab]\\*\" က \"m\" နဲ့ စပြီး သူ့ရဲ့နောက်က \"a\" စာလုံး (သို့) \"b\" စာလုံးက ကပ်လိုက်ပြီး၊ အဲဒီနောက်မှာတော့ ဘာပဲဖြစ်ဖြစ် ဆိုတဲ့ အဓိပ္ပါယ်ရပါတယ်။ အဲဒါကြောင့် လက်ရှိဖိုလ်ဒါအောက်မှာ၊ အဲဒီ brase expansion နဲ့ ကိုက်ညီတဲ့ maik-khe.food.txt ဖိုင်၊ matrix  ဖိုင်နဲ့ mba.note.txt ဖိုင်တွေကို ရိုက်ပြပေးတာပါ။  "
   ]
  },
  {
   "cell_type": "code",
   "execution_count": 30,
   "metadata": {},
   "outputs": [
    {
     "name": "stdout",
     "output_type": "stream",
     "text": [
      "Kachin State, Kayah State, Kayin State, Chin State, Mon State, Rakhine State, Shan State,\n"
     ]
    }
   ],
   "source": [
    "echo {Kachin,Kayah,Kayin,Chin,Mon,Rakhine,Shan}\\ State,"
   ]
  },
  {
   "cell_type": "markdown",
   "metadata": {},
   "source": [
    "တစ်ခု သိထားရမှာက {} အတွင်းမှာ ရှိတဲ့ \",\" တွေရဲ့ နောက်မှာ ပုံမှန်အင်္ဂလိပ်စာရိုက်သလိုမျိုး space ကီးကို ရိုက်ထည့်ရင် အလုပ်လုပ်မပေးဘူးဆိုတာကိုပါ။  \n",
    "State စာလုံးရဲ့　ရှေ့မှာရှိတဲ့　\"\\ \"က space ကိုရိုက်ပေးစေချင်လို့ escape လုပ်ထားတာပါ။  "
   ]
  },
  {
   "cell_type": "markdown",
   "metadata": {},
   "source": [
    "\"..\" နဲ့ ဘယ်စာလုံးကနေ ဘယ်စာလုံးအထိ၊ ဘယ်ဂဏန်းကနေ ဘယ်ဂဏန်းအထိ ဆိုပြီး တိုးတဲ့အခါမှာ၊ ဘယ်နှစ်လုံးစီ တိုးပေးပါဆိုတာကိုလည်း သတ်မှတ်ပေးလို့ရပါတယ်။ အောက်ပါ ဥပမာကို ကြည့်ကြရအောင်။  "
   ]
  },
  {
   "cell_type": "code",
   "execution_count": 31,
   "metadata": {},
   "outputs": [
    {
     "name": "stdout",
     "output_type": "stream",
     "text": [
      "-10 -8 -6 -4 -2 0 2 4 6 8 10\n"
     ]
    }
   ],
   "source": [
    "echo {-10..10..2}"
   ]
  },
  {
   "cell_type": "markdown",
   "metadata": {},
   "source": [
    "အထက်ပါ ဥပမာကို နားလည်မယ်လို့ ထင်ပါတယ်။  \n",
    "-10 ကနေ +10 အကြား၊ +2 လုပ်ပါ လို့ခိုင်းထားတာပါ။  "
   ]
  },
  {
   "cell_type": "code",
   "execution_count": 32,
   "metadata": {},
   "outputs": [
    {
     "name": "stdout",
     "output_type": "stream",
     "text": [
      "z y x w v u t s r q p o n m l k j i h g f e d c b a\n"
     ]
    }
   ],
   "source": [
    "echo {z..a}"
   ]
  },
  {
   "cell_type": "markdown",
   "metadata": {},
   "source": [
    "အထက်ပါ brase expansion {z..a} က အင်္ဂလိပ်စာလုံး z ကနေ a အထိကို ပြောင်းပြန်အစီအစဉ်အတိုင်းရိုက်ခိုင်းတာပါ။  "
   ]
  },
  {
   "cell_type": "markdown",
   "metadata": {},
   "source": [
    "နောက်တစ်ချက် သိထားသင့်တာက brace expansion တွေက nested လုပ်လို့ရတယ်ဆိုတာကိုပါ။  \n",
    "Nested လုပ်တယ်ဆိုတာက brace expansion တစ်ခုရဲ့ အတွင်းမှာ နောက်ထပ် တစ်ခြား brace expansion တစ်ခုကိုထည့်ရေးတာကို ပြောတာပါ။  \n",
    "အောက်ပါ ဥပမာကို ကြည့်ပါ။  "
   ]
  },
  {
   "cell_type": "code",
   "execution_count": 33,
   "metadata": {},
   "outputs": [
    {
     "name": "stdout",
     "output_type": "stream",
     "text": [
      "a1 a2 a3 b1 b2 b3 c1 c2 c3\n"
     ]
    }
   ],
   "source": [
    "echo {a{1..3},b{1..3},c{1..3}}"
   ]
  },
  {
   "cell_type": "markdown",
   "metadata": {},
   "source": [
    "အထက်ပါ ဥပမာမှာ အပြင်ဘက်အကျဆုံး brace expansion {} ရဲ့ အတွင်းမှာ {1..3} ဆိုတဲ့ brace expansion ကို သုံးခါ ထည့်သုံးပြထားတာပါ။  \n",
    "output ကိုကြည့်ချင်းအားဖြင့် ဘယ်လိုအလုပ်လုပ်သွားတယ်ဆိုတာကို နားလည်ပါလိမ့်မယ်။  \n",
    "ဒီနေရာမှာလည်း ထပ်သတိပေးချင်တာက၊ \",\" ရဲ့နောက်မှာ space မရိုက်မိဖို့ပါ။  "
   ]
  },
  {
   "cell_type": "markdown",
   "metadata": {},
   "source": [
    "bash shell မှာ အလုပ်လုပ်တဲ့အခါ \"ဒီစာလုံးတွေမဟုတ်တဲ့\"၊ တစ်ခါတစ်လေမှာကျတော့ \"ဒီစာလုံးကနေ ဒီစာလုံးကြား မဟုတ်တဲ့\" ဆိုတဲ့ သတ်မှတ်ချက်မျိုးကို သတ်မှတ်ချင်တဲ့အခါ၊ brace expansion လေးထောင့်ကွင်းအဖွင့် သင်္ကေတ \"[\" ရိက်ပြီးတာနဲ့ ! (exclamation mark) (သို့) ^ (caret) ကိုရိုက်ပြီး အဲဒီနောက်မှာ စာလုံးတွေကို ရိုက်ပြီး သုံးလေ့ရှိပါတယ်။ \n",
    "\n",
    "ဥပမာ rm [!0-9]\\* ဆိုရင် နံပါတ်နဲ့ မစတဲ့ ဖိုင်တွေအားလုံးကို ဖျက်ပေးပါလို့ ခိုင်းတာပါ။  \n",
    "<span style=\"color:red\">(ဒီ command ကို သတိထားပြီးသုံးပါ။ လက်ရှိရောက်နေတဲ့ path အောက်မှာရှိတဲ့၊ နံပါတ်နဲ့ မစတဲ့ ဖိုင်တွေအားလုံးကို ဖျက်သွားပါလိမ့်မယ်။)</span>\n",
    "\n",
    "\"!\" (exclamation mark) wildcard ကို စမ်းသုံးပြပါမယ်။  \n",
    "လက်ရှိ ရောက်နေတာက /home/ye/tool4all/linux-cmd/wildcard/ ဖိုလ်ဒါအောက်မှာပါ။  \n",
    "အဲဒီ ဖိုလ်ဒါအောက်မှာ ဖိုင်တချို့ကို ကျွန်တော်ကြိုပြင်ထားပါတယ်။ အဲဒီဖိုင်တွေအားလုံးအထဲကနေ G (သို့) g နဲ့ စတဲ့ ဖိုင်တွေအားလုံးကို list လုပ်ကြည့်ပါမယ်။  "
   ]
  },
  {
   "cell_type": "code",
   "execution_count": 34,
   "metadata": {},
   "outputs": [
    {
     "name": "stdout",
     "output_type": "stream",
     "text": [
      "graph1  Graph1  graph2  Graph2  graph3  Graph3  graph4  Graph4  graph5\n"
     ]
    }
   ],
   "source": [
    "ls [Gg]*"
   ]
  },
  {
   "cell_type": "markdown",
   "metadata": {},
   "source": [
    "အထက်ပါ output အတိုင်း အင်္ဂလိပ်စာလုံး G အကြီး၊ g အသေးနဲ့ စတဲ့ဖိုင်တွေကို မြင်ရပါလိမ့်မယ်။  \n",
    "ဒီတစ်ခါတော့ ပြောင်းပြန် G (သို့) g နဲ့ မစတဲ့ ဖိုင်တွေကိုပဲ ပြပေးပါဆိုပြီး [!Gg]　wild card ကို သုံးပြီးလုပ်ခိုင်းပါမယ်။  "
   ]
  },
  {
   "cell_type": "code",
   "execution_count": 35,
   "metadata": {},
   "outputs": [
    {
     "name": "stdout",
     "output_type": "stream",
     "text": [
      "abstract.txt          conclusion.txt  m                  mba.note.txt\n",
      "acknowledgements.txt  hello.txt       maik-khe.food.txt  superman\n",
      "city                  ls.out          matrix\n"
     ]
    }
   ],
   "source": [
    "ls [!Gg]*"
   ]
  },
  {
   "cell_type": "markdown",
   "metadata": {},
   "source": [
    "! (exclamation mark) အစား ^ (ငaret) ကိုလည်း သုံးလို့ရပါတယ်။  "
   ]
  },
  {
   "cell_type": "code",
   "execution_count": 36,
   "metadata": {},
   "outputs": [
    {
     "name": "stdout",
     "output_type": "stream",
     "text": [
      "abstract.txt          conclusion.txt  m                  mba.note.txt\n",
      "acknowledgements.txt  hello.txt       maik-khe.food.txt  superman\n",
      "city                  ls.out          matrix\n"
     ]
    }
   ],
   "source": [
    "ls [^Gg]*"
   ]
  },
  {
   "cell_type": "markdown",
   "metadata": {},
   "source": [
    "အခုလောက်ဆိုရင် wilid card　နဲ့　ပတ်သက်ပြီး　concept ကတော့ ရသွားလောက်ပါပြီ။  \n",
    "နောက်ထပ် အရေးကြီတဲ့အချက် တစ်ခုကတော့ Wildcard စာလုံးတွေက shell တွေအပေါ်မှာ မူတည်ပြီး သတ်မှတ်ချက်တွေက မတူညီကြပါဘူး။   \n",
    "ဥပမာ bash shell မှာ သုံးတဲ့ wildcard စာလုံးတွေအားလုံးက zsh shell မှာ အလုပ်လုပ်မှာ မဟုတ်ပါဘူး။ \n",
    "     \n",
    "Wildcard နဲ့ ပတ်သက်ပြီး အထက်ပါရှင်းပြခဲ့တာကို သဘောပေါက်တယ်ရင် တကယ့်လက်တွေမှာလည်း အသုံးချနိုင်ပါလိမ့်မယ်။  \n",
    "သုံးလည်း သုံးစေချင်ပါတယ်။  \n",
    "\n",
    "နောက်ဆုံးအနေနဲ့ bash shell မှာသုံးတဲ့ wildcard နဲ့ ပတ်သက်ပြီး အခြေခံကို အင်္ဂလိပ်လို အတိုရှင်းပြပါဆိုရင် အောက်ပါအတိုင်း ဖြစ်ပါလိမ့်မယ်။\n",
    "     \n",
    "   * \\* (matches anything)\n",
    "   * ? (matches any single character) \n",
    "   * [xyz] (matches any of x, y, or z)\n",
    "   * [a-d] (matches any character in the range a through d) \n"
   ]
  },
  {
   "cell_type": "markdown",
   "metadata": {},
   "source": [
    "## 24. Piping and Redirection\n",
    "\n",
    "ပုံမှန် အားဖြင့် ကျွန်တော်တို့က command တွေကို ကီးဘုတ်ကနေရိုက်ထည့်ပြီး၊ ရလဒ် (output) ကို မော်နီတာမှာ ပြပါတယ်။  \n",
    "Linux/Unix မှာ input/output ကို အောက်ပါအတိုင်း STDIN (0), STDOUT (1), STDERR (2) ဆိုပြီး သတ်မှတ်ထားပါတယ်။  \n",
    "\n",
    "<img src=\"./screen/redirections.png\" alt=\"Redirection picture\">\n",
    "<!---\n",
    "                     ┏━━━━━━━━┓\n",
    "      STDIN (0) ━━━━>┃Program ┃━━━━━> STDOUT (1)\n",
    "                     ┗━━━━┳━━━┛  \n",
    "                          ┗━━━━━━━━━> STDERR (2)  \n",
    "--->\n",
    "\n",
    "\n",
    "ဒီနေရာမှာ\n",
    "STDIN ရဲ့　default setting (ကျွန်တော်တို့က ဘာမှမညွှန်ကြားရင်) က ကီးဘုတ်ပါ။  \n",
    "ကီးဘုတ်က ဝင်လာတဲ့ command (သို့) input ကို ဖတ်တယ်။  \n",
    "STDOUT ရဲ့ default setting က မော်နီတာပါ။ ပရိုဂရမ်ရဲ့ ရလဒ်（output）ကို မော်နီတာမှာ ပြပေးတယ်။  \n",
    "STDERR ရဲ့ default setting က မော်နီတာပါ။ ပရိုဂရမ် run နေတုန်းမှာ error (အမှာအယွင်းတစ်ခုခု ဖြစ်ခဲ့ရင်) ရှိရင် မော်နီတာမှာ ပြပေးမယ်။  \n",
    "\n",
    "ကျွန်တော်တို့က လိုအပ်တဲ့ အခါမှာ STDIN, STDOUT, STDERR တွေကို ပြောင်းပေးလို့ရပါတယ်။  \n",
    "အဲဒီအလုပ်ကို အင်္ဂလိပ်လို redirection လုပ်တယ်လို့ ခေါ်ပါတယ်။  \n",
    "လက်တွေ့မှာ အဓိကအသုံးများတာက STDOUT, STDERR ရဲ့ output တွေကို ဖိုင်တွေမှာ ရေးခိုင်းတာမျိုးပါ။  \n",
    "ဥပမာ \"ls\" command ကထွက်လာတဲ့ output ကို ls.out ဆိုတဲ့ ဖိုင်မှာသိမ်းချင်တယ်ဆိုရင် အောက်ပါအတိုင်း \">\" (greather than) သင်္ကေတ နဲ့ ညွှန်းပါတယ်။ redirection လုပ်ပါတယ်။  "
   ]
  },
  {
   "cell_type": "code",
   "execution_count": 37,
   "metadata": {
    "collapsed": true
   },
   "outputs": [],
   "source": [
    "ls > ls.out"
   ]
  },
  {
   "cell_type": "code",
   "execution_count": 38,
   "metadata": {},
   "outputs": [
    {
     "name": "stdout",
     "output_type": "stream",
     "text": [
      "abstract.txt\n",
      "acknowledgements.txt\n",
      "city\n",
      "conclusion.txt\n",
      "graph1\n",
      "Graph1\n",
      "graph2\n",
      "Graph2\n",
      "graph3\n",
      "Graph3\n",
      "graph4\n",
      "Graph4\n",
      "graph5\n",
      "hello.txt\n",
      "ls.out\n",
      "m\n",
      "maik-khe.food.txt\n",
      "matrix\n",
      "mba.note.txt\n",
      "superman\n"
     ]
    }
   ],
   "source": [
    "cat ls.out"
   ]
  },
  {
   "cell_type": "markdown",
   "metadata": {},
   "source": [
    "ls.out ဖိုင်က မရှိသေးရင် ဖိုင်အသစ် ရေးပေးပါတယ်။  \n",
    "<span style=\"color:red\"> တခုသတိထားရမှာက ls.out ဖိုင်က ရှိပြီးသားဆိုရင်၊ အရင်ရှိပြီးသားဖိုင် ကို ထပ်ရေးတာ (overwrite) ဖြစ်လို့၊ အရင် ls.out မှာရှိပြီးသား အချက်အလက်တွေအားလုံး ပျက်သွားမယ် ဆိုတာကိုပါ။ </span>  \n",
    "\n",
    "သိထားရမှာက ပရိုဂရမ်ရဲ့ output ကို ဖိုင်မှာ ရေးပေးပါလို့ ညွှန်းပေမဲ့၊ ပုံမှန်အားဖြင့် STDERR ရဲ့ error message ကိုတော့ မော်နီတာဆီကို ပို့ပေးပါတယ်။  \n",
    "အဲဒါက ဘာ့ကြောင့်လဲ ဆိုရင် error message ကို ကွန်ပျူတာသုံးနေတဲ့ user က မမြင်ရရင် အဆင်မပြေနိုင်ဘူးလေ။  \n",
    "STDERR ရဲ့ error message ကိုပဲ ဖိုင်မှာ သိမ်းချင်ရင်၊ \"2>\" ကိုသုံးပြီး redirection လုပ်လို့ရပါတယ်။  \n",
    "\n",
    "Redirection သင်္ကေတတွေအားလုံးကိုတော့ အောက်ပါအတိုင်း ဇယားနဲ့ ပြသထားပါတယ်။  \n",
    "\n",
    "|  <p align=\"center\"> Redirection သင်္ကေတ |  <p align=\"center\"> အလုပ်လုပ်ပုံ                                                                 |\n",
    "|---------------------|----------------------------------------------------------------------------|\n",
    "|  <p align=\"left\">        <          | <p align=\"left\"> STDIN ကို ကီးဘုတ်ကနေမဟုတ်ပဲ၊ ဖိုင်ကနေ ပေးဖို့အတွက် အသုံးပြုပါတယ်။ |\n",
    "|  <p align=\"left\">       >           | <p align=\"left\"> STDOUT ကို ဖိုင်မှာရေးပေးဖို့အတွက် အသုံးပြုပါတယ်။ |\n",
    "|  <p align=\"left\">       >>          | <p align=\"left\"> STDOUT ကို ရှိနေပြီးသား ဖိုင်ရဲ့ နောက်ဆုံးကနေ ဝင်ရေးပေးဖို့ အသုံးပြုပါတယ်။ |\n",
    "|  <p align=\"left\">       >&          | <p align=\"left\"> STDERR ကနေပေးတဲ့ error message ကိုလည်း ဖိုင်မှာရေးပေးစေချင်ရင် အသုံးပြုပါတယ်။              |\n",
    "|  <p align=\"left\">       >>&         | <p align=\"left\"> \">&\" redirection ရဲ့ \">>\" ပါ။ ရှိပြီးသားဖိုင်ရဲ့ နောက်ဆုံးမှာ ဝင်ရေးပေးဖို့ အသုံးပြုပါတယ်။                |\n",
    "|  <p align=\"left\">       2>          | <p align=\"left\"> ပရိုဂရမ်ရဲ့ output မပါပဲ၊ STDERR ရဲ့ error message ကိုပဲ ဖိုင်မှာရေးပေးစေချင်တဲ့ အခါ အသုံးပြုပါတယ်။ |"
   ]
  },
  {
   "cell_type": "markdown",
   "metadata": {},
   "source": [
    "Redirection အသုံးပြုပုံကို ဥပမာ တချို့နဲ့ ရှင်းပြပါမယ်။  \n",
    "ls \\$ ဆိုပြီး run ကြည့်ပါ။  \n",
    "\\$ ဆိုတဲ့ ဖိုင်၊ ဖိုလ်ဒါကို ရှာမတွေ့ဘူးဆိုပြီးတော့ error message ကို မော်နီတာမှာ ရိုက်ပြပါလိမ့်မယ်။  "
   ]
  },
  {
   "cell_type": "code",
   "execution_count": 39,
   "metadata": {},
   "outputs": [
    {
     "name": "stdout",
     "output_type": "stream",
     "text": [
      "ls: cannot access '$': No such file or directory\n"
     ]
    },
    {
     "ename": "",
     "evalue": "2",
     "output_type": "error",
     "traceback": []
    }
   ],
   "source": [
    "ls $"
   ]
  },
  {
   "cell_type": "markdown",
   "metadata": {},
   "source": [
    "တခါတလေမှာ ပရိုဂရမ်ရဲ့ error message တွေကို မော်နီတာမှာ ရိုက်မပြခိုင်းစေချင်တဲ့ အခါမျိုးရှိပါတယ်။ အဲဒီလိုအခါမျိုးမှာ ကျွန်တော်တို့က error message ကို \"/dev/null\" ဆိုတဲ့ special filesystem object ဆီကို ပို့ပါတယ်။ \"/dev/null\" ဆီကို ပို့တဲ့ ဟာအားလုံးကို ဖိုင်စနစ် (file system) က ဖျောက်ပေးပါတယ်။  \n",
    "\n",
    "အထက်က ls $ ဥပမာကို အောက်ပါအတိုင်း error message ကို \"2>\" redirection သင်္ကေတကို သုံးပြီး၊ \"/dev/null\" ဆီကို လမ်းကြောင်းလွှဲတာကို စမ်းကြည့်ပါ။   "
   ]
  },
  {
   "cell_type": "code",
   "execution_count": 26,
   "metadata": {},
   "outputs": [
    {
     "ename": "",
     "evalue": "2",
     "output_type": "error",
     "traceback": []
    }
   ],
   "source": [
    "ls $ 2> /dev/null"
   ]
  },
  {
   "cell_type": "markdown",
   "metadata": {},
   "source": [
    "ဒီတစ်ခါတော့ error message ကို ရိုက်မပြတာကို တွေ့ရပါလိမ့်မယ်။  "
   ]
  },
  {
   "cell_type": "markdown",
   "metadata": {},
   "source": [
    "error message မဟုတ်ပဲ ပုံမှန် ပရိုဂရမ်က ရိုက်ထုတ်တဲ့ output တွေကိုလည်း ဖျောက်ချင်ရင် ဖျောက်လို့ ရပါတယ်။  \n",
    "ဥပမာ \"ls\" command ကို အလုပ်တော့ လုပ်ခိုင်းပြီး၊ သူက ပြပေးမဲ့ output တွေကိုတော့ မော်နီတာမှာ မရိုက်ပေးစေချင်ရင် အောက်ပါအတိုင်း command ပေးပါ။"
   ]
  },
  {
   "cell_type": "code",
   "execution_count": 27,
   "metadata": {
    "collapsed": true
   },
   "outputs": [],
   "source": [
    "ls > /dev/null"
   ]
  },
  {
   "cell_type": "markdown",
   "metadata": {},
   "source": [
    "\"ls\" command နဲ့ \"/dev/null\" ကိုသုံးပြီး output ကိုဖျောက်တယ်။ ဘာ့ကြောင့်ဒီလို လုပ်ဖို့ လိုအပ်ပါလိမ့်လို့ စာဖတ်သူက တွေးချင်တွေးမိပါလိမ့်မယ်။ \"/dev/null\" ရဲ့ အလုပ်လုပ်ပုံကို မြင်သာအောင်လို့သာ ls ကို သုံးပြီး ပြတာပါ။ တကယ့်လက်တွေ့မှာက ကိုယ် run ခိုင်းမဲ့ပရိုဂရမ်ကို အလုပ်ပဲ လုပ်စေချင်ပြီး၊ သူ့ကနေ ရိုက်ထုတ်ပေးတာတွေကို output တွေကို ကြည့်စရာမလိုတဲ့ အခြေအနေမျိုးရှိတတ်ပါတယ်။ အဲဒီလို အချိန်မှာသုံးနိုင်အောင်လို့ပါ။  "
   ]
  },
  {
   "cell_type": "markdown",
   "metadata": {},
   "source": [
    "\"/dev/null\" ကို ကျွန်တော်သုံးတဲ့ နောက်ထပ် ပုံစံတစ်မျိုးကတော့ ဒေတာရှိပြီးသား ဖိုင်တစ်ဖိုင်ထဲက ဒေတာတွေ အားလုံးကို ဖျက်ပစ်ချင်တဲ့ အခါမျိုးမှာပါ။ အဲဒီလို လုပ်ချင်တဲ့အခါ အောက်ပါအတိုင်း cat နဲ့ /dev/null (ဘာမှမရှိတာ) ကို ရိုက်ခိုင်းပြီး၊ ဒေတာရှင်းချင်တဲ့ ဖိုင်ကို overwrite လုပ်ခိုင်းတဲ့ပုံစံမျိုးပါ။  "
   ]
  },
  {
   "cell_type": "code",
   "execution_count": 1,
   "metadata": {
    "collapsed": true
   },
   "outputs": [],
   "source": [
    "cat /dev/null > training.log"
   ]
  },
  {
   "cell_type": "markdown",
   "metadata": {},
   "source": [
    "နောက်ထပ် redirection ဥပမာတစ်ခုကို ကြည့်ရအောင်။ sort command က အက္ခရာအစီအစဉ်တွေအလိုက် စီပေးတဲ့ ပရိုဂရမ်ပါ။ အောက်ပါအတိုင်း  \n",
    "sort &gt; sorted-names &lt;&lt;EOF ဆိုတဲ့ command ကို terminal ရိုက်ကြည့်ပါ။ user input ကို စောင့်နေမှာမို့ Romanization မြန်မာနာမည်တွေကို အောက်ပါအတိုင်း ရိုက်ထည့်ကြည့်ပါ။ EOF ကို ရိုက်လိုက်ရင်တော့ sort ပရိုဂရမ်က user input စောင့်နေတဲ့ အလုပ်ကို အဆုံးသတ်ပြီး အင်္ဂလိပ် အက္ခရာအစီစဉ်အလိုက်စီပြီ sorted-names ဆိုတဲ့ ဖိုင်မှာ သိမ်းပေးပါလိမ့်မယ်။  "
   ]
  },
  {
   "cell_type": "code",
   "execution_count": 24,
   "metadata": {
    "collapsed": true
   },
   "outputs": [],
   "source": [
    "sort > sorted-names <<EOF\n",
    "Kyaw Kyaw Moe\n",
    "Zaw Zaw\n",
    "Mg Mg\n",
    "Hla Hla\n",
    "Mya Mya\n",
    "Blue Ma\n",
    "Toe Toe\n",
    "Aye Mya\n",
    "EOF"
   ]
  },
  {
   "cell_type": "markdown",
   "metadata": {},
   "source": [
    "sorted-names ဖိုင်ထဲမှာ ဘယ်လိုသိမ်းသွားသလဲ ဆိုတာကို cat command နဲ့ ရိုက်ကြည့်ကြရအောင်။  "
   ]
  },
  {
   "cell_type": "code",
   "execution_count": 28,
   "metadata": {},
   "outputs": [
    {
     "name": "stdout",
     "output_type": "stream",
     "text": [
      "Aye Mya\n",
      "Blue Ma\n",
      "Hla Hla\n",
      "Kyaw Kyaw Moe\n",
      "Mg Mg\n",
      "Mya Mya\n",
      "Toe Toe\n",
      "Zaw Zaw\n"
     ]
    }
   ],
   "source": [
    "cat sorted-names"
   ]
  },
  {
   "cell_type": "markdown",
   "metadata": {},
   "source": [
    "အထက်မှာ မြင်ရတဲ့အတိုင်း ရိုက်ထည့်ထားခဲ့တဲ့ စာကြောင်းတွေကို အင်္ဂလိပ်အက္ခရာစဉ်လိုက် စီပြီးတော့မှ ဖိုင်ထဲမှာ သိမ်းထားပါတယ်။  \n",
    "\n",
    "\n",
    "Piping ဆိုတာကတော့ ပရိုဂရမ်တခုရဲ့ output ကို နောက် ပရိုဂရမ်တခုကို လက်ဆင့်ကမ်းတာကို ဆိုလိုတာပါ။  \n",
    "\"|\" (pipe character) ကို သုံးပါတယ်။ ရေတွေကို ရေပိုက်တခုနဲ့ တစ်နေရာကနေ၊ အခြားတစ်နေရာကို ပို့ပေးတဲ့ ပုံစံမျိုး အလုပ်လုပ်ပါတယ်။  \n",
    "\n",
    "ဥပမာ /dev ဖိုလ်ဒါအောက်မှာ ရှိတဲ့ device နဲ့ပတ်သက်တဲ့ ဖိုင်တွေကို \"ls\" command ကိုသုံး \"-l\" option နဲ့ တစ်ကြောင်းချင်းစီရိုက်ခိုင်းပြီး ထွက်လာတဲ့ output စာကြောင်းတွေကို \"|\" နဲ့ \"wc\" command ဆီကို လက်ဆင့်ကမ်းပြီး စာကြောင်းဘယ်လောက်ရှိသလဲ ရေတွက်ခိုင်းတာပါ။  "
   ]
  },
  {
   "cell_type": "code",
   "execution_count": 29,
   "metadata": {},
   "outputs": [
    {
     "name": "stdout",
     "output_type": "stream",
     "text": [
      "    209     209    1332\n"
     ]
    }
   ],
   "source": [
    "ls -1 /dev | wc"
   ]
  },
  {
   "cell_type": "markdown",
   "metadata": {},
   "source": [
    "အထက်ပါ \"wc\" command ကထွက်လာတဲ့ output ကနေ /dev ဖိုလ်ဒါအောက်မှာ device နဲ့ ပတ်သက်တဲ့ဖိုင် စုစုပေါင်း ၂၁၃ ဖိုင် ရှိတယ်ဆိုတာကို သိနိုင်ပါတယ်။  \n",
    "(ဒီနံပါတ်အရေအတွက် က ကွန်ပျူတာတစ်လုံးနဲ့ တစ်လုံး တူမှာ မဟုတ်ပါဘူး)  \n",
    "\n",
    "ဒီလို piping မလုပ်ပဲ၊ \"ls\" command ကနေထွက်လာတဲ့ ရလဒ်ကို ဖိုင်တစ်ဖိုင်မှာ သိမ်း၊ ပြီးတော့မှာ အဲဒီဖိုင်ကို \"wc\" command ကို သုံးပြီး ဘယ်နှစ်ဖိုင်ရှိသလဲဆိုတာကို ရေတွက်လို့လည်းရပါတယ်။ ဒါပေမဲ့ ဖိုင်အနေနဲ့ သိမ်းထားဖို့ မလိုအပ်ရင် memory ပေါ်မှာပဲ piping လုပ်ပြီး run ရင်ပိုပြီးတော့ မြန်ဆန်ပါလိမ့်မယ်။  "
   ]
  },
  {
   "cell_type": "code",
   "execution_count": 30,
   "metadata": {
    "collapsed": true
   },
   "outputs": [],
   "source": [
    "echo -e \"Yangon \\nMandalay \\nNaypyidaw \\nMawlamyine \\nBago \\nPathein \\nPyay \\nMonywa \\nMeiktila \\nSittwe \\nMyeik \\nTaunggyi\" | sort > city"
   ]
  },
  {
   "cell_type": "markdown",
   "metadata": {},
   "source": [
    "အထက်ပါ command က \"echo\" နဲ့ မြန်မာနိုင်ငံရဲ့ မြို့နာမည်တွေကို ရိုက်ထုတ်ခိုင်းပြီး ထွက်လာတဲ့ output ကို \"sort\"  command ကိုလက်ဆင့်ကမ်းပြီး အက္ခရာစဉ်လိုက် စီခိုင်းပါတယ်။  \n",
    "\"sort\" command က စီပေးလိုက်တဲ့ output ကို redirection သင်္ကေတ တစ်ခုဖြစ်တဲ့ > (greather than) ကိုသုံးပြီး city ဆိုတဲ့ ဖိုင်မှာ သိမ်းခိုင်းပါတယ်။  \n",
    "city ဖိုင်ထဲမှာ ဘယ်လို ရှိနေတယ်ဆိုတာကို အောက်ပါအတိုင်း cat command နဲ့ ရိုက်ကြည့်ပါမယ်။  "
   ]
  },
  {
   "cell_type": "code",
   "execution_count": 31,
   "metadata": {},
   "outputs": [
    {
     "name": "stdout",
     "output_type": "stream",
     "text": [
      "Bago \n",
      "Mandalay \n",
      "Mawlamyine \n",
      "Meiktila \n",
      "Monywa \n",
      "Myeik \n",
      "Naypyidaw \n",
      "Pathein \n",
      "Pyay \n",
      "Sittwe \n",
      "Taunggyi\n",
      "Yangon \n"
     ]
    }
   ],
   "source": [
    "cat city"
   ]
  },
  {
   "cell_type": "markdown",
   "metadata": {},
   "source": [
    "နောက်ထပ် ဥပမာတစ်ခုအနေနဲ့ ရှေ့မှာလေ့လာခဲ့တဲ့ \"head\" နဲ့ \"tail\" command နှစ်ခုကို pipe နဲ့ပေါင်းသုံးတာကို ပြပါမယ်။ ကျွန်တော်တို့ မြန်မာစာကြောင်းတွေရဲ့ POS tag တွေချည်းပဲသိမ်းထားတဲ့ otest.tag ဖိုင်မှ စာကြောင်း ၂၀၁ ကနေ ၂၀၅ အထိ ရိုက်ထုတ်ခိုင်းမယ်ဆိုရင် အောက်ပါအတိုင်း command ပေးလို့ရပါတယ်။"
   ]
  },
  {
   "cell_type": "code",
   "execution_count": 32,
   "metadata": {},
   "outputs": [
    {
     "name": "stdout",
     "output_type": "stream",
     "text": [
      "n adj n part v part part punc\n",
      "n n ppm pron ppm n v ppm punc\n",
      "v part part pron ppm v part punc\n",
      "n n n n ppm n v n n ppm adj v n part v conj n adv v ppm punc\n",
      "conj n n ppm n conj v part v conj v ppm punc\n"
     ]
    }
   ],
   "source": [
    "head -n 205 ./otest.tag | tail -n 5"
   ]
  },
  {
   "cell_type": "markdown",
   "metadata": {},
   "source": [
    "piping က command နှစ်ခုအကြားမှာပဲ လုပ်တာ မဟုတ်ပါဘူး။ command တွေ အများကြီးကို တစ်ခါတည်း piping လုပ်ပြီး သုံးလို့ရပါတယ်။  \n",
    "အောက်ပါ ဥပမာက \"cat\" \"tr\" \"sort\" \"uniq\" \"awk\" command ငါးခုကို piping လုပ် အသုံးပြုပြီး၊ ဖိုင်တစ်ဖိုင် ထဲမှာ ရှိတဲ့ စာလုံးတွေကို ရေတွက်ပြ ထားတာ ဖြစ်ပါတယ်။  "
   ]
  },
  {
   "cell_type": "code",
   "execution_count": 33,
   "metadata": {},
   "outputs": [
    {
     "name": "stdout",
     "output_type": "stream",
     "text": [
      "abb 46\n",
      "adj 608\n",
      "adv 243\n",
      "conj 1013\n",
      "fw 236\n",
      "int 5\n",
      "n 5907\n",
      "num 380\n",
      "part 4189\n",
      "part_neg 138\n",
      "ppm 3431\n",
      "pron 253\n",
      "punc 1429\n",
      "sb 25\n",
      "tn 211\n",
      "v 2838\n"
     ]
    }
   ],
   "source": [
    "cat ./otest.tag | tr ' ' '\\n' | sort | uniq -c | awk '{ print $2 \" \" $1}'"
   ]
  },
  {
   "cell_type": "markdown",
   "metadata": {},
   "source": [
    "အထက်ပါ ဥပမာမှာ otest.tag ဖိုင်က မြန်မာစာကြောင်းတွေရဲ့ 𝧧POS tag တွေကိုပဲ သိမ်းဆည်းထားတဲ့ ဖိုင်ဖြစ်ပါတယ်။  \n",
    "command တွေရဲ့ အလုပ်လုပ်ပုံကတော့ otest.tag ဖိုင်ထဲမှာ ရှိတဲ့ စာကြောင်းတွေကို \"cat\" command နဲ့ ရိုက်ထုတ်ပြီး၊  \n",
    "\"tr\" command နဲ့ စာလုံး တစ်လုံးနဲ့ တစ်လုံး အကြားမှာ ရှိတဲ့ ကွက်လပ်တွေကို \"\\n\" (line feed) နဲ့ အစားထိုးလိုက်ပါတယ်။  \n",
    "စာလုံး တစ်လုံးစီက စာကြောင်း တစ်ကြောင်းစီ ဖြစ်နေတဲ့ output ကို \"sort\" command ကို သုံးပြီး စာလုံးတွေကို အင်္ဂလိပ်အက္ခရာစဉ်  \n",
    "အတိုင်း စီလိုက်ပါတယ်။ အဲဒီကနေမှ \"uniq -c\" command နဲ့ စာလုံး တစ်လုံးချင်းစီက ဘယ်နှစ်လုံး ရှိသလဲ ဆိုတာကို ရေတွက်ခိုင်းပါတယ်။  \n",
    "ဒီအချိန်မှာ ရလာတဲ့ output က အောက်ပါအတိုင်း အကြိမ်အရေအတွက်နံပါတ်တွေက ရှေ့မှာရှိပြီး စာလုံးတွေက နောက်မှာရှိနေပါတယ်။  \n",
    "```\n",
    "     46 abb\n",
    "    608 adj\n",
    "    243 adv\n",
    "   1013 conj\n",
    "    236 fw\n",
    "      5 int\n",
    "   5907 n\n",
    "    380 num\n",
    "   4189 part\n",
    "    138 part_neg\n",
    "   3431 ppm\n",
    "    253 pron\n",
    "   1429 punc\n",
    "     25 sb\n",
    "    211 tn\n",
    "   2838 v\n",
    "```\n",
    "နောက်ဆုံး command ဖြစ်တဲ့ awk '{ print $2 \" \" $1}' က နံပါတ် နဲ့ စာလုံး ကော်လံနှစ်ခုကို ဖလှယ်ခိုင်းတာဖြစ်ပါတယ်။  \n",
    "ဒီ piping အသုံးပြုပုံ ဥပမာက လှပပြီး၊ လက်တွေ့မှာလည်း အသုံးဝင်တဲ့ command ဖြစ်လို့ မှတ်သားထားသင့်ပါတယ်။  \n"
   ]
  },
  {
   "cell_type": "markdown",
   "metadata": {},
   "source": [
    "## 25. Regular Expression (RE or regex)\n",
    "\n",
    "Regular Expression (RE) က အလွယ်ဆုံးရှင်းပြရရင် စာလုံးတွေ၊ စာကြောင်းတွေ၊ ဖိုင်တွေ၊ ဘာသာစကားတွေနဲ့ ပတ်သက်ပြီး ရှာဖွေတဲ့နေရာ၊ ဝင်ပြင်တဲ့နေရာတွေမှာ အင်မတန်ကို အရေးပါတဲ့ သတ်မှတ်ချက်တစ်ခု၊ ဘာသာစကားတစ်ခုပါ။\n",
    "\n",
    "အင်္ဂလိပ်လို ပြောရင်တော့ text processing (သို့) pattern recognition လို့ခေါ်ပါတယ်။ အဲဒီ text processing, pattern recognition အလုပ်တွေမှာ RE က အဓိကကျတဲ့ အခန်းကဏ္ဍကပါဝင်ပါတယ်။ ကွန်ပျူတာ application တွေမှာလဲ နေရာပေါင်းစုံမှာကို အသုံးပြုပါတယ်။ ဥပမာ အနေနဲ့ word processor တွေကနေ database application, search engine စသည်ဖြင့်၊ စသည်ဖြင့်။ ဒါ့အပြင် RE က programming languages (eg. Java and JavaScript, Visual Basic and VBScript, C, C++, C#, Perl, Python, Ruby, PHP, elisp, sed, awk etc.) တွေရဲ့ အစိတ်အပိုင်း တစ်ပိုင်းအဖြစ်ပါဝင်ပြီး ကောင်းကောင်း အသုံးချတတ်ရင်၊ တကယ့်ကို powerful tool တစ်ခုပါ။\n",
    "\n",
    "RE ကို တကယ်သိဖို့၊ ကိုယ်လိုချင်တဲ့ စာကြောင်းတွေ၊ စကားလုံးအစိတ်အပိုင်းတွေကို ဆွဲထုတ်ယူနိုင်ဖို့၊ ပုံစံအမျိုးမျိုးနဲ့ ကျွမ်းကျွမ်းကျင်ကျင် အသုံးပြုနိုင်တဲ့ အဆင့်အထိက အချိန်ယူလေ့လာရပါတယ်။ လက်တွေ့သုံးရင်းနဲ့ လေ့လာရတယ်ဆိုရင် ပိုမှန်ပါတယ်။ ကျွန်တော် ဒီနေရာမှာလည်း RE ဆိုတာက ဘာလဲဆိုတာသိအောင်၊ မိတ်ဆက်အနေနဲ့ အသုံပြုပုံ တချို့ကို ရှင်းပြရင်း၊ RE ရဲ့ concept ကိုရသွားဖို့ ရည်ရွယ်ပါတယ်။ ကျွန်တော်ကိုယ်တိုင်လည်း RE မှာ မသိသေးတာတွေအများကြီးပါ။ တကယ် RE ကိုစိတ်ဝင်စားလို့ သီအိုရီပိုင်းကို ပိုသိချင်ရင် စာအုပ်တွေဖတ်၊ လက်တွေ့ကြုံရတဲ့ text processing ပြဿနာတွေကို အမျိုးမျိုး စမ်းသပ်သုံးကြည့်မှသာ ကျွမ်းကျင်လာပါလိမ့်မယ်။  \n"
   ]
  },
  {
   "cell_type": "markdown",
   "metadata": {},
   "source": [
    "### Characters\n",
    "\n",
    "| <p align=\"left\"> သင်္ကေတ | <p align=\"left\"> အလုပ်လုပ်ပုံ | <p align=\"left\"> ဥပမာ RE | <p align=\"left\"> ဥပမာ RE နဲ့ ကိုက်သောရလဒ် |\n",
    "|:--------|:----------|:--------|:------|\n",
    "| <p align=\"left\"> \\\\d | <p align=\"left\"> ၀ ကနေ ၉ အတွင်းက ဂဏန်းတစ်လုံး | <p align=\"left\"> TV\\_Channel_\\\\d\\\\d | Watching <span style=\"color:red\">TV_Channel_17</span>. |\n",
    "| <p align=\"left\"> \\\\D | <p align=\"left\"> ဂဏန်းတစ်လုံး မဟုတ် | <p align=\"left\"> \\\\D | <p align=\"left\"> <span style=\"color:red\">Give me version</span> 0<span style=\"color:red\">.</span>9<span style=\"color:red\">!</span> |\n",
    "| <p align=\"left\"> \\\\w | <p align=\"left\"> စာလုံးတစ်လုံး (သို့) ဂဏန်းတစ်လုံး (သို့) underscore \"_\" | <p align=\"left\"> \\\\w\\\\w\\\\w | <p align=\"left\"> <span style=\"color:red\">Thi</span>s is <span style=\"color:red\">versio</span>n 0.9!|\n",
    "| <p align=\"left\"> \\\\W | <p align=\"left\"> \\\\w မဟုတ်သော စာလုံးတစ်လုံး | <p align=\"left\"> \\\\W\\\\W\\\\W\\\\W | <p align=\"left\"> <p align=\"left\"> Do you know<span style=\"color:red\"> +-*</span>%? |\n",
    "| <p align=\"left\"> \\\\s | whitespace စာလုံး <br>(space, tab, newline, carriage return, vertical tab) | <p align=\"left\"> Mg\\\\sMg | <p align=\"left\"> <span style=\"color:red\">Mg Mg</span> and Ma Ma! |\n",
    "| <p align=\"left\"> \\\\S | <p align=\"left\"> whitespace မဟုတ်တဲ့ စာလုံးတစ်လုံး | <p align=\"left\"> \\\\S\\\\S\\\\S\\\\S | <p align=\"left\"> I <span style=\"color:red\">love</span> <span style=\"color:red\">Aiki</span>do! |\n",
    "| <p align=\"left\"> . | <p align=\"left\"> ဘာစာလုံးမဆို <br>(သို့သော် စာကြောင်းဖြတ်တာနဲ့ မပတ်သတ်သော စာလုံး) | <p align=\"left\"> L.. | <p align=\"left\"> Working at AI <span style=\"color:red\">Lab</span>. |\n",
    "| <p align=\"left\"> \\\\ | <p align=\"left\"> အထူးစာလုံး (ဥပမာ RE ကယူသုံးထားသောစာလုံးများ)တွေကို <br>Escape လုပ်တဲ့အခါသုံးသော သင်္ကေတ | <p align=\"left\"> \\\\.\\\\*\\\\?\\\\^\\\\$\\\\{\\\\( | <p align=\"left\"> .*?^${( |\n",
    "\n",
    "\n"
   ]
  },
  {
   "cell_type": "markdown",
   "metadata": {},
   "source": [
    "### Quantifiers\n",
    "\n",
    "| <p align=\"left\"> အရေအတွက် သတ်မှတ်ချက် သင်္ကေတ |  <p align=\"left\"> အလုပ်လုပ်ပုံ | <p align=\"left\"> ဥပမာRE\t| <p align=\"left\"> ဥပမာ RE နဲ့ ကိုက်သောရလဒ် |\n",
    "|:------------|:--------|:---------:|:--------|:-------|\n",
    "| <p align=\"left\"> + | <p align=\"left\"> တစ်ခု (သို့) တစ်ခုထက်ပို | <p align=\"left\"> x+ | <p align=\"left\"> xx (or) xxxxx (or) xxxxxxxxxx |\n",
    "| <p align=\"left\"> * | <p align=\"left\"> သုည (သို့) တစ်ခုထက်ပို | <p align=\"left\"> x*y*z* | <p align=\"left\"> xyz (or) xxyzzzzz (or) xxxyyyzzz |\n",
    "| <p align=\"left\"> ? | <p align=\"left\"> သုည (သို့) တစ်ခု | <p align=\"left\"> x? | <p align=\"left\"> x (or) xx | \n",
    "| <p align=\"left\"> {3} | <p align=\"left\"> သုံးခါတိတိ\t| <p align=\"left\"> \\w{3} | <p align=\"left\"> abc (or) xyz (or) aaa |\n",
    "| <p align=\"left\"> {2,5} | <p align=\"left\"> နှစ်ခါ ကနေ ၅ခါအတွင်း | <p align=\"left\"> \\d{2,5} | <p align=\"left\"> 111 (or) 1223 (or) 123456 |\n",
    "| <p align=\"left\"> {2,} | <p align=\"left\"> နှစ်ခါ နှင့် အထက် | <p align=\"left\"> \\w{2,} | <p align=\"left\"> pro (or) program (or) programming |"
   ]
  },
  {
   "cell_type": "markdown",
   "metadata": {},
   "source": [
    "### Whitespace\n",
    "\n",
    "| <p align=\"left\"> သင်္ကေတ |\t<p align=\"left\"> သတ်မှတ်ချက် |\n",
    "|:-----------|:----------|\n",
    "| <p align=\"left\"> \\t | <p align=\"left\"> Tab စာလုံးကို ကိုယ်စားပြုတဲ့ စာလုံးတစ်လုံး |\n",
    "| <p align=\"left\"> \\r | <p align=\"left\"> Carriage return ကို ကိုယ်စားပြုတဲ့ စာလုံးတစ်လုံး  |\t\n",
    "| <p align=\"left\"> \\n | <p align=\"left\"> Line feed ကို ကိုယ်စားပြု <br>( Linux OS မှာစာကြောင်း အောက်တစ်ကြောင်းဆင်းဖို့အတွက်သုံး) တဲ့စာလုံး တစ်လုံး|\n",
    "| <p align=\"left\"> \\r\\n | <p align=\"left\"> Windows OS မှာသုံးတဲ့ Line feed စာလုံး|\n",
    "| <p align=\"left\"> \\h | <p align=\"left\"> horizontal whitespace စာလုံးတစ်လုံး (e.g. Tab, space )|\n",
    "| <p align=\"left\"> \\b | <p align=\"left\"> backspace စာလုံး တစ်လုံး|\n",
    "| <p align=\"left\"> \\v | <p align=\"left\"> vertical whitespace စာလုံး တစ်လုံး <br>( ဥပမာ line feed, carriage return, vertical tab, form feed etc.) |\n",
    "| <p align=\"left\"> \\N | <p align=\"left\"> line break မဟုတ်တဲ့ စာလုံး တစ်လုံး |\n",
    "| <p align=\"left\"> \\H | <p align=\"left\"> horizontal whitespace မဟုတ်တဲ့ စာလုံး တစ်လုံး|\n",
    "| <p align=\"left\"> \\V | <p align=\"left\"> vertical whitespace မဟုတ်တဲ့ စာလုံး တစ်လုံး|\n"
   ]
  },
  {
   "cell_type": "markdown",
   "metadata": {},
   "source": [
    "### Character Classes\n",
    "\n",
    "| <p align=\"left\"> သင်္ကေတ | <p align=\"left\"> အလုပ်လုပ်ပုံ | <p align=\"left\"> ဥပမာ RE | <p align=\"left\"> ဥပမာ RE နဲ့ ကိုက်သောရလဒ် |\n",
    "|:--------|:----------|:--------|:------|\n",
    "|  <p align=\"left\"> [...] | <p align=\"left\"> လေးထောင့်ကွင်းနှစ်ခုအတွင်းက စာလုံးတစ်လုံး | <p align=\"left\"> [ABC]|<p align=\"left\">  A (or) B (or) C |\n",
    "| <p align=\"left\"> [x-y] | <p align=\"left\"> x ကနေ y ကြားထဲမှာ ရှိသော စာလုံးတစ်လုံး | <p align=\"left\"> [A-E] | <p align=\"left\"> A (or) B (or) C (or) D (or) E |\n",
    "| <p align=\"left\"> [^] | <p align=\"left\"> လေးထောင့်ကွင်း နှစ်ခုအတွင်းမှာ ရှိနေတဲ့ စာလုံးတွေထဲက မဟုတ်တဲ့ စာလုံး | <p align=\"left\"> [^xyz]| <p align=\"left\"> a (or) b (or) k |\n",
    "| <p align=\"left\"> [^x-y] | <p align=\"left\"> x ကနေ y ကြားထဲမှာ ရှိမနေသော စာလုံး တစ်လုံး | <p align=\"left\"> [^0-7] | <p align=\"left\"> 8 (or) 9 |\n",
    "|  <p align=\"left\"> [\\xnn] |  <p align=\"left\"> hexadecimal နံပါတ် nn နဲ့ညီမျှတဲ့ စာလုံး တစ်လုံး | <p align=\"left\"> [\\x41\\x42\\x43] |  <p align=\"left\"> A (or) B (or) C|\n",
    "| <p align=\"left\"> [\\uFFFF]| <p align=\"left\"> Unicode နံပါတ် FFFF နဲ့ ညီမျှတဲ့ စာလုံး တစ်လုံး | <p align=\"left\"> [\\u1000]| <p align=\"left\"> က |"
   ]
  },
  {
   "cell_type": "markdown",
   "metadata": {},
   "source": [
    "### Anchors and Boundaries\n",
    "\n",
    "| <p align=\"left\"> သင်္ကေတ | <p align=\"left\"> အလုပ်လုပ်ပုံ | <p align=\"left\"> ဥပမာ RE | <p align=\"left\"> ဥပမာ RE နဲ့ ကိုက်သောရလဒ် |\n",
    "|:--------|:----------|:--------|:------|\n",
    "| <p align=\"left\"> ^ | <p align=\"left\"> စာကြောင်း တစ်ကြောင်းရဲ့ အစ <br>(ဒီနေရာမှာ စာကြောင်းတစ်ကြောင်းဆိုတာက multiline mode ပါ ပါဝင်တယ်) | <p align=\"left\"> ^This | <p align=\"left\"> <span style=\"color:red\">This</span> and that. |\n",
    "| <p align=\"left\"> $ | <p align=\"left\"> စာကြောင်း တစ်ကြောင်းရဲ့ အဆုံး <br>(ဒီနေရာမှာ စာကြောင်း တစ်ကြောင်းဆိုတာက multiline mode ပါ ပါဝင်တယ်) | <p align=\"left\"> တယ်\\$ | <p align=\"left\"> စာကြိုးစား<span style=\"color:red\">တယ်</span> |\n",
    "| <p align=\"left\"> \\b| <p align=\"left\"> စာလုံးတစ်လုံးရဲ့ အဆုံး <br>(RE အင်ဂျင်အများစုက ASCII စာလုံးတွေကို အခြေခံထားတာဖြစ်လို့ မြန်မာစာအတွက် က အဆင်မပြေတာတွေရှိပါတယ်။) <br>နောက်တစ်ချက် က ဒီ \\b က character class အနေနဲ့ သုံးတဲ့ အခါမှာတော့ backspace ဖြစ်ပါတယ်။| <p align=\"left\"> \\ba\\w*\\b| <p align=\"left\"> Who <span style=\"color:red\">am</span> I? |\n",
    "| <p align=\"left\"> \\B | <p align=\"left\"> စာလုံးတစ်လုံးရဲ့ အဆုံးမဟုတ် | <p align=\"left\"> \\Bo\\B | <p align=\"left\"> quick br<span style=\"color:red\">o</span>wn f<span style=\"color:red\">o</span>x jump over the lazy d<span style=\"color:red\">o</span>g |\n"
   ]
  },
  {
   "cell_type": "markdown",
   "metadata": {},
   "source": [
    "### POSIX Classes\n",
    "| <p align=\"left\"> သင်္ကေတ | <p align=\"left\"> အလုပ်လုပ်ပုံ | <p align=\"left\"> ဥပမာ RE | <p align=\"left\"> ဥပမာ RE နဲ့ ကိုက်သောရလဒ် |\n",
    "|:--------|:----------|:--------|:------|\n",
    "| <p align=\"left\"> [:alpha:]|  <p align=\"left\"> ASCII စာလုံး A-Z နှင့် a-z | <p align=\"left\"> [[:alpha:]] | <p align=\"left\"> <span style=\"color:red\">Happy Departure</span>! |\n",
    "| <p align=\"left\"> [:alnum:]| <p align=\"left\">  ASCII ဂဏန်းနံပါတ်၊ A-Z နှင့် a-z | <p align=\"left\"> [[:alnum:]]{6} | <p align=\"left\"> Happy <span style=\"color:red\">Birthd</span>ay to you! |\n",
    "| <p align=\"left\"> [:punct:]| <p align=\"left\"> ASCII ပုဒ်ဖြတ်သင်္ကေတ (punctuation) စာလုံး | <p align=\"left\"> [[:punct:]]+ | <p align=\"left\"> Hi<span style=\"color:red\">!</span> Nay Kaung Lar<span style=\"color:red\">?</span> |\n"
   ]
  },
  {
   "cell_type": "markdown",
   "metadata": {},
   "source": [
    "POSIX classes တွေက လည်း အများကြီးရှိပါတယ်။  \n",
    "ဒီနေရာမှာ တစ်ခု သိထားသင့်တာက POSIX classe တွေနဲ့ တချို့သော escape sequence တွေက အတူတူပဲ ဆိုတာကိုပါ။  \n",
    "အောက်ပါဇယားမှာ ပြထားတဲ့ ဥပမာ တချို့ကို မှီငြမ်းပါ။  "
   ]
  },
  {
   "cell_type": "markdown",
   "metadata": {},
   "source": [
    "|  <p align=\"left\"> Escape sequence သင်္ကေတ |  <p align=\"left\"> POSIX classes |\n",
    "|:--------|:----------|\n",
    "|  <p align=\"left\"> \\d | <p align=\"left\"> [[:digit:]]|\n",
    "|  <p align=\"left\"> \\l |  <p align=\"left\"> [[:lower:]] |\n",
    "|  <p align=\"left\"> \\s |  <p align=\"left\"> [[:space:]] |\n",
    "|  <p align=\"left\"> \\u |  <p align=\"left\"> [[:upper:]] |\n",
    "|  <p align=\"left\"> \\w |  <p align=\"left\"> [[:word:]] |\n",
    "|  <p align=\"left\"> \\D |  <p align=\"left\"> [^[:digit:]] |\n",
    "|  <p align=\"left\"> \\L |  <p align=\"left\"> [^[:lower:]] |\n",
    "|  <p align=\"left\"> \\S |  <p align=\"left\"> [^[:space:]] |\n",
    "|  <p align=\"left\"> \\U |  <p align=\"left\"> [^[:upper:]] |\n",
    "|  <p align=\"left\"> \\W |  <p align=\"left\"> [^[:word:]] |\n"
   ]
  },
  {
   "cell_type": "markdown",
   "metadata": {},
   "source": [
    "### Unicode Regular Expression\n",
    "\n",
    "ယူနီကုဒ်နဲ့ ပတ်သက်တဲ့ RE ကိုလည်း နည်းနည်း မိတ်ဆက်ပါမယ်။ တိုတိုပြောရရင် အင်္ဂလိပ်စာအတွက် RE token အားလုံးက အလုပ်လုပ်ပါတယ်။  တချို့ RE တွေက မြန်မာစာ အပါအဝင် ဘာသာစကားအားလုံးအတွက် အမြဲတမ်းအဆင်ပြေတာမဟုတ်ပါဘူး။ အဲဒီလိုအခါမျိုးမှာ Unicode RE ရဲ့ အကူအညီကို လှမ်းယူတာ မျိုးလည်း လုပ်ရတတ်ပါတယ်။ ယူနီကုဒ် RE ဆိုတာက ယူနီကုဒ်အဖွဲ့အစည်းက သတ်မှတ်ထားတဲ့ သတ်မှတ်ချက်တွေကို၊ RE အနေနဲ့လည်း အလုပ်လုပ်လို့ရအောင် သင်္ကေတတွေ သတ်မှတ်ထားတာလို့ လွယ်လွယ်ကူကူမှတ်လို့ ရပါတယ်။ Unicode RE ကလည်း တကယ့်ကို အများကြီးပါ။ အားလုံးကို မှတ်ထားစရာ မလိုပါဘူး။ သဘောတရားရအောင်သာ Unicode RE တချို့က အောက်ပါဇယားအတိုင်းပါ။  \n"
   ]
  },
  {
   "cell_type": "markdown",
   "metadata": {},
   "source": [
    "|   <p align=\"left\"> Unicode RE သင်္ကေတ |   <p align=\"left\"> သတ်မှတ်ချက် |\n",
    "|:--------|:--------|\n",
    "|   <p align=\"left\"> \\X |   <p align=\"left\"> ယူနီကုဒ် အတွက် RE \".\" ပါ|\n",
    "|   <p align=\"left\"> \\x{FFFF} |   <p align=\"left\"> ယူနီကုဒ်စာလုံးတွေကို ကုဒ်နံပါတ်နဲ့ ရိုက်နိုင်ပါတယ်။ <br>ဥပမာ \\x{1F637} ဆိုရင် &#x1F637; (FACE WITH MEDICAL MASK) ကို ရိုက်ပေးပါလိမ့်မယ်။ |\n",
    "|   <p align=\"left\"> \\x{1000}{10}|   <p align=\"left\"> မြန်မာစာ စာလုံး \"က\" ကို ၁၀ခါ  |\n",
    "|   <p align=\"left\"> \\p{L} (သို့) \\p{Letter}|   <p align=\"left\"> Unicode စာလုံး တစ်လုံး |\n",
    "|   <p align=\"left\"> \\p{Ll} (သို့) \\p{Lowercase_Letter} |   <p align=\"left\"> အင်္ဂလိပ်ကဲ့သို့ စာလုံးအကြီး၊အသေး ရှိတဲ့ ဘာသာစကားတွေရဲ့ စာလုံးအသေး တစ်လုံး|\n",
    "|   <p align=\"left\"> \\p{Lu} (သို့) \\p{Uppercase_Letter} |   <p align=\"left\"> အင်္ဂလိပ်ကဲ့သို့ စာလုံးအကြီး၊အသေး ရှိတဲ့ ဘာသာစကားတွေရဲ့ စာလုံးအကြီး တစ်လုံး|\n",
    "|   <p align=\"left\"> \\p{S} (သို့) \\p{Symbol} |   <p align=\"left\"> သင်္ချာ သင်္ကေတ၊ ငွေကြေး သင်္ကေတ၊ အလွယ်တကူပုံတွေကို ဆွဲတဲ့နေရာမှာ သုံးတဲ့ စသည့်သင်္ကေတများထဲက တစ်ခု|\n",
    "|   <p align=\"left\"> \\p{Sm} (သို့) \\p{Math_Symbol}|   <p align=\"left\"> သင်္ချာ သင်္ကေတ တစ်ခု |\n",
    "|   <p align=\"left\"> \\p{N} (သို့) \\p{Number}|   <p align=\"left\"> ဘာသာစကားမျိုးစုံရဲ့ ဂဏန်းနံပါတ်များထဲက ဂဏန်းတစ်ခု|\n",
    "|   <p align=\"left\"> \\p{Nl} (သို့) \\p{Letter_Number} |   <p align=\"left\"> စာလုံးကဲ့သို့သော နံပါတ်များ။ ဥပမာ ရောမနံပါတ်များ ဖြစ်ကြတဲ့ I, V, IX စသည်ဖြင့် |\n",
    "|  <p align=\"left\"> \\p{Myanmar}|   <p align=\"left\"> ယူနီကုဒ်အဖွဲ့အစည်းက သတ်မှတ်ထားပြီးဖြစ်တဲ့ မြန်မာယူနီကုဒ်မှာပါဝင်တဲ့ စာလုံးများထဲက စာလုံးတစ်လုံး |\n",
    "|  <p align=\"left\"> \\p{InMyanmar}|   <p align=\"left\"> ယူနီကုဒ်အဖွဲ့အစည်းက သတ်မှတ်ထားပြီးဖြစ်တဲ့ မြန်မာယူနီကုဒ်နံပါတ် U1000 ကနေ U109F အကြားဝင်တဲ့ စာလုံးများ||"
   ]
  },
  {
   "cell_type": "markdown",
   "metadata": {},
   "source": [
    "### Inline Modifier\n",
    "Inline Modifier ဆိုတာကတော့ RE တစ်ခုအတွင်းမှာပဲ တချို့အပိုင်းတွေမှာ မသက်ရောက်စေချင်တဲ့ အပိုင်းတွေ၊ ဒီနေရာမှာတော့ ရှေ့က ပြောခဲ့တဲ့ RE ကို လစ်လျူရှု့ပြီး ဒီလိုလုပ်ပေးပါ စသည်ဖြင့် ဝင်ပြင်တဲ့အခါမှာ သုံးတဲ့ RE သင်္ကေတတွေဖြစ်ပါတယ်။ အသုံးများတဲ့ Inline modifier တချို့ရဲ့ အလုပ်လုပ်ပုံကို မိတ်ဆက်ပေးပါမယ်။     \n",
    "\n",
    "|  <p align=\"left\"> သင်္ကေတ |  <p align=\"left\"> အလုပ်လုပ်ပုံ |  <p align=\"left\"> ဥပမာ RE |  <p align=\"left\"> ဥပမာ RE နဲ့ ကိုက်သောရလဒ် |\n",
    "|:--------|:----------|:--------|:--------|\n",
    "|  <p align=\"left\"> (?i) |  <p align=\"left\"> အင်္ဂလိပ်စာ စာလုံးအကြီး၊ အသေးကို မခွဲခြားပဲ၊<br> အတူတူပဲဆိုတဲ့ သတ်မှတ်ချက် <br>(case insensitive)| <p align=\"left\"> (?i)phone|  <p align=\"left\"> i<span style=\"color:red\">Phone</span> is a mobile <span style=\"color:red\">phone</span>.<br> Yes, it is a SMART <span style=\"color:red\">PHONE</span>!|\n",
    "|  <p align=\"left\"> (?c) |  <p align=\"left\"> အင်္ဂလိပ်စာ စာလုံးအကြီး၊ အသေးကို<br> သပ်သပ်စီခွဲထားတဲ့ သတ်မှတ်ချက် <br>(case sensitive)| <p align=\"left\"> (?c)phone| <p align=\"left\"> iPhone is a mobile <span style=\"color:red\">phone</span>.<br> Yes, it is a SMART PHONE!|\n",
    "|  <p align=\"left\"> (?x) |  <p align=\"left\">  RE တွေကို ဖတ်ရလွယ်ကူဖို့အတွက်၊<br> RE ရဲ့ token တစ်ခုနဲ့ တစ်ခု <br>အကြားမှာ ရှိတဲ့ space တွေကို<br> လစ်လျူရှုဖို့အတွက် (free-spacing mode လို့ခေါ်)<br> သုံးတဲ့ inline modifier ပါ။<br>comment mode, whitespace mode လို့လည်း<br> သိကြပါတယ်။ |  <p align=\"left\"> (?x)a b c|  <p align=\"left\"> <span style=\"color:red\">abc</span> and a b c and ABC and <span style=\"color:red\">abcabc</span>|\n",
    "|  <p align=\"left\"> (?t) |  <p align=\"left\"> free-spacing mode ကို ပိတ်ချင်တဲ့အခါမှာ<br> အသုံးပြုပါတယ်။<br>Tcl programming language မှာပဲသုံးနိုင်။ |  <p align=\"left\"> (?t)a b c |  <p align=\"left\"> abc and <span style=\"color:red\">a b c</span> and ABC and abcabc |\n",
    "|  <p align=\"left\"> (?s) |  <p align=\"left\"> single line mode ကို active ဖြစ်ဖို့အတွက်<br> အသုံးပြုပါတယ်။ <br> single line mode မှာတော့ RE \".\" က<br> line break စာလုံးတွေအပါအဝင်၊<br> စာလုံးအားလုံး ကို ကိုယ်စားပြုပါလိမ့်မယ်။<br>\"dot all mode\" ဆိုပြီး ခေါ်ကြပါတယ်။ |  <p align=\"left\"> (?s)(^.*\\d+\\$) |  <p align=\"left\"> <span style=\"color:red\">Line no.1</span>\\n<span style=\"color:red\">Line no.2</span>\\n<span style=\"color:red\">Line no.3</span> |\n",
    "|  <p align=\"left\"> (?m)|  <p align=\"left\"> multi-line mode ကို active ဖြစ်ဖို့အတွက်<br> အသုံးပြုပါတယ်။ |  <p align=\"left\"> (?m)(^.*\\d+\\$) |  <p align=\"left\"> <span style=\"color:red\">Line no.1</span>\\nLine no.2\\nLine no.3 |\n"
   ]
  },
  {
   "cell_type": "markdown",
   "metadata": {},
   "source": [
    "### Lookahead and Lookbehind \n",
    "RE ရဲ့ Lookahead နဲ့ Lookbehind ကလည်း သိထားရင် လိုချင်တဲ့ စာလုံးတွေကို ဆွဲထုတ်ယူတဲ့နေရာမှာ အင်မတန်ကို အသုံးဝင်ပါတယ်။  \n",
    "သဘောတရားကို အလွယ်ရှင်းပြရရင် ဆိုကြပါစို့ ကျွန်တော်တို့မှာ A B C ဆိုပြီး အင်္ဂလိပ်စာလုံး သုံးလုံးရှိတယ်ဆိုရင်။ စာလုံး B ကို တည်လိုက်ပြီးတော့ စဉ်းစားတဲ့ပုံစံပါ။ B စာလုံးနေရာရဲ့အရှေ့ဖက်ကို lookahead လိုသုံးပြီး၊ B စာလုံးနေရာရဲ့ အနောက်ဖက်ကို lookbehind လို့သုံးပါတယ်။ ကိုယ်လိုချင်တဲ့ စာလုံးရဲ့ ရှေ့မှာ ဒီလို RE pattern ဖြစ်ရင်၊ ကိုယ်လိုချင်တဲ့ စာလုံးရဲ့ အနောက်မှာ ဒီလို RE pattern ဖြစ်ရင် ဆိုပြီး condition ပေးပြီး ရှာဖွေဆွဲထုတ်ယူတဲ့ ပုံစံပါ။ အောက်ပါ ဇယားနဲ့ နောက်ဆက်တွဲပြထားတဲ့ အသုံးပြုပုံ ဥပမာ တချို့ကို နားလည်အောင် ကြိုးစားပါ။ \n",
    "\n",
    "\n",
    "|  <p align=\"left\"> Lookaround သင်္ကေတ |  <p align=\"left\"> အလုပ်လုပ်ပုံ |  <p align=\"left\"> ဥပမာ RE |  <p align=\"left\"> ဥပမာ RE နဲ့ ကိုက်သောရလဒ် |\n",
    "|:--------|:----------|:--------|:--------|\n",
    "|  <p align=\"left\"> (?=regex) |  <p align=\"left\"> Positive lookahead လို့ခေါ်ပါတယ်။<br>ရှာဖွေမဲ့ စာလုံးရဲ့ အရှေ့မှာ (ညာဘက်) regex pattern ရှိနေတဲ့ အခြေအနေ |\t <p align=\"left\"> .{3}(?=\\d{5})\t|  <p align=\"left\"> <span style=\"color:red\">abc</span>12345 |\n",
    "|  <p align=\"left\"> (?!regex) |  <p align=\"left\"> Negative lookahead လို့ခေါ်ပါတယ်။<br>ရှာဖွေမဲ့ စာလုံးရဲ့ အရှေ့မှာ (ညာဘက်) regex pattern မရှိတဲ့ အခြေအနေ |  <p align=\"left\"> Hard(?!Rock) |  <p align=\"left\"> HardRock <span style=\"color:red\">Hard</span>Music |\n",
    "|  <p align=\"left\"> (?<=regex) |  <p align=\"left\"> Positive lookbehind လို့ခေါ်ပါတယ်။<br> ရှာဖွေမဲ့ စာလုံးရဲ့ အနောက်မှာ (ဘယ်ဘက်) regex pattern ရှိနေတဲ့ အခြေအနေ | <p align=\"left\"> (?<=\\d)D\t|  <p align=\"left\"> 5<span style=\"color:red\">D</span> fiveD  oneD 1<span style=\"color:red\">D</span> |\n",
    "|  <p align=\"left\"> (?<!regex) |  <p align=\"left\"> Negative lookbehind လို့ခေါ်ပါတယ်။<br> ရှာဖွေမဲ့ စာလုံးရဲ့ အနောက်မှာ (ဘယ်ဘက်) regex pattern မရှိတဲ့ အခြေအနေ |  <p align=\"left\"> (?<!\\d)D |  <p align=\"left\"> 5D five<span style=\"color:red\">D</span>  one<span style=\"color:red\">D</span> 1D |"
   ]
  },
  {
   "cell_type": "markdown",
   "metadata": {},
   "source": [
    "Lookahead, Lookbehind ကို command prompt မှာ grep (ကိုယ်လိုချင်တဲ့ RE နဲ့ ရှာဖွေပေးနိုင်တဲ့ ပရိုဂရမ်) command နဲ့ အောက်ပါအတိုင်း စမ်းrun ကြည့်ပါ။  "
   ]
  },
  {
   "cell_type": "code",
   "execution_count": 47,
   "metadata": {},
   "outputs": [
    {
     "name": "stdout",
     "output_type": "stream",
     "text": [
      "Tuu\u001b[01;31m\u001b[KWar\u001b[m\u001b[KWarTuu\n"
     ]
    }
   ],
   "source": [
    "echo -e \"TuuWarWarTuu\" | grep -P 'War(?=War)'"
   ]
  },
  {
   "cell_type": "code",
   "execution_count": 48,
   "metadata": {},
   "outputs": [
    {
     "name": "stdout",
     "output_type": "stream",
     "text": [
      "TuuWar\u001b[01;31m\u001b[KWar\u001b[m\u001b[KTuu\n"
     ]
    }
   ],
   "source": [
    "echo -e \"TuuWarWarTuu\" | grep -P 'War(?!War)'"
   ]
  },
  {
   "cell_type": "code",
   "execution_count": 49,
   "metadata": {},
   "outputs": [
    {
     "name": "stdout",
     "output_type": "stream",
     "text": [
      "Tuu\u001b[01;31m\u001b[KWar\u001b[m\u001b[KWarTuu\n"
     ]
    }
   ],
   "source": [
    "echo -e \"TuuWarWarTuu\" | grep -P '(?<=Tuu)War'"
   ]
  },
  {
   "cell_type": "code",
   "execution_count": 50,
   "metadata": {},
   "outputs": [
    {
     "name": "stdout",
     "output_type": "stream",
     "text": [
      "TuuWar\u001b[01;31m\u001b[KWar\u001b[m\u001b[KTuu\n"
     ]
    }
   ],
   "source": [
    "echo -e \"TuuWarWarTuu\" | grep -P '(?<!Tuu)War'"
   ]
  },
  {
   "cell_type": "markdown",
   "metadata": {},
   "source": [
    "### Greedy and Lazy\n",
    "\n",
    "RE မှာ greedy search နဲ့ lazy search ဆိုပြီး နှစ်မျိုးရှိတယ်။ Greedy search က ပေးလိုက်တဲ့ regex pattern (သို့) condition ကို ပေးလိုက်တဲ့ စာကြောင်း အပေါ်မှာ တစ်ခေါက်တွေ့တာနဲ့ ရပ်မသွားပဲ ထပ်ခါထပ်ခါ ဆက်ရှာပြီး၊ နောက်ဆုံး အကြိမ် ပြေလည်သည်အထိ ရှာတဲ့ပုံစံပါ။ Lazy search က regex pattern ကို တစ်ခေါက်တွေ့တာနဲ့ ထပ်မရှာတော့ပဲ ရပ်သွားပါလိမ့်မယ်။ ပုံမှန်အားဖြင့် (i.e. default) RE က greedy search ပါ။ RE engine ကို Lazy search အနေနဲ့ အလုပ်လုပ်ပေးစေချင်ရင်တော့ condition (သို့) regex pattern ရဲ့ နောက်မှာ \"?\" ကိုထည့်ပါ။  \n",
    "\n",
    "Greedy ကနေ Lazy အဖြစ်ပြောင်းတဲ့ ပုံစံတချို့ကို လေ့လာဖို့အတွက် အောက်ပါဇယားကို မှီငြမ်းပါ။  \n",
    "\n",
    "\n",
    "| <p align=\"left\"> Greedy | <p align=\"left\"> Lazy|  <p align=\"left\"> အလုပ်လုပ်ပုံ|\n",
    "|:--------|:--------|\n",
    "| <p align=\"left\"> *                 | <p align=\"left\"> *?              | <p align=\"left\"> သုည (သို့) တစ်ခုထက်ပို  |\n",
    "| <p align=\"left\"> +                 | <p align=\"left\"> +?              | <p align=\"left\"> တစ်ခု (သို့) တစ်ခုထက်ပို |\n",
    "| <p align=\"left\"> ?                 | <p align=\"left\"> ??              | <p align=\"left\"> သုည (သို့) တစ်ခု   |\n",
    "| <p align=\"left\"> {n}               | <p align=\"left\"> {n}?            | <p align=\"left\"> n အကြိမ်တိတိ    |\n",
    "| <p align=\"left\"> {n,}              | <p align=\"left\"> {n,}?           | <p align=\"left\"> အနည်းဆုံး n အကြိမ်နဲ့ညီမျှ   |\n",
    "| <p align=\"left\"> {n,m}             | <p align=\"left\"> {n,m}?          | <p align=\"left\"> n အကြိမ် ကနေ m အကြိမ်အထိ |"
   ]
  },
  {
   "cell_type": "code",
   "execution_count": 51,
   "metadata": {},
   "outputs": [
    {
     "name": "stdout",
     "output_type": "stream",
     "text": [
      "\u001b[01;31m\u001b[K<em>Hello World</em>\u001b[m\u001b[K\n"
     ]
    }
   ],
   "source": [
    "echo -e \"<em>Hello World</em>\" | grep -P '<.+>'"
   ]
  },
  {
   "cell_type": "code",
   "execution_count": 52,
   "metadata": {},
   "outputs": [
    {
     "name": "stdout",
     "output_type": "stream",
     "text": [
      "\u001b[01;31m\u001b[K<em>\u001b[m\u001b[KHello World\u001b[01;31m\u001b[K</em>\u001b[m\u001b[K\n"
     ]
    }
   ],
   "source": [
    "echo -e \"<em>Hello World</em>\" | grep -P '<.+?>'"
   ]
  },
  {
   "cell_type": "code",
   "execution_count": 53,
   "metadata": {},
   "outputs": [
    {
     "name": "stdout",
     "output_type": "stream",
     "text": [
      "\u001b[01;31m\u001b[Kpupp\u001b[m\u001b[Ky\n"
     ]
    }
   ],
   "source": [
    "echo -e \"puppy\" | grep -P 'p.+p'"
   ]
  },
  {
   "cell_type": "code",
   "execution_count": 54,
   "metadata": {},
   "outputs": [
    {
     "name": "stdout",
     "output_type": "stream",
     "text": [
      "\u001b[01;31m\u001b[Kpup\u001b[m\u001b[Kpy\n"
     ]
    }
   ],
   "source": [
    "echo -e \"puppy\" | grep -P 'p.+?p'"
   ]
  },
  {
   "cell_type": "markdown",
   "metadata": {},
   "source": [
    "ယခုလောက်ဆိုရင် RE ရဲ့ concept နှင့်တကွ အသုံးပြုပုံပြုနည်း သဘောတရားကိုတော့ ရလောက်ပြီလို့ယူဆပါတယ်။ မြင်တတ်တဲ့ သူဆိုလျှင် wild card နဲ့ နှိုင်းယှဉ်ကြည့်ပြီး၊ wild card ရဲ့ \"?\" က RE ရဲ့ \".\" နဲ့ သွားတူတာ။ ထိုနည်းလည်းကောင်း wild card ရဲ့ \"\\*\" က RE ရဲ့ \".\\*\" နဲ့ တူပုံကိုလည်း သိနေလောက်ပါပြီ။  \n",
    "\n",
    "RE ကို linuxပရိုဂရမ် အမျိုးမျိုးမှာ လိုအပ်ချက်နဲ့အညီ ပြင်ဆင်ပြီးသုံးကြလို့ သူ့ရဲ့ syntax (တွဲသုံးတဲ့ ပုံစံ) က အမျိုးမျိုးရှိပါတယ်။ ဥပမာ တချို့မှာ အောက်ပါအတိုင်း ဖြစ်ပါတယ်။\n",
    "\n",
    "* awk regular expression syntax\n",
    "* egrep regular expression syntax\n",
    "* ed regular expression syntax \n",
    "* emacs regular expression syntax\n",
    "* gnu-awk regular expression syntax\n",
    "* grep regular expression syntax\n",
    "\n",
    "လက်တွေ့မှာ ရာနဲ့ထောင်နဲ့ချီရှိတဲ့ ဖိုင်တွေနဲ့ အလုပ်လုပ်ရတော့မယ်ဆိုရင် wild card တွေ၊ regular expression တွေကို သုံးပြီး အလုပ်လုပ်မှ သက်သာပါလိမ့်မယ်။ သို့သော် တကယ့်လက်တွေ text processing ရဲ့ ပြဿနာတွေကို RE ကို သုံးပြီး ဖြေရှင်းနိုင်ဖို့ကတော့ လက်တွေ့စမ်းသုံးမှသာ ကျွမ်းကျင်လာပါလိမ့်မယ်။ ပထမ အစပိုင်းမှာတော့ ကိုယ်လိုချင်တဲ့ text pattern ကို တော်တော်နဲ့ ဆွဲယူလို့မရလို့ စိတ်ပင်ပန်းရတာတွေလည်း ရှိမှာ မလွဲမသွေပါပဲ။ စမ်းသုံးကြည့်ရင်း၊ စမ်းသုံးကြည့်ရင်း နဲ့ RE နဲ့ အလုပ် လုပ်လို့ရလာပြီဆိုရင်တော့၊ RE ရဲ့ ပါဝါကိုလည်း သိရှိပြီး၊ ခက်ခဲတဲ့ ပြဿနာတွေကိုလည်း ဖြေရှင်းလာနိုင်ပါလိမ့်မယ်။   \n",
    "\n",
    "ဒီအထိ linux command တွေရော wild card နဲ့ RE တွေကို ရိုက်စမ်းကြည့်ရင်း၊ သဘောပေါက်အောင် သေသေချာချာ ကြိုးစားပြီးလေ့လာခဲ့တဲ့သူ ဆိုရင်တော့ တော်တော်လေး ခရီးပေါက်နေပါပြီ။ အောက်ပါ RE နဲ့ ပတ်သက်ပြီး လူသိများတဲ့ ကာတွန်းကို နောက်ဆုံးအနေနဲ့ message ပေးရင်း၊ RE ရဲ့ သင်ကြားမှုကို ရပ်လိုက်တော့မယ်။  "
   ]
  },
  {
   "cell_type": "markdown",
   "metadata": {},
   "source": [
    "<img src=\"./screen/regular_expressions.png\" alt=\"Regular Expressions\">"
   ]
  },
  {
   "cell_type": "markdown",
   "metadata": {},
   "source": [
    "Above RE Comic is from: [xkcd, A webcomic of romance, sarcasm, math, and language.](https://xkcd.com/208/)"
   ]
  },
  {
   "cell_type": "markdown",
   "metadata": {},
   "source": [
    "## 26. find (search for files in a directory hierarchy)\n",
    "\n",
    "ဖိုင်ကို ဖိုလ်ဒါအောက် အဆင့်ဆင့် ရှာဖွေတဲ့ နေရာမှာ အသုံးပြုပါတယ်။\n",
    "\n",
    "ဘာ parameter မှမပေးပဲ \"find\" command တစ်ခုတည်းကိုပဲ ရိုက်ရင် လက်ရှိရောက်နေတဲ့ ဖိုလ်ဒါအောက်မှာ ရှိတဲ့ ဖိုင်၊ ဖိုလ်ဒါ၊ ဖိုလ်ဒါတွေအောက်မှာ ရှိတဲ့ ဖိုင်တွေ အားလုံးကို ရှာဖွေပြီး ရိုက်ထုတ်ပြပါလိမ့်မယ်။   "
   ]
  },
  {
   "cell_type": "code",
   "execution_count": 55,
   "metadata": {},
   "outputs": [
    {
     "name": "stdout",
     "output_type": "stream",
     "text": [
      ".\n",
      "./graph2\n",
      "./Graph4\n",
      "./superman\n",
      "./hello.txt\n",
      "./abstract.txt\n",
      "./graph4\n",
      "./city\n",
      "./Graph3\n",
      "./maik-khe.food.txt\n",
      "./Graph1\n",
      "./mba.note.txt\n",
      "./matrix\n",
      "./ls.out\n",
      "./graph1\n",
      "./acknowledgements.txt\n",
      "./m\n",
      "./graph3\n",
      "./.my-private-info.txt\n",
      "./graph5\n",
      "./conclusion.txt\n",
      "./Graph2\n"
     ]
    }
   ],
   "source": [
    "find "
   ]
  },
  {
   "cell_type": "markdown",
   "metadata": {},
   "source": [
    "ဖိုလ်ဒါနာမည် (သို့) ရှာဖွေချင်တဲ့ path လမ်းကြောင်းကို ပေးရင်တော့၊ အဲဒီပေးလိုက်တဲ့ path အောက်မှာရှိတဲ့ ဖိုင်၊ ဖိုလ်ဒါတွေရဲ့ နာမည်အားလုံးကို ရိုက်ထုတ်ပြပါလိမ့်မယ်။"
   ]
  },
  {
   "cell_type": "code",
   "execution_count": 56,
   "metadata": {},
   "outputs": [
    {
     "name": "stdout",
     "output_type": "stream",
     "text": [
      "find: ‘./folderA’: No such file or directory\n"
     ]
    },
    {
     "ename": "",
     "evalue": "1",
     "output_type": "error",
     "traceback": []
    }
   ],
   "source": [
    "find ./folderA"
   ]
  },
  {
   "cell_type": "markdown",
   "metadata": {},
   "source": [
    "ဖိုင်ကို နာမည်နဲ့တကွ ရှာဖွေချင်ရင်တော့ \"-name\" option ကိုသုံးပါတယ်။"
   ]
  },
  {
   "cell_type": "code",
   "execution_count": 57,
   "metadata": {
    "collapsed": true
   },
   "outputs": [],
   "source": [
    "find -name 127-135.pdf"
   ]
  },
  {
   "cell_type": "markdown",
   "metadata": {},
   "source": [
    "ဖိုလ်ဒါတွေရဲ့ အတွင်းပိုင်းကို ဘယ်နှစ်ဆင့်အထိပဲ ဝင်ရှာပေးပါဆိုတာကိုလည်း \"-maxdepth\" ဆိုတဲ့ option နဲ့ ကန့်သတ်ပေးနိုင်ပါတယ်။\n",
    "\n",
    "-maxdepth 3 option ကို တပ်ပြီး ဖိုလ်ဒါတွေထဲဝင်ရှာတဲ့ အခါမှာ အောက်ဘက် သုံးဆင့် အထိပဲ ဝင်ရှာပေးပါဆိုပြီး ကန့်သတ်ပေးတဲ့ ပုံစံက အောက်ပါအတိုင်းပါ။  "
   ]
  },
  {
   "cell_type": "code",
   "execution_count": 58,
   "metadata": {},
   "outputs": [
    {
     "name": "stdout",
     "output_type": "stream",
     "text": [
      "find: ‘/home/lar/.dbus’: Permission denied\n",
      "find: ‘/home/lar/.cache/dconf’: Permission denied\n",
      "/home/lar/bk-dlbox/tool4all/127-135.pdf\n",
      "/home/lar/linux-cmd/folderB/127-135.pdf\n",
      "/home/lar/linux-cmd/folderA/127-135.pdf\n"
     ]
    },
    {
     "ename": "",
     "evalue": "1",
     "output_type": "error",
     "traceback": []
    }
   ],
   "source": [
    "find ~ -maxdepth 3 -name \"127-135.pdf\""
   ]
  },
  {
   "cell_type": "markdown",
   "metadata": {},
   "source": [
    "အထက်မှာ မြင်ရတဲ့ permission denied ဆိုတဲ့ message က ဖော်ပြပါဖိုလ်ဒါအောက်ကို ဝင်ခွင့်မရှိလို့ ပေးတဲ့ error message ဖြစ်ပါတယ်။  \n",
    "\n",
    "\"-maxdepth\" နဲ့ ဆန့်ကျင်ဘက် \"-mindepth\" ဆိုတာလည်းရှိပါတယ်။  \n",
    "သူကတော့ \"find\" command က စမရှာခင်မှာ ဖိုလ်ဒါရဲ့ အောက်ဖက်ကို n အဆင့်အရင်ဆုံးဆင်းခိုင်းတာပါ။  \n",
    "ဥပမာ -mindepth 3 လို့ option ပေးခဲ့ရင် ရှာခိုင်းတဲ့ ဖိုင် (သို့) ဖိုလ်ဒါတွေကို မရှာခင်မှာ အရင်ဆုံး ဖိုလ်ဒါ သုံးဆင့်ထဲဝင်ပြီးမှ ရှာပေးပါလို့ ခိုင်းတာပါ။  \n",
    "\n",
    "\"-mindepth\" နဲ့ \"-maxdepth\" option နှစ်ခုကိုတွဲပြီးတော့ လည်းသုံးနိုင်ပါတယ်။  \n",
    "\n",
    "ဥပမာ အောက်ပါ command က ဖိုလ်ဒါ depth အောက်ဘက် နှစ်ဆင့် ကနေ ငါးဆင့် အကြားမှာရှိတဲ့ \".txt\" extension နဲ့ ဆုံးတဲ့ ဖိုင်နာမည်တွေကိုပဲ ရှာပေးပါဆိုပြီးခိုင်းတာပါ။  \n",
    "\n",
    "find -mindepth 2 -maxdepth 5 -name \"*.txt\"  \n",
    "\n",
    "\"-not\" option ကိုပေးပြီး ဒီဖိုင်ကိုတော့ မရှာပါနဲ့ ဆိုပြီးလည်း ကန့်သတ်လို့လည်း ရပါတယ်။  \n",
    "\n",
    "အောက်ပါ find command ဥပမာက ~/linux-cmd/ ဖိုလ်ဒါအောက်မှာဝင်ရှာပေးပါ။  \n",
    "ဒါပေမဲ့ d နဲ့စတဲ့ ဖိုင်နာမည်တွေကိုတော့ မရှာပါနဲ့လို့ ပြောပြီး ခိုင်းတာပါ။  "
   ]
  },
  {
   "cell_type": "code",
   "execution_count": 59,
   "metadata": {},
   "outputs": [
    {
     "name": "stdout",
     "output_type": "stream",
     "text": [
      "/home/lar/linux-cmd/\n",
      "/home/lar/linux-cmd/folder-new\n",
      "/home/lar/linux-cmd/folder-new/folder-new\n",
      "/home/lar/linux-cmd/process.gv\n",
      "/home/lar/linux-cmd/mk-wordtag.pl\n",
      "/home/lar/linux-cmd/city\n",
      "/home/lar/linux-cmd/screen\n",
      "/home/lar/linux-cmd/screen/KaKhaGa-output.png\n",
      "/home/lar/linux-cmd/screen/echo-kagyi.png\n",
      "/home/lar/linux-cmd/screen/redirections.png\n",
      "/home/lar/linux-cmd/screen/bayesian-formula.png\n",
      "/home/lar/linux-cmd/screen/regular_expressions.png\n",
      "/home/lar/linux-cmd/screen/less-cmd-output.png\n",
      "/home/lar/linux-cmd/binary.gv\n",
      "/home/lar/linux-cmd/linux-commands.ipynb\n",
      "/home/lar/linux-cmd/txt2jpg.sh\n",
      "/home/lar/linux-cmd/.fileC\n",
      "/home/lar/linux-cmd/empty-file.txt\n",
      "/home/lar/linux-cmd/folder-athit\n",
      "/home/lar/linux-cmd/myanmar-food.txt\n",
      "/home/lar/linux-cmd/tmp\n",
      "/home/lar/linux-cmd/all-vi-info.txt\n",
      "/home/lar/linux-cmd/ctest2.tag\n",
      "/home/lar/linux-cmd/folderB\n",
      "/home/lar/linux-cmd/folderB/127-135.pdf\n",
      "/home/lar/linux-cmd/folderB/fileA\n",
      "/home/lar/linux-cmd/folderB/otest\n",
      "/home/lar/linux-cmd/numbers.txt\n",
      "/home/lar/linux-cmd/linux-commands.pdf\n",
      "/home/lar/linux-cmd/process.pdf\n",
      "/home/lar/linux-cmd/fmt.out\n",
      "/home/lar/linux-cmd/fruit-orange.txt\n",
      "/home/lar/linux-cmd/echo\n",
      "/home/lar/linux-cmd/linux-commands.tex\n",
      "/home/lar/linux-cmd/linux-commands.aux\n",
      "/home/lar/linux-cmd/.ipynb_checkpoints\n",
      "/home/lar/linux-cmd/.ipynb_checkpoints/linux-commands-checkpoint.ipynb\n",
      "/home/lar/linux-cmd/my-news\n",
      "/home/lar/linux-cmd/myanmar-food.txt.bak\n",
      "/home/lar/linux-cmd/folderA\n",
      "/home/lar/linux-cmd/folderA/127-135.pdf\n",
      "/home/lar/linux-cmd/ls.out\n",
      "/home/lar/linux-cmd/myanmar-food.jpg\n",
      "/home/lar/linux-cmd/news\n",
      "/home/lar/linux-cmd/fileA\n",
      "/home/lar/linux-cmd/otest.word\n",
      "/home/lar/linux-cmd/fruit-orange.jpg\n",
      "/home/lar/linux-cmd/otest\n",
      "/home/lar/linux-cmd/sed.check\n",
      "/home/lar/linux-cmd/item-list\n",
      "/home/lar/linux-cmd/fileA.jpg\n",
      "/home/lar/linux-cmd/linux-commands.out\n",
      "/home/lar/linux-cmd/process.png\n",
      "/home/lar/linux-cmd/ctest2.word\n",
      "/home/lar/linux-cmd/hash.png\n",
      "/home/lar/linux-cmd/linux-commands.log\n",
      "/home/lar/linux-cmd/fileB\n",
      "/home/lar/linux-cmd/linux-commands.ipynb.bak\n",
      "/home/lar/linux-cmd/all-vi-info.jpg\n",
      "/home/lar/linux-cmd/random.jpg\n",
      "/home/lar/linux-cmd/wildcard\n",
      "/home/lar/linux-cmd/wildcard/graph2\n",
      "/home/lar/linux-cmd/wildcard/Graph4\n",
      "/home/lar/linux-cmd/wildcard/superman\n",
      "/home/lar/linux-cmd/wildcard/hello.txt\n",
      "/home/lar/linux-cmd/wildcard/abstract.txt\n",
      "/home/lar/linux-cmd/wildcard/graph4\n",
      "/home/lar/linux-cmd/wildcard/city\n",
      "/home/lar/linux-cmd/wildcard/Graph3\n",
      "/home/lar/linux-cmd/wildcard/maik-khe.food.txt\n",
      "/home/lar/linux-cmd/wildcard/Graph1\n",
      "/home/lar/linux-cmd/wildcard/mba.note.txt\n",
      "/home/lar/linux-cmd/wildcard/matrix\n",
      "/home/lar/linux-cmd/wildcard/ls.out\n",
      "/home/lar/linux-cmd/wildcard/graph1\n",
      "/home/lar/linux-cmd/wildcard/acknowledgements.txt\n",
      "/home/lar/linux-cmd/wildcard/m\n",
      "/home/lar/linux-cmd/wildcard/graph3\n",
      "/home/lar/linux-cmd/wildcard/.my-private-info.txt\n",
      "/home/lar/linux-cmd/wildcard/graph5\n",
      "/home/lar/linux-cmd/wildcard/conclusion.txt\n",
      "/home/lar/linux-cmd/wildcard/Graph2\n",
      "/home/lar/linux-cmd/random.txt\n",
      "/home/lar/linux-cmd/otest.tag\n",
      "/home/lar/linux-cmd/ctest2\n",
      "/home/lar/linux-cmd/fruit.txt\n",
      "/home/lar/linux-cmd/hash.gv\n",
      "/home/lar/linux-cmd/sorted-names\n",
      "/home/lar/linux-cmd/fruit.jpg\n",
      "/home/lar/linux-cmd/newfile\n"
     ]
    }
   ],
   "source": [
    "find ~/linux-cmd/ -not -name \"d*\""
   ]
  },
  {
   "cell_type": "markdown",
   "metadata": {},
   "source": [
    "အထက်ပါ ခဲ့တဲ့ \"-not\" အစား \"!\" ကိုလည်း သုံးနိုင်ပါတယ်။  \n",
    "ဥပမာ find ~/linux-cmd/ ! -name \"d*\"  \n",
    "\n",
    "\"find\" command ရဲ့ ကောင်းတဲ့အချက် နောက်တစ်ချက်က ဖိုင်တွေကိုရှာဖွေခိုင်းတဲ့ အခါမှာ search criteria တစ်မျိုးထက်မကကို ပေါင်းပြီး တခါတည်းပေးခိုင်းလို့ရတဲ့ အချက်ပါ။  \n",
    "\n",
    "အောက်ပါ ဥပမာက ဖိုင်နာမည် f နဲ့ စတာကို ရှာပေးပါ။  \n",
    "ဒါပေမဲ့ w နဲ့ စတဲ့ ဖိုင်တွေ၊ screen နဲ့ စတဲ့ ဖိုင်တွေကို မရှာပါနဲ့၊ မလိုချင်ဘူးလို့ ကန့်သတ်တာပါ။  "
   ]
  },
  {
   "cell_type": "code",
   "execution_count": 60,
   "metadata": {},
   "outputs": [
    {
     "name": "stdout",
     "output_type": "stream",
     "text": [
      "/home/lar/linux-cmd/folder-new\n",
      "/home/lar/linux-cmd/folder-new/folder-new\n",
      "/home/lar/linux-cmd/folder-athit\n",
      "/home/lar/linux-cmd/folderB\n",
      "/home/lar/linux-cmd/folderB/fileA\n",
      "/home/lar/linux-cmd/fmt.out\n",
      "/home/lar/linux-cmd/fruit-orange.txt\n",
      "/home/lar/linux-cmd/folderA\n",
      "/home/lar/linux-cmd/fileA\n",
      "/home/lar/linux-cmd/fruit-orange.jpg\n",
      "/home/lar/linux-cmd/fileA.jpg\n",
      "/home/lar/linux-cmd/fileB\n",
      "/home/lar/linux-cmd/fruit.txt\n",
      "/home/lar/linux-cmd/fruit.jpg\n"
     ]
    }
   ],
   "source": [
    "find ~/linux-cmd/ -name \"f*\" ! -name \"w*\" ! -name \"screen*\" "
   ]
  },
  {
   "cell_type": "markdown",
   "metadata": {},
   "source": [
    "ဖိုင်ကိုပဲ ရှာပေးပါ။ ဖိုလ်ဒါကိုပဲ ရှာပေးပါဆိုပြီး \"-type\" option ပေးပြီး ကန့်သတ်လို့ရပါတယ်။  \n",
    "\n",
    "-type f က file ကို ကိုယ်စားပြုပါတယ်။  \n",
    "-type d က directory ကို ကိုယ်စားပြုပါတယ်။  "
   ]
  },
  {
   "cell_type": "code",
   "execution_count": 61,
   "metadata": {},
   "outputs": [
    {
     "name": "stdout",
     "output_type": "stream",
     "text": [
      "/home/lar/linux-cmd/empty-file.txt\n",
      "/home/lar/linux-cmd/myanmar-food.txt\n",
      "/home/lar/linux-cmd/all-vi-info.txt\n",
      "/home/lar/linux-cmd/numbers.txt\n",
      "/home/lar/linux-cmd/fruit-orange.txt\n",
      "/home/lar/linux-cmd/wildcard/hello.txt\n",
      "/home/lar/linux-cmd/wildcard/abstract.txt\n",
      "/home/lar/linux-cmd/wildcard/maik-khe.food.txt\n",
      "/home/lar/linux-cmd/wildcard/mba.note.txt\n",
      "/home/lar/linux-cmd/wildcard/acknowledgements.txt\n",
      "/home/lar/linux-cmd/wildcard/.my-private-info.txt\n",
      "/home/lar/linux-cmd/wildcard/conclusion.txt\n",
      "/home/lar/linux-cmd/random.txt\n",
      "/home/lar/linux-cmd/fruit.txt\n"
     ]
    }
   ],
   "source": [
    "find ~/linux-cmd/ -type f -name \"*.txt\""
   ]
  },
  {
   "cell_type": "code",
   "execution_count": 62,
   "metadata": {},
   "outputs": [
    {
     "name": "stdout",
     "output_type": "stream",
     "text": [
      "/home/lar/linux-cmd/wildcard\n"
     ]
    }
   ],
   "source": [
    "find ~/linux-cmd/ -type d -name \"wild*\""
   ]
  },
  {
   "cell_type": "markdown",
   "metadata": {},
   "source": [
    "\"find\" command နဲ့ ဖိုင်တွေကို ရှာဖွေခိုင်းတဲ့ အခါမှာ ပုံမှန်အားဖြင့် က linux ရဲ့ အလုပ်လုပ်တဲ့ ပုံစံအတိုင်း စာလုံးအကြီးအသေးကို ခွဲပြီး အလုပ် လုပ်ပါတယ်။ အဲဒါကြောင့် ပေးလိုက်တဲ့ နာမည်က စာလုံးအသေးဆိုရင် အသေးကိုပဲ ရှာပါမည်။ တကယ်လို့ အင်္ဂလိပ်စာ စာလုံးအကြီးအသေး ကို မခွဲချင်ဘူး၊ ကြီးကြီးသေးသေး ဒီနာမည်ပါရင် ပြီးတာပဲ ဆိုတဲ့ အခြေအနေမျိုးကို လိုချင်ရင်တော့ \"-iname\" option ကို သုံးပါတယ်။  \n"
   ]
  },
  {
   "cell_type": "code",
   "execution_count": 63,
   "metadata": {},
   "outputs": [
    {
     "name": "stdout",
     "output_type": "stream",
     "text": [
      "/home/lar/linux-cmd/folderA\n"
     ]
    }
   ],
   "source": [
    "find ~/linux-cmd/ -type d -iname \"foldera\""
   ]
  },
  {
   "cell_type": "markdown",
   "metadata": {},
   "source": [
    "တစ်ခုထက်မကတဲ့ ဖိုလ်ဒါအောက်မှာ ရှာခိုင်းချင်တဲ့ အခါမှာ၊ ဝင်ရှာစေချင်တဲ့ ဖိုလ်ဒါနာမည်တွေကို ရှေ့ပိုင်းမှာ တန်းစီပြီး ရိုက်ထည့်ပေးလို့ရပါတယ်။  \n",
    "\n",
    "အောက်ပါ ဥပမာကို ကြည့်ပါ။  \n",
    "\n",
    "ဖိုလ်ဒါ ~/linux-cmd/folderA နဲ့ ဖိုလ်ဒါ ~/linux-cmd/wildcard/ အောက်မှာရှိတဲ့ ဖိုင်တွေထဲမှာမှ \"p\" ပါတဲ့ ဖိုင်နာမည်တွေကို ရှာပေးပါဆိုပြီး အမိန့်ပေးတာပါ။  "
   ]
  },
  {
   "cell_type": "code",
   "execution_count": 64,
   "metadata": {},
   "outputs": [
    {
     "name": "stdout",
     "output_type": "stream",
     "text": [
      "/home/lar/linux-cmd/folderA/127-135.pdf\n",
      "/home/lar/linux-cmd/wildcard/graph2\n",
      "/home/lar/linux-cmd/wildcard/Graph4\n",
      "/home/lar/linux-cmd/wildcard/superman\n",
      "/home/lar/linux-cmd/wildcard/graph4\n",
      "/home/lar/linux-cmd/wildcard/Graph3\n",
      "/home/lar/linux-cmd/wildcard/Graph1\n",
      "/home/lar/linux-cmd/wildcard/graph1\n",
      "/home/lar/linux-cmd/wildcard/graph3\n",
      "/home/lar/linux-cmd/wildcard/.my-private-info.txt\n",
      "/home/lar/linux-cmd/wildcard/graph5\n",
      "/home/lar/linux-cmd/wildcard/Graph2\n"
     ]
    }
   ],
   "source": [
    "find ~/linux-cmd/folderA/ ~/linux-cmd/wildcard/ -name \"*p*\""
   ]
  },
  {
   "cell_type": "markdown",
   "metadata": {},
   "source": [
    "တကယ်လို့ ရှာခိုင်းချင်တဲ့ ဖိုင်နာမည်ပုံစံ (filename pattern) က တစ်ခုထက်မက ပိုရင် \"-o\" (or option) နဲ့ တွဲပြီး ရှာခိုင်းလို့ရပါတယ်။ ဥပမာ ဒေါင်းလုပ်လုပ်ထားတဲ့ ဖိုင်တွေထဲက \".tar.gz\" နဲ့ ဆုံးတဲ့ ဖိုင်နာမည် (သို့) \"T\" စာလုံးနဲ့စပြီး \".zip\" နဲ့ ဆုံးတဲ့ဖိုင်တွေကိုပဲ ရှာပေးပါ လို့ ခိုင်းချင်ရင် အောက်ပါအတိုင်း command ပေးလို့ရပါတယ်။    "
   ]
  },
  {
   "cell_type": "code",
   "execution_count": 65,
   "metadata": {},
   "outputs": [
    {
     "name": "stdout",
     "output_type": "stream",
     "text": [
      "/home/lar/Downloads/The-Nature-of-Code-Examples.zip\n",
      "/home/lar/Downloads/leptonica-1.74.4.tar.gz\n",
      "/home/lar/Downloads/The-Nature-of-Code-master.zip\n",
      "/home/lar/Downloads/Text-Mark-up-master.zip\n",
      "/home/lar/Downloads/opencv-3.3.0.tar.gz\n"
     ]
    }
   ],
   "source": [
    "find ~/Downloads/ -type f \\( -name \"*.tar.gz\" -o -name \"T*.zip\" \\)"
   ]
  },
  {
   "cell_type": "markdown",
   "metadata": {},
   "source": [
    "ဖိုင်တွေကို ရှာဖွေတဲ့ နေရာမှာ permission option နဲ့ လည်းကန့်သတ်ပြီး ရှာဖွေနိုင်ပါတယ်။  "
   ]
  },
  {
   "cell_type": "code",
   "execution_count": 2,
   "metadata": {},
   "outputs": [
    {
     "name": "stdout",
     "output_type": "stream",
     "text": [
      "./folderB/otest\n",
      "./otest.word\n",
      "./otest\n",
      "./otest.tag\n"
     ]
    }
   ],
   "source": [
    "find -type f -perm 644"
   ]
  },
  {
   "cell_type": "markdown",
   "metadata": {},
   "source": [
    "အထက်မှာ run ပြခဲ့တဲ့ 644 ဆိုတာက၊ ဖိုင်ရဲ့ပိုင်ရှင် (owner) က ဖတ်နိုင်၊ ရေးနိုင်ပြီး၊ ဖိုင်ပိုင်ရှင်ရဲ့ အုပ်စု (group owner) ထဲမှာ ပါဝင်သူက ရေးနိုင်၊ ကျန်အသုံးပြုတဲ့ယူဇာအားလုံး (everyone) က ဖတ်နိုင်ခွင့်ရှိတဲ့ permission setting ဖြစ်နေတဲ့ ဖိုင်တွေကို ပြောတာပါ။  \n",
    "\n",
    "နောက်ထပ် \"find\" command အသုံးပြုပုံ ဥပမာအနေနဲ့ \"-user\" option ကိုသုံးပြီး၊ ဖိုင်တွေကို ရှာဖွေခိုင်းတဲ့ အခါမှာ user နာမည်နဲ့ (သို့) ဘယ်သူကပိုင်တဲ့ ဖိုင်ကို ရှာပေးပါဆိုပြီးလဲ အမိန့်ပေးလို့ရပါတယ်။"
   ]
  },
  {
   "cell_type": "code",
   "execution_count": 67,
   "metadata": {},
   "outputs": [
    {
     "name": "stdout",
     "output_type": "stream",
     "text": [
      "./hello.txt\n",
      "./abstract.txt\n",
      "./maik-khe.food.txt\n",
      "./mba.note.txt\n",
      "./acknowledgements.txt\n",
      "./.my-private-info.txt\n",
      "./conclusion.txt\n"
     ]
    }
   ],
   "source": [
    "find . -user lar -name \"*.txt\""
   ]
  },
  {
   "cell_type": "markdown",
   "metadata": {},
   "source": [
    "\"find\" command ရဲ့ \"-size\" option ကိုသုံးပြီး၊ ဖိုင်ဆိုက် အရွယ်အစားပြောပြီး ရှာဖွေခိုင်းလို့ရပါတယ်။  \n",
    "အောက်ပါ ဥပမာက လက်ရှိဖိုလ်ဒါအောက်မှာ ရှိတဲ့ ဖိုင်တွေအားလုံးထဲက 300k (300 kilobytes) ထက် ကြီးတဲ့ဖိုင်တွေကို ရှာပြီး ရိုက်ထုတ်ပြခိုင်းတာပါ။   "
   ]
  },
  {
   "cell_type": "code",
   "execution_count": 68,
   "metadata": {
    "collapsed": true
   },
   "outputs": [],
   "source": [
    "find . -type f -size +300k"
   ]
  },
  {
   "cell_type": "markdown",
   "metadata": {},
   "source": [
    "Kilobytes ယူနစ်နဲ့သာမကပဲ bytes ယူနစ်နဲ့ ရှာချင်ရင် \"c\"၊ Megabytes ယူနစ်နဲ့ ရှာချင်ရင် \"M\"၊ Gygabytes ယူနစ်နဲ့ ရှာချင်ရင် \"G\" စတာတွေကို သုံးပြီး ယူနစ်အမျိုးမျိုးနဲ့ ဖိုင်ဆိုက်ကိုပေးပြီး ရှာဖွေလို့ရပါတယ်။ အသေးစိတ်ကို လေ့လာချင်ရင်တော့ ထုံးစံအတိုင်း man find နဲ့ ရှာကြည့်ပါ။  \n",
    "\n",
    "အောက်ပါ ဥပမာက လက်ရှိဖိုလ်ဒါအောက်မှာ ရှိတဲ့ ဖိုင်တွေထဲက ဖိုင်ဆိုက် 2M ထက်ကြီးတဲ့ ဖိုင်ကို ရှာခိုင်းတာပါ။  "
   ]
  },
  {
   "cell_type": "code",
   "execution_count": 69,
   "metadata": {
    "collapsed": true
   },
   "outputs": [],
   "source": [
    "find . -type f -size +2M"
   ]
  },
  {
   "cell_type": "markdown",
   "metadata": {},
   "source": [
    "အထက်မှာ သုံးပြခဲ့တဲ့ \"+300k\", \"+2M\" မှာ \"+\" သင်္ကေတ ပါနေတာကို သတိပြုမိမယ်လို့ ထင်ပါတယ်။ ဆန့်ကျင်ဘက်အနေနဲ့ \"-\" (Minux) သင်္ကေတကိုသုံးပြီး ဥပမာ \"-2M\" လိုပေးခဲ့ရင်၊ ဖိုင်ဆိုက် 2 Megabytes ထက် ငယ်တဲ့ ဖိုင်တွေကို ရှာပေးပါလို့ ဆိုလိုပြောတာပါ။  \n",
    "ဒါ့အပြင်၊ \"+\" သင်္ကေတရော၊ \"-\" သင်္ကေတရော နှစ်မျိုးစလုံးကိုသုံးပြီး၊ ဘယ်ဆိုက်ကနေ ဘယ်ဆိုက်ကြားမှာရှိတဲ့ ဖိုင်တွေကို ရှာပေးပါဆိုပြီး လုပ်ခိုင်းလို့ ရပါတယ်။ အောက်ပါ ဥပမာက ဖိုင်ဆိုက် 300k နဲ့ 400k ကြားမှာရှိတဲ့ ဖိုင်နာမည်တွေကို ရိုက်ထုတ်ခိုင်းတာဖြစ်ပါတယ်။  "
   ]
  },
  {
   "cell_type": "code",
   "execution_count": 70,
   "metadata": {
    "collapsed": true
   },
   "outputs": [],
   "source": [
    "find . -type f -size +300k -size -400k"
   ]
  },
  {
   "cell_type": "markdown",
   "metadata": {},
   "source": [
    "\"find\" command ရဲ့ နောက်ထပ် အသုံးဝင်တဲ့ option တစ်ခုကတော့ \"-mtime\" ပါ။  \n",
    "အောက်ပါ -mtime -2 (minus two) ဥပမာက လွန်ခဲ့တဲ့ ၂ရက်အတွင်းမှာ နောက်ဆုံးပြင်ခဲ့တဲ့ ဖိုင်နာမည်တွေကို ရိုက်ထုတ်ခိုင်းတာပါ။"
   ]
  },
  {
   "cell_type": "code",
   "execution_count": 71,
   "metadata": {},
   "outputs": [
    {
     "name": "stdout",
     "output_type": "stream",
     "text": [
      "./city\n",
      "./ls.out\n"
     ]
    }
   ],
   "source": [
    "find . -mtime -2"
   ]
  },
  {
   "cell_type": "markdown",
   "metadata": {},
   "source": [
    "တကယ်လို အထက်ပါ find command မှာ minus သင်္ကေတကို မသုံးပဲ၊ plus သင်္ကေတကိုသုံးပြီး၊ ဥပမာ +50 ဆိုပြီး ပေးခဲ့ရင်တော့၊ လွန်ခဲ့တဲ့ ရက် ၅၀အတွင်း ဘာမှပြင်ဆင်တာမျိုး (modifyလုပ်တာ) မလုပ်ခဲ့တဲ့ ဖိုင်တွေကို ရှာခိုင်းတာပါ။  \n",
    "\n",
    "တခါတလေမှာ ကျွန်တော်အပါအဝင်ပါ။ ကွန်ပျူတာသမားတွေဖြစ်တတ်ကြပါတယ်။  \n",
    "ခုနလေးတင် ဖွင့်ဖတ်ကြည့်လိုက်သေးတယ်။ အဲဒီဖိုင်နာမည်ကို မေ့သွားတယ်။ အဲဒီလိုအခါမျိုးမှာ \"find\" command ရဲ့ \"-amin\" option က အလွန်ကို အသုံးဝင်ပါတယ်။  \n",
    "\n",
    "အောက်ပါ ဥပမာက လွန်ခဲ့တဲ့ ၅မိနစ်က နောက်ဆုံး access လုပ်ခဲ့တဲ့ .txt နဲ့ဆုံးတဲ့ဖိုင်ကို ရှာခိုင်းတာပါ။  "
   ]
  },
  {
   "cell_type": "code",
   "execution_count": 72,
   "metadata": {
    "collapsed": true
   },
   "outputs": [],
   "source": [
    "find -amin 5 -name \"*.txt\""
   ]
  },
  {
   "cell_type": "markdown",
   "metadata": {},
   "source": [
    "နောက်ထပ် အသုံးဝင်တဲ့ option တစ်ခုကတော့ ဖိုင်တစ်ဖိုင်ကိုပေးပြီး အဲဒီဖိုင်ထက် ပိုအသစ်ဖြစ်တဲ့၊ ဆိုလိုတာက ပေးလိုက်တဲ့ဖိုင်ထက် နောက်ကျပြီး ပြင်တာဆင်တာ (modify) လုပ်ထားတဲ့ ဖိုင်တွေကို ရှာခိုင်းတဲ့အခါသုံးတဲ့ \"-newer\" ဆိုတဲ့ option ပါ။  \n",
    "\n",
    "အောက်ပါ ဥပမာက fileA ထက် နောက်ကျပြီး modify လုပ်ထားတဲ့ text ဖိုင်တွေကို ရှာခိုင်းတာပါ။  "
   ]
  },
  {
   "cell_type": "code",
   "execution_count": 73,
   "metadata": {},
   "outputs": [
    {
     "name": "stdout",
     "output_type": "stream",
     "text": [
      "find: ‘./fileA’: No such file or directory\n"
     ]
    },
    {
     "ename": "",
     "evalue": "1",
     "output_type": "error",
     "traceback": []
    }
   ],
   "source": [
    "find . -newer ./fileA -name \"*.txt\""
   ]
  },
  {
   "cell_type": "markdown",
   "metadata": {},
   "source": [
    "ဆက်လက်ပြီးတော့ \"-empty\" ဆိုတဲ့ option ကိုလည်း လေ့လာကြရအောင်။  \n",
    "သူကတော့ သူ့ရဲ့နာမည်အတိုင်းပါပဲ။ empty ဖြစ်တဲ့ ဖိုင်တွေ၊ ဖိုလ်ဒါတွေကို ရှာပေးတဲ့ option ပါ။\n",
    "\n",
    "အောက်ပါ find command ဥပမာကို ကြည့်ပါ။  \n",
    "လက်ရှိ ဖိုလ်ဒါအောက်၊ သူ့ရဲ့ ဆဗ်ဖိုလ်ဒါအောက်မှာ ရှိနေတဲ့ ဖိုင်အလွတ်တွေ၊ ဖိုလ်ဒါအလွတ်တွေကို ရှာခိုင်းတဲ့ ဥပမာပါ။"
   ]
  },
  {
   "cell_type": "code",
   "execution_count": 74,
   "metadata": {},
   "outputs": [
    {
     "name": "stdout",
     "output_type": "stream",
     "text": [
      "./graph2\n",
      "./Graph4\n",
      "./superman\n",
      "./abstract.txt\n",
      "./graph4\n",
      "./Graph3\n",
      "./maik-khe.food.txt\n",
      "./Graph1\n",
      "./mba.note.txt\n",
      "./matrix\n",
      "./graph1\n",
      "./acknowledgements.txt\n",
      "./m\n",
      "./graph3\n",
      "./.my-private-info.txt\n",
      "./graph5\n",
      "./conclusion.txt\n",
      "./Graph2\n"
     ]
    }
   ],
   "source": [
    "find . -empty"
   ]
  },
  {
   "cell_type": "markdown",
   "metadata": {},
   "source": [
    "## 27. grep (Global Regular Expression Print)\n",
    "\n",
    "grep command က standard input ကနေပေးလိုက်တဲ့ စာကြောင်း (သို့) ဖိုင်တွေထဲမှာ user က ရှာခိုင်းတဲ့ စာလုံး၊ စာကြောင်း၊ Regular Expression pattern တွေကို ရှာဖွေပေးတဲ့ ပရိုဂရမ်ပါ။ string pattern တွေကို ရှာဖွေတဲ့ နေရာမှာ မြန်ဆန်တဲ့ [Boyer-Moore algorithm](https://en.wikipedia.org/wiki/Boyer%E2%80%93Moore_string_search_algorithm) ကိုအသုံးပြုထားပါတယ်။  \n",
    "\n",
    "linux system မှာ register လုပ်ထားတဲ့ user အားလုံးရဲ့ user name, encrypted password, user ID number (UID), user's group ID number (GID), full name of the user (GECOS), user home directory, login shell တွေကို သိမ်းထားတဲ့ passwd ဆိုတဲ့နာမည်နဲ့ ဖိုင်ရှိပါတယ်။ အဲဒီဖိုင်ထဲမှာ guest ဆိုတဲ့ user name နဲ့ ပတ်သတ်တဲ့ အချက်အလက်ကို ရှာဖွေကြည့်ကြရအောင်။  "
   ]
  },
  {
   "cell_type": "code",
   "execution_count": 75,
   "metadata": {},
   "outputs": [
    {
     "name": "stdout",
     "output_type": "stream",
     "text": [
      "\u001b[01;31m\u001b[Kguest\u001b[m\u001b[K-a6syh9:x:999:999:Guest:/tmp/\u001b[01;31m\u001b[Kguest\u001b[m\u001b[K-a6syh9:/bin/bash\n",
      "\u001b[01;31m\u001b[Kguest\u001b[m\u001b[K:x:1001:1001:Guest User,,,:/home/\u001b[01;31m\u001b[Kguest\u001b[m\u001b[K:/bin/bash\n"
     ]
    }
   ],
   "source": [
    "grep guest /etc/passwd"
   ]
  },
  {
   "cell_type": "markdown",
   "metadata": {},
   "source": [
    "grep command က ရှာခိုင်းတဲ့ စာလုံးတွေ၊ RE pattern တွေကို ရှာလို့တွေ့ရင် အဲဒီစာလုံးတွေကို အရောင်နဲ့ highlight လုပ်ပြီး ပြပေးပါတယ်။  \n",
    "\n",
    "စာလုံးအကြီး၊ အသေး မခွဲခြားပဲ ရှာပေးပါဆိုရင် -i option ကို သုံးပါတယ်။  "
   ]
  },
  {
   "cell_type": "code",
   "execution_count": 76,
   "metadata": {},
   "outputs": [
    {
     "name": "stdout",
     "output_type": "stream",
     "text": [
      "\u001b[01;31m\u001b[Kguest\u001b[m\u001b[K-a6syh9:x:999:999:\u001b[01;31m\u001b[KGuest\u001b[m\u001b[K:/tmp/\u001b[01;31m\u001b[Kguest\u001b[m\u001b[K-a6syh9:/bin/bash\n",
      "\u001b[01;31m\u001b[Kguest\u001b[m\u001b[K:x:1001:1001:\u001b[01;31m\u001b[KGuest\u001b[m\u001b[K User,,,:/home/\u001b[01;31m\u001b[Kguest\u001b[m\u001b[K:/bin/bash\n"
     ]
    }
   ],
   "source": [
    "grep -i guest /etc/passwd"
   ]
  },
  {
   "cell_type": "code",
   "execution_count": 77,
   "metadata": {},
   "outputs": [
    {
     "name": "stdout",
     "output_type": "stream",
     "text": [
      "grep: fileA: No such file or directory\n"
     ]
    },
    {
     "ename": "",
     "evalue": "2",
     "output_type": "error",
     "traceback": []
    }
   ],
   "source": [
    "grep -w \"blood\" fileA "
   ]
  },
  {
   "cell_type": "code",
   "execution_count": 78,
   "metadata": {},
   "outputs": [
    {
     "ename": "",
     "evalue": "1",
     "output_type": "error",
     "traceback": []
    }
   ],
   "source": [
    "grep \"report\" *.txt"
   ]
  },
  {
   "cell_type": "markdown",
   "metadata": {},
   "source": [
    "-c option နဲ့ ဘယ်နှစ်ခါ ရှာတွေ့သလဲ ဆိုတာကို အောက်ပါအတိုင်း ရေတွက်ခိုင်းလို့ရပါတယ်။  "
   ]
  },
  {
   "cell_type": "code",
   "execution_count": 79,
   "metadata": {},
   "outputs": [
    {
     "name": "stdout",
     "output_type": "stream",
     "text": [
      "\u001b[35m\u001b[Kabstract.txt\u001b[m\u001b[K\u001b[36m\u001b[K:\u001b[m\u001b[K0\n",
      "\u001b[35m\u001b[Kacknowledgements.txt\u001b[m\u001b[K\u001b[36m\u001b[K:\u001b[m\u001b[K0\n",
      "\u001b[35m\u001b[Kconclusion.txt\u001b[m\u001b[K\u001b[36m\u001b[K:\u001b[m\u001b[K0\n",
      "\u001b[35m\u001b[Khello.txt\u001b[m\u001b[K\u001b[36m\u001b[K:\u001b[m\u001b[K0\n",
      "\u001b[35m\u001b[Kmaik-khe.food.txt\u001b[m\u001b[K\u001b[36m\u001b[K:\u001b[m\u001b[K0\n",
      "\u001b[35m\u001b[Kmba.note.txt\u001b[m\u001b[K\u001b[36m\u001b[K:\u001b[m\u001b[K0\n"
     ]
    },
    {
     "ename": "",
     "evalue": "1",
     "output_type": "error",
     "traceback": []
    }
   ],
   "source": [
    "grep -c \"report\" *.txt"
   ]
  },
  {
   "cell_type": "markdown",
   "metadata": {},
   "source": [
    "-H option နဲ့ဆို ရှာခိုင်းခဲ့တဲ့စာလုံး၊ RE pattern တွေကို ရှာဖွေလို့တွေ့ရှိတဲ့ဖိုင်ရဲ့နာမည်ကိုပါ ရိုက်ပြပေးပါလိမ့်မယ်။  "
   ]
  },
  {
   "cell_type": "code",
   "execution_count": 80,
   "metadata": {},
   "outputs": [
    {
     "ename": "",
     "evalue": "1",
     "output_type": "error",
     "traceback": []
    }
   ],
   "source": [
    "grep -H \"report\" *.txt"
   ]
  },
  {
   "cell_type": "markdown",
   "metadata": {},
   "source": [
    "ဘယ်နှစ်ကြောင်းမြောက်မှာ ရှာတွေ့တယ် ဆိုတာကို နံပါတ် (line number) နဲ့ ရိုက်ထုတ်ပြခိုင်းချင်ရင် \"-n\" option ကို သုံးပါတယ်။  "
   ]
  },
  {
   "cell_type": "code",
   "execution_count": 81,
   "metadata": {},
   "outputs": [
    {
     "ename": "",
     "evalue": "1",
     "output_type": "error",
     "traceback": []
    }
   ],
   "source": [
    "grep -in report *.txt"
   ]
  },
  {
   "cell_type": "markdown",
   "metadata": {},
   "source": [
    "grep ကပုံမှန်အားဖြင့် ရှာတွေ့တဲ့ စာလုံး၊ ကိုက်ညီတဲ့ RE pattern တွေကို အနီရောင်နဲ့ highlight လုပ်ပြီး ပြပေးပါတယ်။ အရောင်ပြောင်းချင်ရင်တော့ grep command ရဲ့ ရှေ့မှာ GREP_COLOR variable တစ်ခုဆောက်ပြီး ကိုယ်ကြိုက်တဲ့ အရောင်နဲ့ ရိုက်ခိုင်းလို့ရပါတယ်။ အရောင်ပြောင်းရိုက်ခိုင်းကြည့်ရအောင်။  "
   ]
  },
  {
   "cell_type": "code",
   "execution_count": 9,
   "metadata": {},
   "outputs": [
    {
     "name": "stdout",
     "output_type": "stream",
     "text": [
      "\u001b[35m\u001b[Kall-vi-info.txt\u001b[m\u001b[K\u001b[36m\u001b[K:\u001b[m\u001b[K\u001b[32m\u001b[K259\u001b[m\u001b[K\u001b[36m\u001b[K:\u001b[m\u001b[K       /usr/share/vim/vim74/bug\u001b[01;35m\u001b[Kreport\u001b[m\u001b[K.vim\n",
      "\u001b[35m\u001b[Kall-vi-info.txt\u001b[m\u001b[K\u001b[36m\u001b[K:\u001b[m\u001b[K\u001b[32m\u001b[K260\u001b[m\u001b[K\u001b[36m\u001b[K:\u001b[m\u001b[K                      Script to generate a bug \u001b[01;35m\u001b[Kreport\u001b[m\u001b[K.  See \":help bugs\".\n"
     ]
    }
   ],
   "source": [
    "GREP_COLOR='01;35' grep -in report *.txt"
   ]
  },
  {
   "cell_type": "markdown",
   "metadata": {},
   "source": [
    "\"-B\" option နဲ့ ရှာလို့တွေတဲ့ စာကြောင်းရဲ့ အထက်မှာရှိတဲ့ ဘယ်နှစ်ကြောင်းကိုလည်း တွဲပြီးရိုက်ပြပေးပါ ဆိုပြီး ခိုင်းလို့ရပါတယ်။ တချို့အလုပ်တွေမှာက ရှာဖွေလို့တွေ့တဲ့ စာကြောင်းတစ်ကြောင်းထဲကို ပြပေးတာထက် သူ့အထက်က စာကြောင်း၊ သူ့အောက်က စာကြောင်းတွေနဲ့ပါတွဲပြီး ကြည့်မှ အဆင်ပြေတဲ့ အခါမျိုး ရှိတတ်လို့ပါ။  \n",
    "\n",
    "အောက်ပါ ဥပမာက -B 2 option နဲ့ ရှာတွေ့တဲ့ စာကြောင်းရဲ့ အထက် နှစ်ကြောင်းကိုပါ အတူတူရိုက်ပြပေးပါလို့ option ပေးတာပါ။  "
   ]
  },
  {
   "cell_type": "code",
   "execution_count": 8,
   "metadata": {},
   "outputs": [
    {
     "name": "stdout",
     "output_type": "stream",
     "text": [
      "I am fileA.\n",
      "I was born in April.\n",
      "My \u001b[01;31m\u001b[Kblood\u001b[m\u001b[K type is O.\n"
     ]
    }
   ],
   "source": [
    "grep -B 2 \"blood\" fileA"
   ]
  },
  {
   "cell_type": "markdown",
   "metadata": {},
   "source": [
    "\"-A\" option နဲ့ grep ပရိုဂရမ်ကို ရှာခိုင်းလို့သွားတွေ့တဲ့ စာကြောင်းရဲ့ အောက်ဘက် ဘယ်နှစ်ကြောင်းရိုက်ပြပေးပါဆိုပြီးလဲ လုပ်ခိုင်းလို့ရပါတယ်။  \n",
    "\n",
    "အောက်ပါ ဥပမာက -A 3 option နဲ့ သွားတွေ့တဲ့ စာကြောင်းသာမက သူ့ရဲ့ အောက်ဖက်က စာကြောင်း သုံးကြောင်းကိုပါ တွဲရိုက်ပြပေးပါဆိုပြီး အမိန့်ပေးတာပါ။  "
   ]
  },
  {
   "cell_type": "code",
   "execution_count": 6,
   "metadata": {},
   "outputs": [
    {
     "name": "stdout",
     "output_type": "stream",
     "text": [
      "\u001b[01;31m\u001b[KHi\u001b[m\u001b[K!\n",
      "I am fileB.\n",
      "I was born in November.\n",
      "My blood type is O.\n"
     ]
    }
   ],
   "source": [
    "grep -A 3 \"Hi\" fileB"
   ]
  },
  {
   "cell_type": "markdown",
   "metadata": {},
   "source": [
    "တခြား linux command တွေလိုပါပဲ။ grep မှာလည်း option တွေကို တခုထက်မက တွဲပြီး အလုပ်လုပ်ခိုင်းလို့ရပါတယ်။ \"-B\" နဲ့ \"-A\" ကိုတွဲပြီး run ကြည့်ရအောင်။   "
   ]
  },
  {
   "cell_type": "code",
   "execution_count": 5,
   "metadata": {},
   "outputs": [
    {
     "name": "stdout",
     "output_type": "stream",
     "text": [
      "I am fileB.\n",
      "I was born in \u001b[01;31m\u001b[KNovember\u001b[m\u001b[K.\n",
      "My blood type is O.\n"
     ]
    }
   ],
   "source": [
    "grep -B 1 -A 1 \"November\" fileB"
   ]
  },
  {
   "cell_type": "markdown",
   "metadata": {},
   "source": [
    "\"-B\" နဲ့ \"-A\" option နှစ်ခုအစား \"-C\" option ကိုလည်း သုံးရင်လည်း အလုပ် အတူတူလုပ်ပေးပါလိမ့်မယ်။ အောက်ပါ ဥပမာကို ကြည့်ပါ။   "
   ]
  },
  {
   "cell_type": "code",
   "execution_count": 7,
   "metadata": {},
   "outputs": [
    {
     "name": "stdout",
     "output_type": "stream",
     "text": [
      "I am fileB.\n",
      "I was born in \u001b[01;31m\u001b[KNovember\u001b[m\u001b[K.\n",
      "My blood type is O.\n"
     ]
    }
   ],
   "source": [
    "grep -C 1 \"November\" fileB"
   ]
  },
  {
   "cell_type": "markdown",
   "metadata": {},
   "source": [
    "\"-o\" option နဲ့ ရှာခိုင်းလို့ သွားတွေ့တဲ့စာကြောင်း တစ်ကြောင်းလုံးကို ရိုက်မပြစေချင်ပဲ၊ တွေ့တဲ့စာလုံးကိုပဲ သီးသန့်ရိုက်ထုတ်ပါ ဆိုပြီးလဲ ခိုင်းလို့ရပါတယ်။ အောက်ပါ ဥပမာက လက်ရှိဖိုလ်ဒါအောက်မှာ ရှိတဲ့ .txt နဲ့ ဆုံးတဲ့ ဖိုင်တွေထဲမှာ \"This\" ဆိုတဲ့ စာလုံးကို ဘယ်နှစ်ခါသုံးထားသလဲဆိုတာကို သိချင်တဲ့ အခါမျိုးမှာ အသုံးပြုပါတယ်။  "
   ]
  },
  {
   "cell_type": "code",
   "execution_count": 4,
   "metadata": {},
   "outputs": [
    {
     "name": "stdout",
     "output_type": "stream",
     "text": [
      "\u001b[35m\u001b[Kall-vi-info.txt\u001b[m\u001b[K\u001b[36m\u001b[K:\u001b[m\u001b[K\u001b[01;31m\u001b[KThis\u001b[m\u001b[K\n",
      "\u001b[35m\u001b[Kall-vi-info.txt\u001b[m\u001b[K\u001b[36m\u001b[K:\u001b[m\u001b[K\u001b[01;31m\u001b[KThis\u001b[m\u001b[K\n",
      "\u001b[35m\u001b[Kall-vi-info.txt\u001b[m\u001b[K\u001b[36m\u001b[K:\u001b[m\u001b[K\u001b[01;31m\u001b[KThis\u001b[m\u001b[K\n",
      "\u001b[35m\u001b[Kall-vi-info.txt\u001b[m\u001b[K\u001b[36m\u001b[K:\u001b[m\u001b[K\u001b[01;31m\u001b[KThis\u001b[m\u001b[K\n",
      "\u001b[35m\u001b[Kall-vi-info.txt\u001b[m\u001b[K\u001b[36m\u001b[K:\u001b[m\u001b[K\u001b[01;31m\u001b[KThis\u001b[m\u001b[K\n",
      "\u001b[35m\u001b[Kall-vi-info.txt\u001b[m\u001b[K\u001b[36m\u001b[K:\u001b[m\u001b[K\u001b[01;31m\u001b[KThis\u001b[m\u001b[K\n",
      "\u001b[35m\u001b[Kall-vi-info.txt\u001b[m\u001b[K\u001b[36m\u001b[K:\u001b[m\u001b[K\u001b[01;31m\u001b[KThis\u001b[m\u001b[K\n",
      "\u001b[35m\u001b[Kall-vi-info.txt\u001b[m\u001b[K\u001b[36m\u001b[K:\u001b[m\u001b[K\u001b[01;31m\u001b[KThis\u001b[m\u001b[K\n",
      "\u001b[35m\u001b[Kall-vi-info.txt\u001b[m\u001b[K\u001b[36m\u001b[K:\u001b[m\u001b[K\u001b[01;31m\u001b[KThis\u001b[m\u001b[K\n"
     ]
    }
   ],
   "source": [
    "grep -o \"This\" *.txt"
   ]
  },
  {
   "cell_type": "markdown",
   "metadata": {},
   "source": [
    "ကျွန်တော်တို့ အရေအတွက် ဘယ်လောက်ရှိသလဲဆိုတာကို အထက်မှာ သင်ပေးခဲ့တဲ့ wc command ကို pipe နဲ့ ပို့ပေးပြီး ရေတွက်ခိုင်းလို့ရတယ်လေ။"
   ]
  },
  {
   "cell_type": "code",
   "execution_count": 3,
   "metadata": {},
   "outputs": [
    {
     "name": "stdout",
     "output_type": "stream",
     "text": [
      "      9       9     189\n"
     ]
    }
   ],
   "source": [
    "grep -o \"This\" *.txt | wc"
   ]
  },
  {
   "cell_type": "markdown",
   "metadata": {},
   "source": [
    "## 28. egrep (Extended grep)\n",
    "\n",
    "egrep က grep command ကို -E option နဲ့တွဲသုံးတာနဲ့ အတူတူပါပဲ။ ပေးလိုက်တဲ့ pattern ကို Extended Regular Expression Set အနေနဲ့ ဖတ်ပြီးအလုပ်လုပ်ပေးပါတယ်။  \n",
    "\n",
    "ဥပမာ grep command ကို အောက်ပါအတိုင်း blood စာလုံး (သို့) Hi ဆိုတဲ့ စာလုံးကို ရှာပေးပါလို့ ခိုင်းရင် အလုပ်မလုပ်ပေးတာကို တွေ့ရပါလိမ့်မယ်။ ဘာ့ကြောင့်လဲ ဆိုတော့ blood|Hi ကို စာလုံးတစ်လုံးလို ဖတ်ပြီး ရှာပေးလို့ပါ။ "
   ]
  },
  {
   "cell_type": "code",
   "execution_count": 89,
   "metadata": {},
   "outputs": [
    {
     "name": "stdout",
     "output_type": "stream",
     "text": [
      "grep: fileA: No such file or directory\n",
      "grep: fileB: No such file or directory\n"
     ]
    },
    {
     "ename": "",
     "evalue": "2",
     "output_type": "error",
     "traceback": []
    }
   ],
   "source": [
    "grep -w 'blood|Hi' fileA fileB"
   ]
  },
  {
   "cell_type": "markdown",
   "metadata": {},
   "source": [
    "egrep command ကတော့ \"|\" ကို \"or\" လို့ နားလည်ပေးပါတယ်။ RE အနေနဲ့ ဖတ်ပြီး အလုပ်လုပ်ပေးပါတယ်။ "
   ]
  },
  {
   "cell_type": "code",
   "execution_count": 11,
   "metadata": {},
   "outputs": [
    {
     "name": "stdout",
     "output_type": "stream",
     "text": [
      "\u001b[35m\u001b[KfileA\u001b[m\u001b[K\u001b[36m\u001b[K:\u001b[m\u001b[KMy \u001b[01;31m\u001b[Kblood\u001b[m\u001b[K type is O.\n",
      "\u001b[35m\u001b[KfileB\u001b[m\u001b[K\u001b[36m\u001b[K:\u001b[m\u001b[K\u001b[01;31m\u001b[KHi\u001b[m\u001b[K!\n",
      "\u001b[35m\u001b[KfileB\u001b[m\u001b[K\u001b[36m\u001b[K:\u001b[m\u001b[KMy \u001b[01;31m\u001b[Kblood\u001b[m\u001b[K type is O.\n"
     ]
    }
   ],
   "source": [
    "egrep -w 'blood|Hi' fileA fileB"
   ]
  },
  {
   "cell_type": "markdown",
   "metadata": {},
   "source": [
    "အထက်ပါ အလုပ်ကို အောက်ပါအတိုင်း grep command ကို \"-E\" နဲ့ option နဲ့ တွဲပြီး လုပ်ခိုင်းလို့ရပါတယ်။ ရလဒ်က အတူတူပဲ ဖြစ်ပါလိမ့်မယ်။"
   ]
  },
  {
   "cell_type": "code",
   "execution_count": 10,
   "metadata": {},
   "outputs": [
    {
     "name": "stdout",
     "output_type": "stream",
     "text": [
      "\u001b[35m\u001b[KfileA\u001b[m\u001b[K\u001b[36m\u001b[K:\u001b[m\u001b[KMy \u001b[01;31m\u001b[Kblood\u001b[m\u001b[K type is O.\n",
      "\u001b[35m\u001b[KfileB\u001b[m\u001b[K\u001b[36m\u001b[K:\u001b[m\u001b[K\u001b[01;31m\u001b[KHi\u001b[m\u001b[K!\n",
      "\u001b[35m\u001b[KfileB\u001b[m\u001b[K\u001b[36m\u001b[K:\u001b[m\u001b[KMy \u001b[01;31m\u001b[Kblood\u001b[m\u001b[K type is O.\n"
     ]
    }
   ],
   "source": [
    "grep -E -w 'blood|Hi' fileA fileB"
   ]
  },
  {
   "cell_type": "markdown",
   "metadata": {},
   "source": [
    "ဘာဖြစ်လို့ ဒီလို grep \"-E\" နဲ့ လုပ်လို့ရရဲ့သားနဲ့ egrep ဆိုပြီး ပရိုဂရမ်သပ်သပ်ရှိနေရတာလဲဆိုရင် ဟိုးအရင်က grep နဲ့ egrep ဆိုပြီး ပရိုဂရမ်သပ်သပ်စီ ရှိနေခဲ့ကြလို့ပါ။ နောက်ပိုင်းကြမှ grep မှာ egrep လိုမျိုးအလုပ်လုပ်လို့ရအောင် \"-E\" option ဆိုပြီး ထပ်ထည့်တာမို့လို့ပါ။ "
   ]
  },
  {
   "cell_type": "markdown",
   "metadata": {},
   "source": [
    "RE pattern တွေနဲ့ ရှာတာဖွေတာလုပ်မယ် ဆိုရင် egrep (သို့) grep \"-E\" နှစ်မျိုးစလုံးနဲ့ အသုံးပြုနိုင်ပါတယ်။  \n",
    "\n",
    "လက်တွေ့ RE pattern တစ်ခုဖြစ်တဲ့ \"rep.\\*t\" ကို သုံးကြည့်ရအောင်။"
   ]
  },
  {
   "cell_type": "code",
   "execution_count": 92,
   "metadata": {},
   "outputs": [
    {
     "ename": "",
     "evalue": "1",
     "output_type": "error",
     "traceback": []
    }
   ],
   "source": [
    "egrep 'rep.*t' *.txt"
   ]
  },
  {
   "cell_type": "markdown",
   "metadata": {},
   "source": [
    "## 29. sed (stream editor for filtering and transforming text)\n",
    "\n",
    "Raw text ဖိုင်ထဲမှာရှိတဲ့ စာသားတွေကို အပြောင်းအလဲလုပ်ဖို့အတွက်ဆိုရင် \"sed\" command က အသုံးဝင်ပါတယ်။ တကယ့်ကို powerful ဖြစ်တဲ့ tool တစ်ခုလည်းဖြစ်ပါတယ်။ ၁၉၇၃ ကနေ ၁၉၇၄ အတွင်းမှာ နာမည်ကြီးတဲ့ အမေရိကန်နိုင်ငံ Bell Lab က computer scientist တစ်ယောက်ဖြစ်တဲ့ Lee E. McMahon က develop လုပ်ခဲ့တာဖြစ်ပါတယ်။   \n",
    "\n",
    "\"sed\" program မှာ command တွေအများကြီးရှိပါတယ်။ နားလည်ရလွယ်အောင် command လို့သုံးထားပေမဲ့၊ အမှန်တကယ်က compact ဖြစ်တဲ့ programming language တစ်မျိုးပါပဲ။ ဒီ tutorial မှာတော့ လက်တွေ့အလုပ်တွေမှာအသုံးများတဲ့ သုံးပုံသုံးနည်း တချို့ကို မိတ်ဆက်ပါမယ်။ ကျွန်တော်အသုံးများတာကတော့ ဖိုင်ထဲမှာ ရှိနေတဲ့ စာလုံးတွေကို တခြားစာလုံးနဲ့ အစားထိုးတဲ့အခါမှာသုံးတဲ့ substitute command ပါ။ အတိုကောက် အနေနဲ့ \"s\" ပါ။ RE မှာ အသုံးပြုသလို slash သုံးခုပုံစံ (s/ရှိနေတဲ့စာလုံး/အစားထိုးမဲ့စာလုံး/) ပါပဲ။  \n",
    "\n",
    "ဥပမာ fruit.txt ဖိုင်ထဲမှာရှိနေတာက mango ဆိုပါစို့။ mango ကို orange နဲ့ အစားထိုးမယ်ဆိုရင် အောက်ပါအတိုင်း \"sed\" command ပေးခိုင်းလို့ရပါတယ်။\n",
    "\n",
    "အရင်ဆုံး fruit.txt ဖိုင်ထဲမှာ ဘာတွေရှိသလဲဆိုတာကို \"cat\" command နဲ့ ကြည့်ရအောင်"
   ]
  },
  {
   "cell_type": "code",
   "execution_count": 1,
   "metadata": {
    "scrolled": false
   },
   "outputs": [
    {
     "name": "stdout",
     "output_type": "stream",
     "text": [
      "I love mango.\n",
      "I ate two mango.\n",
      "mango is mango.\n"
     ]
    }
   ],
   "source": [
    "cat ./fruit.txt"
   ]
  },
  {
   "cell_type": "markdown",
   "metadata": {},
   "source": [
    "s/mango/orange/ နဲ့ fruit.txt ဖိုင် ထဲက mango တွေကို orange နဲ့အစားထိုးပြီး fruit-orange.txt ဖိုင်ထဲမှာ သိမ်းပါမယ်။"
   ]
  },
  {
   "cell_type": "code",
   "execution_count": 2,
   "metadata": {
    "collapsed": true
   },
   "outputs": [],
   "source": [
    "sed s/mango/orange/ fruit.txt > fruit-orange.txt"
   ]
  },
  {
   "cell_type": "markdown",
   "metadata": {},
   "source": [
    "fruit-orange.txt ဖိုင်ထဲမှာ ဘယ်လိုပြောင်းလဲသွားသလဲ ဆိုတာကို ကြည့်ရအောင်။ "
   ]
  },
  {
   "cell_type": "code",
   "execution_count": 3,
   "metadata": {
    "scrolled": true
   },
   "outputs": [
    {
     "name": "stdout",
     "output_type": "stream",
     "text": [
      "I love orange.\n",
      "I ate two orange.\n",
      "orange is mango.\n"
     ]
    }
   ],
   "source": [
    "cat fruit-orange.txt"
   ]
  },
  {
   "cell_type": "markdown",
   "metadata": {},
   "source": [
    "အထက်ပါ output ကိုကြည့်ပြီးနောက်ဆုံးစာကြောင်းက ဒုတိယmango ကို orange အဖြစ်ပြောင်းမပေးတာကို သတိထားမိမယ်လို့ထင်ပါတယ်။ အဲဒါက substitute လုပ်ခိုင်းတဲ့ အခါမှာ g (global) ဆိုတဲ့ parameter ကိုမပေးခဲ့လို့ပါ။ တကယ်လို့ ကျွန်တော်တို့က \"g\" parameter ကိုသာပေးခဲ့မယ်ဆိုရင် စာကြောင်းတစ်ကြောင်းမှာ ပထမဆုံးတွေတဲ့ mango ကို orange နဲ့ အစားထိုးပြီး ရပ်မသွားပဲ၊ နောက်ထပ် ထပ်တွေ့တဲ့ ဒုတိယ mango ကိုလည်း orange နဲ့ အစားထိုးပေးပါလိမ့်မယ်။ s/orange/mango/g နဲ့ run ကြည့်ရအောင်။  "
   ]
  },
  {
   "cell_type": "code",
   "execution_count": 12,
   "metadata": {},
   "outputs": [],
   "source": [
    "sed s/mango/orange/g fruit.txt > fruit-orange.txt"
   ]
  },
  {
   "cell_type": "code",
   "execution_count": 13,
   "metadata": {},
   "outputs": [
    {
     "name": "stdout",
     "output_type": "stream",
     "text": [
      "I love orange.\n",
      "I ate two orange.\n",
      "orange is orange.\n"
     ]
    }
   ],
   "source": [
    "cat ./fruit-orange.txt"
   ]
  },
  {
   "cell_type": "markdown",
   "metadata": {},
   "source": [
    "အခုဆိုရင် mango အားလုံးကို orange အဖြစ် ပြောင်းပေးသွားတာတွေ့ရပါမယ်။"
   ]
  },
  {
   "cell_type": "markdown",
   "metadata": {},
   "source": [
    "ပုံမှန်အားဖြင့် စာလုံးတစ်လုံးကို အခြားစာလုံးတစ်လုံးနဲ့ အစားထိုးတဲ့အခါမှာ s ကိုရိုက်ပြီး slash (/) သုံးခုနဲ့ ရေးတဲ့ syntax ဖြစ်တဲ့ 's/old_word/new_word/' ဆိုတဲ့ ပုံစံကို သုံးကြပေမဲ့၊ နောက်ထပ် အသုံးဝင်တဲ့ ပုံစံတခုကို ရှင်းပြပါမယ်။  \n",
    "\n",
    "တကယ်တမ်းက ကျွန်တော်တို့ slash အစား တခြားစာလုံးကိုလည်း delimiter အဖြစ်သုံးလို့ရပါတယ်။ တစ်ခါတလေ အဲဒါကပိုပြီးတော့ အဆင်ပြေပါတယ်။ ဥပမာ website URL တွေလို အစားထိုးမဲ့ စာကြောင်းမှာ slash တွေပါနေတဲ့ အခါမျိုးမှာပါ။  \n",
    "\n",
    "အောက်ပါ ဥပမာက \".com/burmese\" ကို \".org/myanmar\" နဲ့ အစားထိုးတဲ့ ဥပမာပါ။  \n",
    "မြင်မယ်လို့ ထင်ပါတယ်။ ဒီနေရာမှာ \"/\" အစား \"\\_\" ကို သုံးထားပါတယ်။  "
   ]
  },
  {
   "cell_type": "code",
   "execution_count": 6,
   "metadata": {},
   "outputs": [
    {
     "name": "stdout",
     "output_type": "stream",
     "text": [
      "http://www.bbc.org/myanmar\n"
     ]
    }
   ],
   "source": [
    "echo \"http://www.bbc.com/burmese\" | sed 's_com/burmese_org/myanmar_'"
   ]
  },
  {
   "cell_type": "markdown",
   "metadata": {},
   "source": [
    "### Excution Cycle of sed\n",
    "\n",
    "\"sed\" နဲ့ input stream ထဲမှာရှိတဲ့ စာသားတွေထဲက၊ ကိုယ်လိုချင်တဲ့ အစိတ်ပိုင်းတစ်ပိုင်းကိုပဲ ရိုက်ထုတ်တာ၊ စာလုံးတွေကို ဝင်ပြင်တာ၊ format ပြောင်းတာ စသည်ဖြင့် လုပ်လို့ရတဲ့ အလုပ်တွေအများကြီးရှိပါတယ်။ အဲဒီလို အလုပ်တွေအများကြီးကို command line ကနေ (သို့) bash shell script တွေထဲကနေ သုံးဖို့ဆိုရင်၊ \"sed\" command ရဲ့ အလုပ်လုပ်တဲ့ပုံစံ (excution cycle) ကို သိထားသင့်ပါတယ်။  \n",
    "\n",
    "\"sed\" မှာ ဝင်လာတဲ့ဒေတာတွေကို ကိုင်တွယ်ပြီး အလုပ်လုပ်ဖို့အတွက် pattern space နဲ့ hold space ဆိုပြီး data buffer နှစ်မျိုးရှိပါတယ်။ Pattern space က temporary buffer ပါပဲ။ လက်ရှိလုပ်နေတဲ့ အလုပ်နဲ့ ပတ်သက်တဲ့ ဒေတာ (သို့) စာကြောင်းကို သိမ်းထားပါတယ်။ Hold space ကတော့ လိုတဲ့အခါပြန်ယူပြီးသုံးဖို့အတွက် သိမ်းထားတဲ့ long term buffer ဖြစ်ပါတယ်။ \"sed\" က နောက်လာမဲ့ command တွေမှာ အရင်လုပ်ခဲ့တဲ့ ဒေတာနဲ့ ပတ်သက်ပြီး နှိုင်းယှဉ်ကြည့်ဖို့လိုအပ်တဲ့ အခါ၊ အရင်ဒေတာကိုပါယူသုံးရတဲ့ အခါမျိုးမှာ hold space ကနေ ယူသုံးပါတယ်။  \n",
    "\n",
    "အလုပ်လုပ်တဲ့အခါမှာ ကျွန်တော်တို့က Hold space ကို တိုက်ရိုက်ကိုင်တွယ်ပြီး အလုပ်မလုပ်ပါဘူး။ Hold space ကဒေတာကို လိုအပ်တဲ့ အခါမှာ pattern space ပေါ်ကို ကော်ပီကူး ပြီးသုံးတာမျိုး၊ pattern space မှာရှိနေတဲ့ ဒေတာနဲ့ ပေါင်းစပ်ပြီး (append to pattern space) သုံးတာမျိုးပဲ လုပ်ကြပါတယ်။   \n",
    "\n",
    "\"sed\" ပရိုဂရမ်ကို စာကြောင်းတွေ၊ စာပိုဒ်တွေကို ရိုက်ထုတ်ခိုင်းတဲ့ အခါမျိုး မှာ pattern space က ဒေတာကို ရိုက်ထုတ်ပေးတာပါ။ အထက်မှာ \"sed\" အသုံးပြုပုံ ဥပမာအဖြစ် ပြခဲ့တဲ့ substitute အလုပ်ကလည်း pattern space ပေါ်မှာပဲ အလုပ်လုပ်သွားတာပါ။ မော်နီတာမှာ \"p\" နဲ့ ရိုက်ထုတ်ခိုင်းတဲ့ အခါမှာလဲ pattern space က ဒေတာကိုပဲ ရိုက်ထုတ်ပေးတာပါ။\n",
    "\n",
    "\"sed\" က pattern space, hold space ကို သုံးပြီး အလုပ်လုပ်တဲ့ ပုံစံကို နားလည်လွယ်အောင် လက်တွေ့ ဥပမာနဲ့ ရှင်းပြပါမယ်။  \n",
    "\n",
    "စာကြောင်းသုံးကြောင်း (line 1., line 2. နဲ့ line 3.) ကို echo command နဲ့ ရိုက်ထုတ်ကြည့်ရင် အောက်ပါအတိုင်း မြင်ရပါလိမ့်မယ်။     "
   ]
  },
  {
   "cell_type": "code",
   "execution_count": 99,
   "metadata": {},
   "outputs": [
    {
     "name": "stdout",
     "output_type": "stream",
     "text": [
      "line 1.\n",
      "line 2.\n",
      "line 3.\n"
     ]
    }
   ],
   "source": [
    "echo -e \"line 1.\\nline 2.\\nline 3.\""
   ]
  },
  {
   "cell_type": "markdown",
   "metadata": {},
   "source": [
    "ဆိုကြပါစို့ အထက်ပါစာကြောင်းသုံးကြောင်းကို input stream တစ်ခုအနေနဲ့ sed ပရိုဂရမ်ဆီကို \"|\" (piping) နဲ့ ပို့ပေးပြီး -n '1!G;h;$p' ဆိုတဲ့ command ပေးရင် အောက်ပါအတိုင်း output ကို မြင်ရပါလိမ့်မယ်။  "
   ]
  },
  {
   "cell_type": "code",
   "execution_count": 100,
   "metadata": {},
   "outputs": [
    {
     "name": "stdout",
     "output_type": "stream",
     "text": [
      "line 3.\n",
      "line 2.\n",
      "line 1.\n"
     ]
    }
   ],
   "source": [
    "echo -e \"line 1.\\nline 2.\\nline 3.\"| sed -n '1!G;h;$p'"
   ]
  },
  {
   "cell_type": "markdown",
   "metadata": {},
   "source": [
    "အထက်ပါအတိုင်း echo နဲ့ pass လုပ်ပေးလိုက်တဲ့ စာကြောင်းသုံးကြောင်းကို sed က ပြောင်းပြန် ရိုက်ထုတ်ပေးတာကို မြင်ရပါလိမ့်မယ်။  \n",
    "\n",
    "'1!G;h;\\$p' ဆိုတဲ့ စာကြောင်းမှာ 1!G ရယ် h နဲ့ $p ဆိုပြီး command သုံးခုပါဝင်ပါတယ်။  \n",
    "\n",
    "1!G; မှာ \"G\" က hold space ထဲက ဒေတာကို pattern space ဆီကို ပေါင်းထည့်ပေး (append) လုပ်ပေးပါတယ်။ \"1\" က ပထမဆုံး စာကြောင်း ကို ညွန်းတာပါ။ အလုပ်လုပ်မဲ့ စာကြောင်းကို ညွန်းတာ ပါ။ address ပေးတာလို့လည်း ပြောကြပါတယ်။ \"!\" သင်္ကေတက ပေးလိုက်တဲ့ အမိန့်ကို ဆန့်ကျင်ဘက်၊ not (သို့) negate လုပ်ပေးပါလို့ ခိုင်းတာပါ။ ဒီနေရာမှာတော့  \"1!G\" မို့လို့ ပထမဆုံးစာကြောင်းကလွဲပြီး ကျန်တဲ့စာကြောင်းတိုင်းကို pattern space ဆီကို append လုပ်ပေးပါလို့ ဆိုလိုပါတယ်။\n",
    "\n",
    "နောက်ထပ် အမိန့်တခုဖြစ်တဲ့ \"h\" ကတော့ pattern space မှာရှိနေတဲ့ ဒေတာတွေကို hold space ဆီကို ကော်ပီကူးပေးပါလို့ ဆိုလိုပါတယ်။ အဲဒီလိုလုပ်တဲ့အခါမှာ hold space ထဲမှာရှိတဲ့ ဒေတာတွေကို overwrite လုပ်သွားပါလိမ့်မယ်။ ဒီ \"h\" command ကတော့ pattern space စာကြောင်းတွေအားလုံးကို လုပ်ပေးပါလိမ့်မယ်။ \n",
    "\n",
    "\\$p မှာ \"\\$\"ကတော့ နောက်ဆုံးစာကြောင်းကို ညွှန်းပါတယ်။ \"p\" ကတော့ လက်ရှိ pattern space ကို မော်နီတာစကရင်မှာ ရိုက်ထုတ်ပေးပါလို့ခိုင်းတာပါ။ အဲဒါကြောင့် \"\\$p\" က နောက်ဆုံးစာကြောင်းကို ရောက်ရှိတဲ့ အချိန်မှာ pattern space ကို print လုပ်ပေးပါလို့ ဆိုလိုပါတယ်။  \n"
   ]
  },
  {
   "cell_type": "markdown",
   "metadata": {},
   "source": [
    "အထက်ပါ '1!G;h;\\$p' ရဲ့ အလုပ်လုပ်ပုံကို ပိုပြီးတော့ မြင်သာအောင် sed command က တစ်ကြောင်းပြီး တစ်ကြောင်း ဖတ်ပြီး command တွေကို run နေစဉ်မှာ  pattern space/hold space ထဲမှာ ရှိနေမဲ့ ဒေတာကို ဇယားပုံစံမျိုးနဲ့ ပြသပါမယ်။  "
   ]
  },
  {
   "cell_type": "markdown",
   "metadata": {},
   "source": [
    "| <p align=\"left\"> ဝင်လာတဲ့ စာကြောင်း | <p align=\"left\"> Pattern space နဲ့ Hold space ထဲကဒေတာ | <p align=\"left\"> Run ခဲ့တဲ့ command |\n",
    "|:---------------|:-----------------------------------|:---------------|\n",
    "| <p align=\"left\"> line1 | <p align=\"left\"> line1.\\$| <p align=\"left\"> h|  \n",
    "| <p align=\"left\"> line2 | <p align=\"left\"> line2.\\nline1.\\$| <p align=\"left\"> 1!G;h|  \n",
    "| <p align=\"left\"> line3 | <p align=\"left\"> line3.\\nline2.\\nline1.\\$| <p align=\"left\"> 1!G;h;\\$p|  "
   ]
  },
  {
   "cell_type": "markdown",
   "metadata": {},
   "source": [
    "တကယ်လို့ pattern space ရဲ့ အပြောင်းအလဲကို တစ်ကြောင်းပြီး တစ်ကြောင်းကြည့်ချင်ရင် \"l\" command ကိုသုံးပြီး ကြည့်နိုင်ပါတယ်။"
   ]
  },
  {
   "cell_type": "code",
   "execution_count": 101,
   "metadata": {
    "scrolled": true
   },
   "outputs": [
    {
     "name": "stdout",
     "output_type": "stream",
     "text": [
      "line 1.$\n",
      "line 2.\\nline 1.$\n",
      "line 3.\\nline 2.\\nline 1.$\n",
      "line 3.\n",
      "line 2.\n",
      "line 1.\n"
     ]
    }
   ],
   "source": [
    "echo -e \"line 1.\\nline 2.\\nline 3.\" | sed -n '1!G;h;l;$p'"
   ]
  },
  {
   "cell_type": "markdown",
   "metadata": {},
   "source": [
    "### Some more examples of using sed"
   ]
  },
  {
   "cell_type": "markdown",
   "metadata": {},
   "source": [
    "\"q\" command က လက်ရှိလုပ်နေတဲ့ sed ရဲ့အလုပ်ကို ရပ်ခိုင်းတဲ့ \"quit\" (သို့) \"exit-code\" ဖြစ်ပါတယ်။ \"2q\" ဆိုပြီး command ပေးရင် pattern space ထဲမှာ ရှိတဲ့ စာကြောင်းတွေထဲက နှစ်ကြောင်းအထိ မော်နီတာစကရင်မှာ ရိုက်ပေးပြီးရင် quit လုပ်သွားပါလိမ့်မယ်။  "
   ]
  },
  {
   "cell_type": "code",
   "execution_count": 102,
   "metadata": {},
   "outputs": [
    {
     "name": "stdout",
     "output_type": "stream",
     "text": [
      "line 1.\n",
      "line 2.\n"
     ]
    }
   ],
   "source": [
    "echo -e \"line 1.\\nline 2.\\nline 3.\"| sed 2q"
   ]
  },
  {
   "cell_type": "markdown",
   "metadata": {},
   "source": [
    "\"d\" command က pattern space ကိုဖျက်ပေးပါတယ်။ ဥပမာ \"1d\" ဆိုပြီး command ပေးရင် pattern space ထဲမှာရှိတဲ့စာကြောင်းတွေထဲက ပထမဆုံးစာကြောင်းကို ဖျက်ပြီး ကျန်တာကို မော်နီတာစကရင်မှာ ရိုက်ထုတ်ပြပေးပါလိမ့်မယ်။   "
   ]
  },
  {
   "cell_type": "code",
   "execution_count": 103,
   "metadata": {},
   "outputs": [
    {
     "name": "stdout",
     "output_type": "stream",
     "text": [
      "line 2.\n",
      "line 3.\n"
     ]
    }
   ],
   "source": [
    "echo -e \"line 1.\\nline 2.\\nline 3.\"| sed 1d"
   ]
  },
  {
   "cell_type": "markdown",
   "metadata": {},
   "source": [
    "sed ရဲ့ \"p\" command နဲ့ ရိုက်ချင်တဲ့ စာကြောင်းကို ရိုက်ခိုင်းလို့ရပါတယ်။ \"3p\" က pattern space ထဲက စာကြောင်း သုံးကြောင်းမြောက်ကိုရိုက်ခိုင်းတာပါ။ အဲဒီလိုရိုက်ခိုင်းတဲ့ အခါမှာ ပုံမှန်အားဖြင့် pattern space ထဲမှာရှိနေတဲ့ စာကြောင်း၊ စာပိုဒ် စတာတွေ အားလုံးကိုပါ မော်နီတာ စကရင်မှာရိုက်ပေးပါတယ်။ အဲဒီလို မရိုက်အောင် -n (သို့) --quiet (သို့) --silent နဲ့ တားဆီးနိုင်ပါတယ်။ \"p\" command က \"-n\" option နဲ့ အမြဲတွဲသုံးပါတယ်။   "
   ]
  },
  {
   "cell_type": "code",
   "execution_count": 104,
   "metadata": {},
   "outputs": [
    {
     "name": "stdout",
     "output_type": "stream",
     "text": [
      "line 3.\n"
     ]
    }
   ],
   "source": [
    "echo -e \"line 1.\\nline 2.\\nline 3.\"| sed -n 3p"
   ]
  },
  {
   "cell_type": "markdown",
   "metadata": {},
   "source": [
    "\"-n\" option ကို ဖြုတ်ပြီး run ကြည့်ရင် အောက်ပါအတိုင်း pattern space ပေါ်မှာရှိနေတဲ့ စာကြောင်းသုံးကြောင်းကိုပါ အတူတူတွဲရိုက်ပေးတာကို တွေ့ရပါလိမ့်မယ်။  "
   ]
  },
  {
   "cell_type": "code",
   "execution_count": 105,
   "metadata": {},
   "outputs": [
    {
     "name": "stdout",
     "output_type": "stream",
     "text": [
      "line 1.\n",
      "line 2.\n",
      "line 3.\n",
      "line 3.\n"
     ]
    }
   ],
   "source": [
    "echo -e \"line 1.\\nline 2.\\nline 3.\"| sed 3p"
   ]
  },
  {
   "cell_type": "markdown",
   "metadata": {},
   "source": [
    "command တစ်ခုထက်မက ကိုပေးချင်တယ်ဆိုရင်၊ command တွေကို တွန့်ကွင်း နှစ်ခုအကြားမှာ ထည့်ပြီးပေးရပါတယ်။ bash shell script တွေမှာ သုံးတဲ့ ပုံစံအတိုင်း၊ command တစ်ခုနဲ့ တစ်ခုအကြားမှာတော့ \";\" (semicolon) နဲ့ခြားပေးရပါတယ်။ အောက်ပါ ဥပမာက \"1p\" နဲ့ \"3p\" command နှစ်ခုနဲ့ စာကြောင်းနံပါတ် ၁ နဲ့ စာကြောင်းနံပါတ် ၃ ကို ရိုက်ခိုင်းတာပါ။   "
   ]
  },
  {
   "cell_type": "code",
   "execution_count": 106,
   "metadata": {},
   "outputs": [
    {
     "name": "stdout",
     "output_type": "stream",
     "text": [
      "line 1.\n",
      "line 3.\n"
     ]
    }
   ],
   "source": [
    "echo -e \"line 1.\\nline 2.\\nline 3.\"| sed -n '{1p;3p}'"
   ]
  },
  {
   "cell_type": "markdown",
   "metadata": {},
   "source": [
    "အထက်မှာ သင်ကြားခဲ့သလို \"head\" နဲ့ \"tail\" command နှစ်ခုကို သုံးပြီး၊ ဖိုင်ထဲမှာ ရှိတဲ့စာကြောင်းတွေထဲက ဘယ်စာကြောင်းကနေ ဘယ်စာကြောင်းအထိ ရိုက်ပေးပါလို့ ခိုင်းတဲ့ကိစ္စမျိုးကို \"sed\" command တစ်ခုထဲနဲ့ အောက်ပါအတိုင်း ခိုင်းလို့ရပါတယ်။  "
   ]
  },
  {
   "cell_type": "code",
   "execution_count": 7,
   "metadata": {},
   "outputs": [
    {
     "name": "stdout",
     "output_type": "stream",
     "text": [
      "n adj n part v part part punc\n",
      "n n ppm pron ppm n v ppm punc\n",
      "v part part pron ppm v part punc\n",
      "n n n n ppm n v n n ppm adj v n part v conj n adv v ppm punc\n",
      "conj n n ppm n conj v part v conj v ppm punc\n"
     ]
    }
   ],
   "source": [
    " sed -n '201,205p' otest.tag"
   ]
  },
  {
   "cell_type": "markdown",
   "metadata": {},
   "source": [
    "အထက်ပါ '201,205p' က otest.tag ဖိုင်ထဲကနေ စာကြောင်း နံပါတ် ၂၀၁ ကနေ ၂၀၅ အထိ ရိုက်ထုတ်ပေးပါလို့ ခိုင်းတာ ဖြစ်ပါတယ်။"
   ]
  },
  {
   "cell_type": "markdown",
   "metadata": {},
   "source": [
    "### Using RE with sed command\n",
    "\n",
    "လက်တွေ့မှာ Regular Expression နဲ့ sed ကို ကောင်းကောင်း တွဲသုံးကြပါတယ်။  \n",
    "syntax ကတော့ လွယ်လွယ်ရှင်းပါဆိုရင် /RE_pattern/action ဆိုတဲ့ ပုံစံပါ။ \n",
    "ဒီနေရာမှာ action ဆိုတာက sed command က support လုပ်ထားတဲ့ \"p\" (print), \"d\" (delete) စတဲ့ command တွေပါ။  \n"
   ]
  },
  {
   "cell_type": "markdown",
   "metadata": {},
   "source": [
    "ရှေ့မှာ grep command နဲ့ လုပ်ခဲ့သလိုပဲ၊ RE နဲ့ ကိုယ်ရှာချင်တဲ့ စာလုံးရှိတဲ့ စာကြောင်းကိုပဲ sed command ကို ရိုက်ထုတ်ခိုင်းချင်တယ်ဆိုရင် "
   ]
  },
  {
   "cell_type": "code",
   "execution_count": 8,
   "metadata": {},
   "outputs": [
    {
     "name": "stdout",
     "output_type": "stream",
     "text": [
      "Mingalar bar!\n"
     ]
    }
   ],
   "source": [
    "sed -n  '/Mingalar/p' ./fileA "
   ]
  },
  {
   "cell_type": "markdown",
   "metadata": {},
   "source": [
    "blood ဆိုတဲ့ စာလုံးပါတဲ့ စာကြောင်းကိုတွေ့ရင်၊ အဲဒီလိုင်းနံပါတ်ကို ရိုက်ထုတ်ပြပါ။  "
   ]
  },
  {
   "cell_type": "code",
   "execution_count": 9,
   "metadata": {},
   "outputs": [
    {
     "name": "stdout",
     "output_type": "stream",
     "text": [
      "4\n"
     ]
    }
   ],
   "source": [
    "sed -n '/blood/=' ./fileA"
   ]
  },
  {
   "cell_type": "markdown",
   "metadata": {},
   "source": [
    "ကိုယ်ဖျက်စေချင်တဲ့ စာလုံးကို RE ရဲ့ substitute လုပ်တဲ့ pattern ကို သုံးပြီး လဲ အောက်ပါအတိုင်း ဖျက်ခိုင်းလို့ ရပါတယ်။   "
   ]
  },
  {
   "cell_type": "code",
   "execution_count": 10,
   "metadata": {},
   "outputs": [
    {
     "name": "stdout",
     "output_type": "stream",
     "text": [
      " bar!\n",
      "I am fileA.\n",
      "I was born in April.\n",
      "My blood type is O.\n"
     ]
    }
   ],
   "source": [
    "sed 's/Mingalar//g' ./fileA"
   ]
  },
  {
   "cell_type": "markdown",
   "metadata": {},
   "source": [
    "အထက်ပါ 's/Mingalar//g' REက Mingalar ဆိုတာကို စာလုံးတစ်လုံး \"word\" အနေနဲ့ ကြည့်တာ မဟုတ်ပါဘူး။ အဲဒါကြောင့် တကယ်လို့ စာကြောင်းက Mingalarbar လို့ဖြစ်နေရင်လည်း ဖျက်မှာပါ။ Mingalar ဆိုတဲ့ စာလုံးကိုပဲ ဖျက်ပေးစေချင်ရင်တော့ RE ရဲ့ word boundary သင်္ကေတဖြစ်တဲ့ less than (<) နဲ့ greater than (>) နှစ်ခုအကြားကို ဖျက်စေချင်တဲ့ စာလုံးကိုထည့်ပြီးရေးရပါမယ်။  အောက်ပါ ဥပမာကို လေ့လာပါ။"
   ]
  },
  {
   "cell_type": "code",
   "execution_count": 11,
   "metadata": {},
   "outputs": [
    {
     "name": "stdout",
     "output_type": "stream",
     "text": [
      " bar!\n",
      "I am fileA.\n",
      "I was born in April.\n",
      "My blood type is O.\n"
     ]
    }
   ],
   "source": [
    "sed -e 's/\\<Mingalar\\>//g' ./fileA "
   ]
  },
  {
   "cell_type": "markdown",
   "metadata": {},
   "source": [
    "တကယ်လို့ Mingalar ဆိုတဲ့ စာလုံးပါတဲ့ စာကြောင်းတစ်ကြောင်းလုံးကို ဖျက်ပေးစေချင်ရင်တော့ d (delete) command ကို သုံးနိုင်ပါတယ်။  "
   ]
  },
  {
   "cell_type": "code",
   "execution_count": 12,
   "metadata": {},
   "outputs": [
    {
     "name": "stdout",
     "output_type": "stream",
     "text": [
      "I am fileA.\n",
      "I was born in April.\n",
      "My blood type is O.\n"
     ]
    }
   ],
   "source": [
    "sed '/Mingalar/d' ./fileA"
   ]
  },
  {
   "cell_type": "markdown",
   "metadata": {},
   "source": [
    "နောက်ထပ် RE patten ကိုသုံးတဲ့ဥပမာ တစ်ခုအနေနဲ့ \"b\" ပါတဲ့ စာကြောင်းကို တွေ့ရင်၊ အဲဒီစာကြောင်းရဲ့ အထက်မှာ blank line တစ်ကြောင်းထည့်ပေးစေချင်ရင် အောက်ပါအတိုင်း command ပေးလို့ ရပါတယ်။  "
   ]
  },
  {
   "cell_type": "code",
   "execution_count": 13,
   "metadata": {},
   "outputs": [
    {
     "name": "stdout",
     "output_type": "stream",
     "text": [
      "a\n",
      "\n",
      "b\n",
      "c\n",
      "d\n",
      "\n"
     ]
    }
   ],
   "source": [
    "echo -e \"a\\nb\\nc\\nd\\n\" | sed '/b/{x;p;x;}'"
   ]
  },
  {
   "cell_type": "markdown",
   "metadata": {},
   "source": [
    "အထက်ပါ \"sed\" command ဖြစ်တဲ့ \"{x;p;x;}\" မှာ \"x\" command က hold space နဲ့ pattern space ကို exchange လုပ်ပေးပါတယ်။ \"b\" စာကြောင်း ကိုတွေ့တဲ့ အချိန်မှာ၊ hold space ထဲမှာက ဘာမှ မရှိတဲ့ အနေအထားပါ။ လက်ရှိ pattern space မှာက b စာကြောင်းက ရှိနေပါတယ်။ exchange လုပ်လိုက်တဲ့ အခါမှာတော့ pattern space မှာ ဘာမှ မရှိတော့ပဲ၊ hold space မှာ \"b\" ရှိပါလိမ့်မယ်။ အဲဒီလိုအခြေအနေမှာ \"p\" command နဲ့ pattern space ကို print လုပ်လို့ blank line ကို မော်နီတာမှာ ရိုက်ထုတ်ပေးပါလိမ့်မယ်။ ပြီးတော့ \"x\" command နဲ့ hold space နဲ့ pattern space ကို ဒုတိယအခေါက် exchange လုပ်ပါတယ်။ အဲဒါကြောင့် pattern space ဆီကို \"b\" ပြန်ရောက်သွားပါတယ်။  "
   ]
  },
  {
   "cell_type": "markdown",
   "metadata": {},
   "source": [
    "နောက် ဥပမာတစ်ခုကို ကြည့်ရအောင်။ ဒီတစ်ခါတော့ \"G\" command ကို သုံးကြည့်ပါမယ်။"
   ]
  },
  {
   "cell_type": "code",
   "execution_count": 14,
   "metadata": {},
   "outputs": [
    {
     "name": "stdout",
     "output_type": "stream",
     "text": [
      "a\n",
      "b\n",
      "\n",
      "c\n",
      "d\n",
      "\n"
     ]
    }
   ],
   "source": [
    "echo -e \"a\\nb\\nc\\nd\\n\" | sed '/b/G'"
   ]
  },
  {
   "cell_type": "markdown",
   "metadata": {},
   "source": [
    "အထက်ပါ output အတိုင်း RE pattern ဖြစ်တဲ့ b ကို တွေ့တဲ့အခါ blank line တစ်ကြောင်းရိုက်ပေးပါလိမ့်မယ်။  \n",
    "\n",
    "\"G\" command ရဲ့ အလုပ်လုပ်ပုံကတော့ အရင်ဆုံး \\n (new line) ကို pattern space မှာ ပေါင်းထည့်ပေး (append) ပါတယ်။ ပြီးတော့ hold space မှာ ရှိတဲ့ ဒေတာကို pattern space မှာ ပေါင်းထည့်ပေးပါတယ်။ အဲဒီအချိန်မှာ hold space မှာက ဘာမှရှိမနေတော့ blank line ကို append လုပ်သွားပါလိမ့်မယ်။\n"
   ]
  },
  {
   "cell_type": "markdown",
   "metadata": {},
   "source": [
    "အထက်မှာ ဥပမာအဖြစ် run ပြခဲ့တဲ့ sed '/b/{x;p;x;}' နဲ့ sed '/b/G' နှစ်ကြောင်းကို ပေါင်းပြီး sed '/b/{x;p;x;G;}' အနေနဲ့ run ကြည့်ပါ။  "
   ]
  },
  {
   "cell_type": "code",
   "execution_count": 15,
   "metadata": {},
   "outputs": [
    {
     "name": "stdout",
     "output_type": "stream",
     "text": [
      "a\n",
      "\n",
      "b\n",
      "\n",
      "c\n",
      "d\n",
      "\n"
     ]
    }
   ],
   "source": [
    "echo -e \"a\\nb\\nc\\nd\\n\" | sed '/b/{x;p;x;G;}'"
   ]
  },
  {
   "cell_type": "markdown",
   "metadata": {},
   "source": [
    "အထက်ပါ output အတိုင်း \"b\" စာကြောင်းကို တွေ့တဲ့အခါမှာ အပေါ်နဲ့အောက်မှာ blank line တစ်ကြောင်းစီ ရိုက်ပေးပါလိမ့်မယ်။    "
   ]
  },
  {
   "cell_type": "markdown",
   "metadata": {},
   "source": [
    "### Address and address range of sed\n",
    "\n",
    "\"sed\" command က ဘာမှာ မပြောရင် ဖိုင် (သို့) input လုပ်ပေးတဲ့ stream ထဲမှာရှိတဲ့ စာကြောင်းတိုင်းကို တစ်ကြောင်းချင်းစီဖတ်ပြီး ခိုင်းတဲ့ command အတိုင်း အလုပ်လုပ်ပေးပါတယ်။  \n",
    "\n",
    "တကယ်လို့ ကျွန်တော်တို့က ဘယ်စာကြောင်းကိုပဲ၊ ဘယ်စာကြောင်းကနေ ဘယ်စာကြောင်းအထိ စသည်ဖြင့် သတ်မှတ်ပြီး ပေးလိုက်တဲ့ command ကို apply လုပ်ခိုင်းလို့ရပါတယ်။ address (သို့) address range ပေးတယ်လို့ ပြောပါတယ်။  \n",
    "\n",
    "ကိုယ်က အလုပ်လုပ်စေချင်တဲ့ စာကြောင်းတွေကို နံပါတ်နဲ့ ညွှန်းလို့ရပါတယ်။ address ပေးလို့ရပါတယ်။  \n",
    "အောက်ပါ sed command ရဲ့ '1d;3d;5d;' က စာကြောင်းနံပါတ် ၁၊ ၃ နှင့် ၅ ကို ဖျက်ပေးပါလို့ခိုင်းတာပါ။ အဲဒါကြောင့် brace expansion {1..6} က အမှန်တကယ် line1 ကနေ line6 အထိ စုစုပေါင်း စာကြောင်းရေ ခြောက်ကြောင်း generate လုပ်ပေးပေမဲ့၊ line2, line4 နဲ့ line6 ကိုပဲ ရိုက်ထုတ်ပြတာပါ။ '1d;3d;5d;' ရဲ့ \"1\", \"3\" နဲ့ \"5\" က address ပါ။  "
   ]
  },
  {
   "cell_type": "code",
   "execution_count": 16,
   "metadata": {},
   "outputs": [
    {
     "name": "stdout",
     "output_type": "stream",
     "text": [
      " line2\n",
      " line4\n",
      " line6\n",
      "\n"
     ]
    }
   ],
   "source": [
    "echo -e line{1..6}'\\n'| sed '1d;3d;5d;'"
   ]
  },
  {
   "cell_type": "markdown",
   "metadata": {},
   "source": [
    "address range ပေးတဲ့ ကိစ္စကို လုပ်ကြည့်ရပေးအောင်။  \n",
    "စာကြောင်းနံပါတ် ၁ ကနေ ၃ အထိဖျက်ပေးစေချင်ရင် '1,3d' ဆိုပြီး ကော်မာနဲ့ခြားပြီး ညွှန်းလို့ရပါတယ်။"
   ]
  },
  {
   "cell_type": "code",
   "execution_count": 17,
   "metadata": {},
   "outputs": [
    {
     "name": "stdout",
     "output_type": "stream",
     "text": [
      " line4\n",
      " line5\n",
      " line6\n",
      "\n"
     ]
    }
   ],
   "source": [
    "echo -e line{1..6}'\\n'| sed '1,3d'"
   ]
  },
  {
   "cell_type": "markdown",
   "metadata": {},
   "source": [
    "အောက်ပါ sed ဥပမာက စာကြောင်းနံပါတ်၁ကို ဖျက်ပေးပြီး၊ နောက်ထပ် သုံးကြောင်း ဆက်ပြီးဖျက်ပေးပါလို့ ခိုင်းခဲ့ပါတာ။"
   ]
  },
  {
   "cell_type": "code",
   "execution_count": 18,
   "metadata": {},
   "outputs": [
    {
     "name": "stdout",
     "output_type": "stream",
     "text": [
      " line5\n",
      " line6\n",
      "\n"
     ]
    }
   ],
   "source": [
    "echo -e line{1..6}'\\n'| sed '1,+3d'"
   ]
  },
  {
   "cell_type": "markdown",
   "metadata": {},
   "source": [
    "အောက်ပါ '2,5!d' ဆိုတာက စာကြောင်းနံပါတ် ၂ ကနေ ၅ ကလွဲရင် ကျန်တဲ့ စာကြောင်းတွေကို ဖျက်ပေးပါလို့ ခိုင်းတာပါ။ အဲဒါကြောင့် စာကြောင်းရေ နံပါတ် ၁ နဲ့ ၆ ကို ဖျက်ပေးပါလိမ့်မယ်။  "
   ]
  },
  {
   "cell_type": "code",
   "execution_count": 19,
   "metadata": {},
   "outputs": [
    {
     "name": "stdout",
     "output_type": "stream",
     "text": [
      " line2\n",
      " line3\n",
      " line4\n",
      " line5\n"
     ]
    }
   ],
   "source": [
    "echo -e line{1..6}'\\n'| sed '2,5!d'"
   ]
  },
  {
   "cell_type": "markdown",
   "metadata": {},
   "source": [
    "အောက်ပါ '1~4d' command က စာကြောင်းနံပါတ် ၁ကိုဖျက်ပြီးရင် စာကြောင်းနံပါတ်၄ အထိခုန်ပြီး၊ စာကြောင်းနံပါတ်၅ ကိုဖျက်ပေးပါလိမ့်မယ်။  "
   ]
  },
  {
   "cell_type": "code",
   "execution_count": 20,
   "metadata": {},
   "outputs": [
    {
     "name": "stdout",
     "output_type": "stream",
     "text": [
      " line2\n",
      " line3\n",
      " line4\n",
      " line6\n",
      "\n"
     ]
    }
   ],
   "source": [
    "echo -e line{1..6}'\\n'| sed '1~4d'"
   ]
  },
  {
   "cell_type": "markdown",
   "metadata": {},
   "source": [
    "အောက်ပါ sed '4,2d' နဲ့ ဆိုရင် စာကြောင်းရေနံပါတ်၄ ကိုပဲ ဖျက်ပေးပြီး၊ စာကြောင်းရေ နံပါတ်၂ ကို ဖျက်မပေးတာတွေ့ရပါလိမ့်မယ်။ ဘာကြောင့်လဲဆိုတော့ sed command က reverse direction အလုပ်မလုပ်နိုင်လို့ပါ။ "
   ]
  },
  {
   "cell_type": "code",
   "execution_count": 21,
   "metadata": {},
   "outputs": [
    {
     "name": "stdout",
     "output_type": "stream",
     "text": [
      "line1\n",
      " line2\n",
      " line3\n",
      " line5\n",
      " line6\n",
      "\n"
     ]
    }
   ],
   "source": [
    "echo -e line{1..6}'\\n'| sed '4,2d'"
   ]
  },
  {
   "cell_type": "markdown",
   "metadata": {},
   "source": [
    "sed မှာလည်း character class တွေရှိပါတယ်။ ဥပမာ ဝင်လာမဲ့ စာကြောင်းတွေထဲက နံပါတ်နဲ့ဆုံးတဲ့ စာကြောင်းတွေကိုပဲ ရိုက်ပြပေးစေချင်ရင် sed -n '/[[:digit:]]$/p' ဆိုပြီး command ပေးလို့ရပါတယ်။ ဒီနေရာမှာ [[:digit:]] ဆိုတာ နံပါတ် [0-9] ကိုဆိုလိုပြီး၊ ရှေ့မှာ RE အကြောင်းရှင်းပြတုန်းက ပြောပြခဲ့သလိုပဲ \\$ အမှတ်အသားကတော့ စာကြောင်းအဆုံးကို ကိုယ်စားပြုပါတယ်။ input လုပ်တဲ့ စာကြောင်းတိုင်းက နံပါတ်နဲ့ ဆုံးနေလို့ line1 ကနေ line6 အားလုံးကို ရိုက်ပြပေးပါလိမ့်မယ်။  "
   ]
  },
  {
   "cell_type": "code",
   "execution_count": 22,
   "metadata": {},
   "outputs": [
    {
     "name": "stdout",
     "output_type": "stream",
     "text": [
      "line1\n",
      " line2\n",
      " line3\n",
      " line4\n",
      " line5\n",
      " line6\n"
     ]
    }
   ],
   "source": [
    "echo -e line{1..6}'\\n' | sed -n '/[[:digit:]]$/p'"
   ]
  },
  {
   "cell_type": "markdown",
   "metadata": {},
   "source": [
    "y/old_character_list/new_character_list/ ဆိုတဲ့ RE pattern နဲ့ စာလုံးတလုံးချင်းကို အစားထိုးတာမျိုးလည်း sed နဲ့ လုပ်လို့ရပါတယ်။ အောက်ပါ ဥပမာကို ကြည့်ပါ။ ဒီနေရာမှာ y/aeghimnorstvwy/AEGHIMNORSTVWY/ ဆိုတာက \"a\" ကိုတွေ့ရင် \"A\" နဲ့အစားထိုးပေးပါ။ \"e\" ကို \"E\" နဲ့အစားထိုးပေးပါ။ \"g\" ကို \"G\" နဲ့အစားထိုးပေးပါ ... ဆိုပြီး parallel character list ကိုပေးပြီး sed ကို ညွှန်းထားတာဖြစ်ပါတယ်။  "
   ]
  },
  {
   "cell_type": "code",
   "execution_count": 123,
   "metadata": {},
   "outputs": [
    {
     "name": "stdout",
     "output_type": "stream",
     "text": [
      "EVERYTHING IS AWESOME!\n"
     ]
    }
   ],
   "source": [
    "echo \"Everything is awesome!\" | sed y/aeghimnorstvwy/AEGHIMNORSTVWY/"
   ]
  },
  {
   "cell_type": "markdown",
   "metadata": {},
   "source": [
    "အထက်ပါ ဥပမာက y/ / / ပုံစံကိုသုံးပြီး \"Everything is awesome!\" စာကြောင်းထဲမှာပါတဲ့ အင်္ဂလိပ်စာလုံးအသေးတွေကို စာလုံးအကြီးဖြစ်ပြောင်းပြထားတာဖြစ်ပါတယ်။ တကယ်က y/ / / ပုံစံကို မသုံးပဲ substitute လုပ်တဲ့ RE pattern ဖြစ်တဲ့ s/ / / နဲ့လုပ်တာက ပိုပြီးတော့ကောင်းပါတယ်။ အောက်ပါ sed command ဥပမာကို ကြည့်ပါ။ ဒီနေရာမှာ \"\\U\" က  (uppercase letter) ကိုပြောတာပါ။ နောက်ပြီးတော့ \"&\" ကတော့ matched ဖြစ်တဲ့စာလုံးကို ညွှန်းတာပါ။ နောက်ဆုံးစာလုံး \"g\" ကတော့ ပထမဆုံးတွေ့တဲ့ စာလုံးတစ်လုံးထဲကို ပြောင်းပေးပြီး ရပ်မသွားပါနဲ့ စာကြောင်းတကြောင်းလုံးအစကနေ အဆုံးတောက်လျှောက် match ဖြစ်တိုင်းမှာ အစားထိုးပေးပါ။ globally လုပ်ပေးပါလို့ ဆိုလိုပါတယ်။   "
   ]
  },
  {
   "cell_type": "code",
   "execution_count": 124,
   "metadata": {},
   "outputs": [
    {
     "name": "stdout",
     "output_type": "stream",
     "text": [
      "EVERYTHING IS AWESOME!\n"
     ]
    }
   ],
   "source": [
    "echo \"Everything is awesome!\" | sed 's/./\\U&/g'"
   ]
  },
  {
   "cell_type": "markdown",
   "metadata": {},
   "source": [
    "ဒီတစ်ခါတော့ uppercase letter ကို lowercase letter အဖြစ်ပြောင်းကြည့်ရအောင်။ "
   ]
  },
  {
   "cell_type": "code",
   "execution_count": 125,
   "metadata": {},
   "outputs": [
    {
     "name": "stdout",
     "output_type": "stream",
     "text": [
      "everything is awesome!\n"
     ]
    }
   ],
   "source": [
    "echo \"EVERYTHING IS AWESOME!\" | sed 's/./\\L&/g'"
   ]
  },
  {
   "cell_type": "markdown",
   "metadata": {},
   "source": [
    "နောက် ဥပမာတစ်ခုအနေနဲ့ character class နှစ်ခုဖြစ်တဲ့ \"[[:lower:]]\" နဲ့ \"[[:upper:]]\" ကိုသုံးပြီး စာလုံးအသေးကိုတွေ့ရင် အကြီးပြောင်း၊ စာလုံးအကြီးကိုတွေ့ရင် စာလုံးအသေးကို ပြောင်းတာကို လုပ်ကြည့်ရအောင်။"
   ]
  },
  {
   "cell_type": "code",
   "execution_count": 126,
   "metadata": {},
   "outputs": [
    {
     "name": "stdout",
     "output_type": "stream",
     "text": [
      "eVERYTHING IS AWESOME!\n"
     ]
    }
   ],
   "source": [
    "echo \"Everything is awesome!\" | sed -E 's/([[:lower:]])|([[:upper:]])/\\U\\1\\L\\2/g'"
   ]
  },
  {
   "cell_type": "markdown",
   "metadata": {},
   "source": [
    "Programming လောကမှာ variable name, function name တွေကို စာလုံးအကြီး၊ စာလုံးအသေး လုပ်တာကို သုံးတဲ့အသုံးအနှုန်း သတ်မှတ်ချက်ရှိပါတယ်။ မြင်သာအောင် ရေးပြရရင်၊ UPPERCASE, lowercase, Propercase နဲ့ CamelCase ဆိုပြီးသုံးပါတယ်။ စာလုံးအားလုံးကို စာလုံးအကြီးအဖြစ်ပြောင်းတာကို UPPERCASE၊ စာလုံးအားလုံးကို အသေးလုပ်တာကို lowercase၊ စာလုံးတစ်လုံးမှာ ပထမဆုံးအက္ခရာကိုပဲ စာလုံးအကြီးပြောင်းတာကို Propercase၊ စာလုံးတစ်လုံးထက်မကတာကို အတူတူတွဲကပ်ထားတဲ့ အခြေအနေမျိုးမှာ စာလုံးတစ်လုံးစီရဲ့ ပထမဆုံးအက္ခရာကိုပဲ စာလုံးအကြီးပြောင်းတာကို CamelCase လုပ်တယ်လို့ ပြောကြပါတယ်။  \n",
    "\n",
    "ဟုတ်ပြီ။ \"sed\" command ကိုသုံးပြီး ဝင်လာတဲ့ စာကြောင်းကို Propercase လုပ်ခိုင်းကြည့်ရအောင်။"
   ]
  },
  {
   "cell_type": "code",
   "execution_count": 127,
   "metadata": {},
   "outputs": [
    {
     "name": "stdout",
     "output_type": "stream",
     "text": [
      "Everything Is Awesome!\n"
     ]
    }
   ],
   "source": [
    "echo \"Everything is awesome!\" | sed 's/\\<\\(\\w\\)\\(\\S*\\)/\\u\\1\\L\\2/g'"
   ]
  },
  {
   "cell_type": "markdown",
   "metadata": {},
   "source": [
    "အထက်ပါ Propsercase လုပ်တဲ့ RE မှာ \"\\w\" က စာလုံးတစ်လုံး လို့ဆိုလိုပါတယ်။ ပြီးတော့ \"\\S\\*\" ကတော့ zero or more  non-whitespace characters ကိုဆိုလိုပါတယ်။ ရှေ့က Regular Expression အကြောင်းပြောတုန်းက ကျွန်တော်ရှင်းပြခဲ့သလို၊ non-whitespace character ဆိုတာက ' ' (space), \\r (carriage return), \\n (newline), \\t (horizontal tab), \\v (vertical tab), \\f (form feed) တို့ မဟုတ်တဲ့ စာလုံးကို ပြောတာပါ။ အဲဒါကြောင့် အင်္ဂလိပ်အက္ခရာအားလုံးအကျုံးဝင်ပါတယ်။ whitespace စာလုံးတစ်လုံးကိုတွေ့တာနဲ့ ဘောင်ထဲကိုမဝင်တော့ပါဘူး။ ဥပမာ \"Everything \" ကိုပဲ RE ဖြစ်တဲ့ \"\\<\\(\\w\\)\\(\\S\\*\\)\" နဲ့တိုက်စစ်မယ်ဆိုရင်၊ \\(\\w\\) နဲ့ကိုက်တာက \"E\" ဖြစ်ပြီးတော့၊ \\(\\S\\*\\) နဲ့ကိုက်ညီတာကတော့ \"verything\" (space မပါတာကို သတိပြုပါ) ဖြစ်သွားပါလိမ့်မယ်။\n",
    "\n",
    "အစားထိုးပေးမဲ့ အပိုင်းဖြစ်တဲ့ \"/\\u\\1\\L\\2/\" ကိုရှင်းပြပါမယ်။  \n",
    "\n",
    "ဒီနေရာမှာ \\u\\1 က စာလုံးတစ်လုံးရဲ့ ပထမဆုံး အက္ခရာကို uppercase လုပ်ပေးပါလိမ့်မယ်။  \n",
    "\\1 ဆိုတာက backreference RE ဖြစ်ပြီး ပထမဆုံး round bracket \"()\" ထဲက RE နဲ့ကိုက်ညီပြီးဝင်လာတဲ့ စာလုံးကို ညွှန်းတာပါ။ \"\\(\\w\\)\" ကိုညွှန်းတာပါ။  \n",
    "\n",
    "\\L\\2 ဆိုတာက 2nd backreference ဖြစ်တဲ့ \"\\2\" ကို စာလုံးအသေးလုပ်ပေးပါလို့ ခိုင်းထားတာပါ။  \n",
    "ဒီနေရာမှာ \\2 က \\(\\S\\*\\) နဲ့ သွားညီပါလိမ့်မယ်။  \n",
    "\n",
    "နောက်ပြီးတော့ \"\\<\" က စာလုံးတစ်လုံးရဲ့အစboundary ကိုဆိုလိုပါတယ်။  \n",
    "\n",
    "အမှန်တကယ်က \"\\<\\(\\w\\)\\(\\S\\*\\)\" ကို မသုံးပဲ \"/\\<\\(\\w\\)\\(\\w\\*\\)\\>/\" ကိုသုံးရင်လည်း ရပါတယ်။ သို့သော် \"/\\<\\(\\w\\)\\(\\w\\*\\)\\>/\" ကိုသုံးရင် \"I'll\" (သို့) \"you'll\" (သို့) \"she's\" စတဲ့စာလုံးတွေကို RE က စာလုံးတစ်လုံးအနေနဲ့ မမြင်တဲ့ (non-word ဆိုပြီးမြင်တဲ့) ပြဿနာရှိပါတယ်။     "
   ]
  },
  {
   "cell_type": "markdown",
   "metadata": {},
   "source": [
    "Bracketing လုပ်ပြီး backreference သုံးတာကို အပေါ်က ဥပမာမှာလည်း ပါခဲ့ပေမဲ့၊ ပိုပြီးနားလည်ရလွယ်အောင် နောက်ထပ် ဥပမာတစ်ခုနဲ့ ပြပါမယ်။ အောက်ပါစာကြောင်းက ပိုပြီး ကြည့်ရတာ မြင်သာပါလိမ့်မယ်။  "
   ]
  },
  {
   "cell_type": "code",
   "execution_count": 128,
   "metadata": {},
   "outputs": [
    {
     "name": "stdout",
     "output_type": "stream",
     "text": [
      "NLP\n"
     ]
    }
   ],
   "source": [
    "echo \"I am a NLP researcher.\" | sed 's/.*\\(NLP\\).*/\\1/'"
   ]
  },
  {
   "cell_type": "markdown",
   "metadata": {},
   "source": [
    "\"&\" သုံးတာကိုလည်း နောက်ထပ် ဥပမာ တစ်ခုနဲ့ ထပ်သုံးပြပါမယ်။  \n",
    "အင်္ဂလိပ်စာလုံး အကြီး IS ကိုတွေ့ရင် စာလုံးအသေးအဖြစ်ပြောင်းပေးပါလို့ သုံးပြထားတာပါ။  "
   ]
  },
  {
   "cell_type": "code",
   "execution_count": 129,
   "metadata": {},
   "outputs": [
    {
     "name": "stdout",
     "output_type": "stream",
     "text": [
      "Everything is awesome! Yes, EVERYTHINGisAWESOME\n"
     ]
    }
   ],
   "source": [
    "echo \"Everything IS awesome! Yes, EVERYTHINGISAWESOME\" | sed 's/IS/\\L&/g'"
   ]
  },
  {
   "cell_type": "markdown",
   "metadata": {},
   "source": [
    "## Apply changes in multiple files\n",
    "\n",
    "\"sed\" command သုံးပုံသုံးနည်းကို ဥပမာအနေနဲ့ \"echo\" command ကနေ (သို့) ဖိုင်တစ်ဖိုင်ကနေ ဒေတာကို piping လုပ်ပြီး သုံးပြခဲ့ပေမဲ့၊ wildcard သင်္ကေတတွေ၊ တခြား linux command တွေနဲ့ \"sed\" ကို တွဲသုံးပြီး ဖိုင်တွေအများကြီး ကို ဝင်ပြင်လို့ရတယ်ဆိုတာကိုလည်း မြင်ကြမယ်လို့ ထင်ပါတယ်။  \n",
    "\n",
    "ဥပမာ လက်ရှိရောက်နေတဲ့ path မှာ file ဆိုတဲ့စာလုံးနဲ့စတဲ့ ဖိုင်တွေအားလုံးကို find command နဲ့ ရှာဖွေခိုင်းပြီး၊ အဲဒီဖိုင်တွေထဲမှာရှိတဲ့ စာကြောင်းတွေမှာ Mingalar ဆိုတာပါရင် အဲဒီစာလုံးကိုဖျက်ပေးပါဆိုတဲ့ အလုပ်မျိုးကို ခိုင်းချင်ရင် အောက်ပါအတိုင်း ခိုင်းလို့ ရပါတယ်။  wildcard သင်္ကေတ \"\\*\" ကိုသုံးထားတာရယ်၊ နောက်ပြီးတော့ တခြား linux command တစ်ခုဖြစ်တဲ့ \"xargs\" ဆိုတာကို တွဲသုံးထားတာကိုပါ လေ့လာစေချင်ပါတယ်။     "
   ]
  },
  {
   "cell_type": "code",
   "execution_count": 130,
   "metadata": {
    "collapsed": true
   },
   "outputs": [],
   "source": [
    "find -type f  -name \"file*\" | xargs sed  's/Mingalar//g'"
   ]
  },
  {
   "cell_type": "markdown",
   "metadata": {},
   "source": [
    "\"xargs\" က သူ့ရှေ့က run ခဲ့တဲ့ find command ရဲ့ output ဖြစ်တဲ့ fileနဲ့စတဲ့ ဖိုင်နာမည်တွေကိုအားလုံးကို တခုချင်းစီ \"sed\" ဆီကို argument အဖြစ်ပို့ပေးတဲ့ အလုပ်ကို လုပ်ပါတယ်။ ဖိုင်နာမည်တွေကို မြင်သာအောင် \"find\" command အပိုင်းကိုပဲ run ကြည့်ရအောင်။ လက်ရှိ path နဲ့ သူ့ရဲ့ sub-folders တွေအားလုံးကိုရှာဖွေခဲ့တာမှာ file ဆိုတဲ့နာမည်နဲ့စတဲ့ ဖိုင်သုံးဖိုင် ရှိတာကို အောက်ပါအတိုင်းတွေ့ရပါလိမ့်မယ်။  "
   ]
  },
  {
   "cell_type": "code",
   "execution_count": 131,
   "metadata": {
    "collapsed": true
   },
   "outputs": [],
   "source": [
    "find -type f  -name \"file*\""
   ]
  },
  {
   "cell_type": "markdown",
   "metadata": {},
   "source": [
    "\"sed\" command ရဲ့ အရမ်းအသုံးဝင်တဲ့ \"-i\" option ကို လည်းမိတ်ဆက်ပါမယ်။ ဒီ option က ပေးလိုက်တဲ့ ဖိုင်ကို ဝင်ပြင်ပေးနိုင်၊ ဝင်ရေးနိုင်တဲ့ option ပါ။ အင်္ဂလိပ်လိုတော့ \"edit files in place\" ဆိုပြီး sed manual မှာ ရှင်းပြထားတာကို \"man sed\" နဲ့ ဝင်ကြည့်ရင် တွေ့ရပါလိမ့်မယ်။  \n",
    "\n",
    "အောက်မှာပြထားတဲ့ ဥပမာက myanmar-food.txt ဖိုင်အသစ်ကိုဆောက်ပြီး၊ အဲဒီဖိုင်ထဲက \"MontHinGar\" ဆိုတဲ့ စာလုံးကို \"Rakhine MontDii\" ဆိုတဲ့ စာလုံးနဲ့ \"sed\" command ကို \"-i\" option ပေးပြီး ဝင်ပြင်ခိုင်းပါမယ်။"
   ]
  },
  {
   "cell_type": "code",
   "execution_count": 132,
   "metadata": {},
   "outputs": [
    {
     "name": "stdout",
     "output_type": "stream",
     "text": [
      "MontHinGar\n",
      "Laphet\n",
      "BainMont\n"
     ]
    }
   ],
   "source": [
    "echo -e \"MontHinGar\\nLaphet\\nBainMont\" > myanmar-food.txt\n",
    "cat myanmar-food.txt"
   ]
  },
  {
   "cell_type": "code",
   "execution_count": 133,
   "metadata": {
    "collapsed": true
   },
   "outputs": [],
   "source": [
    "sed -i 's/MontHinGar/Rakhine MontDii/' ./myanmar-food.txt"
   ]
  },
  {
   "cell_type": "markdown",
   "metadata": {},
   "source": [
    "myanmar-food.txt ဖိုင်မှာ ဝင်ပြင်သွားတာကို မြင်ရအောင် \"cat\" command နဲ့ ရိုက်ပြခိုင်းကြည့်ရအောင်။  "
   ]
  },
  {
   "cell_type": "code",
   "execution_count": 134,
   "metadata": {},
   "outputs": [
    {
     "name": "stdout",
     "output_type": "stream",
     "text": [
      "Rakhine MontDii\n",
      "Laphet\n",
      "BainMont\n"
     ]
    }
   ],
   "source": [
    "cat ./myanmar-food.txt"
   ]
  },
  {
   "cell_type": "markdown",
   "metadata": {},
   "source": [
    "myanmar-food.txt ဖိုင်ကိုဝင်ပြင်သွားတာကို မြင်ရပါလိမ့်မယ်။  \n",
    "\n",
    "ဒီ -i option က အသုံးဝင်သလို၊ မှားသုံးမိရင် ရှိနေတဲ့ ဖိုင်ကိုဝင်ရေးမှာမို့လို့ သတိထားပြီး သုံးရပါမယ်။  \n",
    "ဖိုင်တစ်ဖိုင်လောက်ကို မှားပြီးဝင်ပြင်မိရင် ပြန်ပြင်လို့ရနိုင်ပေမဲ့၊ ဖိုင်တွေ ရာနဲ့ထောင်နဲ့ချီပြီး မှားပြင်မိသွားရင်တော့ လွယ်ကူတဲ့ ကိစ္စမဟုတ်ပါဘူး။  \n",
    "အဲဒီအတွက် ရှိနေတဲ့ ဖိုင်ကို ဝင်မပြင်ခင် backup အရင်ကူးပြီးတော့မှ ပြင်ပါဆိုပြီး sed command ကိုခိုင်းလို့ရပါတယ်။ \n",
    "backup ကူးပေးစေချင်ရင် -i ရဲ့နောက်မှာ backup ဖိုင်နာမည်ရဲ့ suffix ကိုကပ်ပြီးရိုက်ပေးရပါတယ်။ ဥပမာ .bak ဆိုတဲ့ file extension တပ်ပေးစေချင်ရင် -i\".bak\" ဆိုပြီးတော့ ရိုက်ပေးရပါမယ်။ အောက်ပါ command ကို ကြည့်ပါ။  "
   ]
  },
  {
   "cell_type": "code",
   "execution_count": 135,
   "metadata": {
    "collapsed": true
   },
   "outputs": [],
   "source": [
    "sed -i\".bak\" 's/^/>\\t/' ./myanmar-food.txt"
   ]
  },
  {
   "cell_type": "markdown",
   "metadata": {},
   "source": [
    "\"sed\" command က backup ကူးပေးတဲ့ ဖိုင်ကိုဖိုင်ရော၊ နဂိုဖိုင်ကိုကော ls နဲ့ ရှာကြည့်ရအောင်။  \n",
    "အောက်ပါအတိုင်း myanmar-food.txt.bak ဖိုင်အသစ်ကိုတွေ့ရပါလိမ့်မယ်။"
   ]
  },
  {
   "cell_type": "code",
   "execution_count": 136,
   "metadata": {},
   "outputs": [
    {
     "name": "stdout",
     "output_type": "stream",
     "text": [
      "myanmar-food.txt  myanmar-food.txt.bak\n"
     ]
    }
   ],
   "source": [
    "ls myanmar-food.txt*"
   ]
  },
  {
   "cell_type": "markdown",
   "metadata": {},
   "source": [
    "'s/^/>\\t/' က စာကြောင်းတိုင်းရဲ့ အစ (^)မှာ \">\" သင်္ကေတနဲ့ TAB တစ်ခုကို အစားထိုးခိုင်းထားလို့၊ အဲဒီအတိုင်း myanmar-food.txt ဖိုင်မှာ ဝင်ပြင်ပေးသွားတာကို တွေ့ရပါလိမ့်မယ်။   "
   ]
  },
  {
   "cell_type": "code",
   "execution_count": 137,
   "metadata": {},
   "outputs": [
    {
     "name": "stdout",
     "output_type": "stream",
     "text": [
      ">\tRakhine MontDii\n",
      ">\tLaphet\n",
      ">\tBainMont\n"
     ]
    }
   ],
   "source": [
    "cat myanmar-food.txt"
   ]
  },
  {
   "cell_type": "markdown",
   "metadata": {},
   "source": [
    "နဂို အော်ရဂျင်နယ် ဖိုင်ကိုတော့ myanmar-food.txt.bak ဆိုတဲ့နာမည်နဲ့ သိမ်းထားတာကို အောက်ပါအတိုင်း တွေ့ရပါလိမ့်မယ်။  "
   ]
  },
  {
   "cell_type": "code",
   "execution_count": 138,
   "metadata": {},
   "outputs": [
    {
     "name": "stdout",
     "output_type": "stream",
     "text": [
      "Rakhine MontDii\n",
      "Laphet\n",
      "BainMont\n"
     ]
    }
   ],
   "source": [
    "cat myanmar-food.txt.bak"
   ]
  },
  {
   "cell_type": "markdown",
   "metadata": {},
   "source": [
    "\"sed\" command ကို သုံးတတ်ရင် သုံးတတ်သလိုပါပဲ။ Text processing မှာ အများကြီး အထောက်အကူဖြစ်ပါလိမ့်မယ်။ စသုံးစမှာ တော့ ခက်ချင်ခက်ပါလိမ့်မယ်။ ဒါပေမဲ့ \"sed\" command ရဲ့ syntax ကိုသိထားပြီး၊ အသုံးများတဲ့ command တွေဖြစ်တဲ့ d (delete), i (insert), a (append), c (change) စတဲ့ command တွေကို နားလည်ရင်ကို တော်တော်လေးကို အလုပ်လုပ်ရတာ အဆင်ပြေသွားပါလိမ့်မယ်။ sed command systax တွေကိုတော့ အကြမ်းမျဉ်းအားဖြင့် အောက်ပါပုံစံအတိုင်း ကျွန်တော်ကတော့ မှတ်သားထားပါတယ်။  \n",
    "\n",
    "1. [address] command\n",
    "2. [line-address] command\n",
    "3. address{  \n",
    "      command1  \n",
    "      command2  \n",
    "      command3  \n",
    "    }\n",
    "4. address{command1; command2; command3}\n",
    "5. [address]s/pattern/replacement/flags\n",
    "6. [address]y/abc/xyz/ \n",
    "7. sed [options] commands [file-to-edit]\n",
    " \n",
    "နံပါတ်၃ ပုံစံ လိုရေးမယ်ဆိုရင် သတိထားရမဲ့ အချက်တွေရှိပါတယ်။  \n",
    "နောက်ဆုံး တွန့်ကွင်း (}) ကို သပ်သပ်စာကြောင်းမှာ ရေးရပါမယ်။ command တွေရဲ့ ရှေ့မှာ space ကီး၊ TAB ကီး စတာတွေနဲ့ indentation လုပ်တာကို ခွင့်ပြုပေမဲ့၊ command ရဲ့နောက်မှာ space ပိုရိုက်မိတာမျိုးကို sed syntax မှာ မရပါဘူး။ Error message ပေးပါလိမ့်မယ်။ sed က ကျွန်တော်တို့လုပ်ခိုင်းထားတဲ့ command ကို နားမလည်တော့ဘူးဆိုရင် \"Command garbled\" ဆိုတဲ့ error message ကို ပေးပါလိမ့်မယ်။ နံပါတ်၃ ပုံစံမျိုးမဟုတ်ပဲ command အားလုံးကို တစ်ကြောင်းထဲမှာ စုရေးတဲ့ ပုံစံဖြစ်တဲ့ နံပါတ်၄ ပုံစံနဲ့သုံးရင်လည်း အတူတူပါပဲ။ ဖတ်ရတာ လွယ်ကူအောင်လို့ တခါတလေမှာ နံပါတ်၃ ပုံစံကို အသုံးပြုကြတာပါ။ sed command တွေကိုစုရေးထားပြီး ဖိုင်ထဲမှာ သိမ်းထားတဲ့ အခါမှာ နောက်ပြန်ကြည့်ရင် ဘာတွေလုပ်ထားခဲ့သလဲဆိုတာကို ပြန်သတိရဖို့အတွက် programming language တွေမှာ လုပ်ကြသလို comment ရေးထားလို့ရပါတယ်။ comment ရေးမယ်ဆိုရင်တော့ စာကြောင်းရဲ့ ရှေ့မှာ # ကိုခံပြီး ရေးပါတယ်။ ဥပမာ # This is a comemnt of sed.\n",
    "\n",
    "နံပါတ်၃ syntaxပုံစံမျိုး sed command တွေကို ဖိုင်ထဲမှာ သိမ်းထားမယ်။ အဲဒီဖိုင်ကို sed command ဆီကို -f option နဲ့ pass လုပ်ပြီး၊ အလုပ်လုပ်ပေးစေချင်တဲ့ ဖိုင်တစ်ဖိုင်အပေါ်မှာ text processing လုပ်တာကို ရှင်းပြပါမယ်။  \n",
    "\n",
    "အရင်ဆုံး \"sed\" command တွေကို သိမ်းထားတဲ့ sed.check ဖိုင်ကို cat လုပ်ကြည့်ရအောင်။"
   ]
  },
  {
   "cell_type": "code",
   "execution_count": 143,
   "metadata": {},
   "outputs": [
    {
     "name": "stdout",
     "output_type": "stream",
     "text": [
      "/^[0-9]/{\n",
      "p\n",
      "s/^[[:digit:]]\\+/(&)/\n",
      "p\n",
      "}\n"
     ]
    }
   ],
   "source": [
    "cd ~/linux-cmd/\n",
    "cat sed.check"
   ]
  },
  {
   "cell_type": "markdown",
   "metadata": {},
   "source": [
    "sed.check ဖိုင်ထဲက စာကြောင်းတစ်ကြောင်းချင်းစီကို ရှင်းပြပါမယ်။  \n",
    "  \n",
    "/^[0-9]/{&nbsp;&nbsp;&nbsp;&nbsp;&nbsp;&nbsp;&nbsp;&nbsp;&nbsp;&nbsp;&nbsp;&nbsp;&nbsp;&nbsp;&nbsp;&nbsp;&nbsp;&nbsp;&nbsp;&nbsp;ဂဏန်းနဲ့စတဲ့ စာကြောင်းတွေကို ညွှန်းပါတယ်။ အဲဒါကြောင့် ပထမဆုံးစာကြောင်းကို ကျော်သွားပါလိမ့်မယ်။  \n",
    "p&nbsp;&nbsp;&nbsp;&nbsp;&nbsp;&nbsp;&nbsp;&nbsp;&nbsp;&nbsp;&nbsp;&nbsp;&nbsp;&nbsp;&nbsp;&nbsp;&nbsp;&nbsp;&nbsp;&nbsp;&nbsp;&nbsp;&nbsp;&nbsp;&nbsp;&nbsp;&nbsp;&nbsp;&nbsp;&nbsp;ဂဏန်းနဲ့စတဲ့ စာကြောင်းက pattern space ဆီဝင်လာရင် အဲဒီစာကြောင်းကို မော်နီတာမှာ ရိုက်ထုတ်ပြခိုင်းတာပါ။  \n",
    "s/^[[:digit:]]\\+/(&)/&nbsp;&nbsp;&nbsp;&nbsp;&nbsp;&nbsp;စာကြောင်းထိပ်ဆုံး မှာရှိတဲ့ ဂဏန်းကို ကွင်းစ၊ ကွင်းပိတ်ထဲကို ထည့်ရေးခိုင်းတာပါ။    \n",
    "p&nbsp;&nbsp;&nbsp;&nbsp;&nbsp;&nbsp;&nbsp;&nbsp;&nbsp;&nbsp;&nbsp;&nbsp;&nbsp;&nbsp;&nbsp;&nbsp;&nbsp;&nbsp;&nbsp;&nbsp;&nbsp;&nbsp;&nbsp;&nbsp;&nbsp;&nbsp;&nbsp;&nbsp;&nbsp;&nbsp;pattern space မှာရှိနေတဲ့ စာကြောင်းကို မော်နီတာမှာ ရိုက်ထုတ်ခိုင်းတာပါ။  \n",
    "}&nbsp;&nbsp;&nbsp;&nbsp;&nbsp;&nbsp;&nbsp;&nbsp;&nbsp;&nbsp;&nbsp;&nbsp;&nbsp;&nbsp;&nbsp;&nbsp;&nbsp;&nbsp;&nbsp;&nbsp;&nbsp;&nbsp;&nbsp;&nbsp;&nbsp;&nbsp;&nbsp;&nbsp;&nbsp;&nbsp;&nbsp;command တွေမစခင်မှာ open brace \"{\" ဖွင့်ခဲ့သလို၊ command တွေအဆုံးမှာ close brace \"}\"နဲ့ပိတ်တာပါ။  \n",
    "  \n",
    "item-list ဖိုင်ကို sed.check ဖိုင်နဲ့ ပြင်ကြည့်ရအောင်။  \n",
    "အောက်ပါအတိုင်း တွေ့ရပါလိမ့်မယ်။  "
   ]
  },
  {
   "cell_type": "code",
   "execution_count": 144,
   "metadata": {},
   "outputs": [
    {
     "name": "stdout",
     "output_type": "stream",
     "text": [
      "1\tpencil\t10\n",
      "(1)\tpencil\t10\n",
      "2\truler\t1000\n",
      "(2)\truler\t1000\n",
      "3\teraser\t42\n",
      "(3)\teraser\t42\n"
     ]
    }
   ],
   "source": [
    "sed -n -f ./sed.check ./item-list"
   ]
  },
  {
   "cell_type": "markdown",
   "metadata": {},
   "source": [
    "output ကိုကြည့်ပြီး နားလည်မယ်လို့ ထင်ပါတယ်။  \n",
    "မပြင်ခင်မှာ တခေါက်၊ ပြင်ပြီးတော့ နောက်တစ်ခေါက် မော်နီတာမှာ စုစုပေါင်း နှစ်ခါ ရိုက်ထုတ်ခိုင်းခဲ့တာပါ။  \n",
    "ပြင်တာကလည်း စာကြောင်းရဲ့ ထိပ်ဆုံးမှာရှိနေတဲ့ နံပါတ်တွေကို ကွင်းစ ကွင်းပိတ်နဲ့ ရေးတဲ့ပုံစံအဖြစ်ပြောင်းရေးခိုင်းတာပါ။  "
   ]
  },
  {
   "cell_type": "markdown",
   "metadata": {},
   "source": [
    "\"sed\" ရဲ့ option တွေကို အသေးစိတ်သိချင်ရင် \"info sed\" ကို ဖတ်ပါ။ \"man sed\" ထက် ပိုပြည့်စုံပါတယ်။  \n",
    "ကျွန်တော် ညွှန်းထားတဲ့ Reference link တွေကိုလည်းဖတ်ကြည့်ပါ။ "
   ]
  },
  {
   "cell_type": "markdown",
   "metadata": {},
   "source": [
    "## 30. awk\n",
    "\n",
    "awk ကို ပထမဆုံး စတင် develop လုပ်ခဲ့တာက ၁၉၇၇ ခုနှစ်ကလို့ သိရပါတယ်။ awk ဆိုတဲ့ နာမည်ဖြစ်လာတာကတော့ awk ကို develop လုပ်ခဲ့ကြတဲ့ အမေရိကန်နိုင်ငံ Bell Lab က Alfred V. Aho, Peter J. Weinberger နဲ့ Brian W. Kernighan တို့ရဲ့ မျိုးရိုးနာမည် (surname) ဖြစ်တဲ့ Aho, Weinberger, Kernighan ရဲ့ ရှေ့ဆုံးစာလုံးတွေကို ယူထားလို့ဖြစ်ပါတယ်။  \n",
    "\n",
    "sed ကို အခြေခံပြီးတော့ awk ကို develop လုပ်ခဲ့ကြတာဖြစ်ပါတယ်။ text ဖိုင်တွေကို ဝင်ပြင်တာ၊ condition တွေပေးပြီး လိုချင်တဲ့ စာကြောင်းတွေကို ဆွဲထုတ်တာမျိုး စတဲ့အလုပ်တွေမှာ သုံးပါတယ်။ ဒါပေမဲ့ sed နဲ့မတူတာကတော့ awk က raw text ဖိုင်မှာ အလုပ်လုပ်တာ ထက် သေသေချာချာ ဖောမတ်ချထားတဲ့ဖိုင်တွေပေါ်မှာ အလုပ်လုပ်တာဖြစ်ပါတယ်။ ဥပမာ ဒေတာတွေကို ကော်မာတွေနဲ့ ခွဲပြီးသိမ်းထားတဲ့ CSV (comma-separated values) ဖိုင်၊ tab ကီးတွေနဲ့ ခွဲပြီးသိမ်းထားတဲ့ (tab-separated values) ဖိုင်တွေနဲ့ အလုပ်လုပ်ဖို့အတွက်ဆိုရင် awk programming language ကို သိထားသင့်ပါတယ်။ \n",
    "\n",
    "gawk, nawk, mawk ဆိုပြီး awk ဗားရှင်းမတူတာတွေ ရှိပါတယ်။ ၁၉၈၅ ခုနှစ် ကနေ ၁၉၈၈ ခုနှစ်အတွင်းမှာ အော်ရဂျင်နယ် awk ကို ပိုကောင်းအောင် ပြင်ရေးကြပါတယ်။ အဲဒီကနေ gawk (GNU awk) ပေါ်ထွက်လာပါတယ်။ Brian W. Kernighan ရဲ့ nawk (new awk) source code ကို ၁၉၉၃ခုနှစ်မှာ released လုပ်ခဲ့ပြီး bawk လို့လည်း သိကြပါတယ်။ ထိုနည်းလည်းကောင်း mawk ကတော့ အလုပ်လုပ်တဲ့ အခါမှာ ပိုမြန်အောင် Mike D. Brennan က update လုပ်ခဲ့တဲ့ ဗားရှင်းပါ။ Ubuntu/Debian linux OS တွေမှာ သုံးတာက mawk ဖြစ်ပါတယ်။  \n",
    "\n",
    "awk ဗားရှင်းတွေအပေါ်မူတည်ပြီး အသုံးပြုတဲ့ ပုံစံ၊ ပရိုဂရမ်ရေးသားတဲ့ ပုံစံတွေကတော့ တသွေမသိမ်းတူမှာ မဟုတ်ပါဘူး။ ကိုယ်သုံးနေတဲ့ linux OS မှာ ရှိနေတဲ့ awk ဗားရှင်းကို သိချင်ရင် terminal ကို ထွက်ပြီး awk -W version လို့ ရိုက်ထည့်ကြည့်ပါ။ ကျွန်တော် ဒီ tutorial မှာ သုံးမှာက awk ဗားရှင်း 1.3.3 ဖြစ်ပါတယ်။  "
   ]
  },
  {
   "cell_type": "code",
   "execution_count": 23,
   "metadata": {},
   "outputs": [
    {
     "name": "stdout",
     "output_type": "stream",
     "text": [
      "mawk 1.3.3 Nov 1996, Copyright (C) Michael D. Brennan\n",
      "\n",
      "compiled limits:\n",
      "max NF             32767\n",
      "sprintf buffer      2040\n"
     ]
    }
   ],
   "source": [
    "awk -W version"
   ]
  },
  {
   "cell_type": "markdown",
   "metadata": {},
   "source": [
    "awk command ကလည်း sed command လိုပါပဲ။ STDIN ကနေ (သို့) ဖိုင်ကနေ ဝင်လာတဲ့ စာကြောင်းတွေကို ဖတ်ယူပြီး ပေးလိုက်တဲ့ command အတိုင်း အလုပ်လုပ်ပေးပါတယ်။ အရင်ဆုံး echo နဲ့ \"UPPER\" ဆိုတဲ့ စာလုံးကို pipe နဲ့ awk command ဆီကို ပို့ပေးပြီး စာလုံးအသေးပြောင်းခိုင်းကြည့်ရအောင်။ \\$0 က ဝင်လာတဲ့စာကြောင်း တစ်ကြောင်းလုံးကို ဆိုလိုပါတယ်။ "
   ]
  },
  {
   "cell_type": "code",
   "execution_count": 145,
   "metadata": {},
   "outputs": [
    {
     "name": "stdout",
     "output_type": "stream",
     "text": [
      "upper\n"
     ]
    }
   ],
   "source": [
    "echo \"UPPER\" | awk '{print tolower($0)}'"
   ]
  },
  {
   "cell_type": "markdown",
   "metadata": {},
   "source": [
    "ဒီတစ်ခါတော့ fileA ကို input လုပ်ပြီး cat command က အလုပ်လုပ်ပေးတဲ့ ပုံစံမျိုး awk ကို လုပ်ခိုင်းကြည့်ရအောင်။  "
   ]
  },
  {
   "cell_type": "code",
   "execution_count": 25,
   "metadata": {},
   "outputs": [
    {
     "name": "stdout",
     "output_type": "stream",
     "text": [
      "Mingalar bar!\n",
      "I am fileA.\n",
      "I was born in April.\n",
      "My blood type is O.\n"
     ]
    }
   ],
   "source": [
    "awk '{print}' ./fileA"
   ]
  },
  {
   "cell_type": "markdown",
   "metadata": {},
   "source": [
    "အထက်ပါ output မှာမြင်ရတဲ့အတိုင်း fileA ထဲမှာရှိတဲ့ စာကြောင်းအားလုံးကို awk ရဲ့ print command ကို သုံးပြီး ရိုက်ထုတ်ခိုင်းလို့ ရပါတယ်။  \n",
    "\n",
    "awk ရဲ့ အခြေခံ အမိန့်ပေးတဲ့ ပုံစံ ကတော့ အောက်ပါအတိုင်းပါ။  \n",
    "\n",
    "pattern { action }  \n",
    "pattern { action }  \n",
    "pattern { action }  \n",
    "...  \n",
    "\n",
    "အောက်ပါဥပမာက April ဆိုတဲ့ စာလုံးပါတဲ့ စာကြောင်းကို input အဖြစ်ပေးလိုက်တဲ့ fileA မှာရှာပေးပြီး၊ တွေ့ရင် တွေ့တဲ့စာကြောင်းကို ရိုက်ထုတ်ပြပါလို့ ခိုင်းထားတာဖြစ်ပါတယ်။ ဒီနေရာမှာ ရှာပေးစေချင်တဲ့ April ဆိုတဲ့ စာလုံးကို RE ရေးတဲ့ ပုံစံအတိုင်း forward slash နှစ်ခုအကြားမှာ ထည့်ရေးပါတယ်။ အဲဒါက pattern ပါ။ print \\$0 ဆိုတာကတော့ action ဖြစ်ပြီး \\$0 က စာကြောင်း တစ်ကြောင်းလုံးကို ဆိုလိုပါတယ်။  "
   ]
  },
  {
   "cell_type": "code",
   "execution_count": 26,
   "metadata": {},
   "outputs": [
    {
     "name": "stdout",
     "output_type": "stream",
     "text": [
      "I was born in April.\n"
     ]
    }
   ],
   "source": [
    "awk '/April/{print $0}' ./fileA"
   ]
  },
  {
   "cell_type": "markdown",
   "metadata": {},
   "source": [
    "ဒီတစ်ခေါက်မှာတော့ April (သို့) November ဆိုတဲ့ စာလုံးကို၊ fileA နဲ့ fileB မှာရှာခိုင်းတဲ့ ဥပမာဖြစ်ပါတယ်။ "
   ]
  },
  {
   "cell_type": "code",
   "execution_count": 28,
   "metadata": {},
   "outputs": [
    {
     "name": "stdout",
     "output_type": "stream",
     "text": [
      "I was born in April.\n",
      "I was born in November.\n"
     ]
    }
   ],
   "source": [
    "awk '/April|November/{print $0}' ./fileA ./fileB"
   ]
  },
  {
   "cell_type": "markdown",
   "metadata": {},
   "source": [
    "linux မှာ စာကြောင်းတွေကို hexadecimal နံပါတ်၊ binary နံပါတ်တွေအဖြစ် ပြောင်းပေးတဲ့ အလုပ်ကိုလုပ်ပေးနိုင်တဲ့ xxd command ဆိုတဲ့ command ရှိပါတယ်။ အောက်ပါအတိုင်း \"Who are you?\" ဆိုတဲ့ စာကြောင်းကို binary အဖြစ်ပြောင်းခိုင်းကြည့်ရအောင်။"
   ]
  },
  {
   "cell_type": "code",
   "execution_count": 146,
   "metadata": {},
   "outputs": [
    {
     "name": "stdout",
     "output_type": "stream",
     "text": [
      "00000000: 01010111 01101000 01101111 00100000 01100001 01110010  Who ar\n",
      "00000006: 01100101 00100000 01111001 01101111 01110101 00111111  e you?\n"
     ]
    }
   ],
   "source": [
    "echo -n \"Who are you?\" | xxd -b "
   ]
  },
  {
   "cell_type": "markdown",
   "metadata": {},
   "source": [
    "အထက်မှာ မြင်ရတဲ့အတိုင်း \"Who are you?\" ဆိုတဲ့ စာကြောင်းကို binary နံပါတ်တွေအဖြစ် ရိုက်ထုတ်ပြပါလိမ့်မယ်။ ဒီနေရာမှာ output ကို ဖတ်ရတာအဆင်ပြေအောင် xxd ပရိုဂရမ်က ကော်လံခွဲပြီး ရိုက်ထုတ်သွားတာကို သတိပြုမိပါလိမ့်မယ်။ ဒီကော်လံတစ်ခုချင်းစီကို awk command က field တစ်ခုစီ အဖြစ်ခွဲခြားပြီး မြင်ပါတယ်။ အဲဒါကြောင့် ကိုယ်လိုချင်တဲ့ field တွေကိုပဲ ရွေးပြီး ရိုက်ထုတ်တဲ့ ကိစ္စကို awk က ကောင်းကောင်း အလုပ်လုပ်ပေးနိုင်ပါတယ်။  \n",
    "\n",
    "အောက်ပါဥပမာကို ကြည့်ပါ။  \n",
    "ဒီနေရာမှာ \\$2, \\$3, \\$4 ဆိုတာက field no. 2, field no. 3, field no.4 ကို ညွှန်းတာပါ။  \n"
   ]
  },
  {
   "cell_type": "code",
   "execution_count": 30,
   "metadata": {},
   "outputs": [
    {
     "name": "stdout",
     "output_type": "stream",
     "text": [
      "01010111 01101000 01101111\n",
      "01100101 00100000 01111001\n"
     ]
    }
   ],
   "source": [
    "echo -n \"Who are you?\" | xxd -b | awk '{print $2, $3, $4}'"
   ]
  },
  {
   "cell_type": "markdown",
   "metadata": {},
   "source": [
    "အထက်မှာ မြင်ရတဲ့အတိုင်း field no. 2, 3, 4 ရှိသလောက်ကို ရိုက်ထုတ်ပြသွားပါလိမ့်မယ်။  \n",
    "ဥပမာ ဝင်လာတဲ့ ပထမစာကြောင်းရဲ့ field no. 2, 3 နဲ့ 4 ကို ရိုက်ထုတ်ပြီးတာနဲ့ အလုပ်ဆက်မလုပ်စေချင်တော့ဘူးဆိုရင်၊ action ကို ရပ်ချင်ရင် exit command ကို သုံးလို့ရပါတယ်။ တခြားပရိုဂရမ်းမင်း ဘာသာစကားတွေမှာလိုပဲ အမိန့်က တစ်ခုထက်မကပိုလာရင်၊ ခွဲခြားသိနိုင်အောင် semicolon (\";\") နဲ့ ပိတ်ပေးရပါတယ်။  \n",
    "\n",
    "အောက်ပါ ဥပမာ အတိုင်း run ကြည့်ရင် \"Who\" စာလုံးရဲ့ binary number ကိုပဲ ရိုက်ထုတ်ပေးပါလိမ့်မယ်။  "
   ]
  },
  {
   "cell_type": "code",
   "execution_count": 31,
   "metadata": {},
   "outputs": [
    {
     "name": "stdout",
     "output_type": "stream",
     "text": [
      "01010111 01101000 01101111\n"
     ]
    }
   ],
   "source": [
    "echo -n \"Who are you?\" | xxd -b | awk '{print $2, $3, $4; exit;}'"
   ]
  },
  {
   "cell_type": "markdown",
   "metadata": {},
   "source": [
    "### awk Built-in Variables\n",
    "\n",
    "awk ရဲ့ built-in variable တချို့ကို မိတ်ဆက်ပါမယ်။ Built-in variable တွေကို သိထားရင် awk script ရေးတဲ့ အခါမှာ အများကြီး အထောက်အကူပြုပါတယ်။\n",
    "\n",
    "| <p align=\"left\"> သင်္ကေတ | <p align=\"left\"> အဓိပ္ပါယ် |\n",
    "|:---------------|:-----------------------------------|:---------------|\n",
    "| <p align=\"left\"> ARGC | <p align=\"left\"> command line argument အရေအတွက် ကို သိမ်းပေးထားတဲ့ variable|\n",
    "| <p align=\"left\"> ARGV | <p align=\"left\"> command line argument array ကို ကိုယ်စားပြုတဲ့ variable |\n",
    "| <p align=\"left\"> CONVFMT | <p align=\"left\"> ဂဏန်းတွေကို string (စာကြောင်း) အဖြစ် output လုပ်တဲ့အခါမှာ format နဲ့ပတ်သတ်ပြီး control လုပ်ဖို့သုံးပါတယ်။ default က \"%.6g\" ပါ။ |\n",
    "| <p align=\"left\"> FILENAME | <p align=\"left\"> လက်ရှိဖွင့်ဖတ်နေတဲ့ ဖိုင်နာမည်။ |\n",
    "    | <p align=\"left\"> FNR | <p align=\"left\"> လက်ရှိဖွင့်ဖတ်နေတဲ့ ဖိုင်ရဲ့ လက်ရှိရောက်နေတဲ့ record နံပါတ် ကို ကိုယ်စားပြုပါတယ်။ ဖိုင်အသစ်ပြောင်းတာနဲ့ နံပါတ် ၁ ကနေပြန်စတယ်။ |\n",
    "| <p align=\"left\"> FS | <p align=\"left\"> record တွေကို ဖတ်တဲ့အခါမှာ field separator အဖြစ်ထားမဲ့ စာလုံးတစ်လုံး (သို့) Regular expression ကို ကိုယ်စားပြုတယ်။ |\n",
    "| <p align=\"left\"> NF | <p align=\"left\"> input လုပ်ထားတဲ့ stream တစ်ခုလုံးရဲ့ field အရေအတွက်ကို သိမ်းထားတဲ့ variable ပါ။|\n",
    "| <p align=\"left\"> NR | <p align=\"left\"> input လုပ်ထားတဲ့ stream တစ်ခုလုံးရဲ့၊ လက်ရှိရောက်ရှိနေတဲ့ record နံပါတ် ကို သိမ်းထားတဲ့ variable ပါ။|\n",
    "| <p align=\"left\"> OFMT | <p align=\"left\"> ဂဏန်းတွေကို ရိုက်ထုတ်တဲ့အခါ ဘယ်လိုပုံစံ၊ ဘယ်လိုဖောမတ်နဲ့ ရိုက်ထုတ်ပြမယ်ဆိုတာကို control လုပတ့် variable ပါ။ default က \"%.6g\" ပါ။ |\n",
    "| <p align=\"left\"> OFS | <p align=\"left\"> field တွေကို မော်နီတာမှာ ရိုက်ထုတ်ပြတဲ့ အခါမှာ ဘယ်စာလုံးနဲ့ ခြားပြီးပြမလဲ ဆိုတာကို control လုပ်တဲ့ variable ပါ။ default က space နဲ့ခြားပြီး ပြပါတယ်။ |\n",
    "| <p align=\"left\"> ORS | <p align=\"left\"> record တစ်ခုနဲ့ တစ်ခုကို ဘာစာလုံးနဲ့ ခြားပြီးပြမလဲဆိုတာကို control လုပ်တဲ့ variable ပါ။ default က \"\\n\" ပါ။ |\n",
    "| <p align=\"left\"> RS | <p align=\"left\"> ဝင်လာတဲ့ record တွေကို ဘယ်စာလုံးနဲ့ခြားပြီး ဖတ်ယူမလဲဆိုတာကို control လုပ်တဲ့ variable ပါ။ default က \"\\n\" ပါ။ |\n",
    "| <p align=\"left\"> SUBSEP | <p align=\"left\"> default က \"\\034\" |\n"
   ]
  },
  {
   "cell_type": "markdown",
   "metadata": {},
   "source": [
    "အထက်ပါ ဇယားမှာ ဖော်ပြထားတဲ့ awk built-in variable တွေကို လက်တွေ့ သုံးကြည့်ကြရအောင်။  \n",
    "အရင်ဆုံး ARGC ကို print လုပ်ကြည့်ကြရအောင်။"
   ]
  },
  {
   "cell_type": "code",
   "execution_count": 3,
   "metadata": {},
   "outputs": [
    {
     "name": "stdout",
     "output_type": "stream",
     "text": [
      "Total Number of Arguments = 4\n"
     ]
    }
   ],
   "source": [
    "awk 'BEGIN {print \"Total Number of Arguments =\", ARGC}' arg1 arg2 arg3"
   ]
  },
  {
   "cell_type": "markdown",
   "metadata": {},
   "source": [
    "အထက်ပါ output မှာ command line argument အနေနဲ့ \"arg1\", \"arg2\" နဲ့ \"arg3\" ဆိုပြီး awk command ကို argument သုံးခုပေးခဲ့ပေမဲ့ \"Total Number of Arguments = 4\" ဆိုပြီး ပြနေတာကိုတွေ့ရပါလိမ့်မယ်။ ဘာကြောင့်လဲဆိုတော့ awk command ကိုယ်တိုင်ကို argument တစ်ခုအနေနဲ့ count လုပ်တာမို့ပါ။  \n",
    "\n",
    "အောက်ပါအတိုင်း ARGV ရဲ့အထဲမှာ ဘာတွေကို သိမ်းထားသလဲဆိုတာကို print လုပ်ကြည့်ရင် ရှင်းသွားပါလိမ့်မယ်။  "
   ]
  },
  {
   "cell_type": "code",
   "execution_count": 7,
   "metadata": {},
   "outputs": [
    {
     "name": "stdout",
     "output_type": "stream",
     "text": [
      "ARGV[0] = awk\n",
      "ARGV[1] = arg1\n",
      "ARGV[2] = arg2\n",
      "ARGV[3] = arg3\n"
     ]
    }
   ],
   "source": [
    "awk  'BEGIN {for (i = 0; i < ARGC; ++i) { \n",
    "       printf \"ARGV[%d] = %s\\n\", i, ARGV[i] \n",
    "      }\n",
    "  }' arg1 arg2 arg3"
   ]
  },
  {
   "cell_type": "markdown",
   "metadata": {},
   "source": [
    "သင်္ချာလောကမှာ မသိမဖြစ်တဲ့ pi တန်ဖိုးကို awk သုံးပြီးရိုက်ခိုင်းကြည့်ရအောင်။ ဒီနေရာမှာ awk ရဲ့ BEGIN ဆိုတာကိုလည်း မိတ်ဆက်ပါမယ်။ awk က input ဝင်လာတဲ့ စာကြောင်းတွေကို မဖတ်ခင်မှာ ကြိုပြီးပေးထားချင်တဲ့ setting တွေ၊ အရင်ဆုံး လုပ်ပေးစေချင်တဲ့ အလုပ်တွေကို BEGIN လို့ရိုက်ပြီး တွန့်ကွင်း နှစ်ခုကြား \"{}\" မှာ ရိက်ထည့်ပြီး ခိုင်းလို့ရပါတယ်။ pi ကိုတော့ printf နဲ့ ရိုက်ထုတ်ခိုင်းကြည့်ပါမယ်။"
   ]
  },
  {
   "cell_type": "code",
   "execution_count": 7,
   "metadata": {},
   "outputs": [
    {
     "name": "stdout",
     "output_type": "stream",
     "text": [
      "3.14159"
     ]
    }
   ],
   "source": [
    "awk 'BEGIN{printf 3.14159265359}'"
   ]
  },
  {
   "cell_type": "markdown",
   "metadata": {},
   "source": [
    "အထက်ပါမြင်ရတဲ့ အတိုင်း awk ရဲ့ default output setting နဲ့ ရိုက်ထုတ်ပြပေးပါလိမ့်မယ်။  \n",
    "OFMT ကို သုံးပြီး pi ကို print ထုတ်တဲ့အခါမှာ ဒသမနောက်မှာ ဂဏန်းနှစ်လုံးနဲ့ပဲ ပြပေးပါလို့ အောက်ပါအတိုင်း control လုပ်လို့ရပါတယ်။"
   ]
  },
  {
   "cell_type": "code",
   "execution_count": 1,
   "metadata": {},
   "outputs": [
    {
     "name": "stdout",
     "output_type": "stream",
     "text": [
      "3.14\n"
     ]
    }
   ],
   "source": [
    "awk 'BEGIN{OFMT=\"%.2f\"; print 3.14159265359}'"
   ]
  },
  {
   "cell_type": "markdown",
   "metadata": {},
   "source": [
    "ဒီတစ်ခါတော့ CONVFMT ကို သုံးပြီး pi တန်ဖိုးကို ဒသမသုံးလုံးနဲ့ ရိုက်ထုတ်ခိုင်းကြည့်ပါမယ်။ ဒီဥပမာမှာ pi ကို a ဆိုတဲ့ variable ထဲကို assign လုပ်ပြီးမှ string အဖြစ်နဲ့ ရိုက်ထုတ်ခိုင်းထားတာကို သတိပြုမိကြမယ်လို့ ထင်ပါတယ်။"
   ]
  },
  {
   "cell_type": "code",
   "execution_count": 6,
   "metadata": {},
   "outputs": [
    {
     "name": "stdout",
     "output_type": "stream",
     "text": [
      "3.142"
     ]
    }
   ],
   "source": [
    "awk 'BEGIN{CONVFMT=\"%.3f\"; a=3.14159265359; printf a}'"
   ]
  },
  {
   "cell_type": "markdown",
   "metadata": {},
   "source": [
    "ဖိုင်နှစ်ဖိုင်ထဲမှာ ဘုံပါနေတဲ့ စာကြောင်းတွေကို ရိုက်ထုတ်ချင်ရင် အောက်ပါအတိုင်း command ပေးလို့ ရပါတယ်။   "
   ]
  },
  {
   "cell_type": "code",
   "execution_count": 148,
   "metadata": {},
   "outputs": [
    {
     "name": "stdout",
     "output_type": "stream",
     "text": [
      "My blood type is O.\n"
     ]
    }
   ],
   "source": [
    "awk 'NR==FNR{a[$0];next} $0 in a' fileA fileB"
   ]
  },
  {
   "cell_type": "markdown",
   "metadata": {},
   "source": [
    "\n",
    "အောက်ပါ ဥပမာက OFS variable ကိုသုံးပြီး field separator ကို \"---\" (dash သုံးခု) အဖြစ် assign လုပ်ပါတယ်။ ပြီးတော့ rank.txt ဆိုတဲ့ဖိုင်ထဲမှာရှိတဲ့ field 1 (i.e. \\$1) နဲ့ field 2 (i.e. \\$2) ကို ရိုက်ထုတ်ပြခိုင်းပါတယ်။   "
   ]
  },
  {
   "cell_type": "code",
   "execution_count": 48,
   "metadata": {},
   "outputs": [
    {
     "name": "stdout",
     "output_type": "stream",
     "text": [
      "Kaung_MontHinGar---4000\n",
      "Osaka_PaukSi---1000\n",
      "Brain_BainMont---500\n",
      "Htoo_Coffee_Shop---1500\n",
      "Lu_Maik_Tea_Shop---3000\n",
      "A_Wa_Sar_Restaurant---15000\n",
      "Taung_Gyi_Noodle_Restaurant---7000\n",
      "Tokyo_Ramen---6500\n",
      "Brown_MontKyweThe---4000\n",
      "MainMa_PePyote---3500\n",
      "MuTuu_ChiTi_Restaurant---9000\n",
      "Numpy_GaNan_Restaurant---20000\n",
      "Bitter_Cake---5000\n",
      "NeverMind_MontHinGar---5000\n",
      "Bamboo_Chinese_Restaurant---18000\n"
     ]
    }
   ],
   "source": [
    "awk '{OFS=\"---\"};{print $1, $2;}' rank.txt"
   ]
  },
  {
   "cell_type": "markdown",
   "metadata": {},
   "source": [
    "### awk Comparison Expression\n",
    "awk မှာလည်း comparison expression တွေရှိပါတယ်။ programming language တွေနဲ့ အကျွမ်းဝင်ပြီးသားဆိုရင်တော့ ထူးထူးထွေထွေ မှတ်သားနေစရာ မလိုပါဘူး။ \n",
    "\n",
    "| <p align=\"left\"> သင်္ကေတ | <p align=\"left\"> အဓိပ္ပါယ် | <p align=\"left\"> အသုံးပြုပုံ |\n",
    "|:---------------|:-----------------------------------|:---------------|\n",
    "| <p align=\"left\">  < | <p align=\"left\"> ငယ်သော | <p align=\"left\"> \\$2 < 4000 |\n",
    "| <p align=\"left\"> > | <p align=\"left\"> ကြီးသော | <p align=\"left\"> \\$2 > 4000 |\n",
    "| <p align=\"left\"> == | <p align=\"left\"> ညီမျှသော | <p align=\"left\"> \\$2 == 4000 |\n",
    "| <p align=\"left\"> != | <p align=\"left\"> မညီမျှသော | <p align=\"left\"> \\$2 != 4000 |\n",
    "| <p align=\"left\"> <= | <p align=\"left\"> ငယ်သော (သို့) ညီမျှသော | <p align=\"left\"> \\$2 <= 4000 |\n",
    "| <p align=\"left\"> >= | <p align=\"left\"> ကြီးသော (သို့) ညီမျှသော| <p align=\"left\"> \\$2 >= 4000 |\n",
    "| <p align=\"left\"> ~ | <p align=\"left\"> ပေးထားသော Regular Expression နဲ့ ကိုက်ညီသော | <p align=\"left\"> \\$1 ~ /.*Shop/|\n",
    "| <p align=\"left\"> != | <p align=\"left\"> ပေးထားသော Regular Expression နဲ့ ကိုက်ညီသော | <p align=\"left\"> \\$4 != /hotmail/| \n",
    "\n",
    "လက်တွေ့ လုပ်ကြည့်တာက ပိုပြီးတော့ တတ်တာမြန်ပါတယ်။ awk ရဲ့ comparison expression တချို့ကို စမ်းကြည့်ကြရအောင်။  \n",
    "အောက်ပါ ဥပမာက rank.txt ဖိုင်ထဲက field နံပါတ် ၂ က 4500 အောက်ရှိတဲ့ စာကြောင်းတွေကိုပဲ ဆွဲထုတ်ပေးပါဆိုပြီး လုပ်ခိုင်းတာ ဖြစ်ပါတယ်။  "
   ]
  },
  {
   "cell_type": "code",
   "execution_count": 42,
   "metadata": {},
   "outputs": [
    {
     "name": "stdout",
     "output_type": "stream",
     "text": [
      "Kaung_MontHinGar\t4000\t537110\tkaung_monthingar@gmail.com\t*****\n",
      "Osaka_PaukSi\t1000\t232345\topauksi@gmail.com\t***\n",
      "Brain_BainMont\t500\t112111\tbbm@gmail.com\t*****\n",
      "Htoo_Coffee_Shop\t1500\t454567\thtoo_coffee@hotmail.com\t***\n",
      "Lu_Maik_Tea_Shop\t3000\t343434\tlumaik@gmail.com\t*****\n",
      "Brown_MontKyweThe\t4000\t787890\tbrown@yahoo.com\t***\n",
      "MainMa_PePyote\t3500\t382345\tmainmape@hotmail.com\t***\n"
     ]
    }
   ],
   "source": [
    "awk '$2<4500' ./rank.txt"
   ]
  },
  {
   "cell_type": "markdown",
   "metadata": {},
   "source": [
    "နောက်ထပ်ဥပမာ တစ်ခုကတော့ field နံပါတ် ၁ က Restaurant နဲ့ဆုံးတာ မဟုတ်တဲ့ စာလုံးတွေဆိုရင်၊ အဲဒီ field ကို print လုပ်ပေးပါ ဆိုပြီး ခိုင်းတာ ဖြစ်ပါတယ်။  "
   ]
  },
  {
   "cell_type": "code",
   "execution_count": 43,
   "metadata": {},
   "outputs": [
    {
     "name": "stdout",
     "output_type": "stream",
     "text": [
      "Kaung_MontHinGar\n",
      "Osaka_PaukSi\n",
      "Brain_BainMont\n",
      "Htoo_Coffee_Shop\n",
      "Lu_Maik_Tea_Shop\n",
      "Tokyo_Ramen\n",
      "Brown_MontKyweThe\n",
      "MainMa_PePyote\n",
      "Bitter_Cake\n",
      "NeverMind_MontHinGar\n"
     ]
    }
   ],
   "source": [
    "awk '$1 !~ /Restaurant$/ {print $1}' ./rank.txt"
   ]
  },
  {
   "cell_type": "markdown",
   "metadata": {},
   "source": [
    "အောက်ပါ ဥပမာက RE ကိုပဲ ကြည့်မယ်ဆိုရင် အထက်က ဥပမာနဲ့ သဘောတရားက ဆင်တူပါတယ်။  \n",
    "စာလုံးသာ Restaurant နဲ့ Shope ပဲကွာသွားတာပါ။ ဒီနေရာမှာတော့ \"ရှေ့ကစချင်တဲ့ စာလုံးနဲ့စပြီးနောက်ဆုံးမှာ Shope နဲ့ဆုံးတဲ့\" လို့အဓိပ္ပါယ်ရတဲ့ \"/.\\*Shop/\" RE ပါ။ အဲဒါကိုမှာ \"!~\" ဆိုတဲ့ comparison expression ပေးထားလို့ \"ရှေ့ကစချင်တဲ့ စာလုံးနဲ့စပြီးနောက်ဆုံးမှာ Shope နဲ့ မဆုံးတဲ့\" ဆိုတဲ့ အဓိပ္ပါယ်အဖြစ် ပြောင်းသွားတာပါ။ အဲဒီ RE ကို field နံပါတ် ၁ ကို apply လုပ်ထားတဲ့ ဥပမာပါ။   "
   ]
  },
  {
   "cell_type": "code",
   "execution_count": 65,
   "metadata": {},
   "outputs": [
    {
     "name": "stdout",
     "output_type": "stream",
     "text": [
      "Kaung_MontHinGar\n",
      "Osaka_PaukSi\n",
      "Brain_BainMont\n",
      "A_Wa_Sar_Restaurant\n",
      "Taung_Gyi_Noodle_Restaurant\n",
      "Tokyo_Ramen\n",
      "Brown_MontKyweThe\n",
      "MainMa_PePyote\n",
      "MuTuu_ChiTi_Restaurant\n",
      "Numpy_GaNan_Restaurant\n",
      "Bitter_Cake\n",
      "NeverMind_MontHinGar\n",
      "Bamboo_Chinese_Restaurant\n"
     ]
    }
   ],
   "source": [
    "awk '$1 !~ /.*Shop/ {print $1}' ./rank.txt"
   ]
  },
  {
   "cell_type": "markdown",
   "metadata": {},
   "source": [
    "အောက်ပါ ဥပမာကတော့ field နံပါတ် ၄ အီးမေး(လ်)လိပ်စာ နဲ့သက်ဆိုင်ပါတယ်။ RE ကတော့ \"!~ /hotmail/\" ဖြစ်လို့ hotmail ဆိုတဲ့ စာလုံးမပါတဲ့ အီးမေး(လ်) ဖြစ်ရမယ်ဆိုတဲ့ သတ်မှတ်ချက်ပါ။ print လုပ်ခိုင်းတဲ့ အခါမှာတော့ \"\\$0\" မို့လို့ RE သတ်မှတ်ချက်နဲ့ ကိုက်ညီတယ်ဆိုရင် စာကြောင်း တစ်ကြောင်းလုံးကို ရိုက်ထုတ်ခိုင်းထားတာပါ။  "
   ]
  },
  {
   "cell_type": "code",
   "execution_count": 63,
   "metadata": {},
   "outputs": [
    {
     "name": "stdout",
     "output_type": "stream",
     "text": [
      "Kaung_MontHinGar\t4000\t537110\tkaung_monthingar@gmail.com\t*****\n",
      "Osaka_PaukSi\t1000\t232345\topauksi@gmail.com\t***\n",
      "Brain_BainMont\t500\t112111\tbbm@gmail.com\t*****\n",
      "Lu_Maik_Tea_Shop\t3000\t343434\tlumaik@gmail.com\t*****\n",
      "Taung_Gyi_Noodle_Restaurant\t7000\t313131\ttgnoodle@yahoo.com\t**\n",
      "Tokyo_Ramen\t6500\t232312\ttokyomen@gmail.com\t****\n",
      "Brown_MontKyweThe\t4000\t787890\tbrown@yahoo.com\t***\n",
      "MuTuu_ChiTi_Restaurant\t9000\tmutuuchit@gmail.com\t*****\n",
      "Numpy_GaNan_Restaurant\t20000\t414235\tnumpy@yahoo.com\t***\n",
      "Bitter_Cake\t5000\t999434\tbitter@gmail.com\t*****\n",
      "NeverMind_MontHinGar\t5000\t330021\tnevermind@yahoo.com\t**\n"
     ]
    }
   ],
   "source": [
    "awk '$4 !~ /hotmail/ {print $0}' ./rank.txt"
   ]
  },
  {
   "cell_type": "markdown",
   "metadata": {},
   "source": [
    "ဒီအဆင့်မှာတော့ awk script ဖိုင်သုံးပုံသုံးနည်းကို မိတ်ဆက်ပါမယ်။  \n",
    "awk က အထက်မှာ သင်ပြခဲ့သလို command line မှာ တန်းရိုက်ပြီး run လို့ရသလို၊ နောက်လိုတဲ့အခါ ရိုက်စရာမလိုပဲ အလွယ်တကူသုံးလို့ရအောင် script ဖိုင်အနေနဲ့ သိမ်းထားလို့လည်း ရပါတယ်။ နမူနာ awk script ဖိုင်ကို \"cat\" command နဲ့ ရိုက်ပြီး ဖတ်ကြည့်ရအောင်။ "
   ]
  },
  {
   "cell_type": "code",
   "execution_count": 78,
   "metadata": {},
   "outputs": [
    {
     "name": "stdout",
     "output_type": "stream",
     "text": [
      "#demo of awk script file\n",
      "\n",
      "BEGIN {OFS=\", \"; print \"### Rank of Restaurants ###\\n\";}\n",
      "$1 ~ /Restaurant$/ {print NR, $1, $5}\n",
      "END {print \"\\n===== End of list ===== \"}\n"
     ]
    }
   ],
   "source": [
    "cat ranking.awk"
   ]
  },
  {
   "cell_type": "markdown",
   "metadata": {},
   "source": [
    "awk ရဲ့ script ဖိုင် run တဲ့ပုံစံက ပထမဆုံး BEGIN{...} ထဲက awk အမိန့်တွေကို လုပ်ပေးပါတယ်။  \n",
    "ပြီးတဲ့အခါမှာ input stream ကို ဖတ်ပြီး body အပိုင်း (BEGIN နဲ့ END အကြား) မှာရှိတဲ့ awk အမိန့်တွေကို ဖတ်ထားတဲ့ input stream အပေါ်မှာ အလုပ်လုပ်ပေးပါတယ်။ body အပိုင်းထဲက အမိန့်တွေကို input stream ထဲမှာရှိတဲ့ စာကြောင်းတွေကုန်တဲ့အထိ ထပ်ခါထပ်ခါ လုပ်ပေးပါတယ်။\n",
    "နောက်ဆုံး input stream ထဲက စာကြောင်းတွေအကုန် ကုန်သွားတော့မှပဲ END{...} ထဲက awk အမိန့်တွေကို ဆောင်ရွက်ပေးပါတယ်။ \n",
    "\n",
    "ranking.awk ဖိုင်မှာ ရေးပြထားသလို၊ BEGIN{...} မှာက variable setting, အလုပ်မစခင်မဟာ ကြိုရိုက်ပေးစေချင်တဲ့ heading အပိုင်းတွေကို လုပ်ခိုင်းတာများပါတယ်။ ထိုနည်းလည်းကောင်းပဲ END{...} မှာလည်း body အပိုင်းက အလုပ်တွေပြီးဆုံးသွားပြီး၊ ပရိုဂရမ်ကနေ မထွက်ခင်မှာ လုပ်စေချင်တဲ့ အလုပ် (ဥပမာ ပရိုဂရမ်က ဘာအမှားယွင်းမှ မရှိပဲ အောင်အောင်မြင်မြင်နဲ့ ပြီးဆုံးသွားကြောင်း) တွေကို လုပ်ခိုင်းလေ့ရှိပါတယ်။    \n",
    "\n",
    "awk script ဖိုင်ကို ခေါ်run ချင်တဲ့ အခါမှာ \"awk\" command ကို \"-f\" option နဲ့ run ရပါတယ်။  \n",
    "ranking.awk script ကို rank.txt ဖိုင်နဲ့ run ကြည့်တဲ့အခါမှာ အောက်ပါအတိုင်း တွေ့ရပါလိမ့်မယ်။  \n",
    "ranking.awk script ဖိုင်ထဲမှာ ရေးသားထားတဲ့ awk အမိန့်တွေနဲ့ ထွက်လာတဲ့ output တွေကို နှိုင်းယှဉ်ကြည့်ပြီး ဘာအလုပ်တွေကို လုပ်ပေးသွားသလဲ ဆိုတာကို နားလည်အောင် ကြိုးစားကြည့်ပါ။  "
   ]
  },
  {
   "cell_type": "code",
   "execution_count": 79,
   "metadata": {},
   "outputs": [
    {
     "name": "stdout",
     "output_type": "stream",
     "text": [
      "### Rank of Restaurants ###\n",
      "\n",
      "6, A_Wa_Sar_Restaurant, ****\n",
      "7, Taung_Gyi_Noodle_Restaurant, **\n",
      "11, MuTuu_ChiTi_Restaurant, \n",
      "12, Numpy_GaNan_Restaurant, ***\n",
      "15, Bamboo_Chinese_Restaurant, ****\n",
      "\n",
      "===== End of list ===== \n"
     ]
    }
   ],
   "source": [
    "awk -f ranking.awk ./rank.txt"
   ]
  },
  {
   "cell_type": "markdown",
   "metadata": {},
   "source": [
    "\"awk\" command နဲ့ pattern နှစ်ခုအကြားက စာကြောင်းတွေကို ရိုက်ထုတ်ပြပါ ဆိုပြီးတော့ ခိုင်းချင်တဲ့ အခါမှာတော့  \n",
    "awk '/pattern1/, /pattern2/' ဆိုတဲ့ ပုံစံနဲ့ သွားပါတယ်။  \n",
    "ဥပမာ fileA အထဲက Mingalar နဲ့ April စာလုံးတွေအကြားမှာရှိတဲ့ စာကြောင်းတွေကို ရိုက်ထုတ်ပြပေးစေချင်ရင် အောက်ပါအတိုင်း အမိန့်ပေးခိုင်းလို့ ရပါတယ်။  "
   ]
  },
  {
   "cell_type": "code",
   "execution_count": 149,
   "metadata": {},
   "outputs": [
    {
     "name": "stdout",
     "output_type": "stream",
     "text": [
      "Mingalar bar!\n",
      "I am fileA.\n",
      "I was born in April.\n"
     ]
    }
   ],
   "source": [
    "awk '/Mingalar/,/April/' ./fileA"
   ]
  },
  {
   "cell_type": "markdown",
   "metadata": {},
   "source": [
    "အောက်ပါ awk ဥပမာကတော့ \"Mingalar\" နဲ့ \"April\" အကြားမှာရှိတဲ့ စာကြောင်းတွေအထဲကမှ \"Mingalar\" နဲ့ \"April\" စာလုံးတွေမပါတဲ့ စာကြောင်းဆိုတဲ့ condition ပေးပြီး run တာဖြစ်ပါတယ်။ အဲဒါကြောင့် output က \"I am fileA\" ဆိုတဲ့ စာကြောင်း တစ်ကြောင်းပဲ ရိုက်ပြတာ ဖြစ်ပါတယ်။  "
   ]
  },
  {
   "cell_type": "code",
   "execution_count": 66,
   "metadata": {},
   "outputs": [
    {
     "name": "stdout",
     "output_type": "stream",
     "text": [
      "I am fileA.\n"
     ]
    }
   ],
   "source": [
    "awk '/Mingalar/,/April/{if (!/Mingalar/&&!/April/) print}' ./fileA"
   ]
  },
  {
   "cell_type": "markdown",
   "metadata": {},
   "source": [
    "တကယ်လို့ ကျွန်တော်တို့က contition ကို \"if (!/Mingalar/) print\" လို့ပြောင်းလိုက်ရင်တော့  \n",
    "\"I am fileA.\" နဲ့ \"I was born in April\" ဆိုတဲ့ စာကြောင်းနှစ်ကြောင်း ကို ရိုက်ထုတ်ပြပေးပါလိမ့်မယ်။  "
   ]
  },
  {
   "cell_type": "code",
   "execution_count": 67,
   "metadata": {
    "scrolled": true
   },
   "outputs": [
    {
     "name": "stdout",
     "output_type": "stream",
     "text": [
      "I am fileA.\n",
      "I was born in April.\n"
     ]
    }
   ],
   "source": [
    "awk '/Mingalar/,/April/{if (!/Mingalar/) print}' ./fileA"
   ]
  },
  {
   "cell_type": "markdown",
   "metadata": {},
   "source": [
    "\"if (!/April/) print\" ဆိုတဲ့ condition နဲ့ ပြောင်း run ကြည့်ရအောင်။  "
   ]
  },
  {
   "cell_type": "code",
   "execution_count": 68,
   "metadata": {},
   "outputs": [
    {
     "name": "stdout",
     "output_type": "stream",
     "text": [
      "Mingalar bar!\n",
      "I am fileA.\n"
     ]
    }
   ],
   "source": [
    "awk '/Mingalar/,/April/{if (!/April/) print}' ./fileA"
   ]
  },
  {
   "cell_type": "markdown",
   "metadata": {},
   "source": [
    "\"NR\" က ရှေ့ဇယားမှာ ရှင်းပြခဲ့သလို လက်ရှိရောက်နေတဲ့ record နံပါတ် (တနည်းအားဖြင်း လိုင်းနံပါတ်ပါပဲ) ကို သိမ်းထားတဲ့ variable ဖြစ်ပါတယ်။ အဲဒါကြောင့် \"print NR, \\$0\" ကတော့ input stream (i.e. fileA) ထဲမှာ ရှိတဲ့ record နံပါတ် တွေကိုရော လက်ရှိ record (စာကြောင်း) ကိုရော print လုပ်ပေးပါလို့ ခိုင်းတဲ့ ပုံစံဖြစ်ပါတယ်။  "
   ]
  },
  {
   "cell_type": "code",
   "execution_count": 73,
   "metadata": {},
   "outputs": [
    {
     "name": "stdout",
     "output_type": "stream",
     "text": [
      "1 Mingalar bar!\n",
      "2 I am fileA.\n",
      "3 I was born in April.\n",
      "4 My blood type is O.\n"
     ]
    }
   ],
   "source": [
    "awk '{ print NR, $0}' ./fileA"
   ]
  },
  {
   "cell_type": "markdown",
   "metadata": {},
   "source": [
    "အောက်ပါ ဥပမာကတော့ input stream ရဲ့ အဆုံးကို ရောက်တဲ့အခါမှာ (END ဆိုတာနဲ့ ညွှန်ကြားထား)၊ NR variable ထဲမှာ သိမ်းထားတဲ့ တန်ဖိုး (record number) ကို ရိုက်ထုတ်ပြပါဆိုပြီး awk ကို ခိုင်းထားတာ ဖြစ်ပါတယ်။ အဲဒီအလုပ်က fileA ကို input stream အဖြစ် ပေးထားတာ မို့လို့ fileA ထဲမှာ ရှိတဲ့ စာကြောင်းအရေအတွက် ကို ရိုက်ထုတ်ပြခိုင်းတာ ဖြစ်ပါတယ်။  "
   ]
  },
  {
   "cell_type": "code",
   "execution_count": 14,
   "metadata": {},
   "outputs": [
    {
     "name": "stdout",
     "output_type": "stream",
     "text": [
      "4\n"
     ]
    }
   ],
   "source": [
    "awk 'END {print NR}' ./fileA"
   ]
  },
  {
   "cell_type": "markdown",
   "metadata": {},
   "source": [
    "နောက်ထပ် ဥပမာတစ်ခုကို ကြည့်ရအောင်။  \n",
    "\"NR==2\" ဆိုတာက record နံပါတ် ၂ (စာကြောင်း နံပါတ် ၂) ကို print လုပ်ခိုင်းတာပါ။  \n",
    "awk ရဲ့ default အလုပ်က print အလုပ်မို့လို condition နဲ့ ကိုက်ညီတဲ့အခါမှာ တခြားဘာအလုပ်မှ assign မလုပ်ထားရင်  \n",
    "စာကြောင်းကို ရိုက်ထုတ်ပေးတဲ့ အလုပ် (print) ကို လုပ်ပေးပါတယ်။  "
   ]
  },
  {
   "cell_type": "code",
   "execution_count": 24,
   "metadata": {},
   "outputs": [
    {
     "name": "stdout",
     "output_type": "stream",
     "text": [
      "I am fileA.\n"
     ]
    }
   ],
   "source": [
    "awk 'NR==2' ./fileA"
   ]
  },
  {
   "cell_type": "markdown",
   "metadata": {},
   "source": [
    "နောက်လာမဲ့ ဥပမာတွေမှာ \"item-list\" ဆိုတဲ့ဖိုင်ကို သုံးမယ်။  \n",
    "အဲဒီဖိုင်ထဲမှာတော့ fileA မှာလို စာကြောင်းတွေကို သိမ်းထားတာမဟုတ်ပဲ၊ ကော်လံသုံးခုခွဲထားပြီး field ၃ခုအဖြစ် ပြင်ဆင်ထားတဲ့ ဖိုင်ပါ။  \n",
    "\"cat\" command နဲ့ item-list ဖိုင်ကို ရိုက်ထုတ်ကြည့်ရအောင်။  "
   ]
  },
  {
   "cell_type": "code",
   "execution_count": 27,
   "metadata": {},
   "outputs": [
    {
     "name": "stdout",
     "output_type": "stream",
     "text": [
      "No\tItem\tStock\n",
      "1\tpencil\t10\n",
      "2\truler\t1000\n",
      "3\teraser\t42\n"
     ]
    }
   ],
   "source": [
    "cat ./item-list"
   ]
  },
  {
   "cell_type": "markdown",
   "metadata": {},
   "source": [
    "awk ရဲ့ built-in \"NF\" variable က input stream ကနေ လက်ရှိရောက်နေတဲ့ record မှာ ရှိတဲ့ field အရေအတွက် စုစုပေါင်း ကို သိမ်းပေးထားတာမို့၊ \"print NF\" ဆိုပြီး ဘာ condition မှ မပေးပဲ awk ကို run ရင် record တိုင်းရဲ့ field စုစုပေါင်း (တနည်းအားဖြင့် ဒေတာရှိနေတဲ့ ကော်လံ အရေအတွက် စုစုပေါင်း) ကို ရိုက်ထုတ်ပြပေးပါလိမ့်မယ်။ ဒီ အလုပ်က ဒေတာဖိုင် (ဒေတာဘေစ့် ဖိုင်) တွေရဲ့ field အရေအတွက်ကို စစ်ဆေးဖို့ ကြုံလာတဲ့အခါမှာ အသုံးဝင်ပါတယ်။ ဒေတာပြင်ဆင်ချင်မှာ ရိုက်ထည့်ဖို့ ကျန်ခဲ့တာတွေများရှိသလား ဆိုပြီး စစ်ဆေးတဲ့ အခါမှာ သုံးပါတယ်။   "
   ]
  },
  {
   "cell_type": "code",
   "execution_count": 26,
   "metadata": {},
   "outputs": [
    {
     "name": "stdout",
     "output_type": "stream",
     "text": [
      "3\n",
      "3\n",
      "3\n",
      "3\n"
     ]
    }
   ],
   "source": [
    "awk ' {print NF}' ./item-list"
   ]
  },
  {
   "cell_type": "markdown",
   "metadata": {},
   "source": [
    "awk ကို သုံးတဲ့အခါမှာ ဂရုပြုစေချင်တာက \"NF\" နဲ့ \"\\$NF\" က မတူဘူး ဆိုတဲ့ အချက်ပါ။  \n",
    "\"\\$NF\" ကတော့ \"field no.1\" ကို ကိုယ်စားပြုတဲ့ \"\\$1\", \"field no.2\" ကို ကိုယ်စားပြုတဲ့ \"\\$2\" စတဲ့ \"\\$1\", \"\\$2\", \"\\$3\" ... ဆိုတဲ့ နေရာမှာ built-in variable ဖြစ်တဲ့ NF နဲ့ အစားထိုးပြီးသုံးတဲ့ ပုံစံပါ။  \n",
    "ဒီအချက်ကို မသိထားရင် မျက်စိလည်သွားနိုင်ပါတယ်။  \n",
    "\n",
    "အထက်က ဥပမာတွေမှာ ရှင်းပြခဲ့သလို NF က လက်ရှိရောက်နေတဲ့ record ရဲ့ field အရေအတွက် စုစုပေါင်းကို သိမ်းထားတာမို့လို့၊ field က သုံးခုရှိရင် ၃ ဆိုတဲ့ ဂဏန်းက NF variable ထဲမှာ ရှိနေပါမယ်။ အဲဒါကြောင့် နောက်ဆုံး field မှာရှိနေတဲ့ ဒေတာကို ရိုက်ထုတ်ခိုင်းချင်တဲ့အခါမှာ \\$3 အစား \\$NF ကိုသုံးတဲ့ ပုံစံပါ။ အောက်ပါ \"awk\" command ကို run ကြည့်ပြီးတော့ လေ့လာပါ။   \n"
   ]
  },
  {
   "cell_type": "code",
   "execution_count": 28,
   "metadata": {},
   "outputs": [
    {
     "name": "stdout",
     "output_type": "stream",
     "text": [
      "42\n"
     ]
    }
   ],
   "source": [
    "awk '{field = $NF} END {print field}' ./item-list"
   ]
  },
  {
   "cell_type": "markdown",
   "metadata": {},
   "source": [
    "အောက်ပါ ဥပမာကတော့ နောက်ဆုံး field ရဲ့ တန်ဖိုး (သို့) ဒေတာက ၁၀၀ ထက် ကြီးတဲ့ ဆိုတဲ့ condition ကို ပေးထားတာ ဖြစ်ပါတယ်။ ကိုယ်အလုပ်လုပ်မဲ့ ဖိုင်မှာပါတဲ့ field အရေအတွက်ကို ကြိုသိနေတယ်ဆိုရင်တော့ \"\\$NF > 100\" ဆိုတဲ့ condition ကို ကျွန်တော်တို့က \"\\$3 > 100\" ဆိုပြီး ပေးရင်လည်း အဖြေကတော့ အတူတူပဲ ရပါလိမ့်မယ်။  "
   ]
  },
  {
   "cell_type": "code",
   "execution_count": 34,
   "metadata": {},
   "outputs": [
    {
     "name": "stdout",
     "output_type": "stream",
     "text": [
      "No\tItem\tStock\n",
      "2\truler\t1000\n"
     ]
    }
   ],
   "source": [
    "awk '$NF > 100' ./item-list"
   ]
  },
  {
   "cell_type": "markdown",
   "metadata": {},
   "source": [
    "နောက်ထပ် အသုံးဝင်တဲ့ ဥပမာ တစ်ခုကို မိတ်ဆက်ပေးချင်ပါတယ်။  \n",
    "\"nf += $3\" ဆိုတာက nf ဆိုပြီးနာမည်ပေးထားတဲ့ variable တစ်ခုထဲကို field နံပါတ် ၃ (i.e. \\$3) မှာရှိတဲ့ တန်ဖိုးတွေကို  \n",
    "ပေါင်းပေါင်းထည့်သိမ်းခိုင်းထားပြီး input stream ရဲ့ နောက်ဆုံးလိုင်းကို ရောက်တဲ့အချိန်ကြတော့မှ  \n",
    "စကရင်မှာ အဲဒီ သိမ်းထားတဲ့ \"nf\" variable ကို ရိုက်ထုတ်ခိုင်းတာ ဖြစ်ပါတယ်။"
   ]
  },
  {
   "cell_type": "code",
   "execution_count": 39,
   "metadata": {},
   "outputs": [
    {
     "name": "stdout",
     "output_type": "stream",
     "text": [
      "1052\n"
     ]
    }
   ],
   "source": [
    "\n",
    "awk '{nf += $3} END {print nf}' ./item-list"
   ]
  },
  {
   "cell_type": "markdown",
   "metadata": {},
   "source": [
    "item-list ဖိုင်ထဲမှာရှိတဲ့ ကော်လံနံပါတ် ၃ ရဲ့ တန်ဖိုးတွေက 10, 1000, 42 ဆိုပြီး အောက်ပါအတိုင်းရှိတာကြောင့်  \n",
    "\n",
    "```\n",
    "No\tItem\tStock\n",
    "1\tpencil\t10\n",
    "2\truler\t1000\n",
    "3\teraser\t42\n",
    "```\n",
    "စုစုပေါင်းတန်ဖိုး ဖြစ်တဲ့ 1052 ကို ရိုက်ထုတ်ပြသွားတာဖြစ်ပါတယ်။  \n",
    "\n",
    "နောက်ထပ် ဥပမာ တစ်ခုကို ဆက်လေ့လာကြရအောင်။  \n",
    "ဒီတစ်ခါတော့ ကော်လံသုံးခုထဲကမှ ကော်လံနံပါတ် ၁ (\\$1) နဲ့ ကော်လံနံပါတ် ၃ (\\$3) ကိုပဲ ရိုက်ထုတ်ခိုင်းမှာ ဖြစ်ပါတယ်။  \n",
    "ရိုက်ထုတ်ခိုင်းတဲ့ အခါမှာ လိုင်းနံပါတ်ကို တပ်ပေးစေချင်လို့ NR ကို ရှေ့ဆုံးမှာ ထည့်ထားတာ ဖြစ်ပါတယ်။  "
   ]
  },
  {
   "cell_type": "code",
   "execution_count": 44,
   "metadata": {},
   "outputs": [
    {
     "name": "stdout",
     "output_type": "stream",
     "text": [
      "1 No Stock\n",
      "2 1 10\n",
      "3 2 1000\n",
      "4 3 42\n"
     ]
    }
   ],
   "source": [
    "awk '{print NR ,$1, $3}' ./item-list"
   ]
  },
  {
   "cell_type": "markdown",
   "metadata": {},
   "source": [
    "awk မှာ while နဲ့လည်း looping ပတ်လို့ရပါတယ်။  \n",
    "ဥပမာ variable \"i\" ကို \"1\" ကနေ \"5\" အထိ တစ်ခုချင်းတိုးပြီး print လုပ်စေချင်တယ် ဆိုရင် အောက်ပါအတိုင်း command ပေးလို့ ရပါတယ်။  "
   ]
  },
  {
   "cell_type": "code",
   "execution_count": 45,
   "metadata": {},
   "outputs": [
    {
     "name": "stdout",
     "output_type": "stream",
     "text": [
      "1\n",
      "2\n",
      "3\n",
      "4\n",
      "5\n"
     ]
    }
   ],
   "source": [
    "awk 'BEGIN {i = 1; while (i < 6) { print i; ++i } }'"
   ]
  },
  {
   "cell_type": "markdown",
   "metadata": {},
   "source": [
    "အထက်ပါ အလုပ်ကိုပဲ do, while looping နဲ့ လုပ်ခိုင်းမယ်ဆိုရင်လည်း အောက်ပါအတိုင်း လုပ်ခိုင်းနိုင်ပါတယ်။  "
   ]
  },
  {
   "cell_type": "code",
   "execution_count": 46,
   "metadata": {},
   "outputs": [
    {
     "name": "stdout",
     "output_type": "stream",
     "text": [
      "1\n",
      "2\n",
      "3\n",
      "4\n",
      "5\n"
     ]
    }
   ],
   "source": [
    "awk 'BEGIN {i = 1; do { print i; ++i } while (i < 6) }'"
   ]
  },
  {
   "cell_type": "markdown",
   "metadata": {},
   "source": [
    "awk မှာ Function ဆောက်ထားပြီး ခေါ်သုံးလို့လည်း ရပါတယ်။  \n",
    "အောက်ပါ ဥပမာက commandInfo ဆိုတဲ့ parameter နှစ်ခု (\"cmd\" နဲ့ \"id\") ကို လက်ခံတဲ့ function ကို ဆောက်ထားပြီး  \n",
    "ခေါ်သုံးတဲ့ ပုံစံပါ။ \"cmd\" parameter ဆီကိုတော့ \"awk\" ဆိုတဲ့ string ကို pass လုပ်ပြီး၊ \"id\" parameter ဆီကိုတော့ \"ID\" variable ကို pass လုပ်လိုက်ပါတယ်။ လက်ခံရရှိတဲ့ variable \"cmd\" နဲ့ \"id\" ကိုတော့ commandInfo ထဲမှာရှိတဲ့ \"print\" statement က ရိုက်ထုတ်ပေးပါတယ်။  "
   ]
  },
  {
   "cell_type": "code",
   "execution_count": 58,
   "metadata": {},
   "outputs": [
    {
     "name": "stdout",
     "output_type": "stream",
     "text": [
      " Command Name:  awk \n",
      " Command No.:  30\n"
     ]
    }
   ],
   "source": [
    "awk '\n",
    "function commandInfo( cmd, id )\n",
    "{\n",
    "   print \" Command Name: \", cmd, \"\\n Command No.: \", id\n",
    "}\n",
    "\n",
    "BEGIN {\n",
    "   ID = 30 #assign 30 into variable ID\n",
    "   commandInfo( \"awk\", ID )\n",
    "}'"
   ]
  },
  {
   "cell_type": "markdown",
   "metadata": {},
   "source": [
    "ဒီအဆင့်ထိ ဖတ်ပြီးသွားပြီ ဆိုရင်တော့ awk အကြောင်းကို တီးမိခေါက်မိတော့ ရှိပြီလို့ ထင်ပါတယ်။  \n",
    "\"sed\" ရော \"awk\" ရောက ပရိုဂရမ်မင်း ဘာသာစကားတွေမို့လို့ တကယ်တမ်း အသေးစိတ်နားလည်အောင်က အင်္ဂလိပ်လို ရေးသားထားတဲ့ စာအုပ်တွေကို အချိန်ယူဖတ်ရှု့လေ့လာပြီး awk statement တွေကို အမျိုးမျိုး စမ်းရေးကြည့်မှပဲ ကျွမ်းကျင်မှာ ဖြစ်ပါတယ်။  \n",
    "\n",
    "နိဂုံးချုပ်အနေနဲ့ sed နဲ့ awk command နှစ်မျိုးစလုံးက ဖိုင်တွေထဲမှာရှိတဲ့ ဒေတာတွေကို ဆွဲထုတ်ယူဖို့အတွက် တကယ့်ကို powerful ဖြစ်တဲ့ command တွေဖြစ်ပါတယ်။ သူတို့ နှစ်ခုရဲ့ အဓိက ကွာတာကတော့ \"sed\" က raw data (စာကြောင်းတွေကို သိမ်းထားတဲ့ ဖိုင်လိုမျိုး) တွေအတွက် ရည်ရွယ်ထားတာဖြစ်ပြီး၊ \"awk\" ကတော့ structured data (ဒေတာတွေကို ကော်လံသေသေချာချာ ခွဲခြားထားပြီး သိမ်းဆည်းထားတဲ့ ဖိုင်လိုမျိုး) အတွက် ဒီဇိုင်း လုပ်ထားတာ ဖြစ်ပါတယ်။  "
   ]
  },
  {
   "cell_type": "markdown",
   "metadata": {},
   "source": [
    "## 31. tac (concatenate and print files in reverse)\n",
    "\n",
    "ဖိုင်ထဲမှာရှိတဲ့ စာကြောင်းတွေကို ဖိုင်ရဲ့နောက်ဆုံးစာကြောင်းကနေ ထိပ်ဆုံးအကြောင်းထိ ပြောင်းပြန်ပြန်ရိုက်ပေးတဲ့ command ပါ။  \n",
    "(တနည်းအားဖြင့် ရှေ့ပိုင်းမှာ လေ့လာခဲ့တဲ့ cat command ရဲ့ ဆန့်ကျင်ဘက် အလုပ်ကို လုပ်ပေးပါတယ်)\n"
   ]
  },
  {
   "cell_type": "code",
   "execution_count": 59,
   "metadata": {},
   "outputs": [
    {
     "name": "stdout",
     "output_type": "stream",
     "text": [
      "My blood type is O.\n",
      "I was born in April.\n",
      "I am fileA.\n",
      "Mingalar bar!\n"
     ]
    }
   ],
   "source": [
    "tac fileA"
   ]
  },
  {
   "cell_type": "markdown",
   "metadata": {},
   "source": [
    "အောက်ပါအတိုင်း fileA ကို cat နဲ့ ရိက်ကြည့်ပြီး tac command ရဲ့ output နဲ့ နှိုင်းယှဉ်ကြည့်ရင် ဘယ်လိုကွာသလဲဆိုတာကို မြင်ပါလိမ့်မယ်။  "
   ]
  },
  {
   "cell_type": "code",
   "execution_count": 60,
   "metadata": {},
   "outputs": [
    {
     "name": "stdout",
     "output_type": "stream",
     "text": [
      "Mingalar bar!\n",
      "I am fileA.\n",
      "I was born in April.\n",
      "My blood type is O.\n"
     ]
    }
   ],
   "source": [
    "cat fileA"
   ]
  },
  {
   "cell_type": "markdown",
   "metadata": {},
   "source": [
    "\"tac\" command ရဲ့ အသုံးဝင်ပုံ ဥပမာတစ်ခုကတော့ တကယ်လို့ အရေးကြီးတဲ့ ဒေတာတွေသိမ်းထားတဲ့ ဖိုင်တစ်ဖိုင်ရဲ့ တစ်နေရာရာမှာ ပျက်နေတယ် (bad block ရှိနေတယ်) ဆိုတဲ့ အခါမျိုးမှာ သုံးတာမျိုးဖြစ်ပါတယ်။ ဆိုကြပါစို့ fileA မှာ \"was born\" ဆိုတဲ့ နေရာမှာ bad block ဖြစ်နေတယ်။ အဲဒီလို အခြေအနေမျိုးမှာ \"cat fileA\" ဆိုပြီး command ပေးရင်\n",
    "\n",
    "```\n",
    "Mingalar bar!\n",
    "I am fileA.\n",
    "I\n",
    "```\n",
    "\n",
    "အထိ ရိုက်ပြပြီး error ပေးပြီး ရပ်သွားပါလိမ့်မယ်။  \n",
    "ဘယ်လောက်အတိုင်းအတာအထိ၊ ဘယ်ကနေ ဘယ်အထိ ဖိုင်က ပျက်နေတာလဲ ဆိုတာကို သိချင်တဲ့ အခါမျိုး၊ နောက်ပြီးတော့ ပျက်နေတဲ့ အပိုင်းကို မရိုက်ပြပေးနိုင်ရင်တောင် ရသလောက်ပြန်ပြီးတော့ ဖိုင်ကို recover လုပ်ချင်တဲ့ အခါမျိုးမှာ အောက်ပါအတိုင်း \"tac\" command ကို သုံးပါတယ်။  \n",
    "```bash\n",
    "(cat fileA ; tac fileA | tac ) > check.out\n",
    "```\n",
    "\n",
    "မြင်မယ်လို့ ထင်ပါတယ်။  \n",
    "အရင်ဆုံး fileA ကို ရိုက်ပေးနိုင်သလောက် cat နဲ့ ရိုက်ခိုင်းပြီး၊ အဲဒီဖိုင်ကိုပဲ အောက်ဘက်ကနေ ပြောင်းပြန် bad block ရှိတဲ့အထိ tac နဲ့ ပြန်ရိုက်ခိုင်းပြီး၊ အဲဒီ အစီအစဉ်ပြောင်းပြန်ဖြစ်နေတာကို နောက်တစ်ခေါက် tac နဲ့ ပြန်ရိုက်ခိုင်းတော့ ပုံမှန်အစီအစဉ်အတိုင်း ပြန်ပြပေးပါလိမ့်မယ်။ အဲဒီ cat နဲ့ tac, tac က ရိုက်ပြတဲ့ output တွေအားလုံးကို ပေါင်းပြီး check.out မှာ recover ဖိုင်အဖြစ်နဲ့ သိမ်းတာ ဖြစ်ပါတယ်။ အဲဒါဆိုရင် ပြန်ရမယ်လို့ မျှော်လင့်ရတာက အောက်ပါအတိုင်း ဖြစ်ပါလိမ့်မယ်။  \n",
    "\n",
    "```\n",
    "Mingalar bar!\n",
    "I am fileA.\n",
    "I\n",
    "in April.\n",
    "My blood type is O.\n",
    "```\n"
   ]
  },
  {
   "cell_type": "markdown",
   "metadata": {},
   "source": [
    "## 32. rev (reverse lines characterwise)\n",
    "\n",
    "rev command က ဖိုင်ထဲမှာ ရှိတဲ့ စာကြောင်း တစ်ကြောင်းချင်းစီကို ပြောင်းပြန်ပြန်ရိုက်ပေးတဲ့ အလုပ်ကို လုပ်ပေးပါတယ်။  \n",
    "\n",
    "ရှေ့မှာ အကြိမ်ကြိမ် သုံးခဲ့တဲ့ fileA ကို rev command ကို သုံးပြီး ပြောင်းပြန်ပြန်ရိုက်ခိုင်းကြည့်ရအောင်။  "
   ]
  },
  {
   "cell_type": "code",
   "execution_count": 1,
   "metadata": {},
   "outputs": [
    {
     "name": "stdout",
     "output_type": "stream",
     "text": [
      "!rab ralagniM\n",
      ".Aelif ma I\n",
      ".lirpA ni nrob saw I\n",
      ".O si epyt doolb yM\n"
     ]
    }
   ],
   "source": [
    "rev fileA"
   ]
  },
  {
   "cell_type": "markdown",
   "metadata": {},
   "source": [
    "\"echo\" command ကနေ 1 to 10 ကို pipe နဲ့ \"rev\" command ဆီကို pass လုပ်ကြည့်ရအောင်  "
   ]
  },
  {
   "cell_type": "code",
   "execution_count": 63,
   "metadata": {},
   "outputs": [
    {
     "name": "stdout",
     "output_type": "stream",
     "text": [
      "01 9 8 7 6 5 4 3 2 1\n"
     ]
    }
   ],
   "source": [
    " echo \"1 2 3 4 5 6 7 8 9 10\" | rev"
   ]
  },
  {
   "cell_type": "markdown",
   "metadata": {},
   "source": [
    "\"rev\" command က text ဖိုင်တွေနဲ့ အလုပ်လုပ်တာ များတဲ့ NLP (Natural Language Processing) သုတေသနအတွက် အသုံးတည့်တဲ့ အခါမျိုးတွေ ရှိတတ်ပါတယ်။ ဥပမာ ဖိုင်တစ်ဖိုင်ရဲ့ နောက်ဆုံးစာလုံးတွေကို ပဲ ဆွဲထုတ်ချင်တဲ့ အခါမှာ အောက်ပါအတိုင်း \"rev\" command နဲ့ \"cut\" command ကို တွဲသုံးလို့ ရပါတယ်။ အောက်ပါအတိုင်း အင်္ဂလိပ်စာကြောင်းအဆုံးမှာ ရှိတဲ့ punctuation character တွေကို ရိုက်ထုတ်ပေးတာ တွေ့ရပါလိမ့်မယ်။   "
   ]
  },
  {
   "cell_type": "code",
   "execution_count": 68,
   "metadata": {},
   "outputs": [
    {
     "name": "stdout",
     "output_type": "stream",
     "text": [
      "!\n",
      ".\n",
      ".\n",
      ".\n"
     ]
    }
   ],
   "source": [
    "cat fileA | rev | cut -c1"
   ]
  },
  {
   "cell_type": "markdown",
   "metadata": {},
   "source": [
    "## 33. paste (merge lines of files)\n",
    "\n",
    "\"paste\" command ကို ဖိုင်တွေထဲမှာရှိတဲ့ စာကြောင်းတွေကို ပေါင်းပြီး ရိုက်ထုတ်ချင်တဲ့ အခါ၊ ပေါင်းပြီး သိမ်းချင်တဲ့ အခါတွေမှာ အသုံးပြုပါတယ်။  \n",
    "လက်တွေ့မှာ အရမ်းကို အသုံးဝင်တဲ့ command တစ်ခု ဖြစ်ပါတယ်။  \n",
    "\n",
    "ဥပမာ fileA နှင့် fileB ကို ပေါင်းပြီး ရိုက်ထုတ်ပေးခိုင်းချင်တဲ့ အခါမှာ အောက်ပါအတိုင်း paste command ကို အသုံးပြုနိုင်ပါတယ်။  \n"
   ]
  },
  {
   "cell_type": "code",
   "execution_count": null,
   "metadata": {
    "collapsed": true
   },
   "outputs": [],
   "source": [
    "paste fileA fileB"
   ]
  },
  {
   "cell_type": "markdown",
   "metadata": {},
   "source": [
    "ဘာ parameter မှ မပေးဘူးဆိုရင် paste command က ဖိုင်တစ်ဖိုင်နဲ့ တစ်ဖိုင်ကြားကို tab နဲ့ ခြားပေးပါလိမ့်မယ်။ တကယ်လို့ ကိုယ်ကခြားပေးစေချင်တဲ့ စာလုံးကို -d (သို့) --delimiters ဆိုတဲ့ parameter နဲ့ ညွှန်ကြားပေးရင်၊ အဲဒီညွှန်ကြားပေးတဲ့ parameter နဲ့ ခြားပြီး မော်နီတာ စကရင်မှာ ရိုက်ထုတ်ပေးပါလိမ့်မယ်။  \n",
    "\n",
    "ဥပမာ fileA နှင့် fileB အကြားက စာကြောင်းတွေကို pipe စာလုံး (\"|\") နဲ့ ခြားပေးစေချင်ရင် အောက်ပါအတိုင်း command ပေးလို့ ရပါတယ်။  "
   ]
  },
  {
   "cell_type": "code",
   "execution_count": 71,
   "metadata": {},
   "outputs": [
    {
     "name": "stdout",
     "output_type": "stream",
     "text": [
      "Mingalar bar!|Hi!\n",
      "I am fileA.|I am fileB.\n",
      "I was born in April.|I was born in November.\n",
      "My blood type is O.|My blood type is O.\n",
      "|\n"
     ]
    }
   ],
   "source": [
    "paste -d'\\|' fileA fileB"
   ]
  },
  {
   "cell_type": "markdown",
   "metadata": {},
   "source": [
    "အထက်ပါ output မှာ နောက်ဆုံးစာကြောင်းက pipe တစ်ခုပဲ မြင်နေရတာက၊ fileB မှာ စာဘာမှ မရိုက်ထားပဲ enter ခေါက်ထားခဲ့တဲ့ စာကြောင်းရှိလို့ပါ။  \n",
    "\n",
    "နောက်ထပ် ဥပမာ တစ်ခုအနေနဲ့ fileA နှင့် fileB အကြားက စာကြောင်းတွေကို စာကြောင်းတစ်ကြောင်းစီအနေနဲ့ အလှည့်ကျ ရိုက်ထုတ်ပေးချင်တဲ့ အခါမှာ အောက်ပါအတိုင်း အသုံးပြုပါတယ်။  "
   ]
  },
  {
   "cell_type": "code",
   "execution_count": 72,
   "metadata": {},
   "outputs": [
    {
     "name": "stdout",
     "output_type": "stream",
     "text": [
      "Mingalar bar!\n",
      "Hi!\n",
      "I am fileA.\n",
      "I am fileB.\n",
      "I was born in April.\n",
      "I was born in November.\n",
      "My blood type is O.\n",
      "My blood type is O.\n",
      "\n",
      "\n"
     ]
    }
   ],
   "source": [
    "paste -d'\\n' fileA fileB"
   ]
  },
  {
   "cell_type": "markdown",
   "metadata": {},
   "source": [
    "## 34. join (join lines of two files on a common field)\n",
    "\n",
    "\"join\" command ကလည်း အထက်မှာပြခဲ့တဲ့ paste command လို ဖိုင်နှစ်ခုကို ပေါင်းစပ်ပေးတဲ့ အလုပ်ကို လုပ်ပါတယ်။ ဒါပေမဲ့ paste နဲ့ မတူတာက join ကိုသုံးမယ်ဆိုရင် ဖိုင်နှစ်ခုမှာ တူနေတဲ့ ကော်လံ (common field) ရှိရပါမယ်။ သေသေချာချာ format ချထားတဲ့ ဒေတာဖိုင်၊ field တွေခွဲသိမ်းထားတဲ့ ဖိုင်တွေကို ပေါင်းချင်တဲ့ အခါမှာသုံးပါတယ်။ \"join\" command က \"paste\" command ထက်ပိုပြီးတော့ intelligent ဖြစ်တယ်လို့ ပြောလို့ ရပါတယ်။  \n",
    "\n",
    "\"join\" command ကို သုံးကြည့်ကြရအောင်။ ကျွန်တော်တို့မှာ my-no.data နဲ့ en-no.data ဆိုပြီးဖိုင်နှစ်ဖိုင်ရှိပါတယ်။ ဖိုင်နှစ်ဖိုင်စလုံးမှာ ပထမဆုံး field က တူပါတယ်။ အဲဒီနှစ်ဖိုင်ကို join နဲ့ ပေါင်းခိုင်းလို့ ရပါတယ်။  "
   ]
  },
  {
   "cell_type": "code",
   "execution_count": 37,
   "metadata": {},
   "outputs": [
    {
     "name": "stdout",
     "output_type": "stream",
     "text": [
      "I\t၁\tတစ်\n",
      "II\t၂\tနှစ်\n",
      "III\t၃\tသုံး\n",
      "IV\t၄\tလေး\n",
      "V\t၅\tငါး\n"
     ]
    }
   ],
   "source": [
    "cat my-no.data"
   ]
  },
  {
   "cell_type": "code",
   "execution_count": 38,
   "metadata": {},
   "outputs": [
    {
     "name": "stdout",
     "output_type": "stream",
     "text": [
      "I\t1\tone\n",
      "II\t2\ttwo\n",
      "III\t3\tthree\n",
      "IV\t4\tfour\n",
      "V\t5\tfive\n"
     ]
    }
   ],
   "source": [
    "cat en-no.data"
   ]
  },
  {
   "cell_type": "markdown",
   "metadata": {},
   "source": [
    "အောက်ပါအတိုင်း \"join\" command ကို ရိုက်ကြည့်ပါ။ ပထမဆုံး field ကို အခြေခံပြီး ဖိုင်နှစ်ဖိုင်ကို ပေါင်းပေးသွားပါလိမ့်မယ်။  "
   ]
  },
  {
   "cell_type": "code",
   "execution_count": 40,
   "metadata": {},
   "outputs": [
    {
     "name": "stdout",
     "output_type": "stream",
     "text": [
      "I ၁ တစ် 1 one\n",
      "II ၂ နှစ် 2 two\n",
      "III ၃ သုံး 3 three\n",
      "IV ၄ လေး 4 four\n",
      "V ၅ ငါး 5 five\n"
     ]
    }
   ],
   "source": [
    "join my-no.data en-no.data"
   ]
  },
  {
   "cell_type": "markdown",
   "metadata": {},
   "source": [
    "ဆိုကြပါစို့။ ဖိုင်နှစ်ခုမှာ ရှိနေတဲ့ common field က ကော်လံမတူတဲ့ နေရာမှာ ရှိနေတယ်ဆိုရင် \"-1\" နဲ့ \"-2\" option ကို သုံးပြီး အလုပ်လုပ်ပေးစေချင်တဲ့ ကော်လံကိုညွှန်ပြပေးလို့ရပါတယ်။ \"-1\" ဆိုတာက ပထမဖိုင်ကို ဆိုလိုပါပြီး၊ \"-2\" က ဒုတိယဖိုင်ကို ဆိုလိုပါတယ်။ \n",
    "\n",
    "en-no2.data ဖိုင်ထဲမှာ ရှိတဲ့ content ကို အရင်ရိုက်ကြည့်ပြီးမှ join command ကို သုံးပါမယ်။"
   ]
  },
  {
   "cell_type": "code",
   "execution_count": 41,
   "metadata": {},
   "outputs": [
    {
     "name": "stdout",
     "output_type": "stream",
     "text": [
      "1\tI\tone\n",
      "2\tII\ttwo\n",
      "3\tIII\tthree\n",
      "4\tIV\tfour\n",
      "5\tV\tfive\n"
     ]
    }
   ],
   "source": [
    "cat en-no2.data"
   ]
  },
  {
   "cell_type": "markdown",
   "metadata": {},
   "source": [
    "\"-1 1 -2 2\" option  (ပထမဖိုင်က field no.1 နဲ့ ဒုတိယ်ဖိုင်က field no.2) နဲ့ join command ကို run ကြည့်ရတဲ့အခါ အောက်ပါအတိုင်း တွေ့ရပါလိမ့်မယ်။"
   ]
  },
  {
   "cell_type": "code",
   "execution_count": 42,
   "metadata": {},
   "outputs": [
    {
     "name": "stdout",
     "output_type": "stream",
     "text": [
      "I ၁ တစ် 1 one\n",
      "II ၂ နှစ် 2 two\n",
      "III ၃ သုံး 3 three\n",
      "IV ၄ လေး 4 four\n",
      "V ၅ ငါး 5 five\n"
     ]
    }
   ],
   "source": [
    "join -1 1 -2 2 ./my-no.data ./en-no2.data"
   ]
  },
  {
   "cell_type": "markdown",
   "metadata": {},
   "source": [
    "တကယ်လို့ ပေါင်းချင်တဲ့ ဖိုင်က sorting မစီထားရသေးတဲ့ အခြေအနေ ဆိုရင် sorting အရင်စီပြီးမှ \"join\" command နဲ့ သုံးလို့ ရပါလိမ့်မယ်။  \n",
    "ဥပမာ ./en-no2-random.data ဖိုင်က အောက်ပါအတိုင်း မစီထားရသေးတဲ့ အခြေအနေဆိုပါစို့။ "
   ]
  },
  {
   "cell_type": "code",
   "execution_count": 46,
   "metadata": {},
   "outputs": [
    {
     "name": "stdout",
     "output_type": "stream",
     "text": [
      "2\tII\ttwo\n",
      "5\tV\tfive\n",
      "3\tIII\tthree\n",
      "4\tIV\tfour\n",
      "1\tI\tone\n"
     ]
    }
   ],
   "source": [
    "cat en-no2-random.data"
   ]
  },
  {
   "cell_type": "markdown",
   "metadata": {},
   "source": [
    "အဲဒီ en-no2-random.data ဖိုင်ကို ဒီအတိုင်းခေါ်ပြီး join လုပ်ခိုင်းတဲ့ အခါမှာ အောက်ပါအတိုင်း မှန်မှန်ကန်ကန် မပေါင်းပေးနိုင်တာကို တွေ့ရပါလိမ့်မယ်။ "
   ]
  },
  {
   "cell_type": "code",
   "execution_count": 48,
   "metadata": {},
   "outputs": [
    {
     "name": "stdout",
     "output_type": "stream",
     "text": [
      "II ၂ နှစ် 2 two\n",
      "join: ./en-no2-random.data:3: is not sorted: 3\tIII\tthree\n",
      "V ၅ ငါး 5 five\n"
     ]
    },
    {
     "ename": "",
     "evalue": "1",
     "output_type": "error",
     "traceback": []
    }
   ],
   "source": [
    "join -1 1 -2 2 ./my-no.data ./en-no2-random.data"
   ]
  },
  {
   "cell_type": "markdown",
   "metadata": {},
   "source": [
    "./en-no2-random.data ဖိုင်ကို sorting အရင်စီပြီးမှ join ကို pass လုပ်ရင် အိုကေပါတယ်။  "
   ]
  },
  {
   "cell_type": "code",
   "execution_count": 45,
   "metadata": {},
   "outputs": [
    {
     "name": "stdout",
     "output_type": "stream",
     "text": [
      "I ၁ တစ် 1 one\n",
      "II ၂ နှစ် 2 two\n",
      "III ၃ သုံး 3 three\n",
      "IV ၄ လေး 4 four\n",
      "V ၅ ငါး 5 five\n"
     ]
    }
   ],
   "source": [
    "join -1 1 -2 2 ./my-no.data <(sort ./en-no2-random.data)"
   ]
  },
  {
   "cell_type": "markdown",
   "metadata": {},
   "source": [
    "join လုပ်ပြီး ရိုက်ထုတ်တဲ့ အခါမှာ field တစ်ခုနဲ့ တစ်ခုကို ကိုယ်ခြားပေးစေချင်တဲ့ စာလုံးနဲ့ ခြားပေးခိုင်းလို့ရပါတယ်။  \n",
    "-t option ကို သုံးရပါတယ်။  အောက်ပါ ဥပမာက TAB ကီးနဲ့ ခြားခိုင်းတဲ့ ဥပမာပါ။  "
   ]
  },
  {
   "cell_type": "code",
   "execution_count": 53,
   "metadata": {},
   "outputs": [
    {
     "name": "stdout",
     "output_type": "stream",
     "text": [
      "I\t၁\tတစ်\t1\tone\n",
      "II\t၂\tနှစ်\t2\ttwo\n",
      "III\t၃\tသုံး\t3\tthree\n",
      "IV\t၄\tလေး\t4\tfour\n",
      "V\t၅\tငါး\t5\tfive\n"
     ]
    }
   ],
   "source": [
    "join -t $'\\t' my-no.data en-no.data"
   ]
  },
  {
   "cell_type": "markdown",
   "metadata": {},
   "source": [
    "## 35. sort (sort lines of text files)  \n",
    "\n",
    "ဖိုင်ထဲက စာကြောင်းတွေကို sorting လုပ်ချင်တဲ့ အခါမှာသုံးတဲ့ command ဖြစ်ပါတယ်။  \n",
    "အက္ခရာစဉ်လိုက်ကော ဂဏန်းစဉ်လိုက်ကော စီပေးနိုင်ပါတယ်။ ငယ်စဉ်ကြီးလိုက်ကော၊ ကြီးစဉ်ငယ်လိုက်ကော စီပေးနိုင်လို့ အလွန်အသုံးဝင်ပါတယ်။  \n",
    "စပြီးတော့ သုံးကြည့်ရအောင်။  \n",
    "\n",
    "commands.txt ဖိုင်ထဲမှာ အထက်မှာ သင်ပေးခဲ့တဲ့ linux command တွေထဲက တချို့ command တွေရဲ့ နာမည်တွေကို ထည့်သိမ်းထားတဲ့ ဖိုင်ဖြစ်ပါတယ်။ cat လုပ်ကြည့်ရအောင်။  "
   ]
  },
  {
   "cell_type": "code",
   "execution_count": 54,
   "metadata": {},
   "outputs": [
    {
     "name": "stdout",
     "output_type": "stream",
     "text": [
      "ls\n",
      "pwd\n",
      "cd\n",
      "cat\n",
      "file\n",
      "head\n",
      "tail\n",
      "cp\n",
      "mv\n",
      "rm\n",
      "alias\n",
      "touch\n",
      "diff\n",
      "less\n",
      "type\n"
     ]
    }
   ],
   "source": [
    "cat commands.txt"
   ]
  },
  {
   "cell_type": "markdown",
   "metadata": {},
   "source": [
    "commands.txt ဖိုင်ကို sorting လုပ်ခိုင်းချင်ရင် အောက်ပါအတိုင်း command ပေးလို့ ရပါတယ်။  \n",
    "\"a\" ကနေ \"z\" အင်္ဂလိပ်အက္ခရာစဉ်အလိုက် စီပေးသွားတာကို တွေ့ရပါလိမ့်မယ်။  "
   ]
  },
  {
   "cell_type": "code",
   "execution_count": 55,
   "metadata": {},
   "outputs": [
    {
     "name": "stdout",
     "output_type": "stream",
     "text": [
      "alias\n",
      "cat\n",
      "cd\n",
      "cp\n",
      "diff\n",
      "file\n",
      "head\n",
      "less\n",
      "ls\n",
      "mv\n",
      "pwd\n",
      "rm\n",
      "tail\n",
      "touch\n",
      "type\n"
     ]
    }
   ],
   "source": [
    "sort commands.txt"
   ]
  },
  {
   "cell_type": "markdown",
   "metadata": {},
   "source": [
    "တကယ်လို့ ကျွန်တော်တို့က \"z\" ကနေ \"a\" အစီစဉ်နဲ့ ပြောင်းပြန် စီခိုင်းချင်တာဆိုရင် \"-r\" (reverse) option ကို သုံးလို့ ရပါတယ်။  "
   ]
  },
  {
   "cell_type": "code",
   "execution_count": 56,
   "metadata": {},
   "outputs": [
    {
     "name": "stdout",
     "output_type": "stream",
     "text": [
      "type\n",
      "touch\n",
      "tail\n",
      "rm\n",
      "pwd\n",
      "mv\n",
      "ls\n",
      "less\n",
      "head\n",
      "file\n",
      "diff\n",
      "cp\n",
      "cd\n",
      "cat\n",
      "alias\n"
     ]
    }
   ],
   "source": [
    "sort -r commands.txt"
   ]
  },
  {
   "cell_type": "markdown",
   "metadata": {},
   "source": [
    "နံပါတ်တွေ၊ ဂဏန်းတွေ နဲ့ စတဲ့ စာကြောင်းတွေကို sorting လုပ်တာနဲ့ ပတ်သက်ပြီး သင်ပြပေးပါမယ်။  \n",
    "ဥပမာ ကျွန်တော်တို့မှာ commands-random.txt ဆိုတဲ့ ဖိုင်ရှိပြီး၊ အဲဒီဖိုင်ရဲ့ အထဲမှာက linux command တွေကို နံပါတ်တပ်ပြီး တစ်ကြောင်းချင်းစီ သိမ်းထားတယ်လို့ ဆိုကြပါစို့။ ဒါပေမဲ့ အစီအစဉ်က အောက်ပါအတိုင်း random ဖြစ်နေတယ် လို့ စဉ်းစားကြရအောင်။  "
   ]
  },
  {
   "cell_type": "code",
   "execution_count": 57,
   "metadata": {},
   "outputs": [
    {
     "name": "stdout",
     "output_type": "stream",
     "text": [
      "9. ls\n",
      "10. mv\n",
      "4. cp\n",
      "14. touch\n",
      "13. tail\n",
      "15. type\n",
      "2. cat\n",
      "7. head\n",
      "3. cd\n",
      "5. diff\n",
      "11. pwd\n",
      "6. file\n",
      "1. alias\n",
      "12. rm\n",
      "8. less\n"
     ]
    }
   ],
   "source": [
    "cat commands-random.txt"
   ]
  },
  {
   "cell_type": "markdown",
   "metadata": {},
   "source": [
    "အဲဒီ ဖိုင်ကို \"sort\" command နဲ့ sorting လုပ်ခိုင်းတဲ့ အခါမှာ အောက်ပါအတိုင်း စီပေးသွားတာကို တွေ့ရပါလိမ့်မယ်။  \n",
    "ကျွန်တော်တို့ လိုချင်တဲ့ ဂဏန်းစဉ်အလိုက်စီမပေးတာကို သတိပြုမိပါလိမ့်မယ်။  "
   ]
  },
  {
   "cell_type": "code",
   "execution_count": 58,
   "metadata": {},
   "outputs": [
    {
     "name": "stdout",
     "output_type": "stream",
     "text": [
      "10. mv\n",
      "11. pwd\n",
      "12. rm\n",
      "13. tail\n",
      "14. touch\n",
      "15. type\n",
      "1. alias\n",
      "2. cat\n",
      "3. cd\n",
      "4. cp\n",
      "5. diff\n",
      "6. file\n",
      "7. head\n",
      "8. less\n",
      "9. ls\n"
     ]
    }
   ],
   "source": [
    "sort ./commands-random.txt"
   ]
  },
  {
   "cell_type": "markdown",
   "metadata": {},
   "source": [
    "လွယ်ပါတယ်။ ဂဏန်းစဉ်အလိုက် စီပေးစေချင်ရင် \"-n\" (သို့) --numeric-sort option ကို သုံးပါ။  "
   ]
  },
  {
   "cell_type": "code",
   "execution_count": 59,
   "metadata": {},
   "outputs": [
    {
     "name": "stdout",
     "output_type": "stream",
     "text": [
      "1. alias\n",
      "2. cat\n",
      "3. cd\n",
      "4. cp\n",
      "5. diff\n",
      "6. file\n",
      "7. head\n",
      "8. less\n",
      "9. ls\n",
      "10. mv\n",
      "11. pwd\n",
      "12. rm\n",
      "13. tail\n",
      "14. touch\n",
      "15. type\n"
     ]
    }
   ],
   "source": [
    "sort -n ./commands-random.txt"
   ]
  },
  {
   "cell_type": "markdown",
   "metadata": {},
   "source": [
    "\"sort\" command ရဲ့ နောက်ထပ် အသုံးဝင်တဲ့ option တစ်ခုကို မိတ်ဆက်ပေးပါမယ်။  \n",
    "ဖိုင်တစ်ဖိုင်က sorting လုပ်ထားပြီးသား ဟုတ်မဟုတ် ဆိုတာကို စစ်ဆေးပေးတဲ့ \"-c\" (သို့) \"--check\" ဆိုတဲ့ option ပါ။  \n",
    "မစီရသေးတဲ့ ဖိုင်ဆိုရင် စပြီးတော့ အစီအစဉ်လွဲတဲ့ နေရာကို ရိုက်ထုတ်ပြပြီး disorder ဆိုတဲ့ message ပေးပါလိမ့်မယ်။  \n",
    "စာကြောင်းတွေ အများကြီးကို သိမ်းထားတဲ့ ဖိုင်တွေကို မျက်လုံးနဲ့ တစ်ကြောင်းချင်း စစ်ကြည့်နေရင် အချိန်အများကြီး ကုန်ပါတယ်။ နောက်ပြီး လူက စစ်တာမို့လို့ အမှာအယွင်းလဲ ရှိနိုင်ပါတယ်။ ဒီ \"-c\" option ကို မှတ်ထားသင့်ပါတယ်။  \n",
    "\n",
    "အောက်ပါအတိုင်း ./commands.txt ဖိုင်ကို \"-c\" option နဲ့ run ကြည့်ရအောင်။  "
   ]
  },
  {
   "cell_type": "code",
   "execution_count": 73,
   "metadata": {},
   "outputs": [
    {
     "name": "stdout",
     "output_type": "stream",
     "text": [
      "sort: ./commands.txt:3: disorder: cd\n"
     ]
    },
    {
     "ename": "",
     "evalue": "1",
     "output_type": "error",
     "traceback": []
    }
   ],
   "source": [
    "sort -c ./commands.txt"
   ]
  },
  {
   "cell_type": "markdown",
   "metadata": {},
   "source": [
    "ဒီတစ်ခါတော့ စီပြီးသားဖိုင်ကို -c option နဲ့ run ရင် ဘယ်လို message ပေးမလဲ ဆိုတာကို သိချင်လို့ မစီရသေးတဲ့ ./commands.txt ဖိုင်ကို sort command နဲ့ စီခိုင်းပြီးရင် commands-sort.txt ဆိုတဲ့ ဖိုင်အဖြစ်သိမ်းပါမယ်။  "
   ]
  },
  {
   "cell_type": "code",
   "execution_count": 65,
   "metadata": {
    "collapsed": true
   },
   "outputs": [],
   "source": [
    "sort ./commands.txt > commands-sort.txt"
   ]
  },
  {
   "cell_type": "markdown",
   "metadata": {},
   "source": [
    "သိမ်းပြီးသွားတဲ့ ./commands-sort.txt ဖိုင်ကို -c option နဲ့ run ကြည့်တဲ့ အခါမှာတော့ အက္ခရာစဉ်အလိုက် စီပြီးသားဖိုင် (sort လုပ်ပြီးသား) မို့လို့ ဘာ message မှ မပေးတာကို တွေ့ရပါလိမ့်မယ်။  "
   ]
  },
  {
   "cell_type": "code",
   "execution_count": 74,
   "metadata": {},
   "outputs": [],
   "source": [
    "sort -c ./commands-sort.txt"
   ]
  },
  {
   "cell_type": "markdown",
   "metadata": {},
   "source": [
    "## 36. uniq (report or omit repeated lines)  \n",
    "\n",
    "\"uniq\" command က ဖိုင်တစ်ဖိုင်မှာ ထပ်ခါထပ်ခါ ပါနေတဲ့ စာကြောင်းတွေကို ဖယ်ထုတ်ချင်တဲ့ အခါမျိုးမှာ၊ ဘယ်စာကြောင်းတွေ က ထပ်နေတာလဲ ရှာဖွေချင်တဲ့ အခါမျိုးမှာ သုံးတဲ့ command ဖြစ်ပါတယ်။ သုံးကြည့်ရင်းနဲ့ လေ့လာကြရအောင်။  \n",
    "\n",
    "ဥပမာ အနေနဲ့ ကျွန်တော်တို့မှာ စာလုံးတွေရဲ့ POS (Part-of-Speech) tag တွေကို သိမ်းထားတဲ့ ဖိုင် တစ်ဖိုင်ရှိတယ်။ အဲဒီဖိုင်ထဲမှာ ထပ်နေတဲ့ POS tag တွေလည်း ပါနေတယ်ဆိုပါစို့။ အရင်ဆုံး အဲဒီဖိုင်ကို cat လုပ်ကြည့်ရအောင်။  "
   ]
  },
  {
   "cell_type": "code",
   "execution_count": 68,
   "metadata": {},
   "outputs": [
    {
     "name": "stdout",
     "output_type": "stream",
     "text": [
      "n\n",
      "n\n",
      "conj\n",
      "n\n",
      "v\n",
      "part\n",
      "n\n",
      "n\n",
      "part\n",
      "ppm\n",
      "v\n",
      "v\n",
      "part\n",
      "part\n",
      "ppm\n"
     ]
    }
   ],
   "source": [
    "cat pos-tags-15.txt"
   ]
  },
  {
   "cell_type": "markdown",
   "metadata": {},
   "source": [
    "ထပ်နေတာတွေကို \"uniq\" command နဲ့ ဖယ်ကြည့်ရအောင်။ "
   ]
  },
  {
   "cell_type": "code",
   "execution_count": 69,
   "metadata": {},
   "outputs": [
    {
     "name": "stdout",
     "output_type": "stream",
     "text": [
      "n\n",
      "conj\n",
      "n\n",
      "v\n",
      "part\n",
      "n\n",
      "part\n",
      "ppm\n",
      "v\n",
      "part\n",
      "ppm\n"
     ]
    }
   ],
   "source": [
    "uniq pos-tags-15.txt"
   ]
  },
  {
   "cell_type": "markdown",
   "metadata": {},
   "source": [
    "မျှော်မှန်းထားသလို အလုပ်မလုပ်ပေးဘူးနော်။  \n",
    "အဲဒါက ဘာကြောင့်လဲ ဆိုတော့ ဖိုင်က sorting လုပ်မထားလို့ပါ။ ဒီကိစ္စက သတိမထားရင် ခဏခဏ မှားတတ်ကျလို့ တမင်တကာ မှားတာကို အရင် ဥပမာအနေနဲ့ ပြပေးခဲ့တာပါ။ မှတ်ထားရပါလိမ့်မယ်။ <span style=\"color:red\"> unique မလုပ်ခင်မှာ အရင်ဆုံး sort command ကို သုံးပြီး sorting စီထားရပါမယ်။ </span> \n",
    "\n",
    "အောက်ပါအတိုင်း အရင် sorting စီပြီးမှ unique လုပ်ကြည့်ရအောင်။"
   ]
  },
  {
   "cell_type": "code",
   "execution_count": 70,
   "metadata": {},
   "outputs": [
    {
     "name": "stdout",
     "output_type": "stream",
     "text": [
      "conj\n",
      "n\n",
      "part\n",
      "ppm\n",
      "v\n"
     ]
    }
   ],
   "source": [
    "sort ./pos-tags-15.txt | uniq"
   ]
  },
  {
   "cell_type": "markdown",
   "metadata": {},
   "source": [
    "sorting စီပြီးတော့ မှ uniq လုပ်ကြည့်လိုက်တော့ စာကြောင်း ၁၅ကြောင်းမှာ unique ဖြစ်တဲ့ POS tag က အားလုံး ၅မျိုးပဲ ရှိတာကို အထက်ပါ output အတိုင်းတွေ့ကြရပါလိမ့်မယ်။  \n",
    "\n",
    "ဘယ် POS tag တွေက ဘယ်နှစ်ခါထပ်ပါနေသလဲ ဆိုတာကို ရေတွက်ချင်ရင် \"-c\" (သို့) \"--count\" option ကိုသုံးပြီး number of occurrences ကို ရိုက်ထုတ်ခိုင်းလို့ ရပါတယ်။ အောက်ပါ uniq -c နဲ့ run ပြထားတာကို ကြည့်ပါ။  "
   ]
  },
  {
   "cell_type": "code",
   "execution_count": 71,
   "metadata": {},
   "outputs": [
    {
     "name": "stdout",
     "output_type": "stream",
     "text": [
      "      1 conj\n",
      "      5 n\n",
      "      4 part\n",
      "      2 ppm\n",
      "      3 v\n"
     ]
    }
   ],
   "source": [
    "sort ./pos-tags-15.txt | uniq -c"
   ]
  },
  {
   "cell_type": "markdown",
   "metadata": {},
   "source": [
    "ပေးလိုက်တဲ့ ဖိုင်ထဲမှာ unique ဖြစ်တဲ့ စာလုံးတွေ (အကြိမ်အရေအတွက် တစ်ခါပဲ ပါတဲ့စာလုံး) ကိုပဲ ရိုက်ပြခိုင်းချင်ရင် \"-u\" (--unique) option ကို သုံးပါတယ်။ အောက်ပါ ဥပမာကို ကြည့်ပါ။"
   ]
  },
  {
   "cell_type": "code",
   "execution_count": 75,
   "metadata": {},
   "outputs": [
    {
     "name": "stdout",
     "output_type": "stream",
     "text": [
      "conj\n"
     ]
    }
   ],
   "source": [
    "sort ./pos-tags-15.txt | uniq -u"
   ]
  },
  {
   "cell_type": "markdown",
   "metadata": {},
   "source": [
    "\"-u\" နဲ့ ဆန့်ကျင်ဘက်အနေနဲ့ ထပ်တဲ့စာကြောင်းတွေကိုပဲ ရိုက်ထုတ်ပြခိုင်းချင်ရင် လည်း \"uniq\" command ကလုပ်ပေးနိုင်ပါတယ်။  \n",
    "\"-D\" option နဲ့ run ကြည့်ရအောင်"
   ]
  },
  {
   "cell_type": "code",
   "execution_count": 73,
   "metadata": {},
   "outputs": [
    {
     "name": "stdout",
     "output_type": "stream",
     "text": [
      "n\n",
      "n\n",
      "n\n",
      "n\n",
      "n\n",
      "part\n",
      "part\n",
      "part\n",
      "part\n",
      "ppm\n",
      "ppm\n",
      "v\n",
      "v\n",
      "v\n"
     ]
    }
   ],
   "source": [
    "sort ./pos-tags-15.txt | uniq -D"
   ]
  },
  {
   "cell_type": "markdown",
   "metadata": {},
   "source": [
    "အထက်ပါ output မှာ မြင်ရတဲ့ပုံစံကနေ နောက်တခြား ပရိုဂရမ်တစ်ခုကို pass လုပ်ဖို့အတွက်၊ ဒါမှမဟုတ် အုပ်စုခွဲချင်တဲ့ အခါမျိုးမှာ စာလုံးတစ်လုံးနဲ့ နောက်ထပ် မတူတဲ့ စာလုံးတစ်လုံးအကြားမှာ လိုင်းခြားလို့ ရပါတယ်။ \"--all-repeated\" option ကို prepend ဆိုတာပေးပြီး လုပ်ခိုင်းလို့ ရပါတယ်။ အောက်ပါ command ကို စမ်းကြည့်ပါ။  "
   ]
  },
  {
   "cell_type": "code",
   "execution_count": 74,
   "metadata": {},
   "outputs": [
    {
     "name": "stdout",
     "output_type": "stream",
     "text": [
      "\n",
      "n\n",
      "n\n",
      "n\n",
      "n\n",
      "n\n",
      "\n",
      "part\n",
      "part\n",
      "part\n",
      "part\n",
      "\n",
      "ppm\n",
      "ppm\n",
      "\n",
      "v\n",
      "v\n",
      "v\n"
     ]
    }
   ],
   "source": [
    "sort ./pos-tags-15.txt | uniq --all-repeated=prepend "
   ]
  },
  {
   "cell_type": "markdown",
   "metadata": {},
   "source": [
    "## 37. tr (translate or delete characters)  \n",
    "\n",
    "\"tr\" command က ဘာလုပ်ပေးသလဲ ဆိုရင် ခေါင်းစဉ်မှာ အင်္ဂလိပ်လို \"translate or delete characters\" လို့ ရေးထားတဲ့ အတိုင်းပဲ စာလုံးတွေကို အစားထိုးချင်တဲ့ အခါ၊ ဖျက်တဲ့ အခါမှာ သုံးပါတယ်။  \n",
    "\n",
    "လက်တွေ့ သုံးတဲ့ပုံစံတချို့ကို မိတ်ဆက်ချင်ပါတယ်။  \n",
    "\n",
    "အောက်ပါ ဥပမာက ပေးလိုက်တဲ့ input စာကြောင်းမှာ ပါတဲ့ အင်္ဂလိပ်စာလုံး အသေး \"w\" ကို \"W\" အကြီးနဲ့ အစားထိုးခိုင်းတာပါ။  "
   ]
  },
  {
   "cell_type": "code",
   "execution_count": 75,
   "metadata": {},
   "outputs": [
    {
     "name": "stdout",
     "output_type": "stream",
     "text": [
      "Who are you?\n"
     ]
    }
   ],
   "source": [
    "echo \"who are you?\" | tr 'w' 'W'"
   ]
  },
  {
   "cell_type": "markdown",
   "metadata": {},
   "source": [
    "ရှေ့မှာလည်း သုံးခဲ့တဲ့ fileA ကို input လုပ်ပြီး၊ \"tr\" နဲ့ အင်္ဂလိပ်စာလုံးအသေးတွေအားလုံးကို အကြီးဖြစ်အောင် ပြောင်းခိုင်းကြည့်ရအောင်။  "
   ]
  },
  {
   "cell_type": "code",
   "execution_count": 76,
   "metadata": {},
   "outputs": [
    {
     "name": "stdout",
     "output_type": "stream",
     "text": [
      "Mingalar bar!\n",
      "I am fileA.\n",
      "I was born in April.\n",
      "My blood type is O.\n"
     ]
    }
   ],
   "source": [
    "cat fileA"
   ]
  },
  {
   "cell_type": "code",
   "execution_count": 78,
   "metadata": {},
   "outputs": [
    {
     "name": "stdout",
     "output_type": "stream",
     "text": [
      "MINGALAR BAR!\n",
      "I AM FILEA.\n",
      "I WAS BORN IN APRIL.\n",
      "MY BLOOD TYPE IS O.\n"
     ]
    }
   ],
   "source": [
    "cat fileA | tr [:lower:] [:upper:]"
   ]
  },
  {
   "cell_type": "markdown",
   "metadata": {},
   "source": [
    "အထက်ပါ command ကိုပဲ နောက်ပုံစံတစ်မျိုးနဲ့လည်း run လို့ရပါတယ်။ အောက်ပါ ဥပမာကို ကြည့်ပါ။"
   ]
  },
  {
   "cell_type": "code",
   "execution_count": 79,
   "metadata": {},
   "outputs": [
    {
     "name": "stdout",
     "output_type": "stream",
     "text": [
      "MINGALAR BAR!\n",
      "I AM FILEA.\n",
      "I WAS BORN IN APRIL.\n",
      "MY BLOOD TYPE IS O.\n"
     ]
    }
   ],
   "source": [
    "cat fileA | tr a-z A-Z"
   ]
  },
  {
   "cell_type": "markdown",
   "metadata": {},
   "source": [
    "ဥပမာ space ကို tab နဲ့ အစားထိုးချင်တဲ့ အခါမှာလည်း \"tr\" နဲ့ အလွယ်တကူ အစားထိုးလို့ ရပါတယ်။ အောက်ပါ အတိုင်း run ကြည့်ပါ။  "
   ]
  },
  {
   "cell_type": "code",
   "execution_count": 80,
   "metadata": {},
   "outputs": [
    {
     "name": "stdout",
     "output_type": "stream",
     "text": [
      "Mingalar\tbar!\n",
      "I\tam\tfileA.\n",
      "I\twas\tborn\tin\tApril.\n",
      "My\tblood\ttype\tis\tO.\n"
     ]
    }
   ],
   "source": [
    "cat fileA | tr ' ' '\\t'"
   ]
  },
  {
   "cell_type": "markdown",
   "metadata": {},
   "source": [
    "ဆိုကြပါစို့။ ဝင်လာတဲ့ input စာကြောင်းမှာ space တွေ အများကြီး ပိုပါနေတာကို space တစ်လုံးနဲ့ အစားထိုးပေးစေချင်ရင် အောက်ပါအတိုင်း \"tr\" နဲ့ လုပ်ခိုင်းလို့ ရပါတယ်။  "
   ]
  },
  {
   "cell_type": "code",
   "execution_count": 85,
   "metadata": {},
   "outputs": [
    {
     "name": "stdout",
     "output_type": "stream",
     "text": [
      "Who invented Linux? "
     ]
    }
   ],
   "source": [
    "echo \"Who     invented       Linux?\" | tr -s [:space:] ' '"
   ]
  },
  {
   "cell_type": "markdown",
   "metadata": {},
   "source": [
    "ဖျက်ချင်တဲ့ စာလုံးကို \"-d\" option ကို သုံးပြီး ဖျက်ခိုင်းလို့ ရပါတယ်။ အောက်ပါ ဥပမာက fileA ထဲက space ကို ဖျက်ခိုင်းတာပါ။  "
   ]
  },
  {
   "cell_type": "code",
   "execution_count": 86,
   "metadata": {},
   "outputs": [
    {
     "name": "stdout",
     "output_type": "stream",
     "text": [
      "Mingalarbar!\n",
      "IamfileA.\n",
      "IwasborninApril.\n",
      "MybloodtypeisO.\n"
     ]
    }
   ],
   "source": [
    "cat fileA | tr -d ' '"
   ]
  },
  {
   "cell_type": "markdown",
   "metadata": {},
   "source": [
    "ဂဏန်း တွေကိုပဲ ဖျက်ပေးပါ ဆိုရင် [:digit:] နဲ့ ညွှန်းပြီး -d option နဲ့ ဖျက်ခိုင်းလို့ ရပါတယ်။  "
   ]
  },
  {
   "cell_type": "code",
   "execution_count": 87,
   "metadata": {},
   "outputs": [
    {
     "name": "stdout",
     "output_type": "stream",
     "text": [
      "Do you know the number ?\n"
     ]
    }
   ],
   "source": [
    "echo \"Do you know the number 007?\" | tr -d [:digit:]"
   ]
  },
  {
   "cell_type": "markdown",
   "metadata": {},
   "source": [
    "\"-c\" option နဲ့ \"-d\" ကိုတွဲသုံးပြီး ဒီစာလုံးအမျိုးအစားကလွဲရင် ကျန်တာကို ဖျက်ပေးပါ ဆိုပြီးလည်း ခိုင်းလို့ ရပါတယ်။"
   ]
  },
  {
   "cell_type": "code",
   "execution_count": 89,
   "metadata": {},
   "outputs": [
    {
     "name": "stdout",
     "output_type": "stream",
     "text": [
      "007"
     ]
    }
   ],
   "source": [
    "echo \"Do you know the number 007?\" | tr -cd [:digit:]"
   ]
  },
  {
   "cell_type": "markdown",
   "metadata": {},
   "source": [
    "တခါတလေမှာ ဖိုင်ထဲမှာ ရှိတဲ့ စာကြောင်းတွေကို တစ်ကြောင်းထဲ အနေနဲ့ space (သို့) tab နဲ့ ခြားပြီး ရိုက်ထုတ်ခိုင်းချင်တာမျိုး ရှိတတ်ပါတယ်။ အဲဒီလို အလုပ်မျိုးအတွက်လည်း \"tr\" command က အသုံးဝင်ပါတယ်။ အောက်ပါ ဥပမာက line break စာလုံးဖြစ်တဲ့ \"\\n\" ကို space နဲ့ အစားထိုးခိုင်းလိုက်ပြီး တစ်ကြောင်းထဲ အဖြစ် မော်နီတာမှာ ရိုက်ထုတ်ခိုင်းတာပါ။  "
   ]
  },
  {
   "cell_type": "code",
   "execution_count": 92,
   "metadata": {},
   "outputs": [
    {
     "name": "stdout",
     "output_type": "stream",
     "text": [
      "Mingalar bar! I am fileA. I was born in April. My blood type is O. "
     ]
    }
   ],
   "source": [
    "cat fileA | tr '\\n' ' '"
   ]
  },
  {
   "cell_type": "markdown",
   "metadata": {},
   "source": [
    "မြင်သာအောင် space အစား underscore နဲ့ အထက်ပါ command ကို နောက်တစ်ခေါက် ထပ် run ပြပါမယ်။  \n",
    "\"\\n\" ရှိတဲ့ နေရာတွေကို underscore နဲ့ အစားထိုးပေးသွားတာကို အောက်ပါအတိုင်း မြင်တွေ့ရပါလိမ့်မယ်။  "
   ]
  },
  {
   "cell_type": "code",
   "execution_count": 93,
   "metadata": {},
   "outputs": [
    {
     "name": "stdout",
     "output_type": "stream",
     "text": [
      "Mingalar bar!_I am fileA._I was born in April._My blood type is O._"
     ]
    }
   ],
   "source": [
    "cat fileA | tr '\\n' '_'"
   ]
  },
  {
   "cell_type": "markdown",
   "metadata": {},
   "source": [
    "တခါတလေမှာ round bracket တွေကို square bracket နဲ့ အစားထိုးချင်တာမျိုးလည်း ရှိပါလိမ့်မယ်။  \n",
    "အဲဒီလို ကိစ္စမျိုးအတွက် \"tr\" command ကို သုံးပြီး အောက်ပါအတိုင်း အစားထိုးခိုင်းလို့ ရပါတယ်။  "
   ]
  },
  {
   "cell_type": "code",
   "execution_count": 96,
   "metadata": {},
   "outputs": [
    {
     "name": "stdout",
     "output_type": "stream",
     "text": [
      "I love this number [1113]\n"
     ]
    }
   ],
   "source": [
    "echo \"I love this number (1113)\" | tr '()' '[]'"
   ]
  },
  {
   "cell_type": "markdown",
   "metadata": {},
   "source": [
    "သိထားသင့်တာက environment variable တွေဖြစ်ကြတဲ့ LANG, LC_ALL, LC_CTYPE နဲ့ LC_COLLATE စတာတွေရဲ့ setting က tr command ကို သက်ရောက်မှုရှိတယ်ဆိုတဲ့ အချက်ကိုပါ။ Environment variable တွေနဲ့ ပတ်သက်တာကို export command ကို ရှင်းပြတဲ့ အခါမှာ တွဲပြီးတော့ ရှင်းပြထားပါတယ်။ ဖတ်ကြည့်ပါ။  "
   ]
  },
  {
   "cell_type": "markdown",
   "metadata": {},
   "source": [
    "## 38. export (setting/viewing environment variables)  \n",
    "\n",
    "Linux system က အလုပ်လုပ်ဖို့အတွက် လိုအပ်တဲ့ variable တွေကို environment variable မှာသတ်မှတ်ထားတာတွေကို ကြည့်ပြီး ယူသုံးပါတယ်။ တကယ်က linux system တခုတည်းတင်မကပါဘူး။ တခြားပရိုဂရမ်တွေကလည်း အလုပ်လုပ်တဲ့အခါမှာ လိုအပ်တဲ့ အချက်အလက်တွေကို environment variable ဆောက်ထားပြီး ခေါ်သုံးလေ့ရှိပါတယ်။ တခါတလေမှာ ကျွန်တော်တို့ကိုယ်တိုင်က ဆောက်ပေးရပါတယ်။ ဥပမာ $PYTHONPATH လို variable မျိုးပါ။  \n",
    "\n",
    "ကိုယ်သုံးနေတဲ့ linux စက်မှာ ရှိတဲ့ environment variable တွေကို အသစ်သတ်မှတ်ချင်တဲ့ အခါမျိုးမှာ၊ ရှိနေတဲ့ environment variable တွေကို ကြည့်ချင်တဲ့ အခါမျိုးမှာ export command ကို သုံးပါတယ်။  \n",
    "\n",
    "\"export -p\" ဆိုပြီး terminal မှာ ရိုက်ကြည့်ပါ။ လက်ရှိ သုံးနေတဲ့ linux OS မှာသတ်မှတ်ထားတဲ့ environment variable အားလုံးကို list လုပ်ပြပေးပါလိမ့်မယ်။ တစ်ခုသိထားရမှာက system တစ်ခုနဲ့ တစ်ခု environment variable တွေက တူမှာ မဟုတ်ဘူးဆိုတာကိုပါ။ \n",
    "\n",
    "လက်ရှိ ကျွန်တော်သုံးနေတဲ့ စက်မှာ environment variable တွေက တအားများနေလို့ အဲဒီအထဲက တစ်ချို့ကိုပဲ မြင်သာအောင် ဖော်ပြပေးပါမယ်။  \n",
    "အောက်ပါအတိုင်းပါ။  \n",
    "\n",
    "declare -x CLUTTER_IM_MODULE=\"xim\"  \n",
    "declare -x COMPIZ_BIN_PATH=\"/usr/bin/\"  \n",
    "declare -x COMPIZ_CONFIG_PROFILE=\"ubuntu\"  \n",
    "declare -x DBUS_SESSION_BUS_ADDRESS=\"unix:abstract=/tmp/dbus-K4yrfchpsG\"  \n",
    "declare -x DEFAULTS_PATH=\"/usr/share/gconf/ubuntu.default.path\"  \n",
    "declare -x DESKTOP_SESSION=\"ubuntu\"  \n",
    "declare -x DISPLAY=\":0\"  \n",
    "declare -x GDMSESSION=\"ubuntu\"  \n",
    "declare -x GDM_LANG=\"en_US\"  \n",
    "declare -x GNOME_DESKTOP_SESSION_ID=\"this-is-deprecated\"  \n",
    "declare -x GNOME_KEYRING_CONTROL=\"\"  \n",
    "declare -x GNOME_KEYRING_PID=\"\"  \n",
    "declare -x GPG_AGENT_INFO=\"/home/lar/.gnupg/S.gpg-agent:0:1\"  \n",
    "declare -x GTK2_MODULES=\"overlay-scrollbar\"  \n",
    "declare -x GTK_IM_MODULE=\"ibus\"  \n",
    "declare -x GTK_MODULES=\"gail:atk-bridge:unity-gtk-module\"  \n",
    "declare -x HOME=\"/home/lar\"  \n",
    "\n"
   ]
  },
  {
   "cell_type": "markdown",
   "metadata": {},
   "source": [
    "exported လုပ်ထားတဲ့ (သို့) သတ်မှတ်ထားတဲ့ variable တစ်ခုကိုပဲ နာမည်နဲ့ရှာကြည်ချင်ရင်၊ ကျွန်တော်တို့ ရှေ့မှာလေ့လာခဲ့ပြီးသား command တွေထဲက တစ်ခုဖြစ်တဲ့ echo နဲ့ ရှာဖွေကြည့်နိုင်ပါတယ်။  \n",
    "\n",
    "shell မှာက variable နာမည်တွေကို $ သင်္ကေတနဲ့တွဲရိုက်ရပါတယ်။ နောက်ပြီးတော့ variable နာမည်တွေကို စာလုံးအကြီးတွေနဲ့ပဲ ပေးလေ့ရှိပါတယ်။ ဥပမာ ကိုယ်ရဲ့ စက်မှာ ဘယ် shell က default ဖြစ်နေတာလဲ ဆိုတာကို သိချင်ရင် အောက်ပါအတိုင်း ရိုက်ကြည့်ပါ။  "
   ]
  },
  {
   "cell_type": "code",
   "execution_count": 2,
   "metadata": {},
   "outputs": [
    {
     "name": "stdout",
     "output_type": "stream",
     "text": [
      "/bin/bash\n"
     ]
    }
   ],
   "source": [
    "echo $SHELL"
   ]
  },
  {
   "cell_type": "markdown",
   "metadata": {},
   "source": [
    "$SHELL ကို bin ဖိုလ်ဒါအောက်မှာရှိတဲ့ bash ဆိုတဲ့ ပရိုဂရမ်ကို သတ်မှတ်ထားတာ တွေ့ရပါလိမ့်မယ်။ အဲဒါကြောင့် terminal အသစ်တစ်ခုကို ဖွင့်လိုက်တိုင်းမှာ default shell က bash shell ဖြစ်နေပါလိမ့်မယ်။  \n",
    "\n",
    "နောက်ထပ် ဥပမာ တစ်ခုအနေနဲ့ terminal မှာ command တွေကို ရိက်လိုက်တိုင်းမှာ shell က run လို့ရတဲ့ executable ပရိုဂရမ်လားဆိုပြီး ရှာကြည့်ဖို့အတွက် သတ်မှတ်ထားတဲ့ environment variable တစ်ခုရှိပါတယ်။ အဲဒါက \\$PATH ပါ။  \n",
    "echo $PATH ဆိုပြီး ရိုက်ကြည့်ပါ။ "
   ]
  },
  {
   "cell_type": "code",
   "execution_count": 4,
   "metadata": {},
   "outputs": [
    {
     "name": "stdout",
     "output_type": "stream",
     "text": [
      "/home/lar/anaconda3/bin:/home/lar/anaconda3/bin:/home/lar/anaconda3/bin:/home/lar/bin:/home/lar/.local/bin:/usr/local/sbin:/usr/local/bin:/usr/sbin:/usr/bin:/sbin:/bin:/usr/games:/usr/local/games:/snap/bin\n"
     ]
    }
   ],
   "source": [
    "echo $PATH"
   ]
  },
  {
   "cell_type": "markdown",
   "metadata": {},
   "source": [
    "path တစ်ခုနဲ့ တစ်ခုကို \":\" နဲ့ ခြားပြီး \\$PATH variable မှာ setting လုပ်ထားတာကို တွေ့ရပါလိမ့်မယ်။  "
   ]
  },
  {
   "cell_type": "markdown",
   "metadata": {},
   "source": [
    "Environment အတွက် variable ကို အသစ်ဖန်တီးချင်တာမျိုး၊ ရှိနေတာကို ဝင်ပြင်တာမျိုးလုပ်ချင်ရင် export command ကို သုံးပါတယ်။ ဥပမာ အထက်က ပြခဲ့တဲ့ ရှိနေပြီးသား PATH variable မှာ /home/lar/linux-cmd ဆိုတဲ့ ဖိုလ်ဒါကိုပါ ထည့်ချင်ရင် အောက်ပါအတိုင်း export command ကို သုံးလို့ရပါတယ်။ "
   ]
  },
  {
   "cell_type": "code",
   "execution_count": 7,
   "metadata": {
    "collapsed": true
   },
   "outputs": [],
   "source": [
    "export PATH=$PATH:/home/lar/linux-cmd"
   ]
  },
  {
   "cell_type": "markdown",
   "metadata": {},
   "source": [
    "echo $PATH command ကို ရိုက်ကြည့်ပြီး ပြောင်းမပြောင်းကို စစ်ကြည့်ရအောင်။  "
   ]
  },
  {
   "cell_type": "code",
   "execution_count": 8,
   "metadata": {},
   "outputs": [
    {
     "name": "stdout",
     "output_type": "stream",
     "text": [
      "/home/lar/anaconda3/bin:/home/lar/anaconda3/bin:/home/lar/anaconda3/bin:/home/lar/bin:/home/lar/.local/bin:/usr/local/sbin:/usr/local/bin:/usr/sbin:/usr/bin:/sbin:/bin:/usr/games:/usr/local/games:/snap/bin:/home/lar/linux-cmd\n"
     ]
    }
   ],
   "source": [
    "echo $PATH"
   ]
  },
  {
   "cell_type": "markdown",
   "metadata": {},
   "source": [
    "အထက်မှာ မြင်ခဲ့ရတဲ့ အတိုင်း /home/lar/linux-cmd ကို ရှိနေပြီးသား PATH variable ရဲ့ နောက်မှာတွဲပါလာတာကို တွေ့ရပါလိမ့်မယ်။  \n",
    "\n",
    "တစ်ခုသိထားရမှာက အခု export လုပ်ခဲ့တဲ့ PATH က လက်ရှိ session အတွက်ပဲ active ဖြစ်နေတာပါ။ လက်ရှိ terminal ကနေ ထွက်သွားတာနဲ့ နဂိုရှိနေတဲ့ PATH အတိုင်းပဲ ပြန်ဖြစ်သွားပါလိမ့်မယ်။ တကယ်လို့ နောက် terminal အသစ်ဖွင့်လည်း ပြောင်းထားတာတဲ့ အတိုင်းဖြစ်နေစေချင်တယ်၊ စက်ကို ပိတ်ပြီး နောက်တခေါက် ပြန်ဖွင့်တဲ့ အခါမှာလည်း ကိုယ် export လုပ်ခဲ့တဲ့ variable ကို ကျန်ရှိနေစေချင်တယ်ဆိုရင်တော့ \"~/.bashrc\" (သို့) \"~/.profile\" ဖိုင်မှာ ဝင်ရေးထားရပါလိမ့်မယ်။ ကိုယ်သုံးတဲ့ linux OS distribution က ဘယ်လိုအစီအစဉ်နဲ့ configuration setting တွေကို run တယ်ဆိုတာကိုတော့ သိထားရပါလိမ့်မယ်။ မဟုတ်ရင် PATH variable ကို တခြား configuration ဖိုင် တစ်ဖိုင်က overwrite လုပ်တာမျိုး ရှိပါတယ်။ အကြမ်းမျဉ်းအားဖြင့်တော့ ကိုယ်တစ်ယောက်ထဲအတွက်ဆိုရင် ~/.bashrc ဖိုင်မှာ ဝင်ရေးကြတာများပါတယ်။     "
   ]
  },
  {
   "cell_type": "markdown",
   "metadata": {},
   "source": [
    "### Removing one path from \\$PATH  \n",
    "\n",
    "ဆိုကြပါစို့ ကျွန်တော်တို့က ရှိပြီးသား $PATH ထဲကနေ path တစ်ခုကို ဖြုတ်ချင်တဲ့ အခါ ဘယ်လို လုပ်လို့ရမလဲဆိုတာကို စဉ်းစားကြည့်ကြရအောင်။  \n",
    "\n",
    "အလွယ်ဆုံးနည်းကတော့ \"~/.bashrc\" ဖိုင်၊ ဒါမှမဟုတ် \"~/.profile\" ဖိုင်မှာ ရေးထားတဲ့ export စာကြောင်းကို \"vi\" (သို့) \"gedit\" လို text editor တစ်ခုခုနဲ့ ဖွင့်ပြီး ဝင်ပြင်တဲ့ နည်းပါပဲ။  \n",
    "\n",
    "နောက် ကျွန်တော်တို့ အခုအချိန်ထိ လေ့လာခဲ့ကြတဲ့ command တွေကို သုံးပြီးတော့လည်း ပြင်ဆင်လို့ ရပါတယ်။  \n",
    "အဖြေကို စဉ်းစားလို့ ရမလား။  \n",
    "\n",
    "အဖြေကတော့ အောက်ပါအတိုင်း \"echo\" နဲ့ \"sed\" ကို သုံးပြီး ပြန်ပြင်တဲ့ နည်းပါ။"
   ]
  },
  {
   "cell_type": "code",
   "execution_count": 9,
   "metadata": {
    "collapsed": true
   },
   "outputs": [],
   "source": [
    "PATH=$(echo $PATH | sed -e 's/:\\/home\\/lar\\/linux-cmd//')"
   ]
  },
  {
   "cell_type": "markdown",
   "metadata": {},
   "source": [
    "အထက်က command ရဲ့ အလုပ်လုပ်ပုံကို နားလည်နေပြီလို့ ယူဆပါတယ်။ ပြောင်းသွားတာကို echo $PATH ရိုက်ပြီး ပြန်စစ်ကြည့်ရအောင်။"
   ]
  },
  {
   "cell_type": "code",
   "execution_count": 10,
   "metadata": {},
   "outputs": [
    {
     "name": "stdout",
     "output_type": "stream",
     "text": [
      "/home/lar/anaconda3/bin:/home/lar/anaconda3/bin:/home/lar/anaconda3/bin:/home/lar/bin:/home/lar/.local/bin:/usr/local/sbin:/usr/local/bin:/usr/sbin:/usr/bin:/sbin:/bin:/usr/games:/usr/local/games:/snap/bin\n"
     ]
    }
   ],
   "source": [
    "echo $PATH "
   ]
  },
  {
   "cell_type": "markdown",
   "metadata": {},
   "source": [
    "env ဆိုတဲ့ command နဲ့ လည်း environment variable တွေကို ရိုက်ထုတ်ခိုင်းလို့ ရပါတယ်။ ဒီတစ်ခါတော့ မြင်ဖူးသွားအောင် စမ်းရိုက်ကြည့်ရအောင်။ လက်ရှိ ကျွန်တော်သုံးနေတဲ့ စက်ရဲ့ environment variable တွေကတော့ အောက်ပါအတိုင်းပါပဲ။"
   ]
  },
  {
   "cell_type": "code",
   "execution_count": 6,
   "metadata": {
    "scrolled": true
   },
   "outputs": [
    {
     "name": "stdout",
     "output_type": "stream",
     "text": [
      "LC_PAPER=ja_JP.UTF-8\n",
      "XDG_VTNR=7\n",
      "XDG_SESSION_ID=c2\n",
      "LC_ADDRESS=ja_JP.UTF-8\n",
      "CLUTTER_IM_MODULE=xim\n",
      "LC_MONETARY=ja_JP.UTF-8\n",
      "XDG_GREETER_DATA_DIR=/var/lib/lightdm-data/lar\n",
      "SESSION=ubuntu\n",
      "GPG_AGENT_INFO=/home/lar/.gnupg/S.gpg-agent:0:1\n",
      "SHELL=/bin/bash\n",
      "VTE_VERSION=4205\n",
      "TERM=xterm-256color\n",
      "QT_LINUX_ACCESSIBILITY_ALWAYS_ON=1\n",
      "LC_NUMERIC=ja_JP.UTF-8\n",
      "WINDOWID=56623114\n",
      "GNOME_KEYRING_CONTROL=\n",
      "UPSTART_SESSION=unix:abstract=/com/ubuntu/upstart-session/1000/1512\n",
      "GTK_MODULES=gail:atk-bridge:unity-gtk-module\n",
      "USER=lar\n",
      "LD_LIBRARY_PATH=:/lib:/lib64:/usr/lib:/usr/lib64:/lib:/lib64:/usr/lib:/usr/lib64:/lib:/lib64:/usr/lib:/usr/lib64\n",
      "QT_ACCESSIBILITY=1\n",
      "LC_TELEPHONE=ja_JP.UTF-8\n",
      "LS_COLORS=rs=0:di=01;34:ln=01;36:mh=00:pi=40;33:so=01;35:do=01;35:bd=40;33;01:cd=40;33;01:or=40;31;01:mi=00:su=37;41:sg=30;43:ca=30;41:tw=30;42:ow=34;42:st=37;44:ex=01;32:*.tar=01;31:*.tgz=01;31:*.arc=01;31:*.arj=01;31:*.taz=01;31:*.lha=01;31:*.lz4=01;31:*.lzh=01;31:*.lzma=01;31:*.tlz=01;31:*.txz=01;31:*.tzo=01;31:*.t7z=01;31:*.zip=01;31:*.z=01;31:*.Z=01;31:*.dz=01;31:*.gz=01;31:*.lrz=01;31:*.lz=01;31:*.lzo=01;31:*.xz=01;31:*.bz2=01;31:*.bz=01;31:*.tbz=01;31:*.tbz2=01;31:*.tz=01;31:*.deb=01;31:*.rpm=01;31:*.jar=01;31:*.war=01;31:*.ear=01;31:*.sar=01;31:*.rar=01;31:*.alz=01;31:*.ace=01;31:*.zoo=01;31:*.cpio=01;31:*.7z=01;31:*.rz=01;31:*.cab=01;31:*.jpg=01;35:*.jpeg=01;35:*.gif=01;35:*.bmp=01;35:*.pbm=01;35:*.pgm=01;35:*.ppm=01;35:*.tga=01;35:*.xbm=01;35:*.xpm=01;35:*.tif=01;35:*.tiff=01;35:*.png=01;35:*.svg=01;35:*.svgz=01;35:*.mng=01;35:*.pcx=01;35:*.mov=01;35:*.mpg=01;35:*.mpeg=01;35:*.m2v=01;35:*.mkv=01;35:*.webm=01;35:*.ogm=01;35:*.mp4=01;35:*.m4v=01;35:*.mp4v=01;35:*.vob=01;35:*.qt=01;35:*.nuv=01;35:*.wmv=01;35:*.asf=01;35:*.rm=01;35:*.rmvb=01;35:*.flc=01;35:*.avi=01;35:*.fli=01;35:*.flv=01;35:*.gl=01;35:*.dl=01;35:*.xcf=01;35:*.xwd=01;35:*.yuv=01;35:*.cgm=01;35:*.emf=01;35:*.ogv=01;35:*.ogx=01;35:*.aac=00;36:*.au=00;36:*.flac=00;36:*.m4a=00;36:*.mid=00;36:*.midi=00;36:*.mka=00;36:*.mp3=00;36:*.mpc=00;36:*.ogg=00;36:*.ra=00;36:*.wav=00;36:*.oga=00;36:*.opus=00;36:*.spx=00;36:*.xspf=00;36:\n",
      "XDG_SESSION_PATH=/org/freedesktop/DisplayManager/Session0\n",
      "XDG_SEAT_PATH=/org/freedesktop/DisplayManager/Seat0\n",
      "SSH_AUTH_SOCK=/run/user/1000/keyring/ssh\n",
      "JPY_PARENT_PID=14551\n",
      "DEFAULTS_PATH=/usr/share/gconf/ubuntu.default.path\n",
      "PAGER=cat\n",
      "XDG_CONFIG_DIRS=/etc/xdg/xdg-ubuntu:/usr/share/upstart/xdg:/etc/xdg\n",
      "PATH=/home/lar/anaconda3/bin:/home/lar/anaconda3/bin:/home/lar/anaconda3/bin:/home/lar/bin:/home/lar/.local/bin:/usr/local/sbin:/usr/local/bin:/usr/sbin:/usr/bin:/sbin:/bin:/usr/games:/usr/local/games:/snap/bin\n",
      "DESKTOP_SESSION=ubuntu\n",
      "QT_QPA_PLATFORMTHEME=appmenu-qt5\n",
      "QT_IM_MODULE=ibus\n",
      "LC_IDENTIFICATION=ja_JP.UTF-8\n",
      "JOB=unity-settings-daemon\n",
      "PWD=/home/lar/linux-cmd\n",
      "XDG_SESSION_TYPE=x11\n",
      "XMODIFIERS=@im=ibus\n",
      "LANG=en_US.UTF-8\n",
      "GNOME_KEYRING_PID=\n",
      "MANDATORY_PATH=/usr/share/gconf/ubuntu.mandatory.path\n",
      "GDM_LANG=en_US\n",
      "LC_MEASUREMENT=ja_JP.UTF-8\n",
      "IM_CONFIG_PHASE=1\n",
      "COMPIZ_CONFIG_PROFILE=ubuntu\n",
      "PS1=[PEXP\\[\\]ECT_PROMPT>\n",
      "GDMSESSION=ubuntu\n",
      "GTK2_MODULES=overlay-scrollbar\n",
      "SESSIONTYPE=gnome-session\n",
      "XDG_SEAT=seat0\n",
      "HOME=/home/lar\n",
      "SHLVL=2\n",
      "LANGUAGE=en_US\n",
      "GNOME_DESKTOP_SESSION_ID=this-is-deprecated\n",
      "UPSTART_INSTANCE=\n",
      "LOGNAME=lar\n",
      "XDG_SESSION_DESKTOP=ubuntu\n",
      "UPSTART_EVENTS=xsession started\n",
      "PYTHONPATH=/home/lar/Downloads/caffe/python/:/home/lar/anaconda3/bin/python\n",
      "COMPIZ_BIN_PATH=/usr/bin/\n",
      "QT4_IM_MODULE=xim\n",
      "XDG_DATA_DIRS=/usr/share/ubuntu:/usr/share/gnome:/usr/local/share/:/usr/share/:/var/lib/snapd/desktop\n",
      "DBUS_SESSION_BUS_ADDRESS=unix:abstract=/tmp/dbus-K4yrfchpsG\n",
      "LESSOPEN=| /usr/bin/lesspipe %s\n",
      "UPSTART_JOB=unity7\n",
      "INSTANCE=\n",
      "DISPLAY=:0\n",
      "XDG_RUNTIME_DIR=/run/user/1000\n",
      "GTK_IM_MODULE=ibus\n",
      "XDG_CURRENT_DESKTOP=Unity\n",
      "LC_TIME=ja_JP.UTF-8\n",
      "LESSCLOSE=/usr/bin/lesspipe %s %s\n",
      "XAUTHORITY=/home/lar/.Xauthority\n",
      "LC_NAME=ja_JP.UTF-8\n",
      "_=/usr/bin/env\n"
     ]
    }
   ],
   "source": [
    "env"
   ]
  },
  {
   "cell_type": "markdown",
   "metadata": {},
   "source": [
    "\"env\" ကနေရိုက်ထုတ်ပြတဲ့ output တွေအများကြီးထဲကမှ ကိုယ်ကြည့်ချင်တဲ့ variable ကိုပဲ ရိုက်ထုတ်ခိုင်းချင်ရင်၊ ကျွန်တော်တို့ ရှေ့မှာ လေ့လာခဲ့တဲ့ \"grep\" နဲ့လည်း ဆွဲထုတ်လို့ ရပါတယ်။ အောက်ပါ ဥပမာကို ကြည့်ပါ။ LC_TIME (locale time) ကိုပဲ \"grep\" နဲ့ ဆွဲထုတ်ယူတာပါ။ "
   ]
  },
  {
   "cell_type": "code",
   "execution_count": 11,
   "metadata": {},
   "outputs": [
    {
     "name": "stdout",
     "output_type": "stream",
     "text": [
      "\u001b[01;31m\u001b[KLC_TIME\u001b[m\u001b[K=ja_JP.UTF-8\n"
     ]
    }
   ],
   "source": [
    "env | grep 'LC_TIME'"
   ]
  },
  {
   "cell_type": "markdown",
   "metadata": {},
   "source": [
    "### Changing LANG variable with export\n",
    "\n",
    "\"export\" command ကို သုံးပြီး variable အမျိုးမျိုးရဲ့ setting ကိုပြောင်းတာတွေအများကြီးလုပ်ခဲ့ပေမဲ့၊ အများဆုံးပြောင်းခဲ့တဲ့ environment variable တွေကို ပြောပါဆိုရင် path လမ်းကြောင်းနဲ့ ဆိုင်တာတွေများပါတယ်။ ဥပမာ အထက်မှာ ပြခဲ့တဲ့ \\$PATH, နောက်ပြီးတော့ python programming နဲ့ ဆိုင်တဲ့ \\$PYTHONPATH, library ဖိုင်တွေနဲ့ ပတ်သက်တဲ့ \\$LD_LIBRARY_PATH, shell နဲ့ဆိုင်တဲ့ SHELL စတာမျိုးတွေပါ။  \n",
    "\n",
    "path လမ်းကြောင်းတွေအပြင် နောက်ထပ်အသုံးများတာကတော့ language setting (သို့) locale နဲ့ ဆိုင်တဲ့ variable တွေကို export command နဲ့ ဝင်ပြင်ပါတယ်။  \n",
    "\n",
    "ဒီနေရာမှာ ဥပမာအနေနဲ့ လက်ရှိရှိနေတဲ့ အင်္ဂလိပ်ဘာသာ language setting ကနေ ဂျပန်ဘာသာကို ပြောင်းပြပါမယ်။  "
   ]
  },
  {
   "cell_type": "markdown",
   "metadata": {},
   "source": [
    "အရင်ဆုံး လက်ရှိ LANG variable ကို echo command နဲ့ ရိုက်ထုတ်ကြည့်ပါ။  "
   ]
  },
  {
   "cell_type": "code",
   "execution_count": 12,
   "metadata": {},
   "outputs": [
    {
     "name": "stdout",
     "output_type": "stream",
     "text": [
      "en_US.UTF-8\n"
     ]
    }
   ],
   "source": [
    "echo $LANG"
   ]
  },
  {
   "cell_type": "markdown",
   "metadata": {},
   "source": [
    "အထက်ပါအတိုင်း US English ဆိုတာကိုတွေ့ရပါလိမ့်မယ်။  \n",
    "\n",
    "en\\_US\\.UTF\\-8 ဆိုတဲ့ format က &lt;Language&gt;\\_&lt;Territory&gt;\\.&lt;Codeset&gt;\\[@&lt;Modifier&gt;\\] ဆိုတဲ့ ပုံစံပါ။  \n",
    "\n",
    "အသေးစိတ်သိချင်ရင် အောက်ပါ လင့်(ခ်)တွေကို လေ့လာကြည့်ပါ။\n",
    "\n",
    "Language: [ISO-639 language code](https://en.wikipedia.org/wiki/List_of_ISO_639-1_codes)  \n",
    "Territory: [ISO-3166 country code](https://en.wikipedia.org/wiki/ISO_3166-1)  \n",
    "Codeset: [Character set](https://en.wikipedia.org/wiki/Character_encoding), [ISO/IEC-8859-1](https://en.wikipedia.org/wiki/ISO/IEC_8859-1), [UTF-8](https://en.wikipedia.org/wiki/UTF-8) \n",
    "\n",
    "ဂျပန်ဘာသာကို ပြောင်းချင်ရင် export command နဲ့ LANG variable ကို အောက်ပါအတိုင်းပြောင်းပေးလို့ ရပါတယ်။  "
   ]
  },
  {
   "cell_type": "code",
   "execution_count": 14,
   "metadata": {},
   "outputs": [
    {
     "name": "stdout",
     "output_type": "stream",
     "text": [
      "ja_JP.utf8\n"
     ]
    }
   ],
   "source": [
    "export LANG=ja_JP.utf8\n",
    "echo $LANG"
   ]
  },
  {
   "cell_type": "markdown",
   "metadata": {},
   "source": [
    "မှန်မှန်ကန်ကန်ပြောင်းသွားရဲ့ လားဆိုတာကို သေချာအောင် man စာမျက်နှာတွေကို ဂျပန်လို ပြောင်းကြည့်ရအောင်။  \n",
    "ဂျပန် man pages တွေကို apt-get command နဲ့ ကိုယ်ရဲ့ စက်ထဲမှာ install လုပ်မယ်။  \n",
    "(အင်တာနက်နဲ့ ချိတ်ဆက်ထားမှ install လုပ်လို့ ရပါလိမ့်မယ်)  \n",
    "\n",
    "apt-get install manpages-ja  \n",
    "(sudo သုံးဖို့ လိုအပ်ပါလိမ့်မယ်)   \n",
    "\n",
    "installation ရဲ့ output screen ကိုတော့ ကျော်သွားမယ်။  \n",
    "installation လုပ်ပြီးသွားတဲ့ အခါ အောက်ပါ export command နှစ်ကြောင်းကို ရိုက်ပါ။  \n",
    "LANGUAGE နဲ့ LC_ALL ဆိုတဲ့ variable နှစ်ခုကို ဂျပန်ဘာသာ အဖြစ်ပြောင်းတာပါ။  "
   ]
  },
  {
   "cell_type": "code",
   "execution_count": 15,
   "metadata": {
    "collapsed": true
   },
   "outputs": [],
   "source": [
    "export LANGUAGE=ja_JP.utf8\n",
    "export LC_ALL=ja_JP.utf8"
   ]
  },
  {
   "cell_type": "markdown",
   "metadata": {},
   "source": [
    "အထက်မှာ ပြောင်းခဲ့တဲ့ LC_ALL ဆိုတဲ့ environment variable က အပလီကေးရှင်းတွေကို default language သုံးပြီး output လုပ်ခိုင်းပါတယ်။  \n",
    "လက်ရှိ ကျွန်တော်တို့က default LANGUAGE ကို ဂျပန်ဘာသာအဖြစ်ပြောင်းထားပါတယ်။  \n",
    "\n",
    "ဟုတ်ပြီ။ man ls ဆိုပြီး အောက်ပါအတိုင်းရိုက်ကြည့်ပြီး ls နဲ့ ပတ်သက်ပြီး ရှင်းပြတာတွေကို ဂျပန်လိုမြင်ရသလားဆိုတာကို စမ်းကြည့်ပါ။  \n"
   ]
  },
  {
   "cell_type": "code",
   "execution_count": 16,
   "metadata": {},
   "outputs": [
    {
     "name": "stdout",
     "output_type": "stream",
     "text": [
      "LS(1)                          ユーザーコマンド                          LS(1)\n",
      "\n",
      "名前\n",
      "       ls - ディレクトリの内容をリスト表示する\n",
      "\n",
      "書式\n",
      "       ls [オプション]... [ファイル]...\n",
      "\n",
      "説明\n",
      "       FILE   に関する情報を一覧表示します  (デフォルトは現在のディレクトリ)。\n",
      "       -cftuvSUX または --sort  が指定されない限り、要素はアルファベット順で並\n",
      "       べ替えられます。\n",
      "\n",
      "       長いオプションに必須の引数は短いオプションにも必須です。\n",
      "\n",
      "       -a, --all\n",
      "              . で始まる要素を無視しない\n",
      "\n",
      "       -A, --almost-all\n",
      "              . および .. を一覧表示しない\n",
      "\n",
      "       --author                -l と合わせて使用した時、各ファイルの作成者を表\n",
      "              示する\n",
      "\n",
      "       -b, --escape\n",
      "              表示不可能な文字の場合に C 形式のエスケープ文字を表示する\n",
      "\n",
      "       --block-size=SIZE\n",
      "              SIZE の倍数として表示する。例: '--block-size=M' は  表示する時に\n",
      "              1,048,576 バイトを単位としてサイズを 表示する。SIZE の形式は以下\n",
      "              を参照\n",
      "\n",
      "       -B, --ignore-backups\n",
      "              ~ で終了する要素を一覧表示しない\n",
      "\n",
      "       -c                         -lt と使用した場合: ctime  (ファイル状態情報\n",
      "       を変更\n",
      "              した時間) で並べ替えて表示する。 -l と使用した場合: 名前で並べ替\n",
      "              えて ctime を表示する。 それ以外の場合: ctime で新しい順に並べ替\n",
      "              える\n",
      "\n",
      "       -C     要素を列ごとに並べる\n",
      "\n",
      "       --color[=WHEN]\n",
      "              カラー出力をする。   WHEN   に指定できるのは   'never',  'auto',\n",
      "              'always' (デフォルト)。詳細は下記を参照\n",
      "\n",
      "       -d, --directory\n",
      "              ディレクトリ自身を一覧に表示する。  ディレクトリの内容は表示しな\n",
      "              い\n",
      "\n",
      "       -D, --dired\n",
      "              Emacs の dired モード用の出力を生成する\n",
      "\n",
      "       -f     ソートしない。 -aU が有効になり、 -ls --color が無効になる\n",
      "\n",
      "       -F, --classify\n",
      "              タイプ識別子 (*/=>@| のうちの一つ) を付けて出力する\n",
      "\n",
      "       --file-type\n",
      "              上と同様だが '*' を付与しない\n",
      "\n",
      "       --format=WORD\n",
      "              WORD  が  across  は -x, commas は -m, horizontal は -x, long は\n",
      "              -l, single-column は -1, verbose は -l, vertical は -C と同じ\n",
      "\n",
      "       --full-time            -l --time-style=full-iso と同様\n",
      "\n",
      "       -g                         -l と同様だがファイル所有者を表示しない\n",
      "\n",
      "       --group-directories-first\n",
      "              ファイルの前にディレクトリをグループ化して表示する。\n",
      "\n",
      "              --sort オプションと組み合わせて使用できる。 --sort=none (-U)  と\n",
      "              併せたときはグループ化を行わない\n",
      "\n",
      "       -G, --no-group\n",
      "              詳細リスト形式の時にグループ名を表示しない\n",
      "\n",
      "       -h,  --human-readable       -l と併せて使用したときに人間が読みやすい形\n",
      "       式で表示する\n",
      "              (例: 1K 234M 2G)\n",
      "\n",
      "       --si   上と同様だが乗数の単位に 1024 の代わりに 1000 を使用する\n",
      "\n",
      "       -H, --dereference-command-line\n",
      "              コマンド行でリストされたシンボリックリンクを辿る\n",
      "\n",
      "       --dereference-command-line-symlink-to-dir\n",
      "              コマンド行のシンボリックリンクがディレクトリを  指している時には\n",
      "              シンボリックリンクを辿る\n",
      "\n",
      "       --hide=PATTERN\n",
      "              シェル形式の PATTERN に一致する要素は表示しない (-a または -A で\n",
      "              上書きされる)\n",
      "\n",
      "       --indicator-style=WORD\n",
      "              要素の名前に WORD で指定した形式の識別子を加える: none (デフォル\n",
      "              ト)、 slash (-p)、 file-type (--file-type)、 classify (-F)\n",
      "\n",
      "       -i, --inode\n",
      "              各ファイルの i ノード番号を表示する\n",
      "\n",
      "       -I, --ignore=PATTERN\n",
      "              シェル形式の PATTERN に一致する要素は表示しない\n",
      "\n",
      "       -k     ディスク使用量のブロックサイズとして 1024 バイトを使う\n",
      "\n",
      "       -l     詳細リスト形式を表示する\n",
      "\n",
      "       -L, --dereference\n",
      "              シンボリックリンクのファイル情報を表示するときは  リンクそのもの\n",
      "              ではなくリンク参照先のファイル 情報を表示する\n",
      "\n",
      "       -m     要素のリストをカンマで区切り、一行に詰め込む\n",
      "\n",
      "       -n, --numeric-uid-gid      -l と同様だが UID と GID を数値で表示する\n",
      "\n",
      "       -N, --literal\n",
      "              生の要素名を表示する (制御文字などを特別扱いしない)\n",
      "\n",
      "       -o                         -l と同様だがグループ情報を表示しない\n",
      "\n",
      "       -p, --indicator-style=slash\n",
      "              ディレクトリに対して識別子 / を加えて表示する\n",
      "\n",
      "       -q, --hide-control-chars\n",
      "              表示不可能な文字を ? に置き換える\n",
      "\n",
      "       --show-control-chars\n",
      "              表示不可能な文字をそのまま表示 (プログラムが 'ls' で  なかったり\n",
      "              出力が端末でない場合はこれがデフォルト)\n",
      "\n",
      "       -Q, --quote-name\n",
      "              ファイル名をダブルクォート (\") で囲む\n",
      "\n",
      "       --quoting-style=WORD\n",
      "              項目名のクォートを WORD で指定された形式で行う: literal, locale,\n",
      "              shell, shell-always, c, escape\n",
      "\n",
      "       -r, --reverse\n",
      "              ソート順を反転させる\n",
      "\n",
      "       -R, --recursive\n",
      "              子ディレクトリを再帰的に一覧表示する\n",
      "\n",
      "       -s, --size\n",
      "              ブロック単位で各ファイルサイズを表示する\n",
      "\n",
      "       -S     ファイルサイズ順にソートする\n",
      "\n",
      "       --sort=WORD\n",
      "              名前の代わりに WORD で指定した順でソートする: なし (-U),  サイズ\n",
      "              (-S), 時刻 (-t), バージョン (-v), extension (-X)\n",
      "\n",
      "       --time=WORD             -l と併せて使用し、デフォルトのファイル修正時刻\n",
      "       ではなく\n",
      "              WORD を時刻として表示する: atime, access  (-u  と同じ)、  ctime,\n",
      "              status (-c と同じ)。 --sort=time を指定した場合 ソートのキーとし\n",
      "              て指定した時間が使用される\n",
      "\n",
      "       --time-style=STYLE     -l と併せて使用し、次の STYLE 形式で時間を表示す\n",
      "       る:\n",
      "              full-iso, long-iso, iso, locale, +FORMAT。 FORMAT は 'date' と同\n",
      "              様に解釈される。FORMAT が FORMAT1<newline>FORMAT2 となっている場\n",
      "              合、FORMAT1  はファイル から離れた側に表示され、 FORMAT2  はファ\n",
      "              イル側に表示される。 STYLE  の接頭辞として  'posix-'  をつけた場\n",
      "              合、 POSIX ロケール ではない場合にのみ STYLE が効果を持つ\n",
      "\n",
      "       -t     ファイル更新時間で新しい順にソートする\n",
      "\n",
      "       -T, --tabsize=COLS\n",
      "              タブ幅を 8 の代わりに COLS にする\n",
      "\n",
      "       -u                         -lt と使用: アクセス時間でソート、表示する。\n",
      "              -l と使用: 名前でソートし、アクセス時間を表示する。 その他: アク\n",
      "              セス時間でソートする\n",
      "\n",
      "       -U     ソートをしない。ディレクトリに含まれている要素順で表示する\n",
      "\n",
      "       -v     自然な (バージョン) 数字順でソートする\n",
      "\n",
      "       -w, --width=COLS\n",
      "              スクリーン幅として現在の値の代わりに COLS を使用する\n",
      "\n",
      "       -x     要素を列ごとではなく行ごとに表示する\n",
      "\n",
      "       -X     拡張子のアルファベット順にソートする\n",
      "\n",
      "       -Z, --context\n",
      "              各ファイルの SELinux セキュリティコンテキストを表示する\n",
      "\n",
      "       -1     1 ファイル 1 行で表示する\n",
      "\n",
      "       --help この使い方を表示して終了する\n",
      "\n",
      "       --version\n",
      "              バージョン情報を表示して終了する\n",
      "\n",
      "       SIZE は整数で、追加で単位を指定できます (例えば、10M は 10*1024*1024 で\n",
      "       す)。  単位には  K,  M,  G,  T, P, E, Z, Y (1024 の累乗) や KB, MB, ...\n",
      "       (1000 の累乗) が使用できます。\n",
      "\n",
      "       デフォルトまたは --color=never を指定した場合、ファイルの種類を判別する\n",
      "       ための カラー表示は無効となります。 --color=auto を指定した場合、標準出\n",
      "       力が端末に接続 されている場合のみカラーコードを出力します。LS_COLORS 環\n",
      "       境変数によって動作 を設定できます。LS_COLORS を設定する場合は dircolors\n",
      "       を使用してください。\n",
      "\n",
      "   終了ステータス:\n",
      "       0      正常終了、\n",
      "\n",
      "       1      軽微な問題が発生 (例: 子ディレクトリにアクセスできない)、\n",
      "\n",
      "       2      重大な問題が発生 (例: コマンド引数が誤っている)。\n",
      "\n",
      "       GNU                    coreutils                    のオンラインヘルプ:\n",
      "       <http://www.gnu.org/software/coreutils/>     ls    の翻訳に関するバグは\n",
      "       <http://translationproject.org/team/ja.html> に連絡してください。  完全\n",
      "       な文書を参照する場合は  info coreutils 'ls invocation' を実行してくださ\n",
      "       い。\n",
      "\n",
      "作者\n",
      "       作者 Richard M. Stallman および David MacKenzie。\n",
      "\n",
      "著作権\n",
      "       Copyright © 2013 Free Software Foundation, Inc.  ライセンス GPLv3+: GNU\n",
      "       GPL version 3 or later <http://gnu.org/licenses/gpl.html>.\n",
      "       This  is  free  software:  you  are free to change and redistribute it.\n",
      "       There is NO WARRANTY, to the extent permitted by law.\n",
      "\n",
      "関連項目\n",
      "       ls の完全なマニュアルは Texinfo  マニュアルとして整備されている。もし、\n",
      "       info および ls のプログラムが正しくインストールされているならば、コマン\n",
      "       ド\n",
      "\n",
      "              info ls\n",
      "\n",
      "       を使用すると完全なマニュアルを読むことができるはずだ。\n",
      "\n",
      "GNU coreutils                      2014年5月                             LS(1)\n"
     ]
    }
   ],
   "source": [
    "man ls"
   ]
  },
  {
   "cell_type": "markdown",
   "metadata": {},
   "source": [
    "ဂျပန်လို ပြောင်းသွားတာကို တွေ့ရပါလိမ့်မယ်။  \n",
    "\n",
    "default language setting ကို အင်္ဂလိပ်ဘာသာအဖြစ်ပြန်ပြောင်းရအောင်။  \n",
    "အောက်ပါအတိုင်း လုပ်ဆောင်ပါ။  "
   ]
  },
  {
   "cell_type": "code",
   "execution_count": 21,
   "metadata": {
    "collapsed": true
   },
   "outputs": [],
   "source": [
    "export LANG=en_US.utf8\n",
    "export LANGUAGE=en_US.utf8\n",
    "export LC_ALL=en_US.utf8"
   ]
  },
  {
   "cell_type": "markdown",
   "metadata": {},
   "source": [
    "man ls ကို ရိုက်ကြည့်ပြီး အင်္ဂလိပ်လို ပြန်ပြောင်းပေးသွားပြီလား ဆိုတာကို လေ့လာကြည့်ကြရအောင်။  "
   ]
  },
  {
   "cell_type": "code",
   "execution_count": 22,
   "metadata": {},
   "outputs": [
    {
     "name": "stdout",
     "output_type": "stream",
     "text": [
      "LS(1)                            User Commands                           LS(1)\n",
      "\n",
      "NAME\n",
      "       ls - list directory contents\n",
      "\n",
      "SYNOPSIS\n",
      "       ls [OPTION]... [FILE]...\n",
      "\n",
      "DESCRIPTION\n",
      "       List  information  about  the FILEs (the current directory by default).\n",
      "       Sort entries alphabetically if none of -cftuvSUX nor --sort  is  speci‐\n",
      "       fied.\n",
      "\n",
      "       Mandatory  arguments  to  long  options are mandatory for short options\n",
      "       too.\n",
      "\n",
      "       -a, --all\n",
      "              do not ignore entries starting with .\n",
      "\n",
      "       -A, --almost-all\n",
      "              do not list implied . and ..\n",
      "\n",
      "       --author\n",
      "              with -l, print the author of each file\n",
      "\n",
      "       -b, --escape\n",
      "              print C-style escapes for nongraphic characters\n",
      "\n",
      "       --block-size=SIZE\n",
      "              scale sizes by SIZE before printing them; e.g., '--block-size=M'\n",
      "              prints sizes in units of 1,048,576 bytes; see SIZE format below\n",
      "\n",
      "       -B, --ignore-backups\n",
      "              do not list implied entries ending with ~\n",
      "\n",
      "       -c     with -lt: sort by, and show, ctime (time of last modification of\n",
      "              file status information); with -l: show ctime and sort by  name;\n",
      "              otherwise: sort by ctime, newest first\n",
      "\n",
      "       -C     list entries by columns\n",
      "\n",
      "       --color[=WHEN]\n",
      "              colorize  the output; WHEN can be 'always' (default if omitted),\n",
      "              'auto', or 'never'; more info below\n",
      "\n",
      "       -d, --directory\n",
      "              list directories themselves, not their contents\n",
      "\n",
      "       -D, --dired\n",
      "              generate output designed for Emacs' dired mode\n",
      "\n",
      "       -f     do not sort, enable -aU, disable -ls --color\n",
      "\n",
      "       -F, --classify\n",
      "              append indicator (one of */=>@|) to entries\n",
      "\n",
      "       --file-type\n",
      "              likewise, except do not append '*'\n",
      "\n",
      "       --format=WORD\n",
      "              across -x, commas -m, horizontal -x, long -l, single-column  -1,\n",
      "              verbose -l, vertical -C\n",
      "\n",
      "       --full-time\n",
      "              like -l --time-style=full-iso\n",
      "\n",
      "       -g     like -l, but do not list owner\n",
      "\n",
      "       --group-directories-first\n",
      "              group directories before files;\n",
      "\n",
      "              can   be  augmented  with  a  --sort  option,  but  any  use  of\n",
      "              --sort=none (-U) disables grouping\n",
      "\n",
      "       -G, --no-group\n",
      "              in a long listing, don't print group names\n",
      "\n",
      "       -h, --human-readable\n",
      "              with -l and/or -s, print human readable sizes (e.g., 1K 234M 2G)\n",
      "\n",
      "       --si   likewise, but use powers of 1000 not 1024\n",
      "\n",
      "       -H, --dereference-command-line\n",
      "              follow symbolic links listed on the command line\n",
      "\n",
      "       --dereference-command-line-symlink-to-dir\n",
      "              follow each command line symbolic link\n",
      "\n",
      "              that points to a directory\n",
      "\n",
      "       --hide=PATTERN\n",
      "              do not list implied entries matching shell  PATTERN  (overridden\n",
      "              by -a or -A)\n",
      "\n",
      "       --indicator-style=WORD\n",
      "              append indicator with style WORD to entry names: none (default),\n",
      "              slash (-p), file-type (--file-type), classify (-F)\n",
      "\n",
      "       -i, --inode\n",
      "              print the index number of each file\n",
      "\n",
      "       -I, --ignore=PATTERN\n",
      "              do not list implied entries matching shell PATTERN\n",
      "\n",
      "       -k, --kibibytes\n",
      "              default to 1024-byte blocks for disk usage\n",
      "\n",
      "       -l     use a long listing format\n",
      "\n",
      "       -L, --dereference\n",
      "              when showing file information for a symbolic link, show informa‐\n",
      "              tion  for  the file the link references rather than for the link\n",
      "              itself\n",
      "\n",
      "       -m     fill width with a comma separated list of entries\n",
      "\n",
      "       -n, --numeric-uid-gid\n",
      "              like -l, but list numeric user and group IDs\n",
      "\n",
      "       -N, --literal\n",
      "              print raw entry names (don't treat e.g. control characters  spe‐\n",
      "              cially)\n",
      "\n",
      "       -o     like -l, but do not list group information\n",
      "\n",
      "       -p, --indicator-style=slash\n",
      "              append / indicator to directories\n",
      "\n",
      "       -q, --hide-control-chars\n",
      "              print ? instead of nongraphic characters\n",
      "\n",
      "       --show-control-chars\n",
      "              show nongraphic characters as-is (the default, unless program is\n",
      "              'ls' and output is a terminal)\n",
      "\n",
      "       -Q, --quote-name\n",
      "              enclose entry names in double quotes\n",
      "\n",
      "       --quoting-style=WORD\n",
      "              use quoting style WORD for entry names: literal, locale,  shell,\n",
      "              shell-always, shell-escape, shell-escape-always, c, escape\n",
      "\n",
      "       -r, --reverse\n",
      "              reverse order while sorting\n",
      "\n",
      "       -R, --recursive\n",
      "              list subdirectories recursively\n",
      "\n",
      "       -s, --size\n",
      "              print the allocated size of each file, in blocks\n",
      "\n",
      "       -S     sort by file size, largest first\n",
      "\n",
      "       --sort=WORD\n",
      "              sort  by  WORD instead of name: none (-U), size (-S), time (-t),\n",
      "              version (-v), extension (-X)\n",
      "\n",
      "       --time=WORD\n",
      "              with -l, show time as WORD instead of default modification time:\n",
      "              atime  or  access  or  use  (-u); ctime or status (-c); also use\n",
      "              specified time as sort key if --sort=time (newest first)\n",
      "\n",
      "       --time-style=STYLE\n",
      "              with -l, show times using style STYLE: full-iso, long-iso,  iso,\n",
      "              locale,  or  +FORMAT;  FORMAT  is interpreted like in 'date'; if\n",
      "              FORMAT  is  FORMAT1<newline>FORMAT2,  then  FORMAT1  applies  to\n",
      "              non-recent  files  and FORMAT2 to recent files; if STYLE is pre‐\n",
      "              fixed with 'posix-', STYLE takes effect only outside  the  POSIX\n",
      "              locale\n",
      "\n",
      "       -t     sort by modification time, newest first\n",
      "\n",
      "       -T, --tabsize=COLS\n",
      "              assume tab stops at each COLS instead of 8\n",
      "\n",
      "       -u     with  -lt:  sort by, and show, access time; with -l: show access\n",
      "              time and sort by name; otherwise: sort by  access  time,  newest\n",
      "              first\n",
      "\n",
      "       -U     do not sort; list entries in directory order\n",
      "\n",
      "       -v     natural sort of (version) numbers within text\n",
      "\n",
      "       -w, --width=COLS\n",
      "              set output width to COLS.  0 means no limit\n",
      "\n",
      "       -x     list entries by lines instead of by columns\n",
      "\n",
      "       -X     sort alphabetically by entry extension\n",
      "\n",
      "       -Z, --context\n",
      "              print any security context of each file\n",
      "\n",
      "       -1     list one file per line.  Avoid '\\n' with -q or -b\n",
      "\n",
      "       --help display this help and exit\n",
      "\n",
      "       --version\n",
      "              output version information and exit\n",
      "\n",
      "       The  SIZE  argument  is  an  integer and optional unit (example: 10K is\n",
      "       10*1024).  Units are K,M,G,T,P,E,Z,Y  (powers  of  1024)  or  KB,MB,...\n",
      "       (powers of 1000).\n",
      "\n",
      "       Using  color  to distinguish file types is disabled both by default and\n",
      "       with --color=never.  With --color=auto, ls emits color codes only  when\n",
      "       standard  output is connected to a terminal.  The LS_COLORS environment\n",
      "       variable can change the settings.  Use the dircolors command to set it.\n",
      "\n",
      "   Exit status:\n",
      "       0      if OK,\n",
      "\n",
      "       1      if minor problems (e.g., cannot access subdirectory),\n",
      "\n",
      "       2      if serious trouble (e.g., cannot access command-line argument).\n",
      "\n",
      "AUTHOR\n",
      "       Written by Richard M. Stallman and David MacKenzie.\n",
      "\n",
      "REPORTING BUGS\n",
      "       GNU coreutils online help: <http://www.gnu.org/software/coreutils/>\n",
      "       Report ls translation bugs to <http://translationproject.org/team/>\n",
      "\n",
      "COPYRIGHT\n",
      "       Copyright © 2016 Free Software Foundation, Inc.   License  GPLv3+:  GNU\n",
      "       GPL version 3 or later <http://gnu.org/licenses/gpl.html>.\n",
      "       This  is  free  software:  you  are free to change and redistribute it.\n",
      "       There is NO WARRANTY, to the extent permitted by law.\n",
      "\n",
      "SEE ALSO\n",
      "       Full documentation at: <http://www.gnu.org/software/coreutils/ls>\n",
      "       or available locally via: info '(coreutils) ls invocation'\n",
      "\n",
      "GNU coreutils 8.25               February 2017                           LS(1)\n"
     ]
    }
   ],
   "source": [
    "man ls"
   ]
  },
  {
   "cell_type": "markdown",
   "metadata": {},
   "source": [
    "command တစ်ခုခုကို run လိုက်ပြီး system ကနေပြန်ပေးတဲ့ message တွေက အင်္ဂလိပ်လို မဟုတ်ပဲ native language တစ်ခုခု (ဥပမာ ဂျပန်ဘာသာ) ဖြစ်နေတယ်ဆိုရင် export LC_ALL=C ဆိုပြီး ရိုက်လိုက်ရင် English message အဖြစ်ပြောင်းပေးပါလိမ့်မယ်။  \n",
    "\n",
    "native language အဖြစ်ပြန်ထားချင်တယ်ဆိုရင်တော့ unset LC_ALL ဆိုပြီး ရိုက်ပါ။  \n",
    "\n",
    "export ကို သုံးပုံသုံးနည်းကို နားလည်လောက်ပြီလို့ ယူဆပါတယ်။ နောက်ထပ် command အသစ်တစ်ခုကို ဆက်လေ့လာကြရအောင်။  "
   ]
  },
  {
   "cell_type": "markdown",
   "metadata": {},
   "source": [
    "## 39. xargs ( build and execute command lines from standard input)  \n",
    "\n",
    "\"sed\" command သုံးပုံသုံးနည်း ဥပမာတစ်ခုမှာ \"xargs\" ကိုပါတွဲပြီး သုံးပြခဲ့ဖူးပါတယ်။ ဒီနေရာမှာတော့ \"sed\" အပြင် တခြား command တွေနဲ့ပါ တွဲပြီးသုံးတာမျိုးကို လက်တွေ့ လုပ်ပြပါမယ်။  \n",
    "\n",
    "\"xargs\" command က တကယ်ကို အသုံးဝင်တဲ့ command ပါ။ သူ့ရဲ့ အလုပ်လုပ်ပုံကတော့ ပရိုဂရမ် တစ်ခုရဲ့ output ကို လက်ခံရယူပြီး၊ နောက်တခြား ပရိုဂရမ်တစ်ခုဆီကို argument အနေနဲ့ pass လုပ်ပေးတာပါ။ အဲဒါကြောင့် ကျွန်တော်တို့က ပရိုဂရမ်တွေ အများကြီးကို တစ်ခုကနေ နောက်တစ်ခုကို ချိတ်ဆက်ပြီး အလုပ်လုပ်ခိုင်းတဲ့ အခါမှာ အင်မတန် အသုံးဝင်ပါတယ်။  \n",
    "\n",
    "ဟုတ်ပြီ။ စလေ့လာကြရအောင်။  \n",
    "\n",
    "\"xargs\" ကိုတခြား command တွေနဲ့ တွဲမသုံးခင်၊ အရင်ဆုံး terminal မှာ သူ့တစ်လုံးထဲကို ရိုက်ရင် terminal က ယူဇာရဲ့ ရိုက်ထည့်ပေးတာကို စောင့်ပြီးယူပါလိမ့်မယ်။ ရိုက်ချင်တာတွေကို ရိုက်ထည့်ပြီး contrl ကီးနဲ့ d ကီးကို တွဲနှိပ်ပေးလိုက်ရင် စောစောက ရိုက်ထည့်ထားတဲ့ စာကြောင်းတွေကို stdout မှာ ပြန်ရိုက်ထုတ်ပေးပါလိမ့်မယ်။ လက်တွေ့ လုပ်ကြည့်ပါ။ ဥပမာအနေနဲ့ run ကြည့်ထားတဲ့ output screen ပုံကတော့ အောက်ပါအတိုင်းပါ။  \n"
   ]
  },
  {
   "cell_type": "markdown",
   "metadata": {},
   "source": [
    "<img src=\"./screen/xrgs-alone-testing.png\" alt=\"xrgs command testing screen output\">"
   ]
  },
  {
   "cell_type": "markdown",
   "metadata": {},
   "source": [
    "ဒီတစ်ခါတော့ echo နဲ့ x y z alpha ဆိုတာကို xargs ပရိုဂရမ်ဆီကို input လုပ်ပေးပြီး၊ ပြန်ရိုက်တဲ့ အခါမှာ ရှေ့က Hello, Mg ဆိုတဲ့ စာကြောင်းကို ဖြည့်ပြီး ရိုက်ထုတ်ခိုင်းတာကို လုပ်ကြည့်ရအောင်။  "
   ]
  },
  {
   "cell_type": "code",
   "execution_count": 2,
   "metadata": {},
   "outputs": [
    {
     "name": "stdout",
     "output_type": "stream",
     "text": [
      "Hello, Mg x\n",
      "Hello, Mg y\n",
      "Hello, Mg z\n",
      "Hello, Mg alpha\n"
     ]
    }
   ],
   "source": [
    "echo x y z alpha | xargs -n1 echo Hello, Mg"
   ]
  },
  {
   "cell_type": "markdown",
   "metadata": {},
   "source": [
    "အထက်မှာ သုံးပြခဲ့တဲ့ command မှာ -n ဆိုတဲ့ option ကို သတိပြုမိလိမ့်မယ်လို့ ထင်ပါတယ်။  \n",
    "သူကတော့ ဝင်လာတဲ့ input ကနေ ပြန်ပြီးရိုက်ထုတ်တဲ့အခါမှာ တစ်ခါရိုက်ရင် ဘယ်နှစ်ကြောင်းပြန်ရိုက်ထုတ်မလဲ ဆိုတာကို ထိန်းချူပ်တဲ့ option ပါ။ အထက်မှာ 1 လို့ပေးခဲ့လို့ x, y, z, alpha ကို တစ်ကြောင်းချင်းစီ ရိုက်ထုတ်သွားတာကို တွေ့ကြရတာပါ။  \n",
    "\n",
    "ဒီတစ်ခေါက် -n2 လုပ်ပြီး run ကြည့်ရအောင်။  "
   ]
  },
  {
   "cell_type": "code",
   "execution_count": 3,
   "metadata": {},
   "outputs": [
    {
     "name": "stdout",
     "output_type": "stream",
     "text": [
      "Hello, Mg x y\n",
      "Hello, Mg z alpha\n"
     ]
    }
   ],
   "source": [
    "echo x y z alpha | xargs -n2 echo Hello, Mg"
   ]
  },
  {
   "cell_type": "markdown",
   "metadata": {},
   "source": [
    "အထက်ပါ output ကို ကြည့်ပြီး \"-n\" option ရဲ့ အလုပ်လုပ်တဲ့ ပုံကို သဘောပေါက်မယ်လို့ ထင်ပါတယ်။  "
   ]
  },
  {
   "cell_type": "markdown",
   "metadata": {},
   "source": [
    "နောက်ထပ် အသုံးဝင်တဲ့ option တစ်ခုရှိပါသေးတယ်။ အဲဒါကတော့ \"-p\" option ပါ။ သူကတော့ \"xargs\" command က ဝင်လာတဲ့ output တွေကို အလုပ်မလုပ်ခင်မှာ user ရဲ့ confirmation ကို ရယူတာပါ။ တကယ်လို့ ကျွန်တော်တို့က အောက်ပါအတိုင်း command ပေးခဲ့ရင်  \n",
    "\n",
    "```bash\n",
    "echo x y z alpha | xargs -p -n1 echo Hello, Mg\n",
    "```\n",
    "\n",
    "x, y, z နဲ့ alpha ကို မရိုက်ထုတ်ပြခင်မှာ user ရဲ့ အဖြေကို စောင့်ပြီး၊ အဲဒီအဖြေအတိုင်း အလုပ်လုပ်ပေးပါတယ်။  \n",
    "ကျွန်တော်တို့က y (yes) ဒါမှမဟုတ် n (no) ဖြေပေးရပါတယ်။ y လို့ဖြေရင် ရိုက်ထုတ်ပြပြီး၊ n လို့အဖြေပေးရင်တော့ မရိုက်ထုတ်ပြတော့ပါဘူး။\n",
    "\n",
    "y, n, n, y ဆိုပြီးဖြေပေးတဲ့ အခါမှာမြင်ရမဲ့ screen output ကတော့ အောက်ပါအတိုင်း ဖြစ်ပါတယ်။  "
   ]
  },
  {
   "cell_type": "markdown",
   "metadata": {},
   "source": [
    "<img src=\"./screen/xargs-p-option-screen.png\" alt=\"xrgs -p option screen output\">"
   ]
  },
  {
   "cell_type": "markdown",
   "metadata": {},
   "source": [
    "## 40. ssh (OpenSSH SSH client, remote login program)\n",
    "\n",
    "ကိုယ်စက်ကနေ တခြား ကွန်ပျူတာတစ်လုံး ဆီကို remote login လုပ်ချင်တဲ့ အခါမှာ \"ssh\" command ကို သုံးပါတယ်။\n",
    "ဥပမာ ip address ကို သုံးပြီး login လုပ်မယ် ဆိုရင် အောက်ပါအတိုင်း command prompt မှာ ရိုက်ပါ။\n",
    "\n",
    "```bash\n",
    "ssh ye@163.225.223.79\n",
    "```\n",
    "\n",
    "အထက်ပါ အမိန့်မှာ ye ဆိုတာက login account ရဲ့ နာမည်ဖြစ်ပြီး၊ @ သင်္ကေတနောက်မှာ ဆက်ရိုက်ထားတဲ့ 163.225.223.79 က ကိုယ်အသုံးပြုချင်တဲ့ ကွန်ပျူတာရဲ့ ip address ဖြစ်ပါတယ်။ Network ချိတ်ထားတယ်၊ connection လုပ်လို့ရတယ် ဆိုရင် password တောင်းပါလိမ့်မယ်။ password ကို မှန်မှန်ကန်ကန်ရိုက်ထည့်ပေးလိုက်ရင် 163.225.223.79 လို့ ip address ကို assign လုပ်ထားတဲ့ စက်ထဲကို ဝင်ရောက် အသုံးပြုလို့ ရသွားပါပြီ။  \n",
    "\n",
    "အဲဒီစက်မှာ လုပ်စရာရှိတဲ့ အလုပ်တွေကို လုပ်ပြီးသွားလို့ ကိုယ်စက်ရဲ့ နဂို terminal ကို ပြန်သွားမယ်။ logout လုပ်ချင်တယ်ဆိုရင် exit ကို ရိက်ပါ။  \n",
    "အဲဒါဆိုရင် အောက်ပါကဲ့သို့သော message ကို မြင်ရပြီး၊ ကိုယ်ရဲ့ စက်ဆီကို ပြန်ရောက်သွားပါလိမ့်မယ်။\n",
    "\n",
    "```\n",
    "Connection to 163.225.223.79 closed.\n",
    "```"
   ]
  },
  {
   "cell_type": "markdown",
   "metadata": {},
   "source": [
    "## 41. nohup (run a command immune to hangups, with output to a non-tty)\n",
    "\n",
    "ပုံမှန်အားဖြင့် linux terminal မှာ ပရိုဂရမ်တွေကို background မှာ run ထားပြီး တခြား အလုပ်တွေကို ဆက်လုပ်ချင်တယ်ဆိုရင် run ချင်တဲ့ command ရဲ့ \n",
    "အနောက်မှာ & ကို ရိုက်ပြီး run လို့ ရပေမဲ့၊ သုံးနေတဲ့ session ကနေ logout လုပ်လိုက်တဲ့ အခါမှာတော့ အဲဒီ background မှာ run နေတဲ့ ပရိုဂရမ်လည်း ရပ်သွားပါလိမ့်မယ်။  \n",
    "\n",
    "တကယ်လို့ ကိုယ်က run ချင်တဲ့ command သို့ ပရိုဂရမ် က နာရီပေါင်းများစွာကြာမဲ့ အလုပ်မျိုး ဖြစ်လို့၊ server တစ်လုံးပေါ်ကို ssh နဲ့ချိတ် remote login လုပ်ပြီး run မယ်။ နောက်ပြီး အဲဒီ ssh ကို logout လုပ်သည့်တိုင်အောင်၊ ဆက်ပြီး server ပေါ်မှာ run နေစေချင်တဲ့ အခါမျိုးမှာ အလွယ်တကူနဲ့ သုံးလို့ရတဲ့ nohup ကို သုံးပါတယ်။  \n",
    "\n",
    "သုံးပုံသုံးနည်းကတော့ ကိုယ် run ချင်တဲ့ command (သို့) ပရိုဂရမ် ရဲ့ ရှေ့မှာ \"nohup\" ဆိုပြီး ဖြည့်ရိုက်ပေးလိုက်ယုံပါပဲ။ ဥပမာ python ပရိုဂရမ် တပုဒ်ဖြစ်တဲ့ attention.py ကို background အလုပ်အနေနဲ့ run ချင်တယ်၊ ဒါ့အပြင် အထက်မှာ ရှင်းပြခဲ့တဲ့အတိုင်း server ကနေ (သို့) terminal session တစ်ခုကနေ ထွက်သွားသည့်တိုင်အောင် ဆက်ပြီး အလုပ်လုပ်နေစေချင်တယ်ဆိုရင် အောက်ပါအတိုင်း command ပေးပါတယ်။\n",
    "\n",
    "```bash\n",
    "nohup python ./attention.py &  \n",
    "```\n",
    "\n",
    "ဆိုပါစို့ ကျွန်တော်တို့ run ထားခဲ့တဲ့ python ပရိုဂရမ်ကို server ဆီကို နောက်တစ်ခေါက် ပြန်ဝင်ပြီး အလုပ်လုပ်တဲ့ အခါမှာ ဆက် run နေသေးသလား ဆိုတာကို စစ်ဆေးချင်တယ် ဆိုရင်  \n",
    "\"top\"  နဲ့ကြည့် လို့ ရပါတယ်။ အဲဒါဆိုရင် အောက်ပါ စကရင်ကဲ့သို့ အကောင့်နာမည် ye နဲ့ python က အလုပ်လုပ်နေကြောင်းကို မြင်ရပါလိမ့်မယ်။"
   ]
  },
  {
   "cell_type": "markdown",
   "metadata": {},
   "source": [
    "<img src=\"./screen/top-after-nohup-command.png\" alt=\"rechecking the python program that we run with nohup\">"
   ]
  },
  {
   "cell_type": "markdown",
   "metadata": {},
   "source": [
    "\"ps\" command နဲ့ \"grep\" command ကို သုံးပြီး လက်ရှိ server မှာ run နေတဲ့ ပရိုဂရမ်တွေ၊ process တွေ အထဲကမှ ယူဇာနာမည် ye က run ထားတဲ့ ပရိုဂရမ်တွေကို ရှာကြည့်တဲ့ ပုံစံမျိုးနဲ့လည်း python ပရိုဂရမ်ကို ပြန်ရှာကြည့်နိုင်ပါတယ်။ မြင်သာအောင် အောက်ပါအတိုင်း screen capture လုပ်ပြထားပါတယ်။  "
   ]
  },
  {
   "cell_type": "markdown",
   "metadata": {},
   "source": [
    "<img src=\"./screen/check-with-ps.png\" alt=\"rechecking the python program that we run with nohup\">"
   ]
  },
  {
   "cell_type": "markdown",
   "metadata": {},
   "source": [
    "Default အားဖြင့် nohup command ကို သုံးရင်၊ standard output မှာရိုက်ပြတဲ့ output စာကြောင်းတွေအားလုံးကို ပရိုဂရမ်ကို run ခဲ့တဲ့ ဖိုလ်ဒါအောက်မှာ nohup.out ဆိုတဲ့ နာမည်နဲ့ သိမ်းပေးလေ့ရှိပါတယ်။ ကိုယ်က နောက်ပိုင်း ပြန်ကြည့်တဲ့ အခါမှာ မှတ်မိလွယ်အောင်၊ နာမည် တစ်ခု သတ်သတ်မှတ်မှတ်ပေးပြီး သိမ်းချင်ရင်တော့ ရှေ့မှာ ရှင်းပြခဲ့တဲ့ redirection တစ်ခုခုကို သုံးပြီးလည်း nohup command ကို ပေးနိုင်ပါတယ်။ ဥပမာ  \n",
    "\n",
    "```bash\n",
    "nohup python ./attention.py > RNN-attention-running.log & \n",
    "```"
   ]
  },
  {
   "cell_type": "markdown",
   "metadata": {},
   "source": [
    "## 42. time (run programs and summarize system resource usage)  \n",
    "\n",
    "\"time\" command ကလည်း သိထားရင် အင်မတန် အသုံးဝင်လို့ သုံးပုံသုံးနည်းကို မိတ်ဆက်ပေးချင်ပါတယ်။  \n",
    "ပရိုဂရမ် တပုဒ် (သို့) command တစ်ခုကို run ခဲ့တာမှာ ဘယ်လောက် အချိန်ကြာခဲ့သလဲ ဆိုတာကို \"time\" command က ဖော်ပြပေးနိုင်ပါတယ်။  \n",
    "\n",
    "\n",
    "ဆိုကြပါစို့ ကျွန်တော်တို့က မော်နီတာမှာ Number: 1, Number: 2, ... Number: 1000000, ဆိုပြီး နံပါတ် ၁ ကနေ တစ်သန်းအထိ ရိုက်ပေးမဲ့ shell script ပရိုဂရမ်တပုဒ်ကို အောက်ပါအတိုင်း ရေးခဲ့ကြတယ်ဆိုပါစို့။  "
   ]
  },
  {
   "cell_type": "markdown",
   "metadata": {},
   "source": [
    "```bash\n",
    "#!/bin/bash\n",
    "\n",
    "for i in {1..1000000};\n",
    " do\n",
    "   echo \"Number: $i\";\n",
    "done;\n",
    "```"
   ]
  },
  {
   "cell_type": "markdown",
   "metadata": {},
   "source": [
    "ဒီနေရာမှာ bash shell script နဲ့ပတ်သက်ပြီး အသေးစိတ်ရှင်းမပြပဲ ကျော်သွားပါမယ်။ programming language တစ်ခုခုကို လေ့လာပြီးသား ဆိုရင် looping ပတ်ပြီး နံပါတ်ကို echo command နဲ့ ရိက်ထုတ်ခိုင်းတယ် ဆိုတာကို အလွယ်တကူနားလည်မယ်လို့ ထင်ပါတယ်။ ဒီနေရာမှာ အဓိကပြောပြချင်တာက ဒီ bash ပရိုဂရမ်ကို စက်တစ်လုံးမှာ အလုပ်လုပ်ခိုင်းတဲ့ အခါမှာ ဘယ်လောက်ကြာသလဲဆိုတာကို သိချင်တယ် ဆိုတဲ့ အခါမှာ time command ကို သုံးပြီး အလွယ်တကူနဲ့ ကြည့်လို့ ရတယ်ဆိုတာကိုပါ။ သူကလည်း အထက်မှာ မိတ်ဆက်ခဲ့တဲ့ nohup command ကို သုံးသလိုပါပဲ။ run မဲ့ ပရိုဂရမ် (သို့) command ရဲ့ ရှေ့မှာ time ဆိုပြီး ရိုက်ပြီးသုံးတဲ့ ပုံစံပါ။  \n",
    "\n",
    "အထက်ပါ bash shell script ပရိုဂရမ်ရဲ့ ဖိုင်နာမည်ကို loop.sh ဆိုပြီး ပေးထားခဲ့တယ် ဆိုကြပါစို့။  \n",
    "အဲဒီဆိုရင် \"time\" command ကို အောက်ပါအတိုင်း သုံးလို့ ရပါတယ်။  \n",
    "\n",
    "```bash\n",
    "time ./loop.sh  \n",
    "```\n",
    "\n",
    "loop.sh ပရိုဂရမ်ကို run လို့ရအောင် chmod +x loop.sh ဆိုပြီး executable mode ကြိုပြောင်းထားဖို့ကိုလည်း မမေ့ပါနဲ့။  \n",
    "\n",
    "တကယ်လို့ ဘာမှ ပြဿနာမရှိပဲ run လို့ ပြီးသွားပြီ ဆိုရင်၊ နောက်ဆုံး screen output အနေနဲ့ မော်နီတာမှာ အောက်ပါအတိုင်း မြင်ရပါလိမ့်မယ်။  "
   ]
  },
  {
   "cell_type": "markdown",
   "metadata": {},
   "source": [
    "<img src=\"./screen/output-of-time-command.png\" alt=\"example output of time command\">"
   ]
  },
  {
   "cell_type": "markdown",
   "metadata": {},
   "source": [
    "ဒီနေရာမှာ  \n",
    "\"real\"  ဆိုတာက loop.sh ပရိုဂရမ်ရဲ့ အလုပ်တွေ အစကနေ အဆုံးအထိပြီးဖို့အတွက် စုစုပေါင်းအချိန် ဘယ်လောက်ကြာခဲ့သလဲ ဆိုတာကို ပြသာတာဖြစ်ပါတယ်။ စုစုပေါင်း 0 မိနစ် 8.102 စက္ကန့် ကြာခဲ့ပါတယ်လို့ ပြနေတာပါ။ တစ်နည်းအားဖြင့် ပြောရရင် ဒီ real time က elapsed time ပါပဲ။ time command ကို သုံးတဲ့ အခါမှာ ကျွန်တော်တို့က ကြည့်ကြတာက ဒီ real time ကိုပါပဲ။ \n",
    "\n",
    "\"user\" နဲ့ \"sys\" ဆိုတာကတော့ CPU ရဲ့ execution time တွေကို ကိုယ်စားပြုပါတယ်။  \n",
    "user time က user mode အနေနဲ့ CPU က run ရတဲ့ ကြာချိန် ကို ဆိုလိုပါတယ်။ နောက်တမျိုး ရှင်းပြရရင် ကျွန်တော်တို့ ခိုင်းခဲ့တဲ့ အလုပ်တွေ၊ code တွေကို လုပ်ပေးရတဲ့ အချိန်ပါပဲ။  \n",
    "sys time ဆိုတာက kernal mode အနေနဲ့ CPU က run ဖို့အတွက် ကြာတဲ့ အချိန်ကို ဆိုလိုပါတယ်။ ဥပမာ CPU က memory ကို handle လုပ်ရတဲ့ အချိန်မျိုးပါ။  \n",
    "\n",
    "run ကြည့်တဲ့ ပရိုဂရမ်က တူရင်တောင် ကိုယ်က သုံးနေတဲ့ စက်ရဲ့ CPU, memory စတဲ့ specification အပေါ်မူတည်ပြီး ကြာတဲ့ အချိန်က တူမှာ မဟုတ်ဘူး ဆိုတာကိုလည်း မမေ့ပါနဲ့။ ဥပမာ အထက်က loop.sh ကို နောက်ထပ် တခြား notebook မှာ run ကြည့်တဲ့ အခါမှာ အောက်ပါ output ကို ရရှိပါတယ်။  \n",
    "\n",
    "```bash\n",
    "Number: 999996\n",
    "Number: 999997\n",
    "Number: 999998\n",
    "Number: 999999\n",
    "Number: 1000000\n",
    "\n",
    "real\t0m21.739s\n",
    "user\t0m17.596s\n",
    "sys\t0m3.892s\n",
    "```\n",
    "\n",
    "နောက်တချက် ထပ်ဖြည့်ပြီး ပြောချင်တာက multicore စက်တွေပေါ်မှာဆိုရင် user time, sys time နဲ့ user time + sys time အချိန်တွေက real time ကိုကျော်နိုင်ပါတယ်။ ဘာကြောင့် အဲဒီလိုဖြစ်တာလဲ ဆိုတာကို သိချင်ရင်တော့ multicore system ပေါ်မှာ ပရိုဂရမ်တွေကိုဘယ်လို အလုပ် လုပ်ခိုင်းသလဲဆိုတာကို ရှာဖွေလေ့လာကြည့်ပါ။  \n"
   ]
  },
  {
   "cell_type": "markdown",
   "metadata": {},
   "source": [
    "time command သုံးပုံသုံးနည်း တချို့ကို လက်တွေ့ run ပြပါမယ်။  \n",
    "find command နဲ့ .sh extension ဖိုင်တွေကို ရှာခိုင်းတာမှာ ဘယ်လောက်ကြာသလဲ ဆိုတာကို run ကြည့်ရအောင်။   "
   ]
  },
  {
   "cell_type": "code",
   "execution_count": 9,
   "metadata": {},
   "outputs": [
    {
     "name": "stdout",
     "output_type": "stream",
     "text": [
      "./loop.sh\n",
      "./txt2jpg.sh\n",
      "\n",
      "real\t0m0.003s\n",
      "user\t0m0.000s\n",
      "sys\t0m0.000s\n"
     ]
    }
   ],
   "source": [
    "time find ./ -name \"*.sh\""
   ]
  },
  {
   "cell_type": "markdown",
   "metadata": {},
   "source": [
    "ဒီတစ်ခါတော့ bash shell ရဲ့ built-in အဖြစ်ပါနေတဲ့ \"time\" command ကို မသုံးပဲနဲ့ external program အဖြစ်ပါနေတဲ့ /usr/bin/ ဖိုလ်ဒါအောက်မှာ ရှိနေတဲ့ \"time\" command ကို သုံးကြည့်ရအောင်။ ဘာ့ကြောင့် \"time\" command က built-in အနေနဲ့ရော external command အနေနဲ့ရော နှစ်မျိုးတောင် ဖြစ်နေရတာလဲ ဆိုပြီး မျက်စေ့လည်သွားပြီလား :) တကယ်တမ်းက ဟိုးအရင်က bourne shell လို မဟုတ်တော့ပဲ၊ နောက်ပိုင်း shell တွေမှာက အသုံးများတဲ့ command တွေကို built-in command အနေနဲ့ ထပ်ထပ်ဖြည့်ကြလို့ပါ။ အဲဒါက ပိုပြီးတော့ အလုပ်လုပ်ရတာ အဆင်ပြေတယ်လေ။ ဒါပေမဲ့ သိထားရမှာက shell အမျိုးအစား (ဥပမာ C shell, Korn shell, Bash shell, ...) အပေါ်ကို မူတည်ပြီးတော့ support လုပ်တဲ့ option တွေက မတူကြပါဘူး။  \n",
    "\n",
    "ဒီတစ်ခါတော့ \"-f\" option (format option) ကို သုံးပြီးတော့ ကျွန်တော်တို့ ခိုင်းတဲ့ အလုပ်အတွက် CPU percentage (CPU အသုံးပြုမှု ပမာဏ) ဘယ်လောက်ရှိခဲ့သလဲ ဆိုတာကို output လုပ်ခိုင်းကြည့်ရအောင်။"
   ]
  },
  {
   "cell_type": "markdown",
   "metadata": {},
   "source": [
    "<img src=\"./screen/usr-bin-time-command.png\" alt=\"user/bin/time usage\">"
   ]
  },
  {
   "cell_type": "markdown",
   "metadata": {},
   "source": [
    "ဒီတစ်ခါတော့ \"-f\" option နဲ့ \"%E\" ကိုသုံးပြီး hours : minutes : seconds ဆိုတဲ့ ပုံစံနဲ့ elapsed time (သို့) real time ကို ရိုက်ခိုင်းကြည့်ရအောင်။  \n",
    "ခိုင်းထားတဲ့ အလုပ်ကတော့ ကွန်ပျူတာကို ၃ စက္ကန့် အိပ်ခိုင်းထားတာပါ။  "
   ]
  },
  {
   "cell_type": "code",
   "execution_count": 12,
   "metadata": {},
   "outputs": [
    {
     "name": "stdout",
     "output_type": "stream",
     "text": [
      "Elapsed time (or) Real time: 0:03.00\n"
     ]
    }
   ],
   "source": [
    "/usr/bin/time -f \"Elapsed time (or) Real time: %E\" sleep 3"
   ]
  },
  {
   "cell_type": "markdown",
   "metadata": {},
   "source": [
    "## 43.  scp (secure copy, remote file copy program)\n",
    "\n",
    "\"scp\" command ကို သုံးပြီး ssh connection ချိတ်ပြီး login ဝင်လို့ရတဲ့ ကွန်ပျူတာမှာ ရှိတဲ့ ဖိုင်တွေကို ကော်ပီကူးလို့ရပါတယ်။ လက်တွေ့မှာ တကယ်ကို အသုံးဝင်တဲ့ command တစ်ခုဖြစ်လို့ သိထားသင့်ပါတယ်။  \n",
    "\n",
    "အသုံးပြုပုံက အောက်ပါအတိုင်း သုံးမျိုးရှိပါတယ်။  \n",
    "\n",
    "၁. ဆာဗာကွန်ပျူတာထဲက ဖိုင်ကို ကိုယ့်ရဲ့ ကွန်ပျူတာဆီကို ကော်ပီကူးတာမျိုး  \n",
    "၂. ကိုယ်သုံးနေတဲ့ကွန်ပျူတာမှာရှိတဲ့ ဖိုင်ကို ဆာဗာကွန်ပျူတာဆီကို ကော်ပီကူးတာမျိုး  \n",
    "၃. ဆာဗာကွန်ပျူတာ တစ်လုံးကဖိုင်ကို တခြား ဆာဗာကွန်ပျူတာဆီကို ကော်ပီကူးတာမျိုး  \n",
    "\n",
    "ဒီနေရာမှာ ဆာဗာကွန်ပျူတာလို့ သုံးခဲ့ပေမဲ့ ပုံမှန် desktop ကွန်ပျူတာ၊ notebook ကွန်ပျူတာလည်းဖြစ်နိုင်ပါတယ်။ ssh connection ချိတ်လို့ရတဲ့ စက်ဆိုရင် \"scp\" command ကိုသုံးလို့ရပါတယ်။  \n",
    "\n",
    "command syntax ကတော့ ပုံမှန် ကော်ပီကူးတဲ့အခါမှာ အမြဲသုံးနေတဲ့ \"cp\" command ရဲ့ syntax နဲ့ဆင်တူပါတယ်။  \n",
    "မတူတာက ssh connection ချိတ်ဖို့အတွက် login username နဲ့ ဘယ်ကွန်ပျူတာ (ဆာဗာ) ကို ချိတ်မယ်ဆိုတာကို ပြောပေးရတာပါ။  \n",
    "\n",
    "ပထမဆုံး တခြားတနေရာရာမှာရှိတဲ့ ကွန်ပျူတာထဲက ဖိုင်ကို ကိုယ့်ရဲ့ လက်ရှိသုံးနေတဲ့စက်ရဲ့ current path (.) ဆီကို ကော်ပီကူးကြည့်ရအောင်။  \n"
   ]
  },
  {
   "cell_type": "markdown",
   "metadata": {},
   "source": [
    "<img src=\"./screen/scp-eg-usage-cp-file-from-remote.png\" alt=\"scp usage example:1\">"
   ]
  },
  {
   "cell_type": "markdown",
   "metadata": {},
   "source": [
    "အထက်မှာ သုံးခဲ့တဲ့ command ကို ရှင်းပြရရင်၊ ye@163.225.223.79 မှာ \"ye\" က login name ဖြစ်ပြီးတော့ \"@163.225.223.79\" ဆိုတာက remote computer ရဲ့ IP address ဖြစ်ပါတယ်။ အဲဒီနောက်က ဆက်လိုက်တဲ့ \":/home/ye/experiment/bayes/coin-flip.py\" ဆိုတာက ကော်ပီကူးချင်တဲ့ ဖိုင်ဖြစ်တဲ့ \"coin-flip.py\" ဖိုင်နာမည်နဲ့ အဲဒီဖိုင်ရှိတဲ့ path ကိုညွှန်ကြားပေးတာဖြစ်ပါတယ်။ နောက်ဆုံး ရိက်ထားတဲ့ \".\" ကတော့ လက်ရှိ ရှိနေတဲ့ path ထဲကို ကော်ပီကူးထည့်ပေးပါ လို့ ဆိုလိုတာ ဖြစ်ပါတယ်။  \n",
    "\n",
    "တကယ်လို့ ကိုယ်က ဖိုလ်ဒါကို ကော်ပီကူးမှာဆိုရင်တော့ \"-r\" (recursive option) ကို တွဲသုံးရပါမယ်။  \n",
    "\"scp\" command က wildcard ကိုလည်း support လုပ်လို့ \"*\", \"?\" စတာတွေကို သုံးပြီး တစ်ဖိုင်ထက်မကတဲ့ ဖိုင်တွေကိုလည်း ကော်ပီကူးတာမျိုးလုပ်လို့ ရပါတယ်။  \n",
    "\n",
    "တကယ်လို့ remort computer ကို login ဝင်ဖို့အတွက် port number သီးခြား သတ်မှတ်ထားရင် -P option (P က အကြီး ဆိုတာကိုသတိထားပါ) နဲ့ port နံပါတ်ကို assign လုပ်ပေးပြီး ဝင်ရပါတယ်။ ပုံမှန် ssh default port number က 22 ပါ။ အထက်မှာ ဥပမာပြခဲ့တဲ့ scp command ကို port number 22 ကို assign လုပ်ပြီး သုံးမယ်ဆိုရင် အောက်ပါအတိုင်း ဖြစ်ပါလိမ့်မယ်။  \n",
    "\n",
    "```bash\n",
    "scp -P 22 ye@163.225.223.79:/home/ye/experiment/bayes/coin-flip.py .\n",
    "```  \n",
    "တကယ်လို့ ပေးတဲ့ port number က remort computer မှာ သတ်မှတ်ထားတဲ့ port number နဲ့ မတူရင်တော့ ssh login လုပ်လို့ မရတဲ့အတွက် ကော်ပီလဲ ကူးလို့ရမှာ မဟုတ်ပါဘူး။ ဥပမာ -P 220 နဲ့ scp command ကို ကျွန်တော်စောစောက ဝင်ခဲ့တဲ့ ကွန်ပျူတာ IP နံပါတ် 163.225.223.79 ကို ဝင်တဲ့အခါမှာ အောက်ပါအတိုင်း error message ကို ပေးပါတယ်။  "
   ]
  },
  {
   "cell_type": "markdown",
   "metadata": {},
   "source": [
    "<img src=\"./screen/scp-port-error-eg.png\" alt=\"scp usage example:1\">"
   ]
  },
  {
   "cell_type": "markdown",
   "metadata": {},
   "source": [
    "ssh port number က \"/etc/ssh/sshd_config\" ဆိုတဲ့ ssh နဲ့ ဆိုင်တဲ့ configuration ဖိုင်ထဲမှာ သတ်မှတ်ထားပါတယ်။ အဲဒီဖိုင်ကို text editor တစ်ခုခုနဲ့ ဖွင့်ကြည့်ရင် အောက်ပါအတိုင်းမြင်ရပါလိမ့်မယ်။  \n",
    "\n",
    "```bash\n",
    "# What ports, IPs and protocols we listen for\n",
    "Port 22\n",
    "```\n",
    "တကယ်လို့ အဲဒီစက်မှာ ကိုယ်က setting တွေကို ဝင်ပြင်နိုင်တဲ့ right (လုပ်ပိုင်ခွင့်) ရှိရင် port နံပါတ်ကို ဝင်ပြင်တာမျိုးလုပ်လို့ရပါတယ်။ အကြမ်းမျဉ်းအားဖြင့် ကိုယ်က သေသေချာချာနားမလည်ပဲ setting တွေကို ဝင်ပြင်တာမျိုး မလုပ်သင့်ပါဘူး။  \n",
    "\n",
    "ဒီလောက် ဆိုရင် \"scp\" command ရဲ့ အဓိကသုံးပုံသုံးနည်းကို ရပြီလို့ ယူဆပါတယ်။  \n"
   ]
  },
  {
   "cell_type": "markdown",
   "metadata": {},
   "source": [
    "## 44. top (display linux process)  \n",
    "\n",
    "လက်ရှိ သုံးနေတဲ့ linux စက်ပေါ်မှာ run နေတဲ့ process တွေကို real time အနေနဲ့ ပြပေးနိုင်တဲ့ command တစ်ခုက \"top\" ဖြစ်ပါတယ်။ သူက လက်ရှိ run နေတဲ့ process တွေရဲ့ အသေးစိတ်အချက်အလက်ကို ပြပေးယုံတင်မကပဲ ကိုယ်က အလုပ်ဆက်မလုပ်စေချင်တော့တဲ့ process ကိုလည်း ရပ်ခိုင်းလို့ ရပါတယ်။  \n",
    "\n",
    "command နံပါတ် 41. nohup command အကြောင်းကို ရှင်းပြရင်းနဲ့ \"top\" command အကြောင်းကိုလည်း အနည်းငယ် မိတ်ဆက်ပေးခဲ့ပါတယ်။ ဒီနေရာမှာတော့ အသုံးများတဲ့ shortcut တွေရဲ့ အသုံးပြုပုံတချို့နဲ့ ပတ်သက်ပြီးတော့ ဖြည့်စွက် ရှင်းပြပါမယ်။  \n",
    "\n",
    "* h (help): \"top\" command ကို run ထားချိန်မှာ \"h\" ကို နှိပ်ရင် \"Help for Interactive Commands\" ဆိုတဲ့ ခေါင်းစဉ်နဲ့ သတ်မှတ်ထားတဲ့ shortcut ကီးတွေအားလုံးကို ပြသပေးပါလိမ့်မယ်။ \n",
    "\n",
    "* c (absolute path of the process): run နေတဲ့ process (သို့) ပရိုဂရမ်တွေရှိနေတဲ့ absolute path (path အပြည့်အစုံ) ကို ပြသပေးပါလိမ့်မယ်။\n",
    "\n",
    "* d (screen refresh delay time interval): \"top\" command က ပြပေးတဲ့ အလုပ်လုပ်နေတဲ့ process screen က ပုံမှန်အားဖြင့် မော်နီတာစကရင် တစ်ခုတည်းနဲ့ မဆန့်ပါဘူး။ ကျွန်တော်တို့ run ခိုင်းထားတဲ့ ပရိုဂရမ်အပြင်၊ OS က နောက်ကွယ်မှာ အလုပ်လုပ်ပေးနေတဲ့ process တွေ၊ run နေတဲ့ ပရိုဂရမ်နဲ့ ဆက်စပ်တဲ့ service တွေ စတာတွေ အများကြီးက အလုပ်လုပ်နေကြပါတယ်။ အဲဒါကြောင့် မော်နီတာ စကရင်ကို refresh ခဏခဏ လုပ်ပြီး run နေတဲ့ process တွေကို တလှည့်စီ ပြသပေးရပါတယ်။ delay time interval ကို တိုးတာ၊ လျှော့တာ လုပ်မယ် ဆိုရင် \"d\" ကီးကို နှိပ်ပြီး ပြောင်းလဲလို့ ရပါတယ်။ \n",
    "\n",
    "* k (kill the process with PID): run နေတဲ့ အလုပ်တွေကို ရပ်ခိုင်းချင်ရင် (kill လုပ်တယ်လို့ ပြောကြပါတယ်) \"k\" ကီးကိုနှိပ်ပြီး process ID (PID) ကိုပေးပြီး ရပ်ခိုင်းလို့ ရပါတယ်။ \n",
    "\n",
    "* Shift+p (sort by CPU utilization): CPU သုံးနေတဲ့ ပမာဏ အနည်းအများအလိုက် စီပြစေချင်တဲ့ အခါမှာ \"Shift+p\" (capital p) ကို နှိပ်ပြီး လုပ်ခိုင်းလို ရပါတယ်။\n",
    "\n",
    "* r (renice or change the priority of the process): Linux မှာ ပရိုဂရမ်တွေရဲ့ ဦးစားပေးအစီအစဉ်ကို nice တန်ဖိုး/နံပါတ် (priority value) နဲ့ သတ်မှတ်ပါတယ်။ \"top\" command နဲ့ ကြည့်ရင်း မြင်နေရတဲ့ running process တွေရဲ့ nice တန်ဖိုးကို r ကီးကို နှိပ်ပြီး အတိုးအလျှော့ setting ကို လုပ်လို့ ရပါတယ်။ nice တန်ဖိုးက -20 (အနှုတ် ၂၀) ကနေ +19 (အပေါင်း ၁၉) အကြားကို သတ်မှတ်လို့ ရပါတယ်။ ဒီနေရာမှာ မှတ်ထားရမှာက အနှုတ် ၂၀ က ဦးစားပေးအစီအစဉ်အမြင့်ဆုံး (highest priority, least \"nice\") ဖြစ်ပြီးတော့ အပေါင်း ၁၉ က ဦးစားပေးအစီအစဉ် အနိမ့်ဆုံး (lowest priority, \"nicest\") ဆိုတဲ့ အချက်ကိုပါ။ ဘာ့ကြောင့် အပေါင်းဂဏန်း တန်ဖိုး (+19) က ဦးစားပေးအစီအစဉ်အနိမ့်ဆုံးလဲလို့ စာဖတ်သူက တွေးမိချင်တွေးမိပါလိမ့်မယ်။ အကြောင်းအရင်းကတော့ သူက တခြားပရိုဂရမ်တွေကို ဦးစားပေးလို့၊ CPU time ကို ရှဲလုပ်ပေးလို့ သဘောအကောင်းဆုံးမို့လို့ (nicest) nice value က အမြင့်ဆုံး ဖြစ်နေတာပါ။ နားလည်မယ်လို့ ထင်ပါတယ်။ ပရိုဂရမ်တွေရဲ့ ပုံမှန် nice တန်ဖိုး (default nice value) က သုည ပါ။ အသေးစိတ်သိချင်ရင် linux command တွေဖြစ်တဲ့ \"nice\" command, \"renice\" command တွေကိုလည်း လေ့လာပါလို့ အကြံပေးချင်ပါတယ်။  \n",
    "\n",
    "* u (user): running process တွေ အများကြီးရှိတဲ့အနက်က ကိုယ်ကြည့်ချင်တဲ့ ယူဇာရဲ့ အလုပ်တွေကိုပဲ ပြခိုင်းဖို့အတွက် သုံးတဲ့ shortcut ကီးပါ။ \"u\" ကို နှိပ်ပြီးတော့ ယူဇာနာမည် (linux user account name) ကို ရိုက်ထည့်ပေးယုံပါပဲ။ \n"
   ]
  },
  {
   "cell_type": "markdown",
   "metadata": {},
   "source": [
    "အခုအချိန်အထိ အထက်မှာ ကျွန်တော်ရှင်းပြခဲ့တာက \"top\" command ကို \"run\" ထားပြီးတော့ process တွေကို မော်နီတာမှာ ပြနေတဲ့ အချိန်မှာ သုံးရတဲ့ shortcut command တွေ ဖြစ်ပါတယ်။ တခြား command တွေကို run ခဲ့သလိုပဲ \"top\" command ကိုလည်း ကျွန်တော်တို့က command prompt မှာ parameter (သို့မဟုတ်) option တွေပေးပြီး၊ run တဲ့ ပုံစံမျိုးနဲ့လည်း အသုံးပြုလို့ ရပါတယ်။ \n",
    "\n",
    "အသုံးဝင်တဲ့ ဥပမာ တစ်ခုကတော့ \"top\" command ကို \"-b\" option (batch mode) နဲ့ run ပြီး တခြား ပရိုဂရမ်တစ်ခုဆီကို output ကို လွှဲပေးတဲ့ ဥပမာပါ။ အောက်ပါ command ကို run ကြည့်ပါ။  "
   ]
  },
  {
   "cell_type": "code",
   "execution_count": 76,
   "metadata": {},
   "outputs": [
    {
     "name": "stdout",
     "output_type": "stream",
     "text": [
      " 6264 lar       20   0  714528  35544   6312 S   0.0  0.4   5:16.62 \u001b[01;31m\u001b[Kgedit\u001b[m\u001b[K\n"
     ]
    }
   ],
   "source": [
    "top -b -n 1 | grep gedit"
   ]
  },
  {
   "cell_type": "markdown",
   "metadata": {},
   "source": [
    "အထက်ပါ \"top\" command က လက်ရှိ စက်မှာ ရှိနေတဲ့ output တွေအားလုံးကို တစ်ခါ ရိုက်ပြပေးပြီး ရပ်သွားပါလိမ့်မယ်။ ဆက်တိုက် update လုပ်ပြီး running process တွေကို မပြစေချင်ပဲ တစ်ခါပဲ iterate လုပ်ပေးပါ ဆိုတာကိုတော့ ကျွန်တော်တို့က \"-n 1\" option ထိန်းထားတာပါ။ ပြီးတော့ \"top\" command ကနေ ထုတ်ပေးတဲ့ running process တွေ အများကြီးထဲကမှ၊ ကျွန်တော်တို့ စိတ်ဝင်စားတဲ့ \"gedit\" ပရိုဂရမ်ရဲ့ process နဲ့ ဆိုင်တာကိုပဲ \"grep\" command နဲ့ ဆွဲထုတ်ပြီး ကြည့်တဲ့ ဥပမာပါ။  \n",
    "(တကယ်လို့ စာဖတ်သူက လက်ရှိ အသုံးပြုနေတဲ့ စက်မှာ gedit ပရိုဂရမ်ကို run မထားဘူးဆိုရင်တော့ ဘာမှ မြင်ရမှာ မဟုတ်ပါဘူး)  \n",
    "\n",
    "လက်ရှိ စက်ထဲမှာ run နေတဲ့ process တွေရဲ့ list ကို log ဖိုင်အနေနဲ့ သိမ်းထားချင်ရင်တော့ အောက်ပါအတိုင်း command ပေးပါ။  \n",
    "\n",
    "```bash\n",
    "top -b -n1 > /tmp/process.log\n",
    "```\n",
    "\n",
    "\"top\" command ကတော့ Linux OS တိုင်းမှာ ပါတဲ့ built-in command ပါ တကယ်လို့ တခြား 3rd party command line tool အနေနဲ့ ဆိုရင်တော့ \"htop\", \"atop\" ဆိုတဲ့ command တွေလည်းရှိပါတယ်။ \"htop\", \"atop\" ပရိုဂရမ်တွေကို သုံးမယ် ဆိုရင်တော့ \"sudo apt-get install htop\", \"sudo apt-get install atop\" စသည်ဖြင့် command ပေးပြီး installation လုပ်မှ ရပါမယ်။   "
   ]
  },
  {
   "cell_type": "markdown",
   "metadata": {},
   "source": [
    "## 45. free (Display amount of free and used memory in the system)\n",
    "ကိုယ်သုံးနေတဲ့ စက်ရဲ့ memory နဲ့ ပတ်သက်ပြီး ဘယ်လောက်လက်ရှိ အသုံးပြုနေသလဲ၊ ဘယ်လောက် လွတ်နေသေးသလဲ စတဲ့ အချက်အလက်ကို ရှာဖွေဖို့ အတွက် အသုံးပြုပါတယ်။  \n",
    "\n",
    "\"free\" command ကို အသုံးများတာကတော့ \"-h\" or \"--human\" option နဲ့ တွဲသုံးတဲ့ ပုံစံဖြစ်ပါတယ်။ \"-h\" option က \"show human-readable output\" ဆိုတဲ့ အတိုင်း လူတွေက ဖတ်ရတာ အဆင်ပြေတဲ့ ယူနစ်နဲ့ ပြသပေးလို့ ဘယ်လောက် gigabyte (G), ဘယ်လောက် megabyte (M) အသုံးပြုနေတယ်၊ လွတ်နေသေးတယ်ဆိုပြီး သိရှိရပါတယ်။  \n",
    "\n",
    "အောက်ပါအတိုင်း ရိုက်ကြည့်ပါ။  "
   ]
  },
  {
   "cell_type": "code",
   "execution_count": 77,
   "metadata": {},
   "outputs": [
    {
     "name": "stdout",
     "output_type": "stream",
     "text": [
      "              total        used        free      shared  buff/cache   available\n",
      "Mem:           7.7G        6.1G        293M        650M        1.3G        745M\n",
      "Swap:          7.9G        1.1G        6.9G\n"
     ]
    }
   ],
   "source": [
    "free -h"
   ]
  },
  {
   "cell_type": "markdown",
   "metadata": {},
   "source": [
    "အထက်ပါ မြင်နေရတဲ့အထဲက \"Mem\" က RAM (Random Access Memory or Main Memory or Physical Memory) နဲ့ သက်ဆိုင်ပြီး၊ Swap ကတော့ Swap memory နဲ့ သက်ဆိုင်ပါတယ်။ ပထမဆုံး ကော်လံ ၃ ခုအနက် total က စုစုပေါင်း memory ကိုပြပေးတာဖြစ်ပြီး၊ used နဲ့ free ကတော့ လက်ရှိ အသုံးပြုနေတဲ့ memory နဲ့ ကျန်နေသေးတဲ့ memory ကို ပြသပေးတာ ဖြစ်ပါတယ်။ ပုံမှန်အားဖြင့်က \"top\" command ကို run ပြီးတော့ ရှေ့ဆုံး ကော်လံသုံးခုကိုပဲ ကြည့်ဖြစ်ပါတယ်။ နောက်ကော်လံ ၃ခုထဲက \"shared\" ဆိုတာက run နေတဲ့ process တွေအကြားမှာ ဝေမျှပြီးသုံးတဲ့ memory ဖြစ်ပါတယ်။ buff/cache ကတော့ အလွယ်ရှင်းပြရရင်၊ \"buffer\" က hard-disk ရဲ့ block တွေကို memory မှာ ကိုယ်စားပြုသိမ်းထားတဲ့ metadata အပိုင်းဖြစ်ပြီးတော့၊ \"cache\" ကတော့ ခဏခဏအသုံးများတဲ့ page တွေကို သိမ်းထားတဲ့ memory ဖြစ်ပြီး၊ ဖိုင်တွေနဲ့ ဆိုင်ပါတယ်။ \n",
    "\n"
   ]
  },
  {
   "cell_type": "markdown",
   "metadata": {},
   "source": [
    "## 46 du (estimate file space usage)\n",
    "\"du\" command ကတော့ ဖိုင်တွေ၊ ဖိုလ်ဒါတွေက ယူထားတဲ့ disk space ကို ကြည့်ချင်တဲ့ အခါမှာ သုံးပါတယ်။\n",
    "\n",
    "အသုံးများတဲ့ပုံစံ တစ်မျိုးကတော့ \"-s\" (summarize) နဲ့ \"-h\" (human-readable) option ကို တွဲသုံးတဲ့ ပုံစံမျိုးဖြစ်ပါတယ်။  \n",
    "အောက်ပါအတိုင်း ကိုယ့်ရဲ့ home folder (~) က disk မှာ ဘယ်လောက်နေရာယူထားတယ် ဆိုတာကို ရှာဖွေကြည့်ရအောင်။  \n",
    "\n",
    "```\n",
    "lar@lar-air:~/Downloads/1$ du -sh ~\n",
    "du: cannot read directory '/home/lar/.dbus': Permission denied\n",
    "du: cannot read directory '/home/lar/.cache/dconf': Permission denied\n",
    "195G\t/home/lar\n",
    "```\n",
    "\n",
    "တကယ်လို့ တစ်ဖိုင်ချင်းစီရဲ့ disk usage ကို ပြပေးစေချင်ရင် \"-a\" option နဲ့ တွဲသုံးပါ။  \n",
    "ကိုယ့်ရဲ့ ဖိုလ်ဒါအောက်မှာ ရှိတဲ့ ဖိုင်တစ်ဖိုင်ချင်းစီအတွက် ပြသပေးမှာ မို့လို့ တကယ့်ကို ရှည်လျားတဲ့ output ဖြစ်ပါလိမ့်မယ်။  \n",
    "အောက်ပါ ပုံစံမျိုး output ကို ရရှိပါလိမ့်မယ်။ \n",
    "(အားလုံး မဟုတ်ပဲ၊ တစိတ်တပိုင်းကိုပဲ ပြသထားပါတယ်)\n",
    "\n",
    "```\n",
    "lar@lar-air:~/Downloads/1$ du -ah /home/lar\n",
    "4.0K    /home/lar/.yudit/fonts\n",
    "4.0K    /home/lar/.yudit/syntax\n",
    "4.0K    /home/lar/.yudit/data\n",
    "16K     /home/lar/.yudit\n",
    "4.0K    /home/lar/R/x86_64-pc-linux-gnu-library/3.4\n",
    "8.0K    /home/lar/R/x86_64-pc-linux-gnu-library\n",
    "12K     /home/lar/R\n",
    "56K     /home/lar/Documents/suggestions-to-ICCA2018-conf.-committee.pdf\n",
    "64K     /home/lar/Documents/PP_Thumb-UserStudyLogFile.pdf\n",
    "4.0K    /home/lar/Documents/relating2recheck-jpname.txt\n",
    "4.0K    /home/lar/Documents/oov-khPOS.txt\n",
    "...\n",
    "...\n",
    "...\n",
    "```\n",
    "\n",
    "\"du\" command ကို run တဲ့အခါမှာ ဖိုလ်ဒါ၊ ဆဗ်ဖိုလ်ဒါတွေ အောက်မှာရှိတဲ့ ဖိုင် တစ်ဖိုင်ချင်းစီအတွက် တွက်တာမို့ အချိန်အတိုင်းအတာ တစ်ခုအထိ စောင့်ရပါလိမ့်မယ်။ \n"
   ]
  },
  {
   "cell_type": "markdown",
   "metadata": {},
   "source": [
    "\"du\" command ကို \"awk\" command နဲ့ တွဲသုံးကြည့်ရအောင်။  \n",
    "awk command နဲ့ ပထမဆုံး ကော်လံ (\\$1) ကိုပဲ print လုပ်ခိုင်းတဲ့ ဥပမာပါ။   "
   ]
  },
  {
   "cell_type": "code",
   "execution_count": 3,
   "metadata": {},
   "outputs": [
    {
     "name": "stdout",
     "output_type": "stream",
     "text": [
      "168M\n"
     ]
    }
   ],
   "source": [
    "du -sh ~/Downloads/ | awk '{print $1}'"
   ]
  },
  {
   "cell_type": "markdown",
   "metadata": {},
   "source": [
    "## 47. dos2unix (DOS/Mac to Unix and vice versa text file format converter)\n",
    "\n",
    "DOS/Windows OS စက်တွေမှာ ဖန်တီးခဲ့တဲ့ text ဖိုင်တွေရဲ့ စာကြောင်းအဆုံးမှာသုံးတဲ့ line ending သင်္ကေတ က   \n",
    "unix/linux မှာသုံးတဲ့ line ending သင်္ကေတနဲ့ မတူပါဘူး။ Windows မှာက စာကြောင်းအဆုံးကို line feed သင်္ကေတရော  \n",
    "carriage return ASCII စာလုံးကိုကော သုံးပါတယ်။ ဒါပေမဲ့ unix/linux မှာက စာကြောင်းအဆုံးအမှတ်အသားကို line feed  \n",
    "စာလုံး တစ်လုံးကိုပဲ သုံးပါတယ်။ အဲဒါကြောင့် Windows မှာ စာရိုက်ထားတဲ့ text ဖိုင်တွေကို linux မှာ တိုက်ရိုက်ယူသုံးတဲ့ အခါမှာ  \n",
    "စာကြောင်းအဆုံးမှာ Ctrl-m (\\^M) စာလုံးတွေကို ပြနေတာမျိုး၊ အလားတူပဲ linux မှာ စာရိုက်ထားတဲ့ text ဖိုင်တွေကို  \n",
    "Windows OS ရဲ့ notpad လို Application မှာ ဖွင့်ကြည့်ရင် line break မဖြစ်တော့ပဲ စာကြောင်းတွေက အားလုံးဆက်ပြီးတော့  \n",
    "စာကြောင်းအရှည်ကြီး ဖြစ်နေတာမျိုးကို ကြုံကြရပါလိမ့်မယ်။ ဒါကြောင့် ကျွန်တော်တို့က Windows က text ဖိုင်တွေကို linux မှာသုံးတဲ့ အခါမှာ format ပြောင်းပေးဖို့ လိုအပ်ပါတယ်။ အဲဒီလို အချိန်အခါမှာ dos2unix က အသုံးဝင်ပါတယ်။ သုံးပုံသုံးနည်းက အရမ်းလွယ်ပါတယ်။  \n",
    "အောက်ပါအတိုင်း \"-n\" option နဲ့ run ကြည့်ပါ။  "
   ]
  },
  {
   "cell_type": "code",
   "execution_count": 1,
   "metadata": {},
   "outputs": [
    {
     "name": "stdout",
     "output_type": "stream",
     "text": [
      "dos2unix: converting file ./windows-file.txt to file ./linux-file.txt in Unix format ...\n"
     ]
    }
   ],
   "source": [
    "dos2unix -n ./windows-file.txt ./linux-file.txt"
   ]
  },
  {
   "cell_type": "markdown",
   "metadata": {},
   "source": [
    "ရှေ့မှာ သင်ပေးခဲ့တဲ့ \"file\" command နဲ့ confirmation လုပ်ကြည့်ရအောင်။  \n",
    "Windows ဖိုင်တွေဆိုရင် CRLF line terminator ကို သုံးထားတယ်ဆိုတဲ့ information ကိုပြသပေးပါလိမ့်မယ်။  "
   ]
  },
  {
   "cell_type": "code",
   "execution_count": 2,
   "metadata": {},
   "outputs": [
    {
     "name": "stdout",
     "output_type": "stream",
     "text": [
      "./windows-file.txt: ASCII text, with CRLF line terminators\n"
     ]
    }
   ],
   "source": [
    "file ./windows-file.txt"
   ]
  },
  {
   "cell_type": "code",
   "execution_count": 3,
   "metadata": {},
   "outputs": [
    {
     "name": "stdout",
     "output_type": "stream",
     "text": [
      "./linux-file.txt: ASCII text\n"
     ]
    }
   ],
   "source": [
    "file ./linux-file.txt"
   ]
  },
  {
   "cell_type": "markdown",
   "metadata": {},
   "source": [
    "အမှန်တကယ်က dos2unix ကို သုံးမှ မဟုတ်ပါဘူး ကျွန်တော်တို့ အထက်မှာ သိခဲ့တဲ့ command တွေကို သုံးပြီးလဲ Windows text file ကို linux text file အဖြစ်ပြောင်းတာက လုပ်လို့ရပါတယ်။ ဥပမာ \"sed\", \"tr\", \"awk\" command တွေကို သုံးမယ်ဆိုရင် အောက်ပါအတိုင်း ပြောင်းလို့ ရပါတယ်။  \n",
    "\n",
    "```\n",
    "sed 's/^M$//' windows-file.txt > linux-file.txt\n",
    "\n",
    "tr -d '\\r' < windows-file.txt > linux-file.txt\n",
    "\n",
    "awk '{ sub(\"\\r$\", \"\"); print }' windows-file.txt > linux-file.txt\n",
    "```\n",
    "\n",
    "ဒါပေမဲ့ dos2unix က နာမည်ကိုယ်တိုင်က မှတ်မိဖို့လွယ်တာကြောင့် သိထားရင် အကျိုးရှိပါတယ်။  \n",
    "နောက်ပြီးတော့ unix2dos က linux file format ကို Windows file format အဖြစ်ပြောင်းတဲ့ အလုပ်ကို လုပ်ပေးပါတယ်။  \n",
    "ကိုယ့်ဖာသာကိုယ် လေ့လာပြီး စမ်းပြောင်းတာမျိုးကို လုပ်ကြည့်ပါ။  \n"
   ]
  },
  {
   "cell_type": "markdown",
   "metadata": {},
   "source": [
    "## 48. iconv (character set conversion)\n",
    "\n",
    "ကွန်ပျူတာ မှာ character encoding အမျိုးမျိုးရှိပါတယ်။ ဥပမာ ASCII, UTF-8, UTF-16, GB2312, JIS X 0208။  \n",
    "character encoding တစ်ခုနဲ့ တစ်ခုအကြားမှာ ပြောင်းလဲဖို့ လိုအပ်လာတဲ့အခါမဟာ \"iconv\" command က တကယ့်ကို အသုံးဝင်ပါတယ်။ အခြေခံအသုံးပြုသဲ့ ပုံစံကတော့ အောက်ပါအတိုင်း ဖြစ်ပါတယ်။  \n",
    "\n",
    "```\n",
    "iconv -f old-encoding -t new-encoding input-file.txt > output-file.txt\n",
    "```\n",
    "\n",
    "ဒီနေရာမှာ -f (--from-code) option က လက်ရှိရှိနေတဲ့ encoding ဖြစ်ပြီးတော့ -t (--to-code) option ကတော့  \n",
    "ပြောင်းပေးစေချင်တဲ့ encoding ဖြစ်ပါတယ်။  \n",
    "\n",
    "ရှေ့မှာ သုံးခဲ့တဲ့ ဖိုင်တစ်ဖိုင်ဖြစ်တဲ့ fileA ကို သုံးပြီး iconv အသုံးပြုပုံကို လုပ်ပြပါမယ်။  \n",
    "အရင်ဆုံး fileA ရဲ့ လက်ရှိ encoding က ဘာလဲဆိုတာကို ရိုက်ခိုင်းကြည့်ရအောင်။  "
   ]
  },
  {
   "cell_type": "code",
   "execution_count": 4,
   "metadata": {},
   "outputs": [
    {
     "name": "stdout",
     "output_type": "stream",
     "text": [
      "fileA: ASCII text\n"
     ]
    }
   ],
   "source": [
    "file fileA"
   ]
  },
  {
   "cell_type": "markdown",
   "metadata": {},
   "source": [
    "\"ASCII\" encoding ကနေ \"utf-16\" encoding ကို ပြောင်းကြည့်ရအောင်"
   ]
  },
  {
   "cell_type": "code",
   "execution_count": 5,
   "metadata": {},
   "outputs": [],
   "source": [
    "iconv -f ASCII -t utf-16 ./fileA > ./fileA.utf16"
   ]
  },
  {
   "cell_type": "markdown",
   "metadata": {},
   "source": [
    "\"file\" command နဲ့ fileA.utf16 ရဲ့ encoding ကို confirm လုပ်ကြည့်ရအောင်"
   ]
  },
  {
   "cell_type": "code",
   "execution_count": 6,
   "metadata": {},
   "outputs": [
    {
     "name": "stdout",
     "output_type": "stream",
     "text": [
      "./fileA.utf16: Big-endian UTF-16 Unicode text\n"
     ]
    }
   ],
   "source": [
    "file ./fileA.utf16"
   ]
  },
  {
   "cell_type": "markdown",
   "metadata": {},
   "source": [
    "နောက်ထပ် အရေးကြီးတဲ့ option ကတော့ -l ဖြစ်ပါတယ်။  \n",
    "\"-l\" (--list) option နဲ့ \"iconv\" command က ပြောင်းပေးနိုင်တဲ့ encoding အားလုံးကို list လုပ်ခိုင်းလို့ ရပါတယ်။  \n"
   ]
  },
  {
   "cell_type": "code",
   "execution_count": 7,
   "metadata": {},
   "outputs": [
    {
     "name": "stdout",
     "output_type": "stream",
     "text": [
      "ANSI_X3.4-1968 ANSI_X3.4-1986 ASCII CP367 IBM367 ISO-IR-6 ISO646-US ISO_646.IRV:1991 US US-ASCII CSASCII\n",
      "UTF-8\n",
      "ISO-10646-UCS-2 UCS-2 CSUNICODE\n",
      "UCS-2BE UNICODE-1-1 UNICODEBIG CSUNICODE11\n",
      "UCS-2LE UNICODELITTLE\n",
      "ISO-10646-UCS-4 UCS-4 CSUCS4\n",
      "UCS-4BE\n",
      "UCS-4LE\n",
      "UTF-16\n",
      "UTF-16BE\n",
      "UTF-16LE\n",
      "UTF-32\n",
      "UTF-32BE\n",
      "UTF-32LE\n",
      "UNICODE-1-1-UTF-7 UTF-7 CSUNICODE11UTF7\n",
      "UCS-2-INTERNAL\n",
      "UCS-2-SWAPPED\n",
      "UCS-4-INTERNAL\n",
      "UCS-4-SWAPPED\n",
      "C99\n",
      "JAVA\n",
      "CP819 IBM819 ISO-8859-1 ISO-IR-100 ISO8859-1 ISO_8859-1 ISO_8859-1:1987 L1 LATIN1 CSISOLATIN1\n",
      "ISO-8859-2 ISO-IR-101 ISO8859-2 ISO_8859-2 ISO_8859-2:1987 L2 LATIN2 CSISOLATIN2\n",
      "ISO-8859-3 ISO-IR-109 ISO8859-3 ISO_8859-3 ISO_8859-3:1988 L3 LATIN3 CSISOLATIN3\n",
      "ISO-8859-4 ISO-IR-110 ISO8859-4 ISO_8859-4 ISO_8859-4:1988 L4 LATIN4 CSISOLATIN4\n",
      "CYRILLIC ISO-8859-5 ISO-IR-144 ISO8859-5 ISO_8859-5 ISO_8859-5:1988 CSISOLATINCYRILLIC\n",
      "ARABIC ASMO-708 ECMA-114 ISO-8859-6 ISO-IR-127 ISO8859-6 ISO_8859-6 ISO_8859-6:1987 CSISOLATINARABIC\n",
      "ECMA-118 ELOT_928 GREEK GREEK8 ISO-8859-7 ISO-IR-126 ISO8859-7 ISO_8859-7 ISO_8859-7:1987 ISO_8859-7:2003 CSISOLATINGREEK\n",
      "HEBREW ISO-8859-8 ISO-IR-138 ISO8859-8 ISO_8859-8 ISO_8859-8:1988 CSISOLATINHEBREW\n",
      "ISO-8859-9 ISO-IR-148 ISO8859-9 ISO_8859-9 ISO_8859-9:1989 L5 LATIN5 CSISOLATIN5\n",
      "ISO-8859-10 ISO-IR-157 ISO8859-10 ISO_8859-10 ISO_8859-10:1992 L6 LATIN6 CSISOLATIN6\n",
      "ISO-8859-11 ISO8859-11 ISO_8859-11\n",
      "ISO-8859-13 ISO-IR-179 ISO8859-13 ISO_8859-13 L7 LATIN7\n",
      "ISO-8859-14 ISO-CELTIC ISO-IR-199 ISO8859-14 ISO_8859-14 ISO_8859-14:1998 L8 LATIN8\n",
      "ISO-8859-15 ISO-IR-203 ISO8859-15 ISO_8859-15 ISO_8859-15:1998 LATIN-9\n",
      "ISO-8859-16 ISO-IR-226 ISO8859-16 ISO_8859-16 ISO_8859-16:2001 L10 LATIN10\n",
      "KOI8-R CSKOI8R\n",
      "KOI8-U\n",
      "KOI8-RU\n",
      "CP1250 MS-EE WINDOWS-1250\n",
      "CP1251 MS-CYRL WINDOWS-1251\n",
      "CP1252 MS-ANSI WINDOWS-1252\n",
      "CP1253 MS-GREEK WINDOWS-1253\n",
      "CP1254 MS-TURK WINDOWS-1254\n",
      "CP1255 MS-HEBR WINDOWS-1255\n",
      "CP1256 MS-ARAB WINDOWS-1256\n",
      "CP1257 WINBALTRIM WINDOWS-1257\n",
      "CP1258 WINDOWS-1258\n",
      "850 CP850 IBM850 CSPC850MULTILINGUAL\n",
      "862 CP862 IBM862 CSPC862LATINHEBREW\n",
      "866 CP866 IBM866 CSIBM866\n",
      "CP1131\n",
      "MAC MACINTOSH MACROMAN CSMACINTOSH\n",
      "MACCENTRALEUROPE\n",
      "MACICELAND\n",
      "MACCROATIAN\n",
      "MACROMANIA\n",
      "MACCYRILLIC\n",
      "MACUKRAINE\n",
      "MACGREEK\n",
      "MACTURKISH\n",
      "MACHEBREW\n",
      "MACARABIC\n",
      "MACTHAI\n",
      "HP-ROMAN8 R8 ROMAN8 CSHPROMAN8\n",
      "NEXTSTEP\n",
      "ARMSCII-8\n",
      "GEORGIAN-ACADEMY\n",
      "GEORGIAN-PS\n",
      "KOI8-T\n",
      "CP154 CYRILLIC-ASIAN PT154 PTCP154 CSPTCP154\n",
      "KZ-1048 RK1048 STRK1048-2002 CSKZ1048\n",
      "MULELAO-1\n",
      "CP1133 IBM-CP1133\n",
      "ISO-IR-166 TIS-620 TIS620 TIS620-0 TIS620.2529-1 TIS620.2533-0 TIS620.2533-1\n",
      "CP874 WINDOWS-874\n",
      "VISCII VISCII1.1-1 CSVISCII\n",
      "TCVN TCVN-5712 TCVN5712-1 TCVN5712-1:1993\n",
      "ISO-IR-14 ISO646-JP JIS_C6220-1969-RO JP CSISO14JISC6220RO\n",
      "JISX0201-1976 JIS_X0201 X0201 CSHALFWIDTHKATAKANA\n",
      "ISO-IR-87 JIS0208 JIS_C6226-1983 JIS_X0208 JIS_X0208-1983 JIS_X0208-1990 X0208 CSISO87JISX0208\n",
      "ISO-IR-159 JIS_X0212 JIS_X0212-1990 JIS_X0212.1990-0 X0212 CSISO159JISX02121990\n",
      "CN GB_1988-80 ISO-IR-57 ISO646-CN CSISO57GB1988\n",
      "CHINESE GB_2312-80 ISO-IR-58 CSISO58GB231280\n",
      "CN-GB-ISOIR165 ISO-IR-165\n",
      "ISO-IR-149 KOREAN KSC_5601 KS_C_5601-1987 KS_C_5601-1989 CSKSC56011987\n",
      "EUC-JP EUCJP EXTENDED_UNIX_CODE_PACKED_FORMAT_FOR_JAPANESE CSEUCPKDFMTJAPANESE\n",
      "MS_KANJI SHIFT-JIS SHIFT_JIS SJIS CSSHIFTJIS\n",
      "CP932\n",
      "ISO-2022-JP CSISO2022JP\n",
      "ISO-2022-JP-1\n",
      "ISO-2022-JP-2 CSISO2022JP2\n",
      "CN-GB EUC-CN EUCCN GB2312 CSGB2312\n",
      "GBK\n",
      "CP936 MS936 WINDOWS-936\n",
      "GB18030\n",
      "ISO-2022-CN CSISO2022CN\n",
      "ISO-2022-CN-EXT\n",
      "HZ HZ-GB-2312\n",
      "EUC-TW EUCTW CSEUCTW\n",
      "BIG-5 BIG-FIVE BIG5 BIGFIVE CN-BIG5 CSBIG5\n",
      "CP950\n",
      "BIG5-HKSCS:1999\n",
      "BIG5-HKSCS:2001\n",
      "BIG5-HKSCS:2004\n",
      "BIG5-HKSCS BIG5-HKSCS:2008 BIG5HKSCS\n",
      "EUC-KR EUCKR CSEUCKR\n",
      "CP949 UHC\n",
      "CP1361 JOHAB\n",
      "ISO-2022-KR CSISO2022KR\n"
     ]
    }
   ],
   "source": [
    "iconv -l | column"
   ]
  },
  {
   "cell_type": "markdown",
   "metadata": {},
   "source": [
    "တကယ်လို့ ကိုယ့်ရဲ့ စက်ထဲမှာ built-in command မဟုတ်တဲ့ dos2unix က install မလုပ်ရသေးဘူး ဆိုကြပါစို့  \n",
    "အဲဒီလို အခြေအနေမှာ Windows text file ကို linux/unix text file အဖြစ်ပြောင်းချင်ရင် iconv ကို အောက်ပါအတိုင်း  \n",
    "သုံးလို့ ရပါတယ်။\n",
    "\n",
    "```\n",
    "iconv -f UTF-16LE -t UTF-8 windows-file.txt > linux-file.txt\n",
    "```\n",
    "\n",
    "encoding တစ်မျိုးကနေ နောက်တစ်မျိုးကို ပြောင်းတဲ့ကိစ္စက ဘာသာစကား အမျိုးမျိုးနဲ့ရေးထားတဲ့ ဖိုင်တွေကို ကိုင်တွယ် အလုပ်လုပ်တဲ့ အခါမှာ  သိထားမှ ဖြစ်ပါမယ်။ ဘာ့ကြောင့်လဲဆိုတော့ unicode ပေါ်မလာခင်က နိုင်ငံအလိုက် ကိုယ့်ဘာသာစကားအတွက် encoding ကို industry standard အနေနဲ့ သတ်မှတ်ပြီး အလုပ်တွေလုပ်ခဲ့ကြလို့၊ unicode ပေါ်လာပြီးနောက်ပိုင်းအထိ အဲဒီစံသတ်မှတ်ချက်တွေနဲ့ ရေးထားတဲ့ဖိုင်တွေက လက်ရှိမှာအသုံးပြုနေကြတဲ့ အပိုင်းတွေရှိလို့ ဖြစ်ပါတယ်။ ဂျပန်စာနဲ့ ပတ်သတ်ပြီး ဗဟုသုတအဖြစ်ပြောပြရရင် ဟိုးအရင်က encoding ကိုသုံးထားတဲ့ ဖိုင်တွေကနေ linux ပေါ်မှာ ဖတ်လို့ရအောင်၊ အလုပ်လုပ်လို့ရအောင် utf-8 ပြောင်းဖို့အတွက် \"nkf\" ဆိုတဲ့ command က အရမ်းအသုံးဝင်ပါတယ်။ သူက built-in command မဟုတ်လို့ သပ်သပ် install လုပ်မှရပါတယ်။  "
   ]
  },
  {
   "cell_type": "markdown",
   "metadata": {},
   "source": [
    "## 49. convert (convert between image formats and other works ...)\n",
    "\n",
    "convert ကိုသုံးဖို့ အတွက်က Imagemagick ကို ကိုယ့်ရဲ့ စက်ထဲမှာ installation အရင် လုပ်ထားရပါမယ်။  \n",
    "convert command က ပုံဖိုင်တွေနဲ့ ပတ်သက်ပြီး format တစ်ခုကနေ နောက်တစ်ခုကို ပြောင်းချင်တဲ့ အခါမျိုး၊ ပုံတွေရဲ့ ဆိုက်ကို အကြီးအသေးပြောင်းချင်တဲ့ အခါမျိုး၊ ပုံတွေကို effect တွေထည့်တာမျိုးစတဲ့ ပုံနဲ့ပတ်သတ်တဲ့ ပြုပြင်ပြောင်းလဲမှုတွေအတွက် အင်မတန်ကို အသုံးဝင်ပါတယ်။ သုံးပုံသုံးနည်း ဥပမာ တချို့ကို လက်တွေ့လုပ်ပြပါမယ်။  \n",
    "\n",
    "jpg ဖိုင်ကနေ png ဖိုင်အဖြစ်ပြောင်းချင်တယ်ဆိုရင် အောက်ပါအတိုင်း \"convert\" command ပေးပါတယ်။ output ဖိုင်ကို ကိုယ်ပြောင်းပေးစေချင်တဲ့ ပုံဖိုင်ရဲ့ extension တပ်ပေးလိုက်ယုံပါပဲ။  "
   ]
  },
  {
   "cell_type": "code",
   "execution_count": 12,
   "metadata": {},
   "outputs": [],
   "source": [
    "convert ./slovenia_may2016.jpg ./slovenia_may2016.png"
   ]
  },
  {
   "cell_type": "code",
   "execution_count": 13,
   "metadata": {},
   "outputs": [
    {
     "name": "stdout",
     "output_type": "stream",
     "text": [
      "\u001b[0m\u001b[01;35m./slovenia_may2016.jpg\u001b[0m  \u001b[01;35m./slovenia_may2016.png\u001b[0m\n"
     ]
    }
   ],
   "source": [
    "ls ./slovenia*"
   ]
  },
  {
   "cell_type": "markdown",
   "metadata": {},
   "source": [
    "convert command ကပြောင်းပေးပြီး ရလာတဲ့ png ဖိုင် (./slovenia_may2016.png) က အောက်ပါပုံဖြစ်ပါတယ်။  "
   ]
  },
  {
   "cell_type": "markdown",
   "metadata": {},
   "source": [
    "![alt ./slovenia_may2016.png](./slovenia_may2016.png \"Converted png file\") "
   ]
  },
  {
   "cell_type": "markdown",
   "metadata": {},
   "source": [
    "ဒီတစ်ခါတော့ png ဖိုင်ရဲ့ size ကို 100x50 အဖြစ်ပြောင်းခိုင်းပြီးတော့ ./slovenia_may2016_dim100-50.png ဆိုတဲ့ နာမည်အသစ်နဲ့ သိမ်းခိုင်းရအောင်။ "
   ]
  },
  {
   "cell_type": "code",
   "execution_count": 1,
   "metadata": {},
   "outputs": [],
   "source": [
    "convert ./slovenia_may2016.png -resize 100x50 ./slovenia_may2016_dim100-50.png"
   ]
  },
  {
   "cell_type": "markdown",
   "metadata": {},
   "source": [
    "resize လုပ်ပြီး ရလာတဲ့ 100x50 dimension ရှိတဲ့ slovenia_may2016_dim100-50.png ဖိုင်က အောက်ပါအတိုင်း ဖြစ်ပါတယ်။ "
   ]
  },
  {
   "cell_type": "markdown",
   "metadata": {},
   "source": [
    "![alt ./slovenia_may2016_dim100-50.png](./slovenia_may2016_dim100-50.png \"100x50 png file\") "
   ]
  },
  {
   "cell_type": "markdown",
   "metadata": {},
   "source": [
    "ဒီတစ်ခါတော့ \"convert\" command ကိုသုံးပြီး ပုံကို ၁၈၀ ဒီဂရီ လှည့်ခိုင်းကြည့်ရအောင်။"
   ]
  },
  {
   "cell_type": "code",
   "execution_count": 5,
   "metadata": {},
   "outputs": [],
   "source": [
    "convert ./slovenia_may2016.png -rotate 180 ./slovenia_may2016-180degree-rotated.png"
   ]
  },
  {
   "cell_type": "markdown",
   "metadata": {},
   "source": [
    "၁၈၀ ဒီဂရီလှည့်ပြီးသား ဖိုင်ကတော့ အောက်ပါအတိုင်း ဖြစ်ပါတယ်။  "
   ]
  },
  {
   "cell_type": "markdown",
   "metadata": {},
   "source": [
    "![alt ./slovenia_may2016_180degree-rotated.png](./slovenia_may2016-180degree-rotated.png \"Rotated png\") "
   ]
  },
  {
   "cell_type": "markdown",
   "metadata": {},
   "source": [
    "ဒီတစ်ခါတော့ \"convert\" command ကို သုံးပြီး image affect တစ်ခုဖြစ်တဲ့ \"-charcoal\" option ကို သုံးပြီး မီးသွေးနဲ့ ဆွဲထားတဲ့ ပန်ချီကားချပ်လိုဖြစ်အောင် လုပ်ခိုင်းကြည့်ရအောင်။  "
   ]
  },
  {
   "cell_type": "code",
   "execution_count": null,
   "metadata": {},
   "outputs": [],
   "source": [
    "convert ./slovenia_may2016.png -charcoal 5 ./slovenia_may2016-charcoal.png"
   ]
  },
  {
   "cell_type": "markdown",
   "metadata": {},
   "source": [
    "\"-charcoal 5\" option ရဲ့ output အဖြစ်ထွက်လာတဲ့ ပုံကတော့ အောက်ပါအတိုင်း ဖြစ်ပါတယ်။  \n",
    "ဒီနေရာမှာ နံပါတ် 5 က \"charcoal\" option ကို ထိန်းတဲ့ တန်ဖိုးဖြစ်ပါတယ်။ "
   ]
  },
  {
   "cell_type": "markdown",
   "metadata": {},
   "source": [
    "![alt ./slovenia_may2016-charcoal.png](./slovenia_may2016-charcoal.png \"Charcoal affect\") "
   ]
  },
  {
   "cell_type": "markdown",
   "metadata": {},
   "source": [
    "\"convert\" command နဲ့ လုပ်လို့ရတာတွေက အများကြီးရှိပါတယ်။ option တွေကို \"man convert\" နဲ့ လေ့လာပြီး အမျိုးမျိုး သုံးတတ်အောင် လေ့လာပါ။ လက်တွေ့မှာ image ဖိုင်တွေ အများကြီးကို တစ်စုတည်း jpg ကနေ png ပြောင်းတာမျိုး၊ size အကြီးအသေး ပြောင်းတာမျိုးတွေ အတွက် convert ကို မမေ့ပါနဲ့။  "
   ]
  },
  {
   "cell_type": "markdown",
   "metadata": {},
   "source": [
    "## 50. bc (An arbitrary precision calculator language)\n",
    "\n",
    "\"bc\" command က command line calculator ပါပဲ။  \n",
    "အသုံးများတဲ့ ပုံစံကတော့ command line မှာ အလုပ်လုပ်နေရင်းနဲ့ တစ်ခုခုကို တွက်ချက်ချင်တဲ့ အခါမျိုးမှာ၊ နောက်ပြီးတော့ bash shell script တွေထဲမှာ bc ကို ထည့်ရေးတဲ့ ပုံစံမျိုးတွေပါ။   \n",
    "\n",
    "ဥပမာ 11 နဲ့ 13 ကို မြှောက်ပေးစေချင်တဲ့ အခါမျိုးမှာ အောက်ပါအတိုင်း \"echo\" command ကနေ \"bc\" command ကို pipe နဲ့ လွှဲပေးပြီး တွက်ခိုင်းလို့ ရပါတယ်။  "
   ]
  },
  {
   "cell_type": "code",
   "execution_count": 13,
   "metadata": {},
   "outputs": [
    {
     "name": "stdout",
     "output_type": "stream",
     "text": [
      "143\n"
     ]
    }
   ],
   "source": [
    "echo \"11*13\" | bc"
   ]
  },
  {
   "cell_type": "markdown",
   "metadata": {},
   "source": [
    "တန်ဖိုးနှစ်ခုကို တူမတူ တိုက်စစ်တဲ့ အခါမျိုးမှာ အောက်ပါအတိုင်း \"==\" operator ကို သုံးပါတယ်။  \n",
    "bc language ရဲ့ syntax က C programming langauge နဲ့ ဆင်တူပါတယ်။  "
   ]
  },
  {
   "cell_type": "code",
   "execution_count": 14,
   "metadata": {},
   "outputs": [
    {
     "name": "stdout",
     "output_type": "stream",
     "text": [
      "0\n"
     ]
    }
   ],
   "source": [
    "echo \"123==321\" | bc"
   ]
  },
  {
   "cell_type": "markdown",
   "metadata": {},
   "source": [
    "\"0\" ဆိုတာကFALSE ကို ပြောတာပါ။  \n",
    "\"0 && 1\" ဆိုတာကို \"bc\" command ကို pass လုပ်ကြည့်ရအောင်။ အောက်ပါအတိုင်း 0 ဆိုပြီး output လုပ်ပါလိမ့်မယ်။  "
   ]
  },
  {
   "cell_type": "code",
   "execution_count": 16,
   "metadata": {},
   "outputs": [
    {
     "name": "stdout",
     "output_type": "stream",
     "text": [
      "0\n"
     ]
    }
   ],
   "source": [
    "echo \"0 && 1\" | bc"
   ]
  },
  {
   "cell_type": "markdown",
   "metadata": {},
   "source": [
    "\"-l\" option ကို သုံးရင် \"bc\" က math library တွေကို load လုပ်ပေးလို့ သတ်မှတ်ထားတဲ့ သင်္ချာ function တွေကို ခေါ်ယူသုံးလို့ ရပါတယ်။ ဥပမာ sine(10) ကို တွက်ချင်ရင် \"s(10)\" လိုပေးလိုက်ရင် တွက်ပေးပါလိမ့်မယ်။ bc ရဲ့ default scale က zero ပါ ကျွန်တော်တို့က \"-l\" နဲ့ run တဲ့အခါမှာ scale ကို 20 ထားပေးပါတယ်။  "
   ]
  },
  {
   "cell_type": "code",
   "execution_count": 27,
   "metadata": {},
   "outputs": [
    {
     "name": "stdout",
     "output_type": "stream",
     "text": [
      "-.54402111088936981340\n"
     ]
    }
   ],
   "source": [
    "echo \"s(10)\" | bc -l"
   ]
  },
  {
   "cell_type": "markdown",
   "metadata": {},
   "source": [
    "တစ်ခုသိထားသင့်တာက \"bc\" command မှာ tangent function မပါပါဘူး။ အဲဒါကြောင့် tangent ကို တွက်ချင်တဲ့ အခါမှာ အောက်ပါအသိုင်း sine(x)/cosine(x) ဆိုပြီး တွက်မှ ရပါတယ်။   "
   ]
  },
  {
   "cell_type": "code",
   "execution_count": 30,
   "metadata": {},
   "outputs": [
    {
     "name": "stdout",
     "output_type": "stream",
     "text": [
      "-.51249356600973076087\n"
     ]
    }
   ],
   "source": [
    "echo \"s(2.8)/c(4.0)\" | bc -l"
   ]
  },
  {
   "cell_type": "markdown",
   "metadata": {},
   "source": [
    "square root 10 ရဲ့ အဖြေကို သိချင်ရင် အောက်ပါအတိုင်း တွက်ခိုင်းလို့ ရပါတယ်။ "
   ]
  },
  {
   "cell_type": "code",
   "execution_count": 32,
   "metadata": {},
   "outputs": [
    {
     "name": "stdout",
     "output_type": "stream",
     "text": [
      "3.16227766016837933199\n"
     ]
    }
   ],
   "source": [
    "echo \"sqrt(10)\" | bc -l"
   ]
  },
  {
   "cell_type": "markdown",
   "metadata": {},
   "source": [
    "Natural logarithm function က l(x) ဆိုတဲ့ ပုံစံမျိုး ဖြစ်ပါတယ်။  "
   ]
  },
  {
   "cell_type": "code",
   "execution_count": 31,
   "metadata": {},
   "outputs": [
    {
     "name": "stdout",
     "output_type": "stream",
     "text": [
      "1.60943791243410037460\n"
     ]
    }
   ],
   "source": [
    "echo \"l(5)\" | bc -l"
   ]
  },
  {
   "cell_type": "markdown",
   "metadata": {},
   "source": [
    "exponential ကတော့ e(x) ဆိုတဲ့ ပုံစံမျိုး ရေးပါတယ်။  "
   ]
  },
  {
   "cell_type": "code",
   "execution_count": 33,
   "metadata": {},
   "outputs": [
    {
     "name": "stdout",
     "output_type": "stream",
     "text": [
      "148.41315910257660342111\n"
     ]
    }
   ],
   "source": [
    "echo \"e(5)\" | bc -l"
   ]
  },
  {
   "cell_type": "markdown",
   "metadata": {},
   "source": [
    "decimal 50 ကို binary number အဖြစ်ပြောင်းပေးစေချင်ရင် obase (output base) ကို 2 အဖြစ်သတ်မှတ်ပြီး အောက်ပါအတိုင်း အမိန့်ပေးလိုက်ယုံပါပဲ။  "
   ]
  },
  {
   "cell_type": "code",
   "execution_count": 35,
   "metadata": {},
   "outputs": [
    {
     "name": "stdout",
     "output_type": "stream",
     "text": [
      "110010\n"
     ]
    }
   ],
   "source": [
    "echo \"obase=2;50\" | bc -l"
   ]
  },
  {
   "cell_type": "markdown",
   "metadata": {},
   "source": [
    "အထက်မှာ obase ကို သုံးပြခဲ့သလို၊ input based ကို ထိန်းချင်ရင်တော့ ibase ကို သုံးပါတယ်။ အောက်ပါ ဥပမာက hexadecimal နှစ်ခုကို ပေါင်းတဲ့ ဥပမာပါ။  "
   ]
  },
  {
   "cell_type": "code",
   "execution_count": 38,
   "metadata": {},
   "outputs": [
    {
     "name": "stdout",
     "output_type": "stream",
     "text": [
      "CB3E\n"
     ]
    }
   ],
   "source": [
    "echo 'obase=16; ibase=16; 1A12+B12C' | bc"
   ]
  },
  {
   "cell_type": "markdown",
   "metadata": {},
   "source": [
    "bc command က interactive mode နဲ့ လည်း run လို့ ရပါတယ်။ အဲဒီလို run မယ်ဆိုရင်တော့ command prompt မှာ bc -l ဆိုပြီး ရိုက်ထည့်ယုံပါပဲ။ ထွက်ချင်ရင်တော့ \"quit\" ဆိုပြီး ရိုက်လိုက်ပါ။  "
   ]
  },
  {
   "cell_type": "markdown",
   "metadata": {},
   "source": [
    "## 51. gzip (compress files)\n",
    "Linux မှာ ဖိုင်တွေကို ချုံ့ချင်ရင် သုံးတဲ့ command ပါ။ gzip က သုံးတဲ့ compression method ကတော့ \" Lempel-Ziv (LZ77)\" ဖြစ်ပါတယ်။  \n",
    "\n",
    "အသုံးပြုပုံက gzip filename ဆိုတဲ့ ပုံစံမို့လို့ တစ်ခေါက် သုံးဖူးတာနဲ့ မှတ်မိသွားပါလိမ့်မယ်။  \n",
    "linux commnand လေ့ကျင့်ခန်းတွေလုပ်နေတဲ့ ./linux-cmd/ ဖိုလ်ဒါအောက်မှာရှိတဲ့ otest ဆိုတဲ့ ဖိုင်ကို gzip သုံးပြီး ချုံ့ကြည့်ရအောင်။  "
   ]
  },
  {
   "cell_type": "code",
   "execution_count": 39,
   "metadata": {},
   "outputs": [],
   "source": [
    "gzip otest"
   ]
  },
  {
   "cell_type": "markdown",
   "metadata": {},
   "source": [
    "gzip လုပ်ပြီးသွားတဲ့ အခါမှာ ဖိုင်ရဲ့ extension ကို \".gz\" အဖြစ် ပြောင်းသိမ်းပေးပါလိမ့်မယ်။"
   ]
  },
  {
   "cell_type": "code",
   "execution_count": 40,
   "metadata": {},
   "outputs": [
    {
     "name": "stdout",
     "output_type": "stream",
     "text": [
      "\u001b[0m\u001b[01;31motest.gz\u001b[0m  otest.tag  otest.word\n"
     ]
    }
   ],
   "source": [
    "ls otest*"
   ]
  },
  {
   "cell_type": "markdown",
   "metadata": {},
   "source": [
    "ထုံးစံအတိုင်း \"file\" command နဲ့ ဖိုင်ရဲ့ အချက်အလက်တွေကို ကြည့်ကြည့်ရအောင်။  "
   ]
  },
  {
   "cell_type": "code",
   "execution_count": 41,
   "metadata": {},
   "outputs": [
    {
     "name": "stdout",
     "output_type": "stream",
     "text": [
      "otest.gz: gzip compressed data, was \"otest\", last modified: Fri Aug 11 02:14:36 2017, from Unix\n"
     ]
    }
   ],
   "source": [
    "file otest.gz"
   ]
  },
  {
   "cell_type": "markdown",
   "metadata": {},
   "source": [
    "gzip ရဲ့ \"-l\" option ကို အသုံးပြုပြီး ကြည့်ရင်တော့ ဘယ်လောက် ratio အထိ compress လုပ်နိုင်ခဲ့တယ်ဆိုတာကို % (ရာခိုင်နှုန်း) ပြသပေးပါလိမ့်မယ်။ ဒါ့အပြင် compress မလုပ်သေးခင်က နဂိုဖိုင်နာမည်ကိုလည်း ဖော်ပြပေးပါလိမ့်မယ်။  "
   ]
  },
  {
   "cell_type": "code",
   "execution_count": 42,
   "metadata": {},
   "outputs": [
    {
     "name": "stdout",
     "output_type": "stream",
     "text": [
      "         compressed        uncompressed  ratio uncompressed_name\n",
      "              68366              377269  81.9% ./otest\n"
     ]
    }
   ],
   "source": [
    "gzip -l ./otest.gz"
   ]
  },
  {
   "cell_type": "markdown",
   "metadata": {},
   "source": [
    "## 52. gunzip (expand files)\n",
    "gzip နဲ့ ချုံ့ထားတဲ့ ဖိုင်တွေကို ပြန်ဖြေဖို့အတွက် သုံးတဲ့ command ဖြစ်ပါတယ်။  \n",
    "\n",
    "သုံးပုံသုံးနည်းကတော့ gunzip filename ပဲ ဖြစ်ပါတယ်။  \n",
    "အထက်မှာ gzip နဲ့ ချုံ့ခဲ့တဲ့ otest.gz ဖိုင်ကို \"gunzip\" ကို သုံးပြီး နဂိုဖိုင်အတိုင်းဖြစ်အောင် လုပ်ခိုင်းကြည့်ရအောင်။  "
   ]
  },
  {
   "cell_type": "code",
   "execution_count": 43,
   "metadata": {},
   "outputs": [],
   "source": [
    "gunzip ./otest.gz"
   ]
  },
  {
   "cell_type": "code",
   "execution_count": 44,
   "metadata": {},
   "outputs": [
    {
     "name": "stdout",
     "output_type": "stream",
     "text": [
      "otest  otest.tag  otest.word\n"
     ]
    }
   ],
   "source": [
    "ls otest*"
   ]
  },
  {
   "cell_type": "code",
   "execution_count": 45,
   "metadata": {},
   "outputs": [
    {
     "name": "stdout",
     "output_type": "stream",
     "text": [
      "otest: UTF-8 Unicode text, with very long lines\n"
     ]
    }
   ],
   "source": [
    "file otest"
   ]
  },
  {
   "cell_type": "markdown",
   "metadata": {},
   "source": [
    "အထက်ပါအတိုင်း နဂို otest ဖိုင်ပြန်ရပါလိမ့်မယ်။  "
   ]
  },
  {
   "cell_type": "markdown",
   "metadata": {},
   "source": [
    "## 53. tar (the tar archiving utility)  \n",
    "\"tar\" command က (Tape Archive) ရဲ့ အတိုကောက်ဖြစ်ပြီး၊ သူ့အရင် ရှိခဲ့တဲ့ \"tp\" command ကို အစားထိုးဖို့၊ ၁၉၇၉ခုနှစ် ဇန္နဝါရီလမှာ ထုတ်လုပ်ခဲ့တဲ့ unix (v7) ကတည်းက စတင်အသုံးပြုလာခဲ့ကြတယ်လို့ သိရှိရပါတယ်။ Linux ကို အသုံးပြုသူအနေနဲ့က \"tar\" command ကို မသိလို့မဖြစ်ပါဘူး။ အခုအချိန်အထိ Linux မှာသုံးတဲ့ ပရိုဂရမ်တွေကို tarball ဖိုင် (သို့မဟုတ်) tar ဖိုင်အနေနဲ့ ဒေါင်းလုဒ်လုပ်ပြီး ကိုယ်ရဲ့ စက်ထဲမှာ ပြန်ဖြေပြီးမှ သုံးလို့ရအောင် compile လုပ်တာ၊ installation လုပ်ရတာတွေ နေ့စဉ်လိုလိုပါပဲ။ tarball ဖိုင်ဆိုတာကတော့ tar ကို သုံးပြီး ဖိုင်တွေ၊ ဖိုလ်ဒါတွေကို archive လုပ်ထားတဲ့ ဖိုင်ပါ။ \"tar\" command က ပေးထားတဲ့ option တွေက အများကြီးဖြစ်ပြီး၊ အဲဒီအထဲကမှ အသုံးများတဲ့ ပုံစံ အနည်းငယ်ကိုပဲ လိုအပ်တဲ့ အခါမှာ အသုံးပြုနိုင်အောင် မိတ်ဆက်ပေးပါမယ်။   \n",
    "\n",
    "အခုဖတ်နေတဲ့ linux-commands Jupyter notebook မှာ ဥပမာအနေနဲ့ပြဖို့ screen capture ပုံတွေကို သိမ်းပေးထားတဲ့ ./screen ဖိုလ်ဒါကို tar ကို သုံးပြီး archive လုပ်ခိုင်းကြည့်ရအောင်။   "
   ]
  },
  {
   "cell_type": "code",
   "execution_count": 47,
   "metadata": {},
   "outputs": [
    {
     "name": "stdout",
     "output_type": "stream",
     "text": [
      "./screen/\n",
      "./screen/scp-eg-usage-cp-file-from-remote.png\n",
      "./screen/kyoto.png\n",
      "./screen/KaKhaGa-output.png\n",
      "./screen/okayama.png\n",
      "./screen/xrgs-alone-testing.png\n",
      "./screen/man-ru-man.png\n",
      "./screen/man-usEngman.png\n",
      "./screen/mandalay.png\n",
      "./screen/scp-port-error-eg.png\n",
      "./screen/xargs-p-option-screen.png\n",
      "./screen/echo-kagyi.png\n",
      "./screen/dmesg-tensorflow-program.png\n",
      "./screen/output-of-time-command.png\n",
      "./screen/redirections.png\n",
      "./screen/top-after-nohup-command.png\n",
      "./screen/bayesian-formula.png\n",
      "./screen/check-with-ps.png\n",
      "./screen/regular_expressions.png\n",
      "./screen/less-cmd-output.png\n",
      "./screen/usr-bin-time-command.png\n",
      "./screen/man-jp-man.png\n"
     ]
    }
   ],
   "source": [
    "tar -cvf screen.tar ./screen/"
   ]
  },
  {
   "cell_type": "code",
   "execution_count": 48,
   "metadata": {},
   "outputs": [
    {
     "name": "stdout",
     "output_type": "stream",
     "text": [
      "\u001b[0m\u001b[01;31m./screen.tar\u001b[0m\n"
     ]
    }
   ],
   "source": [
    "ls ./screen.tar "
   ]
  },
  {
   "cell_type": "markdown",
   "metadata": {},
   "source": [
    "သုံးခဲ့တဲ့ option တွေကတော့ -cvf ဖြစ်ပြီး၊ \"c\" က tar ဖိုင်အသစ်တစ်ခုကို လုပ်ပေးပါ၊ \"v\" က verbose mode နဲ့ run ပေးပါ (archive လုပ်နေတဲ့ ဖိုင်တွေကို list လုပ်ပြခိုင်းတာ)၊ \"f\" ကတော့ file archive အမျိုးအစား ဆိုတဲ့ အဓိပ္ပါယ်ရရှိပါတယ်။  \n",
    "\n",
    "ကျွန်တော်တို့ ပေးခဲ့တဲ့ ဖိုင်နာမည်ဖြစ်တဲ့ \"screen.tar\" ဆိုတဲ့ ဖိုင်အနေနဲ့ archive လုပ်ပေးပါလိမ့်မယ်။  \n",
    "\n",
    "ကောင်းပြီ။ နောက်တစ်ဆင့်အနေနဲ့ archive လုပ်ထားတဲ့ tar ဖိုင်ကို ပြန်ဖြေတာကို လေ့လာကြရအောင်။  \n",
    "ဖြေပြီးရလာတဲ့ ဖိုင်တွေကို မြင်သာအောင် ဖိုလ်ဒါအသစ်တစ်ခု \"screen-archive/\" ဆိုတာကို   \n",
    "\"mkdir\" command နဲ့ဆောက်ပြီးတော့မှ၊  \"tar\" command ကို သုံးပြီးတော့ အဲဒီဖိုလ်ဒါထဲကို ဖိုင်တွေကို ဖြေခိုင်းကြည့်ရအောင်။  "
   ]
  },
  {
   "cell_type": "code",
   "execution_count": 51,
   "metadata": {},
   "outputs": [],
   "source": [
    "mkdir ./screen-archive/"
   ]
  },
  {
   "cell_type": "code",
   "execution_count": 54,
   "metadata": {},
   "outputs": [
    {
     "name": "stdout",
     "output_type": "stream",
     "text": [
      "./screen/\n",
      "./screen/scp-eg-usage-cp-file-from-remote.png\n",
      "./screen/kyoto.png\n",
      "./screen/KaKhaGa-output.png\n",
      "./screen/okayama.png\n",
      "./screen/xrgs-alone-testing.png\n",
      "./screen/man-ru-man.png\n",
      "./screen/man-usEngman.png\n",
      "./screen/mandalay.png\n",
      "./screen/scp-port-error-eg.png\n",
      "./screen/xargs-p-option-screen.png\n",
      "./screen/echo-kagyi.png\n",
      "./screen/dmesg-tensorflow-program.png\n",
      "./screen/output-of-time-command.png\n",
      "./screen/redirections.png\n",
      "./screen/top-after-nohup-command.png\n",
      "./screen/bayesian-formula.png\n",
      "./screen/check-with-ps.png\n",
      "./screen/regular_expressions.png\n",
      "./screen/less-cmd-output.png\n",
      "./screen/usr-bin-time-command.png\n",
      "./screen/man-jp-man.png\n"
     ]
    }
   ],
   "source": [
    "tar -xvf ./screen.tar -C ./screen-archive/"
   ]
  },
  {
   "cell_type": "code",
   "execution_count": 55,
   "metadata": {},
   "outputs": [
    {
     "name": "stdout",
     "output_type": "stream",
     "text": [
      "\u001b[0m\u001b[01;34mscreen\u001b[0m\n"
     ]
    }
   ],
   "source": [
    "ls ./screen-archive/"
   ]
  },
  {
   "cell_type": "markdown",
   "metadata": {},
   "source": [
    "အထက်ပါအတိုင်း screen ဖိုလ်ဒါက ./screen-archive/ အောက်မှာသိမ်းပေးထားတာကို တွေ့ရပါလိမ့်မယ်။ အဲဒီ screen ဖိုလ်ဒါအောက်မှာ ဖြေထားပြီးသားဖိုင်တွေအားလုံးလည်း ရှိပါလိမ့်မယ်။   \n",
    "\n",
    "နောက်တစ်ခု သင်ပေးချင်တာကတော့ tar archive ဖိုင်ကို မဖြေပဲနဲ့ အဲဒီအထဲမှာ ဘာဖိုင်တွေရှိသလဲ၊ ဘာဖိုလ်ဒါတွေရှိသလဲ ဆိုတာကို list လုပ်ကြည့်တဲ့ option ပါ။ အဲဒါကတော့ -tvf ဆိုတဲ့ option အတွဲကို သုံးပါတယ်။ ဒီနေရာမှာ \"t\" option က \"list content\" ကို ကိုယ်စားပြုပါတယ်။ အောက်ပါအတိုင်း run ပြထားတာကို လေ့လာကြည့်ပါ။  "
   ]
  },
  {
   "cell_type": "code",
   "execution_count": 57,
   "metadata": {},
   "outputs": [
    {
     "name": "stdout",
     "output_type": "stream",
     "text": [
      "drwxrwxr-x lar/lar           0 2018-05-19 02:20 ./screen/\n",
      "-rw-rw-r-- lar/lar       35791 2018-01-08 12:49 ./screen/scp-eg-usage-cp-file-from-remote.png\n",
      "-rw-rw-r-- lar/lar       44638 2018-01-23 15:04 ./screen/kyoto.png\n",
      "-rw-rw-r-- lar/lar       12080 2017-08-11 11:14 ./screen/KaKhaGa-output.png\n",
      "-rw-rw-r-- lar/lar       42616 2018-01-23 15:02 ./screen/okayama.png\n",
      "-rw-rw-r-- lar/lar       14881 2017-09-03 20:52 ./screen/xrgs-alone-testing.png\n",
      "-rw-rw-r-- lar/lar      151901 2017-09-02 09:31 ./screen/man-ru-man.png\n",
      "-rw-rw-r-- lar/lar      169547 2017-09-02 09:01 ./screen/man-usEngman.png\n",
      "-rw-rw-r-- lar/lar       38424 2018-01-23 15:03 ./screen/mandalay.png\n",
      "-rw-rw-r-- lar/lar       31983 2018-01-08 13:26 ./screen/scp-port-error-eg.png\n",
      "-rw-rw-r-- lar/lar       35679 2017-09-03 21:29 ./screen/xargs-p-option-screen.png\n",
      "-rw-rw-r-- lar/lar        9379 2017-08-11 11:14 ./screen/echo-kagyi.png\n",
      "-rw-rw-r-- lar/lar      142951 2018-04-12 02:25 ./screen/dmesg-tensorflow-program.png\n",
      "-rw-rw-r-- lar/lar       15456 2017-12-27 17:16 ./screen/output-of-time-command.png\n",
      "-rw-rw-r-- lar/lar        7622 2017-08-13 11:59 ./screen/redirections.png\n",
      "-rw-rw-r-- lar/lar       63735 2017-12-27 16:26 ./screen/top-after-nohup-command.png\n",
      "-rw-rw-r-- lar/lar        4975 2017-08-11 11:14 ./screen/bayesian-formula.png\n",
      "-rw-rw-r-- lar/lar       44753 2017-12-27 16:36 ./screen/check-with-ps.png\n",
      "-rw-rw-r-- lar/lar      107151 2017-08-12 13:12 ./screen/regular_expressions.png\n",
      "-rw-rw-r-- lar/lar       17560 2017-08-11 17:59 ./screen/less-cmd-output.png\n",
      "-rw-rw-r-- lar/lar       66710 2017-12-27 18:54 ./screen/usr-bin-time-command.png\n",
      "-rw-rw-r-- lar/lar      166198 2017-09-02 09:00 ./screen/man-jp-man.png\n"
     ]
    }
   ],
   "source": [
    "tar -tvf ./screen.tar"
   ]
  },
  {
   "cell_type": "markdown",
   "metadata": {},
   "source": [
    "တစ်ခါတစ်လေမှာ ကျွန်တော်တို့က archive လုပ်ထားတဲ့ ဖိုင်တွေအများကြီးထဲကမှ ဖိုင်တစ်ဖိုင်ထဲကိုပဲ ဖြေခိုင်းချင်တဲ့ အခါမျိုး ရှိပါတယ်။  \n",
    "အဲဒီလို အခါမျိုးမှာတော့ \"-xvf\" option အတွဲရဲ့နောက်မှာ tar ဖိုင်နာမည်ကို ရိုက်ပြီး၊ ဖြေပေးချင်တဲ့ ဖိုင်တစ်ဖိုင်ရဲ့ နာမည်ကိုပါ ရိုက်တဲ့ ပုံစံမျိုး ဖြစ်ပါတယ်။ အောက်ပါ ဥပမာကို ကြည့်ပါ။     \n"
   ]
  },
  {
   "cell_type": "code",
   "execution_count": 58,
   "metadata": {},
   "outputs": [
    {
     "name": "stdout",
     "output_type": "stream",
     "text": [
      "./screen/mandalay.png\n"
     ]
    }
   ],
   "source": [
    "tar -xvf screen.tar ./screen/mandalay.png"
   ]
  },
  {
   "cell_type": "markdown",
   "metadata": {},
   "source": [
    "ဒီနေရာမှာ မှားတတ်တဲ့အမှားက archive ဖိုင်ကို list လုပ်ကြည့်ပြီး မြင်ရတဲ့ full path အတိုင်း မရိုက်မိပဲ အောက်ပါအတိုင်း ဖိုင်နာမည် တစ်ခုထဲကိုပဲ ရိုက်မိတဲ့ ကိစ္စမျိုးပါ။\n",
    "\n",
    "```\n",
    "tar -xvf screen.tar mandalay.png\n",
    "```\n",
    "\n",
    "အဲဒီလိုဆိုရင်တော့ \"tar\" command က အောက်ပါအတိုင်း error message ပေးပါလိမ့်မယ်။  \n",
    "\n",
    "```\n",
    "tar: mandalay.png: Not found in archive\n",
    "tar: Exiting with failure status due to previous errors\n",
    "```\n"
   ]
  },
  {
   "cell_type": "markdown",
   "metadata": {},
   "source": [
    "## 54. zless (viewing of compressed text)\n",
    "zip လုပ်ထားတဲ့ ဖိုင်ကို မဖြေပဲ အထဲမှာ ဘာတွေရေးထားသလဲ ဆိုတာကို ကြည့်ချင်တဲ့ အခါမှာ သုံးတဲ့ command ဖြစ်ပါတယ်။  \n",
    "ဥပမာ otest.gz ဖိုင်ကို zless သုံးပြီး ကြည့်ကြည့်ရအောင်။ "
   ]
  },
  {
   "cell_type": "code",
   "execution_count": 62,
   "metadata": {},
   "outputs": [
    {
     "name": "stdout",
     "output_type": "stream",
     "text": [
      "အနောက်တိုင်း/n ဒဿနိကဗေဒ/n မူ/conj သေးလီး/n ဆို/v သော/part ဂရိ/n ပညာရှိ/n ကြီး/part မှ/ppm စတင်/v ပေါက်ပွား/v လာ/part လေ/part သည်/ppm ။/punc\n",
      "အများအားဖြင့်/adv သို့မဟုတ်/conj အားလုံး/pron မ/part_neg ဟုတ်/v သော/part စစ်/n အစိုးရ/n ၏/ppm အဖွဲ့ဝင်/n အများစု/pron သည်/ppm ဖျက်သိမ်း/v လိုက်/part သည့်/part နဝတ/abb အဖွဲ့/n ထဲ/ppm မှ/ppm အဖွဲ့ဝင်/n များ/part ပင်/part ဖြစ်/v သည်/ppm ။/punc\n",
      "အမျိုးသား/n ဒီမိုကရေစီ/n အဖွဲ့ချုပ်/n မှ/ppm အနိုင်/n ရရှိ/v ကြောင်း/part နိုင်ငံတော်/n ငြိမ်ပိ/abb က/ppm ကြေညာ/v သော်လည်း/conj အာဏာ/n လွှဲပြောင်းရေး/n နှင့်/ppm ပတ်သက်/v ၍/conj တိတိကျကျ/adv မ/part_neg ကြေညာ/v သေး/part ပေ/part ။/punc\n"
     ]
    }
   ],
   "source": [
    "zless otest.gz | head -3"
   ]
  },
  {
   "cell_type": "markdown",
   "metadata": {},
   "source": [
    "## 55. shutdown (Halt, power-off or reboot the machine)\n",
    "စက်ကို ပိတ်ဖို့၊ reboot လုပ်ဖို့အတွက် သုံးတဲ့ command ပါ။  \n",
    "အောက်ပါ command သုံးမျိုးကို မှတ်ထားရင် လုံလောက်ပါတယ်။  \n",
    "\n",
    "အခုချက်ခြင်း shutdown လုပ်ချင်တဲ့ အခါမှာ  \n",
    "\n",
    "```\n",
    "shutdown now\n",
    "```\n",
    "\n",
    "Reboot လုပ်ချင်တဲ့ အခါမှာတော့ အောက်ပါအတိုင်း သုံးပါတယ်။  \n",
    "\n",
    "```\n",
    "shutdown -r now\n",
    "```\n",
    "\n",
    "အချိန် သတ်မှတ်ပြီး shutdown လုပ်စေချင်တဲ့ အခါမျိုးမှာတော့ အောက်ပါအတိုင်း \"shutdown\" command ကို သုံးပါတယ်။  \n",
    "\n",
    "```\n",
    "shutdown 23:00\n",
    "```\n",
    "\n",
    "ည ၁၁နာရီမှာ စက်ပိတ်ပေးပါလိမ့်မယ်။  "
   ]
  },
  {
   "cell_type": "markdown",
   "metadata": {},
   "source": [
    "## 56. apt-get\n",
    "apt က (the Advanced Packaging Tool) ရဲ့ အတိုကောက် ဖြစ်ပါတယ်။ Debian (.deb) software packaging system နဲ့ ဖြန်ဝေတဲ့ software တွေကို internet က တဆင့် install လုပ်တဲ့အခါ၊ update လုပ်တဲ့အခါ၊ ပြန်ဖြုတ် (un-install) လုပ်တဲ့အခါမှာ အသုံးဝင်တဲ့ command ဖြစ်ပါတယ်။ ဒီ \"apt-get\" command မှာလည်း linux command တွေရဲ့ ထုံးစံအတိုင်း option တွေ အများကြီးရှိပါတယ်။ အသုံးပြုပုံ တစ်ချို့ကို မိတ်ဆက်ပေးပါမယ်။   \n",
    "\n",
    "ဖိုလ်ဒါတွေကို tree structure အနေနဲ့ ပြသပေးနိုင်တဲ့ \"tree\" command (or package)  ကို apt-get command ရဲ့ \"install\" option ကို သုံးပြီး installation လုပ်ကြည့်ရအောင်။  \n",
    "\n",
    "```\n",
    "lar@lar-air:~/linux-cmd$ sudo apt-get install tree\n",
    "Reading package lists... Done\n",
    "Building dependency tree       \n",
    "Reading state information... Done\n",
    "The following NEW packages will be installed:\n",
    "  tree\n",
    "0 upgraded, 1 newly installed, 0 to remove and 117 not upgraded.\n",
    "Need to get 40.6 kB of archives.\n",
    "After this operation, 138 kB of additional disk space will be used.\n",
    "Get:1 http://jp.archive.ubuntu.com/ubuntu xenial/universe amd64 tree amd64 1.7.0-3 [40.6 kB]\n",
    "Fetched 40.6 kB in 0s (40.6 kB/s)       \n",
    "Selecting previously unselected package tree.\n",
    "(Reading database ... 369636 files and directories currently installed.)\n",
    "Preparing to unpack .../tree_1.7.0-3_amd64.deb ...\n",
    "Unpacking tree (1.7.0-3) ...\n",
    "Processing triggers for man-db (2.7.5-1) ...\n",
    "Setting up tree (1.7.0-3) ...\n",
    "```\n",
    "\n",
    "install လုပ်ပြီးသွားပြီဆိုရင် အထက်မှာ archive လုပ်ပြီး ပြန်ဖြေထားတဲ့ ဖိုလ်ဒါဖြစ်တဲ့ ./screen-archive/ ကို tree ပုံစံနဲ့ ပြခိုင်းကြည့်ရအောင်။ အောက်ပါအတိုင်း မြင်ရပါလိမ့်မယ်။  "
   ]
  },
  {
   "cell_type": "code",
   "execution_count": 1,
   "metadata": {},
   "outputs": [
    {
     "name": "stdout",
     "output_type": "stream",
     "text": [
      "\u001b[01;34m./screen-archive/\u001b[00m\n",
      "└── \u001b[01;34mscreen\u001b[00m\n",
      "    ├── \u001b[01;35mbayesian-formula.png\u001b[00m\n",
      "    ├── \u001b[01;35mcheck-with-ps.png\u001b[00m\n",
      "    ├── \u001b[01;35mdmesg-tensorflow-program.png\u001b[00m\n",
      "    ├── \u001b[01;35mecho-kagyi.png\u001b[00m\n",
      "    ├── \u001b[01;35mKaKhaGa-output.png\u001b[00m\n",
      "    ├── \u001b[01;35mkyoto.png\u001b[00m\n",
      "    ├── \u001b[01;35mless-cmd-output.png\u001b[00m\n",
      "    ├── \u001b[01;35mmandalay.png\u001b[00m\n",
      "    ├── \u001b[01;35mman-jp-man.png\u001b[00m\n",
      "    ├── \u001b[01;35mman-ru-man.png\u001b[00m\n",
      "    ├── \u001b[01;35mman-usEngman.png\u001b[00m\n",
      "    ├── \u001b[01;35mokayama.png\u001b[00m\n",
      "    ├── \u001b[01;35moutput-of-time-command.png\u001b[00m\n",
      "    ├── \u001b[01;35mredirections.png\u001b[00m\n",
      "    ├── \u001b[01;35mregular_expressions.png\u001b[00m\n",
      "    ├── \u001b[01;35mscp-eg-usage-cp-file-from-remote.png\u001b[00m\n",
      "    ├── \u001b[01;35mscp-port-error-eg.png\u001b[00m\n",
      "    ├── \u001b[01;35mtop-after-nohup-command.png\u001b[00m\n",
      "    ├── \u001b[01;35musr-bin-time-command.png\u001b[00m\n",
      "    ├── \u001b[01;35mxargs-p-option-screen.png\u001b[00m\n",
      "    └── \u001b[01;35mxrgs-alone-testing.png\u001b[00m\n",
      "\n",
      "1 directory, 21 files\n"
     ]
    }
   ],
   "source": [
    "tree ./screen-archive/"
   ]
  },
  {
   "cell_type": "markdown",
   "metadata": {},
   "source": [
    "install လုပ်ထားတဲ့ package ကို \"apt-get\" command နဲ့ ပြန်ဖြုတ်ချင်တယ်ဆိုရင် \"remove\" option နဲ့ run ယုံပါပဲ။  \n",
    "စောစောက install လုပ်ထားခဲ့တဲ့ \"tree package\" ကို remove လုပ်တဲ့အခါမှာ မော်နီတာမှာ မြင်ရမဲ့ output ပုံစံကို လေ့လာလို့ ရအောင် copy-paste လုပ်ပေးထားပါတယ်။  \n",
    "\n",
    "```\n",
    "lar@lar-air:~/linux-cmd$ sudo apt-get remove tree\n",
    "Reading package lists... Done\n",
    "Building dependency tree       \n",
    "Reading state information... Done\n",
    "The following packages will be REMOVED:\n",
    "  tree\n",
    "0 upgraded, 0 newly installed, 1 to remove and 117 not upgraded.\n",
    "After this operation, 138 kB disk space will be freed.\n",
    "Do you want to continue? [Y/n] Y\n",
    "(Reading database ... 369642 files and directories currently installed.)\n",
    "Removing tree (1.7.0-3) ...\n",
    "Processing triggers for man-db (2.7.5-1) ...\n",
    "```\n",
    "\n",
    "package တွေကို install လုပ်တာတို့ remove လုပ်တာတို့ လုပ်ဖို့အတွက်က \"sudo\" command ကိုခံပြီး သုံးဖို့ လိုအပ်ပါလိမ့်မယ်။  \n",
    "apt-get command လို အလားတူ package management ထဲမှာ ထင်ရှားတာကတော့ Red Hat Enterprise Linux ရဲ့ RPM software package တွေကို management tool ဖြစ်တဲ့ \"yum\" command ဖြစ်ပါတယ်။ ဒီမှာတော့ ရှင်းမပြတော့ပါဘူး။ အချိန်ရတဲ့ အခါမှာ လေ့လာကြည့်ပါ။  "
   ]
  },
  {
   "cell_type": "markdown",
   "metadata": {},
   "source": [
    "## 57. curl\n",
    "\"curl\" command က server ကနေ၊ ဒါမှမဟုတ် server ဆီကို protocol တစ်ခုခု (ဥပမာ HTTP, HTTPS, IMAP, IMAPS, LDAP, LDAPS, POP3, POP3S, SCP, SFTP, SMB, SMBS, SMTP, SMTPS, TELNET and TFTP စတဲ့) ကို အသုံးပြုပြီး ဒေတာတွေကို ပို့ပေးတာ၊ ဒေါင်းလုဒ်လုပ်ယူတာတွေကို လုပ်တဲ့ အခါမှာ အသုံးဝင်တဲ့ command ဖြစ်ပါတယ်။  \n",
    "\n",
    "ပုံမှန်အားဖြင့်က output က မောနီတာစကရင်မှာ ရိုက်ပြပေးပါလိမ့်မယ်။  \n",
    "ဥပမာ \"https://www.wikipedia.org/\" လင့်(ခ်) ကို အောက်ပါအတိုင်း \"curl\" command ကို pass လုပ်ပေးကြည့်ပါ။  \n",
    "\n",
    "\n",
    "```\n",
    "curl https://www.wikipedia.org/\n",
    "```\n",
    "\n",
    "မော်နီတာစကရင်မှာ ရိုက်ပြတာမျိုး မဟုတ်ပဲ ဖိုင်အနေနဲ့ သိမ်းမယ် ဆိုရင်လည်း သိမ်းခိုင်းလို့ ရပါတယ်။\n",
    "အောက်ပါ ဥပမာကို ကြည့်ပါ။  "
   ]
  },
  {
   "cell_type": "code",
   "execution_count": 2,
   "metadata": {},
   "outputs": [
    {
     "name": "stdout",
     "output_type": "stream",
     "text": [
      "  % Total    % Received % Xferd  Average Speed   Time    Time     Time  Current\n",
      "                                 Dload  Upload   Total   Spent    Left  Speed\n",
      "100 75232  100 75232    0     0  27587      0  0:00:02  0:00:02 --:--:-- 27894\n"
     ]
    }
   ],
   "source": [
    "curl https://www.wikipedia.org/ > ./wikipedia.html"
   ]
  },
  {
   "cell_type": "markdown",
   "metadata": {},
   "source": [
    "တကယ်လို့ သုံးနေတဲ့ browser က Google Chrome ဆိုရင် \"curl\" command နဲ့ download လုပ်ထားတဲ့ webpage ကို  \n",
    "အောက်ပါ command နဲ့ဖွင့်ကြည့်နိုင်ပါတယ်။  \n",
    "\n",
    "```\n",
    "google-chrome ./wikipedia-main-page.html\n",
    "```\n",
    "\n",
    "<span style=\"color:red\"> website က image တွေပါမလာတာမျိုးတော့ ဖြစ်တတ်ပါတယ်။ </span> \n",
    "\n",
    "ဒေါင်းလုဒ်လုပ်ခွင့်ပြုထားပြီး၊ လင့်(ခ်)က အင်တာနက်နဲ့ ကောင်းကောင်း ချိတ်ဆက်နေတယ်ဆိုရင် ဒေတာတွေ၊ ပုံတွေ၊ program installation package တွေ (ဥပမာ Ubuntu OS iso ဖိုင်) စတဲ့ ဖိုင်အမျိုးမျိုးကို ဒေါင်းလုဒ်လုပ်တာမျိုး လုပ်လို့ရပါတယ်။  \n",
    "အသုံးဝင်ပါတယ်။  "
   ]
  },
  {
   "cell_type": "markdown",
   "metadata": {},
   "source": [
    "## 58. wget \n",
    "\"wget\" command ကလည်း \"curl\" command လိုပါပဲ။ web ကနေ ဒေတာတွေကို ကိုယ့်ရဲ့စက်ထဲကို ဒေါင်းလုဒ်လုပ်တဲ့ အခါမှာ သုံးပါတယ်။ HTTP, HTTPS, FTP protocol တွေကို support လုပ်ပါတယ်။ တကယ်လို့ ကိုယ့်ရဲ့ စက်ထဲမှာ wget ပရိုဂရမ်က install မလုပ်ရသေးဘူးဆိုရင်တော့ \"sudo apt-get install wget\" လို package manager command တစ်ခုခုကို သုံးပြီး အရင် installation လုပ်ရပါလိမ့်မယ်။  \n",
    "\n",
    "ဒီတစ်ခါတော့ weather information ကို ပုံအနေနဲ့ဒေါင်းလုဒ် လုပ်ယူလို့ရတဲ့ \"wttr.in\" ဆိုတဲ့ website ကနေ Okayama မြို့ရဲ့ 23 Jan 2018 ရက်စွဲနဲ့မိုးလေဝသ သတင်းကို အောက်ပါအတိုင်း okayama.png ဆိုတဲ့ နာမည်နဲ့ သိမ်းပါမယ်။  \n",
    "\n",
    "```bash\n",
    "wget wttr.in/okayama.png\n",
    "```\n",
    "\n",
    "အဲဒီပုံကတော့ အောက်ပါအတိုင်းဖြစ်ပါတယ်။ ၂၃ရက် ဇန္နဝါရီလမှာ ကျွန်တော်က run ခဲ့တာမို့ ၂၃ရက်၊ ၂၄ရက်၊ ၂၅ရက် သုံးရက်စာအတွက် အိုကယာမမြို့ရဲ့ မိုးလေဝသခန့်မှန်းချက် ပုံကို ရရှိပါတယ်။  \n"
   ]
  },
  {
   "cell_type": "markdown",
   "metadata": {},
   "source": [
    "<img src=\"./screen/okayama.png\" alt=\"wget usage example with wttr.in site\">"
   ]
  },
  {
   "cell_type": "markdown",
   "metadata": {},
   "source": [
    "\"wget\" command ရဲ့ အသုံးဝင်တဲ့ option တစ်ခုကတော့ \"-c\" (--continue) ဖြစ်ပါတယ်။ ဖိုင်ဆိုက်ကြီးတဲ့ ဒေတာတွေကို wget နဲ့ ဒေါင်းလုဒ်လုပ်နေရင်းနဲ့ မပြီးသေးပဲ connection က ပြတ်သွားတဲ့ အခါမျိုးမှာ၊ အကြောင်းတစ်ခုခုကြောင့် ဒေါင်းလုဒ်လုပ်နေရင်းတန်းလန်းနဲ့ ရပ်သွားတဲ့ အခါမျိုးမှာ၊ လက်ရှိ ဒေါင်းလုဒ်လုပ်ပြီးသားနေရာကနေ နောက်တစ်ခေါက် ပြန်စပြီး ဒေါင်းလုဒ်လုပ်ခိုင်းဖို့အတွက် သုံးပါတယ်။  "
   ]
  },
  {
   "cell_type": "markdown",
   "metadata": {},
   "source": [
    "## 59.  dmesg (print or control the kernel ring buffer)\n",
    "\"dmesg\" command က Linux Operating System ရဲ့ အဓိကအပိုင်းအဖြစ်တဲ့ kernel ရဲ့ message တွေကို ရိုက်ထုတ်ပြဖို့ အသုံးဝင်ပါတယ်။ ဒီ command က ကျွန်တော် နေ့စဉ်လိုလိုအသုံးပြုနေတဲ့ command ထဲမှာ မပါပါဘူး။ ဒါပေမဲ့ system မှာ တစ်ခုခု ပြဿနာ ဖြစ်လာတဲ့အခါ troubleshooting အတွက် သို့မဟုတ် hardware နဲ့ ပတ်သက်တဲ့ information တွေကို ရယူချင်တဲ့ အခါမှာ အသုံးဝင်တဲ့ command မို့လို့ သိထားသင့်တဲ့ command list ထဲမှာ ထည့်ထားလိုက်တာပါ။\n",
    "\n",
    "dmesg လို့ command prompt မှာ ရိုက်ထည့်ပြီး run လိုက်ရင် ပြပေးတဲ့ message က များတာကြောင့် pipe နဲ့ \"less\" command ဆီကို pass လုပ်ပြီး ကြည့်ပါ။  \n",
    "\n",
    "```\n",
    "dmesg | less\n",
    "```\n",
    "\n",
    "လုပ်လေ့လုပ်ထ ရှိတဲ့ ပုံစံကတော့ မသင်္ကာတဲ့ hardware information ကို grep နဲ့ ဆွဲထုတ်ယူကြည့်တဲ့ ပုံစံဖြစ်ပါတယ်။  \n",
    "ဥပမာ USB (Universal Serial Bus) နဲ့ ပတ်သက်တဲ့ information ကို ရယူချင်တဲ့ အခါမှာ အောက်ပါအတိုင်း command ပေးပါတယ်။  \n"
   ]
  },
  {
   "cell_type": "code",
   "execution_count": 8,
   "metadata": {},
   "outputs": [
    {
     "name": "stdout",
     "output_type": "stream",
     "text": [
      "[    1.728422] \u001b[01;31m\u001b[Kusb\u001b[m\u001b[K 1-1: New \u001b[01;31m\u001b[KUSB\u001b[m\u001b[K device found, idVendor=8087, idProduct=0024\n",
      "[    1.728424] \u001b[01;31m\u001b[Kusb\u001b[m\u001b[K 1-1: New \u001b[01;31m\u001b[KUSB\u001b[m\u001b[K device strings: Mfr=0, Product=0, SerialNumber=0\n",
      "[    1.728672] hub 1-1:1.0: \u001b[01;31m\u001b[KUSB\u001b[m\u001b[K hub found\n",
      "[    1.752418] \u001b[01;31m\u001b[Kusb\u001b[m\u001b[K 2-1: New \u001b[01;31m\u001b[KUSB\u001b[m\u001b[K device found, idVendor=8087, idProduct=0024\n",
      "[    1.752420] \u001b[01;31m\u001b[Kusb\u001b[m\u001b[K 2-1: New \u001b[01;31m\u001b[KUSB\u001b[m\u001b[K device strings: Mfr=0, Product=0, SerialNumber=0\n",
      "[    1.752695] hub 2-1:1.0: \u001b[01;31m\u001b[KUSB\u001b[m\u001b[K hub found\n",
      "[    1.774906] \u001b[01;31m\u001b[Kusb\u001b[m\u001b[K 3-2: New \u001b[01;31m\u001b[KUSB\u001b[m\u001b[K device found, idVendor=04b3, idProduct=3107\n",
      "[    1.774908] \u001b[01;31m\u001b[Kusb\u001b[m\u001b[K 3-2: New \u001b[01;31m\u001b[KUSB\u001b[m\u001b[K device strings: Mfr=0, Product=0, SerialNumber=0\n",
      "[    1.782780] \u001b[01;31m\u001b[Kusb\u001b[m\u001b[Kcore: registered new interface driver \u001b[01;31m\u001b[Kusb\u001b[m\u001b[Khid\n",
      "[    1.782780] \u001b[01;31m\u001b[Kusb\u001b[m\u001b[Khid: \u001b[01;31m\u001b[KUSB\u001b[m\u001b[K HID core driver\n",
      "[    1.784169] input: HID 04b3:3107 as /devices/pci0000:00/0000:00:14.0/\u001b[01;31m\u001b[Kusb\u001b[m\u001b[K3/3-2/3-2:1.0/0003:04B3:3107.0001/input/input5\n",
      "[    1.784287] hid-generic 0003:04B3:3107.0001: input,hidraw0: \u001b[01;31m\u001b[KUSB\u001b[m\u001b[K HID v1.00 Mouse [HID 04b3:3107] on \u001b[01;31m\u001b[Kusb\u001b[m\u001b[K-0000:00:14.0-2/input0\n",
      "[    2.020058] \u001b[01;31m\u001b[Kusb\u001b[m\u001b[K 1-1.1: new high-speed \u001b[01;31m\u001b[KUSB\u001b[m\u001b[K device number 3 using ehci-pci\n",
      "[    2.040057] \u001b[01;31m\u001b[Kusb\u001b[m\u001b[K 2-1.8: new high-speed \u001b[01;31m\u001b[KUSB\u001b[m\u001b[K device number 3 using ehci-pci\n",
      "[    2.148405] \u001b[01;31m\u001b[Kusb\u001b[m\u001b[K 2-1.8: New \u001b[01;31m\u001b[KUSB\u001b[m\u001b[K device found, idVendor=0424, idProduct=2513\n",
      "[    2.148407] \u001b[01;31m\u001b[Kusb\u001b[m\u001b[K 2-1.8: New \u001b[01;31m\u001b[KUSB\u001b[m\u001b[K device strings: Mfr=0, Product=0, SerialNumber=0\n",
      "[    2.148671] hub 2-1.8:1.0: \u001b[01;31m\u001b[KUSB\u001b[m\u001b[K hub found\n",
      "[    2.151532] \u001b[01;31m\u001b[Kusb\u001b[m\u001b[K 1-1.1: New \u001b[01;31m\u001b[KUSB\u001b[m\u001b[K device found, idVendor=05ac, idProduct=8510\n",
      "[    2.151533] \u001b[01;31m\u001b[Kusb\u001b[m\u001b[K 1-1.1: New \u001b[01;31m\u001b[KUSB\u001b[m\u001b[K device strings: Mfr=1, Product=2, SerialNumber=3\n",
      "[    2.151534] \u001b[01;31m\u001b[Kusb\u001b[m\u001b[K 1-1.1: Product: FaceTime HD Camera (Built-in)\n",
      "[    2.151535] \u001b[01;31m\u001b[Kusb\u001b[m\u001b[K 1-1.1: Manufacturer: Apple Inc.\n",
      "[    2.151536] \u001b[01;31m\u001b[Kusb\u001b[m\u001b[K 1-1.1: SerialNumber: CCGD4T01PEDWC8C0\n",
      "[    2.436066] \u001b[01;31m\u001b[Kusb\u001b[m\u001b[K 2-1.8.1: new full-speed \u001b[01;31m\u001b[KUSB\u001b[m\u001b[K device number 4 using ehci-pci\n",
      "[    2.549486] \u001b[01;31m\u001b[Kusb\u001b[m\u001b[K 2-1.8.1: New \u001b[01;31m\u001b[KUSB\u001b[m\u001b[K device found, idVendor=0a5c, idProduct=4500\n",
      "[    2.549489] \u001b[01;31m\u001b[Kusb\u001b[m\u001b[K 2-1.8.1: New \u001b[01;31m\u001b[KUSB\u001b[m\u001b[K device strings: Mfr=1, Product=2, SerialNumber=0\n",
      "[    2.549490] \u001b[01;31m\u001b[Kusb\u001b[m\u001b[K 2-1.8.1: Product: BRCM20702 Hub\n",
      "[    2.549492] \u001b[01;31m\u001b[Kusb\u001b[m\u001b[K 2-1.8.1: Manufacturer: Apple Inc.\n",
      "[    2.549804] hub 2-1.8.1:1.0: \u001b[01;31m\u001b[KUSB\u001b[m\u001b[K hub found\n",
      "[    2.632067] \u001b[01;31m\u001b[Kusb\u001b[m\u001b[K 2-1.8.2: new full-speed \u001b[01;31m\u001b[KUSB\u001b[m\u001b[K device number 5 using ehci-pci\n",
      "[    2.753943] \u001b[01;31m\u001b[Kusb\u001b[m\u001b[K 2-1.8.2: New \u001b[01;31m\u001b[KUSB\u001b[m\u001b[K device found, idVendor=05ac, idProduct=024e\n",
      "[    2.753945] \u001b[01;31m\u001b[Kusb\u001b[m\u001b[K 2-1.8.2: New \u001b[01;31m\u001b[KUSB\u001b[m\u001b[K device strings: Mfr=1, Product=2, SerialNumber=0\n",
      "[    2.753947] \u001b[01;31m\u001b[Kusb\u001b[m\u001b[K 2-1.8.2: Product: Apple Internal Keyboard / Trackpad\n",
      "[    2.753948] \u001b[01;31m\u001b[Kusb\u001b[m\u001b[K 2-1.8.2: Manufacturer: Apple Inc.\n",
      "[    2.836067] \u001b[01;31m\u001b[Kusb\u001b[m\u001b[K 2-1.8.1.1: new full-speed \u001b[01;31m\u001b[KUSB\u001b[m\u001b[K device number 6 using ehci-pci\n",
      "[    2.879194] Modules linked in: videobuf2_vmalloc videobuf2_memops snd_rawmidi videobuf2_v4l2 videobuf2_core videodev snd_seq snd_seq_device media snd_timer snd thunderbolt soundcore bcma lpc_ich mei_me mei shpchp acpi_als sbs(+) kfifo_buf sbshc industrialio mac_hid apple_bl parport_pc ppdev lp parport autofs4 hid_generic \u001b[01;31m\u001b[Kusb\u001b[m\u001b[Khid hid i915 uas \u001b[01;31m\u001b[Kusb\u001b[m\u001b[K_storage i2c_algo_bit drm_kms_helper syscopyarea ahci sysfillrect libahci sysimgblt fb_sys_fops drm video\n",
      "[    2.901934] input: FaceTime HD Camera (Built-in):  as /devices/pci0000:00/0000:00:1a.0/\u001b[01;31m\u001b[Kusb\u001b[m\u001b[K1/1-1/1-1.1/1-1.1:1.0/input/input6\n",
      "[    2.902000] \u001b[01;31m\u001b[Kusb\u001b[m\u001b[Kcore: registered new interface driver uvcvideo\n",
      "[    2.902001] \u001b[01;31m\u001b[KUSB\u001b[m\u001b[K Video Class driver (1.1.1)\n",
      "[    2.950286] \u001b[01;31m\u001b[Kusb\u001b[m\u001b[K 2-1.8.1.1: New \u001b[01;31m\u001b[KUSB\u001b[m\u001b[K device found, idVendor=05ac, idProduct=820a\n",
      "[    2.950289] \u001b[01;31m\u001b[Kusb\u001b[m\u001b[K 2-1.8.1.1: New \u001b[01;31m\u001b[KUSB\u001b[m\u001b[K device strings: Mfr=0, Product=0, SerialNumber=0\n",
      "[    2.952077] input: HID 05ac:820a as /devices/pci0000:00/0000:00:1d.0/\u001b[01;31m\u001b[Kusb\u001b[m\u001b[K2/2-1/2-1.8/2-1.8.1/2-1.8.1.1/2-1.8.1.1:1.0/0003:05AC:820A.0004/input/input7\n",
      "[    3.012153] hid-generic 0003:05AC:820A.0004: input,hidraw1: \u001b[01;31m\u001b[KUSB\u001b[m\u001b[K HID v1.11 Keyboard [HID 05ac:820a] on \u001b[01;31m\u001b[Kusb\u001b[m\u001b[K-0000:00:1d.0-1.8.1.1/input0\n",
      "[    3.028207] \u001b[01;31m\u001b[Kusb\u001b[m\u001b[K 2-1.8.3: new high-speed \u001b[01;31m\u001b[KUSB\u001b[m\u001b[K device number 7 using ehci-pci\n",
      "[    3.106065] input: bcm5974 as /devices/pci0000:00/0000:00:1d.0/\u001b[01;31m\u001b[Kusb\u001b[m\u001b[K2/2-1/2-1.8/2-1.8.2/2-1.8.2:1.2/input/input8\n",
      "[    3.106288] \u001b[01;31m\u001b[Kusb\u001b[m\u001b[Kcore: registered new interface driver bcm5974\n",
      "[    3.109680] input: Apple Inc. Apple Internal Keyboard / Trackpad as /devices/pci0000:00/0000:00:1d.0/\u001b[01;31m\u001b[Kusb\u001b[m\u001b[K2/2-1/2-1.8/2-1.8.2/2-1.8.2:1.0/0003:05AC:024E.0002/input/input9\n",
      "[    3.140283] \u001b[01;31m\u001b[Kusb\u001b[m\u001b[K 2-1.8.3: New \u001b[01;31m\u001b[KUSB\u001b[m\u001b[K device found, idVendor=05ac, idProduct=8404\n",
      "[    3.140286] \u001b[01;31m\u001b[Kusb\u001b[m\u001b[K 2-1.8.3: New \u001b[01;31m\u001b[KUSB\u001b[m\u001b[K device strings: Mfr=3, Product=4, SerialNumber=2\n",
      "[    3.140288] \u001b[01;31m\u001b[Kusb\u001b[m\u001b[K 2-1.8.3: Product: Card Reader\n",
      "[    3.140290] \u001b[01;31m\u001b[Kusb\u001b[m\u001b[K 2-1.8.3: Manufacturer: Apple\n",
      "[    3.140291] \u001b[01;31m\u001b[Kusb\u001b[m\u001b[K 2-1.8.3: SerialNumber: 000000000310\n",
      "[    3.148255] \u001b[01;31m\u001b[Kusb\u001b[m\u001b[K-storage 2-1.8.3:1.0: \u001b[01;31m\u001b[KUSB\u001b[m\u001b[K Mass Storage device detected\n",
      "[    3.149420] scsi host7: \u001b[01;31m\u001b[Kusb\u001b[m\u001b[K-storage 2-1.8.3:1.0\n",
      "[    3.168585] apple 0003:05AC:024E.0002: input,hidraw2: \u001b[01;31m\u001b[KUSB\u001b[m\u001b[K HID v1.11 Keyboard [Apple Inc. Apple Internal Keyboard / Trackpad] on \u001b[01;31m\u001b[Kusb\u001b[m\u001b[K-0000:00:1d.0-1.8.2/input0\n",
      "[    3.168772] apple 0003:05AC:024E.0003: hidraw3: \u001b[01;31m\u001b[KUSB\u001b[m\u001b[K HID v1.11 Device [Apple Inc. Apple Internal Keyboard / Trackpad] on \u001b[01;31m\u001b[Kusb\u001b[m\u001b[K-0000:00:1d.0-1.8.2/input1\n",
      "[    3.216069] \u001b[01;31m\u001b[Kusb\u001b[m\u001b[K 2-1.8.1.2: new full-speed \u001b[01;31m\u001b[KUSB\u001b[m\u001b[K device number 8 using ehci-pci\n",
      "[    3.326282] \u001b[01;31m\u001b[Kusb\u001b[m\u001b[K 2-1.8.1.2: New \u001b[01;31m\u001b[KUSB\u001b[m\u001b[K device found, idVendor=05ac, idProduct=820b\n",
      "[    3.326285] \u001b[01;31m\u001b[Kusb\u001b[m\u001b[K 2-1.8.1.2: New \u001b[01;31m\u001b[KUSB\u001b[m\u001b[K device strings: Mfr=0, Product=0, SerialNumber=0\n",
      "[    3.327305] input: HID 05ac:820b as /devices/pci0000:00/0000:00:1d.0/\u001b[01;31m\u001b[Kusb\u001b[m\u001b[K2/2-1/2-1.8/2-1.8.1/2-1.8.1.2/2-1.8.1.2:1.0/0003:05AC:820B.0005/input/input10\n",
      "[    3.327412] hid-generic 0003:05AC:820B.0005: input,hidraw4: \u001b[01;31m\u001b[KUSB\u001b[m\u001b[K HID v1.11 Mouse [HID 05ac:820b] on \u001b[01;31m\u001b[Kusb\u001b[m\u001b[K-0000:00:1d.0-1.8.1.2/input0\n",
      "[    3.404065] \u001b[01;31m\u001b[Kusb\u001b[m\u001b[K 2-1.8.1.3: new full-speed \u001b[01;31m\u001b[KUSB\u001b[m\u001b[K device number 9 using ehci-pci\n",
      "[    3.518653] \u001b[01;31m\u001b[Kusb\u001b[m\u001b[K 2-1.8.1.3: New \u001b[01;31m\u001b[KUSB\u001b[m\u001b[K device found, idVendor=05ac, idProduct=821f\n",
      "[    3.518657] \u001b[01;31m\u001b[Kusb\u001b[m\u001b[K 2-1.8.1.3: New \u001b[01;31m\u001b[KUSB\u001b[m\u001b[K device strings: Mfr=1, Product=2, SerialNumber=0\n",
      "[    3.518658] \u001b[01;31m\u001b[Kusb\u001b[m\u001b[K 2-1.8.1.3: Product: Bluetooth \u001b[01;31m\u001b[KUSB\u001b[m\u001b[K Host Controller\n",
      "[    3.518660] \u001b[01;31m\u001b[Kusb\u001b[m\u001b[K 2-1.8.1.3: Manufacturer: Apple Inc.\n",
      "[    3.585508] \u001b[01;31m\u001b[Kusb\u001b[m\u001b[Kcore: registered new interface driver bt\u001b[01;31m\u001b[Kusb\u001b[m\u001b[K\n",
      "[    3.688802] \u001b[01;31m\u001b[Kusb\u001b[m\u001b[K 2-1.8.1.1: \u001b[01;31m\u001b[KUSB\u001b[m\u001b[K disconnect, device number 6\n",
      "[    3.920521] \u001b[01;31m\u001b[Kusb\u001b[m\u001b[K 2-1.8.1.2: \u001b[01;31m\u001b[KUSB\u001b[m\u001b[K disconnect, device number 8\n",
      "[114639.353710] \u001b[01;31m\u001b[Kusb\u001b[m\u001b[K 4-1: \u001b[01;31m\u001b[KUSB\u001b[m\u001b[K disconnect, device number 2\n",
      "[140170.810247] \u001b[01;31m\u001b[Kusb\u001b[m\u001b[K 4-1: new SuperSpeed \u001b[01;31m\u001b[KUSB\u001b[m\u001b[K device number 3 using xhci_hcd\n",
      "[140170.831276] \u001b[01;31m\u001b[Kusb\u001b[m\u001b[K 4-1: New \u001b[01;31m\u001b[KUSB\u001b[m\u001b[K device found, idVendor=0bc2, idProduct=2322\n",
      "[140170.831281] \u001b[01;31m\u001b[Kusb\u001b[m\u001b[K 4-1: New \u001b[01;31m\u001b[KUSB\u001b[m\u001b[K device strings: Mfr=2, Product=3, SerialNumber=1\n",
      "[140170.831285] \u001b[01;31m\u001b[Kusb\u001b[m\u001b[K 4-1: Product: Expansion\n"
     ]
    },
    {
     "name": "stdout",
     "output_type": "stream",
     "text": [
      "[140170.831287] \u001b[01;31m\u001b[Kusb\u001b[m\u001b[K 4-1: Manufacturer: Seagate\n",
      "[140170.831290] \u001b[01;31m\u001b[Kusb\u001b[m\u001b[K 4-1: SerialNumber: 000000002ABC6989\n",
      "[158950.496203] \u001b[01;31m\u001b[Kusb\u001b[m\u001b[K 4-1: \u001b[01;31m\u001b[KUSB\u001b[m\u001b[K disconnect, device number 3\n",
      "[159051.553705] \u001b[01;31m\u001b[Kusb\u001b[m\u001b[K 3-1: new high-speed \u001b[01;31m\u001b[KUSB\u001b[m\u001b[K device number 3 using xhci_hcd\n",
      "[159051.694864] \u001b[01;31m\u001b[Kusb\u001b[m\u001b[K 3-1: New \u001b[01;31m\u001b[KUSB\u001b[m\u001b[K device found, idVendor=04bb, idProduct=0135\n",
      "[159051.694871] \u001b[01;31m\u001b[Kusb\u001b[m\u001b[K 3-1: New \u001b[01;31m\u001b[KUSB\u001b[m\u001b[K device strings: Mfr=10, Product=11, SerialNumber=3\n",
      "[159051.694876] \u001b[01;31m\u001b[Kusb\u001b[m\u001b[K 3-1: Product: I-O DATA HDPC-U\n",
      "[159051.694880] \u001b[01;31m\u001b[Kusb\u001b[m\u001b[K 3-1: Manufacturer: I-O DATA DEVICE, INC.\n",
      "[159051.694884] \u001b[01;31m\u001b[Kusb\u001b[m\u001b[K 3-1: SerialNumber: 000023D1A06018FA\n",
      "[159051.696231] \u001b[01;31m\u001b[Kusb\u001b[m\u001b[K-storage 3-1:1.0: \u001b[01;31m\u001b[KUSB\u001b[m\u001b[K Mass Storage device detected\n",
      "[159051.696626] scsi host6: \u001b[01;31m\u001b[Kusb\u001b[m\u001b[K-storage 3-1:1.0\n",
      "[159697.799808] \u001b[01;31m\u001b[Kusb\u001b[m\u001b[K 3-1: \u001b[01;31m\u001b[KUSB\u001b[m\u001b[K disconnect, device number 3\n",
      "[159722.982268] \u001b[01;31m\u001b[Kusb\u001b[m\u001b[K 3-1: new high-speed \u001b[01;31m\u001b[KUSB\u001b[m\u001b[K device number 4 using xhci_hcd\n",
      "[159723.123345] \u001b[01;31m\u001b[Kusb\u001b[m\u001b[K 3-1: New \u001b[01;31m\u001b[KUSB\u001b[m\u001b[K device found, idVendor=04bb, idProduct=0135\n",
      "[159723.123351] \u001b[01;31m\u001b[Kusb\u001b[m\u001b[K 3-1: New \u001b[01;31m\u001b[KUSB\u001b[m\u001b[K device strings: Mfr=10, Product=11, SerialNumber=3\n",
      "[159723.123354] \u001b[01;31m\u001b[Kusb\u001b[m\u001b[K 3-1: Product: I-O DATA HDPC-U\n",
      "[159723.123357] \u001b[01;31m\u001b[Kusb\u001b[m\u001b[K 3-1: Manufacturer: I-O DATA DEVICE, INC.\n",
      "[159723.123360] \u001b[01;31m\u001b[Kusb\u001b[m\u001b[K 3-1: SerialNumber: 000023D192301B25\n",
      "[159723.124186] \u001b[01;31m\u001b[Kusb\u001b[m\u001b[K-storage 3-1:1.0: \u001b[01;31m\u001b[KUSB\u001b[m\u001b[K Mass Storage device detected\n",
      "[159723.125367] scsi host6: \u001b[01;31m\u001b[Kusb\u001b[m\u001b[K-storage 3-1:1.0\n",
      "[161215.853318] \u001b[01;31m\u001b[Kusb\u001b[m\u001b[K 3-1: \u001b[01;31m\u001b[KUSB\u001b[m\u001b[K disconnect, device number 4\n",
      "[161235.171276] \u001b[01;31m\u001b[Kusb\u001b[m\u001b[K 3-1: new high-speed \u001b[01;31m\u001b[KUSB\u001b[m\u001b[K device number 5 using xhci_hcd\n",
      "[161235.319943] \u001b[01;31m\u001b[Kusb\u001b[m\u001b[K 3-1: New \u001b[01;31m\u001b[KUSB\u001b[m\u001b[K device found, idVendor=04bb, idProduct=0122\n",
      "[161235.319946] \u001b[01;31m\u001b[Kusb\u001b[m\u001b[K 3-1: New \u001b[01;31m\u001b[KUSB\u001b[m\u001b[K device strings: Mfr=1, Product=11, SerialNumber=3\n",
      "[161235.319947] \u001b[01;31m\u001b[Kusb\u001b[m\u001b[K 3-1: Product: I-O DATA HDPS-U\n",
      "[161235.319949] \u001b[01;31m\u001b[Kusb\u001b[m\u001b[K 3-1: Manufacturer: JMicron\n",
      "[161235.319950] \u001b[01;31m\u001b[Kusb\u001b[m\u001b[K 3-1: SerialNumber: 0010019557D3\n",
      "[161235.321544] \u001b[01;31m\u001b[Kusb\u001b[m\u001b[K-storage 3-1:1.0: \u001b[01;31m\u001b[KUSB\u001b[m\u001b[K Mass Storage device detected\n",
      "[161235.321838] scsi host6: \u001b[01;31m\u001b[Kusb\u001b[m\u001b[K-storage 3-1:1.0\n",
      "[161382.443199] \u001b[01;31m\u001b[Kusb\u001b[m\u001b[K 3-1: \u001b[01;31m\u001b[KUSB\u001b[m\u001b[K disconnect, device number 5\n",
      "[161903.898031] \u001b[01;31m\u001b[Kusb\u001b[m\u001b[K 4-1: new SuperSpeed \u001b[01;31m\u001b[KUSB\u001b[m\u001b[K device number 4 using xhci_hcd\n",
      "[161903.919751] \u001b[01;31m\u001b[Kusb\u001b[m\u001b[K 4-1: New \u001b[01;31m\u001b[KUSB\u001b[m\u001b[K device found, idVendor=0bc2, idProduct=2322\n",
      "[161903.919759] \u001b[01;31m\u001b[Kusb\u001b[m\u001b[K 4-1: New \u001b[01;31m\u001b[KUSB\u001b[m\u001b[K device strings: Mfr=2, Product=3, SerialNumber=1\n",
      "[161903.919764] \u001b[01;31m\u001b[Kusb\u001b[m\u001b[K 4-1: Product: Expansion\n",
      "[161903.919768] \u001b[01;31m\u001b[Kusb\u001b[m\u001b[K 4-1: Manufacturer: Seagate\n",
      "[161903.919772] \u001b[01;31m\u001b[Kusb\u001b[m\u001b[K 4-1: SerialNumber: 000000002AB70318\n",
      "[167265.636770] \u001b[01;31m\u001b[Kusb\u001b[m\u001b[K 4-1: \u001b[01;31m\u001b[KUSB\u001b[m\u001b[K disconnect, device number 4\n",
      "[341176.137947] \u001b[01;31m\u001b[Kusb\u001b[m\u001b[K 3-1: new full-speed \u001b[01;31m\u001b[KUSB\u001b[m\u001b[K device number 6 using xhci_hcd\n",
      "[341176.282195] \u001b[01;31m\u001b[Kusb\u001b[m\u001b[K 3-1: New \u001b[01;31m\u001b[KUSB\u001b[m\u001b[K device found, idVendor=056a, idProduct=033b\n",
      "[341176.282203] \u001b[01;31m\u001b[Kusb\u001b[m\u001b[K 3-1: New \u001b[01;31m\u001b[KUSB\u001b[m\u001b[K device strings: Mfr=1, Product=2, SerialNumber=0\n",
      "[341176.282208] \u001b[01;31m\u001b[Kusb\u001b[m\u001b[K 3-1: Product: Intuos PS\n",
      "[341176.282212] \u001b[01;31m\u001b[Kusb\u001b[m\u001b[K 3-1: Manufacturer: Wacom Co.,Ltd.\n",
      "[341176.324384] input: Wacom Intuos S 2 Pen as /devices/pci0000:00/0000:00:14.0/\u001b[01;31m\u001b[Kusb\u001b[m\u001b[K3/3-1/3-1:1.0/0003:056A:033B.0006/input/input15\n",
      "[341176.324595] wacom 0003:056A:033B.0006: hidraw1: \u001b[01;31m\u001b[KUSB\u001b[m\u001b[K HID v1.10 Device [Wacom Co.,Ltd. Intuos PS] on \u001b[01;31m\u001b[Kusb\u001b[m\u001b[K-0000:00:14.0-1/input0\n",
      "[341176.324829] input: Wacom Intuos S 2 Pad as /devices/pci0000:00/0000:00:14.0/\u001b[01;31m\u001b[Kusb\u001b[m\u001b[K3/3-1/3-1:1.1/0003:056A:033B.0007/input/input20\n",
      "[341176.325080] wacom 0003:056A:033B.0007: hidraw4: \u001b[01;31m\u001b[KUSB\u001b[m\u001b[K HID v1.10 Device [Wacom Co.,Ltd. Intuos PS] on \u001b[01;31m\u001b[Kusb\u001b[m\u001b[K-0000:00:14.0-1/input1\n",
      "[341545.060900] \u001b[01;31m\u001b[Kusb\u001b[m\u001b[K 3-1: \u001b[01;31m\u001b[KUSB\u001b[m\u001b[K disconnect, device number 6\n",
      "[354852.241112] \u001b[01;31m\u001b[Kusb\u001b[m\u001b[K 3-1: new full-speed \u001b[01;31m\u001b[KUSB\u001b[m\u001b[K device number 7 using xhci_hcd\n",
      "[354852.385504] \u001b[01;31m\u001b[Kusb\u001b[m\u001b[K 3-1: New \u001b[01;31m\u001b[KUSB\u001b[m\u001b[K device found, idVendor=056a, idProduct=033b\n",
      "[354852.385512] \u001b[01;31m\u001b[Kusb\u001b[m\u001b[K 3-1: New \u001b[01;31m\u001b[KUSB\u001b[m\u001b[K device strings: Mfr=1, Product=2, SerialNumber=0\n",
      "[354852.385517] \u001b[01;31m\u001b[Kusb\u001b[m\u001b[K 3-1: Product: Intuos PS\n",
      "[354852.385521] \u001b[01;31m\u001b[Kusb\u001b[m\u001b[K 3-1: Manufacturer: Wacom Co.,Ltd.\n",
      "[354852.391829] input: Wacom Intuos S 2 Pen as /devices/pci0000:00/0000:00:14.0/\u001b[01;31m\u001b[Kusb\u001b[m\u001b[K3/3-1/3-1:1.0/0003:056A:033B.0009/input/input21\n",
      "[354852.449987] wacom 0003:056A:033B.0009: hidraw1: \u001b[01;31m\u001b[KUSB\u001b[m\u001b[K HID v1.10 Device [Wacom Co.,Ltd. Intuos PS] on \u001b[01;31m\u001b[Kusb\u001b[m\u001b[K-0000:00:14.0-1/input0\n",
      "[354852.452402] input: Wacom Intuos S 2 Pad as /devices/pci0000:00/0000:00:14.0/\u001b[01;31m\u001b[Kusb\u001b[m\u001b[K3/3-1/3-1:1.1/0003:056A:033B.000A/input/input26\n",
      "[354852.453893] wacom 0003:056A:033B.000A: hidraw4: \u001b[01;31m\u001b[KUSB\u001b[m\u001b[K HID v1.10 Device [Wacom Co.,Ltd. Intuos PS] on \u001b[01;31m\u001b[Kusb\u001b[m\u001b[K-0000:00:14.0-1/input1\n",
      "[355005.128925] \u001b[01;31m\u001b[Kusb\u001b[m\u001b[K 3-1: \u001b[01;31m\u001b[KUSB\u001b[m\u001b[K disconnect, device number 7\n"
     ]
    }
   ],
   "source": [
    "dmesg | grep -i usb"
   ]
  },
  {
   "cell_type": "markdown",
   "metadata": {},
   "source": [
    "တကယ်လို့ memory နဲ့ ပတ်သက်တဲ့ information ကို ကြည့်ချင်တယ်ဆိုရင် အောက်ပါအတိုင်း command ပေးပါတယ်။  \n",
    "```\n",
    "dmesg | grep -i memory\n",
    "```\n",
    "\n",
    "လက်တွေ့ dmesg ကိုသုံးခဲ့တဲ့ ဥပမာကို ပြရရင်၊ တစ်ခါ notebook computer ပေါ်မှာ tensorflow (deep learning framework) ကိုသုံးပြီး image classification experiment ကို လုပ်နေရင်း python program က ရပ်သွားလို့ dmesg ကိုကြည့်ပြီး တွေ့ခဲ့ရတဲ့ monitor screen ကို လေ့လာလို့ရအောင် ထည့်ပြထားပါတယ်။ error က memory မနိုင်လို့ ဖြစ်ရကြောင်းကို သိရပါတယ်။  \n",
    "memory ကြောင့်ဖြစ်တယ်လို့ တွေ့ရတဲ့ အပိုင်းကတော့ အောက်ပါပုံအတိုင်း ဖြစ်ပါတယ်။   "
   ]
  },
  {
   "cell_type": "markdown",
   "metadata": {},
   "source": [
    "<img src=\"./screen/dmesg-tensorflow-program.png\" alt=\"dmesg practical troubleshooting\">"
   ]
  },
  {
   "cell_type": "markdown",
   "metadata": {},
   "source": [
    "တကယ်က dmesg ဖိုင်ကို system log ဖိုင်တစ်ခုအနေနဲ့ /var/log/ ဆိုတဲ့ path အောက်မှာ သိမ်းထားတာမို့လို့ text editor နဲ့ ဖွင့်ကြည့်တာမျိုး၊ အောက်ပါအတိုင်း \"cat\" နဲ့ \"less\" command တွေကို သုံးပြီး ကြည့်တာမျိုးလဲ လုပ်လို့ ရပါတယ်။  \n",
    "\n",
    "```\n",
    "cat /var/log/dmesg | less\n",
    "```"
   ]
  },
  {
   "cell_type": "markdown",
   "metadata": {},
   "source": [
    "## 60. compgen\n",
    "bash shell ရဲ့ built-in command တွေအားလုံးကို ကြည့်ချင်ရင် \"compgen\" ကို \"-b\" option နဲ့ run ရင် ပြပေးပါလိမ့်မယ်။"
   ]
  },
  {
   "cell_type": "code",
   "execution_count": 80,
   "metadata": {},
   "outputs": [
    {
     "name": "stdout",
     "output_type": "stream",
     "text": [
      ".\t\tcompopt\t\tfg\t\tpushd\t\ttrap\n",
      ":\t\tcontinue\tgetopts\t\tpwd\t\ttrue\n",
      "[\t\tdeclare\t\thash\t\tread\t\ttype\n",
      "alias\t\tdirs\t\thelp\t\treadarray\ttypeset\n",
      "bg\t\tdisown\t\thistory\t\treadonly\tulimit\n",
      "bind\t\techo\t\tjobs\t\treturn\t\tumask\n",
      "break\t\tenable\t\tkill\t\tset\t\tunalias\n",
      "builtin\t\teval\t\tlet\t\tshift\t\tunset\n",
      "caller\t\texec\t\tlocal\t\tshopt\t\twait\n",
      "cd\t\texit\t\tlogout\t\tsource\n",
      "command\t\texport\t\tmapfile\t\tsuspend\n",
      "compgen\t\tfalse\t\tpopd\t\ttest\n",
      "complete\tfc\t\tprintf\t\ttimes\n"
     ]
    }
   ],
   "source": [
    "compgen -b | column"
   ]
  },
  {
   "cell_type": "markdown",
   "metadata": {},
   "source": [
    "bash ရဲ့ keyword အားလုံးကို list လုပ်ပြပေးစေချင်ရင် \"-k\" option နဲ့ run ပါ။  \n",
    "\"column\" command ကတော့ compgen ကနေထွက်လာတဲ့ output တွေကို ကော်လံအတိုင်း ပြစေချင်လို့ pipe လုပ်သုံးထားတာပါ။   "
   ]
  },
  {
   "cell_type": "code",
   "execution_count": 84,
   "metadata": {},
   "outputs": [
    {
     "name": "stdout",
     "output_type": "stream",
     "text": [
      "if\t\tcase\t\tuntil\t\ttime\t\t]]\n",
      "then\t\tesac\t\tdo\t\t{\t\tcoproc\n",
      "else\t\tfor\t\tdone\t\t}\n",
      "elif\t\tselect\t\tin\t\t!\n",
      "fi\t\twhile\t\tfunction\t[[\n"
     ]
    }
   ],
   "source": [
    "compgen -k | column"
   ]
  },
  {
   "cell_type": "markdown",
   "metadata": {},
   "source": [
    "bash shell ရဲ့ function အားလုံးကို list လုပ်ပြစေချင်ရင် အောက်ပါအတိုင်း \"-A function\" option ကို သုံးပြီး run ကြည့်ပါ။  "
   ]
  },
  {
   "cell_type": "code",
   "execution_count": 87,
   "metadata": {},
   "outputs": [
    {
     "name": "stdout",
     "output_type": "stream",
     "text": [
      "__expand_tilde_by_ref\t\t_grub_probe\n",
      "__get_cword_at_cursor_by_ref\t_grub_script_check\n",
      "__git_eread\t\t\t_grub_set_entry\n",
      "__git_ps1\t\t\t_grub_setup\n",
      "__git_ps1_colorize_gitstring\t_have\n",
      "__git_ps1_show_upstream\t\t_init_completion\n",
      "__grub_dir\t\t\t_installed_modules\n",
      "__grub_get_last_option\t\t_ip_addresses\n",
      "__grub_get_options_from_help\t_kernel_versions\n",
      "__grub_get_options_from_usage\t_known_hosts\n",
      "__grub_list_menuentries\t\t_known_hosts_real\n",
      "__grub_list_modules\t\t_loexp_\n",
      "__grubcomp\t\t\t_longopt\n",
      "__ltrim_colon_completions\t_mac_addresses\n",
      "__parse_options\t\t\t_minimal\n",
      "__reassemble_comp_words_by_ref\t_modules\n",
      "__youtube_dl\t\t\t_ncpus\n",
      "_allowed_groups\t\t\t_parse_help\n",
      "_allowed_users\t\t\t_parse_usage\n",
      "_apport-bug\t\t\t_paster\n",
      "_apport-cli\t\t\t_pci_ids\n",
      "_apport-collect\t\t\t_pgids\n",
      "_apport-unpack\t\t\t_pids\n",
      "_apport_parameterless\t\t_pnames\n",
      "_apport_symptoms\t\t_quote_readline_by_ref\n",
      "_available_interfaces\t\t_realcommand\n",
      "_cd\t\t\t\t_rl_enabled\n",
      "_cd_devices\t\t\t_root_command\n",
      "_command\t\t\t_service\n",
      "_command_offset\t\t\t_services\n",
      "_complete_as_root\t\t_shells\n",
      "_completion_loader\t\t_signals\n",
      "_configured_interfaces\t\t_split_longopt\n",
      "_count_args\t\t\t_sysvdirs\n",
      "_desktop_file_validate\t\t_terms\n",
      "_dvd_devices\t\t\t_tilde\n",
      "_expand\t\t\t\t_uids\n",
      "_filedir\t\t\t_upvar\n",
      "_filedir_xspec\t\t\t_upvars\n",
      "_fstypes\t\t\t_usb_ids\n",
      "_get_comp_words_by_ref\t\t_user_at_host\n",
      "_get_cword\t\t\t_usergroup\n",
      "_get_first_arg\t\t\t_userland\n",
      "_get_pword\t\t\t_variables\n",
      "_gids\t\t\t\t_xfunc\n",
      "_grub_editenv\t\t\t_xinetd_services\n",
      "_grub_install\t\t\tcommand_not_found_handle\n",
      "_grub_mkconfig\t\t\tdequote\n",
      "_grub_mkfont\t\t\tdisplay\n",
      "_grub_mkimage\t\t\tquote\n",
      "_grub_mkpasswd_pbkdf2\t\tquote_readline\n",
      "_grub_mkrescue\n"
     ]
    }
   ],
   "source": [
    "compgen -A function | column"
   ]
  },
  {
   "cell_type": "markdown",
   "metadata": {},
   "source": [
    "လက်ရှိ run နေတဲ့ Linux OS အောက်မှာ ရှိတဲ့ command, function အားလုံးကို list လုပ်ပေးစေချင်ရင် \"-c\" option ကို သုံးပါတယ်။ install လုပ်ထားတဲ့ ပရိုဂရမ်တွေရဲ့ အပေါ်မှာလည်း မူတည်လို့ အရေအတွက်က စက်တစ်လုံးနဲ့ တစ်လုံး တူမှာ မဟုတ်ပါဘူး။  "
   ]
  },
  {
   "cell_type": "code",
   "execution_count": 83,
   "metadata": {},
   "outputs": [
    {
     "name": "stdout",
     "output_type": "stream",
     "text": [
      "5513\n"
     ]
    }
   ],
   "source": [
    "compgen -c | wc -l"
   ]
  },
  {
   "cell_type": "markdown",
   "metadata": {},
   "source": [
    "## Chaining of Linux Commands\n",
    "\n",
    "လက်တွေ့ အလုပ်လုပ်တဲ့ အခါမှာ အထက်မှာ သင်ပြပေးခဲ့တဲ့ linux command တွေကို လိုအပ်တဲ့အခါမှာ၊ တစ်ခုထက်မက တွဲပြီးသုံးလေ့ရှိပါတယ်။ အဲဒါကို အင်္ဂလိပ်လိုက \"chaining of linux commands\" လို့ခေါ်ပါတယ်။ တစ်ခုထက် မကတဲ့ linux command တွေကို ဘယ်လိုပုံစံမျိုးနဲ့ ဘယ်လိုအစီအစဉ်မျိုးနဲ့ အလုပ်လုပ်ပေးပါဆိုပြီးတော့ ကျွန်တော်တို့က ညွှန်ကြားခိုင်းစေလို့ ရပါတယ်။ အဲဒီအတွက် သိထားသင့်တဲ့ operators တွေက အောက်ပါအတိုင်းပါ။  \n",
    "\n",
    "* Semi-colon Operator (;)\n",
    "* Ampersand Operator (&)\n",
    "* AND Operator (&&)\n",
    "* OR Operator (||)\n",
    "* NOT Operator (!)\n",
    "* Combining of AND and OR operators  \n",
    "\n",
    "တချို့ operator တွေကို အသေးစိတ် မရှင်းပြနိုင်ခဲ့ပေမဲ့၊ အထက်မှာလဲ တခြား linux command တွေကို သုံးရင်းနဲ့ သုံးပြခဲ့ပါတယ်။ ဒီနေရာမှာတော့ Operator တစ်ခုချင်းစီရဲ့ အသုံးပြုပုံတွေကို လက်တွေ့ ဥပမာပေး သုံးပြရင်း ရှင်းပြသွားပါမယ်။\n",
    "\n",
    "* Semi-colon Operator (;)  \n",
    "\n",
    "Linux command တွေက တစ်ခုထက်မက ပိုလာတဲ့အခါမှာ၊ ဘယ်ကနေ ဘယ်အထိက command တစ်ခုဆိုပြီး shell ကိုပြောပြပေးဖို့လိုအပ်ပါတယ်။ ပရိုဂရမ်မင်း ဘာသာစကားတွေကို လေ့လာဖူးတဲ့သူအတွက် မြင်သာအောင် ရှင်းပြရရင်၊ C, C++ program ရေးတဲ့ အခါမှာ statement တစ်ခုပြီးဆုံးကြောင်းကို semicolon  နဲ့ ဖြတ်ပေးတာနဲ့ အတူတူပါပဲ။ \n"
   ]
  },
  {
   "cell_type": "code",
   "execution_count": 8,
   "metadata": {},
   "outputs": [
    {
     "name": "stdout",
     "output_type": "stream",
     "text": [
      "/home/lar/linux-cmd\n",
      "all-vi-info.txt      commands.txt      myanmar-food.txt  random.txt\n",
      "cmd-list-n.txt       empty-file.txt    numbers.txt       rank.txt\n",
      "commands-random.txt  fruit-orange.txt  pos-tags-15.txt\n",
      "commands-sort.txt    fruit.txt         pos-tags.txt\n"
     ]
    }
   ],
   "source": [
    "pwd; ls *.txt;"
   ]
  },
  {
   "cell_type": "markdown",
   "metadata": {},
   "source": [
    "\";\" (semicolon) ကိုခံပြီး command တွေကို တွဲသုံးတဲ့ နောက်ထပ် ဥပမာ တစ်ခုကတော့ package တွေကို update, upgrade လုပ်တဲ့အခါမှာ သုံးတဲ့ ပုံစံဖြစ်ပါတယ်။  \n",
    "\n",
    "```\n",
    "apt-get update ; apt-get upgrade\n",
    "```\n"
   ]
  },
  {
   "cell_type": "markdown",
   "metadata": {},
   "source": [
    "* Ampersand Operator (&)\n",
    "\n",
    "run ချင်တဲ့ ပရိုဂရမ်ကို background process အနေနဲ့ run ခိုင်းချင်တဲ့ အခါမှာ command line ရဲ့ နောက်ဆုံးမှာ \"&\" operator ကို အသုံးပြုပါတယ်။ ဥပမာ \"tar -czf backup.tar.gz . &\" လို့ run ရင် လက်ရှိ ဖိုလ်ဒါနဲ့ အဲဒီဖိုလ်ဒါ၊ ဆဗ်ဖိုလ်ဒါအောက်မှာရှိတဲ့ ဖိုင်တွေအားလုံးကို archive လုပ်တဲ့ အလုပ်ကို background job အနေနဲ့ လုပ်ခိုင်းထားတာ ဖြစ်ပါတယ်။ အဲဒါကြောင့် \"tar -czf backup.tar.gz . &\" command ကို ရိုက်ပြီးတာနဲ့ terminal မှာ တခြားအလုပ်တွေကို ဆက်လုပ်နိုင်ပါတယ်။   \n",
    "\n",
    "အထူးသဖြင့် အချိန်အကြာကြီး စောင့်ရမဲ့ အလုပ်တွေကို လုပ်လေ့လုပ်ထရှိပါတယ်။ ဆက်စပ်နေတဲ့ command တွေကတော့ အထက်မှာ သင်ပေးခဲ့တဲ့ \"top\", \"htop\" command တွေဖြစ်ပါတယ်။ \"top\", \"htop\" command ကို သုံးပြီး run နေတဲ့ process ကို ကြည့်တာ၊ Process ID ကို ရယူတာလုပ်လို့ ရပါတယ်။ မပြီးသေးတဲ့ background မှာ run နေတဲ့ job ကို foreground ကို ပြန်ခေါ်ပြီး terminal မှာ interactive ပုံစံမျိုးနဲ့ run ခိုင်းချင်ရင်တော့ \"fg\" (foreground) command ကို သုံးပါတယ်။\n",
    "\n",
    "* AND Operator (&&)\n",
    "\n",
    "&& operator ကို command တစ်ခုနဲ့ တစ်ခု အကြားမှာ ခံသုံးတဲ့ အလုပ်တွေ အများကြီးကို linux မှာလုပ်ကြပါတယ်။ အရမ်းကောင်းတဲ့ ဥပမာ တစ်ခုကတော့ Linux မှာ package တွေကို source ကနေ compile လုပ်ပြီး installation လုပ်တဲ့ အခါမှာ သုံးတဲ့ အောက်ပါ command သုံးခုတွဲဖြစ်ပါတယ်။  \n",
    "\n",
    "```\n",
    "./configure && make && make install\n",
    "```\n",
    "\n",
    "Linux ကို သေသေချာချာ မသုံးရသေးလို့ အထက်ပါ command အတွဲကို မသုံးဖူးသေးဘူး ဆိုရင်တောင်မှ၊ Linux OS ကို သုံးပြီး အလုပ်လုပ်လာပြီဆိုရင် တရက်ရက်မှာတော့ တသွေမသိမ်း သုံးဖြစ်ကြမှာပါ။ ဒီနေရာမှာ ရှေ့က ခိုင်းထားတဲ့ အလုပ်က error ဘာညာမရှိပဲ အောင်အောင်မြင်မြင်နဲ့ ပြီးဆုံးမှ နောက် command ကို ဆက်လုပ်ပေးမှာ ဖြစ်ပါတယ်။ ဥပမာ ./configure (configuration setting တွေကို ပြင်ဆင်တဲ့ အပိုင်းပါ) command က error ဖြစ်ပြီ ဆိုရင် သူ့အနောက်က command ဖြစ်တဲ့ \"make\" ရော၊ \"make install\" ရောက အလုပ်လုပ်မှာမဟုတ်ပါဘူး။  \n",
    "\n",
    "ကိုယ်ရဲ့စက်မှာ ရိုက်စမ်းကြည့်လို့ လွယ်မဲ့ ဥပမာနောက်တစ်ခုကို သင်ပေးပါမယ်။  \n",
    "\"ping\" နဲ့ \"echo\" command နှစ်ခုကို && operator ခံပြီး သုံးကြည့်ကြရအောင်။   "
   ]
  },
  {
   "cell_type": "code",
   "execution_count": 14,
   "metadata": {},
   "outputs": [
    {
     "name": "stdout",
     "output_type": "stream",
     "text": [
      "PING www.google.com (216.58.196.228) 56(84) bytes of data.\n",
      "64 bytes from kix06s01-in-f4.1e100.net (216.58.196.228): icmp_seq=1 ttl=54 time=4.70 ms\n",
      "64 bytes from kix06s01-in-f4.1e100.net (216.58.196.228): icmp_seq=2 ttl=54 time=4.76 ms\n",
      "64 bytes from kix06s01-in-f4.1e100.net (216.58.196.228): icmp_seq=3 ttl=54 time=4.77 ms\n",
      "\n",
      "--- www.google.com ping statistics ---\n",
      "3 packets transmitted, 3 received, 0% packet loss, time 2003ms\n",
      "rtt min/avg/max/mdev = 4.704/4.748/4.778/0.031 ms\n",
      "Ping OK!\n"
     ]
    }
   ],
   "source": [
    "ping -c3 www.google.com && echo \"Ping OK!\""
   ]
  },
  {
   "cell_type": "markdown",
   "metadata": {},
   "source": [
    "ping command က websit link တစ်ခု ဆီကို \"ICMP ECHO_REQUEST\" ပို့ပြီးတော့ အဲဒီ link က active ဖြစ်နေသလား၊ မဖြစ်ဘူးလားဆိုတာကို စမ်းသပ်တဲ့ networking နဲ့ဆိုင်တဲ့ အရေးကြီးတဲ့ command တစ်ခု ဖြစ်ပါတယ်။ အထက်မှာတော့ အမြဲတမ်း run နေတဲ့ \"www.google.com\" ကို ping သုံးခါ လုပ်တာမို့လို့ အဲဒီ ping လုပ်တဲ့အလုပ်က အောင်အောင်မြင်မြင်နဲ့ပြီးဆုံးသွားပြီးတော့၊ နောက်ဆက်တွဲ \"echo\" command ကပါ ဆက်အလုပ်လုပ်ပေးနိုင်လို့ output အနေနဲ့ \"Ping OK!\" ဆိုပြီး ပြပေးတာဖြစ်ပါတယ်။  \n",
    "\n",
    "တကယ်လို့ ကျွန်တော်တို့က တကယ်မရှိတဲ့ website link တစ်ခုကို ပေးပြီး run ကြည့်ရင်တော့၊ ping လုပ်တဲ့ အလုပ်က မအောင်မြင်ပဲ ရပ်သွားတာမို့လို့၊ && operator နဲ့ ခံပြီး run တဲ့ echo command က အလုပ်လုပ်ပေးမှာ မဟုတ်ပါဘူး။ အောက်ပါ ဥပမာကို run ကြည့်ပါ။ "
   ]
  },
  {
   "cell_type": "code",
   "execution_count": 15,
   "metadata": {},
   "outputs": [
    {
     "name": "stdout",
     "output_type": "stream",
     "text": [
      "ping: unknown host www.mwekyawthu.com\n"
     ]
    },
    {
     "ename": "",
     "evalue": "2",
     "output_type": "error",
     "traceback": []
    }
   ],
   "source": [
    "ping -c3 www.mwekyawthu.com && echo \"Ping OK!\""
   ]
  },
  {
   "cell_type": "markdown",
   "metadata": {
    "collapsed": true
   },
   "source": [
    "* OR Operator (||)\n",
    "\n",
    "အောက်ပါ command အတွဲကို ကြည့်ပါ။  \n",
    "လက်တွေ့အလုပ်တွေမှာ အသုံးများတဲ့ ပုံစံလည်း ဖြစ်တဲ့ \"&&\" နဲ့ \"||\" ကို တွဲသုံးတဲ့ ပုံစံနဲ့ ပြထားပါတယ်။  \n",
    "ဒါ့အပြင် Precedence operator ဖြစ်တဲ့ \"()\" ကိုလည်း သုံးပြထားပါတယ်။  \n",
    "\n",
    "အင်္ဂလိပ်လို comment စာကြောင်းရေးထားတဲ့ အတိုင်း၊ TCP port က ပွင့်နေသလားဆိုတာကို check လုပ်တဲ့ command ဖြစ်ပါတယ်။  \n",
    "တကယ်လို့ ရှေ့ဆုံးက command ဖြစ်တဲ့ \"(echo >/dev/tcp/localhost/25) &>/dev/null \" က run လို့ အဆင်မပြေရင်  \n",
    "အောက်ပါအတိုင်း error message ပေးပါလိမ့်မယ်။ \n",
    "\n",
    "```\n",
    "lar@lar-air:~/linux-cmd$ echo >/dev/tcp/localhost/25\n",
    "bash: connect: Connection refused\n",
    "bash: /dev/tcp/localhost/25: Connection refused\n",
    "```\n",
    "\n",
    "အထက်ပါ error မျိုးတက်လာတဲ့ အခြေအနေဆိုရင်တော့ \"||\" operator အနောက်က echo က အလုပ်လုပ်မှာ ဖြစ်လို့  \n",
    "\"TCP port 25 close\" ဆိုပြီး မြင်ရမှာ ဖြစ်ပါတယ်။  "
   ]
  },
  {
   "cell_type": "code",
   "execution_count": 1,
   "metadata": {},
   "outputs": [
    {
     "name": "stdout",
     "output_type": "stream",
     "text": [
      "TCP port 25 close\n"
     ]
    }
   ],
   "source": [
    "# find out if TCP port 25 open or not\n",
    "(echo >/dev/tcp/localhost/25) &>/dev/null && echo \"TCP port 25 open\" || echo \"TCP port 25 close\""
   ]
  },
  {
   "cell_type": "markdown",
   "metadata": {},
   "source": [
    "ဒီအဆင့်အထိ ကြိုးစားပြီး လေလာခဲ့တယ်ဆိုရင်တော့ အသုံးများတဲ့ command တွေကို တခုချင်း သုံးတဲ့ပုံစံ သာမကပဲ၊ တစ်ခုထက် မက ပိုတဲ့ command တွေကို \";\", \"&&\", \"||\" တို့လို operator တွေခံပြီးတော့ သုံးတဲ့ ပုံစံကိုလည်း နားလည်လောက်ပါပြီ။  "
   ]
  },
  {
   "cell_type": "markdown",
   "metadata": {},
   "source": [
    "## Brief Introduction of Bash Shell Script Writing  \n",
    "\n",
    "bash က တခြား command interpreter shell တွေဖြစ်တဲ့ csh, dash, tcsh, zsh လိုပါပဲ interactive mode နဲ့ non-interactive mode နှစ်မျိုးစလုံးကို support လုပ်ပေးပါတယ်။ အထက်မှာ ကျွန်တော်သင်ပြခဲ့တဲ့ command အများစုက interactive mode မှာ run တဲ့ပုံစံတွေပါ။ လွယ်လွယ်ရှင်းပြရရင် bash shell script ရေးတယ်ဆိုတာကတော့ လုပ်ချင်တဲ့ command တွေကို ဖိုင်ထဲမှာ စုရေးသိမ်းထားပြီး လိုချင်တဲ့အချိန်မှာ ခေါ် run တဲ့ပုံစံပါ။  \n",
    "\n",
    "ဒီနေရာမှာ shell script ပရိုဂရမ်အတို နှစ်ပုဒ်ကို ဥပမာပေးပြီး ရှင်းပြပါမယ်။  \n",
    "\n",
    "shell script ဖိုင်တိုင်းရဲ့ ပထမဆုံး စာကြောင်းကတော့ \"#!\" နဲ့စတဲ့ \"shebang\" စာကြောင်းဖြစ်ပါတယ်။ Linux/Unix operating system တွေမှာ ရိုရိုး စာတွေပဲ ရိုက်ထားတဲ့ text ဖိုင်လား၊ သို့မဟုတ် executable လုပ်လို့ရတဲ့ ပရိုဂရမ်ဖိုင်လားဆိုတာကို ပထမဆုံးလိုင်းကို စစ်ဆေးပြီးမှ အလုပ်လုပ်တဲ့ ပုံစံဖြစ်ပါတယ်။ \"#!\" နဲ့ စတဲ့ text ဖိုင်ဆိုရင်တော့ အဲဒီလိုင်းမှာ ညွှန်ကြားထားတဲ့ path အောက်မှာရှိတဲ့ ပရိုဂရမ်ကို သုံးပြီး၊ ကျန်တဲ့စာကြောင်းတွေဖြစ်တဲ့ program statement တွေအားလုံးကို run ပေးပါလိမ့်မယ်။ အဲဒါကြောင့် bash shell script ရဲ့ ပထမဆုံးလိုင်းရဲ့ အဓိပ္ပါယ်ကလည်း ဒီ text ဖိုင်ဟာ script ဖိုင်ဖြစ်ပါတယ်၊ \"/bin/\" path\n",
    "အောက်မှာရှိတဲ့ bash ကို သုံးပြီး run ပါ ဆိုပြီး ညွှန်ကြားထားတာဖြစ်ပါတယ်။  \n",
    "\n",
    "တခြား programming language တွေကို စလေ့လာရင် လုပ်လေ့ရှိတဲ့အတိုင်း  \n",
    "အောက်ပါ bash shell script ရဲ့ \"Hello, World!\" Program ကို ရေးကြည့်ရအောင်။  \n",
    "(ရေးထားပြီးသား ပရိုဂရမ်ကိုလည်း ./linux-cmd/ ဖိုလ်ဒါအောက်မှာ \"hello-world.sh\" ဆိုတဲ့နာမည်နဲ့ သိမ်းပေးထားပါတယ်။)  \n",
    "\n",
    "```bash\n",
    "#!/bin/bash\n",
    "\n",
    "echo \"Hello, World!\"\n",
    "```"
   ]
  },
  {
   "cell_type": "markdown",
   "metadata": {},
   "source": [
    "အထက်ပါ ပရိုဂရမ်ကို shell script ပရိုဂရမ်အနေနဲ့ run ဖို့အတွက်က (\"time\" command မှာတုန်းက တစ်ခေါက် သင်ပေးခဲ့ဖူးသလို) file mode ကို executable mode အဖြစ်ပြောင်းပေးရပါမယ်။ \"chmod\" command ကို သုံးပြီးအောက်ပါအတိုင်း ပြောင်းပေးကြရအောင်။  \n",
    "```\n",
    "chmod +x ./hello-world.sh\n",
    "```\n",
    "\n",
    "executable mode အဖြစ်ပြောင်းပြီးသွားရင်တော့ အောက်ပါအတိုင်း shell script ဖိုင်နာမည်ကို command prompt မှာ   \n",
    "ရိုက်ပြီး run ကြည့်ရင် \"Hello, World!\" ဆိုတဲ့ စာကြောင်းကို ရိုက်ပြပေးပါလိမ့်မယ်။  "
   ]
  },
  {
   "cell_type": "code",
   "execution_count": 1,
   "metadata": {},
   "outputs": [
    {
     "name": "stdout",
     "output_type": "stream",
     "text": [
      "Hello, World!\n"
     ]
    }
   ],
   "source": [
    "./hello-world.sh"
   ]
  },
  {
   "cell_type": "code",
   "execution_count": null,
   "metadata": {},
   "outputs": [],
   "source": [
    "Linux command တွေနဲ့ အကျွမ်းတဝင်မရှိသေးရင် မှားတတ်လို့ ပြောပြထားချင်တာက ပရိုဂရမ်တွေကို run တဲ့ အခါမှာ\n",
    "ပရိုဂရမ်နာမည်ချည်းပဲ ရိုက်လို့ မရပါဘူး။ ပရိုဂရမ်က ဘယ်မှာရှိတယ်ဆိုတဲ့ path ကိုပါ အတိအကျပြောပြပေးရပါတယ်။ အဲဒါကြောင့် အထက်မှာ\n",
    "\"hello-world.sh\" ဆိုတဲ့ ပရိုဂရမ်နာမည်ရှေ့မှာ \"current folder\" လို့ အဓိပ္ပါယ်ရတဲ့ \"./\" ကိုထည့်ထားတာဖြစ်ပါတယ်။\n",
    "\n",
    "နောက်ထပ် shell script ပရိုဂရမ် တပုဒ်ကို ထပ်လေ့လာကြည့်ကြရအောင်။\n",
    "\n",
    "```bash\n",
    "#!/bin/bash\n",
    "\n",
    "read -p \"Enter your birth year.  (Example: 1980) : \" birth_year\n",
    "read -p \"Enter your birth month. (Example: 01) \" birth_month\n",
    "\n",
    "echo -e \"\\n One month birthday calendar for you ...\\n\"\n",
    "cal $birth_month $birth_year\n",
    "```\n",
    "ရှေ့မှာ မသင်ပေးထားရတဲ့ \"read\", \"cal\" command တွေကို သုံးပြထားတာတွေ ပါဝင်ပေမဲ့၊ ဒီ bash shell script က\n",
    "ဘာလုပ်ပေးတယ်ဆိုတာကို ခန့်မှန်းလို့ ရမယ်လို့ ထင်ပါတယ်။ ပရိုဂရမ်ရဲ့ နာမည်က show-birthday-cal.sh ဖြစ်ပါတယ်။ "
   ]
  },
  {
   "cell_type": "markdown",
   "metadata": {},
   "source": [
    "command prompt မှာ \"./show-birthday-cal.sh\" လို့ ရိုက်ထည့်ပြီး run ရင် အောက်ပါအတိုင်း  \n",
    "ပထမ မွေးတဲ့ နှစ်ကို မေးပါလိမ့်မယ်။ ဥပမာ 2010 လို့ ရိုက်ထည့်ပေးလိုက်ရင်  \n",
    "နောက်ထပ် မေးခွန်း တစ်ခုဖြစ်တဲ့ မွေးလ ကို ပရိုဂရမ်က ထပ်မေးပါလိမ့်မယ်။  \n",
    "မွေးလ ကို ဥပမာ 11 ဆိုပြီး ရိုက်ထည့်ပေးလိုက်တဲ့ အခါမှာတော့ Novembr 2010 ရဲ့ တစ်လစာ ပြက္ခဒိန်ကို ပြသပေးပါလိမ့်မယ်။  \n",
    "\n",
    "\n",
    "```\n",
    "Enter your birth year.  (Example: 1980) : 2010\n",
    "Enter your birth month. (Example: 01) 11\n",
    "\n",
    " One month birthday calendar for you ...\n",
    "\n",
    "   November 2010      \n",
    "Su Mo Tu We Th Fr Sa  \n",
    "    1  2  3  4  5  6  \n",
    " 7  8  9 10 11 12 13  \n",
    "14 15 16 17 18 19 20  \n",
    "21 22 23 24 25 26 27  \n",
    "28 29 30              \n",
    "                 \n",
    "```"
   ]
  },
  {
   "cell_type": "markdown",
   "metadata": {},
   "source": [
    "မသိမဖြစ် သိထားရမယ့် linux-command သင်ခန်းစာလည်း ပြီးပါပြီ။  \n",
    "အခု အချိန်ကစပြီး command အသစ် တစ်ခုခုကို မသိသေးရင် ကိုယ့်ဖာသာကိုယ်  \n",
    "ရှာဖွေလေ့လာရမှာမို့ ဒီပရိုဂရမ်မှာ သုံးထားတဲ့ command အသစ်တွေဖြစ်တဲ့ \"read\" နဲ့ \"cal\" command တွေကို man command ရိုက်ပြီးလေ့လာပါ။ information ရှိမလား ဆိုပြီး \"info\" command နဲ့ ရှာဖွေဖတ်ကြည့်ပြီးတော့ လေ့လာပါ။  \n",
    "command မသုံးခင်မှာ --help နဲ့ option တွေနဲ့ပတ်သက်ပြီး ရှင်းပြထားတာတွေကို နားလည်အောင် လုပ်ပါ။  \n",
    "ကိုယ့်ရဲ့စက်က အင်တာနက် ချိတ်ထားတယ်ဆိုရင် Googling လုပ်ပြီး လေ့လာပါ။  \n",
    "တကယ်တမ်း သိဖို့ကတော့ command prompt မှာ ရိုက်စမ်းကြည့်တာမျိုး၊ ပရိုဂရမ်ရေးကြည့်ပြီး စမ်းတာမျိုး လုပ်ပါလို့ အကြံပေးချင်ပါတယ်။ \n",
    "\n",
    "နိဂုံးချုပ် အနေနဲ့ Linux command (bash command) တွေက သင်ခန်းစာ စစချင်းမှာ ကျွန်တော် ပြောပြခဲ့သလို  \n",
    "တကယ်ကို လေ့လာလို့မကုန်နိုင်လောက်အောင်ကို များပြားလှပါတယ်။  \n",
    "သို့သော် ဒီ Jupyter notebook မှာ ကျွန်တော် မြန်မာလိုကြိုးစားရှင်းပြထားတဲ့ command တွေအားလုံးကို လေ့လာပြီးပြီ ဆိုရင်တော့  \n",
    "ကျွန်တော်ရဲ့ အတွေ့အကြုံအရ စာဖတ်သူရဲ့ linux command ဗဟုသုတကလည်း အလုပ်တွေအများကြီးကို စလုပ်လို့ ရနေပါပြီ။  \n",
    "ကျွန်တော်က အလေးပေးပြီး ထည့်သွင်းရှင်းပြပေးထားတဲ့ text file processing အပိုင်းကတော့ NLP research လို\n",
    "သုတေသနတွေအတွက်   \n",
    "အများကြီး အသုံးဝင်မယ်လို့ ယုံကြည်ပါတယ်။  \n",
    "\n",
    "<span style=\"color:red\"> ကြိုးစားကြပါလို့ မှာချင်ပါတယ်။ </span>  \n",
    "\n",
    "ရဲကျော်သူ  \n",
    "Visiting Researcher,  \n",
    "Waseda University, Tokyo, Japan  \n"
   ]
  },
  {
   "cell_type": "markdown",
   "metadata": {
    "collapsed": true
   },
   "source": [
    "## References  \n",
    "[Wiki ANSI Escape Code](https://en.wikipedia.org/wiki/ANSI_escape_code)  \n",
    "[http://www.unicode.org/charts/](http://www.unicode.org/charts/)  \n",
    "[Wiki List of Mathematical Symbols by Subject](https://en.wikipedia.org/wiki/List_of_mathematical_symbols_by_subject#Probability_theory)  \n",
    "[Why Use a Command Line Instead of a GUI?](http://www.jpeek.com/talks/osu_20010508/)  \n",
    "[\"Mastering Regular Expressions\" by Jeffrey Friedl, 3rd Edition](http://shop.oreilly.com/product/9780596528126.do)  \n",
    "[Wikipedia page of Regular Expression](https://en.wikipedia.org/wiki/Regular_expression)  \n",
    "[Regular-Expression.info](http://www.regular-expressions.info/tutorial.html)  \n",
    "[Stackoverflow of Greedy and Lazy](https://stackoverflow.com/questions/2301285/what-do-lazy-and-greedy-mean-in-the-context-of-regular-expressions) \n",
    "[Boyer-Moore algorithm](https://en.wikipedia.org/wiki/Boyer%E2%80%93Moore_string_search_algorithm)  \n",
    "[what-is-the-difference-between-grep-egrep-and-fgrep](https://unix.stackexchange.com/questions/17949/what-is-the-difference-between-grep-egrep-and-fgrep)  \n",
    "[the-concept-of-hold-space-and-pattern-space-in-sed](https://stackoverflow.com/questions/12833714/the-concept-of-hold-space-and-pattern-space-in-sed)  \n",
    "[GNU sed command manual](https://www.gnu.org/software/sed/manual/sed.html)  \n",
    "[sed & awk by By Dale Dougherty & Arnold Robbins, 2nd Edition](https://docstore.mik.ua/orelly/unix/sedawk/index.htm)  \n",
    "[Drawing graphs with dot](http://www.graphviz.org/Documentation/dotguide.pdf)  \n",
    "[ISO-639 language code](https://en.wikipedia.org/wiki/List_of_ISO_639-1_codes)  \n",
    "[ISO-3166 country code](https://en.wikipedia.org/wiki/ISO_3166-1)  \n",
    "[ISO/IEC-8859-1](https://en.wikipedia.org/wiki/ISO/IEC_8859-1)  \n",
    "[UTF-8](https://en.wikipedia.org/wiki/UTF-8)  \n",
    "[Linux: Define Locale and Language Settings](https://www.shellhacks.com/linux-define-locale-language-settings/)  \n",
    "[Wikipedia page of awk](https://en.wikipedia.org/wiki/AWK)  \n",
    "[The AWK Programming Language written by Alfred V. Aho, Brian W. Kernighan, and Peter J. Weinberge](https://ia802309.us.archive.org/25/items/pdfy-MgN0H1joIoDVoIC7/The_AWK_Programming_Language.pdf)  \n",
    "[GAWK: Effective AWK Programming](https://www.gnu.org/software/gawk/manual/gawk.pdf)  \n",
    "[What is \"NR==FNR\" in awk](https://stackoverflow.com/questions/32481877/what-is-nr-fnr-in-awk)  \n",
    "[convert command usag examples](https://www.howtogeek.com/109369/how-to-quickly-resize-convert-modify-images-from-the-linux-terminal/)\n",
    "[Wiki page of tar command](https://en.wikipedia.org/wiki/Tar_(computing))\n",
    "[wttr.in — the right way to check the weather](https://github.com/chubin/wttr.in)\n"
   ]
  }
 ],
 "metadata": {
  "kernelspec": {
   "display_name": "Bash",
   "language": "bash",
   "name": "bash"
  },
  "language_info": {
   "codemirror_mode": "shell",
   "file_extension": ".sh",
   "mimetype": "text/x-sh",
   "name": "bash"
  }
 },
 "nbformat": 4,
 "nbformat_minor": 1
}
