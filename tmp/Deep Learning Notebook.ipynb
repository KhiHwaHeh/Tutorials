{
 "cells": [
  {
   "cell_type": "code",
   "execution_count": 48,
   "metadata": {},
   "outputs": [],
   "source": [
    "# ဒီလိုင်းက matplotlib graph တွေကို jupyter notebook အတွင်းမှာ ပြနိုင်အောင်လို့  \n",
    "# ပုံမှန်အားဖြင့်က jupyter notebook ရဲ့ အပေါ်ဆုံးမှာ ရေးထည့်ထားလေ့ရှိတယ်။  \n",
    "%matplotlib inline "
   ]
  },
  {
   "cell_type": "markdown",
   "metadata": {},
   "source": [
    "# Mean Squared Error\n",
    "\n",
    "မနေ့က Error Function ကို မိတ်ဆက်ပေးခဲ့တယ်။ နာမည်အကြီးဆုံး error တွက်တဲ့ function ကို ပြောပါဆိုရင်  \n",
    "\"Mean Squared Error\" လို့ပဲ ဆရာ ပြောရလိမ့်မယ်။  \n",
    "\n",
    "# $E = \\frac{1}{2}\\sum_{k}(y_k-t_k)^2 $\n",
    "\n",
    "ဒီနေရာမှာ $y_k$ က neural network ရဲ့ output ဖြစ်ပြီးတော့၊ $t_k$ က reference data ဖြစ်တယ်။  \n",
    "\n",
    "ဥပမာ။ ။ ကျွန်တော်တို့က \"သုည\" ကနေ \"ကိုး\" ဂဏန်းကို handwriting recognition လုပ်နေတယ်လို့ ဆိုကြပါစို့\n",
    "\n",
    "y = \\[0.1, 0.05, 0.6, 0.0, 0.05, 0.1, 0.0, 0.1, 0.0, 0.0\\]  \n",
    "t = \\[0, 0, 1, 0, 0, 0, 0, 0, 0, 0\\]"
   ]
  },
  {
   "cell_type": "code",
   "execution_count": 49,
   "metadata": {},
   "outputs": [],
   "source": [
    "import numpy as np\n",
    "\n",
    "def Mean_Squared_Error(y, t):\n",
    "    return 0.5 * np.sum((y-t)**2)"
   ]
  },
  {
   "cell_type": "code",
   "execution_count": 50,
   "metadata": {},
   "outputs": [
    {
     "data": {
      "text/plain": [
       "0.09750000000000003"
      ]
     },
     "execution_count": 50,
     "metadata": {},
     "output_type": "execute_result"
    }
   ],
   "source": [
    "y = [0.1, 0.05, 0.6, 0.0, 0.05, 0.1, 0.0, 0.1, 0.0, 0.0]  \n",
    "t = [0, 0, 1, 0, 0, 0, 0, 0, 0, 0]\n",
    "\n",
    "Mean_Squared_Error(np.array(y), np.array(t))"
   ]
  },
  {
   "cell_type": "markdown",
   "metadata": {},
   "source": [
    "# Cross Entropy Error\n",
    "\n",
    "Mean Squared Error လိုပဲ နောက်ထပ် သိထားသင့်တဲ့ error ကို တွက်ချက်တဲ့ formula က \"Cross Entropy Error\" ပါ။  \n",
    "# $E = -\\sum_{k}t_k \\ logy_k  $  \n",
    "\n",
    "ဒီနေရာမှာ သုံးထားတဲ့ log က natural logrithm ဖြစ်ပြီးတော့ approximately equal to 2.718281828459  \n",
    "python code အနေနဲ့ ရေးပြပါ ဆိုရင်  "
   ]
  },
  {
   "cell_type": "code",
   "execution_count": 51,
   "metadata": {},
   "outputs": [],
   "source": [
    "def Cross_Entropy_Error(y, t):\n",
    "    delta = 1e-7\n",
    "    return -np.sum(t * np.log(y + delta))\n",
    "\n",
    "y = [0.1, 0.05, 0.6, 0.0, 0.05, 0.1, 0.0, 0.1, 0.0, 0.0]  \n",
    "t = [0, 0, 1, 0, 0, 0, 0, 0, 0, 0]"
   ]
  },
  {
   "cell_type": "code",
   "execution_count": 52,
   "metadata": {},
   "outputs": [
    {
     "data": {
      "text/plain": [
       "0.510825457099338"
      ]
     },
     "execution_count": 52,
     "metadata": {},
     "output_type": "execute_result"
    }
   ],
   "source": [
    "Cross_Entropy_Error(np.array(y), np.array(t))"
   ]
  },
  {
   "cell_type": "markdown",
   "metadata": {},
   "source": [
    "model output prediction ရဲ့ တန်ဖိုးတွေကို ပြောင်းပြီးတော့ တွက်ခိုင်းကြည့်ရအောင်"
   ]
  },
  {
   "cell_type": "code",
   "execution_count": 53,
   "metadata": {},
   "outputs": [],
   "source": [
    "y = [0.1, 0.05, 0.1, 0.0, 0.05, 0.1, 0.6, 0.1, 0.6, 0.0]  "
   ]
  },
  {
   "cell_type": "code",
   "execution_count": 54,
   "metadata": {},
   "outputs": [
    {
     "data": {
      "text/plain": [
       "2.302584092994546"
      ]
     },
     "execution_count": 54,
     "metadata": {},
     "output_type": "execute_result"
    }
   ],
   "source": [
    "Cross_Entropy_Error(np.array(y), np.array(t))"
   ]
  },
  {
   "cell_type": "markdown",
   "metadata": {},
   "source": [
    "# Mini-Batch Learning  \n",
    "\n",
    "Machine Learning မှာ model ရဲ့ output (i.e. y) နဲ့ training data ထဲမှာရှိနေတဲ့ မှန်ကန်တဲ့အဖြေ (i.e. t) ကို Error Function တစ်ခုခုကို တိုက်စစ်ရင်း learning လုပ်တာ။ Neural Network မော်ဒယ်ရဲ့ weight တွေကို update လုပ်တာ။  \n",
    "\n",
    "မော်ဒယ်ကနေ ထွက်လာသမျှ y ကို မှန်ကန်တဲ့အဖြေ t နဲ့ တိုက်စစ်ဖို့လိုအပ်ပေမဲ့၊ လက်တွေ့မှာက တပြိုင်တည်းမှာ အားလုံးကို တိုက်စစ်ဖို့က မဖြစ်နိုင် တဲ့ အခြေအနေတွေရှိတယ်။ အထူးသဖြင့် training data က တအားများတဲ့ အခါမှာ။ အဲဒါကြောင့် \"Mini-Batch Learning\" ဆိုတဲ့ ပုံစံနဲ့ learning လုပ်ပြီး၊ မော်ဒယ်ကို ပိုကောင်းအောင် ပြင်ပြင်သွားတယ်။    \n",
    "\n",
    "အထက်မှာ သင်ပေးခဲ့တဲ့ Cross Entropy Error ကို Mini-Batch Learning လုပ်တဲ့ ကိစ္စကို ဖော်မြူလာနဲ့ ချရေးရရင် အောက်ပါအတိုင်း ဖြစ်လိမ့်မယ်။  "
   ]
  },
  {
   "cell_type": "markdown",
   "metadata": {},
   "source": [
    "# $E = -\\frac{1}{n}\\sum_{n}\\sum_{k}t_nk \\ logy_{nk}  $  \n",
    "\n",
    "အဲဒီအတွက်က Python coding လုပ်တဲ့ အခါမှာ training data ထဲက အသုတ်လိုက်၊ အသုတ်လိုက် ဆွဲယူဖို့အတွက်က np.random.choice(10000, 10) ဆိုတဲ့ ပုံစံမျိုးနဲ့ ရေးတယ်။   \n",
    "\n",
    "Cross Entropy Error တွက်တဲ့ အပိုင်းကို batch size (တစ်ခါကို ဘယ်လောက်တွက်ပါဆိုတဲ့ ဆိုက်) နဲ့ တွက်တဲ့ ပုံစံမျိုး ပရိုဂရမ်ရေးကြည့်မယ်ဆိုရင်  "
   ]
  },
  {
   "cell_type": "code",
   "execution_count": 55,
   "metadata": {},
   "outputs": [],
   "source": [
    "#batch_size ကိုကြိုသတ်မှတ်ထားပြီးတော့\n",
    "\n",
    "def Cross_Entropy_Error(y, t):\n",
    "    if y.ndim == 1:\n",
    "        t = t.reshape(1, t.size)\n",
    "        y = y.reshape(1, y.size)\n",
    "        \n",
    "    batch_size = y.shape[0]\n",
    "    return -np.sum(np.log(y[np.arrange(batch_size), t])) / batch_size"
   ]
  },
  {
   "cell_type": "markdown",
   "metadata": {},
   "source": [
    "# Gradient Descent \n",
    "\n",
    "Gradient descent ဆိုတာကို သိဖိုလိုအပ်တယ်။  \n",
    "Theory ကိုအလွယ် ရှင်းပြရရင် local minimum value ကို ပေးထားတဲ့ function ပေါ်မူတည်ပြီး တဖြေးဖြေးချင်း အတိုး၊ အလျှော့လုပ်ပြီးတော့ ရှာတဲ့ algorithm ပါ။ လွယ်တဲ့ Quadratic equation တစ်ခုရဲ့ graph ကို ထုတ်ပြီးတော့ Gradient descent ရဲ့ အလုပ်လုပ်ပုံကို စဉ်းစားကြည့်ရအောင်။    "
   ]
  },
  {
   "cell_type": "code",
   "execution_count": 44,
   "metadata": {},
   "outputs": [],
   "source": [
    "x_quad = [n/10 for n in range(0, 100)]\n",
    "y_quad = [(n-4)**2+5 for n in x_quad]"
   ]
  },
  {
   "cell_type": "code",
   "execution_count": 58,
   "metadata": {},
   "outputs": [
    {
     "data": {
      "text/plain": [
       "<matplotlib.text.Text at 0x7fa57d371550>"
      ]
     },
     "execution_count": 58,
     "metadata": {},
     "output_type": "execute_result"
    },
    {
     "data": {
      "image/png": "[encoded data removed]",
      "text/plain": [
       "<matplotlib.figure.Figure at 0x7fa57d1fe390>"
      ]
     },
     "metadata": {},
     "output_type": "display_data"
    }
   ],
   "source": [
    "plt.figure(figsize = (10,7))\n",
    "plt.plot(x_quad, y_quad, 'k--')\n",
    "plt.axis([0,10,0,30])\n",
    "plt.plot([1, 2, 3], [14, 9, 6], 'go')\n",
    "plt.plot([5, 7, 8],[6, 14, 21], 'bo')\n",
    "plt.plot(4, 5, 'ro')\n",
    "plt.xlabel('x')\n",
    "plt.ylabel('f(x)')\n",
    "plt.title('Plotting Quadratic Equation')"
   ]
  },
  {
   "cell_type": "markdown",
   "metadata": {},
   "source": [
    "# First testing your tensorflow is working or not  \n",
    "\n",
    "အရင်ဆုံး ခင်ဗျားတို့ရဲ့စက်ထဲမှာရှိတဲ့ tensorflow က အလုပ်လုပ်လို့ ရပြီလား test လုပ်ကြည့်ရအောင်"
   ]
  },
  {
   "cell_type": "code",
   "execution_count": 63,
   "metadata": {},
   "outputs": [],
   "source": [
    "import tensorflow as tf"
   ]
  },
  {
   "cell_type": "code",
   "execution_count": 64,
   "metadata": {},
   "outputs": [],
   "source": [
    "hello = tf.constant(\"Hello, world!\")\n",
    "sess = tf.Session()"
   ]
  },
  {
   "cell_type": "code",
   "execution_count": 65,
   "metadata": {},
   "outputs": [
    {
     "name": "stdout",
     "output_type": "stream",
     "text": [
      "b'Hello, world!'\n"
     ]
    }
   ],
   "source": [
    "print(sess.run(hello))"
   ]
  },
  {
   "cell_type": "markdown",
   "metadata": {},
   "source": [
    "# Introduction to Tensorflow Working Approach"
   ]
  },
  {
   "cell_type": "code",
   "execution_count": 66,
   "metadata": {},
   "outputs": [
    {
     "name": "stdout",
     "output_type": "stream",
     "text": [
      "WARNING:tensorflow:From /home/lar/anaconda3/envs/py3.6.2/lib/python3.6/site-packages/tensorflow/python/util/tf_should_use.py:118: initialize_all_variables (from tensorflow.python.ops.variables) is deprecated and will be removed after 2017-03-02.\n",
      "Instructions for updating:\n",
      "Use `tf.global_variables_initializer` instead.\n",
      "Addition: 5\n"
     ]
    }
   ],
   "source": [
    "# build computational graph\n",
    "a = tf.placeholder(tf.int16)\n",
    "b = tf.placeholder(tf.int16)\n",
    "\n",
    "addition = tf.add(a, b)\n",
    "\n",
    "# initialize variables\n",
    "init = tf.initialize_all_variables()\n",
    "\n",
    "# create session and run the graph\n",
    "with tf.Session() as sess:\n",
    "    sess.run(init)\n",
    "    print (\"Addition: %i\" % sess.run(addition, feed_dict={a: 2, b: 3}))\n",
    "\n",
    "# close session\n",
    "sess.close()\n"
   ]
  },
  {
   "cell_type": "markdown",
   "metadata": {},
   "source": [
    "# When I have time, I will show gradianet decsent calculation with python code\n",
    "\n",
    "# OR gate model with Tensorflow"
   ]
  },
  {
   "cell_type": "code",
   "execution_count": 59,
   "metadata": {},
   "outputs": [
    {
     "name": "stderr",
     "output_type": "stream",
     "text": [
      "/home/lar/anaconda3/envs/py3.6.2/lib/python3.6/site-packages/h5py/__init__.py:34: FutureWarning: Conversion of the second argument of issubdtype from `float` to `np.floating` is deprecated. In future, it will be treated as `np.float64 == np.dtype(float).type`.\n",
      "  from ._conv import register_converters as _register_converters\n"
     ]
    },
    {
     "name": "stdout",
     "output_type": "stream",
     "text": [
      "classified:\n",
      "[[ True]\n",
      " [ True]\n",
      " [ True]\n",
      " [ True]]\n",
      "\n",
      "output probability:\n",
      "[[0.22355038]\n",
      " [0.9142595 ]\n",
      " [0.9142595 ]\n",
      " [0.99747425]]\n"
     ]
    }
   ],
   "source": [
    "import numpy as np\n",
    "import tensorflow as tf\n",
    "\n",
    "'''\n",
    "Model Setting\n",
    "'''\n",
    "tf.set_random_seed(0)  # Setting random seed\n",
    "\n",
    "w = tf.Variable(tf.zeros([2, 1]))\n",
    "b = tf.Variable(tf.zeros([1]))\n",
    "\n",
    "x = tf.placeholder(tf.float32, shape=[None, 2])\n",
    "t = tf.placeholder(tf.float32, shape=[None, 1])\n",
    "y = tf.nn.sigmoid(tf.matmul(x, w) + b)\n",
    "\n",
    "cross_entropy = - tf.reduce_sum(t * tf.log(y) + (1 - t) * tf.log(1 - y))\n",
    "train_step = tf.train.GradientDescentOptimizer(0.1).minimize(cross_entropy)\n",
    "\n",
    "correct_prediction = tf.equal(tf.to_float(tf.greater(y, 0.5)), t)\n",
    "\n",
    "'''\n",
    "Model learning\n",
    "'''\n",
    "# OR gate\n",
    "X = np.array([[0, 0], [0, 1], [1, 0], [1, 1]])\n",
    "Y = np.array([[0], [1], [1], [1]])\n",
    "\n",
    "# Initialization\n",
    "init = tf.global_variables_initializer()\n",
    "sess = tf.Session()\n",
    "sess.run(init)\n",
    "\n",
    "# Learning\n",
    "for epoch in range(200):\n",
    "    sess.run(train_step, feed_dict={\n",
    "        x: X,\n",
    "        t: Y\n",
    "    })\n",
    "\n",
    "'''\n",
    "Classification\n",
    "'''\n",
    "classified = correct_prediction.eval(session=sess, feed_dict={\n",
    "    x: X,\n",
    "    t: Y\n",
    "})\n",
    "prob = y.eval(session=sess, feed_dict={\n",
    "    x: X\n",
    "})\n",
    "\n",
    "print('classified:')\n",
    "print(classified)\n",
    "print()\n",
    "print('output probability:')\n",
    "print(prob)"
   ]
  },
  {
   "cell_type": "markdown",
   "metadata": {},
   "source": [
    "# Testing with Moons Dataset"
   ]
  },
  {
   "cell_type": "code",
   "execution_count": 67,
   "metadata": {},
   "outputs": [
    {
     "name": "stderr",
     "output_type": "stream",
     "text": [
      "/home/lar/anaconda3/envs/py3.6.2/lib/python3.6/site-packages/sklearn/model_selection/_split.py:2026: FutureWarning: From version 0.21, test_size will always complement train_size unless both are specified.\n",
      "  FutureWarning)\n"
     ]
    },
    {
     "name": "stdout",
     "output_type": "stream",
     "text": [
      "accuracy:  0.93333334\n"
     ]
    }
   ],
   "source": [
    "import numpy as np\n",
    "import tensorflow as tf\n",
    "from sklearn import datasets\n",
    "from sklearn.model_selection import train_test_split\n",
    "from sklearn.utils import shuffle\n",
    "\n",
    "np.random.seed(0)\n",
    "tf.set_random_seed(1234)\n",
    "\n",
    "'''\n",
    "Training Data, Test Data Preparation\n",
    "'''\n",
    "N = 300  # Data Size\n",
    "X, y = datasets.make_moons(N, noise=0.3)\n",
    "Y = y.reshape(N, 1)\n",
    "\n",
    "X_train, X_test, Y_train, Y_test = train_test_split(X, Y, train_size=0.8)\n",
    "\n",
    "\n",
    "'''\n",
    "Model Building\n",
    "'''\n",
    "num_hidden = 3  # Number of Dimension of Hidden Layer\n",
    "# num_hidden = 2\n",
    "\n",
    "x = tf.placeholder(tf.float32, shape=[None, 2])\n",
    "t = tf.placeholder(tf.float32, shape=[None, 1])\n",
    "\n",
    "# Input - Hidden\n",
    "W = tf.Variable(tf.truncated_normal([2, num_hidden]))\n",
    "b = tf.Variable(tf.zeros([num_hidden]))\n",
    "h = tf.nn.sigmoid(tf.matmul(x, W) + b)\n",
    "\n",
    "# Hidden - Output\n",
    "V = tf.Variable(tf.truncated_normal([num_hidden, 1]))\n",
    "c = tf.Variable(tf.zeros([1]))\n",
    "y = tf.nn.sigmoid(tf.matmul(h, V) + c)\n",
    "\n",
    "cross_entropy = - tf.reduce_sum(t * tf.log(y) + (1 - t) * tf.log(1 - y))\n",
    "train_step = tf.train.GradientDescentOptimizer(0.05).minimize(cross_entropy)\n",
    "correct_prediction = tf.equal(tf.to_float(tf.greater(y, 0.5)), t)\n",
    "\n",
    "accuracy = tf.reduce_mean(tf.cast(correct_prediction, tf.float32))\n",
    "\n",
    "'''\n",
    "Model Learning\n",
    "'''\n",
    "batch_size = 20\n",
    "n_batches = N // batch_size\n",
    "\n",
    "init = tf.global_variables_initializer()\n",
    "sess = tf.Session()\n",
    "sess.run(init)\n",
    "\n",
    "for epoch in range(500):\n",
    "    X_, Y_ = shuffle(X_train, Y_train)\n",
    "\n",
    "    for i in range(n_batches):\n",
    "        start = i * batch_size\n",
    "        end = start + batch_size\n",
    "\n",
    "        sess.run(train_step, feed_dict={\n",
    "            x: X_[start:end],\n",
    "            t: Y_[start:end]\n",
    "        })\n",
    "\n",
    "'''\n",
    "Evaluation\n",
    "'''\n",
    "accuracy_rate = accuracy.eval(session=sess, feed_dict={\n",
    "    x: X_test,\n",
    "    t: Y_test\n",
    "})\n",
    "print('accuracy: ', accuracy_rate)"
   ]
  },
  {
   "cell_type": "markdown",
   "metadata": {},
   "source": [
    "# Training and Testing with MNIST Orignial Data"
   ]
  },
  {
   "cell_type": "code",
   "execution_count": 61,
   "metadata": {},
   "outputs": [
    {
     "name": "stderr",
     "output_type": "stream",
     "text": [
      "/home/lar/anaconda3/envs/py3.6.2/lib/python3.6/site-packages/sklearn/model_selection/_split.py:2026: FutureWarning: From version 0.21, test_size will always complement train_size unless both are specified.\n",
      "  FutureWarning)\n"
     ]
    },
    {
     "name": "stdout",
     "output_type": "stream",
     "text": [
      "epoch: 0  loss: 2.3021867  accuracy: 0.11525\n",
      "epoch: 1  loss: 2.3018122  accuracy: 0.11525\n",
      "epoch: 2  loss: 2.3014212  accuracy: 0.11525\n",
      "epoch: 3  loss: 2.3009894  accuracy: 0.11525\n",
      "epoch: 4  loss: 2.3004873  accuracy: 0.11525\n",
      "epoch: 5  loss: 2.299864  accuracy: 0.11525\n",
      "epoch: 6  loss: 2.2990499  accuracy: 0.11525\n",
      "epoch: 7  loss: 2.297917  accuracy: 0.11525\n",
      "epoch: 8  loss: 2.2962322  accuracy: 0.11525\n",
      "epoch: 9  loss: 2.2934604  accuracy: 0.118375\n",
      "epoch: 10  loss: 2.2881455  accuracy: 0.19625\n",
      "epoch: 11  loss: 2.2749128  accuracy: 0.285625\n",
      "epoch: 12  loss: 2.21967  accuracy: 0.275875\n",
      "epoch: 13  loss: 1.955585  accuracy: 0.236625\n",
      "epoch: 14  loss: 1.8271803  accuracy: 0.30775\n",
      "epoch: 15  loss: 1.3660227  accuracy: 0.4705\n",
      "epoch: 16  loss: 1.190868  accuracy: 0.548625\n",
      "epoch: 17  loss: 0.7621454  accuracy: 0.736\n",
      "epoch: 18  loss: 0.61233056  accuracy: 0.80725\n",
      "epoch: 19  loss: 0.550963  accuracy: 0.82975\n",
      "epoch: 20  loss: 0.5032972  accuracy: 0.850625\n",
      "epoch: 21  loss: 0.43840474  accuracy: 0.87525\n",
      "epoch: 22  loss: 0.45044068  accuracy: 0.86025\n",
      "epoch: 23  loss: 0.38614905  accuracy: 0.89\n",
      "epoch: 24  loss: 0.34379044  accuracy: 0.9035\n",
      "epoch: 25  loss: 0.33130926  accuracy: 0.901375\n",
      "epoch: 26  loss: 0.3084093  accuracy: 0.91175\n",
      "epoch: 27  loss: 0.2547863  accuracy: 0.9295\n",
      "epoch: 28  loss: 0.23108868  accuracy: 0.937375\n",
      "epoch: 29  loss: 0.24561225  accuracy: 0.92625\n",
      "epoch: 30  loss: 0.24268964  accuracy: 0.934\n",
      "epoch: 31  loss: 0.17968026  accuracy: 0.952\n",
      "epoch: 32  loss: 0.17272319  accuracy: 0.955375\n",
      "epoch: 33  loss: 0.14297959  accuracy: 0.963375\n",
      "epoch: 34  loss: 0.13577306  accuracy: 0.96525\n",
      "epoch: 35  loss: 0.13238029  accuracy: 0.96525\n",
      "epoch: 36  loss: 0.11342529  accuracy: 0.97175\n",
      "epoch: 37  loss: 0.10031071  accuracy: 0.978\n",
      "epoch: 38  loss: 0.9185948  accuracy: 0.729375\n",
      "epoch: 39  loss: 0.1901246  accuracy: 0.94975\n",
      "epoch: 40  loss: 0.12709151  accuracy: 0.968375\n",
      "epoch: 41  loss: 0.10361673  accuracy: 0.97625\n",
      "epoch: 42  loss: 0.088337004  accuracy: 0.981625\n",
      "epoch: 43  loss: 0.07555725  accuracy: 0.983375\n",
      "epoch: 44  loss: 0.066762045  accuracy: 0.986875\n",
      "epoch: 45  loss: 0.059748724  accuracy: 0.9885\n",
      "epoch: 46  loss: 0.052632667  accuracy: 0.989875\n",
      "epoch: 47  loss: 0.04780354  accuracy: 0.991\n",
      "epoch: 48  loss: 0.050886832  accuracy: 0.9885\n",
      "epoch: 49  loss: nan  accuracy: 0.094375\n",
      "accuracy:  0.0905\n"
     ]
    }
   ],
   "source": [
    "import numpy as np\n",
    "import tensorflow as tf\n",
    "from sklearn import datasets\n",
    "from sklearn.model_selection import train_test_split\n",
    "from sklearn.utils import shuffle\n",
    "\n",
    "np.random.seed(0)\n",
    "tf.set_random_seed(1234)\n",
    "\n",
    "'''\n",
    "MNIST data preparation\n",
    "'''\n",
    "mnist = datasets.fetch_mldata('MNIST original', data_home='.')\n",
    "\n",
    "n = len(mnist.data)\n",
    "N = 10000  # We will use a part of MNIST dataset\n",
    "train_size = 0.8\n",
    "indices = np.random.permutation(range(n))[:N]  # Random number of image\n",
    "\n",
    "X = mnist.data[indices]\n",
    "y = mnist.target[indices]\n",
    "Y = np.eye(10)[y.astype(int)]  # 1-of-K \n",
    "\n",
    "X_train, X_test, Y_train, Y_test =\\\n",
    "    train_test_split(X, Y, train_size=train_size)\n",
    "\n",
    "'''\n",
    "Model Setting\n",
    "'''\n",
    "n_in = len(X[0])  # 784\n",
    "n_hidden = 200\n",
    "n_out = len(Y[0])  # 10\n",
    "\n",
    "x = tf.placeholder(tf.float32, shape=[None, n_in])\n",
    "t = tf.placeholder(tf.float32, shape=[None, n_out])\n",
    "\n",
    "# Input - Hidden\n",
    "W0 = tf.Variable(tf.truncated_normal([n_in, n_hidden], stddev=0.01))\n",
    "b0 = tf.Variable(tf.zeros([n_hidden]))\n",
    "h0 = tf.nn.relu(tf.matmul(x, W0) + b0)\n",
    "\n",
    "# Hidden - Hidden\n",
    "W1 = tf.Variable(tf.truncated_normal([n_hidden, n_hidden], stddev=0.01))\n",
    "b1 = tf.Variable(tf.zeros([n_hidden]))\n",
    "h1 = tf.nn.relu(tf.matmul(h0, W1) + b1)\n",
    "\n",
    "W2 = tf.Variable(tf.truncated_normal([n_hidden, n_hidden], stddev=0.01))\n",
    "b2 = tf.Variable(tf.zeros([n_hidden]))\n",
    "h2 = tf.nn.relu(tf.matmul(h1, W2) + b2)\n",
    "\n",
    "W3 = tf.Variable(tf.truncated_normal([n_hidden, n_hidden], stddev=0.01))\n",
    "b3 = tf.Variable(tf.zeros([n_hidden]))\n",
    "h3 = tf.nn.relu(tf.matmul(h2, W3) + b3)\n",
    "\n",
    "# Hidden - Output\n",
    "W4 = tf.Variable(tf.truncated_normal([n_hidden, n_out], stddev=0.01))\n",
    "b4 = tf.Variable(tf.zeros([n_out]))\n",
    "y = tf.nn.softmax(tf.matmul(h3, W4) + b4)\n",
    "\n",
    "cross_entropy = tf.reduce_mean(-tf.reduce_sum(t * tf.log(y), axis=1))\n",
    "train_step = tf.train.GradientDescentOptimizer(0.01).minimize(cross_entropy)\n",
    "\n",
    "correct_prediction = tf.equal(tf.argmax(y, 1), tf.argmax(t, 1))\n",
    "accuracy = tf.reduce_mean(tf.cast(correct_prediction, tf.float32))\n",
    "\n",
    "'''\n",
    "Model Learning\n",
    "'''\n",
    "epochs = 50\n",
    "batch_size = 200\n",
    "\n",
    "init = tf.global_variables_initializer()\n",
    "sess = tf.Session()\n",
    "sess.run(init)\n",
    "\n",
    "n_batches = (int)(N * train_size) // batch_size\n",
    "\n",
    "for epoch in range(epochs):\n",
    "    X_, Y_ = shuffle(X_train, Y_train)\n",
    "\n",
    "    for i in range(n_batches):\n",
    "        start = i * batch_size\n",
    "        end = start + batch_size\n",
    "\n",
    "        sess.run(train_step, feed_dict={\n",
    "            x: X_[start:end],\n",
    "            t: Y_[start:end]\n",
    "        })\n",
    "\n",
    "    # Calculating loss with Cross Entropy \n",
    "    loss = cross_entropy.eval(session=sess, feed_dict={\n",
    "        x: X_,\n",
    "        t: Y_\n",
    "    })\n",
    "    \n",
    "    # Evaluation with Accuracy\n",
    "    acc = accuracy.eval(session=sess, feed_dict={\n",
    "        x: X_,\n",
    "        t: Y_\n",
    "    })\n",
    "    print('epoch:', epoch, ' loss:', loss, ' accuracy:', acc)\n",
    "\n",
    "'''\n",
    "Prediction Accuracy\n",
    "'''\n",
    "accuracy_rate = accuracy.eval(session=sess, feed_dict={\n",
    "    x: X_test,\n",
    "    t: Y_test\n",
    "})\n",
    "print('accuracy: ', accuracy_rate)"
   ]
  },
  {
   "cell_type": "code",
   "execution_count": null,
   "metadata": {},
   "outputs": [],
   "source": []
  }
 ],
 "metadata": {
  "kernelspec": {
   "display_name": "Python [conda env:py3.6.2]",
   "language": "python",
   "name": "conda-env-py3.6.2-py"
  },
  "language_info": {
   "codemirror_mode": {
    "name": "ipython",
    "version": 3
   },
   "file_extension": ".py",
   "mimetype": "text/x-python",
   "name": "python",
   "nbconvert_exporter": "python",
   "pygments_lexer": "ipython3",
   "version": "3.6.2"
  }
 },
 "nbformat": 4,
 "nbformat_minor": 2
}
